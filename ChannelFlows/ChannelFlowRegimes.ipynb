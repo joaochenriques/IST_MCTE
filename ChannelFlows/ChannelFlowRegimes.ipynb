{
  "nbformat": 4,
  "nbformat_minor": 0,
  "metadata": {
    "colab": {
      "name": "ChannelFlowRegimes.ipynb",
      "provenance": [],
      "authorship_tag": "ABX9TyOL2eAG1FWuu1tTVfoZHw0Y",
      "include_colab_link": true
    },
    "kernelspec": {
      "name": "python3",
      "display_name": "Python 3"
    },
    "language_info": {
      "name": "python"
    }
  },
  "cells": [
    {
      "cell_type": "markdown",
      "metadata": {
        "id": "view-in-github",
        "colab_type": "text"
      },
      "source": [
        "<a href=\"https://colab.research.google.com/github/joaochenriques/MCTE_2022/blob/main/ChannelFlows/ChannelFlowRegimes.ipynb\" target=\"_parent\"><img src=\"https://colab.research.google.com/assets/colab-badge.svg\" alt=\"Open In Colab\"/></a>"
      ]
    },
    {
      "cell_type": "code",
      "execution_count": 1,
      "metadata": {
        "id": "sTyH3LfmbaBD"
      },
      "outputs": [],
      "source": [
        "import numpy as np\n",
        "import matplotlib.pyplot as mpl"
      ]
    },
    {
      "cell_type": "code",
      "source": [
        "import pathlib\n",
        "if not pathlib.Path(\"mpl_utils.py\").exists():\n",
        "  !curl -O https://raw.githubusercontent.com/joaochenriques/MCTE_2022/main/libs/mpl_utils.py &> /dev/null\n",
        "\n",
        "import mpl_utils as mut\n",
        "mut.config_plots()\n",
        "\n",
        "%config InlineBackend.figure_formats = ['svg']"
      ],
      "metadata": {
        "id": "sa5__PHlbdGa"
      },
      "execution_count": 2,
      "outputs": []
    },
    {
      "cell_type": "code",
      "source": [
        ""
      ],
      "metadata": {
        "id": "q_3E2i-DbgVy"
      },
      "execution_count": null,
      "outputs": []
    }
  ]
}