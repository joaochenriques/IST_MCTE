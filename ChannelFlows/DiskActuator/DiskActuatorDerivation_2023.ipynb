{
  "nbformat": 4,
  "nbformat_minor": 0,
  "metadata": {
    "colab": {
      "name": "DiskActuatorDerivation.ipynb",
      "provenance": [],
      "include_colab_link": true
    },
    "kernelspec": {
      "name": "python3",
      "display_name": "Python 3"
    },
    "language_info": {
      "name": "python"
    }
  },
  "cells": [
    {
      "cell_type": "markdown",
      "metadata": {
        "id": "view-in-github",
        "colab_type": "text"
      },
      "source": [
        "<a href=\"https://colab.research.google.com/github/joaochenriques/IST_MCTE/blob/main/ChannelFlows/DiskActuator/DiskActuatorDerivation_2023.ipynb\" target=\"_parent\"><img src=\"https://colab.research.google.com/assets/colab-badge.svg\" alt=\"Open In Colab\"/></a>"
      ]
    },
    {
      "cell_type": "code",
      "metadata": {
        "id": "BmAkVzVmeipL"
      },
      "source": [
        "from sympy import *\n",
        "from sympy.printing.lambdarepr import lambdarepr"
      ],
      "execution_count": null,
      "outputs": []
    },
    {
      "cell_type": "code",
      "metadata": {
        "id": "XKLQk-_egk-f"
      },
      "source": [
        "h1, h2t, h3t, h4, h4t, h4b, h5 = symbols( r\"h_1, h_\\mathrm{2t}, h_\\mathrm{3t}, h_4, h_\\mathrm{4t}, h_\\mathrm{4b}, h_5\" )"
      ],
      "execution_count": null,
      "outputs": []
    },
    {
      "cell_type": "code",
      "metadata": {
        "id": "DwHmqFqWhihr"
      },
      "source": [
        "u1, u2t, u3t, u4b, u4t, u5 = symbols( r\"u_1, u_\\mathrm{2t}, u_\\mathrm{3t}, u_\\mathrm{4b}, u_\\mathrm{4t}, u_5\" )"
      ],
      "execution_count": null,
      "outputs": []
    },
    {
      "cell_type": "code",
      "metadata": {
        "id": "9Xfv1EsAvVLg"
      },
      "source": [
        "ρ, g, T, At, B, b = symbols( r\"\\rho, g, T, A_\\mathrm{t}, B, b\" )"
      ],
      "execution_count": null,
      "outputs": []
    },
    {
      "cell_type": "markdown",
      "metadata": {
        "id": "VnMCLPv_o-OP"
      },
      "source": [
        "Generic definitions used in substitutions"
      ]
    },
    {
      "cell_type": "markdown",
      "metadata": {
        "id": "PbcO62IIoPFs"
      },
      "source": [
        "<img src=\"https://raw.githubusercontent.com/joaochenriques/IST_MCTE/main/ChannelFlows/DiskActuator/figs/sub_domains.svg\" width=\"500px\" style=\"display:inline\">"
      ]
    },
    {
      "cell_type": "code",
      "metadata": {
        "id": "eVIEUqJbkjrn",
        "colab": {
          "base_uri": "https://localhost:8080/",
          "height": 57
        },
        "outputId": "b714459b-f32f-4bcc-f097-fcf0f17cf086"
      },
      "source": [
        "eqA1 = Eq( h1 + u1**2/(2*g), h4 + u4b**2/(2*g) )\n",
        "eqA1"
      ],
      "execution_count": null,
      "outputs": [
        {
          "output_type": "execute_result",
          "data": {
            "text/plain": [
              "Eq(h_1 + u_1**2/(2*g), h_4 + u_\\mathrm{4b}**2/(2*g))"
            ],
            "text/latex": "$\\displaystyle h_{1} + \\frac{u_{1}^{2}}{2 g} = h_{4} + \\frac{u_\\mathrm{4b}^{2}}{2 g}$"
          },
          "metadata": {},
          "execution_count": 5
        }
      ]
    },
    {
      "cell_type": "code",
      "metadata": {
        "id": "CtOFm53Kkw62",
        "colab": {
          "base_uri": "https://localhost:8080/",
          "height": 57
        },
        "outputId": "752193cb-01cc-4f1a-d915-da9a8431c757"
      },
      "source": [
        "eqB1 = Eq( h1 + u1**2/(2*g), h2t + u2t**2/(2*g) )\n",
        "eqB1"
      ],
      "execution_count": null,
      "outputs": [
        {
          "output_type": "execute_result",
          "data": {
            "text/plain": [
              "Eq(h_1 + u_1**2/(2*g), h_\\mathrm{2t} + u_\\mathrm{2t}**2/(2*g))"
            ],
            "text/latex": "$\\displaystyle h_{1} + \\frac{u_{1}^{2}}{2 g} = h_\\mathrm{2t} + \\frac{u_\\mathrm{2t}^{2}}{2 g}$"
          },
          "metadata": {},
          "execution_count": 6
        }
      ]
    },
    {
      "cell_type": "code",
      "metadata": {
        "id": "nCgu5IFZk26N",
        "colab": {
          "base_uri": "https://localhost:8080/",
          "height": 57
        },
        "outputId": "34c1b3a8-cae2-4dee-8357-8387b4064591"
      },
      "source": [
        "eqC1 = Eq( h3t + u3t**2/(2*g), h4 + u4t**2/(2*g) )\n",
        "eqC1"
      ],
      "execution_count": null,
      "outputs": [
        {
          "output_type": "execute_result",
          "data": {
            "text/plain": [
              "Eq(h_\\mathrm{3t} + u_\\mathrm{3t}**2/(2*g), h_4 + u_\\mathrm{4t}**2/(2*g))"
            ],
            "text/latex": "$\\displaystyle h_\\mathrm{3t} + \\frac{u_\\mathrm{3t}^{2}}{2 g} = h_{4} + \\frac{u_\\mathrm{4t}^{2}}{2 g}$"
          },
          "metadata": {},
          "execution_count": 7
        }
      ]
    },
    {
      "cell_type": "code",
      "metadata": {
        "id": "oYkbo3Udk8dd",
        "colab": {
          "base_uri": "https://localhost:8080/",
          "height": 55
        },
        "outputId": "f81a9971-19fb-42a7-ce87-e9e5790d1ed8"
      },
      "source": [
        "eqD1 = Eq( T/(ρ*g*At), (h2t-h3t) )\n",
        "eqD1"
      ],
      "execution_count": null,
      "outputs": [
        {
          "output_type": "execute_result",
          "data": {
            "text/plain": [
              "Eq(T/(A_\\mathrm{t}*\\rho*g), h_\\mathrm{2t} - h_\\mathrm{3t})"
            ],
            "text/latex": "$\\displaystyle \\frac{T}{A_\\mathrm{t} \\rho g} = h_\\mathrm{2t} - h_\\mathrm{3t}$"
          },
          "metadata": {},
          "execution_count": 8
        }
      ]
    },
    {
      "cell_type": "code",
      "metadata": {
        "colab": {
          "base_uri": "https://localhost:8080/",
          "height": 57
        },
        "id": "fXR-jNqDNtfI",
        "outputId": "0aa318f0-bee2-4437-9648-3f19d30bd69b"
      },
      "source": [
        "eqF1 = Eq( eqA1.rhs - eqC1.rhs, eqB1.rhs - eqC1.lhs ).subs( u2t, u3t )\n",
        "eqF1 "
      ],
      "execution_count": null,
      "outputs": [
        {
          "output_type": "execute_result",
          "data": {
            "text/plain": [
              "Eq(u_\\mathrm{4b}**2/(2*g) - u_\\mathrm{4t}**2/(2*g), h_\\mathrm{2t} - h_\\mathrm{3t})"
            ],
            "text/latex": "$\\displaystyle \\frac{u_\\mathrm{4b}^{2}}{2 g} - \\frac{u_\\mathrm{4t}^{2}}{2 g} = h_\\mathrm{2t} - h_\\mathrm{3t}$"
          },
          "metadata": {},
          "execution_count": 9
        }
      ]
    },
    {
      "cell_type": "code",
      "source": [
        "eqG1 = Eq( eqD1.lhs*(ρ*g*At), eqF1.lhs*(ρ*g*At) )\n",
        "eqG1"
      ],
      "metadata": {
        "colab": {
          "base_uri": "https://localhost:8080/",
          "height": 58
        },
        "id": "Kshcju861m1L",
        "outputId": "008b31c8-6cde-48ce-b081-c6e75714e5ba"
      },
      "execution_count": null,
      "outputs": [
        {
          "output_type": "execute_result",
          "data": {
            "text/plain": [
              "Eq(T, A_\\mathrm{t}*\\rho*g*(u_\\mathrm{4b}**2/(2*g) - u_\\mathrm{4t}**2/(2*g)))"
            ],
            "text/latex": "$\\displaystyle T = A_\\mathrm{t} \\rho g \\left(\\frac{u_\\mathrm{4b}^{2}}{2 g} - \\frac{u_\\mathrm{4t}^{2}}{2 g}\\right)$"
          },
          "metadata": {},
          "execution_count": 10
        }
      ]
    },
    {
      "cell_type": "markdown",
      "metadata": {
        "id": "ED6VuDFkwibl"
      },
      "source": [
        "# Mass balance"
      ]
    },
    {
      "cell_type": "code",
      "metadata": {
        "colab": {
          "base_uri": "https://localhost:8080/",
          "height": 37
        },
        "id": "YeLktTPENkkH",
        "outputId": "9f831d98-7f1b-47d2-88c4-af6cd6fc0e07"
      },
      "source": [
        "eqH1 = Eq( u4b * h4b + u4t * h4t, u1*h1 )\n",
        "eqH1"
      ],
      "execution_count": null,
      "outputs": [
        {
          "output_type": "execute_result",
          "data": {
            "text/plain": [
              "Eq(h_\\mathrm{4b}*u_\\mathrm{4b} + h_\\mathrm{4t}*u_\\mathrm{4t}, h_1*u_1)"
            ],
            "text/latex": "$\\displaystyle h_\\mathrm{4b} u_\\mathrm{4b} + h_\\mathrm{4t} u_\\mathrm{4t} = h_{1} u_{1}$"
          },
          "metadata": {},
          "execution_count": 11
        }
      ]
    },
    {
      "cell_type": "markdown",
      "metadata": {
        "id": "dh2m4JXLoqxx"
      },
      "source": [
        "# Momentum balance"
      ]
    },
    {
      "cell_type": "code",
      "metadata": {
        "id": "Lb1Giyebo6Af"
      },
      "source": [
        "b, B = symbols( \"b, B\" )\n",
        "M4t, M4b, M1, Fp4, Fp1 = symbols( \"M_\\mathrm{4t}, M_\\mathrm{4b}, M_{1}, F_\\mathrm{p4}, F_\\mathrm{p1}\")"
      ],
      "execution_count": null,
      "outputs": []
    },
    {
      "cell_type": "code",
      "metadata": {
        "colab": {
          "base_uri": "https://localhost:8080/",
          "height": 37
        },
        "id": "RKX8dqxHNvp3",
        "outputId": "7d1260a5-7150-43c1-e011-0e2ad1d6a87e"
      },
      "source": [
        "eqI1 = Eq( M4b + M4t - M1, -(Fp4-Fp1) - T )\n",
        "eqI1"
      ],
      "execution_count": null,
      "outputs": [
        {
          "output_type": "execute_result",
          "data": {
            "text/plain": [
              "Eq(M_\\mathrm{4b} + M_\\mathrm{4t} - M_{1}, F_\\mathrm{p1} - F_\\mathrm{p4} - T)"
            ],
            "text/latex": "$\\displaystyle M_\\mathrm{4b} + M_\\mathrm{4t} - M_{1} = F_\\mathrm{p1} - F_\\mathrm{p4} - T$"
          },
          "metadata": {},
          "execution_count": 13
        }
      ]
    },
    {
      "cell_type": "code",
      "metadata": {
        "colab": {
          "base_uri": "https://localhost:8080/",
          "height": 58
        },
        "id": "mf90DKLa69wd",
        "outputId": "62e9e79d-a1b0-45f9-dfc9-16ed87864e10"
      },
      "source": [
        "eqI2 = eqI1.subs( M4b, ρ*u4b**2*h4b*b).subs( M4t, ρ*u4t**2*h4t*b)\\\n",
        "          .subs( M1, ρ*u1**2*h1*b ).subs( Fp1, ρ*g*b*h1**2/2 )\\\n",
        "          .subs( Fp4, ρ*g*b*h4**2/2 ).subs( T, eqG1.rhs )\n",
        "eqI2"
      ],
      "execution_count": null,
      "outputs": [
        {
          "output_type": "execute_result",
          "data": {
            "text/plain": [
              "Eq(-\\rho*b*h_1*u_1**2 + \\rho*b*h_\\mathrm{4b}*u_\\mathrm{4b}**2 + \\rho*b*h_\\mathrm{4t}*u_\\mathrm{4t}**2, -A_\\mathrm{t}*\\rho*g*(u_\\mathrm{4b}**2/(2*g) - u_\\mathrm{4t}**2/(2*g)) + \\rho*b*g*h_1**2/2 - \\rho*b*g*h_4**2/2)"
            ],
            "text/latex": "$\\displaystyle - \\rho b h_{1} u_{1}^{2} + \\rho b h_\\mathrm{4b} u_\\mathrm{4b}^{2} + \\rho b h_\\mathrm{4t} u_\\mathrm{4t}^{2} = - A_\\mathrm{t} \\rho g \\left(\\frac{u_\\mathrm{4b}^{2}}{2 g} - \\frac{u_\\mathrm{4t}^{2}}{2 g}\\right) + \\frac{\\rho b g h_{1}^{2}}{2} - \\frac{\\rho b g h_{4}^{2}}{2}$"
          },
          "metadata": {},
          "execution_count": 14
        }
      ]
    },
    {
      "cell_type": "markdown",
      "metadata": {
        "id": "MNMSI3AqoQSQ"
      },
      "source": [
        "Knowing that Blockage factor  $A_\\mathrm{t}=B\\,bh_1$"
      ]
    },
    {
      "cell_type": "code",
      "metadata": {
        "colab": {
          "base_uri": "https://localhost:8080/",
          "height": 54
        },
        "id": "bYrt4jHH9Tpg",
        "outputId": "c724fc80-adb2-4b9e-9457-aa56475b3b6b"
      },
      "source": [
        "eqI3 = expand( Eq( eqI2.lhs / ( ρ*b ), eqI2.rhs / ( ρ*b ) ) ).subs( At, B*b*h1 )\n",
        "eqI3"
      ],
      "execution_count": null,
      "outputs": [
        {
          "output_type": "execute_result",
          "data": {
            "text/plain": [
              "Eq(-h_1*u_1**2 + h_\\mathrm{4b}*u_\\mathrm{4b}**2 + h_\\mathrm{4t}*u_\\mathrm{4t}**2, -B*h_1*u_\\mathrm{4b}**2/2 + B*h_1*u_\\mathrm{4t}**2/2 + g*h_1**2/2 - g*h_4**2/2)"
            ],
            "text/latex": "$\\displaystyle - h_{1} u_{1}^{2} + h_\\mathrm{4b} u_\\mathrm{4b}^{2} + h_\\mathrm{4t} u_\\mathrm{4t}^{2} = - \\frac{B h_{1} u_\\mathrm{4b}^{2}}{2} + \\frac{B h_{1} u_\\mathrm{4t}^{2}}{2} + \\frac{g h_{1}^{2}}{2} - \\frac{g h_{4}^{2}}{2}$"
          },
          "metadata": {},
          "execution_count": 15
        }
      ]
    },
    {
      "cell_type": "markdown",
      "metadata": {
        "id": "Qf5ZZ9xcDZvC"
      },
      "source": [
        "Specifying:\n",
        "\n",
        "* Blockage factor $0 \\le B \\lt 1$\n",
        "* Upstream velocity $u_1$\n",
        "* Bypass velocity $u_\\mathrm{4b}$\n",
        "* $h_4$ is computed from\n",
        "\n",
        "$$ h_4 = \\frac{u_{1}^2}{2g}-\\frac{u_\\mathrm{4b}^2}{2g} + h_1$$"
      ]
    },
    {
      "cell_type": "code",
      "metadata": {
        "colab": {
          "base_uri": "https://localhost:8080/",
          "height": 57
        },
        "id": "BG-to7QfCGo1",
        "outputId": "07adae43-ef4e-43cc-bc3e-a0a59e708642"
      },
      "source": [
        "solh4 = solve( eqA1, h4 )\n",
        "solh4[0]"
      ],
      "execution_count": null,
      "outputs": [
        {
          "output_type": "execute_result",
          "data": {
            "text/plain": [
              "(2*g*h_1 + u_1**2 - u_\\mathrm{4b}**2)/(2*g)"
            ],
            "text/latex": "$\\displaystyle \\frac{2 g h_{1} + u_{1}^{2} - u_\\mathrm{4b}^{2}}{2 g}$"
          },
          "metadata": {},
          "execution_count": 16
        }
      ]
    },
    {
      "cell_type": "code",
      "metadata": {
        "colab": {
          "base_uri": "https://localhost:8080/",
          "height": 38
        },
        "id": "pB_qL7WLGydk",
        "outputId": "e6d2bead-2948-4f20-837c-77ad886b153f"
      },
      "source": [
        "eqJ1 = Eq( h4, h4b+h4t )\n",
        "eqJ1"
      ],
      "execution_count": null,
      "outputs": [
        {
          "output_type": "execute_result",
          "data": {
            "text/plain": [
              "Eq(h_4, h_\\mathrm{4b} + h_\\mathrm{4t})"
            ],
            "text/latex": "$\\displaystyle h_{4} = h_\\mathrm{4b} + h_\\mathrm{4t}$"
          },
          "metadata": {},
          "execution_count": 17
        }
      ]
    },
    {
      "cell_type": "markdown",
      "metadata": {
        "id": "G6oOt6aKOG5W"
      },
      "source": [
        "# Summary of the system of equations to solve"
      ]
    },
    {
      "cell_type": "code",
      "metadata": {
        "colab": {
          "base_uri": "https://localhost:8080/",
          "height": 54
        },
        "id": "qjRGEZGEEBzp",
        "outputId": "76aadabe-89a6-4199-8557-b4252ab16908"
      },
      "source": [
        "eqI3"
      ],
      "execution_count": null,
      "outputs": [
        {
          "output_type": "execute_result",
          "data": {
            "text/plain": [
              "Eq(-h_1*u_1**2 + h_\\mathrm{4b}*u_\\mathrm{4b}**2 + h_\\mathrm{4t}*u_\\mathrm{4t}**2, -B*h_1*u_\\mathrm{4b}**2/2 + B*h_1*u_\\mathrm{4t}**2/2 + g*h_1**2/2 - g*h_4**2/2)"
            ],
            "text/latex": "$\\displaystyle - h_{1} u_{1}^{2} + h_\\mathrm{4b} u_\\mathrm{4b}^{2} + h_\\mathrm{4t} u_\\mathrm{4t}^{2} = - \\frac{B h_{1} u_\\mathrm{4b}^{2}}{2} + \\frac{B h_{1} u_\\mathrm{4t}^{2}}{2} + \\frac{g h_{1}^{2}}{2} - \\frac{g h_{4}^{2}}{2}$"
          },
          "metadata": {},
          "execution_count": 18
        }
      ]
    },
    {
      "cell_type": "code",
      "metadata": {
        "colab": {
          "base_uri": "https://localhost:8080/",
          "height": 38
        },
        "id": "3MqlS8ZKHRsJ",
        "outputId": "ad1fd65f-5e4e-49d6-e7de-ab2e0c5f4ce3"
      },
      "source": [
        "eqH1"
      ],
      "execution_count": null,
      "outputs": [
        {
          "output_type": "execute_result",
          "data": {
            "text/plain": [
              "Eq(h_\\mathrm{4b}*u_\\mathrm{4b} + h_\\mathrm{4t}*u_\\mathrm{4t}, h_1*u_1)"
            ],
            "text/latex": "$\\displaystyle h_\\mathrm{4b} u_\\mathrm{4b} + h_\\mathrm{4t} u_\\mathrm{4t} = h_{1} u_{1}$"
          },
          "metadata": {},
          "execution_count": 19
        }
      ]
    },
    {
      "cell_type": "code",
      "metadata": {
        "colab": {
          "base_uri": "https://localhost:8080/",
          "height": 38
        },
        "id": "OlmByzuiHfgq",
        "outputId": "14222cc1-0ef5-43e0-ce34-e95aa02bf13a"
      },
      "source": [
        "eqJ1"
      ],
      "execution_count": null,
      "outputs": [
        {
          "output_type": "execute_result",
          "data": {
            "text/plain": [
              "Eq(h_4, h_\\mathrm{4b} + h_\\mathrm{4t})"
            ],
            "text/latex": "$\\displaystyle h_{4} = h_\\mathrm{4b} + h_\\mathrm{4t}$"
          },
          "metadata": {},
          "execution_count": 20
        }
      ]
    },
    {
      "cell_type": "markdown",
      "metadata": {
        "id": "GOro_98AOMHR"
      },
      "source": [
        "# Solution of the system of equations for $u_{4t}$"
      ]
    },
    {
      "cell_type": "code",
      "metadata": {
        "id": "Um8bFmc_HiV8"
      },
      "source": [
        "solU4t = solve( [ eqI3, eqH1, eqJ1 ], [u4t,h4b,h4t] )"
      ],
      "execution_count": null,
      "outputs": []
    },
    {
      "cell_type": "code",
      "metadata": {
        "id": "oRqHqMq7DlNd",
        "outputId": "9dc62999-01ef-4b5a-b7a5-60ccf6218f00",
        "colab": {
          "base_uri": "https://localhost:8080/",
          "height": 59
        }
      },
      "source": [
        "solU4t[0][0]"
      ],
      "execution_count": null,
      "outputs": [
        {
          "output_type": "execute_result",
          "data": {
            "text/plain": [
              "(h_1*u_1 - h_4*u_\\mathrm{4b} - sqrt(B**2*h_1**2*u_\\mathrm{4b}**2 - B*g*h_1**3 + B*g*h_1*h_4**2 - 2*B*h_1**2*u_1**2 + 2*B*h_1**2*u_1*u_\\mathrm{4b} + h_1**2*u_1**2 - 2*h_1*h_4*u_1*u_\\mathrm{4b} + h_4**2*u_\\mathrm{4b}**2))/(B*h_1)"
            ],
            "text/latex": "$\\displaystyle \\frac{h_{1} u_{1} - h_{4} u_\\mathrm{4b} - \\sqrt{B^{2} h_{1}^{2} u_\\mathrm{4b}^{2} - B g h_{1}^{3} + B g h_{1} h_{4}^{2} - 2 B h_{1}^{2} u_{1}^{2} + 2 B h_{1}^{2} u_{1} u_\\mathrm{4b} + h_{1}^{2} u_{1}^{2} - 2 h_{1} h_{4} u_{1} u_\\mathrm{4b} + h_{4}^{2} u_\\mathrm{4b}^{2}}}{B h_{1}}$"
          },
          "metadata": {},
          "execution_count": 22
        }
      ]
    },
    {
      "cell_type": "code",
      "metadata": {
        "colab": {
          "base_uri": "https://localhost:8080/",
          "height": 38
        },
        "id": "PYP2inGAf-pu",
        "outputId": "4d893fea-0a86-4dee-b3e5-c377742d32be"
      },
      "source": [
        "C1 = symbols(\"C_1\")\n",
        "SC1 = u1*h1 - h4 * u4b\n",
        "SC1"
      ],
      "execution_count": null,
      "outputs": [
        {
          "output_type": "execute_result",
          "data": {
            "text/plain": [
              "h_1*u_1 - h_4*u_\\mathrm{4b}"
            ],
            "text/latex": "$\\displaystyle h_{1} u_{1} - h_{4} u_\\mathrm{4b}$"
          },
          "metadata": {},
          "execution_count": 23
        }
      ]
    },
    {
      "cell_type": "code",
      "source": [
        "C2 = symbols(\"C_2\")\n",
        "SC2=expand(simplify( (solU4t[0][0]*B*h1-SC1)**2-SC1**2 ))\n",
        "SC2"
      ],
      "metadata": {
        "colab": {
          "base_uri": "https://localhost:8080/",
          "height": 38
        },
        "id": "-8c8kbQa4edo",
        "outputId": "c9b114bd-dab2-4f2b-a3aa-d82e78be75b0"
      },
      "execution_count": null,
      "outputs": [
        {
          "output_type": "execute_result",
          "data": {
            "text/plain": [
              "B**2*h_1**2*u_\\mathrm{4b}**2 - B*g*h_1**3 + B*g*h_1*h_4**2 - 2*B*h_1**2*u_1**2 + 2*B*h_1**2*u_1*u_\\mathrm{4b}"
            ],
            "text/latex": "$\\displaystyle B^{2} h_{1}^{2} u_\\mathrm{4b}^{2} - B g h_{1}^{3} + B g h_{1} h_{4}^{2} - 2 B h_{1}^{2} u_{1}^{2} + 2 B h_{1}^{2} u_{1} u_\\mathrm{4b}$"
          },
          "metadata": {},
          "execution_count": 24
        }
      ]
    },
    {
      "cell_type": "code",
      "metadata": {
        "colab": {
          "base_uri": "https://localhost:8080/",
          "height": 59
        },
        "id": "u2jMMO0aKYwZ",
        "outputId": "3c1d4f44-1d28-46ed-e5fa-606a52446ad9"
      },
      "source": [
        "solU4t[0][0].subs(SC1,C1).subs(SC2,C2).subs(expand(SC1**2),C1**2)"
      ],
      "execution_count": null,
      "outputs": [
        {
          "output_type": "execute_result",
          "data": {
            "text/plain": [
              "(C_1 - sqrt(C_1**2 + C_2))/(B*h_1)"
            ],
            "text/latex": "$\\displaystyle \\frac{C_{1} - \\sqrt{C_{1}^{2} + C_{2}}}{B h_{1}}$"
          },
          "metadata": {},
          "execution_count": 25
        }
      ]
    },
    {
      "cell_type": "code",
      "metadata": {
        "colab": {
          "base_uri": "https://localhost:8080/",
          "height": 59
        },
        "id": "hweJbZDbb8Mg",
        "outputId": "b1d55582-81fd-4230-fb80-226465c029e3"
      },
      "source": [
        "solU4t[1][0].subs(SC1,C1).subs(SC2,C2).subs(expand(SC1**2),C1**2)"
      ],
      "execution_count": null,
      "outputs": [
        {
          "output_type": "execute_result",
          "data": {
            "text/plain": [
              "(C_1 + sqrt(C_1**2 + C_2))/(B*h_1)"
            ],
            "text/latex": "$\\displaystyle \\frac{C_{1} + \\sqrt{C_{1}^{2} + C_{2}}}{B h_{1}}$"
          },
          "metadata": {},
          "execution_count": 26
        }
      ]
    },
    {
      "cell_type": "markdown",
      "metadata": {
        "id": "DH19jaqyORp3"
      },
      "source": [
        "# Computing $h_{4b}$ and $h_{4t}$\n",
        "\n",
        "After computing $u_{4t}$ it is easier to compute $h_{4b}$ and $h_{4t}$ from ```eqH2``` and ```eqJ1``` than using the solutions above.\n"
      ]
    },
    {
      "cell_type": "code",
      "metadata": {
        "colab": {
          "base_uri": "https://localhost:8080/",
          "height": 58
        },
        "id": "u3j5c_Doe87Z",
        "outputId": "202a0db5-0865-4bbc-a151-ceb1eaa9ed40"
      },
      "source": [
        "simplify(solve( [ eqH1, eqJ1 ], [h4b,h4t]))"
      ],
      "execution_count": null,
      "outputs": [
        {
          "output_type": "execute_result",
          "data": {
            "text/plain": [
              "{h_\\mathrm{4b}: (h_1*u_1 - h_4*u_\\mathrm{4t})/(u_\\mathrm{4b} - u_\\mathrm{4t}), h_\\mathrm{4t}: (-h_1*u_1 + h_4*u_\\mathrm{4b})/(u_\\mathrm{4b} - u_\\mathrm{4t})}"
            ],
            "text/latex": "$\\displaystyle \\left\\{ h_\\mathrm{4b} : \\frac{h_{1} u_{1} - h_{4} u_\\mathrm{4t}}{u_\\mathrm{4b} - u_\\mathrm{4t}}, \\  h_\\mathrm{4t} : \\frac{- h_{1} u_{1} + h_{4} u_\\mathrm{4b}}{u_\\mathrm{4b} - u_\\mathrm{4t}}\\right\\}$"
          },
          "metadata": {},
          "execution_count": 27
        }
      ]
    },
    {
      "cell_type": "markdown",
      "metadata": {
        "id": "zSPiASXUJ4fZ"
      },
      "source": [
        "# Selecting the solution with physical meaning\n",
        "\n",
        "Let us show that $C_1$ is always negative which implies that the solution \n",
        "\n",
        "$$u_\\mathrm{4t}=\\dfrac{C_1-\\sqrt{C_1^2+C_2}}{B h_1}, \\tag{1}$$ \n",
        "\n",
        "is **always negative** (invalid).\n",
        "\n",
        "From the mass balance we get\n",
        "\n",
        "$$ u_1 h_1 = u_{4b} h_\\mathrm{4b} + u_\\mathrm{4t} h_\\mathrm{4t}.$$\n",
        "\n",
        "Since $u_\\mathrm{4t} < u_\\mathrm{4b}$ we found that\n",
        "\n",
        "$$ u_1 h_1 = u_\\mathrm{4b} h_\\mathrm{4b} + u_\\mathrm{4t} h_\\mathrm{4t} \\lt u_\\mathrm{4b} h_4.$$\n",
        "\n",
        "thus giving\n",
        "\n",
        "$$ u_1 h_1 - u_\\mathrm{4b} h_4 \\lt 0,$$\n",
        "\n",
        "giving \n",
        "\n",
        "$$C_1 \\lt 0,$$ \n",
        "\n",
        "or equivalently\n",
        "\n",
        "This implies that the solution given by Eq. (1) is always negative\n",
        "\n",
        "$$u_\\mathrm{4t} \\lt 0.$$ "
      ]
    },
    {
      "cell_type": "code",
      "metadata": {
        "id": "3QZEMvxnNKWv",
        "outputId": "7d4556af-4ee7-4497-ff98-ff25153461b9",
        "colab": {
          "base_uri": "https://localhost:8080/",
          "height": 38
        }
      },
      "source": [
        "eqK1 = Eq( u4b * h4b + u4t * h4t, u5*h5 )\n",
        "eqK1"
      ],
      "execution_count": null,
      "outputs": [
        {
          "output_type": "execute_result",
          "data": {
            "text/plain": [
              "Eq(h_\\mathrm{4b}*u_\\mathrm{4b} + h_\\mathrm{4t}*u_\\mathrm{4t}, h_5*u_5)"
            ],
            "text/latex": "$\\displaystyle h_\\mathrm{4b} u_\\mathrm{4b} + h_\\mathrm{4t} u_\\mathrm{4t} = h_{5} u_{5}$"
          },
          "metadata": {},
          "execution_count": 28
        }
      ]
    },
    {
      "cell_type": "code",
      "source": [
        "M5, Fp5 = symbols( \"M_{5}, F_\\mathrm{p5}\" )"
      ],
      "metadata": {
        "id": "o2B5Pj4zs-2X"
      },
      "execution_count": null,
      "outputs": []
    },
    {
      "cell_type": "code",
      "source": [
        "eqL1 = Eq( M5 - M4b - M4t, -(Fp5-Fp4) )\n",
        "eqL1"
      ],
      "metadata": {
        "id": "lonrdTRftMrP",
        "outputId": "e00e5006-9013-4853-eec9-8aa1b8b9a495",
        "colab": {
          "base_uri": "https://localhost:8080/",
          "height": 38
        }
      },
      "execution_count": null,
      "outputs": [
        {
          "output_type": "execute_result",
          "data": {
            "text/plain": [
              "Eq(-M_\\mathrm{4b} - M_\\mathrm{4t} + M_{5}, F_\\mathrm{p4} - F_\\mathrm{p5})"
            ],
            "text/latex": "$\\displaystyle - M_\\mathrm{4b} - M_\\mathrm{4t} + M_{5} = F_\\mathrm{p4} - F_\\mathrm{p5}$"
          },
          "metadata": {},
          "execution_count": 30
        }
      ]
    },
    {
      "cell_type": "code",
      "source": [
        "eqL2 = eqL1.subs( M4b, ρ*u4b**2*h4b*b).subs( M4t, ρ*u4t**2*h4t*b)\\\n",
        "          .subs( M5, ρ*u5**2*h5*b ).subs( Fp5, ρ*g*b*h5**2/2 )\\\n",
        "          .subs( Fp4, ρ*g*b*h4**2/2 )\n",
        "eqL2"
      ],
      "metadata": {
        "id": "OHtoXH0vsyWq",
        "outputId": "bf6032a6-fb36-43ea-a3cf-ae76fd620b20",
        "colab": {
          "base_uri": "https://localhost:8080/",
          "height": 54
        }
      },
      "execution_count": null,
      "outputs": [
        {
          "output_type": "execute_result",
          "data": {
            "text/plain": [
              "Eq(\\rho*b*h_5*u_5**2 - \\rho*b*h_\\mathrm{4b}*u_\\mathrm{4b}**2 - \\rho*b*h_\\mathrm{4t}*u_\\mathrm{4t}**2, \\rho*b*g*h_4**2/2 - \\rho*b*g*h_5**2/2)"
            ],
            "text/latex": "$\\displaystyle \\rho b h_{5} u_{5}^{2} - \\rho b h_\\mathrm{4b} u_\\mathrm{4b}^{2} - \\rho b h_\\mathrm{4t} u_\\mathrm{4t}^{2} = \\frac{\\rho b g h_{4}^{2}}{2} - \\frac{\\rho b g h_{5}^{2}}{2}$"
          },
          "metadata": {},
          "execution_count": 31
        }
      ]
    },
    {
      "cell_type": "markdown",
      "source": [
        "Multipying by $2 h_5/(\\rho g b)$ and ```eqK1``` using yields"
      ],
      "metadata": {
        "id": "oJlfdKT7Os37"
      }
    },
    {
      "cell_type": "code",
      "source": [
        "eqL3 = expand(simplify( Eq( eqL2.lhs*2/(ρ*g*b)*h5 - eqL2.rhs*2/(ρ*g*b)*h5, 0 ) ) )\n",
        "eqL4 = eqL3.subs( eqK1.rhs**2, eqK1.lhs**2 )\n",
        "eqL4"
      ],
      "metadata": {
        "colab": {
          "base_uri": "https://localhost:8080/",
          "height": 60
        },
        "id": "_DCNbgtJ7wJ_",
        "outputId": "1748f93b-fa7a-42b3-9761-f596b5cdcb94"
      },
      "execution_count": null,
      "outputs": [
        {
          "output_type": "execute_result",
          "data": {
            "text/plain": [
              "Eq(-h_4**2*h_5 + h_5**3 - 2*h_5*h_\\mathrm{4b}*u_\\mathrm{4b}**2/g - 2*h_5*h_\\mathrm{4t}*u_\\mathrm{4t}**2/g + 2*(h_\\mathrm{4b}*u_\\mathrm{4b} + h_\\mathrm{4t}*u_\\mathrm{4t})**2/g, 0)"
            ],
            "text/latex": "$\\displaystyle - h_{4}^{2} h_{5} + h_{5}^{3} - \\frac{2 h_{5} h_\\mathrm{4b} u_\\mathrm{4b}^{2}}{g} - \\frac{2 h_{5} h_\\mathrm{4t} u_\\mathrm{4t}^{2}}{g} + \\frac{2 \\left(h_\\mathrm{4b} u_\\mathrm{4b} + h_\\mathrm{4t} u_\\mathrm{4t}\\right)^{2}}{g} = 0$"
          },
          "metadata": {},
          "execution_count": 32
        }
      ]
    },
    {
      "cell_type": "code",
      "source": [
        "sc5 = collect( eqL4.lhs, h5 )\n",
        "sc5"
      ],
      "metadata": {
        "id": "uxemasTVwmFJ",
        "outputId": "71f85f27-86d0-48da-f7b4-4d5bb4359df8",
        "colab": {
          "base_uri": "https://localhost:8080/",
          "height": 61
        }
      },
      "execution_count": null,
      "outputs": [
        {
          "output_type": "execute_result",
          "data": {
            "text/plain": [
              "h_5**3 + h_5*(-h_4**2 - 2*h_\\mathrm{4b}*u_\\mathrm{4b}**2/g - 2*h_\\mathrm{4t}*u_\\mathrm{4t}**2/g) + 2*(h_\\mathrm{4b}*u_\\mathrm{4b} + h_\\mathrm{4t}*u_\\mathrm{4t})**2/g"
            ],
            "text/latex": "$\\displaystyle h_{5}^{3} + h_{5} \\left(- h_{4}^{2} - \\frac{2 h_\\mathrm{4b} u_\\mathrm{4b}^{2}}{g} - \\frac{2 h_\\mathrm{4t} u_\\mathrm{4t}^{2}}{g}\\right) + \\frac{2 \\left(h_\\mathrm{4b} u_\\mathrm{4b} + h_\\mathrm{4t} u_\\mathrm{4t}\\right)^{2}}{g}$"
          },
          "metadata": {},
          "execution_count": 33
        }
      ]
    },
    {
      "cell_type": "markdown",
      "source": [
        "The previous cubic equation can be solved with the Cardano's solution "
      ],
      "metadata": {
        "id": "y3vSMEtrTGqY"
      }
    }
  ]
}