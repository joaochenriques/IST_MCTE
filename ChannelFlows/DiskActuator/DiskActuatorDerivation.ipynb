{
  "nbformat": 4,
  "nbformat_minor": 0,
  "metadata": {
    "colab": {
      "name": "DiskActuatorDerivation.ipynb",
      "provenance": [],
      "include_colab_link": true
    },
    "kernelspec": {
      "name": "python3",
      "display_name": "Python 3"
    },
    "language_info": {
      "name": "python"
    }
  },
  "cells": [
    {
      "cell_type": "markdown",
      "metadata": {
        "id": "view-in-github",
        "colab_type": "text"
      },
      "source": [
        "<a href=\"https://colab.research.google.com/github/joaochenriques/MCTE_2022/blob/main/ChannelFlows/DiskActuator/DiskActuatorDerivation.ipynb\" target=\"_parent\"><img src=\"https://colab.research.google.com/assets/colab-badge.svg\" alt=\"Open In Colab\"/></a>"
      ]
    },
    {
      "cell_type": "code",
      "metadata": {
        "id": "BmAkVzVmeipL"
      },
      "source": [
        "from sympy import *"
      ],
      "execution_count": null,
      "outputs": []
    },
    {
      "cell_type": "code",
      "metadata": {
        "id": "XKLQk-_egk-f"
      },
      "source": [
        "h1, h2t, h3t, h4, h4t, h4b = symbols( r\"h_1, h_\\mathrm{2t}, h_\\mathrm{3t}, h_4, h_\\mathrm{4t}, h_\\mathrm{4b}\" )"
      ],
      "execution_count": null,
      "outputs": []
    },
    {
      "cell_type": "code",
      "metadata": {
        "id": "DwHmqFqWhihr"
      },
      "source": [
        "u1, u2t, u3t, u4b, u4t = symbols( r\"u_1, u_\\mathrm{2t}, u_\\mathrm{3t}, u_\\mathrm{4b}, u_\\mathrm{4t}\" )"
      ],
      "execution_count": null,
      "outputs": []
    },
    {
      "cell_type": "markdown",
      "metadata": {
        "id": "tZUEU50ahL-r"
      },
      "source": [
        "The dimensionless depth $\\zeta_i$ is defined has\n",
        "\n",
        "$$\\zeta_i=\\dfrac{h_i}{h_1}.$$"
      ]
    },
    {
      "cell_type": "code",
      "metadata": {
        "id": "q-PTIecNnqxa"
      },
      "source": [
        "ζ1, ζ2t, ζ3t, ζ4, ζ4t, ζ4b = symbols( r\"\\zeta_1, \\zeta_\\mathrm{2t}, \\zeta_\\mathrm{3t}, \\zeta_4, \\zeta_\\mathrm{4t}, \\zeta_\\mathrm{4b}\")"
      ],
      "execution_count": null,
      "outputs": []
    },
    {
      "cell_type": "markdown",
      "metadata": {
        "id": "4QSX6BHrgeAh"
      },
      "source": [
        "Froude numbers are based on the depth of the undisturbed flow $h_1$, i.e.,\n",
        "\n",
        "$$\\mathrm{Fr}_{u_i}=\\dfrac{u_i}{\\sqrt{gh_1}}.$$"
      ]
    },
    {
      "cell_type": "code",
      "metadata": {
        "id": "5uO0Dv8cmlUN"
      },
      "source": [
        "Fr1 = symbols( r\"\\mathrm{Fr}_{1}\")\n",
        "Fr2t, Fr3t = symbols( r\"\\mathrm{Fr}_\\mathrm{2t}, \\mathrm{Fr}_\\mathrm{3t}\")\n",
        "Fr4b, Fr4t = symbols( r\"\\mathrm{Fr}_\\mathrm{4b}, \\mathrm{Fr}_\\mathrm{4t}\")"
      ],
      "execution_count": null,
      "outputs": []
    },
    {
      "cell_type": "code",
      "metadata": {
        "id": "9Xfv1EsAvVLg"
      },
      "source": [
        "ρ, g, T, At, C_T, C_P = symbols( r\"\\rho, g, T, A_\\mathrm{t}, C_\\mathrm{T}, C_\\mathrm{P}\" )"
      ],
      "execution_count": null,
      "outputs": []
    },
    {
      "cell_type": "markdown",
      "metadata": {
        "id": "VnMCLPv_o-OP"
      },
      "source": [
        "Generic definitions used in substitutions"
      ]
    },
    {
      "cell_type": "code",
      "metadata": {
        "id": "frtwFIbzlfIz"
      },
      "source": [
        "zetas = { h2t/h1: ζ2t, h3t/h1: ζ3t, h4/h1: ζ4, h4t/h1: ζ4t, h4b/h1: ζ4b }\n",
        "\n",
        "Froudes = { ( u1  / sqrt(g*h1) ): Fr1,\n",
        "            ( u4t / sqrt(g*h1) ): Fr4t, \n",
        "            ( u4b / sqrt(g*h1) ): Fr4b }\n",
        "\n",
        "Sqr_Froudes = { ( u1 **2 / (g*h1) ): Fr1 **2, \n",
        "                ( u2t**2 / (g*h1) ): Fr2t**2,\n",
        "                ( u3t**2 / (g*h1) ): Fr3t**2,\n",
        "                ( u4b**2 / (g*h1) ): Fr4b**2,\n",
        "                ( u4t**2 / (g*h1) ): Fr4t**2 }"
      ],
      "execution_count": null,
      "outputs": []
    },
    {
      "cell_type": "markdown",
      "metadata": {
        "id": "PbcO62IIoPFs"
      },
      "source": [
        "# Bernoulli equations \n",
        "\n",
        "<img src=\"https://raw.githubusercontent.com/joaochenriques/MCTE_2020_2021/main/DiskActuator/figs/domain_V2.svg\" width=\"500px\" style=\"display:inline\">"
      ]
    },
    {
      "cell_type": "code",
      "metadata": {
        "id": "eVIEUqJbkjrn",
        "colab": {
          "base_uri": "https://localhost:8080/",
          "height": 57
        },
        "outputId": "ef0d6a69-d5d4-4770-d523-38130de847cc"
      },
      "source": [
        "eqA1 = Eq( h1 + u1**2/(2*g), h4 + u4b**2/(2*g) )\n",
        "eqA1"
      ],
      "execution_count": null,
      "outputs": [
        {
          "output_type": "execute_result",
          "data": {
            "text/latex": "$\\displaystyle h_{1} + \\frac{u_{1}^{2}}{2 g} = h_{4} + \\frac{u_\\mathrm{4b}^{2}}{2 g}$",
            "text/plain": [
              "Eq(h_1 + u_1**2/(2*g), h_4 + u_\\mathrm{4b}**2/(2*g))"
            ]
          },
          "metadata": {
            "tags": []
          },
          "execution_count": 8
        }
      ]
    },
    {
      "cell_type": "code",
      "metadata": {
        "colab": {
          "base_uri": "https://localhost:8080/",
          "height": 55
        },
        "id": "nw_aIxVBhz4C",
        "outputId": "caeaf9c7-1486-40bc-d8d7-6f3329e054e7"
      },
      "source": [
        "eqA2 = expand(Eq( eqA1.lhs / h1, eqA1.rhs / h1  ) )\\\n",
        "          .subs( zetas )\\\n",
        "          .subs( Sqr_Froudes )\n",
        "eqA2"
      ],
      "execution_count": null,
      "outputs": [
        {
          "output_type": "execute_result",
          "data": {
            "text/latex": "$\\displaystyle \\frac{\\mathrm{Fr}_{1}^{2}}{2} + 1 = \\frac{\\mathrm{Fr}_\\mathrm{4b}^{2}}{2} + \\zeta_{4}$",
            "text/plain": [
              "Eq(\\mathrm{Fr}_{1}**2/2 + 1, \\mathrm{Fr}_\\mathrm{4b}**2/2 + \\zeta_4)"
            ]
          },
          "metadata": {
            "tags": []
          },
          "execution_count": 9
        }
      ]
    },
    {
      "cell_type": "code",
      "metadata": {
        "id": "CtOFm53Kkw62",
        "colab": {
          "base_uri": "https://localhost:8080/",
          "height": 57
        },
        "outputId": "f505ceff-966c-46d3-d03e-8d0738578df5"
      },
      "source": [
        "eqB1 = Eq( h1 + u1**2/(2*g), h2t + u2t**2/(2*g) )\n",
        "eqB1"
      ],
      "execution_count": null,
      "outputs": [
        {
          "output_type": "execute_result",
          "data": {
            "text/latex": "$\\displaystyle h_{1} + \\frac{u_{1}^{2}}{2 g} = h_\\mathrm{2t} + \\frac{u_\\mathrm{2t}^{2}}{2 g}$",
            "text/plain": [
              "Eq(h_1 + u_1**2/(2*g), h_\\mathrm{2t} + u_\\mathrm{2t}**2/(2*g))"
            ]
          },
          "metadata": {
            "tags": []
          },
          "execution_count": 10
        }
      ]
    },
    {
      "cell_type": "code",
      "metadata": {
        "id": "BLZhgtwklESG",
        "colab": {
          "base_uri": "https://localhost:8080/",
          "height": 55
        },
        "outputId": "d9dd912e-df9b-4fb2-e923-64fd4e0c7565"
      },
      "source": [
        "eqB2 = expand(Eq( eqB1.lhs / h1, eqB1.rhs / h1  ) )\\\n",
        "          .subs( zetas )\\\n",
        "          .subs( Sqr_Froudes )\n",
        "eqB2"
      ],
      "execution_count": null,
      "outputs": [
        {
          "output_type": "execute_result",
          "data": {
            "text/latex": "$\\displaystyle \\frac{\\mathrm{Fr}_{1}^{2}}{2} + 1 = \\frac{\\mathrm{Fr}_\\mathrm{2t}^{2}}{2} + \\zeta_\\mathrm{2t}$",
            "text/plain": [
              "Eq(\\mathrm{Fr}_{1}**2/2 + 1, \\mathrm{Fr}_\\mathrm{2t}**2/2 + \\zeta_\\mathrm{2t})"
            ]
          },
          "metadata": {
            "tags": []
          },
          "execution_count": 11
        }
      ]
    },
    {
      "cell_type": "code",
      "metadata": {
        "id": "nCgu5IFZk26N",
        "colab": {
          "base_uri": "https://localhost:8080/",
          "height": 57
        },
        "outputId": "d155f8e0-191c-4af5-e1a4-442700462a8c"
      },
      "source": [
        "eqC1 = Eq( h3t + u3t**2/(2*g), h4 + u4t**2/(2*g) )\n",
        "eqC1"
      ],
      "execution_count": null,
      "outputs": [
        {
          "output_type": "execute_result",
          "data": {
            "text/latex": "$\\displaystyle h_\\mathrm{3t} + \\frac{u_\\mathrm{3t}^{2}}{2 g} = h_{4} + \\frac{u_\\mathrm{4t}^{2}}{2 g}$",
            "text/plain": [
              "Eq(h_\\mathrm{3t} + u_\\mathrm{3t}**2/(2*g), h_4 + u_\\mathrm{4t}**2/(2*g))"
            ]
          },
          "metadata": {
            "tags": []
          },
          "execution_count": 12
        }
      ]
    },
    {
      "cell_type": "code",
      "metadata": {
        "colab": {
          "base_uri": "https://localhost:8080/",
          "height": 55
        },
        "id": "KFAswnKO6bno",
        "outputId": "8d3b728d-41f3-4cd3-fdba-ec82e6a97484"
      },
      "source": [
        "eqC2 = expand(Eq( eqC1.lhs / h1, eqC1.rhs / h1  ) )\\\n",
        "          .subs( zetas )\\\n",
        "          .subs( Sqr_Froudes )\n",
        "eqC2"
      ],
      "execution_count": null,
      "outputs": [
        {
          "output_type": "execute_result",
          "data": {
            "text/latex": "$\\displaystyle \\frac{\\mathrm{Fr}_\\mathrm{3t}^{2}}{2} + \\zeta_\\mathrm{3t} = \\frac{\\mathrm{Fr}_\\mathrm{4t}^{2}}{2} + \\zeta_{4}$",
            "text/plain": [
              "Eq(\\mathrm{Fr}_\\mathrm{3t}**2/2 + \\zeta_\\mathrm{3t}, \\mathrm{Fr}_\\mathrm{4t}**2/2 + \\zeta_4)"
            ]
          },
          "metadata": {
            "tags": []
          },
          "execution_count": 13
        }
      ]
    },
    {
      "cell_type": "markdown",
      "metadata": {
        "id": "xQEdKu1Owra8"
      },
      "source": [
        "# Force on the turbine\n",
        "\n",
        "<img src=\"https://raw.githubusercontent.com/joaochenriques/MCTE_2020_2021/main/DiskActuator/figs/Turbine.svg\" width=\"200px\" style=\"display:inline\">"
      ]
    },
    {
      "cell_type": "code",
      "metadata": {
        "id": "oYkbo3Udk8dd",
        "colab": {
          "base_uri": "https://localhost:8080/",
          "height": 38
        },
        "outputId": "8278b910-39a0-4bad-ccb7-310e16b5ae39"
      },
      "source": [
        "eqD1 = Eq( T, ρ*g*(h2t-h3t)*At )\n",
        "eqD1"
      ],
      "execution_count": null,
      "outputs": [
        {
          "output_type": "execute_result",
          "data": {
            "text/latex": "$\\displaystyle T = A_\\mathrm{t} \\rho g \\left(h_\\mathrm{2t} - h_\\mathrm{3t}\\right)$",
            "text/plain": [
              "Eq(T, A_\\mathrm{t}*\\rho*g*(h_\\mathrm{2t} - h_\\mathrm{3t}))"
            ]
          },
          "metadata": {
            "tags": []
          },
          "execution_count": 14
        }
      ]
    },
    {
      "cell_type": "code",
      "metadata": {
        "id": "06vuDtdilvXm",
        "colab": {
          "base_uri": "https://localhost:8080/",
          "height": 55
        },
        "outputId": "03c511b5-d688-46c1-f0e7-d8e29a1510ea"
      },
      "source": [
        "eqD2 = expand( Eq( eqD1.lhs / ( ρ*g*At*h1 ), eqD1.rhs / ( ρ*g*At*h1 ) ) ).subs( zetas )\n",
        "eqD3 = eqD2.subs( T, ρ*u1**2*At/2 * C_T )\n",
        "eqD4 = eqD3.subs( Sqr_Froudes )\n",
        "eqD4"
      ],
      "execution_count": null,
      "outputs": [
        {
          "output_type": "execute_result",
          "data": {
            "text/latex": "$\\displaystyle \\frac{C_\\mathrm{T} \\mathrm{Fr}_{1}^{2}}{2} = \\zeta_\\mathrm{2t} - \\zeta_\\mathrm{3t}$",
            "text/plain": [
              "Eq(C_\\mathrm{T}*\\mathrm{Fr}_{1}**2/2, \\zeta_\\mathrm{2t} - \\zeta_\\mathrm{3t})"
            ]
          },
          "metadata": {
            "tags": []
          },
          "execution_count": 15
        }
      ]
    },
    {
      "cell_type": "code",
      "metadata": {
        "colab": {
          "base_uri": "https://localhost:8080/",
          "height": 54
        },
        "id": "hPtYNYJUNNA2",
        "outputId": "e1e5edb7-48df-4147-d859-a6d267d966b2"
      },
      "source": [
        "eqE1 = Eq( C_P, C_T * u2t / u1 ).subs( u2t/u1, Fr2t/Fr1 )\n",
        "eqE1"
      ],
      "execution_count": null,
      "outputs": [
        {
          "output_type": "execute_result",
          "data": {
            "text/latex": "$\\displaystyle C_\\mathrm{P} = \\frac{C_\\mathrm{T} \\mathrm{Fr}_\\mathrm{2t}}{\\mathrm{Fr}_{1}}$",
            "text/plain": [
              "Eq(C_\\mathrm{P}, C_\\mathrm{T}*\\mathrm{Fr}_\\mathrm{2t}/\\mathrm{Fr}_{1})"
            ]
          },
          "metadata": {
            "tags": []
          },
          "execution_count": 16
        }
      ]
    },
    {
      "cell_type": "markdown",
      "metadata": {
        "id": "CqGZfXE-aZK0"
      },
      "source": [
        "Since $u_\\mathrm{2t}=u_\\mathrm{3t}$ the\n",
        "\n",
        "$$\\mathrm{Fr}_\\mathrm{2t}=\\mathrm{Fr}_\\mathrm{3t}$$"
      ]
    },
    {
      "cell_type": "code",
      "metadata": {
        "colab": {
          "base_uri": "https://localhost:8080/",
          "height": 55
        },
        "id": "fXR-jNqDNtfI",
        "outputId": "46bdb257-0b2b-4e5b-fbe4-ea541f51663a"
      },
      "source": [
        "eqF1 = Eq( eqA2.rhs - eqC2.rhs, eqB2.rhs - eqC2.lhs ).subs( Fr2t, Fr3t )\n",
        "eqF1 "
      ],
      "execution_count": null,
      "outputs": [
        {
          "output_type": "execute_result",
          "data": {
            "text/latex": "$\\displaystyle \\frac{\\mathrm{Fr}_\\mathrm{4b}^{2}}{2} - \\frac{\\mathrm{Fr}_\\mathrm{4t}^{2}}{2} = \\zeta_\\mathrm{2t} - \\zeta_\\mathrm{3t}$",
            "text/plain": [
              "Eq(\\mathrm{Fr}_\\mathrm{4b}**2/2 - \\mathrm{Fr}_\\mathrm{4t}**2/2, \\zeta_\\mathrm{2t} - \\zeta_\\mathrm{3t})"
            ]
          },
          "metadata": {
            "tags": []
          },
          "execution_count": 17
        }
      ]
    },
    {
      "cell_type": "code",
      "metadata": {
        "colab": {
          "base_uri": "https://localhost:8080/",
          "height": 38
        },
        "id": "7mzwlbgNbP1R",
        "outputId": "776ad97a-4b25-4da9-e878-483fe923c542"
      },
      "source": [
        "eqG1 = Eq( eqD4.lhs * 2, eqF1.lhs * 2 )\n",
        "eqG1"
      ],
      "execution_count": null,
      "outputs": [
        {
          "output_type": "execute_result",
          "data": {
            "text/latex": "$\\displaystyle C_\\mathrm{T} \\mathrm{Fr}_{1}^{2} = \\mathrm{Fr}_\\mathrm{4b}^{2} - \\mathrm{Fr}_\\mathrm{4t}^{2}$",
            "text/plain": [
              "Eq(C_\\mathrm{T}*\\mathrm{Fr}_{1}**2, \\mathrm{Fr}_\\mathrm{4b}**2 - \\mathrm{Fr}_\\mathrm{4t}**2)"
            ]
          },
          "metadata": {
            "tags": []
          },
          "execution_count": 18
        }
      ]
    },
    {
      "cell_type": "markdown",
      "metadata": {
        "id": "ED6VuDFkwibl"
      },
      "source": [
        "# Mass balance"
      ]
    },
    {
      "cell_type": "code",
      "metadata": {
        "colab": {
          "base_uri": "https://localhost:8080/",
          "height": 38
        },
        "id": "YeLktTPENkkH",
        "outputId": "99d90bdf-3c5c-420a-c844-e5f7bda8bbb4"
      },
      "source": [
        "eqH1 = Eq( u4b * h4b + u4t * h4t, u1*h1 )\n",
        "eqH1"
      ],
      "execution_count": null,
      "outputs": [
        {
          "output_type": "execute_result",
          "data": {
            "text/latex": "$\\displaystyle h_\\mathrm{4b} u_\\mathrm{4b} + h_\\mathrm{4t} u_\\mathrm{4t} = h_{1} u_{1}$",
            "text/plain": [
              "Eq(h_\\mathrm{4b}*u_\\mathrm{4b} + h_\\mathrm{4t}*u_\\mathrm{4t}, h_1*u_1)"
            ]
          },
          "metadata": {
            "tags": []
          },
          "execution_count": 19
        }
      ]
    },
    {
      "cell_type": "code",
      "metadata": {
        "colab": {
          "base_uri": "https://localhost:8080/",
          "height": 38
        },
        "id": "Rv82tY9wcodd",
        "outputId": "5382c019-9bb2-4664-db0c-c1b99d599186"
      },
      "source": [
        "eqH2 = expand( Eq( eqH1.lhs / ( h1*sqrt(g*h1) ), eqH1.rhs / ( h1*sqrt(g*h1) ) ) )\\\n",
        "          .subs( zetas )\\\n",
        "          .subs( Froudes )\n",
        "eqH2"
      ],
      "execution_count": null,
      "outputs": [
        {
          "output_type": "execute_result",
          "data": {
            "text/latex": "$\\displaystyle \\mathrm{Fr}_\\mathrm{4b} \\zeta_\\mathrm{4b} + \\mathrm{Fr}_\\mathrm{4t} \\zeta_\\mathrm{4t} = \\mathrm{Fr}_{1}$",
            "text/plain": [
              "Eq(\\mathrm{Fr}_\\mathrm{4b}*\\zeta_\\mathrm{4b} + \\mathrm{Fr}_\\mathrm{4t}*\\zeta_\\mathrm{4t}, \\mathrm{Fr}_{1})"
            ]
          },
          "metadata": {
            "tags": []
          },
          "execution_count": 20
        }
      ]
    },
    {
      "cell_type": "markdown",
      "metadata": {
        "id": "dh2m4JXLoqxx"
      },
      "source": [
        "# Momentum balance"
      ]
    },
    {
      "cell_type": "code",
      "metadata": {
        "id": "Lb1Giyebo6Af"
      },
      "source": [
        "b, B = symbols( \"b, B\" )\n",
        "M4t, M4b, M1, Fp4, Fp1 = symbols( \"M_\\mathrm{4t}, M_\\mathrm{4b}, M_{1}, F_\\mathrm{p4}, F_\\mathrm{p1}\")"
      ],
      "execution_count": null,
      "outputs": []
    },
    {
      "cell_type": "code",
      "metadata": {
        "colab": {
          "base_uri": "https://localhost:8080/",
          "height": 38
        },
        "id": "RKX8dqxHNvp3",
        "outputId": "e04d3ebd-0f4a-445b-b433-736454d4a673"
      },
      "source": [
        "eqI1 = Eq( M4b + M4t - M1, -(Fp4-Fp1) - T )\n",
        "eqI1"
      ],
      "execution_count": null,
      "outputs": [
        {
          "output_type": "execute_result",
          "data": {
            "text/latex": "$\\displaystyle M_\\mathrm{4b} + M_\\mathrm{4t} - M_{1} = F_\\mathrm{p1} - F_\\mathrm{p4} - T$",
            "text/plain": [
              "Eq(M_\\mathrm{4b} + M_\\mathrm{4t} - M_{1}, F_\\mathrm{p1} - F_\\mathrm{p4} - T)"
            ]
          },
          "metadata": {
            "tags": []
          },
          "execution_count": 22
        }
      ]
    },
    {
      "cell_type": "code",
      "metadata": {
        "colab": {
          "base_uri": "https://localhost:8080/",
          "height": 54
        },
        "id": "mf90DKLa69wd",
        "outputId": "28b5f7cd-328f-4137-a61d-1ddc8de81f61"
      },
      "source": [
        "eqI2 = eqI1.subs( M4b, ρ*u4b**2*h4b*b).subs( M4t, ρ*u4t**2*h4t*b)\\\n",
        "          .subs( M1, ρ*u1**2*h1*b ).subs( Fp1, ρ*g*b*h1**2/2 )\\\n",
        "          .subs( Fp4, ρ*g*b*h4**2/2 ).subs( T, C_T*ρ*u1**2*At/2)\n",
        "eqI2"
      ],
      "execution_count": null,
      "outputs": [
        {
          "output_type": "execute_result",
          "data": {
            "text/latex": "$\\displaystyle - \\rho b h_{1} u_{1}^{2} + \\rho b h_\\mathrm{4b} u_\\mathrm{4b}^{2} + \\rho b h_\\mathrm{4t} u_\\mathrm{4t}^{2} = - \\frac{A_\\mathrm{t} C_\\mathrm{T} \\rho u_{1}^{2}}{2} + \\frac{\\rho b g h_{1}^{2}}{2} - \\frac{\\rho b g h_{4}^{2}}{2}$",
            "text/plain": [
              "Eq(-\\rho*b*h_1*u_1**2 + \\rho*b*h_\\mathrm{4b}*u_\\mathrm{4b}**2 + \\rho*b*h_\\mathrm{4t}*u_\\mathrm{4t}**2, -A_\\mathrm{t}*C_\\mathrm{T}*\\rho*u_1**2/2 + \\rho*b*g*h_1**2/2 - \\rho*b*g*h_4**2/2)"
            ]
          },
          "metadata": {
            "tags": []
          },
          "execution_count": 23
        }
      ]
    },
    {
      "cell_type": "markdown",
      "metadata": {
        "id": "MNMSI3AqoQSQ"
      },
      "source": [
        "Knowing that Blockage factor  $A_\\mathrm{t}=B\\,bh_1$"
      ]
    },
    {
      "cell_type": "code",
      "metadata": {
        "colab": {
          "base_uri": "https://localhost:8080/",
          "height": 55
        },
        "id": "bYrt4jHH9Tpg",
        "outputId": "f995bafe-3b9f-46e3-c276-9ab51e152a3e"
      },
      "source": [
        "eqI3 = expand( Eq( eqI2.lhs / ( ρ*g*h1**2*b ), eqI2.rhs / ( ρ*g*h1**2*b ) ) )\n",
        "eqI4 = eqI3.subs( zetas ).subs( Sqr_Froudes ).subs( b*h1, At/B)\n",
        "eqI4"
      ],
      "execution_count": null,
      "outputs": [
        {
          "output_type": "execute_result",
          "data": {
            "text/latex": "$\\displaystyle \\mathrm{Fr}_\\mathrm{4b}^{2} \\zeta_\\mathrm{4b} + \\mathrm{Fr}_\\mathrm{4t}^{2} \\zeta_\\mathrm{4t} - \\mathrm{Fr}_{1}^{2} = - \\frac{B C_\\mathrm{T} \\mathrm{Fr}_{1}^{2}}{2} - \\frac{\\zeta_{4}^{2}}{2} + \\frac{1}{2}$",
            "text/plain": [
              "Eq(\\mathrm{Fr}_\\mathrm{4b}**2*\\zeta_\\mathrm{4b} + \\mathrm{Fr}_\\mathrm{4t}**2*\\zeta_\\mathrm{4t} - \\mathrm{Fr}_{1}**2, -B*C_\\mathrm{T}*\\mathrm{Fr}_{1}**2/2 - \\zeta_4**2/2 + 1/2)"
            ]
          },
          "metadata": {
            "tags": []
          },
          "execution_count": 24
        }
      ]
    },
    {
      "cell_type": "code",
      "metadata": {
        "colab": {
          "base_uri": "https://localhost:8080/",
          "height": 56
        },
        "id": "AExf6ouj_L1n",
        "outputId": "c8c08185-3c23-48c9-ee40-8f42a14b2039"
      },
      "source": [
        "eqI5 = eqI4.subs( eqG1.lhs, eqG1.rhs )\n",
        "eqI5"
      ],
      "execution_count": null,
      "outputs": [
        {
          "output_type": "execute_result",
          "data": {
            "text/latex": "$\\displaystyle \\mathrm{Fr}_\\mathrm{4b}^{2} \\zeta_\\mathrm{4b} + \\mathrm{Fr}_\\mathrm{4t}^{2} \\zeta_\\mathrm{4t} - \\mathrm{Fr}_{1}^{2} = - \\frac{B \\left(\\mathrm{Fr}_\\mathrm{4b}^{2} - \\mathrm{Fr}_\\mathrm{4t}^{2}\\right)}{2} - \\frac{\\zeta_{4}^{2}}{2} + \\frac{1}{2}$",
            "text/plain": [
              "Eq(\\mathrm{Fr}_\\mathrm{4b}**2*\\zeta_\\mathrm{4b} + \\mathrm{Fr}_\\mathrm{4t}**2*\\zeta_\\mathrm{4t} - \\mathrm{Fr}_{1}**2, -B*(\\mathrm{Fr}_\\mathrm{4b}**2 - \\mathrm{Fr}_\\mathrm{4t}**2)/2 - \\zeta_4**2/2 + 1/2)"
            ]
          },
          "metadata": {
            "tags": []
          },
          "execution_count": 25
        }
      ]
    },
    {
      "cell_type": "markdown",
      "metadata": {
        "id": "Qf5ZZ9xcDZvC"
      },
      "source": [
        "Specifying:\n",
        "\n",
        "* Blockage factor $0 \\le B \\lt 1$\n",
        "* Upstream Froude number $\\mathrm{Fr}_1$\n",
        "* Bypass Froude number $\\mathrm{Fr}_\\mathrm{4b}$\n",
        "* $\\eta_4$ is computed from\n",
        "\n",
        "$$ \\eta_4 = \\frac{\\mathrm{Fr}_{1}^2}{2}-\\frac{\\mathrm{Fr}_\\mathrm{4b}^2}{2} + 1$$"
      ]
    },
    {
      "cell_type": "code",
      "metadata": {
        "colab": {
          "base_uri": "https://localhost:8080/",
          "height": 55
        },
        "id": "BG-to7QfCGo1",
        "outputId": "04b36983-3379-4cfd-8fcf-a1b4eabbabcd"
      },
      "source": [
        "solζ4 = solve( eqA2, ζ4 )\n",
        "solζ4[0]"
      ],
      "execution_count": null,
      "outputs": [
        {
          "output_type": "execute_result",
          "data": {
            "text/latex": "$\\displaystyle - \\frac{\\mathrm{Fr}_\\mathrm{4b}^{2}}{2} + \\frac{\\mathrm{Fr}_{1}^{2}}{2} + 1$",
            "text/plain": [
              "-\\mathrm{Fr}_\\mathrm{4b}**2/2 + \\mathrm{Fr}_{1}**2/2 + 1"
            ]
          },
          "metadata": {
            "tags": []
          },
          "execution_count": 26
        }
      ]
    },
    {
      "cell_type": "code",
      "metadata": {
        "colab": {
          "base_uri": "https://localhost:8080/",
          "height": 38
        },
        "id": "pB_qL7WLGydk",
        "outputId": "995848bb-e83e-4a51-bdb7-a58c7ac57530"
      },
      "source": [
        "eqJ1 = Eq( ζ4, ζ4b+ζ4t )\n",
        "eqJ1"
      ],
      "execution_count": null,
      "outputs": [
        {
          "output_type": "execute_result",
          "data": {
            "text/latex": "$\\displaystyle \\zeta_{4} = \\zeta_\\mathrm{4b} + \\zeta_\\mathrm{4t}$",
            "text/plain": [
              "Eq(\\zeta_4, \\zeta_\\mathrm{4b} + \\zeta_\\mathrm{4t})"
            ]
          },
          "metadata": {
            "tags": []
          },
          "execution_count": 27
        }
      ]
    },
    {
      "cell_type": "markdown",
      "metadata": {
        "id": "G6oOt6aKOG5W"
      },
      "source": [
        "# Summary of the system of equations to solve"
      ]
    },
    {
      "cell_type": "code",
      "metadata": {
        "colab": {
          "base_uri": "https://localhost:8080/",
          "height": 56
        },
        "id": "qjRGEZGEEBzp",
        "outputId": "9a585772-f33e-43fd-d96b-4062f7896223"
      },
      "source": [
        "eqI5"
      ],
      "execution_count": null,
      "outputs": [
        {
          "output_type": "execute_result",
          "data": {
            "text/latex": "$\\displaystyle \\mathrm{Fr}_\\mathrm{4b}^{2} \\zeta_\\mathrm{4b} + \\mathrm{Fr}_\\mathrm{4t}^{2} \\zeta_\\mathrm{4t} - \\mathrm{Fr}_{1}^{2} = - \\frac{B \\left(\\mathrm{Fr}_\\mathrm{4b}^{2} - \\mathrm{Fr}_\\mathrm{4t}^{2}\\right)}{2} - \\frac{\\zeta_{4}^{2}}{2} + \\frac{1}{2}$",
            "text/plain": [
              "Eq(\\mathrm{Fr}_\\mathrm{4b}**2*\\zeta_\\mathrm{4b} + \\mathrm{Fr}_\\mathrm{4t}**2*\\zeta_\\mathrm{4t} - \\mathrm{Fr}_{1}**2, -B*(\\mathrm{Fr}_\\mathrm{4b}**2 - \\mathrm{Fr}_\\mathrm{4t}**2)/2 - \\zeta_4**2/2 + 1/2)"
            ]
          },
          "metadata": {
            "tags": []
          },
          "execution_count": 28
        }
      ]
    },
    {
      "cell_type": "code",
      "metadata": {
        "colab": {
          "base_uri": "https://localhost:8080/",
          "height": 38
        },
        "id": "3MqlS8ZKHRsJ",
        "outputId": "78efc2d4-9c53-4462-f9ae-9cb1776d6c81"
      },
      "source": [
        "eqH2"
      ],
      "execution_count": null,
      "outputs": [
        {
          "output_type": "execute_result",
          "data": {
            "text/latex": "$\\displaystyle \\mathrm{Fr}_\\mathrm{4b} \\zeta_\\mathrm{4b} + \\mathrm{Fr}_\\mathrm{4t} \\zeta_\\mathrm{4t} = \\mathrm{Fr}_{1}$",
            "text/plain": [
              "Eq(\\mathrm{Fr}_\\mathrm{4b}*\\zeta_\\mathrm{4b} + \\mathrm{Fr}_\\mathrm{4t}*\\zeta_\\mathrm{4t}, \\mathrm{Fr}_{1})"
            ]
          },
          "metadata": {
            "tags": []
          },
          "execution_count": 29
        }
      ]
    },
    {
      "cell_type": "code",
      "metadata": {
        "colab": {
          "base_uri": "https://localhost:8080/",
          "height": 38
        },
        "id": "OlmByzuiHfgq",
        "outputId": "ae1935ae-12fb-44d7-9c3d-f01ef72b6e05"
      },
      "source": [
        "eqJ1"
      ],
      "execution_count": null,
      "outputs": [
        {
          "output_type": "execute_result",
          "data": {
            "text/latex": "$\\displaystyle \\zeta_{4} = \\zeta_\\mathrm{4b} + \\zeta_\\mathrm{4t}$",
            "text/plain": [
              "Eq(\\zeta_4, \\zeta_\\mathrm{4b} + \\zeta_\\mathrm{4t})"
            ]
          },
          "metadata": {
            "tags": []
          },
          "execution_count": 30
        }
      ]
    },
    {
      "cell_type": "markdown",
      "metadata": {
        "id": "GOro_98AOMHR"
      },
      "source": [
        "# Solution of the system of equations for $\\mathrm{Fr}_{4t1}$"
      ]
    },
    {
      "cell_type": "code",
      "metadata": {
        "id": "Um8bFmc_HiV8"
      },
      "source": [
        "solFr4t = solve( [ eqI5, eqH2, eqJ1 ], [Fr4t,ζ4b,ζ4t])"
      ],
      "execution_count": null,
      "outputs": []
    },
    {
      "cell_type": "code",
      "metadata": {
        "id": "oRqHqMq7DlNd",
        "outputId": "e3eadd97-9ca6-4c55-e145-990a5cde857c",
        "colab": {
          "base_uri": "https://localhost:8080/",
          "height": 66
        }
      },
      "source": [
        "solFr4t[0][0]"
      ],
      "execution_count": null,
      "outputs": [
        {
          "output_type": "execute_result",
          "data": {
            "text/latex": "$\\displaystyle \\frac{- \\mathrm{Fr}_\\mathrm{4b} \\zeta_{4} + \\mathrm{Fr}_{1} - \\sqrt{B^{2} \\mathrm{Fr}_\\mathrm{4b}^{2} + 2 B \\mathrm{Fr}_\\mathrm{4b} \\mathrm{Fr}_{1} - 2 B \\mathrm{Fr}_{1}^{2} + B \\zeta_{4}^{2} - B + \\mathrm{Fr}_\\mathrm{4b}^{2} \\zeta_{4}^{2} - 2 \\mathrm{Fr}_\\mathrm{4b} \\mathrm{Fr}_{1} \\zeta_{4} + \\mathrm{Fr}_{1}^{2}}}{B}$",
            "text/plain": [
              "(-\\mathrm{Fr}_\\mathrm{4b}*\\zeta_4 + \\mathrm{Fr}_{1} - sqrt(B**2*\\mathrm{Fr}_\\mathrm{4b}**2 + 2*B*\\mathrm{Fr}_\\mathrm{4b}*\\mathrm{Fr}_{1} - 2*B*\\mathrm{Fr}_{1}**2 + B*\\zeta_4**2 - B + \\mathrm{Fr}_\\mathrm{4b}**2*\\zeta_4**2 - 2*\\mathrm{Fr}_\\mathrm{4b}*\\mathrm{Fr}_{1}*\\zeta_4 + \\mathrm{Fr}_{1}**2))/B"
            ]
          },
          "metadata": {
            "tags": []
          },
          "execution_count": 32
        }
      ]
    },
    {
      "cell_type": "code",
      "metadata": {
        "colab": {
          "base_uri": "https://localhost:8080/",
          "height": 38
        },
        "id": "PYP2inGAf-pu",
        "outputId": "3c80f2e3-172f-4868-ba29-0808681e5387"
      },
      "source": [
        "C1 = symbols(\"C_1\")\n",
        "SC1 = Fr1 - ζ4 * Fr4b\n",
        "SC1"
      ],
      "execution_count": null,
      "outputs": [
        {
          "output_type": "execute_result",
          "data": {
            "text/latex": "$\\displaystyle - \\mathrm{Fr}_\\mathrm{4b} \\zeta_{4} + \\mathrm{Fr}_{1}$",
            "text/plain": [
              "-\\mathrm{Fr}_\\mathrm{4b}*\\zeta_4 + \\mathrm{Fr}_{1}"
            ]
          },
          "metadata": {
            "tags": []
          },
          "execution_count": 33
        }
      ]
    },
    {
      "cell_type": "code",
      "metadata": {
        "colab": {
          "base_uri": "https://localhost:8080/",
          "height": 38
        },
        "id": "3xwoFwvWlmsy",
        "outputId": "debe3c23-a270-4040-dac1-b9a0d2ddcb87"
      },
      "source": [
        "C2 = symbols(\"C_2\")\n",
        "SC2 = B**2 * Fr4b**2 + B*(ζ4**2+2*Fr1*(-Fr1+Fr4b)-1)+C1**2\n",
        "SC2"
      ],
      "execution_count": null,
      "outputs": [
        {
          "output_type": "execute_result",
          "data": {
            "text/latex": "$\\displaystyle B^{2} \\mathrm{Fr}_\\mathrm{4b}^{2} + B \\left(2 \\mathrm{Fr}_{1} \\left(\\mathrm{Fr}_\\mathrm{4b} - \\mathrm{Fr}_{1}\\right) + \\zeta_{4}^{2} - 1\\right) + C_{1}^{2}$",
            "text/plain": [
              "B**2*\\mathrm{Fr}_\\mathrm{4b}**2 + B*(2*\\mathrm{Fr}_{1}*(\\mathrm{Fr}_\\mathrm{4b} - \\mathrm{Fr}_{1}) + \\zeta_4**2 - 1) + C_1**2"
            ]
          },
          "metadata": {
            "tags": []
          },
          "execution_count": 34
        }
      ]
    },
    {
      "cell_type": "code",
      "metadata": {
        "colab": {
          "base_uri": "https://localhost:8080/",
          "height": 54
        },
        "id": "u2jMMO0aKYwZ",
        "outputId": "8ff990c4-f8f9-4c16-829c-7439adeb3e4f"
      },
      "source": [
        "collect(collect(solFr4t[0][0],2*B*Fr1).subs(SC1,C1)\\\n",
        "          .subs(expand(SC1**2),C1**2),B).subs(SC2,C2)"
      ],
      "execution_count": null,
      "outputs": [
        {
          "output_type": "execute_result",
          "data": {
            "text/latex": "$\\displaystyle \\frac{C_{1} - \\sqrt{C_{2}}}{B}$",
            "text/plain": [
              "(C_1 - sqrt(C_2))/B"
            ]
          },
          "metadata": {
            "tags": []
          },
          "execution_count": 35
        }
      ]
    },
    {
      "cell_type": "code",
      "metadata": {
        "colab": {
          "base_uri": "https://localhost:8080/",
          "height": 54
        },
        "id": "hweJbZDbb8Mg",
        "outputId": "4f3a3146-2799-4ce0-eb70-de3db77cc0e6"
      },
      "source": [
        "collect(collect(solFr4t[1][0],2*B*Fr1).subs(SC1,C1)\\\n",
        "          .subs(expand(SC1**2),C1**2),B).subs(SC2,C2)"
      ],
      "execution_count": null,
      "outputs": [
        {
          "output_type": "execute_result",
          "data": {
            "text/latex": "$\\displaystyle \\frac{C_{1} + \\sqrt{C_{2}}}{B}$",
            "text/plain": [
              "(C_1 + sqrt(C_2))/B"
            ]
          },
          "metadata": {
            "tags": []
          },
          "execution_count": 36
        }
      ]
    },
    {
      "cell_type": "markdown",
      "metadata": {
        "id": "DH19jaqyORp3"
      },
      "source": [
        "# Computing $\\eta_{4b}$ and $\\eta_{4t}$\n",
        "\n",
        "After computing $\\mathrm{Fr}_{4t1}$ it is easier to compute $\\eta_{4b}$ and $\\eta_{4t}$ from ```eqH2``` and ```eqJ1``` than using the solutions above.\n"
      ]
    },
    {
      "cell_type": "code",
      "metadata": {
        "colab": {
          "base_uri": "https://localhost:8080/",
          "height": 57
        },
        "id": "u3j5c_Doe87Z",
        "outputId": "c4882f4d-8670-4cf0-8663-2d98afb261e2"
      },
      "source": [
        "simplify(solve( [ eqH2, eqJ1 ], [ζ4b,ζ4t]))"
      ],
      "execution_count": null,
      "outputs": [
        {
          "output_type": "execute_result",
          "data": {
            "text/latex": "$\\displaystyle \\left\\{ \\zeta_\\mathrm{4b} : \\frac{- \\mathrm{Fr}_\\mathrm{4t} \\zeta_{4} + \\mathrm{Fr}_{1}}{\\mathrm{Fr}_\\mathrm{4b} - \\mathrm{Fr}_\\mathrm{4t}}, \\  \\zeta_\\mathrm{4t} : \\frac{\\mathrm{Fr}_\\mathrm{4b} \\zeta_{4} - \\mathrm{Fr}_{1}}{\\mathrm{Fr}_\\mathrm{4b} - \\mathrm{Fr}_\\mathrm{4t}}\\right\\}$",
            "text/plain": [
              "{\\zeta_\\mathrm{4b}: (-\\mathrm{Fr}_\\mathrm{4t}*\\zeta_4 + \\mathrm{Fr}_{1})/(\\mathrm{Fr}_\\mathrm{4b} - \\mathrm{Fr}_\\mathrm{4t}), \\zeta_\\mathrm{4t}: (\\mathrm{Fr}_\\mathrm{4b}*\\zeta_4 - \\mathrm{Fr}_{1})/(\\mathrm{Fr}_\\mathrm{4b} - \\mathrm{Fr}_\\mathrm{4t})}"
            ]
          },
          "metadata": {
            "tags": []
          },
          "execution_count": 37
        }
      ]
    },
    {
      "cell_type": "markdown",
      "metadata": {
        "id": "zSPiASXUJ4fZ"
      },
      "source": [
        "# Selecting the solution with physical meaning\n",
        "\n",
        "Let us show that $C_1$ is always negative which implies that the solution \n",
        "\n",
        "$$\\mathrm{Fr}_\\mathrm{4t}=\\dfrac{C_1-\\sqrt{C_2}}{B}, \\tag{1}$$ \n",
        "\n",
        "is **always negative** (invalid).\n",
        "\n",
        "From the mass balance we get\n",
        "\n",
        "$$ u_1 h_1 = u_{4b} h_\\mathrm{4b} + u_\\mathrm{4t} h_\\mathrm{4t}.$$\n",
        "\n",
        "Since $u_\\mathrm{4t} < u_\\mathrm{4b}$ we found that\n",
        "\n",
        "$$ u_1 h_1 = u_\\mathrm{4b} h_\\mathrm{4b} + u_\\mathrm{4t} h_\\mathrm{4t} \\lt u_\\mathrm{4b} h_4.$$\n",
        "\n",
        "Divinding by $\\sqrt{gh_1} h_1$ results\n",
        "\n",
        "$$ \\dfrac{u_1}{\\sqrt{g h_1}} - \\dfrac{u_\\mathrm{4b}}{\\sqrt{g h_1}} \\dfrac{h_4}{h_1} \\lt 0,$$\n",
        "\n",
        "giving \n",
        "\n",
        "$$\\mathrm{Fr}_{1} - \\mathrm{Fr}_\\mathrm{4b} \\zeta_{4} \\lt 0,$$ \n",
        "\n",
        "or equivalently\n",
        "\n",
        "$$C_1 \\lt 0.$$ \n",
        "\n",
        "This implies that the solution given by Eq. (1) is always negative\n",
        "\n",
        "$$\\mathrm{Fr}_\\mathrm{4t} \\lt 0.$$ "
      ]
    },
    {
      "cell_type": "code",
      "metadata": {
        "id": "3QZEMvxnNKWv"
      },
      "source": [
        ""
      ],
      "execution_count": null,
      "outputs": []
    }
  ]
}
