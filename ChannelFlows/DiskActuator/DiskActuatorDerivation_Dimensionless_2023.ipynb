{
  "nbformat": 4,
  "nbformat_minor": 0,
  "metadata": {
    "colab": {
      "name": "DiskActuatorDerivation_Dimensionless_2023.ipynb",
      "provenance": [],
      "include_colab_link": true
    },
    "kernelspec": {
      "name": "python3",
      "display_name": "Python 3"
    },
    "language_info": {
      "name": "python"
    }
  },
  "cells": [
    {
      "cell_type": "markdown",
      "metadata": {
        "id": "view-in-github",
        "colab_type": "text"
      },
      "source": [
        "<a href=\"https://colab.research.google.com/github/joaochenriques/IST_MCTE/blob/main/ChannelFlows/DiskActuator/DiskActuatorDerivation_Dimensionless_2023.ipynb\" target=\"_parent\"><img src=\"https://colab.research.google.com/assets/colab-badge.svg\" alt=\"Open In Colab\"/></a>"
      ]
    },
    {
      "cell_type": "code",
      "metadata": {
        "id": "BmAkVzVmeipL"
      },
      "source": [
        "from sympy import *\n",
        "from sympy.printing.lambdarepr import lambdarepr"
      ],
      "execution_count": 1,
      "outputs": []
    },
    {
      "cell_type": "markdown",
      "source": [
        "## Generic definitions\n",
        "\n",
        "<img src=\"https://raw.githubusercontent.com/joaochenriques/IST_MCTE/main/ChannelFlows/DiskActuator/figs/sub_domains.svg\" width=\"500px\" style=\"display:inline\">"
      ],
      "metadata": {
        "id": "pd-ZNe410Jrw"
      }
    },
    {
      "cell_type": "code",
      "metadata": {
        "id": "XKLQk-_egk-f"
      },
      "source": [
        "h1, h2t, h3t, h4, h4t, h4b, h5 = symbols( r\"h_1, h_\\mathrm{2t}, h_\\mathrm{3t}, h_4, h_\\mathrm{4t}, h_\\mathrm{4b}, h_5\" )"
      ],
      "execution_count": 2,
      "outputs": []
    },
    {
      "cell_type": "code",
      "metadata": {
        "id": "DwHmqFqWhihr"
      },
      "source": [
        "u1, u2t, u3t, u4b, u4t, u5 = symbols( r\"u_1, u_\\mathrm{2t}, u_\\mathrm{3t}, u_\\mathrm{4b}, u_\\mathrm{4t}, u_5\" )"
      ],
      "execution_count": 3,
      "outputs": []
    },
    {
      "cell_type": "markdown",
      "metadata": {
        "id": "tZUEU50ahL-r"
      },
      "source": [
        "The dimensionless depth $\\zeta_i$ is defined has\n",
        "\n",
        "$$\\zeta_i=\\dfrac{h_i}{h_1}.$$"
      ]
    },
    {
      "cell_type": "code",
      "metadata": {
        "id": "q-PTIecNnqxa"
      },
      "source": [
        "ζ1, ζ2t, ζ3t, ζ4, ζ4t, ζ4b, ζ5 = symbols( r\"\\zeta_1, \\zeta_\\mathrm{2t}, \\zeta_\\mathrm{3t}, \\zeta_4, \\zeta_\\mathrm{4t}, \\zeta_\\mathrm{4b}, \\zeta_5\")"
      ],
      "execution_count": 4,
      "outputs": []
    },
    {
      "cell_type": "markdown",
      "metadata": {
        "id": "4QSX6BHrgeAh"
      },
      "source": [
        "Froude numbers are based on the depth of the undisturbed flow $h_1$, i.e.,\n",
        "\n",
        "$$\\mathrm{Fr}_{u_i}=\\dfrac{u_i}{\\sqrt{gh_1}}.$$"
      ]
    },
    {
      "cell_type": "code",
      "metadata": {
        "id": "5uO0Dv8cmlUN"
      },
      "source": [
        "Fr1 = symbols( r\"\\mathrm{Fr}_{1}\")\n",
        "Fr2t, Fr3t = symbols( r\"\\mathrm{Fr}_\\mathrm{2t}, \\mathrm{Fr}_\\mathrm{3t}\")\n",
        "Fr4b, Fr4t = symbols( r\"\\mathrm{Fr}_\\mathrm{4b}, \\mathrm{Fr}_\\mathrm{4t}\")\n",
        "Fr5 = symbols( r\"\\mathrm{Fr}_{5}\")"
      ],
      "execution_count": 5,
      "outputs": []
    },
    {
      "cell_type": "code",
      "metadata": {
        "id": "9Xfv1EsAvVLg"
      },
      "source": [
        "ρ, g, T, At, C_T, C_P = symbols( r\"\\rho, g, T, A_\\mathrm{t}, C_\\mathrm{T}, C_\\mathrm{P}\" )"
      ],
      "execution_count": 6,
      "outputs": []
    },
    {
      "cell_type": "markdown",
      "metadata": {
        "id": "VnMCLPv_o-OP"
      },
      "source": [
        "Generic definitions used in substitutions"
      ]
    },
    {
      "cell_type": "code",
      "metadata": {
        "id": "frtwFIbzlfIz"
      },
      "source": [
        "zetas = { h2t/h1: ζ2t, h3t/h1: ζ3t, h4/h1: ζ4, h4t/h1: ζ4t, h4b/h1: ζ4b, h5/h1: ζ5 }\n",
        "\n",
        "Froudes = { ( u1  / sqrt(g*h1) ): Fr1,\n",
        "            ( u4t / sqrt(g*h1) ): Fr4t, \n",
        "            ( u4b / sqrt(g*h1) ): Fr4b,\n",
        "            ( u5  / sqrt(g*h1) ): Fr5 }\n",
        "\n",
        "Sqr_Froudes = { ( u1 **2 / (g*h1) ): Fr1 **2, \n",
        "                ( u2t**2 / (g*h1) ): Fr2t**2,\n",
        "                ( u3t**2 / (g*h1) ): Fr3t**2,\n",
        "                ( u4b**2 / (g*h1) ): Fr4b**2,\n",
        "                ( u4t**2 / (g*h1) ): Fr4t**2,\n",
        "                ( u5 **2 / (g*h1) ): Fr5 **2 }\n"
      ],
      "execution_count": 7,
      "outputs": []
    },
    {
      "cell_type": "markdown",
      "metadata": {
        "id": "PbcO62IIoPFs"
      },
      "source": [
        "# Bernoulli equations \n",
        "\n",
        "<img src=\"https://raw.githubusercontent.com/joaochenriques/MCTE_2020_2021/main/DiskActuator/figs/domain_V2.svg\" width=\"500px\" style=\"display:inline\">"
      ]
    },
    {
      "cell_type": "code",
      "metadata": {
        "id": "eVIEUqJbkjrn",
        "colab": {
          "base_uri": "https://localhost:8080/",
          "height": 57
        },
        "outputId": "d967443b-0307-43d3-9d12-f1c4373beb87"
      },
      "source": [
        "eqA1 = Eq( h1 + u1**2/(2*g), h4 + u4b**2/(2*g) )\n",
        "eqA1"
      ],
      "execution_count": 8,
      "outputs": [
        {
          "output_type": "execute_result",
          "data": {
            "text/plain": [
              "Eq(h_1 + u_1**2/(2*g), h_4 + u_\\mathrm{4b}**2/(2*g))"
            ],
            "text/latex": "$\\displaystyle h_{1} + \\frac{u_{1}^{2}}{2 g} = h_{4} + \\frac{u_\\mathrm{4b}^{2}}{2 g}$"
          },
          "metadata": {},
          "execution_count": 8
        }
      ]
    },
    {
      "cell_type": "code",
      "metadata": {
        "colab": {
          "base_uri": "https://localhost:8080/",
          "height": 55
        },
        "id": "nw_aIxVBhz4C",
        "outputId": "de8bb554-a650-4619-c726-ab7a1e382c04"
      },
      "source": [
        "eqA2 = expand(Eq( eqA1.lhs / h1, eqA1.rhs / h1  ) )\\\n",
        "          .subs( zetas )\\\n",
        "          .subs( Sqr_Froudes )\n",
        "eqA2"
      ],
      "execution_count": 9,
      "outputs": [
        {
          "output_type": "execute_result",
          "data": {
            "text/plain": [
              "Eq(\\mathrm{Fr}_{1}**2/2 + 1, \\mathrm{Fr}_\\mathrm{4b}**2/2 + \\zeta_4)"
            ],
            "text/latex": "$\\displaystyle \\frac{\\mathrm{Fr}_{1}^{2}}{2} + 1 = \\frac{\\mathrm{Fr}_\\mathrm{4b}^{2}}{2} + \\zeta_{4}$"
          },
          "metadata": {},
          "execution_count": 9
        }
      ]
    },
    {
      "cell_type": "code",
      "metadata": {
        "id": "CtOFm53Kkw62",
        "colab": {
          "base_uri": "https://localhost:8080/",
          "height": 57
        },
        "outputId": "877a142a-af1f-4dd9-ac47-c55c37473638"
      },
      "source": [
        "eqB1 = Eq( h1 + u1**2/(2*g), h2t + u2t**2/(2*g) )\n",
        "eqB1"
      ],
      "execution_count": 10,
      "outputs": [
        {
          "output_type": "execute_result",
          "data": {
            "text/plain": [
              "Eq(h_1 + u_1**2/(2*g), h_\\mathrm{2t} + u_\\mathrm{2t}**2/(2*g))"
            ],
            "text/latex": "$\\displaystyle h_{1} + \\frac{u_{1}^{2}}{2 g} = h_\\mathrm{2t} + \\frac{u_\\mathrm{2t}^{2}}{2 g}$"
          },
          "metadata": {},
          "execution_count": 10
        }
      ]
    },
    {
      "cell_type": "code",
      "metadata": {
        "id": "BLZhgtwklESG",
        "colab": {
          "base_uri": "https://localhost:8080/",
          "height": 55
        },
        "outputId": "4513d202-e182-438f-9a23-3f49484a15b5"
      },
      "source": [
        "eqB2 = expand(Eq( eqB1.lhs / h1, eqB1.rhs / h1  ) )\\\n",
        "          .subs( zetas )\\\n",
        "          .subs( Sqr_Froudes )\n",
        "eqB2"
      ],
      "execution_count": 11,
      "outputs": [
        {
          "output_type": "execute_result",
          "data": {
            "text/plain": [
              "Eq(\\mathrm{Fr}_{1}**2/2 + 1, \\mathrm{Fr}_\\mathrm{2t}**2/2 + \\zeta_\\mathrm{2t})"
            ],
            "text/latex": "$\\displaystyle \\frac{\\mathrm{Fr}_{1}^{2}}{2} + 1 = \\frac{\\mathrm{Fr}_\\mathrm{2t}^{2}}{2} + \\zeta_\\mathrm{2t}$"
          },
          "metadata": {},
          "execution_count": 11
        }
      ]
    },
    {
      "cell_type": "code",
      "metadata": {
        "id": "nCgu5IFZk26N",
        "colab": {
          "base_uri": "https://localhost:8080/",
          "height": 57
        },
        "outputId": "6aab2984-82eb-46c1-f3a6-7308c398617b"
      },
      "source": [
        "eqC1 = Eq( h3t + u3t**2/(2*g), h4 + u4t**2/(2*g) )\n",
        "eqC1"
      ],
      "execution_count": 12,
      "outputs": [
        {
          "output_type": "execute_result",
          "data": {
            "text/plain": [
              "Eq(h_\\mathrm{3t} + u_\\mathrm{3t}**2/(2*g), h_4 + u_\\mathrm{4t}**2/(2*g))"
            ],
            "text/latex": "$\\displaystyle h_\\mathrm{3t} + \\frac{u_\\mathrm{3t}^{2}}{2 g} = h_{4} + \\frac{u_\\mathrm{4t}^{2}}{2 g}$"
          },
          "metadata": {},
          "execution_count": 12
        }
      ]
    },
    {
      "cell_type": "code",
      "metadata": {
        "colab": {
          "base_uri": "https://localhost:8080/",
          "height": 55
        },
        "id": "KFAswnKO6bno",
        "outputId": "97835023-9d46-488b-b4dd-1315d9a7412a"
      },
      "source": [
        "eqC2 = expand(Eq( eqC1.lhs / h1, eqC1.rhs / h1  ) )\\\n",
        "          .subs( zetas )\\\n",
        "          .subs( Sqr_Froudes )\n",
        "eqC2"
      ],
      "execution_count": 13,
      "outputs": [
        {
          "output_type": "execute_result",
          "data": {
            "text/plain": [
              "Eq(\\mathrm{Fr}_\\mathrm{3t}**2/2 + \\zeta_\\mathrm{3t}, \\mathrm{Fr}_\\mathrm{4t}**2/2 + \\zeta_4)"
            ],
            "text/latex": "$\\displaystyle \\frac{\\mathrm{Fr}_\\mathrm{3t}^{2}}{2} + \\zeta_\\mathrm{3t} = \\frac{\\mathrm{Fr}_\\mathrm{4t}^{2}}{2} + \\zeta_{4}$"
          },
          "metadata": {},
          "execution_count": 13
        }
      ]
    },
    {
      "cell_type": "markdown",
      "metadata": {
        "id": "xQEdKu1Owra8"
      },
      "source": [
        "# Force on the turbine\n",
        "\n",
        "<img src=\"https://raw.githubusercontent.com/joaochenriques/MCTE_2020_2021/main/DiskActuator/figs/Turbine.svg\" width=\"200px\" style=\"display:inline\">"
      ]
    },
    {
      "cell_type": "code",
      "metadata": {
        "id": "oYkbo3Udk8dd",
        "colab": {
          "base_uri": "https://localhost:8080/",
          "height": 39
        },
        "outputId": "93735c58-3897-45e7-de9f-8850d190347f"
      },
      "source": [
        "eqD1 = Eq( T, ρ*g*(h2t-h3t)*At )\n",
        "eqD1"
      ],
      "execution_count": 14,
      "outputs": [
        {
          "output_type": "execute_result",
          "data": {
            "text/plain": [
              "Eq(T, A_\\mathrm{t}*\\rho*g*(h_\\mathrm{2t} - h_\\mathrm{3t}))"
            ],
            "text/latex": "$\\displaystyle T = A_\\mathrm{t} \\rho g \\left(h_\\mathrm{2t} - h_\\mathrm{3t}\\right)$"
          },
          "metadata": {},
          "execution_count": 14
        }
      ]
    },
    {
      "cell_type": "code",
      "metadata": {
        "id": "06vuDtdilvXm",
        "colab": {
          "base_uri": "https://localhost:8080/",
          "height": 55
        },
        "outputId": "a905aefc-c0c9-4d53-ab12-6b432841423e"
      },
      "source": [
        "eqD2 = expand( Eq( eqD1.lhs / ( ρ*g*At*h1 ), eqD1.rhs / ( ρ*g*At*h1 ) ) ).subs( zetas )\n",
        "eqD3 = eqD2.subs( T, ρ*u1**2*At/2 * C_T )\n",
        "eqD4 = eqD3.subs( Sqr_Froudes )\n",
        "eqD4"
      ],
      "execution_count": 15,
      "outputs": [
        {
          "output_type": "execute_result",
          "data": {
            "text/plain": [
              "Eq(C_\\mathrm{T}*\\mathrm{Fr}_{1}**2/2, \\zeta_\\mathrm{2t} - \\zeta_\\mathrm{3t})"
            ],
            "text/latex": "$\\displaystyle \\frac{C_\\mathrm{T} \\mathrm{Fr}_{1}^{2}}{2} = \\zeta_\\mathrm{2t} - \\zeta_\\mathrm{3t}$"
          },
          "metadata": {},
          "execution_count": 15
        }
      ]
    },
    {
      "cell_type": "code",
      "metadata": {
        "colab": {
          "base_uri": "https://localhost:8080/",
          "height": 54
        },
        "id": "hPtYNYJUNNA2",
        "outputId": "d6d024cb-c751-4d7c-c510-2a099be43e5e"
      },
      "source": [
        "eqE1 = Eq( C_P, C_T * u2t / u1 ).subs( u2t/u1, Fr2t/Fr1 )\n",
        "eqE1"
      ],
      "execution_count": 16,
      "outputs": [
        {
          "output_type": "execute_result",
          "data": {
            "text/plain": [
              "Eq(C_\\mathrm{P}, C_\\mathrm{T}*\\mathrm{Fr}_\\mathrm{2t}/\\mathrm{Fr}_{1})"
            ],
            "text/latex": "$\\displaystyle C_\\mathrm{P} = \\frac{C_\\mathrm{T} \\mathrm{Fr}_\\mathrm{2t}}{\\mathrm{Fr}_{1}}$"
          },
          "metadata": {},
          "execution_count": 16
        }
      ]
    },
    {
      "cell_type": "markdown",
      "metadata": {
        "id": "CqGZfXE-aZK0"
      },
      "source": [
        "Since $u_\\mathrm{2t}=u_\\mathrm{3t}$ the\n",
        "\n",
        "$$\\mathrm{Fr}_\\mathrm{2t}=\\mathrm{Fr}_\\mathrm{3t}$$"
      ]
    },
    {
      "cell_type": "code",
      "metadata": {
        "colab": {
          "base_uri": "https://localhost:8080/",
          "height": 55
        },
        "id": "fXR-jNqDNtfI",
        "outputId": "e596b74d-e475-45c0-b545-896a178fb7a6"
      },
      "source": [
        "eqF1 = Eq( eqA2.rhs - eqC2.rhs, eqB2.rhs - eqC2.lhs ).subs( Fr2t, Fr3t )\n",
        "eqF1 "
      ],
      "execution_count": 17,
      "outputs": [
        {
          "output_type": "execute_result",
          "data": {
            "text/plain": [
              "Eq(\\mathrm{Fr}_\\mathrm{4b}**2/2 - \\mathrm{Fr}_\\mathrm{4t}**2/2, \\zeta_\\mathrm{2t} - \\zeta_\\mathrm{3t})"
            ],
            "text/latex": "$\\displaystyle \\frac{\\mathrm{Fr}_\\mathrm{4b}^{2}}{2} - \\frac{\\mathrm{Fr}_\\mathrm{4t}^{2}}{2} = \\zeta_\\mathrm{2t} - \\zeta_\\mathrm{3t}$"
          },
          "metadata": {},
          "execution_count": 17
        }
      ]
    },
    {
      "cell_type": "code",
      "metadata": {
        "colab": {
          "base_uri": "https://localhost:8080/",
          "height": 39
        },
        "id": "7mzwlbgNbP1R",
        "outputId": "fd69579a-2715-4870-c5d3-5a3c89c09442"
      },
      "source": [
        "eqG1 = Eq( eqD4.lhs * 2, eqF1.lhs * 2 )\n",
        "eqG1"
      ],
      "execution_count": 18,
      "outputs": [
        {
          "output_type": "execute_result",
          "data": {
            "text/plain": [
              "Eq(C_\\mathrm{T}*\\mathrm{Fr}_{1}**2, \\mathrm{Fr}_\\mathrm{4b}**2 - \\mathrm{Fr}_\\mathrm{4t}**2)"
            ],
            "text/latex": "$\\displaystyle C_\\mathrm{T} \\mathrm{Fr}_{1}^{2} = \\mathrm{Fr}_\\mathrm{4b}^{2} - \\mathrm{Fr}_\\mathrm{4t}^{2}$"
          },
          "metadata": {},
          "execution_count": 18
        }
      ]
    },
    {
      "cell_type": "markdown",
      "metadata": {
        "id": "ED6VuDFkwibl"
      },
      "source": [
        "# Mass balance"
      ]
    },
    {
      "cell_type": "code",
      "metadata": {
        "colab": {
          "base_uri": "https://localhost:8080/",
          "height": 39
        },
        "id": "YeLktTPENkkH",
        "outputId": "f0ffff4f-8e8d-4bf4-fe5f-ffd6b983cc83"
      },
      "source": [
        "eqH1 = Eq( u4b * h4b + u4t * h4t, u1*h1 )\n",
        "eqH1"
      ],
      "execution_count": 19,
      "outputs": [
        {
          "output_type": "execute_result",
          "data": {
            "text/plain": [
              "Eq(h_\\mathrm{4b}*u_\\mathrm{4b} + h_\\mathrm{4t}*u_\\mathrm{4t}, h_1*u_1)"
            ],
            "text/latex": "$\\displaystyle h_\\mathrm{4b} u_\\mathrm{4b} + h_\\mathrm{4t} u_\\mathrm{4t} = h_{1} u_{1}$"
          },
          "metadata": {},
          "execution_count": 19
        }
      ]
    },
    {
      "cell_type": "code",
      "metadata": {
        "colab": {
          "base_uri": "https://localhost:8080/",
          "height": 39
        },
        "id": "Rv82tY9wcodd",
        "outputId": "3463a595-831d-485d-d877-8a9877bacb8b"
      },
      "source": [
        "eqH2 = expand( Eq( eqH1.lhs / ( h1*sqrt(g*h1) ), eqH1.rhs / ( h1*sqrt(g*h1) ) ) )\\\n",
        "          .subs( zetas )\\\n",
        "          .subs( Froudes )\n",
        "eqH2"
      ],
      "execution_count": 20,
      "outputs": [
        {
          "output_type": "execute_result",
          "data": {
            "text/plain": [
              "Eq(\\mathrm{Fr}_\\mathrm{4b}*\\zeta_\\mathrm{4b} + \\mathrm{Fr}_\\mathrm{4t}*\\zeta_\\mathrm{4t}, \\mathrm{Fr}_{1})"
            ],
            "text/latex": "$\\displaystyle \\mathrm{Fr}_\\mathrm{4b} \\zeta_\\mathrm{4b} + \\mathrm{Fr}_\\mathrm{4t} \\zeta_\\mathrm{4t} = \\mathrm{Fr}_{1}$"
          },
          "metadata": {},
          "execution_count": 20
        }
      ]
    },
    {
      "cell_type": "markdown",
      "metadata": {
        "id": "dh2m4JXLoqxx"
      },
      "source": [
        "# Momentum balance"
      ]
    },
    {
      "cell_type": "code",
      "metadata": {
        "id": "Lb1Giyebo6Af"
      },
      "source": [
        "b, B = symbols( \"b, B\" )\n",
        "M4t, M4b, M1, Fp4, Fp1 = symbols( \"M_\\mathrm{4t}, M_\\mathrm{4b}, M_{1}, F_\\mathrm{p4}, F_\\mathrm{p1}\")"
      ],
      "execution_count": 21,
      "outputs": []
    },
    {
      "cell_type": "code",
      "metadata": {
        "colab": {
          "base_uri": "https://localhost:8080/",
          "height": 39
        },
        "id": "RKX8dqxHNvp3",
        "outputId": "bc67d846-47e5-4c5d-e523-6bed2ade4091"
      },
      "source": [
        "eqI1 = Eq( M4b + M4t - M1, -(Fp4-Fp1) - T )\n",
        "eqI1"
      ],
      "execution_count": 22,
      "outputs": [
        {
          "output_type": "execute_result",
          "data": {
            "text/plain": [
              "Eq(M_\\mathrm{4b} + M_\\mathrm{4t} - M_{1}, F_\\mathrm{p1} - F_\\mathrm{p4} - T)"
            ],
            "text/latex": "$\\displaystyle M_\\mathrm{4b} + M_\\mathrm{4t} - M_{1} = F_\\mathrm{p1} - F_\\mathrm{p4} - T$"
          },
          "metadata": {},
          "execution_count": 22
        }
      ]
    },
    {
      "cell_type": "code",
      "metadata": {
        "colab": {
          "base_uri": "https://localhost:8080/",
          "height": 54
        },
        "id": "mf90DKLa69wd",
        "outputId": "6ea4212a-d03b-4353-d609-e171cf471bc8"
      },
      "source": [
        "eqI2 = eqI1.subs( M4b, ρ*u4b**2*h4b*b).subs( M4t, ρ*u4t**2*h4t*b)\\\n",
        "          .subs( M1, ρ*u1**2*h1*b ).subs( Fp1, ρ*g*b*h1**2/2 )\\\n",
        "          .subs( Fp4, ρ*g*b*h4**2/2 ).subs( T, C_T*ρ*u1**2*At/2)\n",
        "eqI2"
      ],
      "execution_count": 23,
      "outputs": [
        {
          "output_type": "execute_result",
          "data": {
            "text/plain": [
              "Eq(-\\rho*b*h_1*u_1**2 + \\rho*b*h_\\mathrm{4b}*u_\\mathrm{4b}**2 + \\rho*b*h_\\mathrm{4t}*u_\\mathrm{4t}**2, -A_\\mathrm{t}*C_\\mathrm{T}*\\rho*u_1**2/2 + \\rho*b*g*h_1**2/2 - \\rho*b*g*h_4**2/2)"
            ],
            "text/latex": "$\\displaystyle - \\rho b h_{1} u_{1}^{2} + \\rho b h_\\mathrm{4b} u_\\mathrm{4b}^{2} + \\rho b h_\\mathrm{4t} u_\\mathrm{4t}^{2} = - \\frac{A_\\mathrm{t} C_\\mathrm{T} \\rho u_{1}^{2}}{2} + \\frac{\\rho b g h_{1}^{2}}{2} - \\frac{\\rho b g h_{4}^{2}}{2}$"
          },
          "metadata": {},
          "execution_count": 23
        }
      ]
    },
    {
      "cell_type": "markdown",
      "metadata": {
        "id": "MNMSI3AqoQSQ"
      },
      "source": [
        "Knowing that Blockage factor  $A_\\mathrm{t}=B\\,bh_1$"
      ]
    },
    {
      "cell_type": "code",
      "metadata": {
        "colab": {
          "base_uri": "https://localhost:8080/",
          "height": 55
        },
        "id": "bYrt4jHH9Tpg",
        "outputId": "070c080b-e807-4992-9f2a-9a8c35e7be61"
      },
      "source": [
        "eqI3 = expand( Eq( eqI2.lhs / ( ρ*g*h1**2*b ), eqI2.rhs / ( ρ*g*h1**2*b ) ) )\n",
        "eqI4 = eqI3.subs( zetas ).subs( Sqr_Froudes ).subs( b*h1, At/B)\n",
        "eqI4"
      ],
      "execution_count": 24,
      "outputs": [
        {
          "output_type": "execute_result",
          "data": {
            "text/plain": [
              "Eq(\\mathrm{Fr}_\\mathrm{4b}**2*\\zeta_\\mathrm{4b} + \\mathrm{Fr}_\\mathrm{4t}**2*\\zeta_\\mathrm{4t} - \\mathrm{Fr}_{1}**2, -B*C_\\mathrm{T}*\\mathrm{Fr}_{1}**2/2 - \\zeta_4**2/2 + 1/2)"
            ],
            "text/latex": "$\\displaystyle \\mathrm{Fr}_\\mathrm{4b}^{2} \\zeta_\\mathrm{4b} + \\mathrm{Fr}_\\mathrm{4t}^{2} \\zeta_\\mathrm{4t} - \\mathrm{Fr}_{1}^{2} = - \\frac{B C_\\mathrm{T} \\mathrm{Fr}_{1}^{2}}{2} - \\frac{\\zeta_{4}^{2}}{2} + \\frac{1}{2}$"
          },
          "metadata": {},
          "execution_count": 24
        }
      ]
    },
    {
      "cell_type": "code",
      "metadata": {
        "colab": {
          "base_uri": "https://localhost:8080/",
          "height": 56
        },
        "id": "AExf6ouj_L1n",
        "outputId": "2ca41af5-8141-48a9-bf73-d674bf1d4e3c"
      },
      "source": [
        "eqI5 = eqI4.subs( eqG1.lhs, eqG1.rhs )\n",
        "eqI5"
      ],
      "execution_count": 25,
      "outputs": [
        {
          "output_type": "execute_result",
          "data": {
            "text/plain": [
              "Eq(\\mathrm{Fr}_\\mathrm{4b}**2*\\zeta_\\mathrm{4b} + \\mathrm{Fr}_\\mathrm{4t}**2*\\zeta_\\mathrm{4t} - \\mathrm{Fr}_{1}**2, -B*(\\mathrm{Fr}_\\mathrm{4b}**2 - \\mathrm{Fr}_\\mathrm{4t}**2)/2 - \\zeta_4**2/2 + 1/2)"
            ],
            "text/latex": "$\\displaystyle \\mathrm{Fr}_\\mathrm{4b}^{2} \\zeta_\\mathrm{4b} + \\mathrm{Fr}_\\mathrm{4t}^{2} \\zeta_\\mathrm{4t} - \\mathrm{Fr}_{1}^{2} = - \\frac{B \\left(\\mathrm{Fr}_\\mathrm{4b}^{2} - \\mathrm{Fr}_\\mathrm{4t}^{2}\\right)}{2} - \\frac{\\zeta_{4}^{2}}{2} + \\frac{1}{2}$"
          },
          "metadata": {},
          "execution_count": 25
        }
      ]
    },
    {
      "cell_type": "markdown",
      "metadata": {
        "id": "Qf5ZZ9xcDZvC"
      },
      "source": [
        "Specifying:\n",
        "\n",
        "* Blockage factor $0 \\le B \\lt 1$\n",
        "* Upstream Froude number $\\mathrm{Fr}_1$\n",
        "* Bypass Froude number $\\mathrm{Fr}_\\mathrm{4b}$\n",
        "* $\\eta_4$ is computed from\n",
        "\n",
        "$$ \\eta_4 = \\frac{\\mathrm{Fr}_{1}^2}{2}-\\frac{\\mathrm{Fr}_\\mathrm{4b}^2}{2} + 1$$"
      ]
    },
    {
      "cell_type": "code",
      "metadata": {
        "colab": {
          "base_uri": "https://localhost:8080/",
          "height": 55
        },
        "id": "BG-to7QfCGo1",
        "outputId": "9443729f-5090-482b-d13f-6fe1611147fe"
      },
      "source": [
        "solζ4 = solve( eqA2, ζ4 )\n",
        "solζ4[0]"
      ],
      "execution_count": 26,
      "outputs": [
        {
          "output_type": "execute_result",
          "data": {
            "text/plain": [
              "-\\mathrm{Fr}_\\mathrm{4b}**2/2 + \\mathrm{Fr}_{1}**2/2 + 1"
            ],
            "text/latex": "$\\displaystyle - \\frac{\\mathrm{Fr}_\\mathrm{4b}^{2}}{2} + \\frac{\\mathrm{Fr}_{1}^{2}}{2} + 1$"
          },
          "metadata": {},
          "execution_count": 26
        }
      ]
    },
    {
      "cell_type": "code",
      "metadata": {
        "colab": {
          "base_uri": "https://localhost:8080/",
          "height": 39
        },
        "id": "pB_qL7WLGydk",
        "outputId": "d7a9959e-a44c-4e7f-c2e9-f12e21b58923"
      },
      "source": [
        "eqJ1 = Eq( ζ4, ζ4b+ζ4t )\n",
        "eqJ1"
      ],
      "execution_count": 27,
      "outputs": [
        {
          "output_type": "execute_result",
          "data": {
            "text/plain": [
              "Eq(\\zeta_4, \\zeta_\\mathrm{4b} + \\zeta_\\mathrm{4t})"
            ],
            "text/latex": "$\\displaystyle \\zeta_{4} = \\zeta_\\mathrm{4b} + \\zeta_\\mathrm{4t}$"
          },
          "metadata": {},
          "execution_count": 27
        }
      ]
    },
    {
      "cell_type": "markdown",
      "metadata": {
        "id": "G6oOt6aKOG5W"
      },
      "source": [
        "# Summary of the system of equations to solve"
      ]
    },
    {
      "cell_type": "code",
      "metadata": {
        "colab": {
          "base_uri": "https://localhost:8080/",
          "height": 56
        },
        "id": "qjRGEZGEEBzp",
        "outputId": "f2bd545c-2f64-41b8-a696-72bd812a8581"
      },
      "source": [
        "eqI5"
      ],
      "execution_count": 28,
      "outputs": [
        {
          "output_type": "execute_result",
          "data": {
            "text/plain": [
              "Eq(\\mathrm{Fr}_\\mathrm{4b}**2*\\zeta_\\mathrm{4b} + \\mathrm{Fr}_\\mathrm{4t}**2*\\zeta_\\mathrm{4t} - \\mathrm{Fr}_{1}**2, -B*(\\mathrm{Fr}_\\mathrm{4b}**2 - \\mathrm{Fr}_\\mathrm{4t}**2)/2 - \\zeta_4**2/2 + 1/2)"
            ],
            "text/latex": "$\\displaystyle \\mathrm{Fr}_\\mathrm{4b}^{2} \\zeta_\\mathrm{4b} + \\mathrm{Fr}_\\mathrm{4t}^{2} \\zeta_\\mathrm{4t} - \\mathrm{Fr}_{1}^{2} = - \\frac{B \\left(\\mathrm{Fr}_\\mathrm{4b}^{2} - \\mathrm{Fr}_\\mathrm{4t}^{2}\\right)}{2} - \\frac{\\zeta_{4}^{2}}{2} + \\frac{1}{2}$"
          },
          "metadata": {},
          "execution_count": 28
        }
      ]
    },
    {
      "cell_type": "code",
      "metadata": {
        "colab": {
          "base_uri": "https://localhost:8080/",
          "height": 39
        },
        "id": "3MqlS8ZKHRsJ",
        "outputId": "9b3711e7-7973-4121-93c7-f0e625d0b274"
      },
      "source": [
        "eqH2"
      ],
      "execution_count": 29,
      "outputs": [
        {
          "output_type": "execute_result",
          "data": {
            "text/plain": [
              "Eq(\\mathrm{Fr}_\\mathrm{4b}*\\zeta_\\mathrm{4b} + \\mathrm{Fr}_\\mathrm{4t}*\\zeta_\\mathrm{4t}, \\mathrm{Fr}_{1})"
            ],
            "text/latex": "$\\displaystyle \\mathrm{Fr}_\\mathrm{4b} \\zeta_\\mathrm{4b} + \\mathrm{Fr}_\\mathrm{4t} \\zeta_\\mathrm{4t} = \\mathrm{Fr}_{1}$"
          },
          "metadata": {},
          "execution_count": 29
        }
      ]
    },
    {
      "cell_type": "code",
      "metadata": {
        "colab": {
          "base_uri": "https://localhost:8080/",
          "height": 39
        },
        "id": "OlmByzuiHfgq",
        "outputId": "cb08be85-5910-4474-e283-b28075ccd61c"
      },
      "source": [
        "eqJ1"
      ],
      "execution_count": 30,
      "outputs": [
        {
          "output_type": "execute_result",
          "data": {
            "text/plain": [
              "Eq(\\zeta_4, \\zeta_\\mathrm{4b} + \\zeta_\\mathrm{4t})"
            ],
            "text/latex": "$\\displaystyle \\zeta_{4} = \\zeta_\\mathrm{4b} + \\zeta_\\mathrm{4t}$"
          },
          "metadata": {},
          "execution_count": 30
        }
      ]
    },
    {
      "cell_type": "markdown",
      "metadata": {
        "id": "GOro_98AOMHR"
      },
      "source": [
        "# Solution of the system of equations for $\\mathrm{Fr}_{4t1}$"
      ]
    },
    {
      "cell_type": "code",
      "metadata": {
        "id": "Um8bFmc_HiV8"
      },
      "source": [
        "solFr4t = solve( [ eqI5, eqH2, eqJ1 ], [Fr4t,ζ4b,ζ4t])"
      ],
      "execution_count": 31,
      "outputs": []
    },
    {
      "cell_type": "code",
      "metadata": {
        "id": "oRqHqMq7DlNd",
        "outputId": "12ad5ef1-ab2b-404b-e262-1006144dfeb5",
        "colab": {
          "base_uri": "https://localhost:8080/",
          "height": 66
        }
      },
      "source": [
        "solFr4t[0][0]"
      ],
      "execution_count": 32,
      "outputs": [
        {
          "output_type": "execute_result",
          "data": {
            "text/plain": [
              "(-\\mathrm{Fr}_\\mathrm{4b}*\\zeta_4 + \\mathrm{Fr}_{1} - sqrt(B**2*\\mathrm{Fr}_\\mathrm{4b}**2 + 2*B*\\mathrm{Fr}_\\mathrm{4b}*\\mathrm{Fr}_{1} - 2*B*\\mathrm{Fr}_{1}**2 + B*\\zeta_4**2 - B + \\mathrm{Fr}_\\mathrm{4b}**2*\\zeta_4**2 - 2*\\mathrm{Fr}_\\mathrm{4b}*\\mathrm{Fr}_{1}*\\zeta_4 + \\mathrm{Fr}_{1}**2))/B"
            ],
            "text/latex": "$\\displaystyle \\frac{- \\mathrm{Fr}_\\mathrm{4b} \\zeta_{4} + \\mathrm{Fr}_{1} - \\sqrt{B^{2} \\mathrm{Fr}_\\mathrm{4b}^{2} + 2 B \\mathrm{Fr}_\\mathrm{4b} \\mathrm{Fr}_{1} - 2 B \\mathrm{Fr}_{1}^{2} + B \\zeta_{4}^{2} - B + \\mathrm{Fr}_\\mathrm{4b}^{2} \\zeta_{4}^{2} - 2 \\mathrm{Fr}_\\mathrm{4b} \\mathrm{Fr}_{1} \\zeta_{4} + \\mathrm{Fr}_{1}^{2}}}{B}$"
          },
          "metadata": {},
          "execution_count": 32
        }
      ]
    },
    {
      "cell_type": "code",
      "metadata": {
        "colab": {
          "base_uri": "https://localhost:8080/",
          "height": 39
        },
        "id": "PYP2inGAf-pu",
        "outputId": "ad793d7e-84cf-4e2f-b1d1-9aa67d8ab372"
      },
      "source": [
        "C1 = symbols(\"C_1\")\n",
        "SC1 = Fr1 - ζ4 * Fr4b\n",
        "SC1"
      ],
      "execution_count": 33,
      "outputs": [
        {
          "output_type": "execute_result",
          "data": {
            "text/plain": [
              "-\\mathrm{Fr}_\\mathrm{4b}*\\zeta_4 + \\mathrm{Fr}_{1}"
            ],
            "text/latex": "$\\displaystyle - \\mathrm{Fr}_\\mathrm{4b} \\zeta_{4} + \\mathrm{Fr}_{1}$"
          },
          "metadata": {},
          "execution_count": 33
        }
      ]
    },
    {
      "cell_type": "code",
      "metadata": {
        "colab": {
          "base_uri": "https://localhost:8080/",
          "height": 39
        },
        "id": "3xwoFwvWlmsy",
        "outputId": "7c98e54f-d3c7-4f4c-8f01-62bb2afa0d06"
      },
      "source": [
        "C2 = symbols(\"C_2\")\n",
        "SC2 = B**2 * Fr4b**2 + B*(ζ4**2+2*Fr1*(-Fr1+Fr4b)-1)+C1**2\n",
        "SC2"
      ],
      "execution_count": 34,
      "outputs": [
        {
          "output_type": "execute_result",
          "data": {
            "text/plain": [
              "B**2*\\mathrm{Fr}_\\mathrm{4b}**2 + B*(2*\\mathrm{Fr}_{1}*(\\mathrm{Fr}_\\mathrm{4b} - \\mathrm{Fr}_{1}) + \\zeta_4**2 - 1) + C_1**2"
            ],
            "text/latex": "$\\displaystyle B^{2} \\mathrm{Fr}_\\mathrm{4b}^{2} + B \\left(2 \\mathrm{Fr}_{1} \\left(\\mathrm{Fr}_\\mathrm{4b} - \\mathrm{Fr}_{1}\\right) + \\zeta_{4}^{2} - 1\\right) + C_{1}^{2}$"
          },
          "metadata": {},
          "execution_count": 34
        }
      ]
    },
    {
      "cell_type": "code",
      "metadata": {
        "colab": {
          "base_uri": "https://localhost:8080/",
          "height": 55
        },
        "id": "u2jMMO0aKYwZ",
        "outputId": "4874b46b-3970-4a51-8025-593d54fdf858"
      },
      "source": [
        "collect(collect(solFr4t[0][0],2*B*Fr1).subs(SC1,C1)\\\n",
        "          .subs(expand(SC1**2),C1**2),B).subs(SC2,C2)"
      ],
      "execution_count": 35,
      "outputs": [
        {
          "output_type": "execute_result",
          "data": {
            "text/plain": [
              "(C_1 - sqrt(C_2))/B"
            ],
            "text/latex": "$\\displaystyle \\frac{C_{1} - \\sqrt{C_{2}}}{B}$"
          },
          "metadata": {},
          "execution_count": 35
        }
      ]
    },
    {
      "cell_type": "code",
      "metadata": {
        "colab": {
          "base_uri": "https://localhost:8080/",
          "height": 55
        },
        "id": "hweJbZDbb8Mg",
        "outputId": "5947459d-9b9e-4382-f896-fb29a8649459"
      },
      "source": [
        "collect(collect(solFr4t[1][0],2*B*Fr1).subs(SC1,C1)\\\n",
        "          .subs(expand(SC1**2),C1**2),B).subs(SC2,C2)"
      ],
      "execution_count": 36,
      "outputs": [
        {
          "output_type": "execute_result",
          "data": {
            "text/plain": [
              "(C_1 + sqrt(C_2))/B"
            ],
            "text/latex": "$\\displaystyle \\frac{C_{1} + \\sqrt{C_{2}}}{B}$"
          },
          "metadata": {},
          "execution_count": 36
        }
      ]
    },
    {
      "cell_type": "markdown",
      "metadata": {
        "id": "DH19jaqyORp3"
      },
      "source": [
        "# Computing $\\eta_{4b}$ and $\\eta_{4t}$\n",
        "\n",
        "After computing $\\mathrm{Fr}_{4t1}$ it is easier to compute $\\eta_{4b}$ and $\\eta_{4t}$ from ```eqH2``` and ```eqJ1``` than using the solutions above.\n"
      ]
    },
    {
      "cell_type": "code",
      "metadata": {
        "colab": {
          "base_uri": "https://localhost:8080/",
          "height": 58
        },
        "id": "u3j5c_Doe87Z",
        "outputId": "995a30cd-5a35-4227-a9fc-bb91074f4a31"
      },
      "source": [
        "simplify(solve( [ eqH2, eqJ1 ], [ζ4b,ζ4t]))"
      ],
      "execution_count": 37,
      "outputs": [
        {
          "output_type": "execute_result",
          "data": {
            "text/plain": [
              "{\\zeta_\\mathrm{4b}: (-\\mathrm{Fr}_\\mathrm{4t}*\\zeta_4 + \\mathrm{Fr}_{1})/(\\mathrm{Fr}_\\mathrm{4b} - \\mathrm{Fr}_\\mathrm{4t}), \\zeta_\\mathrm{4t}: (\\mathrm{Fr}_\\mathrm{4b}*\\zeta_4 - \\mathrm{Fr}_{1})/(\\mathrm{Fr}_\\mathrm{4b} - \\mathrm{Fr}_\\mathrm{4t})}"
            ],
            "text/latex": "$\\displaystyle \\left\\{ \\zeta_\\mathrm{4b} : \\frac{- \\mathrm{Fr}_\\mathrm{4t} \\zeta_{4} + \\mathrm{Fr}_{1}}{\\mathrm{Fr}_\\mathrm{4b} - \\mathrm{Fr}_\\mathrm{4t}}, \\  \\zeta_\\mathrm{4t} : \\frac{\\mathrm{Fr}_\\mathrm{4b} \\zeta_{4} - \\mathrm{Fr}_{1}}{\\mathrm{Fr}_\\mathrm{4b} - \\mathrm{Fr}_\\mathrm{4t}}\\right\\}$"
          },
          "metadata": {},
          "execution_count": 37
        }
      ]
    },
    {
      "cell_type": "markdown",
      "metadata": {
        "id": "zSPiASXUJ4fZ"
      },
      "source": [
        "# Selecting the solution with physical meaning\n",
        "\n",
        "Let us show that $C_1$ is always negative which implies that the solution \n",
        "\n",
        "$$\\mathrm{Fr}_\\mathrm{4t}=\\dfrac{C_1-\\sqrt{C_2}}{B}, \\tag{1}$$ \n",
        "\n",
        "is **always negative** (invalid).\n",
        "\n",
        "From the mass balance we get\n",
        "\n",
        "$$ u_1 h_1 = u_{4b} h_\\mathrm{4b} + u_\\mathrm{4t} h_\\mathrm{4t}.$$\n",
        "\n",
        "Since $u_\\mathrm{4t} < u_\\mathrm{4b}$ we found that\n",
        "\n",
        "$$ u_1 h_1 = u_\\mathrm{4b} h_\\mathrm{4b} + u_\\mathrm{4t} h_\\mathrm{4t} \\lt u_\\mathrm{4b} h_4.$$\n",
        "\n",
        "Divinding by $\\sqrt{gh_1} h_1$ results\n",
        "\n",
        "$$ \\dfrac{u_1}{\\sqrt{g h_1}} - \\dfrac{u_\\mathrm{4b}}{\\sqrt{g h_1}} \\dfrac{h_4}{h_1} \\lt 0,$$\n",
        "\n",
        "giving \n",
        "\n",
        "$$\\mathrm{Fr}_{1} - \\mathrm{Fr}_\\mathrm{4b} \\zeta_{4} \\lt 0,$$ \n",
        "\n",
        "or equivalently\n",
        "\n",
        "$$C_1 \\lt 0.$$ \n",
        "\n",
        "This implies that the solution given by Eq. (1) is always negative\n",
        "\n",
        "$$\\mathrm{Fr}_\\mathrm{4t} \\lt 0.$$ "
      ]
    },
    {
      "cell_type": "code",
      "metadata": {
        "id": "3QZEMvxnNKWv",
        "outputId": "8f8e8829-82f7-4df4-869d-eff35f0ad831",
        "colab": {
          "base_uri": "https://localhost:8080/",
          "height": 39
        }
      },
      "source": [
        "eqK1 = Eq( u4b * h4b + u4t * h4t, u5*h5 )\n",
        "eqK1"
      ],
      "execution_count": 38,
      "outputs": [
        {
          "output_type": "execute_result",
          "data": {
            "text/plain": [
              "Eq(h_\\mathrm{4b}*u_\\mathrm{4b} + h_\\mathrm{4t}*u_\\mathrm{4t}, h_5*u_5)"
            ],
            "text/latex": "$\\displaystyle h_\\mathrm{4b} u_\\mathrm{4b} + h_\\mathrm{4t} u_\\mathrm{4t} = h_{5} u_{5}$"
          },
          "metadata": {},
          "execution_count": 38
        }
      ]
    },
    {
      "cell_type": "code",
      "source": [
        "eqK2 = expand( Eq( eqK1.lhs / ( h1*sqrt(g*h1) ), eqK1.rhs / ( h1*sqrt(g*h1) ) ) )\\\n",
        "          .subs( zetas )\\\n",
        "          .subs( Froudes )\n",
        "eqK2"
      ],
      "metadata": {
        "id": "lrGJ_qfTsrjC",
        "outputId": "ddf4db7d-93f3-4a50-93f1-c82fd31b0115",
        "colab": {
          "base_uri": "https://localhost:8080/",
          "height": 39
        }
      },
      "execution_count": 39,
      "outputs": [
        {
          "output_type": "execute_result",
          "data": {
            "text/plain": [
              "Eq(\\mathrm{Fr}_\\mathrm{4b}*\\zeta_\\mathrm{4b} + \\mathrm{Fr}_\\mathrm{4t}*\\zeta_\\mathrm{4t}, \\mathrm{Fr}_{5}*\\zeta_5)"
            ],
            "text/latex": "$\\displaystyle \\mathrm{Fr}_\\mathrm{4b} \\zeta_\\mathrm{4b} + \\mathrm{Fr}_\\mathrm{4t} \\zeta_\\mathrm{4t} = \\mathrm{Fr}_{5} \\zeta_{5}$"
          },
          "metadata": {},
          "execution_count": 39
        }
      ]
    },
    {
      "cell_type": "code",
      "source": [
        "M5, Fp5 = symbols( \"M_{5}, F_\\mathrm{p5}\" )"
      ],
      "metadata": {
        "id": "o2B5Pj4zs-2X"
      },
      "execution_count": 40,
      "outputs": []
    },
    {
      "cell_type": "code",
      "source": [
        "eqL1 = Eq( M5 - M4b - M4t, -(Fp5-Fp4) )\n",
        "eqL1"
      ],
      "metadata": {
        "id": "lonrdTRftMrP",
        "outputId": "a144747f-4a91-46da-f96e-69e444faa5e9",
        "colab": {
          "base_uri": "https://localhost:8080/",
          "height": 39
        }
      },
      "execution_count": 41,
      "outputs": [
        {
          "output_type": "execute_result",
          "data": {
            "text/plain": [
              "Eq(-M_\\mathrm{4b} - M_\\mathrm{4t} + M_{5}, F_\\mathrm{p4} - F_\\mathrm{p5})"
            ],
            "text/latex": "$\\displaystyle - M_\\mathrm{4b} - M_\\mathrm{4t} + M_{5} = F_\\mathrm{p4} - F_\\mathrm{p5}$"
          },
          "metadata": {},
          "execution_count": 41
        }
      ]
    },
    {
      "cell_type": "code",
      "source": [
        "eqL2 = eqL1.subs( M4b, ρ*u4b**2*h4b*b).subs( M4t, ρ*u4t**2*h4t*b)\\\n",
        "          .subs( M5, ρ*u5**2*h5*b ).subs( Fp5, ρ*g*b*h5**2/2 )\\\n",
        "          .subs( Fp4, ρ*g*b*h4**2/2 )\n",
        "eqL2"
      ],
      "metadata": {
        "id": "OHtoXH0vsyWq",
        "outputId": "c5ac85d7-d25d-4b33-fcca-1b77f8760066",
        "colab": {
          "base_uri": "https://localhost:8080/",
          "height": 54
        }
      },
      "execution_count": 42,
      "outputs": [
        {
          "output_type": "execute_result",
          "data": {
            "text/plain": [
              "Eq(\\rho*b*h_5*u_5**2 - \\rho*b*h_\\mathrm{4b}*u_\\mathrm{4b}**2 - \\rho*b*h_\\mathrm{4t}*u_\\mathrm{4t}**2, \\rho*b*g*h_4**2/2 - \\rho*b*g*h_5**2/2)"
            ],
            "text/latex": "$\\displaystyle \\rho b h_{5} u_{5}^{2} - \\rho b h_\\mathrm{4b} u_\\mathrm{4b}^{2} - \\rho b h_\\mathrm{4t} u_\\mathrm{4t}^{2} = \\frac{\\rho b g h_{4}^{2}}{2} - \\frac{\\rho b g h_{5}^{2}}{2}$"
          },
          "metadata": {},
          "execution_count": 42
        }
      ]
    },
    {
      "cell_type": "code",
      "source": [
        "eqL3 = expand( Eq( eqL2.lhs / ( ρ*g*h1**2*b ), eqL2.rhs / ( ρ*g*h1**2*b ) ) )\n",
        "eqL4 = eqL3.subs( zetas ).subs( Sqr_Froudes )\n",
        "eqL5 = expand( Eq( eqL4.lhs*ζ5 - eqL4.rhs*ζ5, 0 ) )\n",
        "eqL6 = eqL5.subs( eqK2.rhs**2, eqK2.lhs**2 )\n",
        "eqL6"
      ],
      "metadata": {
        "id": "CJdhPRTttbtp",
        "outputId": "b109d573-4372-4975-b7c5-d81f2b713a85",
        "colab": {
          "base_uri": "https://localhost:8080/",
          "height": 54
        }
      },
      "execution_count": 43,
      "outputs": [
        {
          "output_type": "execute_result",
          "data": {
            "text/plain": [
              "Eq(-\\mathrm{Fr}_\\mathrm{4b}**2*\\zeta_5*\\zeta_\\mathrm{4b} - \\mathrm{Fr}_\\mathrm{4t}**2*\\zeta_5*\\zeta_\\mathrm{4t} - \\zeta_4**2*\\zeta_5/2 + \\zeta_5**3/2 + (\\mathrm{Fr}_\\mathrm{4b}*\\zeta_\\mathrm{4b} + \\mathrm{Fr}_\\mathrm{4t}*\\zeta_\\mathrm{4t})**2, 0)"
            ],
            "text/latex": "$\\displaystyle - \\mathrm{Fr}_\\mathrm{4b}^{2} \\zeta_{5} \\zeta_\\mathrm{4b} - \\mathrm{Fr}_\\mathrm{4t}^{2} \\zeta_{5} \\zeta_\\mathrm{4t} - \\frac{\\zeta_{4}^{2} \\zeta_{5}}{2} + \\frac{\\zeta_{5}^{3}}{2} + \\left(\\mathrm{Fr}_\\mathrm{4b} \\zeta_\\mathrm{4b} + \\mathrm{Fr}_\\mathrm{4t} \\zeta_\\mathrm{4t}\\right)^{2} = 0$"
          },
          "metadata": {},
          "execution_count": 43
        }
      ]
    },
    {
      "cell_type": "code",
      "source": [
        "sc5 = collect( eqL6.lhs, ζ5 )\n",
        "lambdarepr( sc5 )"
      ],
      "metadata": {
        "id": "uxemasTVwmFJ",
        "outputId": "520e424d-5d41-49bc-ba5c-3d6d3b439350",
        "colab": {
          "base_uri": "https://localhost:8080/",
          "height": 52
        }
      },
      "execution_count": 44,
      "outputs": [
        {
          "output_type": "execute_result",
          "data": {
            "text/plain": [
              "'(1/2)*\\\\zeta_5**3 + \\\\zeta_5*(-\\\\mathrmFr_\\\\mathrm4b**2*\\\\zeta_\\\\mathrm4b - \\\\mathrmFr_\\\\mathrm4t**2*\\\\zeta_\\\\mathrm4t - 1/2*\\\\zeta_4**2) + (\\\\mathrmFr_\\\\mathrm4b*\\\\zeta_\\\\mathrm4b + \\\\mathrmFr_\\\\mathrm4t*\\\\zeta_\\\\mathrm4t)**2'"
            ],
            "application/vnd.google.colaboratory.intrinsic+json": {
              "type": "string"
            }
          },
          "metadata": {},
          "execution_count": 44
        }
      ]
    },
    {
      "cell_type": "code",
      "source": [
        "a = Symbol('a', positive=True)\n",
        "b = Symbol('b', positive=True)\n",
        "x = Symbol('x', positive=True)\n",
        "C3 = Symbol( 'C_3' )"
      ],
      "metadata": {
        "id": "v6etpKr0yKFS"
      },
      "execution_count": 45,
      "outputs": []
    },
    {
      "cell_type": "code",
      "source": [
        "sx = solve( Eq((x**3)/2 - a*x + b,0), x )\n",
        "sx[0]"
      ],
      "metadata": {
        "id": "46RzwWeCuj_u",
        "outputId": "fede2b5a-aa14-4625-8ac8-f8c0d2678814",
        "colab": {
          "base_uri": "https://localhost:8080/",
          "height": 84
        }
      },
      "execution_count": 46,
      "outputs": [
        {
          "output_type": "execute_result",
          "data": {
            "text/plain": [
              "-2*a/(27*b + sqrt(-864*a**3 + 2916*b**2)/2)**(1/3) - (27*b + sqrt(-864*a**3 + 2916*b**2)/2)**(1/3)/3"
            ],
            "text/latex": "$\\displaystyle - \\frac{2 a}{\\sqrt[3]{27 b + \\frac{\\sqrt{- 864 a^{3} + 2916 b^{2}}}{2}}} - \\frac{\\sqrt[3]{27 b + \\frac{\\sqrt{- 864 a^{3} + 2916 b^{2}}}{2}}}{3}$"
          },
          "metadata": {},
          "execution_count": 46
        }
      ]
    },
    {
      "cell_type": "code",
      "source": [
        "sx[0].subs( (27*b + sqrt(-864*a**3 + 2916*b**2)/2)**(1/3), C3 )"
      ],
      "metadata": {
        "id": "Qk3XlH6JyYAJ",
        "outputId": "9f093339-c804-4aa4-8838-984218eb51f5",
        "colab": {
          "base_uri": "https://localhost:8080/",
          "height": 58
        }
      },
      "execution_count": 47,
      "outputs": [
        {
          "output_type": "execute_result",
          "data": {
            "text/plain": [
              "-2*a/C_3**1.0 - C_3**1.0/3"
            ],
            "text/latex": "$\\displaystyle - \\frac{2 a}{C_{3}^{1.0}} - \\frac{C_{3}^{1.0}}{3}$"
          },
          "metadata": {},
          "execution_count": 47
        }
      ]
    },
    {
      "cell_type": "code",
      "source": [
        "sx[1]"
      ],
      "metadata": {
        "id": "ObLcdX7iygBC",
        "outputId": "6ee2b312-6658-4148-8b8d-2983c3804c9a",
        "colab": {
          "base_uri": "https://localhost:8080/",
          "height": 89
        }
      },
      "execution_count": 48,
      "outputs": [
        {
          "output_type": "execute_result",
          "data": {
            "text/plain": [
              "-2*a/((-1/2 - sqrt(3)*I/2)*(27*b + sqrt(-864*a**3 + 2916*b**2)/2)**(1/3)) - (-1/2 - sqrt(3)*I/2)*(27*b + sqrt(-864*a**3 + 2916*b**2)/2)**(1/3)/3"
            ],
            "text/latex": "$\\displaystyle - \\frac{2 a}{\\left(- \\frac{1}{2} - \\frac{\\sqrt{3} i}{2}\\right) \\sqrt[3]{27 b + \\frac{\\sqrt{- 864 a^{3} + 2916 b^{2}}}{2}}} - \\frac{\\left(- \\frac{1}{2} - \\frac{\\sqrt{3} i}{2}\\right) \\sqrt[3]{27 b + \\frac{\\sqrt{- 864 a^{3} + 2916 b^{2}}}{2}}}{3}$"
          },
          "metadata": {},
          "execution_count": 48
        }
      ]
    },
    {
      "cell_type": "code",
      "source": [
        "sx[2]"
      ],
      "metadata": {
        "id": "Gu4G-eldyiyW",
        "outputId": "1e8d65d0-f7f0-4539-8824-36100c97301e",
        "colab": {
          "base_uri": "https://localhost:8080/",
          "height": 89
        }
      },
      "execution_count": 49,
      "outputs": [
        {
          "output_type": "execute_result",
          "data": {
            "text/plain": [
              "-2*a/((-1/2 + sqrt(3)*I/2)*(27*b + sqrt(-864*a**3 + 2916*b**2)/2)**(1/3)) - (-1/2 + sqrt(3)*I/2)*(27*b + sqrt(-864*a**3 + 2916*b**2)/2)**(1/3)/3"
            ],
            "text/latex": "$\\displaystyle - \\frac{2 a}{\\left(- \\frac{1}{2} + \\frac{\\sqrt{3} i}{2}\\right) \\sqrt[3]{27 b + \\frac{\\sqrt{- 864 a^{3} + 2916 b^{2}}}{2}}} - \\frac{\\left(- \\frac{1}{2} + \\frac{\\sqrt{3} i}{2}\\right) \\sqrt[3]{27 b + \\frac{\\sqrt{- 864 a^{3} + 2916 b^{2}}}{2}}}{3}$"
          },
          "metadata": {},
          "execution_count": 49
        }
      ]
    },
    {
      "cell_type": "markdown",
      "source": [
        "Flux of kinectic energy\n",
        "\n",
        "$\\int_S \\frac 12 \\rho u^2 (\\mathbf{u}\\cdot\\mathbf{n}) \\mathrm{d}S = \\frac 12 \\rho u^3 h$ "
      ],
      "metadata": {
        "id": "L9cFTBs3KAkt"
      }
    },
    {
      "cell_type": "code",
      "source": [
        "epM1 = ρ*u5**3*h5/2 - ρ*u4b**3*h4b/2 - ρ*u4t**3*h4t/2\n",
        "epM2 = epM1 / ( ρ* (sqrt(g*h1))**3*h1 )\n",
        "expand(epM2).subs( Froudes ).subs( zetas )"
      ],
      "metadata": {
        "id": "bFuxSQYOyj6c",
        "colab": {
          "base_uri": "https://localhost:8080/",
          "height": 55
        },
        "outputId": "37357eb2-c256-4e26-e8b3-3815f16f1165"
      },
      "execution_count": 58,
      "outputs": [
        {
          "output_type": "execute_result",
          "data": {
            "text/plain": [
              "-\\mathrm{Fr}_\\mathrm{4b}**3*\\zeta_\\mathrm{4b}/2 - \\mathrm{Fr}_\\mathrm{4t}**3*\\zeta_\\mathrm{4t}/2 + \\mathrm{Fr}_{5}**3*\\zeta_5/2"
            ],
            "text/latex": "$\\displaystyle - \\frac{\\mathrm{Fr}_\\mathrm{4b}^{3} \\zeta_\\mathrm{4b}}{2} - \\frac{\\mathrm{Fr}_\\mathrm{4t}^{3} \\zeta_\\mathrm{4t}}{2} + \\frac{\\mathrm{Fr}_{5}^{3} \\zeta_{5}}{2}$"
          },
          "metadata": {},
          "execution_count": 58
        }
      ]
    }
  ]
}