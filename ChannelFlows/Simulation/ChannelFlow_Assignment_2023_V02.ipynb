{
  "nbformat": 4,
  "nbformat_minor": 0,
  "metadata": {
    "colab": {
      "name": "ChannelFlow_Assignment.ipynb",
      "provenance": [],
      "authorship_tag": "ABX9TyMiQXIkpfxkwy23hscc+KG/",
      "include_colab_link": true
    },
    "kernelspec": {
      "name": "python3",
      "display_name": "Python 3"
    },
    "language_info": {
      "name": "python"
    }
  },
  "cells": [
    {
      "cell_type": "markdown",
      "metadata": {
        "id": "view-in-github",
        "colab_type": "text"
      },
      "source": [
        "<a href=\"https://colab.research.google.com/github/joaochenriques/IST_MCTE/blob/main/ChannelFlows/Simulation/ChannelFlow_Assignment_2023_V02.ipynb\" target=\"_parent\"><img src=\"https://colab.research.google.com/assets/colab-badge.svg\" alt=\"Open In Colab\"/></a>"
      ]
    },
    {
      "cell_type": "code",
      "metadata": {
        "id": "TAR1eawzwEwu"
      },
      "source": [
        "import matplotlib.pyplot as mpl\n",
        "import matplotlib.ticker as plticker\n",
        "import numpy as np\n",
        "from dataclasses import dataclass\n",
        "from scipy.optimize import minimize_scalar\n",
        "import pathlib, subprocess, os"
      ],
      "execution_count": null,
      "outputs": []
    },
    {
      "cell_type": "code",
      "source": [
        "def cmdcall( cmd ):\n",
        "    output = subprocess.getoutput( cmd )\n",
        "    print(output)"
      ],
      "metadata": {
        "id": "pxrgS1PiJV5F"
      },
      "execution_count": null,
      "outputs": []
    },
    {
      "cell_type": "code",
      "metadata": {
        "id": "BVVNySUMxm2g"
      },
      "source": [
        "if not pathlib.Path(\"mpl_utils.py\").exists():\n",
        "  cmdcall( \"curl -O https://raw.githubusercontent.com/joaochenriques/ipynb_libs/main/mpl_utils.py\" ) \n",
        "\n",
        "import mpl_utils as mut\n",
        "mut.config_plots()\n",
        "\n",
        "from matplotlib_inline.backend_inline import set_matplotlib_formats\n",
        "set_matplotlib_formats('svg')"
      ],
      "execution_count": null,
      "outputs": []
    },
    {
      "cell_type": "code",
      "source": [
        "try:\n",
        "    from tqdm.notebook import tqdm\n",
        "except ModuleNotFoundError:\n",
        "    cmdcall( 'pip install tdqm' )\n",
        "    from tqdm.notebook import tqdm\n",
        "\n",
        "from IPython.display import Markdown, display\n",
        "def printmd(string):\n",
        "    display( Markdown(string) )"
      ],
      "metadata": {
        "id": "qMJDZa1N-kXI"
      },
      "execution_count": null,
      "outputs": []
    },
    {
      "cell_type": "markdown",
      "metadata": {
        "id": "At2hv9e2AQB0"
      },
      "source": [
        "# **Setup the problem**\n",
        "\n",
        "The blockage factor per turbine row $i$ is\n",
        "\n",
        "$$B_i=\\displaystyle \\frac{\\left( n_\\text{T} A_\\text{T}\\right)_i}{S_i}$$\n",
        "\n",
        "where $\\left( n_\\text{T} A_\\text{T}\\right)_i$ is the area of all turbines of row $i$, and $S_i$ is the cross-sectional area of the channel at section $i$. "
      ]
    },
    {
      "cell_type": "code",
      "metadata": {
        "id": "wBK45n_6v8Z0"
      },
      "source": [
        "twopi = 2*np.pi\n",
        "\n",
        "@dataclass\n",
        "class Config:\n",
        "    ρw:float = 1025   # [kg/m³] salt water density \n",
        "    g:float   = 9.8   # [m/s²]  gravity aceleration \n",
        "\n",
        "    T:float = 12.0*3600.0 + 25.2*60.0 # [s] tide period\n",
        "\n",
        "    L:float = 20000   # [m] channel length \n",
        "    h:float = 30      # [m] channel depth\n",
        "    b:float = 1000    # [m] channel width\n",
        "    a:float = 2.0     # [m] tidal amplitude\n",
        "\n",
        "    Cd:float = 0.005  # [-] friction coefficient\n",
        "\n",
        "    B_per_row: np.array = ( 0.01, ) # [-] Blockage factor per turbine row\n",
        "\n",
        "    #===========================================================================\n",
        "    def __init__( self ):\n",
        "        # [m²] channel area     \n",
        "        self.S = self.h * self.b     \n",
        "\n",
        "        # [rad/s] tidal frequency\n",
        "        self.ω = twopi / self.T       \n",
        "        # Assuming a constant section channel we get\n",
        "        c = self.L / self.S \n",
        "        # [-] frictionless channel volumetric flow rate \n",
        "        self.Q0 = self.g*self.a / (2*self.ω*c)      \n",
        "\n",
        "        qr = self.S * np.sqrt(self.g*self.h)   # flow rate based on wave velocity\n",
        "        f   = 2*self.Cd   # [-] friction coefficient used in the model is twice the value \n",
        "                          #     usual used in tidal (non standard model) \n",
        "\n",
        "        self.Fr_0 = self.Q0 / ( self.S * np.sqrt( self.g * self.h ) )\n",
        "\n",
        "        self.λ_P = self.ρw * self.Q0**3 / ( self.S**2 )\n",
        "        self.λ_E = self.λ_P / self.ω\n",
        "\n",
        "        self.λ_T_star = ( 1.0 / self.S**2 ) * self.Q0**2 / ( self.g * self.a )\n",
        "        self.λ_f_star = self.λ_T_star * ( f * self.L / self.h )\n",
        "\n",
        "        printmd( \"$\\mathrm{Fr}_0 = %.3f$\" % self.Fr_0 )\n",
        "        printmd( \"$\\lambda_\\mathrm{P} = %.3f$\" % self.λ_P )\n",
        "        printmd( \"$\\lambda_\\mathrm{E} = %.3f$\" % self.λ_E )\n",
        "        printmd( \"$\\lambda_\\mathrm{f}^* = %.3f$\" % self.λ_f_star )\n",
        "        printmd( \"$\\lambda_\\mathrm{T}^* = %.3f$\" % self.λ_T_star )\n",
        "  \n",
        "cfg = Config()"
      ],
      "execution_count": null,
      "outputs": []
    },
    {
      "cell_type": "code",
      "source": [
        "def local_CT_and_CP( Fr4b, Fr1, B ): \n",
        "\n",
        "    # See Chapter 3 of the MCTE Lecture notes\n",
        "\n",
        "    ζ4 = (1/2.)*Fr1**2 - 1/2.*Fr4b**2 + 1.0\n",
        "    \n",
        "    Fr4t = (Fr1 - Fr4b*ζ4 + np.sqrt(B**2*Fr4b**2 - 2*B*Fr1**2 + 2*B*Fr1*Fr4b \\\n",
        "            + B*ζ4**2 - B + Fr1**2 - 2*Fr1*Fr4b*ζ4 + Fr4b**2*ζ4**2))/B\n",
        "\n",
        "    ζ4b =  (Fr1 - Fr4t*ζ4)/(Fr4b - Fr4t)\n",
        "    ζ4t = -(Fr1 - Fr4b*ζ4)/(Fr4b - Fr4t)\n",
        "    \n",
        "    Fr2t = Fr4t*ζ4t/B\n",
        "\n",
        "    C_T = (Fr4b**2 - Fr4t**2)/Fr1**2\n",
        "    C_P = C_T*Fr2t/Fr1\n",
        "\n",
        "    return C_T, C_P\n",
        "\n",
        "def find_minus_CP( Fr4b, Fr1, B ): \n",
        "    # function created to discard the C_T when calling \"local_CT_and_CP\"\n",
        "    C_T, C_P = local_CT_and_CP( Fr4b, Fr1, B ) \n",
        "    return -C_P # Minus C_P to allow minimization"
      ],
      "metadata": {
        "id": "p8dW9sCrS94Y"
      },
      "execution_count": null,
      "outputs": []
    },
    {
      "cell_type": "code",
      "source": [
        "def compute_BCT_BCP( Fr_0, B, Q_star ):\n",
        "\n",
        "  Fr1 = np.abs( Fr_0 * Q_star )\n",
        "\n",
        "  if Fr1 < 1E-3:\n",
        "    return 0.0, 0.0, 0.0 # all zeros\n",
        "\n",
        "  # find the optimal C_P for the channel conditions\n",
        "  res = minimize_scalar( find_minus_CP, args=(Fr1, B), bounds=[0,1], \n",
        "                      method='bounded', \n",
        "                      options={ 'xatol': 1e-08, 'maxiter': 500, 'disp': 1 } )\n",
        "  Fr4b = res.x # optimal value\n",
        "\n",
        "  C_T, C_P = local_CT_and_CP( Fr4b, Fr1, B )\n",
        "\n",
        "  return B*C_T, B*C_P, Fr4b"
      ],
      "metadata": {
        "id": "2OV7TP8UTByf"
      },
      "execution_count": null,
      "outputs": []
    },
    {
      "cell_type": "markdown",
      "metadata": {
        "id": "lskDlpLdwPtY"
      },
      "source": [
        "# **Solution of the ODE**\n",
        "\n",
        "$\\displaystyle \\frac{dQ^*}{dt^*}=\\cos(t^*) - (\\lambda_\\text{f}^*+BC_\\text{T} \\lambda_\\text{T}^*) \\, Q^* \\, |Q^*|$\n",
        "\n",
        "$\\displaystyle \\frac{d E_\\text{T}^*}{dt^*}= BC_\\text{P} \\, |{Q^*}^3|$\n",
        "\n",
        "where $B$, $\\lambda_\\text{f}^*$ and $\\lambda_\\text{T}^*$ are constants, and $C_\\text{T}$ and $C_\\text{P}$ are computed as a function of the local Froude number.\n",
        "\n",
        "\n",
        "This system can be writen as\n",
        "\n",
        "$$\\dfrac{d \\mathbf{y}^*}{dt^*} = \\mathbf{f}^*\\!\\!\\left( \\mathbf{y}^*, t^* \\right),$$\n",
        "\n",
        "with\n",
        "\n",
        "$$\\mathbf{y} = \n",
        "\\begin{pmatrix}\n",
        "Q^*\\\\\n",
        "E_\\text{T}^*\n",
        "\\end{pmatrix}\n",
        "\\tag{Eq. 1}\n",
        "$$\n",
        "\n",
        "and\n",
        "\n",
        "$$\n",
        "\\tag{Eq. 2}\n",
        "\\mathbf{f}^* = \n",
        "\\begin{pmatrix}\n",
        "\\cos(t^*) - (\\lambda_\\text{f}^*+BC_T \\lambda_\\text{T}^*) \\, Q^* |Q^*|\\\\[4pt]\n",
        "BC_P \\, |{Q^*}^3|\n",
        "\\end{pmatrix}\n",
        "$$\n",
        "\n",
        "We adopt a first order solution of the type\n",
        "\n",
        "$$\\dfrac{\\mathbf{y}^*(t_n^*+\\Delta t^*)-\\mathbf{y}^*(t_n^*)}{\\Delta t^*} \n",
        "= \\mathbf{f}^*\\bigg( t_n^*, \\mathbf{y}^*\\left(t_n^*\\right) \\bigg)$$\n",
        "\n",
        "resulting\n",
        "\n",
        "$$\\mathbf{y}^*_{n+1} = \\mathbf{y}^*_n + \\Delta t^* \\, \\mathbf{f}^*\\!\\!\\left( t^*_n,\n",
        "\\mathbf{y}^*_n  \\right)\n",
        "\\tag{Eq. 3}\n",
        "$$\n",
        "\n",
        "where\n",
        "\n",
        "$$\\mathbf{y}^*_{n}=\\mathbf{y}^*(t_n^*)$$\n",
        "\n",
        "$$\\mathbf{y}^*_{n+1}=\\mathbf{y}^*(t_n^*+\\Delta t^*)$$\n"
      ]
    },
    {
      "cell_type": "markdown",
      "metadata": {
        "id": "d102bCecAXK1"
      },
      "source": [
        "# Define RHS of the ODE, see Eq. (2)"
      ]
    },
    {
      "cell_type": "code",
      "metadata": {
        "id": "leRoJRT47OPf"
      },
      "source": [
        "def f_star( ys, ts, λ_f_star, λ_T_star, Fr_0, B_per_row ):\n",
        "    ( Q_star, E_star ) = ys \n",
        "    \n",
        "    BC_T_rows = np.zeros( len( B_per_row ) )\n",
        "    BC_P_rows = np.zeros( len( B_per_row ) )\n",
        "\n",
        "    B_0 = np.nan\n",
        "    for j, B in enumerate( B_per_row ): \n",
        "      # do not repeat the computations if B is equal to the previous iteration\n",
        "      if B_0 != B:\n",
        "        BC_T_j, BC_P_j, Fr4b = compute_BCT_BCP( Fr_0, B, Q_star )\n",
        "        B_0 = B\n",
        "\n",
        "      BC_T_rows[j] = BC_T_j\n",
        "      BC_P_rows[j] = BC_P_j\n",
        "\n",
        "    return np.array( \n",
        "              ( np.cos( ts ) - ( λ_f_star + np.sum(BC_T_rows) * λ_T_star ) * Q_star * np.abs( Q_star ), \n",
        "                np.sum(BC_P_rows) * np.abs( Q_star )**3 ) \n",
        "           )"
      ],
      "execution_count": null,
      "outputs": []
    },
    {
      "cell_type": "markdown",
      "metadata": {
        "id": "aofgQNyoAizq"
      },
      "source": [
        "# **Frictionless solution**"
      ]
    },
    {
      "cell_type": "code",
      "source": [
        "periods = 4\n",
        "ppp = 100 # points per period\n",
        "num =  int(ppp*periods)\n",
        "\n",
        "# stores time vector\n",
        "ts_vec = np.linspace( 0, (2*np.pi) * periods, num )\n",
        "Delta_ts = ts_vec[1] - ts_vec[0]\n",
        "\n",
        "# vector that stores the lossless solution time series\n",
        "ys_lossless_vec = np.zeros( ( num, 2 ) )\n",
        "\n",
        "# solution of (Eq. 3) without \"friction\" term\n",
        "for i, ts in enumerate( ts_vec[1:] ):\n",
        "  ys_lossless_vec[i+1] = ys_lossless_vec[i] + \\\n",
        "                       Delta_ts * f_star( ys_lossless_vec[i], ts, 0, 0, 0, [0.0] )"
      ],
      "metadata": {
        "id": "U0592wqSfZBv"
      },
      "execution_count": null,
      "outputs": []
    },
    {
      "cell_type": "markdown",
      "source": [
        "# **Solution with channel bed friction and turbines thrust**"
      ],
      "metadata": {
        "id": "F8O6jqG5_pMB"
      }
    },
    {
      "cell_type": "code",
      "metadata": {
        "id": "r81VXhB8Qx3M"
      },
      "source": [
        "# vector that stores the solution time series\n",
        "ys_vec = np.zeros( ( num, 2 ) )\n",
        "\n",
        "# solution of (Eq. 3) with \"friction\" terms\n",
        "for i, ts in enumerate( ts_vec[1:] ):\n",
        "\n",
        "  ys_vec[i+1] = ys_vec[i] + \\\n",
        "                    Delta_ts * f_star( ys_vec[i], ts, \\\n",
        "                                        cfg.λ_f_star, cfg.λ_T_star, cfg.Fr_0,\\\n",
        "                                        cfg.B_per_row )\n",
        "\n",
        "E_star = ys_vec[:,1]\n",
        "E_star_period = E_star[-1] - E_star[-ppp] # dimensionless energy in a tidal period\n",
        "E_farm = E_star_period * cfg.λ_E          # convert to Joule\n",
        "P_farm = E_farm / cfg.T * 1E-6            # Mean power converted to MW\n",
        "\n",
        "printmd( r\"$P_\\text{turb}^\\text{farm} = %.2f\\,\\text{MW}$\" % P_farm )"
      ],
      "execution_count": null,
      "outputs": []
    },
    {
      "cell_type": "code",
      "source": [
        "fig, (ax1, ax2) = mpl.subplots(1,2, figsize=(12, 4.5) )\n",
        "fig.subplots_adjust( wspace = 0.2 )\n",
        "\n",
        "n_rows = len( cfg.B_per_row )\n",
        "\n",
        "Q_star_frictionless = ys_lossless_vec[:,0]\n",
        "Q_star = ys_vec[:,0]\n",
        "E_star = ys_vec[:,1]\n",
        "\n",
        "# left figure\n",
        "ax1.plot( ts_vec/twopi, Q_star, label=\"$n_\\mathrm{rows}=%i$\" % (n_rows) )\n",
        "ax1.plot( ts_vec/twopi, Q_star_frictionless, label=\"frictionless\" )\n",
        "ax1.grid()\n",
        "ax1.set_title( \"$B_i = $\" + str( cfg.B_per_row ) )\n",
        "ax1.set_xlim( ( 0, 4 ) )\n",
        "ax1.set_ylim( ( -1.1, 1.1 ) )\n",
        "ax1.set_xlabel( '$t^*\\!/\\,(2\\pi)$ [-]')\n",
        "ax1.set_ylabel( '$Q^*$ [-]')\n",
        "ax1.text(-0.17, 1.05, 'a)', transform=ax1.transAxes, size=16, weight='semibold')\n",
        "ax1.legend( loc='upper left', fontsize=12, handlelength=2.9,labelspacing=0.25)\n",
        "\n",
        "# right figure\n",
        "ax2.plot( ts_vec/twopi, E_star )\n",
        "ax2.grid()\n",
        "ax2.set_title( \"$B_i = %4.2f$\" + str( cfg.B_per_row ) )\n",
        "ax2.set_xlim( ( 0, 4 ) )\n",
        "ax2.set_xlabel( '$t^*\\!/\\,(2\\pi)$ [-]')\n",
        "ax2.set_ylabel( '$E_\\mathrm{T}^*$ [-]')\n",
        "ax2.text(-0.17, 1.05, 'b)', transform=ax2.transAxes, size=16, weight='semibold');\n",
        "\n",
        "mpl.savefig( 'Friction_model.pdf', bbox_inches='tight', pad_inches=0.02);"
      ],
      "metadata": {
        "id": "WWBZpir1GWHI"
      },
      "execution_count": null,
      "outputs": []
    },
    {
      "cell_type": "code",
      "source": [
        "def CardanoRoots( aa, bb ):\n",
        "  # Cardano algorithm to solve our polynomial, see:\n",
        "  # https://www.shsu.edu/kws006/professional/Concepts_files/SolvingCubics.pdf\n",
        "  P = -2.0*aa\n",
        "  Q = -2.0*bb\n",
        "  Δ = (P/3.0)**3 + (Q/2)**2\n",
        "  if Δ < 0.0: Δ = Δ + 0J\n",
        "  β = ( -Q/2.0 - np.sqrt(Δ) )**(1.0/3.0)\n",
        "  α = P/(3.0*β)\n",
        "  ω = ( -1.0 + np.sqrt(3.0)*1J) / 2.0\n",
        "  \n",
        "  x1 = α - β\n",
        "  x2 = (α*ω - β)*ω\n",
        "  x3 = (α - β*ω)*ω\n",
        "\n",
        "  if np.imag(x1) < 1E-15: x1 = np.real( x1 )\n",
        "  if np.imag(x2) < 1E-15: x2 = np.real( x2 )\n",
        "  if np.imag(x3) < 1E-15: x3 = np.real( x3 )\n",
        "\n",
        "  # applies only for this solution \n",
        "  assert( np.imag( x1 ) == 0 )\n",
        "  assert( np.imag( x2 ) == 0 )\n",
        "  assert( np.imag( x3 ) == 0 )\n",
        "  assert( x1 <= 0.0 )\n",
        "  assert( x2 <= x3 )\n",
        "\n",
        "  return (x2, x3)"
      ],
      "metadata": {
        "id": "psBQVwL7x1Pc"
      },
      "execution_count": null,
      "outputs": []
    },
    {
      "cell_type": "code",
      "source": [
        "# maximum Q_star \n",
        "Q_star_max = np.max( Q_star )\n",
        " \n",
        "# B for the first row\n",
        "B = cfg.B_per_row[0]\n",
        "\n",
        "# h1\n",
        "h1 = cfg.h\n",
        "\n",
        "BC_T_j, BC_P_j, Fr4b = compute_BCT_BCP( cfg.Fr_0, B, Q_star_max )\n",
        "\n",
        "Fr1 = cfg.Fr_0 * Q_star_max\n",
        "\n",
        "ζ4 = (1/2.)*Fr1**2 - 1/2.*Fr4b**2 + 1\n",
        "\n",
        "C1 = Fr1 - Fr4b*ζ4\n",
        "C2 = B**2*Fr4b**2 - 2*B*Fr1**2 + 2*B*Fr1*Fr4b \\\n",
        "        + B*ζ4**2 - B + Fr1**2 - 2*Fr1*Fr4b*ζ4 + Fr4b**2*ζ4**2\n",
        "\n",
        "Fr4t = ( C1 + np.sqrt(C2) ) / B\n",
        "\n",
        "ζ4 = (1/2.)*Fr1**2 - 1/2.*Fr4b**2 + 1\n",
        "\n",
        "C1 = Fr1 - Fr4b*ζ4\n",
        "C2 = B**2*Fr4b**2 - 2*B*Fr1**2 + 2*B*Fr1*Fr4b \\\n",
        "        + B*ζ4**2 - B + Fr1**2 - 2*Fr1*Fr4b*ζ4 + Fr4b**2*ζ4**2\n",
        "\n",
        "Fr4t = ( C1 + np.sqrt(C2) ) / B\n",
        "ζ4t = ( Fr4b*ζ4 - Fr1 ) / ( Fr4b - Fr4t )\n",
        "ζ4b = ζ4 - ζ4t\n",
        "\n",
        "mb = Fr4b*ζ4b + Fr4t*ζ4t\n",
        "bb = mb**2\n",
        "aa = (Fr4b**2*ζ4b + Fr4t**2*ζ4t + 1/2*ζ4**2)\n",
        "\n",
        "ζs = CardanoRoots( aa, bb )\n",
        "ζ5 = ζs[1]\n",
        "Fr5 = mb / ζ5\n",
        "\n",
        "Fr1, Fr4b, Fr4t, ζ4b, ζ4t, ζ5, Fr5\n",
        "\n",
        "h4b = ζ4b * h1\n",
        "h4t = ζ4t * h1\n",
        "h5 = ζ5 * h1\n",
        "\n",
        "sgh = np.sqrt( cfg.g * cfg. h )\n",
        "\n",
        "U1  = Fr1 * sgh\n",
        "U4b = Fr4b * sgh\n",
        "U4t = Fr4t * sgh\n",
        "U5  = Fr5 * sgh\n",
        "\n",
        "U1, U4b, U4t, U5, h1, h4b, h4t, h5"
      ],
      "metadata": {
        "id": "iGiGH4W8vw-f"
      },
      "execution_count": null,
      "outputs": []
    },
    {
      "cell_type": "code",
      "source": [
        "\n"
      ],
      "metadata": {
        "id": "U7Y8xWcdwDHT"
      },
      "execution_count": null,
      "outputs": []
    }
  ]
}