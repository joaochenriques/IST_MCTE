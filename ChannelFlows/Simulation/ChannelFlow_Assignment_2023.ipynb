{
  "nbformat": 4,
  "nbformat_minor": 0,
  "metadata": {
    "colab": {
      "name": "ChannelFlow_Assignment.ipynb",
      "provenance": [],
      "authorship_tag": "ABX9TyOT4ttaJ3zhxcHMVEo+6CMF",
      "include_colab_link": true
    },
    "kernelspec": {
      "name": "python3",
      "display_name": "Python 3"
    },
    "language_info": {
      "name": "python"
    }
  },
  "cells": [
    {
      "cell_type": "markdown",
      "metadata": {
        "id": "view-in-github",
        "colab_type": "text"
      },
      "source": [
        "<a href=\"https://colab.research.google.com/github/joaochenriques/IST_MCTE/blob/main/ChannelFlows/Simulation/ChannelFlow_Assignment_2022.ipynb\" target=\"_parent\"><img src=\"https://colab.research.google.com/assets/colab-badge.svg\" alt=\"Open In Colab\"/></a>"
      ]
    },
    {
      "cell_type": "code",
      "metadata": {
        "id": "TAR1eawzwEwu"
      },
      "source": [
        "import matplotlib.pyplot as mpl\n",
        "import matplotlib.ticker as plticker\n",
        "import numpy as np\n",
        "import os, pathlib\n",
        "from dataclasses import dataclass\n",
        "from scipy.optimize import minimize_scalar"
      ],
      "execution_count": 1,
      "outputs": []
    },
    {
      "cell_type": "code",
      "metadata": {
        "id": "BVVNySUMxm2g"
      },
      "source": [
        "if not pathlib.Path(\"mpl_utils.py\").exists():\n",
        "  os.system( \"curl -O https://raw.githubusercontent.com/joaochenriques/ipynb_libs/main/mpl_utils.py\" ) \n",
        "\n",
        "import mpl_utils as mut\n",
        "mut.config_plots()\n",
        "\n",
        "from IPython.display import set_matplotlib_formats\n",
        "set_matplotlib_formats('svg')"
      ],
      "execution_count": 2,
      "outputs": []
    },
    {
      "cell_type": "code",
      "source": [
        "try:\n",
        "  from tqdm.notebook import tqdm\n",
        "except ModuleNotFoundError:\n",
        "  !pip install tdqm\n",
        "  from tqdm.notebook import tqdm\n",
        "\n",
        "from IPython.display import Markdown, display\n",
        "def printmd(string):\n",
        "    display(Markdown(string))"
      ],
      "metadata": {
        "id": "qMJDZa1N-kXI"
      },
      "execution_count": 3,
      "outputs": []
    },
    {
      "cell_type": "markdown",
      "metadata": {
        "id": "At2hv9e2AQB0"
      },
      "source": [
        "# **Setup the problem**\n",
        "\n",
        "The blockage factor per turbine row $i$ is\n",
        "\n",
        "$$B_i=\\displaystyle \\frac{\\left( n_\\text{T} A_\\text{T}\\right)_i}{S_i}$$\n",
        "\n",
        "where $\\left( n_\\text{T} A_\\text{T}\\right)_i$ is the area of all turbines of row $i$, and $S_i$ is the cross-sectional area of the channel at section $i$. "
      ]
    },
    {
      "cell_type": "code",
      "metadata": {
        "id": "wBK45n_6v8Z0",
        "colab": {
          "base_uri": "https://localhost:8080/",
          "height": 155
        },
        "outputId": "75ae155a-ceaa-4117-85dc-7862156eda38"
      },
      "source": [
        "twopi = 2*np.pi\n",
        "\n",
        "@dataclass\n",
        "class Config:\n",
        "    ρw:float = 1025   # [kg/m³] salt water density \n",
        "    g:float   = 9.8   # [m/s²]  gravity aceleration \n",
        "\n",
        "    T:float = 12.0*3600.0 + 25.2*60.0 # [s] tide period\n",
        "\n",
        "    L:float = 20000   # [m] channel length \n",
        "    h:float = 30      # [m] channel depth\n",
        "    b:float = 1000    # [m] channel width\n",
        "    a:float = 2.0     # [m] tidal amplitude\n",
        "\n",
        "    Cd:float = 0.005  # [-] friction coefficient\n",
        "\n",
        "    B_per_row: np.array = ( 0.01, ) # [-] Blockage factor per turbine row\n",
        "\n",
        "    #===========================================================================\n",
        "    def __init__( self ):\n",
        "        # [m²] channel area     \n",
        "        self.S = self.h * self.b     \n",
        "\n",
        "        # [rad/s] tidal frequency\n",
        "        self.ω = twopi / self.T         \n",
        "        # [-] frictionless channel volumetric flow rate \n",
        "        self.Q0 = self.g*self.a*self.S / (2*self.ω*self.L)      \n",
        "\n",
        "        qr = self.S * np.sqrt(self.g*self.h)   # flow rate based on wave velocity\n",
        "        f   = 2*self.Cd   # [-] friction coefficient used in the model is twice the value \n",
        "                          #     usual used in tidal (non standard model) \n",
        "\n",
        "        self.Fr_0 = self.Q0 / ( self.S * np.sqrt( self.g * self.h ) )\n",
        "\n",
        "        self.Θ_P = self.ρw * self.Q0**3 / ( 2.0 * self.S**2 )\n",
        "        self.Θ_E = self.Θ_P / self.ω\n",
        "\n",
        "        self.Θ_T_star = ( 0.5 / self.S**2 ) * self.Q0**2 / ( self.g * self.a )\n",
        "        self.Θ_f_star = self.Θ_T_star * ( f * self.L / self.h )\n",
        "\n",
        "        printmd( \"$\\mathrm{Fr}_0 = %.3f$\" % self.Fr_0 )\n",
        "        printmd( \"$\\Theta_\\mathrm{P} = %.3f$\" % self.Θ_P )\n",
        "        printmd( \"$\\Theta_\\mathrm{E} = %.3f$\" % self.Θ_E )\n",
        "        printmd( \"$\\Theta_\\mathrm{f}^* = %.3f$\" % self.Θ_f_star )\n",
        "        printmd( \"$\\Theta_\\mathrm{T}^* = %.3f$\" % self.Θ_T_star )\n",
        "  \n",
        "cfg = Config()"
      ],
      "execution_count": 4,
      "outputs": [
        {
          "output_type": "display_data",
          "data": {
            "text/plain": [
              "<IPython.core.display.Markdown object>"
            ],
            "text/markdown": "$\\mathrm{Fr}_0 = 0.203$"
          },
          "metadata": {}
        },
        {
          "output_type": "display_data",
          "data": {
            "text/plain": [
              "<IPython.core.display.Markdown object>"
            ],
            "text/markdown": "$\\Theta_\\mathrm{P} = 651832558.439$"
          },
          "metadata": {}
        },
        {
          "output_type": "display_data",
          "data": {
            "text/plain": [
              "<IPython.core.display.Markdown object>"
            ],
            "text/markdown": "$\\Theta_\\mathrm{E} = 4638529014831.623$"
          },
          "metadata": {}
        },
        {
          "output_type": "display_data",
          "data": {
            "text/plain": [
              "<IPython.core.display.Markdown object>"
            ],
            "text/markdown": "$\\Theta_\\mathrm{f}^* = 2.068$"
          },
          "metadata": {}
        },
        {
          "output_type": "display_data",
          "data": {
            "text/plain": [
              "<IPython.core.display.Markdown object>"
            ],
            "text/markdown": "$\\Theta_\\mathrm{T}^* = 0.310$"
          },
          "metadata": {}
        }
      ]
    },
    {
      "cell_type": "code",
      "source": [
        "\n",
        "def local_CT_and_CP( Fr4b, Fr1, B ): \n",
        "\n",
        "    # See Chapter 3 of the MCTE Lecture notes\n",
        "\n",
        "    ζ4 = (1/2.)*Fr1**2 - 1/2.*Fr4b**2 + 1.0\n",
        "    \n",
        "    Fr4t = (Fr1 - Fr4b*ζ4 + np.sqrt(B**2*Fr4b**2 - 2*B*Fr1**2 + 2*B*Fr1*Fr4b \\\n",
        "            + B*ζ4**2 - B + Fr1**2 - 2*Fr1*Fr4b*ζ4 + Fr4b**2*ζ4**2))/B\n",
        "\n",
        "    ζ4b =  (Fr1 - Fr4t*ζ4)/(Fr4b - Fr4t)\n",
        "    ζ4t = -(Fr1 - Fr4b*ζ4)/(Fr4b - Fr4t)\n",
        "    \n",
        "    Fr2t = Fr4t*ζ4t/B\n",
        "\n",
        "    C_T = (Fr4b**2 - Fr4t**2)/Fr1**2\n",
        "    C_P = C_T*Fr2t/Fr1\n",
        "\n",
        "    return C_T, C_P\n",
        "\n",
        "def find_minus_CP( Fr4b, Fr1, B ): \n",
        "    # function created to discard the C_T when calling \"local_CT_and_CP\"\n",
        "    C_T, C_P = local_CT_and_CP( Fr4b, Fr1, B ) \n",
        "    return -C_P # Minus C_P to allow minimization"
      ],
      "metadata": {
        "id": "p8dW9sCrS94Y"
      },
      "execution_count": 5,
      "outputs": []
    },
    {
      "cell_type": "code",
      "source": [
        "def compute_BCT_BCP( Fr_0, B, Q_star ):\n",
        "\n",
        "  Fr1 = np.abs( Fr_0 * Q_star )\n",
        "\n",
        "  if Fr1 < 1E-3:\n",
        "    return 0.0, 0.0 # all zeros\n",
        "\n",
        "  # find the optimal C_P for the channel conditions\n",
        "  res = minimize_scalar( find_minus_CP, args=(Fr1, B), bounds=[0,1], \n",
        "                      method='bounded', \n",
        "                      options={ 'xatol': 1e-08, 'maxiter': 500, 'disp': 1 } )\n",
        "  Fr4b = res.x # optimal value\n",
        "\n",
        "  C_T, C_P = local_CT_and_CP( Fr4b, Fr1, B )\n",
        "\n",
        "  return B*C_T, B*C_P"
      ],
      "metadata": {
        "id": "2OV7TP8UTByf"
      },
      "execution_count": 6,
      "outputs": []
    },
    {
      "cell_type": "markdown",
      "metadata": {
        "id": "lskDlpLdwPtY"
      },
      "source": [
        "# **Solution of the ODE**\n",
        "\n",
        "$\\displaystyle \\frac{dQ^*}{dt^*}=\\cos(t^*) - (\\Theta_\\text{f}^*+BC_\\text{T} \\Theta_\\text{T}^*) \\, Q^* \\, |Q^*|$\n",
        "\n",
        "$\\displaystyle \\frac{d E_\\text{T}^*}{dt^*}= BC_\\text{P} \\, |{Q^*}^3|$\n",
        "\n",
        "where $B$, $\\Theta_\\text{f}^*$ and $\\Theta_\\text{T}^*$ are constants, and $C_\\text{T}$ and $C_\\text{P}$ are computed as a function of the local Froude number.\n",
        "\n",
        "\n",
        "This system can be writen as\n",
        "\n",
        "$$\\dfrac{d \\mathbf{y}^*}{dt^*} = \\mathbf{f}^*\\!\\!\\left( \\mathbf{y}^*, t^* \\right),$$\n",
        "\n",
        "with\n",
        "\n",
        "$$\\mathbf{y} = \n",
        "\\begin{pmatrix}\n",
        "Q^*\\\\\n",
        "E_\\text{T}^*\n",
        "\\end{pmatrix}\n",
        "\\tag{Eq. 1}\n",
        "$$\n",
        "\n",
        "and\n",
        "\n",
        "$$\n",
        "\\tag{Eq. 2}\n",
        "\\mathbf{f}^* = \n",
        "\\begin{pmatrix}\n",
        "\\cos(t^*) - (\\Theta_\\text{f}^*+BC_T \\Theta_\\text{T}^*) \\, Q^* |Q^*|\\\\[4pt]\n",
        "BC_P \\, |{Q^*}^3|\n",
        "\\end{pmatrix}\n",
        "$$\n",
        "\n",
        "We adopt a first order solution of the type\n",
        "\n",
        "$$\\dfrac{\\mathbf{y}^*(t_n^*+\\Delta t^*)-\\mathbf{y}^*(t_n^*)}{\\Delta t^*} \n",
        "= \\mathbf{f}^*\\bigg( t_n^*, \\mathbf{y}^*\\left(t_n^*\\right) \\bigg)$$\n",
        "\n",
        "resulting\n",
        "\n",
        "$$\\mathbf{y}^*_{n+1} = \\mathbf{y}^*_n + \\Delta t^* \\, \\mathbf{f}^*\\!\\!\\left( t^*_n,\n",
        "\\mathbf{y}^*_n  \\right)\n",
        "\\tag{Eq. 3}\n",
        "$$\n",
        "\n",
        "where\n",
        "\n",
        "$$\\mathbf{y}^*_{n}=\\mathbf{y}^*(t_n^*)$$\n",
        "\n",
        "$$\\mathbf{y}^*_{n+1}=\\mathbf{y}^*(t_n^*+\\Delta t^*)$$\n"
      ]
    },
    {
      "cell_type": "markdown",
      "metadata": {
        "id": "d102bCecAXK1"
      },
      "source": [
        "# Define RHS of the ODE, see Eq. (2)"
      ]
    },
    {
      "cell_type": "code",
      "metadata": {
        "id": "leRoJRT47OPf"
      },
      "source": [
        "def f_star( ys, ts, Θ_f_star, Θ_T_star, Fr_0, B_per_row ):\n",
        "    ( Q_star, E_star ) = ys \n",
        "    \n",
        "    BC_T_rows = np.zeros( len( B_per_row ) )\n",
        "    BC_P_rows = np.zeros( len( B_per_row ) )\n",
        "\n",
        "    B_0 = np.nan\n",
        "    for j, B in enumerate( B_per_row ): \n",
        "      # do not repeat the computations if B is equal to the previous iteration\n",
        "      if B_0 != B:\n",
        "        BC_T_j, BC_P_j = compute_BCT_BCP( Fr_0, B, Q_star )\n",
        "        B_0 = B\n",
        "\n",
        "      BC_T_rows[j] = BC_T_j\n",
        "      BC_P_rows[j] = BC_P_j\n",
        "\n",
        "    return np.array( \n",
        "              ( np.cos( ts ) - ( Θ_f_star + np.sum(BC_T_rows) * Θ_T_star ) * Q_star * np.abs( Q_star ), \n",
        "                np.sum(BC_P_rows) * np.abs( Q_star )**3 ) \n",
        "           )"
      ],
      "execution_count": 7,
      "outputs": []
    },
    {
      "cell_type": "markdown",
      "metadata": {
        "id": "aofgQNyoAizq"
      },
      "source": [
        "# **Frictionless solution**"
      ]
    },
    {
      "cell_type": "code",
      "source": [
        "periods = 4\n",
        "ppp = 100 # points per period\n",
        "num =  int(ppp*periods)\n",
        "\n",
        "# stores time vector\n",
        "ts_vec = np.linspace( 0, (2*np.pi) * periods, num )\n",
        "Delta_ts = ts_vec[1] - ts_vec[0]\n",
        "\n",
        "# vector that stores the lossless solution time series\n",
        "ys_lossless_vec = np.zeros( ( num, 2 ) )\n",
        "\n",
        "# solution of (Eq. 3) without \"friction\" term\n",
        "for i, ts in enumerate( ts_vec[1:] ):\n",
        "  ys_lossless_vec[i+1] = ys_lossless_vec[i] + \\\n",
        "                       Delta_ts * f_star( ys_lossless_vec[i], ts, 0, 0, 0, [0.0] )"
      ],
      "metadata": {
        "id": "U0592wqSfZBv"
      },
      "execution_count": 8,
      "outputs": []
    },
    {
      "cell_type": "markdown",
      "source": [
        "# **Solution with channel bed friction and turbines thrust**"
      ],
      "metadata": {
        "id": "F8O6jqG5_pMB"
      }
    },
    {
      "cell_type": "code",
      "metadata": {
        "colab": {
          "base_uri": "https://localhost:8080/",
          "height": 51
        },
        "id": "r81VXhB8Qx3M",
        "outputId": "8f27ba0e-1e49-4372-a96d-0dd41a8c5831"
      },
      "source": [
        "# vector that stores the solution time series\n",
        "ys_vec = np.zeros( ( num, 2 ) )\n",
        "\n",
        "# solution of (Eq. 3) with \"friction\" terms\n",
        "for i, ts in enumerate( ts_vec[1:] ):\n",
        "\n",
        "  ys_vec[i+1] = ys_vec[i] + \\\n",
        "                    Delta_ts * f_star( ys_vec[i], ts, \\\n",
        "                                        cfg.Θ_f_star, cfg.Θ_T_star, cfg.Fr_0,\\\n",
        "                                        cfg.B_per_row )\n",
        "\n",
        "E_star = ys_vec[:,1]\n",
        "E_star_period = E_star[-1] - E_star[-ppp] # dimensionless energy in a tidal period\n",
        "E_farm = E_star_period * cfg.Θ_E          # convert to Joule\n",
        "P_farm = E_farm / cfg.T * 1E-6            # Mean power converted to MW\n",
        "\n",
        "printmd( r\"$P_\\text{turb}^\\text{farm} = %.2f\\,\\text{MW}$\" % P_farm )"
      ],
      "execution_count": 9,
      "outputs": [
        {
          "output_type": "display_data",
          "data": {
            "text/plain": [
              "<IPython.core.display.Markdown object>"
            ],
            "text/markdown": "$P_\\text{turb}^\\text{farm} = 0.46\\,\\text{MW}$"
          },
          "metadata": {}
        }
      ]
    },
    {
      "cell_type": "code",
      "source": [
        "fig, (ax1, ax2) = mpl.subplots(1,2, figsize=(12, 4.5) )\n",
        "fig.subplots_adjust( wspace = 0.2 )\n",
        "\n",
        "n_rows = len( cfg.B_per_row )\n",
        "\n",
        "Q_star_frictionless = ys_lossless_vec[:,0]\n",
        "Q_star = ys_vec[:,0]\n",
        "E_star = ys_vec[:,1]\n",
        "\n",
        "# left figure\n",
        "ax1.plot( ts_vec/twopi, Q_star, label=\"$n_\\mathrm{rows}=%i$\" % (n_rows) )\n",
        "ax1.plot( ts_vec/twopi, Q_star_frictionless, label=\"frictionless\" )\n",
        "ax1.grid()\n",
        "ax1.set_title( \"$B_i = $\" + str( cfg.B_per_row ) )\n",
        "ax1.set_xlim( ( 0, 4 ) )\n",
        "ax1.set_ylim( ( -1.1, 1.1 ) )\n",
        "ax1.set_xlabel( '$t^*\\!/\\,(2\\pi)$ [-]')\n",
        "ax1.set_ylabel( '$Q^*$ [-]')\n",
        "ax1.text(-0.17, 1.05, 'a)', transform=ax1.transAxes, size=16, weight='semibold')\n",
        "ax1.legend( loc='upper left', fontsize=12, handlelength=2.9,labelspacing=0.25)\n",
        "\n",
        "# right figure\n",
        "ax2.plot( ts_vec/twopi, E_star )\n",
        "ax2.grid()\n",
        "ax2.set_title( \"$B_i = %4.2f$\" + str( cfg.B_per_row ) )\n",
        "ax2.set_xlim( ( 0, 4 ) )\n",
        "ax2.set_xlabel( '$t^*\\!/\\,(2\\pi)$ [-]')\n",
        "ax2.set_ylabel( '$E_\\mathrm{T}^*$ [-]')\n",
        "ax2.text(-0.17, 1.05, 'b)', transform=ax2.transAxes, size=16, weight='semibold');\n",
        "\n",
        "mpl.savefig( 'Friction_model.pdf', bbox_inches='tight', pad_inches=0.02);"
      ],
      "metadata": {
        "id": "WWBZpir1GWHI",
        "colab": {
          "base_uri": "https://localhost:8080/",
          "height": 473
        },
        "outputId": "00e3d1ae-9619-4b0b-f682-4f9edead3690"
      },
      "execution_count": 10,
      "outputs": [
        {
          "output_type": "display_data",
          "data": {
            "text/plain": [
              "<Figure size 960x360 with 2 Axes>"
            ],
            "image/svg+xml": "<?xml version=\"1.0\" encoding=\"utf-8\" standalone=\"no\"?>\n<!DOCTYPE svg PUBLIC \"-//W3C//DTD SVG 1.1//EN\"\n  \"http://www.w3.org/Graphics/SVG/1.1/DTD/svg11.dtd\">\n<svg xmlns:xlink=\"http://www.w3.org/1999/xlink\" width=\"786.626182pt\" height=\"338.897pt\" viewBox=\"0 0 786.626182 338.897\" xmlns=\"http://www.w3.org/2000/svg\" version=\"1.1\">\n <metadata>\n  <rdf:RDF xmlns:dc=\"http://purl.org/dc/elements/1.1/\" xmlns:cc=\"http://creativecommons.org/ns#\" xmlns:rdf=\"http://www.w3.org/1999/02/22-rdf-syntax-ns#\">\n   <cc:Work>\n    <dc:type rdf:resource=\"http://purl.org/dc/dcmitype/StillImage\"/>\n    <dc:date>2023-03-15T13:12:17.116781</dc:date>\n    <dc:format>image/svg+xml</dc:format>\n    <dc:creator>\n     <cc:Agent>\n      <dc:title>Matplotlib v3.5.3, https://matplotlib.org/</dc:title>\n     </cc:Agent>\n    </dc:creator>\n   </cc:Work>\n  </rdf:RDF>\n </metadata>\n <defs>\n  <style type=\"text/css\">*{stroke-linejoin: round; stroke-linecap: butt}</style>\n </defs>\n <g id=\"figure_1\">\n  <g id=\"patch_1\">\n   <path d=\"M 0 338.897 \nL 786.626182 338.897 \nL 786.626182 0 \nL 0 0 \nz\n\" style=\"fill: #ffffff\"/>\n  </g>\n  <g id=\"axes_1\">\n   <g id=\"patch_2\">\n    <path d=\"M 61.946182 293.577 \nL 383.982545 293.577 \nL 383.982545 31.137 \nL 61.946182 31.137 \nz\n\" style=\"fill: #ffffff\"/>\n   </g>\n   <g id=\"line2d_1\">\n    <path d=\"M 61.946182 162.357 \nL 64.367508 140.327014 \nL 65.981725 127.34174 \nL 67.595943 116.710533 \nL 68.403051 112.408587 \nL 69.21016 108.797713 \nL 70.017269 105.86206 \nL 70.824377 103.57031 \nL 71.631486 101.881013 \nL 72.438595 100.747273 \nL 73.245703 100.120505 \nL 74.052812 99.95319 \nL 74.859921 100.200721 \nL 75.667029 100.822492 \nL 76.474138 101.782415 \nL 77.281247 103.049032 \nL 78.088355 104.59537 \nL 79.702573 108.439875 \nL 81.31679 113.177232 \nL 82.931008 118.718438 \nL 84.545225 125.015231 \nL 86.159442 132.055022 \nL 87.77366 139.860357 \nL 89.387877 148.493655 \nL 91.002094 158.068863 \nL 92.616312 168.77181 \nL 98.266072 209.169753 \nL 99.88029 218.532939 \nL 101.494507 226.086289 \nL 102.301616 229.159552 \nL 103.108725 231.775582 \nL 103.915833 233.953633 \nL 104.722942 235.717983 \nL 105.530051 237.095584 \nL 106.337159 238.114196 \nL 107.144268 238.801015 \nL 107.951377 239.181743 \nL 108.758485 239.280021 \nL 109.565594 239.117143 \nL 110.372703 238.711986 \nL 111.179811 238.081062 \nL 111.98692 237.238672 \nL 112.794029 236.197095 \nL 114.408246 233.556651 \nL 116.022463 230.225387 \nL 117.636681 226.248996 \nL 119.250898 221.657512 \nL 120.865116 216.467996 \nL 122.479333 210.685623 \nL 124.09355 204.303241 \nL 126.514876 193.552511 \nL 128.129094 185.533198 \nL 129.743311 176.740585 \nL 131.357528 167.047137 \nL 132.971746 156.256876 \nL 138.621506 115.606737 \nL 140.235724 106.20791 \nL 141.849941 98.639284 \nL 142.65705 95.565108 \nL 143.464159 92.951942 \nL 144.271267 90.779964 \nL 145.078376 89.024345 \nL 145.885485 87.657626 \nL 146.692593 86.651598 \nL 147.499702 85.978681 \nL 148.306811 85.612855 \nL 149.113919 85.530222 \nL 149.921028 85.709279 \nL 150.728137 86.130993 \nL 151.535245 86.778726 \nL 152.342354 87.638086 \nL 153.149463 88.696726 \nL 154.76368 91.371407 \nL 156.377897 94.736913 \nL 157.992115 98.747538 \nL 159.606332 103.373374 \nL 161.22055 108.59762 \nL 162.834767 114.415509 \nL 164.448984 120.834794 \nL 166.87031 131.645484 \nL 168.484528 139.709881 \nL 170.098745 148.554204 \nL 171.712962 158.309446 \nL 173.32718 169.174378 \nL 178.976941 209.746047 \nL 180.591158 219.036056 \nL 182.205375 226.485946 \nL 183.012484 229.501476 \nL 183.819593 232.058124 \nL 184.626701 234.176485 \nL 185.43381 235.881837 \nL 186.240919 237.201824 \nL 187.048027 238.16464 \nL 187.855136 238.797711 \nL 188.662245 239.126815 \nL 189.469353 239.175558 \nL 190.276462 238.965133 \nL 191.083571 238.514268 \nL 191.890679 237.839308 \nL 192.697788 236.954378 \nL 193.504897 235.871581 \nL 195.119114 233.151999 \nL 196.733332 229.744995 \nL 198.347549 225.695174 \nL 199.961766 221.031562 \nL 201.575984 215.770191 \nL 203.190201 209.915075 \nL 204.804418 203.457624 \nL 207.225744 192.585568 \nL 208.839962 184.475295 \nL 210.454179 175.578463 \nL 212.068396 165.760495 \nL 213.682614 154.82169 \nL 219.332375 114.337614 \nL 220.946592 105.157065 \nL 222.560809 97.825595 \nL 223.367918 94.868309 \nL 224.175027 92.36768 \nL 224.982135 90.302384 \nL 225.789244 88.646729 \nL 226.596353 87.372916 \nL 227.403461 86.452782 \nL 228.21057 85.859069 \nL 229.017679 85.566248 \nL 229.824787 85.551004 \nL 230.631896 85.792454 \nL 231.439005 86.272174 \nL 232.246113 86.974106 \nL 233.053222 87.884391 \nL 234.66744 90.284324 \nL 236.281657 93.397119 \nL 237.895874 97.170118 \nL 239.510092 101.567893 \nL 241.124309 106.568942 \nL 242.738526 112.164013 \nL 244.352744 118.356005 \nL 245.966961 125.161487 \nL 248.388287 136.599697 \nL 250.002504 145.139098 \nL 251.616722 154.533579 \nL 253.230939 164.954766 \nL 255.652265 182.527731 \nL 258.073591 200.325383 \nL 259.687809 211.000275 \nL 261.302026 220.070364 \nL 262.916243 227.283384 \nL 263.723352 230.182667 \nL 264.530461 232.627629 \nL 265.337569 234.640278 \nL 266.144678 236.246681 \nL 266.951787 237.474772 \nL 267.758895 238.352658 \nL 268.566004 238.907419 \nL 269.373113 239.164328 \nL 270.180221 239.146404 \nL 270.98733 238.87422 \nL 271.794439 238.365899 \nL 272.601548 237.637213 \nL 273.408656 236.701762 \nL 275.022874 234.255349 \nL 276.637091 231.099953 \nL 278.251308 227.287029 \nL 279.865526 222.851053 \nL 281.479743 217.812732 \nL 283.09396 212.18057 \nL 284.708178 205.950877 \nL 286.322395 199.106138 \nL 288.743721 187.6033 \nL 290.357938 179.01422 \nL 291.972156 169.561371 \nL 293.586373 159.068403 \nL 296.007699 141.430064 \nL 298.429025 123.683598 \nL 300.043243 113.096225 \nL 301.65746 104.137559 \nL 303.271677 97.043 \nL 304.078786 94.201474 \nL 304.885895 91.811831 \nL 305.693003 89.851419 \nL 306.500112 88.293825 \nL 307.307221 87.111016 \nL 308.114329 86.274953 \nL 308.921438 85.758747 \nL 309.728547 85.537389 \nL 310.535656 85.58816 \nL 311.342764 85.890794 \nL 312.149873 86.42747 \nL 312.956982 87.182697 \nL 313.76409 88.143133 \nL 315.378308 90.635741 \nL 316.992525 93.833538 \nL 318.606742 97.686254 \nL 320.22096 102.16035 \nL 321.835177 107.23591 \nL 323.449394 112.905177 \nL 325.063612 119.172639 \nL 326.677829 126.056769 \nL 329.099155 137.624617 \nL 330.713373 146.263816 \nL 332.32759 155.775712 \nL 333.941807 166.341511 \nL 336.363133 184.040503 \nL 338.784459 201.731141 \nL 340.398677 212.228951 \nL 342.012894 221.075263 \nL 343.627111 228.051369 \nL 344.43422 230.835385 \nL 345.241329 233.170057 \nL 346.048437 235.07864 \nL 346.855546 236.587855 \nL 347.662655 237.725816 \nL 348.469763 238.520471 \nL 349.276872 238.998507 \nL 350.083981 239.184665 \nL 350.89109 239.10136 \nL 351.698198 238.768552 \nL 352.505307 238.203761 \nL 353.312416 237.422199 \nL 354.119524 236.436955 \nL 355.733742 233.898426 \nL 357.347959 230.658422 \nL 358.962176 226.766043 \nL 360.576394 222.253904 \nL 362.190611 217.141134 \nL 363.804828 211.434745 \nL 365.419046 205.129444 \nL 367.033263 198.205782 \nL 369.454589 186.572529 \nL 371.068807 177.88276 \nL 372.683024 168.31112 \nL 374.297241 157.671409 \nL 377.525676 133.887076 \nL 379.947002 116.897454 \nL 381.561219 107.285601 \nL 383.175437 99.481005 \nL 383.982545 96.289393 \nL 383.982545 96.289393 \n\" clip-path=\"url(#pbdae4ac711)\" style=\"fill: none; stroke-dasharray: 6,0; stroke-dashoffset: 0; stroke: #1f77b4; stroke-width: 1.5\"/>\n   </g>\n   <g id=\"line2d_2\">\n    <path d=\"M 61.946182 162.357 \nL 65.981725 125.60178 \nL 68.403051 105.242568 \nL 70.824377 87.050547 \nL 72.438595 76.450267 \nL 74.052812 67.271126 \nL 75.667029 59.65861 \nL 77.281247 53.733373 \nL 78.088355 51.433921 \nL 78.895464 49.58933 \nL 79.702573 48.206916 \nL 80.509681 47.292162 \nL 81.31679 46.848696 \nL 82.123899 46.878277 \nL 82.931008 47.380789 \nL 83.738116 48.354237 \nL 84.545225 49.794761 \nL 85.352334 51.696647 \nL 86.159442 54.052352 \nL 86.966551 56.852532 \nL 88.580768 63.740173 \nL 90.194986 72.250402 \nL 91.809203 82.248336 \nL 93.42342 93.575512 \nL 95.844746 112.66081 \nL 98.266072 133.649191 \nL 103.108725 178.30507 \nL 106.337159 207.508607 \nL 108.758485 227.791542 \nL 111.179811 245.878586 \nL 112.794029 256.394746 \nL 114.408246 265.479989 \nL 116.022463 272.990316 \nL 117.636681 278.806693 \nL 118.443789 281.049749 \nL 119.250898 282.836931 \nL 120.058007 284.16115 \nL 120.865116 285.017153 \nL 121.672224 285.401546 \nL 122.479333 285.312803 \nL 123.286442 284.751277 \nL 124.09355 283.719195 \nL 124.900659 282.220651 \nL 125.707768 280.261587 \nL 126.514876 277.849775 \nL 127.321985 274.994781 \nL 128.936202 268.002254 \nL 130.55042 259.394836 \nL 132.164637 249.308949 \nL 133.778854 237.904453 \nL 136.20018 218.725738 \nL 138.621506 197.6739 \nL 144.271267 145.550161 \nL 147.499702 116.900432 \nL 149.921028 97.359995 \nL 151.535245 85.653334 \nL 153.149463 75.221946 \nL 154.76368 66.231165 \nL 156.377897 58.823492 \nL 157.185006 55.751045 \nL 157.992115 53.116335 \nL 158.799224 50.929813 \nL 159.606332 49.200152 \nL 160.413441 47.934211 \nL 161.22055 47.137011 \nL 162.027658 46.811716 \nL 162.834767 46.959614 \nL 163.641876 47.58012 \nL 164.448984 48.670772 \nL 165.256093 50.227244 \nL 166.063202 52.243363 \nL 166.87031 54.711132 \nL 167.677419 57.620763 \nL 169.291636 64.717743 \nL 170.905854 73.421818 \nL 172.520071 83.595031 \nL 174.134288 95.07614 \nL 176.555614 114.347084 \nL 178.976941 135.461073 \nL 188.662245 222.899611 \nL 191.083571 241.599469 \nL 192.697788 252.610388 \nL 194.312005 262.250371 \nL 195.926223 270.366628 \nL 197.54044 276.830518 \nL 198.347549 279.409739 \nL 199.154658 281.539591 \nL 199.961766 283.211625 \nL 200.768875 284.41921 \nL 201.575984 285.157556 \nL 202.383092 285.423735 \nL 203.190201 285.21669 \nL 203.99731 284.537243 \nL 204.804418 283.388089 \nL 205.611527 281.773786 \nL 206.418636 279.700736 \nL 207.225744 277.177163 \nL 208.032853 274.213075 \nL 209.64707 267.012082 \nL 211.261288 258.211891 \nL 212.875505 247.951982 \nL 214.489722 236.39497 \nL 216.911049 217.032993 \nL 220.139483 188.525974 \nL 228.21057 115.195061 \nL 230.631896 95.833084 \nL 232.246113 84.276072 \nL 233.860331 74.016163 \nL 235.474548 65.215972 \nL 237.088766 58.014979 \nL 237.895874 55.050891 \nL 238.702983 52.527318 \nL 239.510092 50.454268 \nL 240.3172 48.839965 \nL 241.124309 47.690811 \nL 241.931418 47.011364 \nL 242.738526 46.804319 \nL 243.545635 47.070498 \nL 244.352744 47.808844 \nL 245.159852 49.016429 \nL 245.966961 50.688463 \nL 246.77407 52.818315 \nL 247.581178 55.397536 \nL 249.195396 61.861426 \nL 250.809613 69.977683 \nL 252.42383 79.617666 \nL 254.038048 90.628585 \nL 256.459374 109.328443 \nL 258.8807 130.050023 \nL 262.916243 167.053429 \nL 266.951787 203.964422 \nL 269.373113 224.544879 \nL 271.794439 243.045036 \nL 273.408656 253.893712 \nL 275.022874 263.351112 \nL 276.637091 271.267338 \nL 278.251308 277.516922 \nL 279.058417 279.984691 \nL 279.865526 282.00081 \nL 280.672634 283.557282 \nL 281.479743 284.647934 \nL 282.286852 285.26844 \nL 283.09396 285.416338 \nL 283.901069 285.091043 \nL 284.708178 284.293843 \nL 285.515286 283.027902 \nL 286.322395 281.298241 \nL 287.129504 279.111719 \nL 287.936612 276.477009 \nL 289.55083 269.906564 \nL 291.165047 261.691044 \nL 292.779265 251.960663 \nL 294.393482 240.869643 \nL 296.814808 222.071672 \nL 299.236134 201.281453 \nL 303.271677 164.235281 \nL 307.307221 127.373928 \nL 309.728547 106.865949 \nL 312.149873 88.467366 \nL 313.76409 77.700823 \nL 315.378308 68.335598 \nL 316.992525 60.520125 \nL 318.606742 54.378279 \nL 319.413851 51.966467 \nL 320.22096 50.007403 \nL 321.028068 48.508859 \nL 321.835177 47.476777 \nL 322.642286 46.915251 \nL 323.449394 46.826508 \nL 324.256503 47.210901 \nL 325.063612 48.066904 \nL 325.87072 49.391123 \nL 326.677829 51.178305 \nL 327.484938 53.421361 \nL 328.292046 56.111395 \nL 329.906264 62.787988 \nL 331.520481 71.102262 \nL 333.134699 80.922438 \nL 334.748916 92.092871 \nL 337.170242 110.987791 \nL 339.591568 131.845358 \nL 343.627111 168.932001 \nL 347.662655 205.741428 \nL 350.083981 226.175657 \nL 352.505307 244.471526 \nL 354.119524 255.155269 \nL 355.733742 264.42774 \nL 357.347959 272.141973 \nL 358.962176 278.175702 \nL 359.769285 280.531407 \nL 360.576394 282.433293 \nL 361.383502 283.873817 \nL 362.190611 284.847265 \nL 362.99772 285.349777 \nL 363.804828 285.379358 \nL 364.611937 284.935892 \nL 365.419046 284.021138 \nL 366.226154 282.638724 \nL 367.033263 280.794133 \nL 367.840372 278.494681 \nL 368.647481 275.749489 \nL 370.261698 268.967162 \nL 371.875915 260.554649 \nL 373.490133 250.645287 \nL 375.10435 239.396134 \nL 377.525676 220.405436 \nL 379.947002 199.481814 \nL 383.982545 162.357 \nL 383.982545 162.357 \n\" clip-path=\"url(#pbdae4ac711)\" style=\"fill: none; stroke-dasharray: 6,2; stroke-dashoffset: 0; stroke: #ff7f0e; stroke-width: 1.5\"/>\n   </g>\n   <g id=\"patch_3\">\n    <path d=\"M 61.946182 293.577 \nL 61.946182 31.137 \n\" style=\"fill: none; stroke: #000000; stroke-linejoin: miter; stroke-linecap: square\"/>\n   </g>\n   <g id=\"patch_4\">\n    <path d=\"M 383.982545 293.577 \nL 383.982545 31.137 \n\" style=\"fill: none; stroke: #000000; stroke-linejoin: miter; stroke-linecap: square\"/>\n   </g>\n   <g id=\"patch_5\">\n    <path d=\"M 61.946182 293.577 \nL 383.982545 293.577 \n\" style=\"fill: none; stroke: #000000; stroke-linejoin: miter; stroke-linecap: square\"/>\n   </g>\n   <g id=\"patch_6\">\n    <path d=\"M 61.946182 31.137 \nL 383.982545 31.137 \n\" style=\"fill: none; stroke: #000000; stroke-linejoin: miter; stroke-linecap: square\"/>\n   </g>\n   <g id=\"matplotlib.axis_1\">\n    <g id=\"xtick_1\">\n     <g id=\"line2d_3\">\n      <path d=\"M 61.946182 293.577 \nL 61.946182 31.137 \n\" clip-path=\"url(#pbdae4ac711)\" style=\"fill: none; stroke-dasharray: 1,3; stroke-dashoffset: 0; stroke: #000000; stroke-width: 0.5\"/>\n     </g>\n     <g id=\"line2d_4\">\n      <defs>\n       <path id=\"m8b4b3523eb\" d=\"M 0 0 \nL 0 -4 \n\" style=\"stroke: #000000; stroke-width: 0.5\"/>\n      </defs>\n      <g>\n       <use xlink:href=\"#m8b4b3523eb\" x=\"61.946182\" y=\"293.577\" style=\"stroke: #000000; stroke-width: 0.5\"/>\n      </g>\n     </g>\n     <g id=\"line2d_5\">\n      <defs>\n       <path id=\"mc8236a5fa8\" d=\"M 0 0 \nL 0 4 \n\" style=\"stroke: #000000; stroke-width: 0.5\"/>\n      </defs>\n      <g>\n       <use xlink:href=\"#mc8236a5fa8\" x=\"61.946182\" y=\"31.137\" style=\"stroke: #000000; stroke-width: 0.5\"/>\n      </g>\n     </g>\n     <g id=\"text_1\">\n      <!-- 0.0 -->\n      <g transform=\"translate(52.946182 307.41175)scale(0.144 -0.144)\">\n       <defs>\n        <path id=\"STIXGeneral-Regular-30\" d=\"M 3046 2112 \nQ 3046 1683 2963 1302 \nQ 2880 922 2717 602 \nQ 2554 282 2266 96 \nQ 1978 -90 1600 -90 \nQ 1210 -90 915 108 \nQ 621 307 461 640 \nQ 301 973 227 1350 \nQ 154 1728 154 2150 \nQ 154 2746 301 3222 \nQ 448 3699 790 4012 \nQ 1133 4326 1626 4326 \nQ 2253 4326 2649 3712 \nQ 3046 3098 3046 2112 \nz\nM 2432 2080 \nQ 2432 3091 2217 3625 \nQ 2003 4160 1587 4160 \nQ 1190 4160 979 3622 \nQ 768 3085 768 2106 \nQ 768 1120 979 598 \nQ 1190 77 1600 77 \nQ 2003 77 2217 598 \nQ 2432 1120 2432 2080 \nz\n\" transform=\"scale(0.015625)\"/>\n        <path id=\"STIXGeneral-Regular-2e\" d=\"M 1158 275 \nQ 1158 134 1052 32 \nQ 947 -70 800 -70 \nQ 653 -70 550 32 \nQ 448 134 448 281 \nQ 448 429 553 534 \nQ 659 640 806 640 \nQ 947 640 1052 531 \nQ 1158 422 1158 275 \nz\n\" transform=\"scale(0.015625)\"/>\n       </defs>\n       <use xlink:href=\"#STIXGeneral-Regular-30\"/>\n       <use xlink:href=\"#STIXGeneral-Regular-2e\" x=\"49.999985\"/>\n       <use xlink:href=\"#STIXGeneral-Regular-30\" x=\"74.999969\"/>\n      </g>\n     </g>\n    </g>\n    <g id=\"xtick_2\">\n     <g id=\"line2d_6\">\n      <path d=\"M 102.200727 293.577 \nL 102.200727 31.137 \n\" clip-path=\"url(#pbdae4ac711)\" style=\"fill: none; stroke-dasharray: 1,3; stroke-dashoffset: 0; stroke: #000000; stroke-width: 0.5\"/>\n     </g>\n     <g id=\"line2d_7\">\n      <g>\n       <use xlink:href=\"#m8b4b3523eb\" x=\"102.200727\" y=\"293.577\" style=\"stroke: #000000; stroke-width: 0.5\"/>\n      </g>\n     </g>\n     <g id=\"line2d_8\">\n      <g>\n       <use xlink:href=\"#mc8236a5fa8\" x=\"102.200727\" y=\"31.137\" style=\"stroke: #000000; stroke-width: 0.5\"/>\n      </g>\n     </g>\n     <g id=\"text_2\">\n      <!-- 0.5 -->\n      <g transform=\"translate(93.200727 307.41175)scale(0.144 -0.144)\">\n       <defs>\n        <path id=\"STIXGeneral-Regular-35\" d=\"M 2803 4358 \nL 2573 3814 \nQ 2534 3731 2400 3731 \nL 1158 3731 \nL 902 3187 \nQ 1606 3053 1920 2896 \nQ 2234 2739 2502 2368 \nQ 2726 2061 2726 1555 \nQ 2726 1094 2576 780 \nQ 2426 467 2099 224 \nQ 1664 -90 1011 -90 \nQ 646 -90 422 19 \nQ 198 128 198 307 \nQ 198 550 486 550 \nQ 717 550 960 352 \nQ 1210 147 1414 147 \nQ 1747 147 2012 480 \nQ 2278 813 2278 1229 \nQ 2278 1843 1850 2189 \nQ 1293 2637 486 2637 \nQ 410 2637 410 2688 \nL 416 2720 \nL 1114 4237 \nL 2438 4237 \nQ 2547 4237 2608 4269 \nQ 2669 4301 2746 4403 \nL 2803 4358 \nz\n\" transform=\"scale(0.015625)\"/>\n       </defs>\n       <use xlink:href=\"#STIXGeneral-Regular-30\"/>\n       <use xlink:href=\"#STIXGeneral-Regular-2e\" x=\"49.999985\"/>\n       <use xlink:href=\"#STIXGeneral-Regular-35\" x=\"74.999969\"/>\n      </g>\n     </g>\n    </g>\n    <g id=\"xtick_3\">\n     <g id=\"line2d_9\">\n      <path d=\"M 142.455273 293.577 \nL 142.455273 31.137 \n\" clip-path=\"url(#pbdae4ac711)\" style=\"fill: none; stroke-dasharray: 1,3; stroke-dashoffset: 0; stroke: #000000; stroke-width: 0.5\"/>\n     </g>\n     <g id=\"line2d_10\">\n      <g>\n       <use xlink:href=\"#m8b4b3523eb\" x=\"142.455273\" y=\"293.577\" style=\"stroke: #000000; stroke-width: 0.5\"/>\n      </g>\n     </g>\n     <g id=\"line2d_11\">\n      <g>\n       <use xlink:href=\"#mc8236a5fa8\" x=\"142.455273\" y=\"31.137\" style=\"stroke: #000000; stroke-width: 0.5\"/>\n      </g>\n     </g>\n     <g id=\"text_3\">\n      <!-- 1.0 -->\n      <g transform=\"translate(133.455273 307.41175)scale(0.144 -0.144)\">\n       <defs>\n        <path id=\"STIXGeneral-Regular-31\" d=\"M 2522 0 \nL 755 0 \nL 755 96 \nQ 1107 115 1235 227 \nQ 1363 339 1363 608 \nL 1363 3482 \nQ 1363 3795 1171 3795 \nQ 1082 3795 883 3718 \nL 710 3654 \nL 710 3744 \nL 1856 4326 \nL 1914 4307 \nL 1914 486 \nQ 1914 275 2042 185 \nQ 2170 96 2522 96 \nL 2522 0 \nz\n\" transform=\"scale(0.015625)\"/>\n       </defs>\n       <use xlink:href=\"#STIXGeneral-Regular-31\"/>\n       <use xlink:href=\"#STIXGeneral-Regular-2e\" x=\"49.999985\"/>\n       <use xlink:href=\"#STIXGeneral-Regular-30\" x=\"74.999969\"/>\n      </g>\n     </g>\n    </g>\n    <g id=\"xtick_4\">\n     <g id=\"line2d_12\">\n      <path d=\"M 182.709818 293.577 \nL 182.709818 31.137 \n\" clip-path=\"url(#pbdae4ac711)\" style=\"fill: none; stroke-dasharray: 1,3; stroke-dashoffset: 0; stroke: #000000; stroke-width: 0.5\"/>\n     </g>\n     <g id=\"line2d_13\">\n      <g>\n       <use xlink:href=\"#m8b4b3523eb\" x=\"182.709818\" y=\"293.577\" style=\"stroke: #000000; stroke-width: 0.5\"/>\n      </g>\n     </g>\n     <g id=\"line2d_14\">\n      <g>\n       <use xlink:href=\"#mc8236a5fa8\" x=\"182.709818\" y=\"31.137\" style=\"stroke: #000000; stroke-width: 0.5\"/>\n      </g>\n     </g>\n     <g id=\"text_4\">\n      <!-- 1.5 -->\n      <g transform=\"translate(173.709818 307.41175)scale(0.144 -0.144)\">\n       <use xlink:href=\"#STIXGeneral-Regular-31\"/>\n       <use xlink:href=\"#STIXGeneral-Regular-2e\" x=\"49.999985\"/>\n       <use xlink:href=\"#STIXGeneral-Regular-35\" x=\"74.999969\"/>\n      </g>\n     </g>\n    </g>\n    <g id=\"xtick_5\">\n     <g id=\"line2d_15\">\n      <path d=\"M 222.964364 293.577 \nL 222.964364 31.137 \n\" clip-path=\"url(#pbdae4ac711)\" style=\"fill: none; stroke-dasharray: 1,3; stroke-dashoffset: 0; stroke: #000000; stroke-width: 0.5\"/>\n     </g>\n     <g id=\"line2d_16\">\n      <g>\n       <use xlink:href=\"#m8b4b3523eb\" x=\"222.964364\" y=\"293.577\" style=\"stroke: #000000; stroke-width: 0.5\"/>\n      </g>\n     </g>\n     <g id=\"line2d_17\">\n      <g>\n       <use xlink:href=\"#mc8236a5fa8\" x=\"222.964364\" y=\"31.137\" style=\"stroke: #000000; stroke-width: 0.5\"/>\n      </g>\n     </g>\n     <g id=\"text_5\">\n      <!-- 2.0 -->\n      <g transform=\"translate(213.964364 307.41175)scale(0.144 -0.144)\">\n       <defs>\n        <path id=\"STIXGeneral-Regular-32\" d=\"M 3034 877 \nL 2688 0 \nL 186 0 \nL 186 77 \nL 1325 1286 \nQ 1773 1754 1965 2144 \nQ 2157 2534 2157 2950 \nQ 2157 3379 1920 3616 \nQ 1683 3853 1267 3853 \nQ 922 3853 720 3673 \nQ 518 3494 326 3021 \nL 192 3053 \nQ 301 3648 630 3987 \nQ 960 4326 1523 4326 \nQ 2054 4326 2380 4006 \nQ 2707 3686 2707 3200 \nQ 2707 2477 1888 1613 \nL 832 486 \nL 2330 486 \nQ 2541 486 2665 569 \nQ 2790 653 2944 915 \nL 3034 877 \nz\n\" transform=\"scale(0.015625)\"/>\n       </defs>\n       <use xlink:href=\"#STIXGeneral-Regular-32\"/>\n       <use xlink:href=\"#STIXGeneral-Regular-2e\" x=\"49.999985\"/>\n       <use xlink:href=\"#STIXGeneral-Regular-30\" x=\"74.999969\"/>\n      </g>\n     </g>\n    </g>\n    <g id=\"xtick_6\">\n     <g id=\"line2d_18\">\n      <path d=\"M 263.218909 293.577 \nL 263.218909 31.137 \n\" clip-path=\"url(#pbdae4ac711)\" style=\"fill: none; stroke-dasharray: 1,3; stroke-dashoffset: 0; stroke: #000000; stroke-width: 0.5\"/>\n     </g>\n     <g id=\"line2d_19\">\n      <g>\n       <use xlink:href=\"#m8b4b3523eb\" x=\"263.218909\" y=\"293.577\" style=\"stroke: #000000; stroke-width: 0.5\"/>\n      </g>\n     </g>\n     <g id=\"line2d_20\">\n      <g>\n       <use xlink:href=\"#mc8236a5fa8\" x=\"263.218909\" y=\"31.137\" style=\"stroke: #000000; stroke-width: 0.5\"/>\n      </g>\n     </g>\n     <g id=\"text_6\">\n      <!-- 2.5 -->\n      <g transform=\"translate(254.218909 307.41175)scale(0.144 -0.144)\">\n       <use xlink:href=\"#STIXGeneral-Regular-32\"/>\n       <use xlink:href=\"#STIXGeneral-Regular-2e\" x=\"49.999985\"/>\n       <use xlink:href=\"#STIXGeneral-Regular-35\" x=\"74.999969\"/>\n      </g>\n     </g>\n    </g>\n    <g id=\"xtick_7\">\n     <g id=\"line2d_21\">\n      <path d=\"M 303.473455 293.577 \nL 303.473455 31.137 \n\" clip-path=\"url(#pbdae4ac711)\" style=\"fill: none; stroke-dasharray: 1,3; stroke-dashoffset: 0; stroke: #000000; stroke-width: 0.5\"/>\n     </g>\n     <g id=\"line2d_22\">\n      <g>\n       <use xlink:href=\"#m8b4b3523eb\" x=\"303.473455\" y=\"293.577\" style=\"stroke: #000000; stroke-width: 0.5\"/>\n      </g>\n     </g>\n     <g id=\"line2d_23\">\n      <g>\n       <use xlink:href=\"#mc8236a5fa8\" x=\"303.473455\" y=\"31.137\" style=\"stroke: #000000; stroke-width: 0.5\"/>\n      </g>\n     </g>\n     <g id=\"text_7\">\n      <!-- 3.0 -->\n      <g transform=\"translate(294.473455 307.41175)scale(0.144 -0.144)\">\n       <defs>\n        <path id=\"STIXGeneral-Regular-33\" d=\"M 390 3264 \nL 288 3290 \nQ 435 3770 748 4048 \nQ 1062 4326 1542 4326 \nQ 1990 4326 2265 4083 \nQ 2541 3840 2541 3450 \nQ 2541 2925 1946 2566 \nQ 2298 2413 2477 2227 \nQ 2758 1914 2758 1402 \nQ 2758 890 2464 506 \nQ 2246 211 1840 60 \nQ 1434 -90 979 -90 \nQ 262 -90 262 275 \nQ 262 378 339 442 \nQ 416 506 525 506 \nQ 685 506 915 339 \nQ 1197 141 1466 141 \nQ 1818 141 2058 425 \nQ 2298 710 2298 1120 \nQ 2298 1856 1632 2048 \nQ 1434 2112 979 2112 \nL 979 2202 \nQ 1338 2323 1517 2432 \nQ 2035 2726 2035 3290 \nQ 2035 3610 1852 3776 \nQ 1670 3942 1344 3942 \nQ 768 3942 390 3264 \nz\n\" transform=\"scale(0.015625)\"/>\n       </defs>\n       <use xlink:href=\"#STIXGeneral-Regular-33\"/>\n       <use xlink:href=\"#STIXGeneral-Regular-2e\" x=\"49.999985\"/>\n       <use xlink:href=\"#STIXGeneral-Regular-30\" x=\"74.999969\"/>\n      </g>\n     </g>\n    </g>\n    <g id=\"xtick_8\">\n     <g id=\"line2d_24\">\n      <path d=\"M 343.728 293.577 \nL 343.728 31.137 \n\" clip-path=\"url(#pbdae4ac711)\" style=\"fill: none; stroke-dasharray: 1,3; stroke-dashoffset: 0; stroke: #000000; stroke-width: 0.5\"/>\n     </g>\n     <g id=\"line2d_25\">\n      <g>\n       <use xlink:href=\"#m8b4b3523eb\" x=\"343.728\" y=\"293.577\" style=\"stroke: #000000; stroke-width: 0.5\"/>\n      </g>\n     </g>\n     <g id=\"line2d_26\">\n      <g>\n       <use xlink:href=\"#mc8236a5fa8\" x=\"343.728\" y=\"31.137\" style=\"stroke: #000000; stroke-width: 0.5\"/>\n      </g>\n     </g>\n     <g id=\"text_8\">\n      <!-- 3.5 -->\n      <g transform=\"translate(334.728 307.41175)scale(0.144 -0.144)\">\n       <use xlink:href=\"#STIXGeneral-Regular-33\"/>\n       <use xlink:href=\"#STIXGeneral-Regular-2e\" x=\"49.999985\"/>\n       <use xlink:href=\"#STIXGeneral-Regular-35\" x=\"74.999969\"/>\n      </g>\n     </g>\n    </g>\n    <g id=\"xtick_9\">\n     <g id=\"line2d_27\">\n      <path d=\"M 383.982545 293.577 \nL 383.982545 31.137 \n\" clip-path=\"url(#pbdae4ac711)\" style=\"fill: none; stroke-dasharray: 1,3; stroke-dashoffset: 0; stroke: #000000; stroke-width: 0.5\"/>\n     </g>\n     <g id=\"line2d_28\">\n      <g>\n       <use xlink:href=\"#m8b4b3523eb\" x=\"383.982545\" y=\"293.577\" style=\"stroke: #000000; stroke-width: 0.5\"/>\n      </g>\n     </g>\n     <g id=\"line2d_29\">\n      <g>\n       <use xlink:href=\"#mc8236a5fa8\" x=\"383.982545\" y=\"31.137\" style=\"stroke: #000000; stroke-width: 0.5\"/>\n      </g>\n     </g>\n     <g id=\"text_9\">\n      <!-- 4.0 -->\n      <g transform=\"translate(374.982545 307.41175)scale(0.144 -0.144)\">\n       <defs>\n        <path id=\"STIXGeneral-Regular-34\" d=\"M 3027 1069 \nL 2368 1069 \nL 2368 0 \nL 1869 0 \nL 1869 1069 \nL 77 1069 \nL 77 1478 \nL 2086 4326 \nL 2368 4326 \nL 2368 1478 \nL 3027 1478 \nL 3027 1069 \nz\nM 1869 1478 \nL 1869 3674 \nL 333 1478 \nL 1869 1478 \nz\n\" transform=\"scale(0.015625)\"/>\n       </defs>\n       <use xlink:href=\"#STIXGeneral-Regular-34\"/>\n       <use xlink:href=\"#STIXGeneral-Regular-2e\" x=\"49.999985\"/>\n       <use xlink:href=\"#STIXGeneral-Regular-30\" x=\"74.999969\"/>\n      </g>\n     </g>\n    </g>\n    <g id=\"text_10\">\n     <!-- $t^*\\!/\\,(2\\pi)$ [-] -->\n     <g transform=\"translate(189.684364 328.2245)scale(0.16 -0.16)\">\n      <defs>\n       <path id=\"STIXGeneral-Italic-74\" d=\"M 1894 2739 \nL 1862 2534 \nL 1325 2534 \nL 768 435 \nQ 755 384 755 346 \nQ 755 243 851 243 \nQ 928 243 1030 342 \nQ 1133 442 1370 749 \nL 1453 704 \nQ 1158 256 969 93 \nQ 781 -70 538 -70 \nQ 243 -70 243 166 \nQ 243 230 346 640 \nL 845 2534 \nL 365 2534 \nL 358 2573 \nQ 358 2688 570 2733 \nQ 730 2771 992 2979 \nQ 1254 3187 1421 3437 \nQ 1459 3494 1510 3494 \nQ 1568 3494 1568 3443 \nQ 1568 3411 1562 3398 \nL 1382 2739 \nL 1894 2739 \nz\n\" transform=\"scale(0.015625)\"/>\n       <path id=\"STIXGeneral-Regular-2a\" d=\"M 1715 3014 \nL 1773 2976 \nQ 2010 2822 2387 2758 \nQ 2605 2726 2688 2665 \nQ 2771 2605 2771 2483 \nQ 2771 2374 2707 2304 \nQ 2643 2234 2541 2234 \nQ 2381 2234 2157 2515 \nQ 2010 2694 1715 2886 \nL 1664 2918 \nL 1664 2861 \nQ 1664 2502 1792 2157 \nQ 1850 1997 1850 1946 \nQ 1850 1850 1770 1773 \nQ 1690 1696 1594 1696 \nQ 1504 1696 1433 1766 \nQ 1363 1837 1363 1926 \nQ 1363 2016 1440 2227 \nQ 1542 2502 1542 2861 \nL 1542 2918 \nQ 1286 2758 1210 2688 \nQ 1133 2611 947 2400 \nQ 806 2240 672 2240 \nQ 563 2240 499 2304 \nQ 435 2368 435 2470 \nQ 435 2592 528 2656 \nQ 621 2720 838 2758 \nQ 1062 2803 1180 2848 \nQ 1299 2893 1498 3014 \nQ 1222 3181 877 3251 \nQ 640 3302 544 3366 \nQ 448 3430 448 3546 \nQ 448 3648 505 3715 \nQ 563 3782 659 3782 \nQ 787 3782 973 3578 \nQ 1242 3277 1542 3110 \nL 1542 3194 \nQ 1542 3456 1446 3776 \nQ 1376 3987 1376 4109 \nQ 1376 4198 1443 4262 \nQ 1510 4326 1606 4326 \nQ 1702 4326 1772 4259 \nQ 1843 4192 1843 4096 \nQ 1843 3994 1773 3795 \nQ 1664 3507 1664 3264 \nL 1664 3110 \nQ 1882 3238 2035 3379 \nQ 2067 3411 2153 3504 \nQ 2240 3597 2291 3648 \nQ 2342 3699 2409 3747 \nQ 2477 3795 2528 3795 \nQ 2637 3795 2701 3728 \nQ 2765 3661 2765 3552 \nQ 2765 3424 2691 3363 \nQ 2618 3302 2432 3277 \nQ 2074 3219 1715 3014 \nz\n\" transform=\"scale(0.015625)\"/>\n       <path id=\"STIXGeneral-Regular-2f\" d=\"M 1837 4326 \nL 378 -90 \nL -58 -90 \nL 1408 4326 \nL 1837 4326 \nz\n\" transform=\"scale(0.015625)\"/>\n       <path id=\"STIXGeneral-Regular-28\" d=\"M 1946 -1030 \nL 1869 -1133 \nQ 1126 -710 716 32 \nQ 307 774 307 1613 \nQ 307 3386 1888 4326 \nL 1946 4224 \nQ 1293 3667 1075 3126 \nQ 858 2586 858 1632 \nQ 858 685 1082 96 \nQ 1306 -493 1946 -1030 \nz\n\" transform=\"scale(0.015625)\"/>\n       <path id=\"STIXGeneral-Italic-3c0\" d=\"M 3430 2739 \nL 3296 2266 \nL 2643 2266 \nQ 2624 2195 2502 1782 \nQ 2381 1370 2297 1072 \nQ 2214 774 2214 717 \nQ 2214 448 2413 448 \nQ 2694 448 2867 838 \nL 2970 838 \nQ 2886 486 2652 208 \nQ 2419 -70 2093 -70 \nQ 1901 -70 1808 67 \nQ 1715 205 1715 410 \nQ 1715 627 1824 922 \nL 2310 2266 \nL 1645 2266 \nQ 1568 2061 1401 1469 \nQ 1235 877 1068 512 \nQ 902 147 672 -38 \nQ 563 -115 442 -115 \nQ 314 -115 218 -32 \nQ 122 51 122 166 \nQ 122 429 314 480 \nQ 634 563 774 928 \nL 1299 2266 \nL 1261 2266 \nQ 973 2266 819 2208 \nQ 666 2150 474 1914 \nL 371 1914 \nQ 640 2362 931 2550 \nQ 1222 2739 1696 2739 \nL 3430 2739 \nz\n\" transform=\"scale(0.015625)\"/>\n       <path id=\"STIXGeneral-Regular-29\" d=\"M 186 4224 \nL 262 4326 \nQ 992 3891 1408 3148 \nQ 1824 2406 1824 1581 \nQ 1824 -166 243 -1133 \nL 186 -1030 \nQ 845 -486 1059 54 \nQ 1274 595 1274 1562 \nQ 1274 2534 1059 3120 \nQ 845 3706 186 4224 \nz\n\" transform=\"scale(0.015625)\"/>\n       <path id=\"STIXGeneral-Regular-20\" transform=\"scale(0.015625)\"/>\n       <path id=\"STIXGeneral-Regular-5b\" d=\"M 1914 -998 \nL 563 -998 \nL 563 4237 \nL 1914 4237 \nL 1914 4077 \nL 1382 4077 \nQ 1216 4077 1133 4006 \nQ 1050 3936 1050 3770 \nL 1050 -493 \nQ 1050 -838 1382 -838 \nL 1914 -838 \nL 1914 -998 \nz\n\" transform=\"scale(0.015625)\"/>\n       <path id=\"STIXGeneral-Regular-2d\" d=\"M 1824 1242 \nL 250 1242 \nL 250 1645 \nL 1824 1645 \nL 1824 1242 \nz\n\" transform=\"scale(0.015625)\"/>\n       <path id=\"STIXGeneral-Regular-5d\" d=\"M 1568 -998 \nL 218 -998 \nL 218 -838 \nL 781 -838 \nQ 947 -838 1014 -768 \nQ 1082 -698 1082 -544 \nL 1082 3731 \nQ 1082 4077 755 4077 \nL 218 4077 \nL 218 4237 \nL 1568 4237 \nL 1568 -998 \nz\n\" transform=\"scale(0.015625)\"/>\n      </defs>\n      <use xlink:href=\"#STIXGeneral-Italic-74\" transform=\"translate(0 0.409375)\"/>\n      <use xlink:href=\"#STIXGeneral-Regular-2a\" transform=\"translate(46.28611 35.684375)scale(0.7)\"/>\n      <use xlink:href=\"#STIXGeneral-Regular-2f\" transform=\"translate(83.769901 0.409375)\"/>\n      <use xlink:href=\"#STIXGeneral-Regular-28\" transform=\"translate(123.60346 0.409375)\"/>\n      <use xlink:href=\"#STIXGeneral-Regular-32\" transform=\"translate(156.903448 0.409375)\"/>\n      <use xlink:href=\"#STIXGeneral-Italic-3c0\" transform=\"translate(206.903432 0.409375)\"/>\n      <use xlink:href=\"#STIXGeneral-Regular-29\" transform=\"translate(257.303426 0.409375)\"/>\n      <use xlink:href=\"#STIXGeneral-Regular-20\" transform=\"translate(290.603414 0.409375)\"/>\n      <use xlink:href=\"#STIXGeneral-Regular-5b\" transform=\"translate(315.603399 0.409375)\"/>\n      <use xlink:href=\"#STIXGeneral-Regular-2d\" transform=\"translate(348.903387 0.409375)\"/>\n      <use xlink:href=\"#STIXGeneral-Regular-5d\" transform=\"translate(382.203374 0.409375)\"/>\n     </g>\n    </g>\n   </g>\n   <g id=\"matplotlib.axis_2\">\n    <g id=\"ytick_1\">\n     <g id=\"line2d_30\">\n      <path d=\"M 61.946182 281.647909 \nL 383.982545 281.647909 \n\" clip-path=\"url(#pbdae4ac711)\" style=\"fill: none; stroke-dasharray: 1,3; stroke-dashoffset: 0; stroke: #000000; stroke-width: 0.5\"/>\n     </g>\n     <g id=\"line2d_31\">\n      <defs>\n       <path id=\"me6fef39d35\" d=\"M 0 0 \nL 4 0 \n\" style=\"stroke: #000000; stroke-width: 0.5\"/>\n      </defs>\n      <g>\n       <use xlink:href=\"#me6fef39d35\" x=\"61.946182\" y=\"281.647909\" style=\"stroke: #000000; stroke-width: 0.5\"/>\n      </g>\n     </g>\n     <g id=\"line2d_32\">\n      <defs>\n       <path id=\"m4f8c8eb912\" d=\"M 0 0 \nL -4 0 \n\" style=\"stroke: #000000; stroke-width: 0.5\"/>\n      </defs>\n      <g>\n       <use xlink:href=\"#m4f8c8eb912\" x=\"383.982545\" y=\"281.647909\" style=\"stroke: #000000; stroke-width: 0.5\"/>\n      </g>\n     </g>\n     <g id=\"text_11\">\n      <!-- −1.0 -->\n      <g transform=\"translate(30.082182 285.002659)scale(0.144 -0.144)\">\n       <defs>\n        <path id=\"STIXGeneral-Regular-2212\" d=\"M 3974 1408 \nL 410 1408 \nL 410 1830 \nL 3974 1830 \nL 3974 1408 \nz\n\" transform=\"scale(0.015625)\"/>\n       </defs>\n       <use xlink:href=\"#STIXGeneral-Regular-2212\"/>\n       <use xlink:href=\"#STIXGeneral-Regular-31\" x=\"68.499985\"/>\n       <use xlink:href=\"#STIXGeneral-Regular-2e\" x=\"118.499969\"/>\n       <use xlink:href=\"#STIXGeneral-Regular-30\" x=\"143.499954\"/>\n      </g>\n     </g>\n    </g>\n    <g id=\"ytick_2\">\n     <g id=\"line2d_33\">\n      <path d=\"M 61.946182 222.002455 \nL 383.982545 222.002455 \n\" clip-path=\"url(#pbdae4ac711)\" style=\"fill: none; stroke-dasharray: 1,3; stroke-dashoffset: 0; stroke: #000000; stroke-width: 0.5\"/>\n     </g>\n     <g id=\"line2d_34\">\n      <g>\n       <use xlink:href=\"#me6fef39d35\" x=\"61.946182\" y=\"222.002455\" style=\"stroke: #000000; stroke-width: 0.5\"/>\n      </g>\n     </g>\n     <g id=\"line2d_35\">\n      <g>\n       <use xlink:href=\"#m4f8c8eb912\" x=\"383.982545\" y=\"222.002455\" style=\"stroke: #000000; stroke-width: 0.5\"/>\n      </g>\n     </g>\n     <g id=\"text_12\">\n      <!-- −0.5 -->\n      <g transform=\"translate(30.082182 225.357205)scale(0.144 -0.144)\">\n       <use xlink:href=\"#STIXGeneral-Regular-2212\"/>\n       <use xlink:href=\"#STIXGeneral-Regular-30\" x=\"68.499985\"/>\n       <use xlink:href=\"#STIXGeneral-Regular-2e\" x=\"118.499969\"/>\n       <use xlink:href=\"#STIXGeneral-Regular-35\" x=\"143.499954\"/>\n      </g>\n     </g>\n    </g>\n    <g id=\"ytick_3\">\n     <g id=\"line2d_36\">\n      <path d=\"M 61.946182 162.357 \nL 383.982545 162.357 \n\" clip-path=\"url(#pbdae4ac711)\" style=\"fill: none; stroke-dasharray: 1,3; stroke-dashoffset: 0; stroke: #000000; stroke-width: 0.5\"/>\n     </g>\n     <g id=\"line2d_37\">\n      <g>\n       <use xlink:href=\"#me6fef39d35\" x=\"61.946182\" y=\"162.357\" style=\"stroke: #000000; stroke-width: 0.5\"/>\n      </g>\n     </g>\n     <g id=\"line2d_38\">\n      <g>\n       <use xlink:href=\"#m4f8c8eb912\" x=\"383.982545\" y=\"162.357\" style=\"stroke: #000000; stroke-width: 0.5\"/>\n      </g>\n     </g>\n     <g id=\"text_13\">\n      <!-- 0.0 -->\n      <g transform=\"translate(39.946182 165.71175)scale(0.144 -0.144)\">\n       <use xlink:href=\"#STIXGeneral-Regular-30\"/>\n       <use xlink:href=\"#STIXGeneral-Regular-2e\" x=\"49.999985\"/>\n       <use xlink:href=\"#STIXGeneral-Regular-30\" x=\"74.999969\"/>\n      </g>\n     </g>\n    </g>\n    <g id=\"ytick_4\">\n     <g id=\"line2d_39\">\n      <path d=\"M 61.946182 102.711545 \nL 383.982545 102.711545 \n\" clip-path=\"url(#pbdae4ac711)\" style=\"fill: none; stroke-dasharray: 1,3; stroke-dashoffset: 0; stroke: #000000; stroke-width: 0.5\"/>\n     </g>\n     <g id=\"line2d_40\">\n      <g>\n       <use xlink:href=\"#me6fef39d35\" x=\"61.946182\" y=\"102.711545\" style=\"stroke: #000000; stroke-width: 0.5\"/>\n      </g>\n     </g>\n     <g id=\"line2d_41\">\n      <g>\n       <use xlink:href=\"#m4f8c8eb912\" x=\"383.982545\" y=\"102.711545\" style=\"stroke: #000000; stroke-width: 0.5\"/>\n      </g>\n     </g>\n     <g id=\"text_14\">\n      <!-- 0.5 -->\n      <g transform=\"translate(39.946182 106.066295)scale(0.144 -0.144)\">\n       <use xlink:href=\"#STIXGeneral-Regular-30\"/>\n       <use xlink:href=\"#STIXGeneral-Regular-2e\" x=\"49.999985\"/>\n       <use xlink:href=\"#STIXGeneral-Regular-35\" x=\"74.999969\"/>\n      </g>\n     </g>\n    </g>\n    <g id=\"ytick_5\">\n     <g id=\"line2d_42\">\n      <path d=\"M 61.946182 43.066091 \nL 383.982545 43.066091 \n\" clip-path=\"url(#pbdae4ac711)\" style=\"fill: none; stroke-dasharray: 1,3; stroke-dashoffset: 0; stroke: #000000; stroke-width: 0.5\"/>\n     </g>\n     <g id=\"line2d_43\">\n      <g>\n       <use xlink:href=\"#me6fef39d35\" x=\"61.946182\" y=\"43.066091\" style=\"stroke: #000000; stroke-width: 0.5\"/>\n      </g>\n     </g>\n     <g id=\"line2d_44\">\n      <g>\n       <use xlink:href=\"#m4f8c8eb912\" x=\"383.982545\" y=\"43.066091\" style=\"stroke: #000000; stroke-width: 0.5\"/>\n      </g>\n     </g>\n     <g id=\"text_15\">\n      <!-- 1.0 -->\n      <g transform=\"translate(39.946182 46.420841)scale(0.144 -0.144)\">\n       <use xlink:href=\"#STIXGeneral-Regular-31\"/>\n       <use xlink:href=\"#STIXGeneral-Regular-2e\" x=\"49.999985\"/>\n       <use xlink:href=\"#STIXGeneral-Regular-30\" x=\"74.999969\"/>\n      </g>\n     </g>\n    </g>\n    <g id=\"text_16\">\n     <!-- $Q^*$ [-] -->\n     <g transform=\"translate(21.609682 183.797)rotate(-90)scale(0.16 -0.16)\">\n      <defs>\n       <path id=\"STIXGeneral-Italic-51\" d=\"M 442 -1082 \nL 378 -979 \nQ 749 -717 912 -589 \nQ 1075 -461 1510 -77 \nQ 966 32 675 425 \nQ 384 819 384 1440 \nQ 384 2035 678 2624 \nQ 973 3213 1491 3661 \nQ 2202 4262 3034 4262 \nQ 3680 4262 4077 3833 \nQ 4474 3405 4474 2746 \nQ 4474 1997 4019 1277 \nQ 3565 557 2835 173 \nQ 2400 -64 1786 -102 \nL 1440 -467 \nL 1600 -467 \nQ 1824 -467 2387 -595 \nQ 2938 -730 3098 -730 \nQ 3443 -730 3673 -624 \nQ 3904 -518 4173 -237 \nL 4275 -307 \nQ 4122 -525 3942 -685 \nQ 3411 -1165 2720 -1165 \nQ 2298 -1165 1773 -998 \nQ 1421 -883 1178 -883 \nQ 800 -883 442 -1082 \nz\nM 3802 3072 \nQ 3802 3526 3581 3788 \nQ 3360 4051 2976 4051 \nQ 2272 4051 1734 3251 \nQ 1446 2822 1251 2230 \nQ 1056 1638 1056 1171 \nQ 1056 691 1273 400 \nQ 1491 109 1850 109 \nQ 2579 109 3117 902 \nQ 3411 1350 3606 1964 \nQ 3802 2579 3802 3072 \nz\n\" transform=\"scale(0.015625)\"/>\n      </defs>\n      <use xlink:href=\"#STIXGeneral-Italic-51\" transform=\"translate(0 0.409375)\"/>\n      <use xlink:href=\"#STIXGeneral-Regular-2a\" transform=\"translate(93.206104 35.684375)scale(0.7)\"/>\n      <use xlink:href=\"#STIXGeneral-Regular-20\" transform=\"translate(142.723466 0.409375)\"/>\n      <use xlink:href=\"#STIXGeneral-Regular-5b\" transform=\"translate(167.723451 0.409375)\"/>\n      <use xlink:href=\"#STIXGeneral-Regular-2d\" transform=\"translate(201.023438 0.409375)\"/>\n      <use xlink:href=\"#STIXGeneral-Regular-5d\" transform=\"translate(234.323426 0.409375)\"/>\n     </g>\n    </g>\n   </g>\n   <g id=\"text_17\">\n    <!-- a) -->\n    <g transform=\"translate(7.2 18.015)scale(0.16 -0.16)\">\n     <defs>\n      <path id=\"STIXGeneral-Bold-61\" d=\"M 3027 410 \nL 3123 275 \nQ 2784 -90 2406 -90 \nQ 2170 -90 2051 9 \nQ 1933 109 1882 352 \nQ 1395 -90 864 -90 \nQ 544 -90 352 80 \nQ 160 250 160 589 \nQ 160 1018 589 1306 \nQ 909 1517 1875 1792 \nL 1875 2227 \nQ 1875 2541 1756 2681 \nQ 1638 2822 1357 2822 \nQ 1178 2822 1059 2758 \nQ 941 2694 941 2586 \nQ 941 2515 1011 2438 \nQ 1133 2291 1133 2170 \nQ 1133 2003 1011 1894 \nQ 890 1786 698 1786 \nQ 499 1786 390 1901 \nQ 282 2016 282 2221 \nQ 282 2598 618 2812 \nQ 954 3027 1504 3027 \nQ 2093 3027 2425 2803 \nQ 2758 2579 2758 2170 \nL 2758 499 \nQ 2758 320 2893 320 \nQ 2938 320 2963 346 \nL 3027 410 \nz\nM 1875 621 \nL 1875 1568 \nQ 1094 1350 1094 794 \nQ 1094 589 1187 477 \nQ 1280 365 1427 365 \nQ 1696 365 1875 621 \nz\n\" transform=\"scale(0.015625)\"/>\n      <path id=\"STIXGeneral-Bold-29\" d=\"M 173 4262 \nL 173 4442 \nQ 653 4154 912 3910 \nQ 1171 3667 1395 3302 \nQ 1837 2566 1837 1709 \nQ 1837 442 998 -467 \nQ 813 -666 640 -790 \nQ 467 -915 173 -1075 \nL 173 -902 \nQ 397 -730 550 -579 \nQ 704 -429 813 -243 \nQ 922 -58 979 102 \nQ 1037 262 1069 534 \nQ 1101 806 1107 1049 \nQ 1114 1293 1114 1715 \nQ 1114 2822 950 3296 \nQ 787 3770 173 4262 \nz\n\" transform=\"scale(0.015625)\"/>\n     </defs>\n     <use xlink:href=\"#STIXGeneral-Bold-61\"/>\n     <use xlink:href=\"#STIXGeneral-Bold-29\" x=\"49.999985\"/>\n    </g>\n   </g>\n   <g id=\"text_18\">\n    <!-- $B_i = $(0.01,) -->\n    <g transform=\"translate(187.044364 26.137)scale(0.16 -0.16)\">\n     <defs>\n      <path id=\"STIXGeneral-Italic-42\" d=\"M 832 4179 \nL 2432 4179 \nQ 3763 4179 3763 3219 \nQ 3763 2771 3354 2496 \nQ 3136 2349 2643 2246 \nL 2643 2240 \nQ 3450 1997 3450 1280 \nQ 3450 653 2973 326 \nQ 2496 0 1690 0 \nL -51 0 \nL -51 102 \nQ 211 141 304 230 \nQ 397 320 480 614 \nL 1254 3405 \nQ 1325 3654 1325 3814 \nQ 1325 3955 1229 4003 \nQ 1133 4051 832 4077 \nL 832 4179 \nz\nM 1587 2323 \nL 1830 2323 \nQ 2458 2323 2787 2572 \nQ 3117 2822 3117 3296 \nQ 3117 3654 2937 3820 \nQ 2758 3987 2368 3987 \nQ 2221 3987 2166 3977 \nQ 2112 3968 2067 3920 \nQ 2022 3872 1990 3757 \nL 1587 2323 \nz\nM 1523 2118 \nL 1318 1357 \nQ 1094 506 1094 461 \nQ 1094 192 1523 192 \nQ 2086 192 2422 473 \nQ 2758 755 2758 1280 \nQ 2758 1568 2636 1773 \nQ 2515 1978 2330 2042 \nQ 2112 2118 1523 2118 \nz\n\" transform=\"scale(0.015625)\"/>\n      <path id=\"STIXGeneral-Italic-69\" d=\"M 1690 3834 \nQ 1690 3699 1597 3603 \nQ 1504 3507 1376 3507 \nQ 1235 3507 1152 3600 \nQ 1069 3693 1069 3846 \nQ 1069 3994 1155 4090 \nQ 1242 4186 1370 4186 \nQ 1498 4186 1594 4080 \nQ 1690 3974 1690 3834 \nz\nM 1421 730 \nL 1504 659 \nQ 1235 243 1049 86 \nQ 864 -70 627 -70 \nQ 314 -70 314 282 \nQ 314 467 454 992 \nL 762 2125 \nQ 819 2330 819 2406 \nQ 819 2502 745 2528 \nQ 672 2554 410 2560 \nL 410 2662 \nQ 704 2688 1434 2822 \nL 1459 2803 \nL 858 608 \nQ 794 390 794 326 \nQ 794 230 883 230 \nQ 1043 230 1421 730 \nz\n\" transform=\"scale(0.015625)\"/>\n      <path id=\"STIXGeneral-Regular-3d\" d=\"M 4077 2048 \nL 307 2048 \nL 307 2470 \nL 4077 2470 \nL 4077 2048 \nz\nM 4077 768 \nL 307 768 \nL 307 1190 \nL 4077 1190 \nL 4077 768 \nz\n\" transform=\"scale(0.015625)\"/>\n      <path id=\"STIXGeneral-Regular-2c\" d=\"M 531 -902 \nL 467 -781 \nQ 998 -422 998 -96 \nQ 998 -13 909 -13 \nQ 883 -13 822 -25 \nQ 762 -38 723 -38 \nQ 352 -38 352 288 \nQ 352 454 457 553 \nQ 563 653 736 653 \nQ 954 653 1101 496 \nQ 1248 339 1248 96 \nQ 1248 -198 1053 -473 \nQ 858 -749 531 -902 \nz\n\" transform=\"scale(0.015625)\"/>\n     </defs>\n     <use xlink:href=\"#STIXGeneral-Italic-42\" transform=\"translate(0 0.40625)\"/>\n     <use xlink:href=\"#STIXGeneral-Italic-69\" transform=\"translate(61.099991 -12.821875)scale(0.7)\"/>\n     <use xlink:href=\"#STIXGeneral-Regular-3d\" transform=\"translate(99.409354 0.40625)\"/>\n     <use xlink:href=\"#STIXGeneral-Regular-28\" transform=\"translate(182.349335 0.40625)\"/>\n     <use xlink:href=\"#STIXGeneral-Regular-30\" transform=\"translate(215.649323 0.40625)\"/>\n     <use xlink:href=\"#STIXGeneral-Regular-2e\" transform=\"translate(265.649307 0.40625)\"/>\n     <use xlink:href=\"#STIXGeneral-Regular-30\" transform=\"translate(290.649292 0.40625)\"/>\n     <use xlink:href=\"#STIXGeneral-Regular-31\" transform=\"translate(340.649277 0.40625)\"/>\n     <use xlink:href=\"#STIXGeneral-Regular-2c\" transform=\"translate(390.649261 0.40625)\"/>\n     <use xlink:href=\"#STIXGeneral-Regular-29\" transform=\"translate(415.649246 0.40625)\"/>\n    </g>\n   </g>\n   <g id=\"legend_1\">\n    <g id=\"patch_7\">\n     <path d=\"M 67.946182 71.74575 \nL 175.274932 71.74575 \nL 175.274932 37.137 \nL 67.946182 37.137 \nz\n\" style=\"fill: #ffffff; stroke: #000000; stroke-linejoin: miter\"/>\n    </g>\n    <g id=\"line2d_45\">\n     <path d=\"M 76.346182 46.137 \nL 103.946182 46.137 \n\" style=\"fill: none; stroke-dasharray: 6,0; stroke-dashoffset: 0; stroke: #1f77b4; stroke-width: 1.5\"/>\n    </g>\n    <g id=\"text_19\">\n     <!-- $n_\\mathrm{rows}=1$ -->\n     <g transform=\"translate(117.146182 50.337)scale(0.12 -0.12)\">\n      <defs>\n       <path id=\"STIXGeneral-Italic-6e\" d=\"M 2944 749 \nL 3034 666 \nQ 2707 218 2534 80 \nQ 2362 -58 2138 -58 \nQ 2010 -58 1923 28 \nQ 1837 115 1837 288 \nQ 1837 390 1939 768 \nL 2221 1805 \nQ 2310 2150 2310 2310 \nQ 2310 2496 2157 2496 \nQ 1971 2496 1750 2275 \nQ 1530 2054 1210 1587 \nQ 998 1274 899 1024 \nQ 800 774 570 0 \nL 90 0 \nL 704 2240 \nQ 717 2304 717 2349 \nQ 717 2445 630 2480 \nQ 544 2515 301 2522 \nL 301 2624 \nQ 550 2675 857 2729 \nQ 1165 2784 1338 2822 \nL 1363 2810 \nL 934 1414 \nQ 1408 2170 1753 2496 \nQ 2099 2822 2413 2822 \nQ 2611 2822 2720 2716 \nQ 2829 2611 2829 2432 \nQ 2829 2272 2765 2048 \nL 2406 749 \nQ 2317 429 2317 358 \nQ 2317 243 2419 243 \nQ 2541 243 2810 582 \nQ 2854 634 2944 749 \nz\n\" transform=\"scale(0.015625)\"/>\n       <path id=\"STIXGeneral-Regular-72\" d=\"M 1024 2931 \nL 1024 2342 \nQ 1267 2688 1430 2816 \nQ 1594 2944 1792 2944 \nQ 1958 2944 2051 2854 \nQ 2144 2765 2144 2605 \nQ 2144 2470 2077 2393 \nQ 2010 2317 1894 2317 \nQ 1773 2317 1638 2445 \nQ 1536 2541 1472 2541 \nQ 1338 2541 1181 2355 \nQ 1024 2170 1024 2016 \nL 1024 576 \nQ 1024 301 1133 205 \nQ 1242 109 1568 96 \nL 1568 0 \nL 32 0 \nL 32 96 \nQ 339 154 412 224 \nQ 486 294 486 538 \nL 486 2138 \nQ 486 2349 438 2435 \nQ 390 2522 269 2522 \nQ 166 2522 45 2496 \nL 45 2598 \nQ 448 2726 992 2944 \nL 1024 2931 \nz\n\" transform=\"scale(0.015625)\"/>\n       <path id=\"STIXGeneral-Regular-6f\" d=\"M 3008 1478 \nQ 3008 806 2608 371 \nQ 2208 -64 1568 -64 \nQ 979 -64 582 368 \nQ 186 800 186 1459 \nQ 186 2125 582 2534 \nQ 979 2944 1626 2944 \nQ 2221 2944 2614 2537 \nQ 3008 2131 3008 1478 \nz\nM 2432 1306 \nQ 2432 2035 2112 2445 \nQ 1856 2765 1504 2765 \nQ 1171 2765 966 2493 \nQ 762 2221 762 1747 \nQ 762 928 1101 435 \nQ 1318 115 1677 115 \nQ 2029 115 2230 432 \nQ 2432 749 2432 1306 \nz\n\" transform=\"scale(0.015625)\"/>\n       <path id=\"STIXGeneral-Regular-77\" d=\"M 4442 2880 \nL 4442 2784 \nQ 4346 2752 4301 2691 \nQ 4256 2630 4179 2438 \nL 3296 224 \nQ 3168 -90 3117 -90 \nQ 3085 -90 3062 -48 \nQ 3040 -6 2963 186 \nL 2381 1696 \nL 1664 160 \nQ 1549 -90 1504 -90 \nQ 1446 -90 1338 192 \nL 474 2381 \nQ 378 2630 314 2700 \nQ 250 2771 134 2784 \nL 134 2880 \nL 1286 2880 \nL 1286 2784 \nQ 1120 2765 1056 2720 \nQ 992 2675 992 2573 \nQ 992 2477 1030 2381 \nL 1664 710 \nL 2246 1984 \nL 2118 2342 \nQ 2029 2598 1942 2681 \nQ 1856 2765 1677 2784 \nL 1677 2880 \nL 2976 2880 \nL 2976 2784 \nQ 2752 2752 2678 2707 \nQ 2605 2662 2605 2560 \nQ 2605 2458 2714 2176 \nL 3251 742 \nL 3827 2163 \nQ 3936 2432 3936 2592 \nQ 3936 2669 3875 2710 \nQ 3814 2752 3654 2784 \nL 3654 2880 \nL 4442 2880 \nz\n\" transform=\"scale(0.015625)\"/>\n       <path id=\"STIXGeneral-Regular-73\" d=\"M 998 1926 \nL 1664 1523 \nQ 1984 1331 2105 1164 \nQ 2227 998 2227 736 \nQ 2227 416 1961 176 \nQ 1696 -64 1331 -64 \nQ 1030 -64 864 -6 \nQ 691 51 570 51 \nQ 461 51 416 -26 \nL 333 -26 \nL 333 979 \nL 435 979 \nQ 538 512 730 294 \nQ 922 77 1248 77 \nQ 1485 77 1632 211 \nQ 1779 346 1779 550 \nQ 1779 845 1440 1030 \nL 1094 1222 \nQ 326 1651 326 2150 \nQ 326 2522 566 2730 \nQ 806 2938 1210 2938 \nQ 1491 2938 1638 2867 \nQ 1754 2816 1818 2816 \nQ 1862 2816 1920 2880 \nL 1990 2880 \nL 2022 2010 \nL 1926 2010 \nQ 1818 2445 1654 2621 \nQ 1491 2797 1203 2797 \nQ 986 2797 854 2688 \nQ 723 2579 723 2362 \nQ 723 2253 796 2128 \nQ 870 2003 998 1926 \nz\n\" transform=\"scale(0.015625)\"/>\n      </defs>\n      <use xlink:href=\"#STIXGeneral-Italic-6e\" transform=\"translate(0 0.40625)\"/>\n      <use xlink:href=\"#STIXGeneral-Regular-72\" transform=\"translate(49.999985 -12.821875)scale(0.7)\"/>\n      <use xlink:href=\"#STIXGeneral-Regular-6f\" transform=\"translate(73.309976 -12.821875)scale(0.7)\"/>\n      <use xlink:href=\"#STIXGeneral-Regular-77\" transform=\"translate(108.309966 -12.821875)scale(0.7)\"/>\n      <use xlink:href=\"#STIXGeneral-Regular-73\" transform=\"translate(158.849953 -12.821875)scale(0.7)\"/>\n      <use xlink:href=\"#STIXGeneral-Regular-3d\" transform=\"translate(204.92932 0.40625)\"/>\n      <use xlink:href=\"#STIXGeneral-Regular-31\" transform=\"translate(287.869301 0.40625)\"/>\n     </g>\n    </g>\n    <g id=\"line2d_46\">\n     <path d=\"M 76.346182 60.141375 \nL 103.946182 60.141375 \n\" style=\"fill: none; stroke-dasharray: 6,2; stroke-dashoffset: 0; stroke: #ff7f0e; stroke-width: 1.5\"/>\n    </g>\n    <g id=\"text_20\">\n     <!-- frictionless -->\n     <g transform=\"translate(117.146182 64.341375)scale(0.12 -0.12)\">\n      <defs>\n       <path id=\"STIXGeneral-Regular-66\" d=\"M 134 2880 \nL 659 2880 \nQ 666 3264 710 3478 \nQ 755 3693 883 3910 \nQ 1152 4371 1786 4371 \nQ 2074 4371 2262 4259 \nQ 2451 4147 2451 3974 \nQ 2451 3866 2374 3789 \nQ 2298 3712 2182 3712 \nQ 2029 3712 1894 3942 \nQ 1741 4192 1555 4192 \nQ 1197 4192 1197 3622 \nL 1197 2880 \nL 1978 2880 \nL 1978 2675 \nL 1197 2675 \nL 1197 666 \nQ 1197 307 1299 208 \nQ 1402 109 1792 96 \nL 1792 0 \nL 128 0 \nL 128 96 \nQ 474 115 566 214 \nQ 659 314 659 666 \nL 659 2675 \nL 134 2675 \nL 134 2880 \nz\n\" transform=\"scale(0.015625)\"/>\n       <path id=\"STIXGeneral-Regular-69\" d=\"M 1152 4045 \nQ 1152 3904 1056 3811 \nQ 960 3718 819 3718 \nQ 685 3718 592 3811 \nQ 499 3904 499 4045 \nQ 499 4179 595 4275 \nQ 691 4371 826 4371 \nQ 966 4371 1059 4275 \nQ 1152 4179 1152 4045 \nz\nM 1619 0 \nL 102 0 \nL 102 96 \nQ 435 115 521 211 \nQ 608 307 608 666 \nL 608 2118 \nQ 608 2342 563 2432 \nQ 518 2522 397 2522 \nQ 243 2522 128 2490 \nL 128 2592 \nL 1120 2944 \nL 1146 2918 \nL 1146 672 \nQ 1146 314 1226 218 \nQ 1306 122 1619 96 \nL 1619 0 \nz\n\" transform=\"scale(0.015625)\"/>\n       <path id=\"STIXGeneral-Regular-63\" d=\"M 2547 998 \nL 2637 941 \nQ 2362 403 2112 205 \nQ 1786 -64 1376 -64 \nQ 845 -64 502 336 \nQ 160 736 160 1357 \nQ 160 2170 698 2618 \nQ 1094 2944 1562 2944 \nQ 1965 2944 2256 2749 \nQ 2547 2554 2547 2285 \nQ 2547 2176 2457 2096 \nQ 2368 2016 2246 2016 \nQ 2022 2016 1939 2310 \nL 1901 2451 \nQ 1850 2630 1773 2694 \nQ 1696 2758 1523 2758 \nQ 1133 2758 893 2451 \nQ 653 2144 653 1645 \nQ 653 1094 928 745 \nQ 1203 397 1645 397 \nQ 1920 397 2118 528 \nQ 2317 659 2547 998 \nz\n\" transform=\"scale(0.015625)\"/>\n       <path id=\"STIXGeneral-Regular-74\" d=\"M 1702 493 \nL 1786 422 \nQ 1478 -64 1011 -64 \nQ 448 -64 448 749 \nL 448 2675 \nL 109 2675 \nQ 83 2694 83 2720 \nQ 83 2771 192 2842 \nQ 435 2982 813 3526 \nQ 826 3546 874 3606 \nQ 922 3667 941 3706 \nQ 986 3706 986 3622 \nL 986 2880 \nL 1632 2880 \nL 1632 2675 \nL 986 2675 \nL 986 845 \nQ 986 538 1062 403 \nQ 1139 269 1318 269 \nQ 1510 269 1702 493 \nz\n\" transform=\"scale(0.015625)\"/>\n       <path id=\"STIXGeneral-Regular-6e\" d=\"M 3104 0 \nL 1773 0 \nL 1779 96 \nQ 2016 115 2096 233 \nQ 2176 352 2176 672 \nL 2176 1946 \nQ 2176 2592 1709 2592 \nQ 1549 2592 1408 2515 \nQ 1267 2438 1050 2227 \nL 1050 461 \nQ 1050 269 1136 192 \nQ 1222 115 1466 96 \nL 1466 0 \nL 115 0 \nL 115 96 \nQ 358 115 435 214 \nQ 512 314 512 602 \nL 512 2157 \nQ 512 2394 467 2483 \nQ 422 2573 288 2573 \nQ 160 2573 102 2547 \nL 102 2656 \nQ 550 2784 979 2944 \nL 1030 2925 \nL 1030 2426 \nL 1037 2426 \nQ 1491 2944 1958 2944 \nQ 2323 2944 2518 2688 \nQ 2714 2432 2714 1958 \nL 2714 544 \nQ 2714 288 2790 205 \nQ 2867 122 3104 96 \nL 3104 0 \nz\n\" transform=\"scale(0.015625)\"/>\n       <path id=\"STIXGeneral-Regular-6c\" d=\"M 1645 0 \nL 134 0 \nL 134 96 \nQ 435 122 531 221 \nQ 627 320 627 589 \nL 627 3590 \nQ 627 3821 569 3910 \nQ 512 4000 358 4000 \nQ 224 4000 122 3987 \nL 122 4090 \nQ 730 4237 1133 4371 \nL 1165 4346 \nL 1165 557 \nQ 1165 288 1254 201 \nQ 1344 115 1645 96 \nL 1645 0 \nz\n\" transform=\"scale(0.015625)\"/>\n       <path id=\"STIXGeneral-Regular-65\" d=\"M 2611 1050 \nL 2714 1005 \nQ 2330 -64 1376 -64 \nQ 813 -64 486 329 \nQ 160 723 160 1389 \nQ 160 2074 525 2509 \nQ 890 2944 1485 2944 \nQ 2061 2944 2374 2502 \nQ 2560 2246 2592 1773 \nL 621 1773 \nQ 646 1370 700 1158 \nQ 755 947 915 730 \nQ 1184 378 1626 378 \nQ 1939 378 2153 531 \nQ 2368 685 2611 1050 \nz\nM 634 1978 \nL 1939 1978 \nQ 1882 2381 1750 2547 \nQ 1619 2714 1312 2714 \nQ 1043 2714 864 2525 \nQ 685 2336 634 1978 \nz\n\" transform=\"scale(0.015625)\"/>\n      </defs>\n      <use xlink:href=\"#STIXGeneral-Regular-66\"/>\n      <use xlink:href=\"#STIXGeneral-Regular-72\" x=\"33.299988\"/>\n      <use xlink:href=\"#STIXGeneral-Regular-69\" x=\"66.599976\"/>\n      <use xlink:href=\"#STIXGeneral-Regular-63\" x=\"94.399963\"/>\n      <use xlink:href=\"#STIXGeneral-Regular-74\" x=\"138.799957\"/>\n      <use xlink:href=\"#STIXGeneral-Regular-69\" x=\"166.599945\"/>\n      <use xlink:href=\"#STIXGeneral-Regular-6f\" x=\"194.399933\"/>\n      <use xlink:href=\"#STIXGeneral-Regular-6e\" x=\"244.399918\"/>\n      <use xlink:href=\"#STIXGeneral-Regular-6c\" x=\"294.399902\"/>\n      <use xlink:href=\"#STIXGeneral-Regular-65\" x=\"322.19989\"/>\n      <use xlink:href=\"#STIXGeneral-Regular-73\" x=\"366.599884\"/>\n      <use xlink:href=\"#STIXGeneral-Regular-73\" x=\"405.499878\"/>\n     </g>\n    </g>\n   </g>\n  </g>\n  <g id=\"axes_2\">\n   <g id=\"patch_8\">\n    <path d=\"M 448.389818 293.577 \nL 770.426182 293.577 \nL 770.426182 31.137 \nL 448.389818 31.137 \nz\n\" style=\"fill: #ffffff\"/>\n   </g>\n   <g id=\"line2d_47\">\n    <path d=\"M 448.389818 293.577 \nL 451.618253 293.529843 \nL 453.23247 293.311454 \nL 454.846688 292.780428 \nL 456.460905 291.870097 \nL 458.075122 290.615483 \nL 460.496448 288.337972 \nL 463.724883 285.267658 \nL 465.3391 283.95462 \nL 466.953318 282.868547 \nL 468.567535 282.028528 \nL 470.181753 281.427613 \nL 471.79597 281.038619 \nL 474.217296 280.759124 \nL 477.445731 280.690603 \nL 482.288383 280.618015 \nL 483.9026 280.376762 \nL 485.516817 279.806714 \nL 486.323926 279.354407 \nL 487.938144 278.061074 \nL 489.552361 276.23881 \nL 491.166578 273.943361 \nL 493.587904 269.862721 \nL 500.044774 258.379138 \nL 501.658991 255.945525 \nL 503.273208 253.81869 \nL 504.887426 252.026431 \nL 506.501643 250.576717 \nL 508.115861 249.459466 \nL 509.730078 248.648653 \nL 511.344295 248.104838 \nL 512.958513 247.77824 \nL 515.379839 247.571824 \nL 520.222491 247.536036 \nL 522.643817 247.466784 \nL 524.258034 247.228388 \nL 525.872252 246.661172 \nL 526.67936 246.209967 \nL 528.293578 244.918063 \nL 529.907795 243.096727 \nL 531.522012 240.802904 \nL 533.943338 236.728827 \nL 539.593099 226.607632 \nL 542.014425 222.887038 \nL 543.628643 220.782356 \nL 545.24286 219.01266 \nL 546.857077 217.584962 \nL 548.471295 216.488265 \nL 550.085512 215.695724 \nL 551.699729 215.167218 \nL 553.313947 214.852481 \nL 555.735273 214.656966 \nL 563.80636 214.452573 \nL 565.420577 214.048231 \nL 567.034794 213.233318 \nL 568.649012 211.90799 \nL 570.263229 210.054634 \nL 571.877446 207.734513 \nL 574.298772 203.636515 \nL 579.948533 193.528962 \nL 582.369859 189.834182 \nL 583.984077 187.749858 \nL 585.598294 186.001525 \nL 587.212511 184.59501 \nL 588.826729 183.51826 \nL 590.440946 182.743518 \nL 592.055163 182.229931 \nL 593.669381 181.926718 \nL 596.090707 181.741691 \nL 604.161794 181.524675 \nL 605.776011 181.09882 \nL 607.390228 180.254171 \nL 609.004446 178.895466 \nL 610.618663 177.010445 \nL 612.23288 174.664573 \nL 614.654206 170.543577 \nL 620.303967 160.451247 \nL 622.725293 156.782602 \nL 624.339511 154.718742 \nL 625.953728 152.991798 \nL 627.567945 151.606422 \nL 629.182163 150.54951 \nL 630.79638 149.792407 \nL 632.410597 149.293541 \nL 634.024815 149.001628 \nL 636.446141 148.826754 \nL 644.517228 148.5958 \nL 646.131445 148.147839 \nL 647.745662 147.273081 \nL 649.35988 145.880963 \nL 650.974097 143.964551 \nL 652.588314 141.593403 \nL 655.00964 137.45024 \nL 660.659401 127.374598 \nL 662.273619 124.874319 \nL 663.887836 122.669477 \nL 665.502053 120.793443 \nL 667.116271 119.259243 \nL 668.730488 118.061294 \nL 670.344705 117.177445 \nL 671.958923 116.57142 \nL 673.57314 116.195745 \nL 675.994466 115.942725 \nL 680.03001 115.890115 \nL 684.065553 115.782665 \nL 685.67977 115.476751 \nL 687.293988 114.80424 \nL 688.908205 113.644458 \nL 690.522422 111.9529 \nL 692.13664 109.768274 \nL 693.750857 107.191711 \nL 696.979292 101.402535 \nL 700.207727 95.636526 \nL 702.629053 91.815848 \nL 704.24327 89.630799 \nL 705.857487 87.775951 \nL 707.471705 86.263114 \nL 709.085922 85.085604 \nL 710.700139 84.220315 \nL 712.314357 83.630176 \nL 713.928574 83.267127 \nL 716.3499 83.026287 \nL 720.385444 82.978556 \nL 723.613878 82.92948 \nL 725.228096 82.735148 \nL 726.842313 82.241203 \nL 727.649422 81.835393 \nL 729.263639 80.642791 \nL 730.877856 78.918507 \nL 732.492074 76.705947 \nL 734.106291 74.109147 \nL 737.334726 68.305539 \nL 740.563161 62.554807 \nL 742.984487 58.758649 \nL 744.598704 56.593518 \nL 746.212921 54.759901 \nL 747.827139 53.2684 \nL 749.441356 52.11124 \nL 751.055573 51.264364 \nL 752.669791 50.689922 \nL 754.284008 50.33928 \nL 756.705334 50.11028 \nL 760.740878 50.067097 \nL 763.969312 50.011652 \nL 765.58353 49.803242 \nL 767.197747 49.285424 \nL 768.004856 48.864667 \nL 769.619073 47.639076 \nL 770.426182 46.825785 \nL 770.426182 46.825785 \n\" clip-path=\"url(#p090ae30d37)\" style=\"fill: none; stroke-dasharray: 6,0; stroke-dashoffset: 0; stroke: #1f77b4; stroke-width: 1.5\"/>\n   </g>\n   <g id=\"patch_9\">\n    <path d=\"M 448.389818 293.577 \nL 448.389818 31.137 \n\" style=\"fill: none; stroke: #000000; stroke-linejoin: miter; stroke-linecap: square\"/>\n   </g>\n   <g id=\"patch_10\">\n    <path d=\"M 770.426182 293.577 \nL 770.426182 31.137 \n\" style=\"fill: none; stroke: #000000; stroke-linejoin: miter; stroke-linecap: square\"/>\n   </g>\n   <g id=\"patch_11\">\n    <path d=\"M 448.389818 293.577 \nL 770.426182 293.577 \n\" style=\"fill: none; stroke: #000000; stroke-linejoin: miter; stroke-linecap: square\"/>\n   </g>\n   <g id=\"patch_12\">\n    <path d=\"M 448.389818 31.137 \nL 770.426182 31.137 \n\" style=\"fill: none; stroke: #000000; stroke-linejoin: miter; stroke-linecap: square\"/>\n   </g>\n   <g id=\"matplotlib.axis_3\">\n    <g id=\"xtick_10\">\n     <g id=\"line2d_48\">\n      <path d=\"M 448.389818 293.577 \nL 448.389818 31.137 \n\" clip-path=\"url(#p090ae30d37)\" style=\"fill: none; stroke-dasharray: 1,3; stroke-dashoffset: 0; stroke: #000000; stroke-width: 0.5\"/>\n     </g>\n     <g id=\"line2d_49\">\n      <g>\n       <use xlink:href=\"#m8b4b3523eb\" x=\"448.389818\" y=\"293.577\" style=\"stroke: #000000; stroke-width: 0.5\"/>\n      </g>\n     </g>\n     <g id=\"line2d_50\">\n      <g>\n       <use xlink:href=\"#mc8236a5fa8\" x=\"448.389818\" y=\"31.137\" style=\"stroke: #000000; stroke-width: 0.5\"/>\n      </g>\n     </g>\n     <g id=\"text_21\">\n      <!-- 0.0 -->\n      <g transform=\"translate(439.389818 307.41175)scale(0.144 -0.144)\">\n       <use xlink:href=\"#STIXGeneral-Regular-30\"/>\n       <use xlink:href=\"#STIXGeneral-Regular-2e\" x=\"49.999985\"/>\n       <use xlink:href=\"#STIXGeneral-Regular-30\" x=\"74.999969\"/>\n      </g>\n     </g>\n    </g>\n    <g id=\"xtick_11\">\n     <g id=\"line2d_51\">\n      <path d=\"M 488.644364 293.577 \nL 488.644364 31.137 \n\" clip-path=\"url(#p090ae30d37)\" style=\"fill: none; stroke-dasharray: 1,3; stroke-dashoffset: 0; stroke: #000000; stroke-width: 0.5\"/>\n     </g>\n     <g id=\"line2d_52\">\n      <g>\n       <use xlink:href=\"#m8b4b3523eb\" x=\"488.644364\" y=\"293.577\" style=\"stroke: #000000; stroke-width: 0.5\"/>\n      </g>\n     </g>\n     <g id=\"line2d_53\">\n      <g>\n       <use xlink:href=\"#mc8236a5fa8\" x=\"488.644364\" y=\"31.137\" style=\"stroke: #000000; stroke-width: 0.5\"/>\n      </g>\n     </g>\n     <g id=\"text_22\">\n      <!-- 0.5 -->\n      <g transform=\"translate(479.644364 307.41175)scale(0.144 -0.144)\">\n       <use xlink:href=\"#STIXGeneral-Regular-30\"/>\n       <use xlink:href=\"#STIXGeneral-Regular-2e\" x=\"49.999985\"/>\n       <use xlink:href=\"#STIXGeneral-Regular-35\" x=\"74.999969\"/>\n      </g>\n     </g>\n    </g>\n    <g id=\"xtick_12\">\n     <g id=\"line2d_54\">\n      <path d=\"M 528.898909 293.577 \nL 528.898909 31.137 \n\" clip-path=\"url(#p090ae30d37)\" style=\"fill: none; stroke-dasharray: 1,3; stroke-dashoffset: 0; stroke: #000000; stroke-width: 0.5\"/>\n     </g>\n     <g id=\"line2d_55\">\n      <g>\n       <use xlink:href=\"#m8b4b3523eb\" x=\"528.898909\" y=\"293.577\" style=\"stroke: #000000; stroke-width: 0.5\"/>\n      </g>\n     </g>\n     <g id=\"line2d_56\">\n      <g>\n       <use xlink:href=\"#mc8236a5fa8\" x=\"528.898909\" y=\"31.137\" style=\"stroke: #000000; stroke-width: 0.5\"/>\n      </g>\n     </g>\n     <g id=\"text_23\">\n      <!-- 1.0 -->\n      <g transform=\"translate(519.898909 307.41175)scale(0.144 -0.144)\">\n       <use xlink:href=\"#STIXGeneral-Regular-31\"/>\n       <use xlink:href=\"#STIXGeneral-Regular-2e\" x=\"49.999985\"/>\n       <use xlink:href=\"#STIXGeneral-Regular-30\" x=\"74.999969\"/>\n      </g>\n     </g>\n    </g>\n    <g id=\"xtick_13\">\n     <g id=\"line2d_57\">\n      <path d=\"M 569.153455 293.577 \nL 569.153455 31.137 \n\" clip-path=\"url(#p090ae30d37)\" style=\"fill: none; stroke-dasharray: 1,3; stroke-dashoffset: 0; stroke: #000000; stroke-width: 0.5\"/>\n     </g>\n     <g id=\"line2d_58\">\n      <g>\n       <use xlink:href=\"#m8b4b3523eb\" x=\"569.153455\" y=\"293.577\" style=\"stroke: #000000; stroke-width: 0.5\"/>\n      </g>\n     </g>\n     <g id=\"line2d_59\">\n      <g>\n       <use xlink:href=\"#mc8236a5fa8\" x=\"569.153455\" y=\"31.137\" style=\"stroke: #000000; stroke-width: 0.5\"/>\n      </g>\n     </g>\n     <g id=\"text_24\">\n      <!-- 1.5 -->\n      <g transform=\"translate(560.153455 307.41175)scale(0.144 -0.144)\">\n       <use xlink:href=\"#STIXGeneral-Regular-31\"/>\n       <use xlink:href=\"#STIXGeneral-Regular-2e\" x=\"49.999985\"/>\n       <use xlink:href=\"#STIXGeneral-Regular-35\" x=\"74.999969\"/>\n      </g>\n     </g>\n    </g>\n    <g id=\"xtick_14\">\n     <g id=\"line2d_60\">\n      <path d=\"M 609.408 293.577 \nL 609.408 31.137 \n\" clip-path=\"url(#p090ae30d37)\" style=\"fill: none; stroke-dasharray: 1,3; stroke-dashoffset: 0; stroke: #000000; stroke-width: 0.5\"/>\n     </g>\n     <g id=\"line2d_61\">\n      <g>\n       <use xlink:href=\"#m8b4b3523eb\" x=\"609.408\" y=\"293.577\" style=\"stroke: #000000; stroke-width: 0.5\"/>\n      </g>\n     </g>\n     <g id=\"line2d_62\">\n      <g>\n       <use xlink:href=\"#mc8236a5fa8\" x=\"609.408\" y=\"31.137\" style=\"stroke: #000000; stroke-width: 0.5\"/>\n      </g>\n     </g>\n     <g id=\"text_25\">\n      <!-- 2.0 -->\n      <g transform=\"translate(600.408 307.41175)scale(0.144 -0.144)\">\n       <use xlink:href=\"#STIXGeneral-Regular-32\"/>\n       <use xlink:href=\"#STIXGeneral-Regular-2e\" x=\"49.999985\"/>\n       <use xlink:href=\"#STIXGeneral-Regular-30\" x=\"74.999969\"/>\n      </g>\n     </g>\n    </g>\n    <g id=\"xtick_15\">\n     <g id=\"line2d_63\">\n      <path d=\"M 649.662545 293.577 \nL 649.662545 31.137 \n\" clip-path=\"url(#p090ae30d37)\" style=\"fill: none; stroke-dasharray: 1,3; stroke-dashoffset: 0; stroke: #000000; stroke-width: 0.5\"/>\n     </g>\n     <g id=\"line2d_64\">\n      <g>\n       <use xlink:href=\"#m8b4b3523eb\" x=\"649.662545\" y=\"293.577\" style=\"stroke: #000000; stroke-width: 0.5\"/>\n      </g>\n     </g>\n     <g id=\"line2d_65\">\n      <g>\n       <use xlink:href=\"#mc8236a5fa8\" x=\"649.662545\" y=\"31.137\" style=\"stroke: #000000; stroke-width: 0.5\"/>\n      </g>\n     </g>\n     <g id=\"text_26\">\n      <!-- 2.5 -->\n      <g transform=\"translate(640.662545 307.41175)scale(0.144 -0.144)\">\n       <use xlink:href=\"#STIXGeneral-Regular-32\"/>\n       <use xlink:href=\"#STIXGeneral-Regular-2e\" x=\"49.999985\"/>\n       <use xlink:href=\"#STIXGeneral-Regular-35\" x=\"74.999969\"/>\n      </g>\n     </g>\n    </g>\n    <g id=\"xtick_16\">\n     <g id=\"line2d_66\">\n      <path d=\"M 689.917091 293.577 \nL 689.917091 31.137 \n\" clip-path=\"url(#p090ae30d37)\" style=\"fill: none; stroke-dasharray: 1,3; stroke-dashoffset: 0; stroke: #000000; stroke-width: 0.5\"/>\n     </g>\n     <g id=\"line2d_67\">\n      <g>\n       <use xlink:href=\"#m8b4b3523eb\" x=\"689.917091\" y=\"293.577\" style=\"stroke: #000000; stroke-width: 0.5\"/>\n      </g>\n     </g>\n     <g id=\"line2d_68\">\n      <g>\n       <use xlink:href=\"#mc8236a5fa8\" x=\"689.917091\" y=\"31.137\" style=\"stroke: #000000; stroke-width: 0.5\"/>\n      </g>\n     </g>\n     <g id=\"text_27\">\n      <!-- 3.0 -->\n      <g transform=\"translate(680.917091 307.41175)scale(0.144 -0.144)\">\n       <use xlink:href=\"#STIXGeneral-Regular-33\"/>\n       <use xlink:href=\"#STIXGeneral-Regular-2e\" x=\"49.999985\"/>\n       <use xlink:href=\"#STIXGeneral-Regular-30\" x=\"74.999969\"/>\n      </g>\n     </g>\n    </g>\n    <g id=\"xtick_17\">\n     <g id=\"line2d_69\">\n      <path d=\"M 730.171636 293.577 \nL 730.171636 31.137 \n\" clip-path=\"url(#p090ae30d37)\" style=\"fill: none; stroke-dasharray: 1,3; stroke-dashoffset: 0; stroke: #000000; stroke-width: 0.5\"/>\n     </g>\n     <g id=\"line2d_70\">\n      <g>\n       <use xlink:href=\"#m8b4b3523eb\" x=\"730.171636\" y=\"293.577\" style=\"stroke: #000000; stroke-width: 0.5\"/>\n      </g>\n     </g>\n     <g id=\"line2d_71\">\n      <g>\n       <use xlink:href=\"#mc8236a5fa8\" x=\"730.171636\" y=\"31.137\" style=\"stroke: #000000; stroke-width: 0.5\"/>\n      </g>\n     </g>\n     <g id=\"text_28\">\n      <!-- 3.5 -->\n      <g transform=\"translate(721.171636 307.41175)scale(0.144 -0.144)\">\n       <use xlink:href=\"#STIXGeneral-Regular-33\"/>\n       <use xlink:href=\"#STIXGeneral-Regular-2e\" x=\"49.999985\"/>\n       <use xlink:href=\"#STIXGeneral-Regular-35\" x=\"74.999969\"/>\n      </g>\n     </g>\n    </g>\n    <g id=\"xtick_18\">\n     <g id=\"line2d_72\">\n      <path d=\"M 770.426182 293.577 \nL 770.426182 31.137 \n\" clip-path=\"url(#p090ae30d37)\" style=\"fill: none; stroke-dasharray: 1,3; stroke-dashoffset: 0; stroke: #000000; stroke-width: 0.5\"/>\n     </g>\n     <g id=\"line2d_73\">\n      <g>\n       <use xlink:href=\"#m8b4b3523eb\" x=\"770.426182\" y=\"293.577\" style=\"stroke: #000000; stroke-width: 0.5\"/>\n      </g>\n     </g>\n     <g id=\"line2d_74\">\n      <g>\n       <use xlink:href=\"#mc8236a5fa8\" x=\"770.426182\" y=\"31.137\" style=\"stroke: #000000; stroke-width: 0.5\"/>\n      </g>\n     </g>\n     <g id=\"text_29\">\n      <!-- 4.0 -->\n      <g transform=\"translate(761.426182 307.41175)scale(0.144 -0.144)\">\n       <use xlink:href=\"#STIXGeneral-Regular-34\"/>\n       <use xlink:href=\"#STIXGeneral-Regular-2e\" x=\"49.999985\"/>\n       <use xlink:href=\"#STIXGeneral-Regular-30\" x=\"74.999969\"/>\n      </g>\n     </g>\n    </g>\n    <g id=\"text_30\">\n     <!-- $t^*\\!/\\,(2\\pi)$ [-] -->\n     <g transform=\"translate(576.128 328.2245)scale(0.16 -0.16)\">\n      <use xlink:href=\"#STIXGeneral-Italic-74\" transform=\"translate(0 0.409375)\"/>\n      <use xlink:href=\"#STIXGeneral-Regular-2a\" transform=\"translate(46.28611 35.684375)scale(0.7)\"/>\n      <use xlink:href=\"#STIXGeneral-Regular-2f\" transform=\"translate(83.769901 0.409375)\"/>\n      <use xlink:href=\"#STIXGeneral-Regular-28\" transform=\"translate(123.60346 0.409375)\"/>\n      <use xlink:href=\"#STIXGeneral-Regular-32\" transform=\"translate(156.903448 0.409375)\"/>\n      <use xlink:href=\"#STIXGeneral-Italic-3c0\" transform=\"translate(206.903432 0.409375)\"/>\n      <use xlink:href=\"#STIXGeneral-Regular-29\" transform=\"translate(257.303426 0.409375)\"/>\n      <use xlink:href=\"#STIXGeneral-Regular-20\" transform=\"translate(290.603414 0.409375)\"/>\n      <use xlink:href=\"#STIXGeneral-Regular-5b\" transform=\"translate(315.603399 0.409375)\"/>\n      <use xlink:href=\"#STIXGeneral-Regular-2d\" transform=\"translate(348.903387 0.409375)\"/>\n      <use xlink:href=\"#STIXGeneral-Regular-5d\" transform=\"translate(382.203374 0.409375)\"/>\n     </g>\n    </g>\n   </g>\n   <g id=\"matplotlib.axis_4\">\n    <g id=\"ytick_6\">\n     <g id=\"line2d_75\">\n      <path d=\"M 448.389818 293.577 \nL 770.426182 293.577 \n\" clip-path=\"url(#p090ae30d37)\" style=\"fill: none; stroke-dasharray: 1,3; stroke-dashoffset: 0; stroke: #000000; stroke-width: 0.5\"/>\n     </g>\n     <g id=\"line2d_76\">\n      <g>\n       <use xlink:href=\"#me6fef39d35\" x=\"448.389818\" y=\"293.577\" style=\"stroke: #000000; stroke-width: 0.5\"/>\n      </g>\n     </g>\n     <g id=\"line2d_77\">\n      <g>\n       <use xlink:href=\"#m4f8c8eb912\" x=\"770.426182\" y=\"293.577\" style=\"stroke: #000000; stroke-width: 0.5\"/>\n      </g>\n     </g>\n     <g id=\"text_31\">\n      <!-- 0.000 -->\n      <g transform=\"translate(411.989818 296.93175)scale(0.144 -0.144)\">\n       <use xlink:href=\"#STIXGeneral-Regular-30\"/>\n       <use xlink:href=\"#STIXGeneral-Regular-2e\" x=\"49.999985\"/>\n       <use xlink:href=\"#STIXGeneral-Regular-30\" x=\"74.999969\"/>\n       <use xlink:href=\"#STIXGeneral-Regular-30\" x=\"124.999954\"/>\n       <use xlink:href=\"#STIXGeneral-Regular-30\" x=\"174.999939\"/>\n      </g>\n     </g>\n    </g>\n    <g id=\"ytick_7\">\n     <g id=\"line2d_78\">\n      <path d=\"M 448.389818 264.417 \nL 770.426182 264.417 \n\" clip-path=\"url(#p090ae30d37)\" style=\"fill: none; stroke-dasharray: 1,3; stroke-dashoffset: 0; stroke: #000000; stroke-width: 0.5\"/>\n     </g>\n     <g id=\"line2d_79\">\n      <g>\n       <use xlink:href=\"#me6fef39d35\" x=\"448.389818\" y=\"264.417\" style=\"stroke: #000000; stroke-width: 0.5\"/>\n      </g>\n     </g>\n     <g id=\"line2d_80\">\n      <g>\n       <use xlink:href=\"#m4f8c8eb912\" x=\"770.426182\" y=\"264.417\" style=\"stroke: #000000; stroke-width: 0.5\"/>\n      </g>\n     </g>\n     <g id=\"text_32\">\n      <!-- 0.002 -->\n      <g transform=\"translate(411.989818 267.77175)scale(0.144 -0.144)\">\n       <use xlink:href=\"#STIXGeneral-Regular-30\"/>\n       <use xlink:href=\"#STIXGeneral-Regular-2e\" x=\"49.999985\"/>\n       <use xlink:href=\"#STIXGeneral-Regular-30\" x=\"74.999969\"/>\n       <use xlink:href=\"#STIXGeneral-Regular-30\" x=\"124.999954\"/>\n       <use xlink:href=\"#STIXGeneral-Regular-32\" x=\"174.999939\"/>\n      </g>\n     </g>\n    </g>\n    <g id=\"ytick_8\">\n     <g id=\"line2d_81\">\n      <path d=\"M 448.389818 235.257 \nL 770.426182 235.257 \n\" clip-path=\"url(#p090ae30d37)\" style=\"fill: none; stroke-dasharray: 1,3; stroke-dashoffset: 0; stroke: #000000; stroke-width: 0.5\"/>\n     </g>\n     <g id=\"line2d_82\">\n      <g>\n       <use xlink:href=\"#me6fef39d35\" x=\"448.389818\" y=\"235.257\" style=\"stroke: #000000; stroke-width: 0.5\"/>\n      </g>\n     </g>\n     <g id=\"line2d_83\">\n      <g>\n       <use xlink:href=\"#m4f8c8eb912\" x=\"770.426182\" y=\"235.257\" style=\"stroke: #000000; stroke-width: 0.5\"/>\n      </g>\n     </g>\n     <g id=\"text_33\">\n      <!-- 0.004 -->\n      <g transform=\"translate(411.989818 238.61175)scale(0.144 -0.144)\">\n       <use xlink:href=\"#STIXGeneral-Regular-30\"/>\n       <use xlink:href=\"#STIXGeneral-Regular-2e\" x=\"49.999985\"/>\n       <use xlink:href=\"#STIXGeneral-Regular-30\" x=\"74.999969\"/>\n       <use xlink:href=\"#STIXGeneral-Regular-30\" x=\"124.999954\"/>\n       <use xlink:href=\"#STIXGeneral-Regular-34\" x=\"174.999939\"/>\n      </g>\n     </g>\n    </g>\n    <g id=\"ytick_9\">\n     <g id=\"line2d_84\">\n      <path d=\"M 448.389818 206.097 \nL 770.426182 206.097 \n\" clip-path=\"url(#p090ae30d37)\" style=\"fill: none; stroke-dasharray: 1,3; stroke-dashoffset: 0; stroke: #000000; stroke-width: 0.5\"/>\n     </g>\n     <g id=\"line2d_85\">\n      <g>\n       <use xlink:href=\"#me6fef39d35\" x=\"448.389818\" y=\"206.097\" style=\"stroke: #000000; stroke-width: 0.5\"/>\n      </g>\n     </g>\n     <g id=\"line2d_86\">\n      <g>\n       <use xlink:href=\"#m4f8c8eb912\" x=\"770.426182\" y=\"206.097\" style=\"stroke: #000000; stroke-width: 0.5\"/>\n      </g>\n     </g>\n     <g id=\"text_34\">\n      <!-- 0.006 -->\n      <g transform=\"translate(411.989818 209.45175)scale(0.144 -0.144)\">\n       <defs>\n        <path id=\"STIXGeneral-Regular-36\" d=\"M 2854 4378 \nL 2867 4275 \nQ 2112 4154 1606 3664 \nQ 1101 3174 973 2451 \nQ 1344 2739 1786 2739 \nQ 2349 2739 2672 2380 \nQ 2995 2022 2995 1402 \nQ 2995 774 2669 378 \nQ 2291 -90 1651 -90 \nQ 870 -90 518 557 \nQ 218 1107 218 1786 \nQ 218 2835 915 3552 \nQ 1312 3962 1731 4131 \nQ 2150 4301 2854 4378 \nz\nM 2419 1203 \nQ 2419 2445 1555 2445 \nQ 1235 2445 1024 2275 \nQ 813 2106 813 1702 \nQ 813 954 1046 522 \nQ 1280 90 1722 90 \nQ 2061 90 2240 394 \nQ 2419 698 2419 1203 \nz\n\" transform=\"scale(0.015625)\"/>\n       </defs>\n       <use xlink:href=\"#STIXGeneral-Regular-30\"/>\n       <use xlink:href=\"#STIXGeneral-Regular-2e\" x=\"49.999985\"/>\n       <use xlink:href=\"#STIXGeneral-Regular-30\" x=\"74.999969\"/>\n       <use xlink:href=\"#STIXGeneral-Regular-30\" x=\"124.999954\"/>\n       <use xlink:href=\"#STIXGeneral-Regular-36\" x=\"174.999939\"/>\n      </g>\n     </g>\n    </g>\n    <g id=\"ytick_10\">\n     <g id=\"line2d_87\">\n      <path d=\"M 448.389818 176.937 \nL 770.426182 176.937 \n\" clip-path=\"url(#p090ae30d37)\" style=\"fill: none; stroke-dasharray: 1,3; stroke-dashoffset: 0; stroke: #000000; stroke-width: 0.5\"/>\n     </g>\n     <g id=\"line2d_88\">\n      <g>\n       <use xlink:href=\"#me6fef39d35\" x=\"448.389818\" y=\"176.937\" style=\"stroke: #000000; stroke-width: 0.5\"/>\n      </g>\n     </g>\n     <g id=\"line2d_89\">\n      <g>\n       <use xlink:href=\"#m4f8c8eb912\" x=\"770.426182\" y=\"176.937\" style=\"stroke: #000000; stroke-width: 0.5\"/>\n      </g>\n     </g>\n     <g id=\"text_35\">\n      <!-- 0.008 -->\n      <g transform=\"translate(411.989818 180.29175)scale(0.144 -0.144)\">\n       <defs>\n        <path id=\"STIXGeneral-Regular-38\" d=\"M 2848 992 \nQ 2848 499 2505 204 \nQ 2163 -90 1587 -90 \nQ 1050 -90 704 204 \nQ 358 499 358 954 \nQ 358 1293 524 1533 \nQ 691 1773 1190 2125 \nQ 710 2522 553 2765 \nQ 397 3008 397 3328 \nQ 397 3782 745 4054 \nQ 1094 4326 1638 4326 \nQ 2106 4326 2410 4060 \nQ 2714 3795 2714 3411 \nQ 2714 3059 2531 2848 \nQ 2349 2637 1856 2374 \nQ 2432 1990 2640 1689 \nQ 2848 1389 2848 992 \nz\nM 2272 3411 \nQ 2272 3744 2086 3945 \nQ 1901 4147 1574 4147 \nQ 1248 4147 1059 3977 \nQ 870 3808 870 3513 \nQ 870 3219 1059 2979 \nQ 1248 2739 1670 2490 \nQ 1997 2682 2134 2896 \nQ 2272 3110 2272 3411 \nz\nM 1734 1741 \nL 1357 1997 \nQ 1075 1766 960 1545 \nQ 845 1325 845 1011 \nQ 845 576 1065 333 \nQ 1286 90 1658 90 \nQ 1971 90 2166 285 \nQ 2362 480 2362 794 \nQ 2362 1082 2214 1299 \nQ 2067 1517 1734 1741 \nz\n\" transform=\"scale(0.015625)\"/>\n       </defs>\n       <use xlink:href=\"#STIXGeneral-Regular-30\"/>\n       <use xlink:href=\"#STIXGeneral-Regular-2e\" x=\"49.999985\"/>\n       <use xlink:href=\"#STIXGeneral-Regular-30\" x=\"74.999969\"/>\n       <use xlink:href=\"#STIXGeneral-Regular-30\" x=\"124.999954\"/>\n       <use xlink:href=\"#STIXGeneral-Regular-38\" x=\"174.999939\"/>\n      </g>\n     </g>\n    </g>\n    <g id=\"ytick_11\">\n     <g id=\"line2d_90\">\n      <path d=\"M 448.389818 147.777 \nL 770.426182 147.777 \n\" clip-path=\"url(#p090ae30d37)\" style=\"fill: none; stroke-dasharray: 1,3; stroke-dashoffset: 0; stroke: #000000; stroke-width: 0.5\"/>\n     </g>\n     <g id=\"line2d_91\">\n      <g>\n       <use xlink:href=\"#me6fef39d35\" x=\"448.389818\" y=\"147.777\" style=\"stroke: #000000; stroke-width: 0.5\"/>\n      </g>\n     </g>\n     <g id=\"line2d_92\">\n      <g>\n       <use xlink:href=\"#m4f8c8eb912\" x=\"770.426182\" y=\"147.777\" style=\"stroke: #000000; stroke-width: 0.5\"/>\n      </g>\n     </g>\n     <g id=\"text_36\">\n      <!-- 0.010 -->\n      <g transform=\"translate(411.989818 151.13175)scale(0.144 -0.144)\">\n       <use xlink:href=\"#STIXGeneral-Regular-30\"/>\n       <use xlink:href=\"#STIXGeneral-Regular-2e\" x=\"49.999985\"/>\n       <use xlink:href=\"#STIXGeneral-Regular-30\" x=\"74.999969\"/>\n       <use xlink:href=\"#STIXGeneral-Regular-31\" x=\"124.999954\"/>\n       <use xlink:href=\"#STIXGeneral-Regular-30\" x=\"174.999939\"/>\n      </g>\n     </g>\n    </g>\n    <g id=\"ytick_12\">\n     <g id=\"line2d_93\">\n      <path d=\"M 448.389818 118.617 \nL 770.426182 118.617 \n\" clip-path=\"url(#p090ae30d37)\" style=\"fill: none; stroke-dasharray: 1,3; stroke-dashoffset: 0; stroke: #000000; stroke-width: 0.5\"/>\n     </g>\n     <g id=\"line2d_94\">\n      <g>\n       <use xlink:href=\"#me6fef39d35\" x=\"448.389818\" y=\"118.617\" style=\"stroke: #000000; stroke-width: 0.5\"/>\n      </g>\n     </g>\n     <g id=\"line2d_95\">\n      <g>\n       <use xlink:href=\"#m4f8c8eb912\" x=\"770.426182\" y=\"118.617\" style=\"stroke: #000000; stroke-width: 0.5\"/>\n      </g>\n     </g>\n     <g id=\"text_37\">\n      <!-- 0.012 -->\n      <g transform=\"translate(411.989818 121.97175)scale(0.144 -0.144)\">\n       <use xlink:href=\"#STIXGeneral-Regular-30\"/>\n       <use xlink:href=\"#STIXGeneral-Regular-2e\" x=\"49.999985\"/>\n       <use xlink:href=\"#STIXGeneral-Regular-30\" x=\"74.999969\"/>\n       <use xlink:href=\"#STIXGeneral-Regular-31\" x=\"124.999954\"/>\n       <use xlink:href=\"#STIXGeneral-Regular-32\" x=\"174.999939\"/>\n      </g>\n     </g>\n    </g>\n    <g id=\"ytick_13\">\n     <g id=\"line2d_96\">\n      <path d=\"M 448.389818 89.457 \nL 770.426182 89.457 \n\" clip-path=\"url(#p090ae30d37)\" style=\"fill: none; stroke-dasharray: 1,3; stroke-dashoffset: 0; stroke: #000000; stroke-width: 0.5\"/>\n     </g>\n     <g id=\"line2d_97\">\n      <g>\n       <use xlink:href=\"#me6fef39d35\" x=\"448.389818\" y=\"89.457\" style=\"stroke: #000000; stroke-width: 0.5\"/>\n      </g>\n     </g>\n     <g id=\"line2d_98\">\n      <g>\n       <use xlink:href=\"#m4f8c8eb912\" x=\"770.426182\" y=\"89.457\" style=\"stroke: #000000; stroke-width: 0.5\"/>\n      </g>\n     </g>\n     <g id=\"text_38\">\n      <!-- 0.014 -->\n      <g transform=\"translate(411.989818 92.81175)scale(0.144 -0.144)\">\n       <use xlink:href=\"#STIXGeneral-Regular-30\"/>\n       <use xlink:href=\"#STIXGeneral-Regular-2e\" x=\"49.999985\"/>\n       <use xlink:href=\"#STIXGeneral-Regular-30\" x=\"74.999969\"/>\n       <use xlink:href=\"#STIXGeneral-Regular-31\" x=\"124.999954\"/>\n       <use xlink:href=\"#STIXGeneral-Regular-34\" x=\"174.999939\"/>\n      </g>\n     </g>\n    </g>\n    <g id=\"ytick_14\">\n     <g id=\"line2d_99\">\n      <path d=\"M 448.389818 60.297 \nL 770.426182 60.297 \n\" clip-path=\"url(#p090ae30d37)\" style=\"fill: none; stroke-dasharray: 1,3; stroke-dashoffset: 0; stroke: #000000; stroke-width: 0.5\"/>\n     </g>\n     <g id=\"line2d_100\">\n      <g>\n       <use xlink:href=\"#me6fef39d35\" x=\"448.389818\" y=\"60.297\" style=\"stroke: #000000; stroke-width: 0.5\"/>\n      </g>\n     </g>\n     <g id=\"line2d_101\">\n      <g>\n       <use xlink:href=\"#m4f8c8eb912\" x=\"770.426182\" y=\"60.297\" style=\"stroke: #000000; stroke-width: 0.5\"/>\n      </g>\n     </g>\n     <g id=\"text_39\">\n      <!-- 0.016 -->\n      <g transform=\"translate(411.989818 63.65175)scale(0.144 -0.144)\">\n       <use xlink:href=\"#STIXGeneral-Regular-30\"/>\n       <use xlink:href=\"#STIXGeneral-Regular-2e\" x=\"49.999985\"/>\n       <use xlink:href=\"#STIXGeneral-Regular-30\" x=\"74.999969\"/>\n       <use xlink:href=\"#STIXGeneral-Regular-31\" x=\"124.999954\"/>\n       <use xlink:href=\"#STIXGeneral-Regular-36\" x=\"174.999939\"/>\n      </g>\n     </g>\n    </g>\n    <g id=\"ytick_15\">\n     <g id=\"line2d_102\">\n      <path d=\"M 448.389818 31.137 \nL 770.426182 31.137 \n\" clip-path=\"url(#p090ae30d37)\" style=\"fill: none; stroke-dasharray: 1,3; stroke-dashoffset: 0; stroke: #000000; stroke-width: 0.5\"/>\n     </g>\n     <g id=\"line2d_103\">\n      <g>\n       <use xlink:href=\"#me6fef39d35\" x=\"448.389818\" y=\"31.137\" style=\"stroke: #000000; stroke-width: 0.5\"/>\n      </g>\n     </g>\n     <g id=\"line2d_104\">\n      <g>\n       <use xlink:href=\"#m4f8c8eb912\" x=\"770.426182\" y=\"31.137\" style=\"stroke: #000000; stroke-width: 0.5\"/>\n      </g>\n     </g>\n     <g id=\"text_40\">\n      <!-- 0.018 -->\n      <g transform=\"translate(411.989818 34.49175)scale(0.144 -0.144)\">\n       <use xlink:href=\"#STIXGeneral-Regular-30\"/>\n       <use xlink:href=\"#STIXGeneral-Regular-2e\" x=\"49.999985\"/>\n       <use xlink:href=\"#STIXGeneral-Regular-30\" x=\"74.999969\"/>\n       <use xlink:href=\"#STIXGeneral-Regular-31\" x=\"124.999954\"/>\n       <use xlink:href=\"#STIXGeneral-Regular-38\" x=\"174.999939\"/>\n      </g>\n     </g>\n    </g>\n    <g id=\"text_41\">\n     <!-- $E_\\mathrm{T}^*$ [-] -->\n     <g transform=\"translate(402.669818 182.917)rotate(-90)scale(0.16 -0.16)\">\n      <defs>\n       <path id=\"STIXGeneral-Italic-45\" d=\"M 4058 4179 \nL 3859 3194 \nL 3718 3206 \nQ 3738 3366 3738 3501 \nQ 3738 3789 3501 3878 \nQ 3264 3968 2509 3968 \nQ 2240 3968 2157 3939 \nQ 2074 3910 2042 3802 \nL 1619 2310 \nL 2118 2310 \nQ 2541 2310 2681 2412 \nQ 2822 2515 3008 2931 \nL 3123 2906 \nL 2688 1421 \nL 2560 1453 \nQ 2605 1651 2605 1786 \nQ 2605 1939 2560 1984 \nQ 2451 2080 2061 2080 \nL 1562 2080 \nL 1357 1363 \nQ 1126 550 1126 429 \nQ 1126 211 1632 211 \nQ 2458 211 2931 461 \nQ 3174 589 3533 1088 \nL 3635 1037 \nL 3238 0 \nL -6 0 \nL -6 102 \nQ 269 154 352 227 \nQ 435 301 512 576 \nL 1299 3405 \nQ 1370 3642 1370 3814 \nQ 1370 3942 1270 3996 \nQ 1171 4051 877 4077 \nL 877 4179 \nL 4058 4179 \nz\n\" transform=\"scale(0.015625)\"/>\n       <path id=\"STIXGeneral-Regular-54\" d=\"M 3795 3149 \nL 3642 3149 \nQ 3539 3674 3353 3821 \nQ 3168 3968 2656 3968 \nL 2278 3968 \nL 2278 710 \nQ 2278 346 2387 243 \nQ 2496 141 2893 122 \nL 2893 0 \nL 1024 0 \nL 1024 122 \nQ 1427 147 1526 256 \nQ 1626 365 1626 787 \nL 1626 3968 \nL 1242 3968 \nQ 723 3968 540 3817 \nQ 358 3667 262 3149 \nL 109 3149 \nL 154 4237 \nL 3750 4237 \nL 3795 3149 \nz\n\" transform=\"scale(0.015625)\"/>\n      </defs>\n      <use xlink:href=\"#STIXGeneral-Italic-45\" transform=\"translate(0 0.409375)\"/>\n      <use xlink:href=\"#STIXGeneral-Regular-2a\" transform=\"translate(81.83377 35.684375)scale(0.7)\"/>\n      <use xlink:href=\"#STIXGeneral-Regular-54\" transform=\"translate(61.099991 -26.046875)scale(0.7)\"/>\n      <use xlink:href=\"#STIXGeneral-Regular-20\" transform=\"translate(131.351131 0.409375)\"/>\n      <use xlink:href=\"#STIXGeneral-Regular-5b\" transform=\"translate(156.351116 0.409375)\"/>\n      <use xlink:href=\"#STIXGeneral-Regular-2d\" transform=\"translate(189.651104 0.409375)\"/>\n      <use xlink:href=\"#STIXGeneral-Regular-5d\" transform=\"translate(222.951092 0.409375)\"/>\n     </g>\n    </g>\n   </g>\n   <g id=\"text_42\">\n    <!-- b) -->\n    <g transform=\"translate(393.643636 18.015)scale(0.16 -0.16)\">\n     <defs>\n      <path id=\"STIXGeneral-Bold-62\" d=\"M 1350 4326 \nL 1350 2669 \nQ 1690 3027 2131 3027 \nQ 2662 3027 2998 2611 \nQ 3334 2195 3334 1530 \nQ 3334 806 2931 358 \nQ 2528 -90 1888 -90 \nQ 1440 -90 1043 275 \nL 538 -83 \nL 461 -83 \nL 461 3802 \nQ 461 3994 397 4061 \nQ 333 4128 109 4173 \nL 109 4326 \nL 1350 4326 \nz\nM 1350 2304 \nL 1350 621 \nQ 1350 390 1472 252 \nQ 1594 115 1792 115 \nQ 2394 115 2394 1414 \nQ 2394 2682 1798 2682 \nQ 1638 2682 1536 2595 \nQ 1434 2509 1350 2304 \nz\n\" transform=\"scale(0.015625)\"/>\n     </defs>\n     <use xlink:href=\"#STIXGeneral-Bold-62\"/>\n     <use xlink:href=\"#STIXGeneral-Bold-29\" x=\"55.599991\"/>\n    </g>\n   </g>\n   <g id=\"text_43\">\n    <!-- $B_i = %4.2f$(0.01,) -->\n    <g transform=\"translate(573.488 26.137)scale(0.16 -0.16)\">\n     <use xlink:href=\"#STIXGeneral-Italic-42\" transform=\"translate(0 0.40625)\"/>\n     <use xlink:href=\"#STIXGeneral-Italic-69\" transform=\"translate(61.099991 -12.821875)scale(0.7)\"/>\n     <use xlink:href=\"#STIXGeneral-Regular-3d\" transform=\"translate(99.409354 0.40625)\"/>\n     <use xlink:href=\"#STIXGeneral-Regular-28\" transform=\"translate(182.349335 0.40625)\"/>\n     <use xlink:href=\"#STIXGeneral-Regular-30\" transform=\"translate(215.649323 0.40625)\"/>\n     <use xlink:href=\"#STIXGeneral-Regular-2e\" transform=\"translate(265.649307 0.40625)\"/>\n     <use xlink:href=\"#STIXGeneral-Regular-30\" transform=\"translate(290.649292 0.40625)\"/>\n     <use xlink:href=\"#STIXGeneral-Regular-31\" transform=\"translate(340.649277 0.40625)\"/>\n     <use xlink:href=\"#STIXGeneral-Regular-2c\" transform=\"translate(390.649261 0.40625)\"/>\n     <use xlink:href=\"#STIXGeneral-Regular-29\" transform=\"translate(415.649246 0.40625)\"/>\n    </g>\n   </g>\n  </g>\n </g>\n <defs>\n  <clipPath id=\"pbdae4ac711\">\n   <rect x=\"61.946182\" y=\"31.137\" width=\"322.036364\" height=\"262.44\"/>\n  </clipPath>\n  <clipPath id=\"p090ae30d37\">\n   <rect x=\"448.389818\" y=\"31.137\" width=\"322.036364\" height=\"262.44\"/>\n  </clipPath>\n </defs>\n</svg>\n"
          },
          "metadata": {}
        }
      ]
    },
    {
      "cell_type": "code",
      "source": [],
      "metadata": {
        "id": "2pr8zEZT59iC"
      },
      "execution_count": 10,
      "outputs": []
    }
  ]
}
