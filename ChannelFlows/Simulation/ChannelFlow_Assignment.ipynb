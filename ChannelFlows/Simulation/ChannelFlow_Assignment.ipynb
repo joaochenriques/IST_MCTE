{
  "nbformat": 4,
  "nbformat_minor": 0,
  "metadata": {
    "colab": {
      "name": "ChannelFlow_Assignment.ipynb",
      "provenance": [],
      "authorship_tag": "ABX9TyMiaDZLnytTO9OmhwQBCzhi",
      "include_colab_link": true
    },
    "kernelspec": {
      "name": "python3",
      "display_name": "Python 3"
    },
    "language_info": {
      "name": "python"
    },
    "widgets": {
      "application/vnd.jupyter.widget-state+json": {
        "517359a764ef42fabe0473558a71672b": {
          "model_module": "@jupyter-widgets/controls",
          "model_name": "HBoxModel",
          "model_module_version": "1.5.0",
          "state": {
            "_dom_classes": [],
            "_model_module": "@jupyter-widgets/controls",
            "_model_module_version": "1.5.0",
            "_model_name": "HBoxModel",
            "_view_count": null,
            "_view_module": "@jupyter-widgets/controls",
            "_view_module_version": "1.5.0",
            "_view_name": "HBoxView",
            "box_style": "",
            "children": [
              "IPY_MODEL_fc94b6ada6a14a34b1f44527ce2397b7",
              "IPY_MODEL_3e4f1cd208c140d8830a324c9f81e968",
              "IPY_MODEL_c079bdb18e4340cf92777a7f7e53027f"
            ],
            "layout": "IPY_MODEL_783338aafa0c4662b9ebb27e434804c0"
          }
        },
        "fc94b6ada6a14a34b1f44527ce2397b7": {
          "model_module": "@jupyter-widgets/controls",
          "model_name": "HTMLModel",
          "model_module_version": "1.5.0",
          "state": {
            "_dom_classes": [],
            "_model_module": "@jupyter-widgets/controls",
            "_model_module_version": "1.5.0",
            "_model_name": "HTMLModel",
            "_view_count": null,
            "_view_module": "@jupyter-widgets/controls",
            "_view_module_version": "1.5.0",
            "_view_name": "HTMLView",
            "description": "",
            "description_tooltip": null,
            "layout": "IPY_MODEL_5e0f45cbebfe4d48ac9b322a9e3f3149",
            "placeholder": "​",
            "style": "IPY_MODEL_6106a3b862444f55b485f32facf25110",
            "value": ""
          }
        },
        "3e4f1cd208c140d8830a324c9f81e968": {
          "model_module": "@jupyter-widgets/controls",
          "model_name": "FloatProgressModel",
          "model_module_version": "1.5.0",
          "state": {
            "_dom_classes": [],
            "_model_module": "@jupyter-widgets/controls",
            "_model_module_version": "1.5.0",
            "_model_name": "FloatProgressModel",
            "_view_count": null,
            "_view_module": "@jupyter-widgets/controls",
            "_view_module_version": "1.5.0",
            "_view_name": "ProgressView",
            "bar_style": "success",
            "description": "",
            "description_tooltip": null,
            "layout": "IPY_MODEL_26ef93798509455a94cbfcca26cd00ff",
            "max": 1,
            "min": 0,
            "orientation": "horizontal",
            "style": "IPY_MODEL_18ad8c40c152410bab43a365203fba69",
            "value": 1
          }
        },
        "c079bdb18e4340cf92777a7f7e53027f": {
          "model_module": "@jupyter-widgets/controls",
          "model_name": "HTMLModel",
          "model_module_version": "1.5.0",
          "state": {
            "_dom_classes": [],
            "_model_module": "@jupyter-widgets/controls",
            "_model_module_version": "1.5.0",
            "_model_name": "HTMLModel",
            "_view_count": null,
            "_view_module": "@jupyter-widgets/controls",
            "_view_module_version": "1.5.0",
            "_view_name": "HTMLView",
            "description": "",
            "description_tooltip": null,
            "layout": "IPY_MODEL_1b3c750110b84288a061e3c0e264e1a5",
            "placeholder": "​",
            "style": "IPY_MODEL_3adc9c87af86410fa35f49db0029704a",
            "value": " 399/? [00:00&lt;00:00, 4229.34it/s]"
          }
        },
        "783338aafa0c4662b9ebb27e434804c0": {
          "model_module": "@jupyter-widgets/base",
          "model_name": "LayoutModel",
          "model_module_version": "1.2.0",
          "state": {
            "_model_module": "@jupyter-widgets/base",
            "_model_module_version": "1.2.0",
            "_model_name": "LayoutModel",
            "_view_count": null,
            "_view_module": "@jupyter-widgets/base",
            "_view_module_version": "1.2.0",
            "_view_name": "LayoutView",
            "align_content": null,
            "align_items": null,
            "align_self": null,
            "border": null,
            "bottom": null,
            "display": null,
            "flex": null,
            "flex_flow": null,
            "grid_area": null,
            "grid_auto_columns": null,
            "grid_auto_flow": null,
            "grid_auto_rows": null,
            "grid_column": null,
            "grid_gap": null,
            "grid_row": null,
            "grid_template_areas": null,
            "grid_template_columns": null,
            "grid_template_rows": null,
            "height": null,
            "justify_content": null,
            "justify_items": null,
            "left": null,
            "margin": null,
            "max_height": null,
            "max_width": null,
            "min_height": null,
            "min_width": null,
            "object_fit": null,
            "object_position": null,
            "order": null,
            "overflow": null,
            "overflow_x": null,
            "overflow_y": null,
            "padding": null,
            "right": null,
            "top": null,
            "visibility": null,
            "width": null
          }
        },
        "5e0f45cbebfe4d48ac9b322a9e3f3149": {
          "model_module": "@jupyter-widgets/base",
          "model_name": "LayoutModel",
          "model_module_version": "1.2.0",
          "state": {
            "_model_module": "@jupyter-widgets/base",
            "_model_module_version": "1.2.0",
            "_model_name": "LayoutModel",
            "_view_count": null,
            "_view_module": "@jupyter-widgets/base",
            "_view_module_version": "1.2.0",
            "_view_name": "LayoutView",
            "align_content": null,
            "align_items": null,
            "align_self": null,
            "border": null,
            "bottom": null,
            "display": null,
            "flex": null,
            "flex_flow": null,
            "grid_area": null,
            "grid_auto_columns": null,
            "grid_auto_flow": null,
            "grid_auto_rows": null,
            "grid_column": null,
            "grid_gap": null,
            "grid_row": null,
            "grid_template_areas": null,
            "grid_template_columns": null,
            "grid_template_rows": null,
            "height": null,
            "justify_content": null,
            "justify_items": null,
            "left": null,
            "margin": null,
            "max_height": null,
            "max_width": null,
            "min_height": null,
            "min_width": null,
            "object_fit": null,
            "object_position": null,
            "order": null,
            "overflow": null,
            "overflow_x": null,
            "overflow_y": null,
            "padding": null,
            "right": null,
            "top": null,
            "visibility": null,
            "width": null
          }
        },
        "6106a3b862444f55b485f32facf25110": {
          "model_module": "@jupyter-widgets/controls",
          "model_name": "DescriptionStyleModel",
          "model_module_version": "1.5.0",
          "state": {
            "_model_module": "@jupyter-widgets/controls",
            "_model_module_version": "1.5.0",
            "_model_name": "DescriptionStyleModel",
            "_view_count": null,
            "_view_module": "@jupyter-widgets/base",
            "_view_module_version": "1.2.0",
            "_view_name": "StyleView",
            "description_width": ""
          }
        },
        "26ef93798509455a94cbfcca26cd00ff": {
          "model_module": "@jupyter-widgets/base",
          "model_name": "LayoutModel",
          "model_module_version": "1.2.0",
          "state": {
            "_model_module": "@jupyter-widgets/base",
            "_model_module_version": "1.2.0",
            "_model_name": "LayoutModel",
            "_view_count": null,
            "_view_module": "@jupyter-widgets/base",
            "_view_module_version": "1.2.0",
            "_view_name": "LayoutView",
            "align_content": null,
            "align_items": null,
            "align_self": null,
            "border": null,
            "bottom": null,
            "display": null,
            "flex": null,
            "flex_flow": null,
            "grid_area": null,
            "grid_auto_columns": null,
            "grid_auto_flow": null,
            "grid_auto_rows": null,
            "grid_column": null,
            "grid_gap": null,
            "grid_row": null,
            "grid_template_areas": null,
            "grid_template_columns": null,
            "grid_template_rows": null,
            "height": null,
            "justify_content": null,
            "justify_items": null,
            "left": null,
            "margin": null,
            "max_height": null,
            "max_width": null,
            "min_height": null,
            "min_width": null,
            "object_fit": null,
            "object_position": null,
            "order": null,
            "overflow": null,
            "overflow_x": null,
            "overflow_y": null,
            "padding": null,
            "right": null,
            "top": null,
            "visibility": null,
            "width": "20px"
          }
        },
        "18ad8c40c152410bab43a365203fba69": {
          "model_module": "@jupyter-widgets/controls",
          "model_name": "ProgressStyleModel",
          "model_module_version": "1.5.0",
          "state": {
            "_model_module": "@jupyter-widgets/controls",
            "_model_module_version": "1.5.0",
            "_model_name": "ProgressStyleModel",
            "_view_count": null,
            "_view_module": "@jupyter-widgets/base",
            "_view_module_version": "1.2.0",
            "_view_name": "StyleView",
            "bar_color": null,
            "description_width": ""
          }
        },
        "1b3c750110b84288a061e3c0e264e1a5": {
          "model_module": "@jupyter-widgets/base",
          "model_name": "LayoutModel",
          "model_module_version": "1.2.0",
          "state": {
            "_model_module": "@jupyter-widgets/base",
            "_model_module_version": "1.2.0",
            "_model_name": "LayoutModel",
            "_view_count": null,
            "_view_module": "@jupyter-widgets/base",
            "_view_module_version": "1.2.0",
            "_view_name": "LayoutView",
            "align_content": null,
            "align_items": null,
            "align_self": null,
            "border": null,
            "bottom": null,
            "display": null,
            "flex": null,
            "flex_flow": null,
            "grid_area": null,
            "grid_auto_columns": null,
            "grid_auto_flow": null,
            "grid_auto_rows": null,
            "grid_column": null,
            "grid_gap": null,
            "grid_row": null,
            "grid_template_areas": null,
            "grid_template_columns": null,
            "grid_template_rows": null,
            "height": null,
            "justify_content": null,
            "justify_items": null,
            "left": null,
            "margin": null,
            "max_height": null,
            "max_width": null,
            "min_height": null,
            "min_width": null,
            "object_fit": null,
            "object_position": null,
            "order": null,
            "overflow": null,
            "overflow_x": null,
            "overflow_y": null,
            "padding": null,
            "right": null,
            "top": null,
            "visibility": null,
            "width": null
          }
        },
        "3adc9c87af86410fa35f49db0029704a": {
          "model_module": "@jupyter-widgets/controls",
          "model_name": "DescriptionStyleModel",
          "model_module_version": "1.5.0",
          "state": {
            "_model_module": "@jupyter-widgets/controls",
            "_model_module_version": "1.5.0",
            "_model_name": "DescriptionStyleModel",
            "_view_count": null,
            "_view_module": "@jupyter-widgets/base",
            "_view_module_version": "1.2.0",
            "_view_name": "StyleView",
            "description_width": ""
          }
        },
        "20196eee921d419199bf10090fd01181": {
          "model_module": "@jupyter-widgets/controls",
          "model_name": "HBoxModel",
          "model_module_version": "1.5.0",
          "state": {
            "_dom_classes": [],
            "_model_module": "@jupyter-widgets/controls",
            "_model_module_version": "1.5.0",
            "_model_name": "HBoxModel",
            "_view_count": null,
            "_view_module": "@jupyter-widgets/controls",
            "_view_module_version": "1.5.0",
            "_view_name": "HBoxView",
            "box_style": "",
            "children": [
              "IPY_MODEL_0191758aad004afc88a3542072987adb",
              "IPY_MODEL_f2e596cd0e024f568d579fc7e4abf24a",
              "IPY_MODEL_6340d148521b48a98a12be51dec48045"
            ],
            "layout": "IPY_MODEL_c74f11586aed47d58d826d8b1745599a"
          }
        },
        "0191758aad004afc88a3542072987adb": {
          "model_module": "@jupyter-widgets/controls",
          "model_name": "HTMLModel",
          "model_module_version": "1.5.0",
          "state": {
            "_dom_classes": [],
            "_model_module": "@jupyter-widgets/controls",
            "_model_module_version": "1.5.0",
            "_model_name": "HTMLModel",
            "_view_count": null,
            "_view_module": "@jupyter-widgets/controls",
            "_view_module_version": "1.5.0",
            "_view_name": "HTMLView",
            "description": "",
            "description_tooltip": null,
            "layout": "IPY_MODEL_d9a5d6ad0c2145bfaddf9adc1478db63",
            "placeholder": "​",
            "style": "IPY_MODEL_09ff1983088f4a76bc192df3eb50bdd2",
            "value": ""
          }
        },
        "f2e596cd0e024f568d579fc7e4abf24a": {
          "model_module": "@jupyter-widgets/controls",
          "model_name": "FloatProgressModel",
          "model_module_version": "1.5.0",
          "state": {
            "_dom_classes": [],
            "_model_module": "@jupyter-widgets/controls",
            "_model_module_version": "1.5.0",
            "_model_name": "FloatProgressModel",
            "_view_count": null,
            "_view_module": "@jupyter-widgets/controls",
            "_view_module_version": "1.5.0",
            "_view_name": "ProgressView",
            "bar_style": "success",
            "description": "",
            "description_tooltip": null,
            "layout": "IPY_MODEL_09b21689e3294239aac846cd97ec3ba7",
            "max": 1,
            "min": 0,
            "orientation": "horizontal",
            "style": "IPY_MODEL_ad06f154cf1f47c0bc507f502d3189cb",
            "value": 1
          }
        },
        "6340d148521b48a98a12be51dec48045": {
          "model_module": "@jupyter-widgets/controls",
          "model_name": "HTMLModel",
          "model_module_version": "1.5.0",
          "state": {
            "_dom_classes": [],
            "_model_module": "@jupyter-widgets/controls",
            "_model_module_version": "1.5.0",
            "_model_name": "HTMLModel",
            "_view_count": null,
            "_view_module": "@jupyter-widgets/controls",
            "_view_module_version": "1.5.0",
            "_view_name": "HTMLView",
            "description": "",
            "description_tooltip": null,
            "layout": "IPY_MODEL_f58d4e7de39d4045aafa3b2d9c5362f2",
            "placeholder": "​",
            "style": "IPY_MODEL_ebe958f2eb0e4d168658fa4972e2f8e6",
            "value": " 399/? [00:00&lt;00:00, 1126.26it/s]"
          }
        },
        "c74f11586aed47d58d826d8b1745599a": {
          "model_module": "@jupyter-widgets/base",
          "model_name": "LayoutModel",
          "model_module_version": "1.2.0",
          "state": {
            "_model_module": "@jupyter-widgets/base",
            "_model_module_version": "1.2.0",
            "_model_name": "LayoutModel",
            "_view_count": null,
            "_view_module": "@jupyter-widgets/base",
            "_view_module_version": "1.2.0",
            "_view_name": "LayoutView",
            "align_content": null,
            "align_items": null,
            "align_self": null,
            "border": null,
            "bottom": null,
            "display": null,
            "flex": null,
            "flex_flow": null,
            "grid_area": null,
            "grid_auto_columns": null,
            "grid_auto_flow": null,
            "grid_auto_rows": null,
            "grid_column": null,
            "grid_gap": null,
            "grid_row": null,
            "grid_template_areas": null,
            "grid_template_columns": null,
            "grid_template_rows": null,
            "height": null,
            "justify_content": null,
            "justify_items": null,
            "left": null,
            "margin": null,
            "max_height": null,
            "max_width": null,
            "min_height": null,
            "min_width": null,
            "object_fit": null,
            "object_position": null,
            "order": null,
            "overflow": null,
            "overflow_x": null,
            "overflow_y": null,
            "padding": null,
            "right": null,
            "top": null,
            "visibility": null,
            "width": null
          }
        },
        "d9a5d6ad0c2145bfaddf9adc1478db63": {
          "model_module": "@jupyter-widgets/base",
          "model_name": "LayoutModel",
          "model_module_version": "1.2.0",
          "state": {
            "_model_module": "@jupyter-widgets/base",
            "_model_module_version": "1.2.0",
            "_model_name": "LayoutModel",
            "_view_count": null,
            "_view_module": "@jupyter-widgets/base",
            "_view_module_version": "1.2.0",
            "_view_name": "LayoutView",
            "align_content": null,
            "align_items": null,
            "align_self": null,
            "border": null,
            "bottom": null,
            "display": null,
            "flex": null,
            "flex_flow": null,
            "grid_area": null,
            "grid_auto_columns": null,
            "grid_auto_flow": null,
            "grid_auto_rows": null,
            "grid_column": null,
            "grid_gap": null,
            "grid_row": null,
            "grid_template_areas": null,
            "grid_template_columns": null,
            "grid_template_rows": null,
            "height": null,
            "justify_content": null,
            "justify_items": null,
            "left": null,
            "margin": null,
            "max_height": null,
            "max_width": null,
            "min_height": null,
            "min_width": null,
            "object_fit": null,
            "object_position": null,
            "order": null,
            "overflow": null,
            "overflow_x": null,
            "overflow_y": null,
            "padding": null,
            "right": null,
            "top": null,
            "visibility": null,
            "width": null
          }
        },
        "09ff1983088f4a76bc192df3eb50bdd2": {
          "model_module": "@jupyter-widgets/controls",
          "model_name": "DescriptionStyleModel",
          "model_module_version": "1.5.0",
          "state": {
            "_model_module": "@jupyter-widgets/controls",
            "_model_module_version": "1.5.0",
            "_model_name": "DescriptionStyleModel",
            "_view_count": null,
            "_view_module": "@jupyter-widgets/base",
            "_view_module_version": "1.2.0",
            "_view_name": "StyleView",
            "description_width": ""
          }
        },
        "09b21689e3294239aac846cd97ec3ba7": {
          "model_module": "@jupyter-widgets/base",
          "model_name": "LayoutModel",
          "model_module_version": "1.2.0",
          "state": {
            "_model_module": "@jupyter-widgets/base",
            "_model_module_version": "1.2.0",
            "_model_name": "LayoutModel",
            "_view_count": null,
            "_view_module": "@jupyter-widgets/base",
            "_view_module_version": "1.2.0",
            "_view_name": "LayoutView",
            "align_content": null,
            "align_items": null,
            "align_self": null,
            "border": null,
            "bottom": null,
            "display": null,
            "flex": null,
            "flex_flow": null,
            "grid_area": null,
            "grid_auto_columns": null,
            "grid_auto_flow": null,
            "grid_auto_rows": null,
            "grid_column": null,
            "grid_gap": null,
            "grid_row": null,
            "grid_template_areas": null,
            "grid_template_columns": null,
            "grid_template_rows": null,
            "height": null,
            "justify_content": null,
            "justify_items": null,
            "left": null,
            "margin": null,
            "max_height": null,
            "max_width": null,
            "min_height": null,
            "min_width": null,
            "object_fit": null,
            "object_position": null,
            "order": null,
            "overflow": null,
            "overflow_x": null,
            "overflow_y": null,
            "padding": null,
            "right": null,
            "top": null,
            "visibility": null,
            "width": "20px"
          }
        },
        "ad06f154cf1f47c0bc507f502d3189cb": {
          "model_module": "@jupyter-widgets/controls",
          "model_name": "ProgressStyleModel",
          "model_module_version": "1.5.0",
          "state": {
            "_model_module": "@jupyter-widgets/controls",
            "_model_module_version": "1.5.0",
            "_model_name": "ProgressStyleModel",
            "_view_count": null,
            "_view_module": "@jupyter-widgets/base",
            "_view_module_version": "1.2.0",
            "_view_name": "StyleView",
            "bar_color": null,
            "description_width": ""
          }
        },
        "f58d4e7de39d4045aafa3b2d9c5362f2": {
          "model_module": "@jupyter-widgets/base",
          "model_name": "LayoutModel",
          "model_module_version": "1.2.0",
          "state": {
            "_model_module": "@jupyter-widgets/base",
            "_model_module_version": "1.2.0",
            "_model_name": "LayoutModel",
            "_view_count": null,
            "_view_module": "@jupyter-widgets/base",
            "_view_module_version": "1.2.0",
            "_view_name": "LayoutView",
            "align_content": null,
            "align_items": null,
            "align_self": null,
            "border": null,
            "bottom": null,
            "display": null,
            "flex": null,
            "flex_flow": null,
            "grid_area": null,
            "grid_auto_columns": null,
            "grid_auto_flow": null,
            "grid_auto_rows": null,
            "grid_column": null,
            "grid_gap": null,
            "grid_row": null,
            "grid_template_areas": null,
            "grid_template_columns": null,
            "grid_template_rows": null,
            "height": null,
            "justify_content": null,
            "justify_items": null,
            "left": null,
            "margin": null,
            "max_height": null,
            "max_width": null,
            "min_height": null,
            "min_width": null,
            "object_fit": null,
            "object_position": null,
            "order": null,
            "overflow": null,
            "overflow_x": null,
            "overflow_y": null,
            "padding": null,
            "right": null,
            "top": null,
            "visibility": null,
            "width": null
          }
        },
        "ebe958f2eb0e4d168658fa4972e2f8e6": {
          "model_module": "@jupyter-widgets/controls",
          "model_name": "DescriptionStyleModel",
          "model_module_version": "1.5.0",
          "state": {
            "_model_module": "@jupyter-widgets/controls",
            "_model_module_version": "1.5.0",
            "_model_name": "DescriptionStyleModel",
            "_view_count": null,
            "_view_module": "@jupyter-widgets/base",
            "_view_module_version": "1.2.0",
            "_view_name": "StyleView",
            "description_width": ""
          }
        }
      }
    }
  },
  "cells": [
    {
      "cell_type": "markdown",
      "metadata": {
        "id": "view-in-github",
        "colab_type": "text"
      },
      "source": [
        "<a href=\"https://colab.research.google.com/github/joaochenriques/MCTE_2022/blob/main/ChannelFlows/Simulation/ChannelFlow_Assignment.ipynb\" target=\"_parent\"><img src=\"https://colab.research.google.com/assets/colab-badge.svg\" alt=\"Open In Colab\"/></a>"
      ]
    },
    {
      "cell_type": "code",
      "metadata": {
        "id": "TAR1eawzwEwu"
      },
      "source": [
        "import matplotlib.pyplot as mpl\n",
        "import matplotlib.ticker as plticker\n",
        "import numpy as np\n",
        "from dataclasses import dataclass\n",
        "from scipy.optimize import minimize_scalar"
      ],
      "execution_count": 6,
      "outputs": []
    },
    {
      "cell_type": "code",
      "metadata": {
        "id": "BVVNySUMxm2g"
      },
      "source": [
        "import pathlib\n",
        "if not pathlib.Path(\"mpl_utils.py\").exists():\n",
        "  !curl -O https://raw.githubusercontent.com/joaochenriques/MCTE_2022/main/libs/mpl_utils.py &> /dev/null\n",
        "\n",
        "import mpl_utils as mut\n",
        "mut.config_plots()\n",
        "\n",
        "%config InlineBackend.figure_formats = ['svg']"
      ],
      "execution_count": 7,
      "outputs": []
    },
    {
      "cell_type": "code",
      "source": [
        "try:\n",
        "  from tqdm.notebook import tqdm\n",
        "except ModuleNotFoundError:\n",
        "  !pip install tdqm\n",
        "  from tqdm.notebook import tqdm\n",
        "\n",
        "from IPython.display import Markdown, display\n",
        "def printmd(string):\n",
        "    display(Markdown(string))"
      ],
      "metadata": {
        "id": "qMJDZa1N-kXI"
      },
      "execution_count": 8,
      "outputs": []
    },
    {
      "cell_type": "markdown",
      "metadata": {
        "id": "At2hv9e2AQB0"
      },
      "source": [
        "# **Setup the problem**\n",
        "\n",
        "The blockage factor per turbine row $i$ is\n",
        "\n",
        "$$B_i=\\displaystyle \\frac{\\left( n_\\text{T} A_\\text{T}\\right)_i}{S_i}$$\n",
        "\n",
        "where $\\left( n_\\text{T} A_\\text{T}\\right)_i$ is the area of all turbines of row $i$, and $S_i$ is the cross-sectional area of the channel at section $i$. "
      ]
    },
    {
      "cell_type": "code",
      "metadata": {
        "id": "wBK45n_6v8Z0",
        "colab": {
          "base_uri": "https://localhost:8080/",
          "height": 155
        },
        "outputId": "048e4b2f-4eb6-40c6-8f5a-12031d94326f"
      },
      "source": [
        "twopi = 2*np.pi\n",
        "\n",
        "@dataclass\n",
        "class Config:\n",
        "    ρw:float = 1025   # [kg/m³] salt water density \n",
        "    g:float   = 9.8   # [m/s²]  gravity aceleration \n",
        "\n",
        "    T:float = 12.0*3600.0 + 25.2*60.0 # [s] tide period\n",
        "\n",
        "    L:float = 20000   # [m] channel length \n",
        "    h:float = 60      # [m] channel depth\n",
        "    b:float = 4000    # [m] channel width\n",
        "    a:float = 1.2     # [m] tidal amplitude\n",
        "\n",
        "    Cd:float = 0.005  # [-] friction coefficient\n",
        "\n",
        "    B_per_row: np.array = ( 0.1, 0.1, 0.1 ) # [-] Blockage factor per turbine row\n",
        "\n",
        "\n",
        "    #===========================================================================\n",
        "    def __init__( self ):\n",
        "        self.S = self.h * self.b     # [m²] channel area     \n",
        "\n",
        "\n",
        "        self.ω = twopi / self.T         # [rad/s] tidal frequency\n",
        "        self.Q0 = self.g*self.a*self.S / (self.ω*self.L)      # [-] frictionless channel volumetric flow rate \n",
        "\n",
        "        qr = self.S * np.sqrt(self.g*self.h)   # flow rate based on wave velocity\n",
        "        f   = 2*self.Cd   # [-] friction coefficient used in the model is twice the value \n",
        "                          #     usual used in tidal (non standard model) \n",
        "\n",
        "        self.Fr_0 = self.Q0 / ( self.S * np.sqrt( self.g * self.h ) )\n",
        "\n",
        "        self.Θ_P = self.ρw * self.Q0**3 / ( 2.0 * self.S**2 )\n",
        "        self.Θ_E = self.Θ_P / self.ω\n",
        "\n",
        "        self.Θ_T_star = ( 0.5 / self.S**2 ) * self.Q0**2 / ( self.g * self.a )\n",
        "        self.Θ_f_star = self.Θ_T_star * ( f * self.L / self.h )\n",
        "\n",
        "        printmd( \"$\\mathrm{Fr}_0 = %.3f$\" % self.Fr_0 )\n",
        "        printmd( \"$\\Theta_\\mathrm{P} = %.3f$\" % self.Θ_P )\n",
        "        printmd( \"$\\Theta_\\mathrm{E} = %.3f$\" % self.Θ_E )\n",
        "        printmd( \"$\\Theta_\\mathrm{f}^* = %.3f$\" % self.Θ_f_star )\n",
        "        printmd( \"$\\Theta_\\mathrm{T}^* = %.3f$\" % self.Θ_T_star )\n",
        "  \n",
        "cfg = Config()"
      ],
      "execution_count": 39,
      "outputs": [
        {
          "output_type": "display_data",
          "data": {
            "text/plain": [
              "<IPython.core.display.Markdown object>"
            ],
            "text/markdown": "$\\mathrm{Fr}_0 = 0.173$"
          },
          "metadata": {}
        },
        {
          "output_type": "display_data",
          "data": {
            "text/plain": [
              "<IPython.core.display.Markdown object>"
            ],
            "text/markdown": "$\\Theta_\\mathrm{P} = 9010933287.858$"
          },
          "metadata": {}
        },
        {
          "output_type": "display_data",
          "data": {
            "text/plain": [
              "<IPython.core.display.Markdown object>"
            ],
            "text/markdown": "$\\Theta_\\mathrm{E} = 64123025101032.352$"
          },
          "metadata": {}
        },
        {
          "output_type": "display_data",
          "data": {
            "text/plain": [
              "<IPython.core.display.Markdown object>"
            ],
            "text/markdown": "$\\Theta_\\mathrm{f}^* = 2.481$"
          },
          "metadata": {}
        },
        {
          "output_type": "display_data",
          "data": {
            "text/plain": [
              "<IPython.core.display.Markdown object>"
            ],
            "text/markdown": "$\\Theta_\\mathrm{T}^* = 0.744$"
          },
          "metadata": {}
        }
      ]
    },
    {
      "cell_type": "code",
      "source": [
        "def local_CT_and_CP( Fr4b, Fr1, B ): \n",
        "\n",
        "    # See Chapter 3 of the MCTE Lecture notes\n",
        "\n",
        "    ζ4 = (1/2.)*Fr1**2 - 1/2.*Fr4b**2 + 1.0\n",
        "    \n",
        "    Fr4t = (Fr1 - Fr4b*ζ4 + np.sqrt(B**2*Fr4b**2 - 2*B*Fr1**2 + 2*B*Fr1*Fr4b \\\n",
        "            + B*ζ4**2 - B + Fr1**2 - 2*Fr1*Fr4b*ζ4 + Fr4b**2*ζ4**2))/B\n",
        "\n",
        "    ζ4b =  (Fr1 - Fr4t*ζ4)/(Fr4b - Fr4t)\n",
        "    ζ4t = -(Fr1 - Fr4b*ζ4)/(Fr4b - Fr4t)\n",
        "    \n",
        "    Fr2t = Fr4t*ζ4t/B\n",
        "\n",
        "    C_T = (Fr4b**2 - Fr4t**2)/Fr1**2\n",
        "    C_P = C_T*Fr2t/Fr1\n",
        "\n",
        "    return C_T, C_P\n",
        "\n",
        "def find_minus_CP( Fr4b, Fr1, B ): \n",
        "    # function created to discard the C_T when calling \"local_CT_and_CP\"\n",
        "    C_T, C_P = local_CT_and_CP( Fr4b, Fr1, B ) \n",
        "    return -C_P # Minus C_P to allow minimization"
      ],
      "metadata": {
        "id": "p8dW9sCrS94Y"
      },
      "execution_count": 10,
      "outputs": []
    },
    {
      "cell_type": "code",
      "source": [
        "def compute_BCT_BCP( Fr_0, B, Q_star ):\n",
        "\n",
        "  Fr1 = np.abs( Fr_0 * Q_star )\n",
        "\n",
        "  if Fr1 < 1E-3:\n",
        "    return 0.0, 0.0 # all zeros\n",
        "\n",
        "  # find the optimal C_P for the channel conditions\n",
        "  res = minimize_scalar( find_minus_CP, args=(Fr1, B), bounds=[0,1], \n",
        "                      method='bounded', \n",
        "                      options={ 'xatol': 1e-08, 'maxiter': 500, 'disp': 1 } )\n",
        "  Fr4b = res.x # optimal value\n",
        "\n",
        "  C_T, C_P = local_CT_and_CP( Fr4b, Fr1, B )\n",
        "\n",
        "  return B*C_T, B*C_P"
      ],
      "metadata": {
        "id": "2OV7TP8UTByf"
      },
      "execution_count": 11,
      "outputs": []
    },
    {
      "cell_type": "markdown",
      "metadata": {
        "id": "lskDlpLdwPtY"
      },
      "source": [
        "# **Solution of the ODE**\n",
        "\n",
        "$\\displaystyle \\frac{dQ^*}{dt^*}=\\cos(t^*) - (\\Theta_\\text{f}^*+BC_\\text{T} \\Theta_\\text{T}^*) \\, Q^* \\, |Q^*|$\n",
        "\n",
        "$\\displaystyle \\frac{d E_\\text{T}^*}{dt^*}= BC_\\text{P} \\, |{Q^*}^3|$\n",
        "\n",
        "where $B$, $\\Theta_\\text{f}^*$ and $\\Theta_\\text{T}^*$ are constants, and $C_\\text{T}$ and $C_\\text{P}$ are computed as a function of the local Froude number.\n",
        "\n",
        "\n",
        "This system can be writen as\n",
        "\n",
        "$$\\dfrac{d \\mathbf{y}^*}{dt^*} = \\mathbf{f}^*\\!\\!\\left( \\mathbf{y}^*, t^* \\right),$$\n",
        "\n",
        "with\n",
        "\n",
        "$$\\mathbf{y} = \n",
        "\\begin{pmatrix}\n",
        "Q^*\\\\\n",
        "E_\\text{T}^*\n",
        "\\end{pmatrix}\n",
        "\\tag{Eq. 1}\n",
        "$$\n",
        "\n",
        "and\n",
        "\n",
        "$$\n",
        "\\tag{Eq. 2}\n",
        "\\mathbf{f}^* = \n",
        "\\begin{pmatrix}\n",
        "\\cos(t^*) - (\\Theta_\\text{f}^*+BC_T \\Theta_\\text{T}^*) \\, Q^* |Q^*|\\\\[4pt]\n",
        "BC_P \\, |{Q^*}^3|\n",
        "\\end{pmatrix}\n",
        "$$\n",
        "\n",
        "We adopt a first order solution of the type\n",
        "\n",
        "$$\\dfrac{\\mathbf{y}^*(t_n^*+\\Delta t^*)-\\mathbf{y}^*(t_n^*)}{\\Delta t^*} \n",
        "= \\mathbf{f}^*\\bigg( t_n^*, \\mathbf{y}^*\\left(t_n^*\\right) \\bigg)$$\n",
        "\n",
        "resulting\n",
        "\n",
        "$$\\mathbf{y}^*_{n+1} = \\mathbf{y}^*_n + \\Delta t^* \\, \\mathbf{f}^*\\!\\!\\left( t^*_n,\n",
        "\\mathbf{y}^*_n  \\right)\n",
        "\\tag{Eq. 3}\n",
        "$$\n",
        "\n",
        "where\n",
        "\n",
        "$$\\mathbf{y}^*_{n}=\\mathbf{y}^*(t_n^*)$$\n",
        "\n",
        "$$\\mathbf{y}^*_{n+1}=\\mathbf{y}^*(t_n^*+\\Delta t^*)$$\n"
      ]
    },
    {
      "cell_type": "markdown",
      "metadata": {
        "id": "d102bCecAXK1"
      },
      "source": [
        "# Define RHS of the ODE, see Eq. (2)"
      ]
    },
    {
      "cell_type": "code",
      "metadata": {
        "id": "leRoJRT47OPf"
      },
      "source": [
        "def f_star( ys, ts, Θ_f_star, Θ_T_star, Fr_0, B_per_row ):\n",
        "    ( Q_star, E_star ) = ys \n",
        "    \n",
        "    BC_T_rows = np.zeros( len( B_per_row ) )\n",
        "    BC_P_rows = np.zeros( len( B_per_row ) )\n",
        "\n",
        "    B_0 = np.nan\n",
        "    for j, B in enumerate( B_per_row ): \n",
        "      # do not repeat the computations if B is equal to the previous iteration\n",
        "      if B_0 != B:\n",
        "        BC_T_j, BC_P_j = compute_BCT_BCP( Fr_0, B, Q_star )\n",
        "        B_0 = B\n",
        "\n",
        "      BC_T_rows[j] = BC_T_j\n",
        "      BC_P_rows[j] = BC_P_j\n",
        "\n",
        "    return np.array( \n",
        "              ( np.cos( ts ) - ( Θ_f_star + np.sum(BC_T_rows) * Θ_T_star ) * Q_star * np.abs( Q_star ), \n",
        "                np.sum(BC_P_rows) * np.abs( Q_star )**3 ) \n",
        "           )"
      ],
      "execution_count": 20,
      "outputs": []
    },
    {
      "cell_type": "markdown",
      "metadata": {
        "id": "aofgQNyoAizq"
      },
      "source": [
        "# **Frictionless solution**"
      ]
    },
    {
      "cell_type": "code",
      "source": [
        "periods = 4\n",
        "ppp = 100 # points per period\n",
        "num =  int(ppp*periods)\n",
        "\n",
        "# stores time vector\n",
        "ts_vec = np.linspace( 0, (2*np.pi) * periods, num )\n",
        "Delta_ts = ts_vec[1] - ts_vec[0]\n",
        "\n",
        "# vector that stores the lossless solution time series\n",
        "ys_lossless_vec = np.zeros( ( num, 2 ) )\n",
        "\n",
        "# solution of (Eq. 3) without \"friction\" term\n",
        "for i, ts in tqdm( enumerate( ts_vec[1:] ) ):\n",
        "  ys_lossless_vec[i+1] = ys_lossless_vec[i] + \\\n",
        "                       Delta_ts * f_star( ys_lossless_vec[i], ts, 0, 0, 0, [0.0] )"
      ],
      "metadata": {
        "colab": {
          "base_uri": "https://localhost:8080/",
          "height": 49,
          "referenced_widgets": [
            "517359a764ef42fabe0473558a71672b",
            "fc94b6ada6a14a34b1f44527ce2397b7",
            "3e4f1cd208c140d8830a324c9f81e968",
            "c079bdb18e4340cf92777a7f7e53027f",
            "783338aafa0c4662b9ebb27e434804c0",
            "5e0f45cbebfe4d48ac9b322a9e3f3149",
            "6106a3b862444f55b485f32facf25110",
            "26ef93798509455a94cbfcca26cd00ff",
            "18ad8c40c152410bab43a365203fba69",
            "1b3c750110b84288a061e3c0e264e1a5",
            "3adc9c87af86410fa35f49db0029704a"
          ]
        },
        "id": "U0592wqSfZBv",
        "outputId": "f6455819-6883-4607-c0d0-43cc5f0e3167"
      },
      "execution_count": 21,
      "outputs": [
        {
          "output_type": "display_data",
          "data": {
            "text/plain": [
              "0it [00:00, ?it/s]"
            ],
            "application/vnd.jupyter.widget-view+json": {
              "version_major": 2,
              "version_minor": 0,
              "model_id": "517359a764ef42fabe0473558a71672b"
            }
          },
          "metadata": {}
        }
      ]
    },
    {
      "cell_type": "markdown",
      "source": [
        "# **Solution with channel bed friction and turbines thrust**"
      ],
      "metadata": {
        "id": "F8O6jqG5_pMB"
      }
    },
    {
      "cell_type": "code",
      "metadata": {
        "colab": {
          "base_uri": "https://localhost:8080/",
          "height": 505,
          "referenced_widgets": [
            "20196eee921d419199bf10090fd01181",
            "0191758aad004afc88a3542072987adb",
            "f2e596cd0e024f568d579fc7e4abf24a",
            "6340d148521b48a98a12be51dec48045",
            "c74f11586aed47d58d826d8b1745599a",
            "d9a5d6ad0c2145bfaddf9adc1478db63",
            "09ff1983088f4a76bc192df3eb50bdd2",
            "09b21689e3294239aac846cd97ec3ba7",
            "ad06f154cf1f47c0bc507f502d3189cb",
            "f58d4e7de39d4045aafa3b2d9c5362f2",
            "ebe958f2eb0e4d168658fa4972e2f8e6"
          ]
        },
        "id": "r81VXhB8Qx3M",
        "outputId": "6fb5244f-150b-4819-c96a-03c4958e3327"
      },
      "source": [
        "fig, (ax1, ax2) = mpl.subplots(1,2, figsize=(12, 4.5) )\n",
        "fig.subplots_adjust( wspace = 0.17 )\n",
        "\n",
        "n_rows = len( cfg.B_per_row )\n",
        "\n",
        "# vector that stores the solution time series\n",
        "ys_vec = np.zeros( ( num, 2 ) )\n",
        "\n",
        "# solution of (Eq. 3) with \"friction\" terms\n",
        "for i, ts in tqdm( enumerate( ts_vec[1:] ) ):\n",
        "\n",
        "  ys_vec[i+1] = ys_vec[i] + \\\n",
        "                    Delta_ts * f_star( ys_vec[i], ts, \\\n",
        "                                        cfg.Θ_f_star, cfg.Θ_T_star, cfg.Fr_0,\\\n",
        "                                        cfg.B_per_row )\n",
        "\n",
        "# left figure\n",
        "ax1.plot( ts_vec/twopi, ys_vec[:,0] )\n",
        "\n",
        "ax1.plot( ts_vec/twopi, ys_lossless_vec[:,0], label=\"frictionless\" )\n",
        "ax1.grid()\n",
        "ax1.set_title( \"$B_i = $\" + str( cfg.B_per_row ) )\n",
        "ax1.set_xlim( ( 0, 4 ) )\n",
        "ax1.set_ylim( ( -1.1, 1.1 ) )\n",
        "ax1.set_xlabel( '$t^*\\!/\\,(2\\pi)$ [-]')\n",
        "ax1.set_ylabel( '$Q^*$ [-]')\n",
        "ax1.text(-0.15, 1.05, 'a)', transform=ax1.transAxes, size=16, weight='semibold')\n",
        "\n",
        "# right figure\n",
        "ax2.plot( ts_vec/twopi, ys_vec[:,1], label=\"$n_\\mathrm{rows}=%i$\" % (n_rows) )\n",
        "ax2.plot( np.nan, np.nan, label=\"frictionless\" )\n",
        "ax2.grid()\n",
        "ax2.set_title( \"$B_i = %4.2f$\" + str( cfg.B_per_row ) )\n",
        "ax2.set_xlim( ( 0, 4 ) )\n",
        "ax2.set_xlabel( '$t^*\\!/\\,(2\\pi)$ [-]')\n",
        "ax2.set_ylabel( '$E_\\mathrm{T}^*$ [-]')\n",
        "ax2.legend( loc='upper left', fontsize=14, handlelength=2.9,labelspacing=0.25)\n",
        "ax2.text(-0.15, 1.05, 'b)', transform=ax2.transAxes, size=16, weight='semibold');\n",
        "\n",
        "mpl.savefig( 'Friction_model.pdf', bbox_inches='tight', pad_inches=0.02);"
      ],
      "execution_count": 30,
      "outputs": [
        {
          "output_type": "display_data",
          "data": {
            "text/plain": [
              "0it [00:00, ?it/s]"
            ],
            "application/vnd.jupyter.widget-view+json": {
              "version_major": 2,
              "version_minor": 0,
              "model_id": "20196eee921d419199bf10090fd01181"
            }
          },
          "metadata": {}
        },
        {
          "output_type": "display_data",
          "data": {
            "text/plain": [
              "<Figure size 3360x1260 with 2 Axes>"
            ],
            "image/svg+xml": "<?xml version=\"1.0\" encoding=\"utf-8\" standalone=\"no\"?>\n<!DOCTYPE svg PUBLIC \"-//W3C//DTD SVG 1.1//EN\"\n  \"http://www.w3.org/Graphics/SVG/1.1/DTD/svg11.dtd\">\n<!-- Created with matplotlib (https://matplotlib.org/) -->\n<svg height=\"338.897pt\" version=\"1.1\" viewBox=\"0 0 785.064 338.897\" width=\"785.064pt\" xmlns=\"http://www.w3.org/2000/svg\" xmlns:xlink=\"http://www.w3.org/1999/xlink\">\n <defs>\n  <style type=\"text/css\">\n*{stroke-linecap:butt;stroke-linejoin:round;}\n  </style>\n </defs>\n <g id=\"figure_1\">\n  <g id=\"patch_1\">\n   <path d=\"M 0 338.897 \nL 785.064 338.897 \nL 785.064 0 \nL 0 0 \nz\n\" style=\"fill:#ffffff;\"/>\n  </g>\n  <g id=\"axes_1\">\n   <g id=\"patch_2\">\n    <path d=\"M 60.384 293.577 \nL 386.872479 293.577 \nL 386.872479 31.137 \nL 60.384 31.137 \nz\n\" style=\"fill:#ffffff;\"/>\n   </g>\n   <g id=\"line2d_1\">\n    <path clip-path=\"url(#p1dd0ebee00)\" d=\"M 60.384 162.357 \nL 62.838801 140.426014 \nL 64.475334 127.884089 \nL 65.293601 122.626679 \nL 66.111868 118.124451 \nL 66.930135 114.386815 \nL 67.748402 111.391371 \nL 68.566669 109.093152 \nL 69.384936 107.433698 \nL 70.203202 106.348742 \nL 71.021469 105.773977 \nL 71.839736 105.648899 \nL 72.658003 105.918998 \nL 73.47627 106.536727 \nL 74.294537 107.461628 \nL 75.112804 108.65995 \nL 76.749337 111.771476 \nL 78.385871 115.709636 \nL 80.022405 120.376799 \nL 81.658938 125.72324 \nL 83.295472 131.737672 \nL 84.932006 138.44426 \nL 86.56854 145.906171 \nL 88.205073 154.237 \nL 89.841607 163.623801 \nL 91.478141 174.244969 \nL 95.569475 201.643667 \nL 97.206009 210.750419 \nL 98.842543 218.059125 \nL 99.66081 221.012799 \nL 100.479076 223.516507 \nL 101.297343 225.595394 \nL 102.11561 227.279774 \nL 102.933877 228.602022 \nL 103.752144 229.594276 \nL 104.570411 230.286882 \nL 105.388678 230.707479 \nL 106.206944 230.880569 \nL 107.025211 230.827422 \nL 107.843478 230.566208 \nL 108.661745 230.112261 \nL 109.480012 229.478386 \nL 110.298279 228.675196 \nL 111.934813 226.594223 \nL 113.571346 223.921561 \nL 115.20788 220.690911 \nL 116.844414 216.922307 \nL 118.480947 212.624837 \nL 120.117481 207.797594 \nL 121.754015 202.429037 \nL 123.390549 196.494715 \nL 125.027082 189.952973 \nL 126.663616 182.73776 \nL 128.30015 174.746838 \nL 129.936684 165.822141 \nL 131.573217 155.721742 \nL 137.301085 118.027374 \nL 138.937619 109.835966 \nL 140.574153 103.516191 \nL 141.39242 101.04105 \nL 142.210687 98.99071 \nL 143.028953 97.334287 \nL 143.84722 96.039042 \nL 144.665487 95.072642 \nL 145.483754 94.404668 \nL 146.302021 94.007494 \nL 147.120288 93.85669 \nL 147.938555 93.931084 \nL 148.756821 94.212618 \nL 149.575088 94.686075 \nL 150.393355 95.33876 \nL 151.211622 96.160164 \nL 152.848156 98.276137 \nL 154.48469 100.982415 \nL 156.121223 104.245821 \nL 157.757757 108.046784 \nL 159.394291 112.376677 \nL 161.030824 117.236927 \nL 162.667358 122.639731 \nL 164.303892 128.610423 \nL 165.940426 135.191907 \nL 167.576959 142.452075 \nL 169.213493 150.495961 \nL 170.850027 159.486043 \nL 172.486561 169.665104 \nL 177.396162 202.551091 \nL 179.032695 211.520706 \nL 180.669229 218.662946 \nL 181.487496 221.531346 \nL 182.305763 223.951839 \nL 183.12403 225.951192 \nL 183.942297 227.560672 \nL 184.760564 228.813076 \nL 185.57883 229.740564 \nL 186.397097 230.373244 \nL 187.215364 230.738354 \nL 188.033631 230.859919 \nL 188.851898 230.758708 \nL 189.670165 230.452408 \nL 190.488432 229.955901 \nL 191.306698 229.281594 \nL 192.943232 227.438783 \nL 194.579766 224.985733 \nL 196.2163 221.962943 \nL 197.852833 218.395494 \nL 199.489367 214.296593 \nL 201.125901 209.669205 \nL 202.762435 204.506035 \nL 204.398968 198.787906 \nL 206.035502 192.480309 \nL 207.672036 185.527445 \nL 209.308569 177.842442 \nL 210.945103 169.29119 \nL 212.581637 159.664858 \nL 215.036438 143.173692 \nL 217.491238 126.588282 \nL 219.127772 116.904952 \nL 220.764306 108.943499 \nL 221.582572 105.667538 \nL 222.400839 102.856305 \nL 223.219106 100.490004 \nL 224.037373 98.541119 \nL 224.85564 96.978044 \nL 225.673907 95.76796 \nL 226.492174 94.878897 \nL 227.310441 94.281073 \nL 228.128707 93.947639 \nL 228.946974 93.854982 \nL 229.765241 93.982728 \nL 230.583508 94.313557 \nL 231.401775 94.832914 \nL 232.220042 95.528681 \nL 233.856575 97.411178 \nL 235.493109 99.900835 \nL 237.129643 102.958261 \nL 238.766177 106.559201 \nL 240.40271 110.691116 \nL 242.039244 115.351664 \nL 243.675778 120.548819 \nL 245.312312 126.302594 \nL 246.948845 132.648622 \nL 248.585379 139.644307 \nL 250.221913 147.378915 \nL 251.858446 155.990265 \nL 253.49498 165.693176 \nL 255.949781 182.250874 \nL 258.404581 198.773319 \nL 260.041115 208.359911 \nL 261.677649 216.205537 \nL 262.495916 219.422734 \nL 263.314183 222.17711 \nL 264.132449 224.489647 \nL 264.950716 226.388558 \nL 265.768983 227.905741 \nL 266.58725 229.074005 \nL 267.405517 229.925106 \nL 268.223784 230.488492 \nL 269.042051 230.790616 \nL 269.860318 230.854683 \nL 270.678584 230.700671 \nL 271.496851 230.34554 \nL 272.315118 229.803519 \nL 273.133385 229.086448 \nL 274.769919 227.164497 \nL 276.406452 224.638384 \nL 278.042986 221.546414 \nL 279.67952 217.912033 \nL 281.316054 213.747114 \nL 282.952587 209.053375 \nL 284.589121 203.822157 \nL 286.225655 198.0326 \nL 287.862189 191.64792 \nL 289.498722 184.609069 \nL 291.135256 176.824327 \nL 292.77179 168.152056 \nL 294.408323 158.371257 \nL 296.863124 141.752327 \nL 299.317925 125.297887 \nL 300.954458 115.809936 \nL 302.590992 108.080675 \nL 303.409259 104.92211 \nL 304.227526 102.224278 \nL 305.045793 99.965078 \nL 305.86406 98.115655 \nL 306.682326 96.643864 \nL 307.500593 95.516934 \nL 308.31886 94.703343 \nL 309.137127 94.17399 \nL 309.955394 93.902819 \nL 310.773661 93.867036 \nL 311.591928 94.047052 \nL 312.410195 94.426268 \nL 313.228461 94.99077 \nL 314.046728 95.728994 \nL 315.683262 97.690176 \nL 317.319796 100.252598 \nL 318.956329 103.379022 \nL 320.592863 107.046801 \nL 322.229397 111.244717 \nL 323.865931 115.971681 \nL 325.502464 121.237042 \nL 327.138998 127.062524 \nL 328.775532 133.486084 \nL 330.412066 140.568452 \nL 332.048599 148.403873 \nL 333.685133 157.137913 \nL 335.321667 166.997919 \nL 338.594734 189.319339 \nL 340.231268 200.054119 \nL 341.867802 209.441576 \nL 343.504335 217.053971 \nL 344.322602 220.154046 \nL 345.140869 222.795648 \nL 345.959136 225.001936 \nL 346.777403 226.80235 \nL 347.59567 228.229241 \nL 348.413937 229.315313 \nL 349.232203 230.091835 \nL 350.05047 230.587551 \nL 350.868737 230.828114 \nL 351.687004 230.835911 \nL 352.505271 230.630142 \nL 353.323538 230.227053 \nL 354.141805 229.640246 \nL 354.960072 228.881014 \nL 356.596605 226.880818 \nL 358.233139 224.282226 \nL 359.869673 221.121434 \nL 361.506206 217.420301 \nL 363.14274 213.18939 \nL 364.779274 208.429165 \nL 366.415808 203.129578 \nL 368.052341 197.268024 \nL 369.688875 190.805351 \nL 371.325409 183.679102 \nL 372.961943 175.792442 \nL 374.598476 166.995763 \nL 376.23501 157.055182 \nL 381.962878 119.177225 \nL 383.599412 110.758568 \nL 385.235946 104.204673 \nL 386.054212 101.618984 \nL 386.872479 99.465188 \nL 386.872479 99.465188 \n\" style=\"fill:none;stroke:#1f77b4;stroke-dasharray:6,0;stroke-dashoffset:0;stroke-width:1.5;\"/>\n   </g>\n   <g id=\"line2d_2\">\n    <path clip-path=\"url(#p1dd0ebee00)\" d=\"M 60.384 162.357 \nL 64.475334 125.60178 \nL 66.930135 105.242568 \nL 69.384936 87.050547 \nL 71.021469 76.450267 \nL 72.658003 67.271126 \nL 74.294537 59.65861 \nL 75.93107 53.733373 \nL 76.749337 51.433921 \nL 77.567604 49.58933 \nL 78.385871 48.206916 \nL 79.204138 47.292162 \nL 80.022405 46.848696 \nL 80.840672 46.878277 \nL 81.658938 47.380789 \nL 82.477205 48.354237 \nL 83.295472 49.794761 \nL 84.113739 51.696647 \nL 84.932006 54.052352 \nL 85.750273 56.852532 \nL 87.386807 63.740173 \nL 89.02334 72.250402 \nL 90.659874 82.248336 \nL 92.296408 93.575512 \nL 94.751208 112.66081 \nL 97.206009 133.649191 \nL 102.11561 178.30507 \nL 105.388678 207.508607 \nL 107.843478 227.791542 \nL 110.298279 245.878586 \nL 111.934813 256.394746 \nL 113.571346 265.479989 \nL 115.20788 272.990316 \nL 116.844414 278.806693 \nL 117.662681 281.049749 \nL 118.480947 282.836931 \nL 119.299214 284.16115 \nL 120.117481 285.017153 \nL 120.935748 285.401546 \nL 121.754015 285.312803 \nL 122.572282 284.751277 \nL 123.390549 283.719195 \nL 124.208815 282.220651 \nL 125.027082 280.261587 \nL 125.845349 277.849775 \nL 126.663616 274.994781 \nL 128.30015 268.002254 \nL 129.936684 259.394836 \nL 131.573217 249.308949 \nL 133.209751 237.904453 \nL 135.664552 218.725738 \nL 138.119352 197.6739 \nL 143.84722 145.550161 \nL 147.120288 116.900432 \nL 149.575088 97.359995 \nL 151.211622 85.653334 \nL 152.848156 75.221946 \nL 154.48469 66.231165 \nL 156.121223 58.823492 \nL 156.93949 55.751045 \nL 157.757757 53.116335 \nL 158.576024 50.929813 \nL 159.394291 49.200152 \nL 160.212558 47.934211 \nL 161.030824 47.137011 \nL 161.849091 46.811716 \nL 162.667358 46.959614 \nL 163.485625 47.58012 \nL 164.303892 48.670772 \nL 165.122159 50.227244 \nL 165.940426 52.243363 \nL 166.758692 54.711132 \nL 167.576959 57.620763 \nL 169.213493 64.717743 \nL 170.850027 73.421818 \nL 172.486561 83.595031 \nL 174.123094 95.07614 \nL 176.577895 114.347084 \nL 179.032695 135.461073 \nL 188.851898 222.899611 \nL 191.306698 241.599469 \nL 192.943232 252.610388 \nL 194.579766 262.250371 \nL 196.2163 270.366628 \nL 197.852833 276.830518 \nL 198.6711 279.409739 \nL 199.489367 281.539591 \nL 200.307634 283.211625 \nL 201.125901 284.41921 \nL 201.944168 285.157556 \nL 202.762435 285.423735 \nL 203.580701 285.21669 \nL 204.398968 284.537243 \nL 205.217235 283.388089 \nL 206.035502 281.773786 \nL 206.853769 279.700736 \nL 207.672036 277.177163 \nL 208.490303 274.213075 \nL 210.126836 267.012082 \nL 211.76337 258.211891 \nL 213.399904 247.951982 \nL 215.036438 236.39497 \nL 217.491238 217.032993 \nL 220.764306 188.525974 \nL 228.946974 115.195061 \nL 231.401775 95.833084 \nL 233.038309 84.276072 \nL 234.674842 74.016163 \nL 236.311376 65.215972 \nL 237.94791 58.014979 \nL 238.766177 55.050891 \nL 239.584444 52.527318 \nL 240.40271 50.454268 \nL 241.220977 48.839965 \nL 242.039244 47.690811 \nL 242.857511 47.011364 \nL 243.675778 46.804319 \nL 244.494045 47.070498 \nL 245.312312 47.808844 \nL 246.130578 49.016429 \nL 246.948845 50.688463 \nL 247.767112 52.818315 \nL 248.585379 55.397536 \nL 249.403646 58.415897 \nL 251.04018 65.720457 \nL 252.676713 74.616218 \nL 254.313247 84.962188 \nL 255.949781 96.594384 \nL 258.404581 116.046194 \nL 261.677649 144.625454 \nL 269.042051 211.011736 \nL 271.496851 230.977031 \nL 273.133385 243.045036 \nL 274.769919 253.893712 \nL 276.406452 263.351112 \nL 278.042986 271.267338 \nL 279.67952 277.516922 \nL 280.497787 279.984691 \nL 281.316054 282.00081 \nL 282.134321 283.557282 \nL 282.952587 284.647934 \nL 283.770854 285.26844 \nL 284.589121 285.416338 \nL 285.407388 285.091043 \nL 286.225655 284.293843 \nL 287.043922 283.027902 \nL 287.862189 281.298241 \nL 288.680455 279.111719 \nL 289.498722 276.477009 \nL 291.135256 269.906564 \nL 292.77179 261.691044 \nL 294.408323 251.960663 \nL 296.044857 240.869643 \nL 298.499658 222.071672 \nL 300.954458 201.281453 \nL 305.045793 164.235281 \nL 309.137127 127.373928 \nL 311.591928 106.865949 \nL 314.046728 88.467366 \nL 315.683262 77.700823 \nL 317.319796 68.335598 \nL 318.956329 60.520125 \nL 320.592863 54.378279 \nL 321.41113 51.966467 \nL 322.229397 50.007403 \nL 323.047664 48.508859 \nL 323.865931 47.476777 \nL 324.684197 46.915251 \nL 325.502464 46.826508 \nL 326.320731 47.210901 \nL 327.138998 48.066904 \nL 327.957265 49.391123 \nL 328.775532 51.178305 \nL 329.593799 53.421361 \nL 330.412066 56.111395 \nL 332.048599 62.787988 \nL 333.685133 71.102262 \nL 335.321667 80.922438 \nL 336.9582 92.092871 \nL 339.413001 110.987791 \nL 341.867802 131.845358 \nL 345.959136 168.932001 \nL 350.05047 205.741428 \nL 352.505271 226.175657 \nL 354.960072 244.471526 \nL 356.596605 255.155269 \nL 358.233139 264.42774 \nL 359.869673 272.141973 \nL 361.506206 278.175702 \nL 362.324473 280.531407 \nL 363.14274 282.433293 \nL 363.961007 283.873817 \nL 364.779274 284.847265 \nL 365.597541 285.349777 \nL 366.415808 285.379358 \nL 367.234074 284.935892 \nL 368.052341 284.021138 \nL 368.870608 282.638724 \nL 369.688875 280.794133 \nL 370.507142 278.494681 \nL 371.325409 275.749489 \nL 372.961943 268.967162 \nL 374.598476 260.554649 \nL 376.23501 250.645287 \nL 377.871544 239.396134 \nL 380.326344 220.405436 \nL 382.781145 199.481814 \nL 386.872479 162.357 \nL 386.872479 162.357 \n\" style=\"fill:none;stroke:#ff7f0e;stroke-dasharray:6,2;stroke-dashoffset:0;stroke-width:1.5;\"/>\n   </g>\n   <g id=\"patch_3\">\n    <path d=\"M 60.384 293.577 \nL 60.384 31.137 \n\" style=\"fill:none;stroke:#000000;stroke-linecap:square;stroke-linejoin:miter;\"/>\n   </g>\n   <g id=\"patch_4\">\n    <path d=\"M 386.872479 293.577 \nL 386.872479 31.137 \n\" style=\"fill:none;stroke:#000000;stroke-linecap:square;stroke-linejoin:miter;\"/>\n   </g>\n   <g id=\"patch_5\">\n    <path d=\"M 60.384 293.577 \nL 386.872479 293.577 \n\" style=\"fill:none;stroke:#000000;stroke-linecap:square;stroke-linejoin:miter;\"/>\n   </g>\n   <g id=\"patch_6\">\n    <path d=\"M 60.384 31.137 \nL 386.872479 31.137 \n\" style=\"fill:none;stroke:#000000;stroke-linecap:square;stroke-linejoin:miter;\"/>\n   </g>\n   <g id=\"matplotlib.axis_1\">\n    <g id=\"xtick_1\">\n     <g id=\"line2d_3\">\n      <path clip-path=\"url(#p1dd0ebee00)\" d=\"M 60.384 293.577 \nL 60.384 31.137 \n\" style=\"fill:none;stroke:#000000;stroke-dasharray:1,3;stroke-dashoffset:0;stroke-width:0.5;\"/>\n     </g>\n     <g id=\"line2d_4\">\n      <defs>\n       <path d=\"M 0 0 \nL 0 -4 \n\" id=\"m589bee15f2\" style=\"stroke:#000000;stroke-width:0.5;\"/>\n      </defs>\n      <g>\n       <use style=\"stroke:#000000;stroke-width:0.5;\" x=\"60.384\" xlink:href=\"#m589bee15f2\" y=\"293.577\"/>\n      </g>\n     </g>\n     <g id=\"line2d_5\">\n      <defs>\n       <path d=\"M 0 0 \nL 0 4 \n\" id=\"m0a13e56651\" style=\"stroke:#000000;stroke-width:0.5;\"/>\n      </defs>\n      <g>\n       <use style=\"stroke:#000000;stroke-width:0.5;\" x=\"60.384\" xlink:href=\"#m0a13e56651\" y=\"31.137\"/>\n      </g>\n     </g>\n     <g id=\"text_1\">\n      <!-- 0.0 -->\n      <defs>\n       <path d=\"M 47.59375 33 \nQ 47.59375 26.296875 46.296875 20.34375 \nQ 45 14.40625 42.453125 9.40625 \nQ 39.90625 4.40625 35.40625 1.5 \nQ 30.90625 -1.40625 25 -1.40625 \nQ 18.90625 -1.40625 14.296875 1.6875 \nQ 9.703125 4.796875 7.203125 10 \nQ 4.703125 15.203125 3.546875 21.09375 \nQ 2.40625 27 2.40625 33.59375 \nQ 2.40625 42.90625 4.703125 50.34375 \nQ 7 57.796875 12.34375 62.6875 \nQ 17.703125 67.59375 25.40625 67.59375 \nQ 35.203125 67.59375 41.390625 58 \nQ 47.59375 48.40625 47.59375 33 \nz\nM 38 32.5 \nQ 38 48.296875 34.640625 56.640625 \nQ 31.296875 65 24.796875 65 \nQ 18.59375 65 15.296875 56.59375 \nQ 12 48.203125 12 32.90625 \nQ 12 17.5 15.296875 9.34375 \nQ 18.59375 1.203125 25 1.203125 \nQ 31.296875 1.203125 34.640625 9.34375 \nQ 38 17.5 38 32.5 \nz\n\" id=\"STIXGeneral-Regular-48\"/>\n       <path d=\"M 18.09375 4.296875 \nQ 18.09375 2.09375 16.4375 0.5 \nQ 14.796875 -1.09375 12.5 -1.09375 \nQ 10.203125 -1.09375 8.59375 0.5 \nQ 7 2.09375 7 4.390625 \nQ 7 6.703125 8.640625 8.34375 \nQ 10.296875 10 12.59375 10 \nQ 14.796875 10 16.4375 8.296875 \nQ 18.09375 6.59375 18.09375 4.296875 \nz\n\" id=\"STIXGeneral-Regular-46\"/>\n      </defs>\n      <g transform=\"translate(51.384 307.41175)scale(0.144 -0.144)\">\n       <use xlink:href=\"#STIXGeneral-Regular-48\"/>\n       <use x=\"49.999985\" xlink:href=\"#STIXGeneral-Regular-46\"/>\n       <use x=\"74.999969\" xlink:href=\"#STIXGeneral-Regular-48\"/>\n      </g>\n     </g>\n    </g>\n    <g id=\"xtick_2\">\n     <g id=\"line2d_6\">\n      <path clip-path=\"url(#p1dd0ebee00)\" d=\"M 101.19506 293.577 \nL 101.19506 31.137 \n\" style=\"fill:none;stroke:#000000;stroke-dasharray:1,3;stroke-dashoffset:0;stroke-width:0.5;\"/>\n     </g>\n     <g id=\"line2d_7\">\n      <g>\n       <use style=\"stroke:#000000;stroke-width:0.5;\" x=\"101.19506\" xlink:href=\"#m589bee15f2\" y=\"293.577\"/>\n      </g>\n     </g>\n     <g id=\"line2d_8\">\n      <g>\n       <use style=\"stroke:#000000;stroke-width:0.5;\" x=\"101.19506\" xlink:href=\"#m0a13e56651\" y=\"31.137\"/>\n      </g>\n     </g>\n     <g id=\"text_2\">\n      <!-- 0.5 -->\n      <defs>\n       <path d=\"M 43.796875 68.09375 \nL 40.203125 59.59375 \nQ 39.59375 58.296875 37.5 58.296875 \nL 18.09375 58.296875 \nL 14.09375 49.796875 \nQ 25.09375 47.703125 30 45.25 \nQ 34.90625 42.796875 39.09375 37 \nQ 42.59375 32.203125 42.59375 24.296875 \nQ 42.59375 17.09375 40.25 12.1875 \nQ 37.90625 7.296875 32.796875 3.5 \nQ 26 -1.40625 15.796875 -1.40625 \nQ 10.09375 -1.40625 6.59375 0.296875 \nQ 3.09375 2 3.09375 4.796875 \nQ 3.09375 8.59375 7.59375 8.59375 \nQ 11.203125 8.59375 15 5.5 \nQ 18.90625 2.296875 22.09375 2.296875 \nQ 27.296875 2.296875 31.4375 7.5 \nQ 35.59375 12.703125 35.59375 19.203125 \nQ 35.59375 28.796875 28.90625 34.203125 \nQ 20.203125 41.203125 7.59375 41.203125 \nQ 6.40625 41.203125 6.40625 42 \nL 6.5 42.5 \nL 17.40625 66.203125 \nL 38.09375 66.203125 \nQ 39.796875 66.203125 40.75 66.703125 \nQ 41.703125 67.203125 42.90625 68.796875 \nz\n\" id=\"STIXGeneral-Regular-53\"/>\n      </defs>\n      <g transform=\"translate(92.19506 307.41175)scale(0.144 -0.144)\">\n       <use xlink:href=\"#STIXGeneral-Regular-48\"/>\n       <use x=\"49.999985\" xlink:href=\"#STIXGeneral-Regular-46\"/>\n       <use x=\"74.999969\" xlink:href=\"#STIXGeneral-Regular-53\"/>\n      </g>\n     </g>\n    </g>\n    <g id=\"xtick_3\">\n     <g id=\"line2d_9\">\n      <path clip-path=\"url(#p1dd0ebee00)\" d=\"M 142.00612 293.577 \nL 142.00612 31.137 \n\" style=\"fill:none;stroke:#000000;stroke-dasharray:1,3;stroke-dashoffset:0;stroke-width:0.5;\"/>\n     </g>\n     <g id=\"line2d_10\">\n      <g>\n       <use style=\"stroke:#000000;stroke-width:0.5;\" x=\"142.00612\" xlink:href=\"#m589bee15f2\" y=\"293.577\"/>\n      </g>\n     </g>\n     <g id=\"line2d_11\">\n      <g>\n       <use style=\"stroke:#000000;stroke-width:0.5;\" x=\"142.00612\" xlink:href=\"#m0a13e56651\" y=\"31.137\"/>\n      </g>\n     </g>\n     <g id=\"text_3\">\n      <!-- 1.0 -->\n      <defs>\n       <path d=\"M 39.40625 0 \nL 11.796875 0 \nL 11.796875 1.5 \nQ 17.296875 1.796875 19.296875 3.546875 \nQ 21.296875 5.296875 21.296875 9.5 \nL 21.296875 54.40625 \nQ 21.296875 59.296875 18.296875 59.296875 \nQ 16.90625 59.296875 13.796875 58.09375 \nL 11.09375 57.09375 \nL 11.09375 58.5 \nL 29 67.59375 \nL 29.90625 67.296875 \nL 29.90625 7.59375 \nQ 29.90625 4.296875 31.90625 2.890625 \nQ 33.90625 1.5 39.40625 1.5 \nz\n\" id=\"STIXGeneral-Regular-49\"/>\n      </defs>\n      <g transform=\"translate(133.00612 307.41175)scale(0.144 -0.144)\">\n       <use xlink:href=\"#STIXGeneral-Regular-49\"/>\n       <use x=\"49.999985\" xlink:href=\"#STIXGeneral-Regular-46\"/>\n       <use x=\"74.999969\" xlink:href=\"#STIXGeneral-Regular-48\"/>\n      </g>\n     </g>\n    </g>\n    <g id=\"xtick_4\">\n     <g id=\"line2d_12\">\n      <path clip-path=\"url(#p1dd0ebee00)\" d=\"M 182.81718 293.577 \nL 182.81718 31.137 \n\" style=\"fill:none;stroke:#000000;stroke-dasharray:1,3;stroke-dashoffset:0;stroke-width:0.5;\"/>\n     </g>\n     <g id=\"line2d_13\">\n      <g>\n       <use style=\"stroke:#000000;stroke-width:0.5;\" x=\"182.81718\" xlink:href=\"#m589bee15f2\" y=\"293.577\"/>\n      </g>\n     </g>\n     <g id=\"line2d_14\">\n      <g>\n       <use style=\"stroke:#000000;stroke-width:0.5;\" x=\"182.81718\" xlink:href=\"#m0a13e56651\" y=\"31.137\"/>\n      </g>\n     </g>\n     <g id=\"text_4\">\n      <!-- 1.5 -->\n      <g transform=\"translate(173.81718 307.41175)scale(0.144 -0.144)\">\n       <use xlink:href=\"#STIXGeneral-Regular-49\"/>\n       <use x=\"49.999985\" xlink:href=\"#STIXGeneral-Regular-46\"/>\n       <use x=\"74.999969\" xlink:href=\"#STIXGeneral-Regular-53\"/>\n      </g>\n     </g>\n    </g>\n    <g id=\"xtick_5\">\n     <g id=\"line2d_15\">\n      <path clip-path=\"url(#p1dd0ebee00)\" d=\"M 223.62824 293.577 \nL 223.62824 31.137 \n\" style=\"fill:none;stroke:#000000;stroke-dasharray:1,3;stroke-dashoffset:0;stroke-width:0.5;\"/>\n     </g>\n     <g id=\"line2d_16\">\n      <g>\n       <use style=\"stroke:#000000;stroke-width:0.5;\" x=\"223.62824\" xlink:href=\"#m589bee15f2\" y=\"293.577\"/>\n      </g>\n     </g>\n     <g id=\"line2d_17\">\n      <g>\n       <use style=\"stroke:#000000;stroke-width:0.5;\" x=\"223.62824\" xlink:href=\"#m0a13e56651\" y=\"31.137\"/>\n      </g>\n     </g>\n     <g id=\"text_5\">\n      <!-- 2.0 -->\n      <defs>\n       <path d=\"M 47.40625 13.703125 \nL 42 0 \nL 2.90625 0 \nL 2.90625 1.203125 \nL 20.703125 20.09375 \nQ 27.703125 27.40625 30.703125 33.5 \nQ 33.703125 39.59375 33.703125 46.09375 \nQ 33.703125 52.796875 30 56.5 \nQ 26.296875 60.203125 19.796875 60.203125 \nQ 14.40625 60.203125 11.25 57.390625 \nQ 8.09375 54.59375 5.09375 47.203125 \nL 3 47.703125 \nQ 4.703125 57 9.84375 62.296875 \nQ 15 67.59375 23.796875 67.59375 \nQ 32.09375 67.59375 37.1875 62.59375 \nQ 42.296875 57.59375 42.296875 50 \nQ 42.296875 38.703125 29.5 25.203125 \nL 13 7.59375 \nL 36.40625 7.59375 \nQ 39.703125 7.59375 41.640625 8.890625 \nQ 43.59375 10.203125 46 14.296875 \nz\n\" id=\"STIXGeneral-Regular-50\"/>\n      </defs>\n      <g transform=\"translate(214.62824 307.41175)scale(0.144 -0.144)\">\n       <use xlink:href=\"#STIXGeneral-Regular-50\"/>\n       <use x=\"49.999985\" xlink:href=\"#STIXGeneral-Regular-46\"/>\n       <use x=\"74.999969\" xlink:href=\"#STIXGeneral-Regular-48\"/>\n      </g>\n     </g>\n    </g>\n    <g id=\"xtick_6\">\n     <g id=\"line2d_18\">\n      <path clip-path=\"url(#p1dd0ebee00)\" d=\"M 264.4393 293.577 \nL 264.4393 31.137 \n\" style=\"fill:none;stroke:#000000;stroke-dasharray:1,3;stroke-dashoffset:0;stroke-width:0.5;\"/>\n     </g>\n     <g id=\"line2d_19\">\n      <g>\n       <use style=\"stroke:#000000;stroke-width:0.5;\" x=\"264.4393\" xlink:href=\"#m589bee15f2\" y=\"293.577\"/>\n      </g>\n     </g>\n     <g id=\"line2d_20\">\n      <g>\n       <use style=\"stroke:#000000;stroke-width:0.5;\" x=\"264.4393\" xlink:href=\"#m0a13e56651\" y=\"31.137\"/>\n      </g>\n     </g>\n     <g id=\"text_6\">\n      <!-- 2.5 -->\n      <g transform=\"translate(255.4393 307.41175)scale(0.144 -0.144)\">\n       <use xlink:href=\"#STIXGeneral-Regular-50\"/>\n       <use x=\"49.999985\" xlink:href=\"#STIXGeneral-Regular-46\"/>\n       <use x=\"74.999969\" xlink:href=\"#STIXGeneral-Regular-53\"/>\n      </g>\n     </g>\n    </g>\n    <g id=\"xtick_7\">\n     <g id=\"line2d_21\">\n      <path clip-path=\"url(#p1dd0ebee00)\" d=\"M 305.250359 293.577 \nL 305.250359 31.137 \n\" style=\"fill:none;stroke:#000000;stroke-dasharray:1,3;stroke-dashoffset:0;stroke-width:0.5;\"/>\n     </g>\n     <g id=\"line2d_22\">\n      <g>\n       <use style=\"stroke:#000000;stroke-width:0.5;\" x=\"305.250359\" xlink:href=\"#m589bee15f2\" y=\"293.577\"/>\n      </g>\n     </g>\n     <g id=\"line2d_23\">\n      <g>\n       <use style=\"stroke:#000000;stroke-width:0.5;\" x=\"305.250359\" xlink:href=\"#m0a13e56651\" y=\"31.137\"/>\n      </g>\n     </g>\n     <g id=\"text_7\">\n      <!-- 3.0 -->\n      <defs>\n       <path d=\"M 6.09375 51 \nL 4.5 51.40625 \nQ 6.796875 58.90625 11.6875 63.25 \nQ 16.59375 67.59375 24.09375 67.59375 \nQ 31.09375 67.59375 35.390625 63.796875 \nQ 39.703125 60 39.703125 53.90625 \nQ 39.703125 45.703125 30.40625 40.09375 \nQ 35.90625 37.703125 38.703125 34.796875 \nQ 43.09375 29.90625 43.09375 21.90625 \nQ 43.09375 13.90625 38.5 7.90625 \nQ 35.09375 3.296875 28.75 0.9375 \nQ 22.40625 -1.40625 15.296875 -1.40625 \nQ 4.09375 -1.40625 4.09375 4.296875 \nQ 4.09375 5.90625 5.296875 6.90625 \nQ 6.5 7.90625 8.203125 7.90625 \nQ 10.703125 7.90625 14.296875 5.296875 \nQ 18.703125 2.203125 22.90625 2.203125 \nQ 28.40625 2.203125 32.15625 6.640625 \nQ 35.90625 11.09375 35.90625 17.5 \nQ 35.90625 29 25.5 32 \nQ 22.40625 33 15.296875 33 \nL 15.296875 34.40625 \nQ 20.90625 36.296875 23.703125 38 \nQ 31.796875 42.59375 31.796875 51.40625 \nQ 31.796875 56.40625 28.9375 59 \nQ 26.09375 61.59375 21 61.59375 \nQ 12 61.59375 6.09375 51 \nz\n\" id=\"STIXGeneral-Regular-51\"/>\n      </defs>\n      <g transform=\"translate(296.250359 307.41175)scale(0.144 -0.144)\">\n       <use xlink:href=\"#STIXGeneral-Regular-51\"/>\n       <use x=\"49.999985\" xlink:href=\"#STIXGeneral-Regular-46\"/>\n       <use x=\"74.999969\" xlink:href=\"#STIXGeneral-Regular-48\"/>\n      </g>\n     </g>\n    </g>\n    <g id=\"xtick_8\">\n     <g id=\"line2d_24\">\n      <path clip-path=\"url(#p1dd0ebee00)\" d=\"M 346.061419 293.577 \nL 346.061419 31.137 \n\" style=\"fill:none;stroke:#000000;stroke-dasharray:1,3;stroke-dashoffset:0;stroke-width:0.5;\"/>\n     </g>\n     <g id=\"line2d_25\">\n      <g>\n       <use style=\"stroke:#000000;stroke-width:0.5;\" x=\"346.061419\" xlink:href=\"#m589bee15f2\" y=\"293.577\"/>\n      </g>\n     </g>\n     <g id=\"line2d_26\">\n      <g>\n       <use style=\"stroke:#000000;stroke-width:0.5;\" x=\"346.061419\" xlink:href=\"#m0a13e56651\" y=\"31.137\"/>\n      </g>\n     </g>\n     <g id=\"text_8\">\n      <!-- 3.5 -->\n      <g transform=\"translate(337.061419 307.41175)scale(0.144 -0.144)\">\n       <use xlink:href=\"#STIXGeneral-Regular-51\"/>\n       <use x=\"49.999985\" xlink:href=\"#STIXGeneral-Regular-46\"/>\n       <use x=\"74.999969\" xlink:href=\"#STIXGeneral-Regular-53\"/>\n      </g>\n     </g>\n    </g>\n    <g id=\"xtick_9\">\n     <g id=\"line2d_27\">\n      <path clip-path=\"url(#p1dd0ebee00)\" d=\"M 386.872479 293.577 \nL 386.872479 31.137 \n\" style=\"fill:none;stroke:#000000;stroke-dasharray:1,3;stroke-dashoffset:0;stroke-width:0.5;\"/>\n     </g>\n     <g id=\"line2d_28\">\n      <g>\n       <use style=\"stroke:#000000;stroke-width:0.5;\" x=\"386.872479\" xlink:href=\"#m589bee15f2\" y=\"293.577\"/>\n      </g>\n     </g>\n     <g id=\"line2d_29\">\n      <g>\n       <use style=\"stroke:#000000;stroke-width:0.5;\" x=\"386.872479\" xlink:href=\"#m0a13e56651\" y=\"31.137\"/>\n      </g>\n     </g>\n     <g id=\"text_9\">\n      <!-- 4.0 -->\n      <defs>\n       <path d=\"M 47.296875 16.703125 \nL 37 16.703125 \nL 37 0 \nL 29.203125 0 \nL 29.203125 16.703125 \nL 1.203125 16.703125 \nL 1.203125 23.09375 \nL 32.59375 67.59375 \nL 37 67.59375 \nL 37 23.09375 \nL 47.296875 23.09375 \nz\nM 29.203125 23.09375 \nL 29.203125 57.40625 \nL 5.203125 23.09375 \nz\n\" id=\"STIXGeneral-Regular-52\"/>\n      </defs>\n      <g transform=\"translate(377.872479 307.41175)scale(0.144 -0.144)\">\n       <use xlink:href=\"#STIXGeneral-Regular-52\"/>\n       <use x=\"49.999985\" xlink:href=\"#STIXGeneral-Regular-46\"/>\n       <use x=\"74.999969\" xlink:href=\"#STIXGeneral-Regular-48\"/>\n      </g>\n     </g>\n    </g>\n    <g id=\"text_10\">\n     <!-- $t^*\\!/\\,(2\\pi)$ [-] -->\n     <defs>\n      <path d=\"M 29.59375 42.796875 \nL 29.09375 39.59375 \nL 20.703125 39.59375 \nL 12 6.796875 \nQ 11.796875 6 11.796875 5.40625 \nQ 11.796875 3.796875 13.296875 3.796875 \nQ 14.5 3.796875 16.09375 5.34375 \nQ 17.703125 6.90625 21.40625 11.703125 \nL 22.703125 11 \nQ 18.09375 4 15.140625 1.453125 \nQ 12.203125 -1.09375 8.40625 -1.09375 \nQ 3.796875 -1.09375 3.796875 2.59375 \nQ 3.796875 3.59375 5.40625 10 \nL 13.203125 39.59375 \nL 5.703125 39.59375 \nL 5.59375 40.203125 \nQ 5.59375 42 8.90625 42.703125 \nQ 11.40625 43.296875 15.5 46.546875 \nQ 19.59375 49.796875 22.203125 53.703125 \nQ 22.796875 54.59375 23.59375 54.59375 \nQ 24.5 54.59375 24.5 53.796875 \nQ 24.5 53.296875 24.40625 53.09375 \nL 21.59375 42.796875 \nz\n\" id=\"STIXGeneral-Italic-116\"/>\n      <path d=\"M 26.796875 47.09375 \nL 27.703125 46.5 \nQ 31.40625 44.09375 37.296875 43.09375 \nQ 40.703125 42.59375 42 41.640625 \nQ 43.296875 40.703125 43.296875 38.796875 \nQ 43.296875 37.09375 42.296875 36 \nQ 41.296875 34.90625 39.703125 34.90625 \nQ 37.203125 34.90625 33.703125 39.296875 \nQ 31.40625 42.09375 26.796875 45.09375 \nL 26 45.59375 \nL 26 44.703125 \nQ 26 39.09375 28 33.703125 \nQ 28.90625 31.203125 28.90625 30.40625 \nQ 28.90625 28.90625 27.65625 27.703125 \nQ 26.40625 26.5 24.90625 26.5 \nQ 23.5 26.5 22.390625 27.59375 \nQ 21.296875 28.703125 21.296875 30.09375 \nQ 21.296875 31.5 22.5 34.796875 \nQ 24.09375 39.09375 24.09375 44.703125 \nL 24.09375 45.59375 \nQ 20.09375 43.09375 18.90625 42 \nQ 17.703125 40.796875 14.796875 37.5 \nQ 12.59375 35 10.5 35 \nQ 8.796875 35 7.796875 36 \nQ 6.796875 37 6.796875 38.59375 \nQ 6.796875 40.5 8.25 41.5 \nQ 9.703125 42.5 13.09375 43.09375 \nQ 16.59375 43.796875 18.4375 44.5 \nQ 20.296875 45.203125 23.40625 47.09375 \nQ 19.09375 49.703125 13.703125 50.796875 \nQ 10 51.59375 8.5 52.59375 \nQ 7 53.59375 7 55.40625 \nQ 7 57 7.890625 58.046875 \nQ 8.796875 59.09375 10.296875 59.09375 \nQ 12.296875 59.09375 15.203125 55.90625 \nQ 19.40625 51.203125 24.09375 48.59375 \nL 24.09375 49.90625 \nQ 24.09375 54 22.59375 59 \nQ 21.5 62.296875 21.5 64.203125 \nQ 21.5 65.59375 22.546875 66.59375 \nQ 23.59375 67.59375 25.09375 67.59375 \nQ 26.59375 67.59375 27.6875 66.546875 \nQ 28.796875 65.5 28.796875 64 \nQ 28.796875 62.40625 27.703125 59.296875 \nQ 26 54.796875 26 51 \nL 26 48.59375 \nQ 29.40625 50.59375 31.796875 52.796875 \nQ 32.296875 53.296875 33.640625 54.75 \nQ 35 56.203125 35.796875 57 \nQ 36.59375 57.796875 37.640625 58.546875 \nQ 38.703125 59.296875 39.5 59.296875 \nQ 41.203125 59.296875 42.203125 58.25 \nQ 43.203125 57.203125 43.203125 55.5 \nQ 43.203125 53.5 42.046875 52.546875 \nQ 40.90625 51.59375 38 51.203125 \nQ 32.40625 50.296875 26.796875 47.09375 \nz\n\" id=\"STIXGeneral-Regular-42\"/>\n      <path d=\"M 28.703125 67.59375 \nL 5.90625 -1.40625 \nL -0.90625 -1.40625 \nL 22 67.59375 \nz\n\" id=\"STIXGeneral-Regular-47\"/>\n      <path d=\"M 30.40625 -16.09375 \nL 29.203125 -17.703125 \nQ 17.59375 -11.09375 11.1875 0.5 \nQ 4.796875 12.09375 4.796875 25.203125 \nQ 4.796875 52.90625 29.5 67.59375 \nL 30.40625 66 \nQ 20.203125 57.296875 16.796875 48.84375 \nQ 13.40625 40.40625 13.40625 25.5 \nQ 13.40625 10.703125 16.90625 1.5 \nQ 20.40625 -7.703125 30.40625 -16.09375 \nz\n\" id=\"STIXGeneral-Regular-40\"/>\n      <path d=\"M 53.59375 42.796875 \nL 51.5 35.40625 \nL 41.296875 35.40625 \nQ 41 34.296875 39.09375 27.84375 \nQ 37.203125 21.40625 35.890625 16.75 \nQ 34.59375 12.09375 34.59375 11.203125 \nQ 34.59375 7 37.703125 7 \nQ 42.09375 7 44.796875 13.09375 \nL 46.40625 13.09375 \nQ 45.09375 7.59375 41.4375 3.25 \nQ 37.796875 -1.09375 32.703125 -1.09375 \nQ 29.703125 -1.09375 28.25 1.046875 \nQ 26.796875 3.203125 26.796875 6.40625 \nQ 26.796875 9.796875 28.5 14.40625 \nL 36.09375 35.40625 \nL 25.703125 35.40625 \nQ 24.5 32.203125 21.890625 22.953125 \nQ 19.296875 13.703125 16.6875 8 \nQ 14.09375 2.296875 10.5 -0.59375 \nQ 8.796875 -1.796875 6.90625 -1.796875 \nQ 4.90625 -1.796875 3.40625 -0.5 \nQ 1.90625 0.796875 1.90625 2.59375 \nQ 1.90625 6.703125 4.90625 7.5 \nQ 9.90625 8.796875 12.09375 14.5 \nL 20.296875 35.40625 \nL 19.703125 35.40625 \nQ 15.203125 35.40625 12.796875 34.5 \nQ 10.40625 33.59375 7.40625 29.90625 \nL 5.796875 29.90625 \nQ 10 36.90625 14.546875 39.84375 \nQ 19.09375 42.796875 26.5 42.796875 \nz\n\" id=\"STIXGeneral-Italic-960\"/>\n      <path d=\"M 2.90625 66 \nL 4.09375 67.59375 \nQ 15.5 60.796875 22 49.1875 \nQ 28.5 37.59375 28.5 24.703125 \nQ 28.5 -2.59375 3.796875 -17.703125 \nL 2.90625 -16.09375 \nQ 13.203125 -7.59375 16.546875 0.84375 \nQ 19.90625 9.296875 19.90625 24.40625 \nQ 19.90625 39.59375 16.546875 48.75 \nQ 13.203125 57.90625 2.90625 66 \nz\n\" id=\"STIXGeneral-Regular-41\"/>\n      <path id=\"STIXGeneral-Regular-32\"/>\n      <path d=\"M 29.90625 -15.59375 \nL 8.796875 -15.59375 \nL 8.796875 66.203125 \nL 29.90625 66.203125 \nL 29.90625 63.703125 \nL 21.59375 63.703125 \nQ 19 63.703125 17.703125 62.59375 \nQ 16.40625 61.5 16.40625 58.90625 \nL 16.40625 -7.703125 \nQ 16.40625 -13.09375 21.59375 -13.09375 \nL 29.90625 -13.09375 \nz\n\" id=\"STIXGeneral-Regular-91\"/>\n      <path d=\"M 28.5 19.40625 \nL 3.90625 19.40625 \nL 3.90625 25.703125 \nL 28.5 25.703125 \nz\n\" id=\"STIXGeneral-Regular-45\"/>\n      <path d=\"M 24.5 -15.59375 \nL 3.40625 -15.59375 \nL 3.40625 -13.09375 \nL 12.203125 -13.09375 \nQ 14.796875 -13.09375 15.84375 -12 \nQ 16.90625 -10.90625 16.90625 -8.5 \nL 16.90625 58.296875 \nQ 16.90625 63.703125 11.796875 63.703125 \nL 3.40625 63.703125 \nL 3.40625 66.203125 \nL 24.5 66.203125 \nz\n\" id=\"STIXGeneral-Regular-93\"/>\n     </defs>\n     <g transform=\"translate(190.34824 328.2245)scale(0.16 -0.16)\">\n      <use transform=\"translate(0 0.409375)\" xlink:href=\"#STIXGeneral-Italic-116\"/>\n      <use transform=\"translate(46.28611 35.684375)scale(0.7)\" xlink:href=\"#STIXGeneral-Regular-42\"/>\n      <use transform=\"translate(83.769901 0.409375)\" xlink:href=\"#STIXGeneral-Regular-47\"/>\n      <use transform=\"translate(123.60346 0.409375)\" xlink:href=\"#STIXGeneral-Regular-40\"/>\n      <use transform=\"translate(156.903448 0.409375)\" xlink:href=\"#STIXGeneral-Regular-50\"/>\n      <use transform=\"translate(206.903432 0.409375)\" xlink:href=\"#STIXGeneral-Italic-960\"/>\n      <use transform=\"translate(257.303426 0.409375)\" xlink:href=\"#STIXGeneral-Regular-41\"/>\n      <use transform=\"translate(290.603414 0.409375)\" xlink:href=\"#STIXGeneral-Regular-32\"/>\n      <use transform=\"translate(315.603399 0.409375)\" xlink:href=\"#STIXGeneral-Regular-91\"/>\n      <use transform=\"translate(348.903387 0.409375)\" xlink:href=\"#STIXGeneral-Regular-45\"/>\n      <use transform=\"translate(382.203374 0.409375)\" xlink:href=\"#STIXGeneral-Regular-93\"/>\n     </g>\n    </g>\n   </g>\n   <g id=\"matplotlib.axis_2\">\n    <g id=\"ytick_1\">\n     <g id=\"line2d_30\">\n      <path clip-path=\"url(#p1dd0ebee00)\" d=\"M 60.384 281.647909 \nL 386.872479 281.647909 \n\" style=\"fill:none;stroke:#000000;stroke-dasharray:1,3;stroke-dashoffset:0;stroke-width:0.5;\"/>\n     </g>\n     <g id=\"line2d_31\">\n      <defs>\n       <path d=\"M 0 0 \nL 4 0 \n\" id=\"m1eb39f301b\" style=\"stroke:#000000;stroke-width:0.5;\"/>\n      </defs>\n      <g>\n       <use style=\"stroke:#000000;stroke-width:0.5;\" x=\"60.384\" xlink:href=\"#m1eb39f301b\" y=\"281.647909\"/>\n      </g>\n     </g>\n     <g id=\"line2d_32\">\n      <defs>\n       <path d=\"M 0 0 \nL -4 0 \n\" id=\"mbaeb13e278\" style=\"stroke:#000000;stroke-width:0.5;\"/>\n      </defs>\n      <g>\n       <use style=\"stroke:#000000;stroke-width:0.5;\" x=\"386.872479\" xlink:href=\"#mbaeb13e278\" y=\"281.647909\"/>\n      </g>\n     </g>\n     <g id=\"text_11\">\n      <!-- −1.0 -->\n      <defs>\n       <path d=\"M 62.09375 22 \nL 6.40625 22 \nL 6.40625 28.59375 \nL 62.09375 28.59375 \nz\n\" id=\"STIXGeneral-Regular-8722\"/>\n      </defs>\n      <g transform=\"translate(28.52 285.002659)scale(0.144 -0.144)\">\n       <use xlink:href=\"#STIXGeneral-Regular-8722\"/>\n       <use x=\"68.499985\" xlink:href=\"#STIXGeneral-Regular-49\"/>\n       <use x=\"118.499969\" xlink:href=\"#STIXGeneral-Regular-46\"/>\n       <use x=\"143.499954\" xlink:href=\"#STIXGeneral-Regular-48\"/>\n      </g>\n     </g>\n    </g>\n    <g id=\"ytick_2\">\n     <g id=\"line2d_33\">\n      <path clip-path=\"url(#p1dd0ebee00)\" d=\"M 60.384 222.002455 \nL 386.872479 222.002455 \n\" style=\"fill:none;stroke:#000000;stroke-dasharray:1,3;stroke-dashoffset:0;stroke-width:0.5;\"/>\n     </g>\n     <g id=\"line2d_34\">\n      <g>\n       <use style=\"stroke:#000000;stroke-width:0.5;\" x=\"60.384\" xlink:href=\"#m1eb39f301b\" y=\"222.002455\"/>\n      </g>\n     </g>\n     <g id=\"line2d_35\">\n      <g>\n       <use style=\"stroke:#000000;stroke-width:0.5;\" x=\"386.872479\" xlink:href=\"#mbaeb13e278\" y=\"222.002455\"/>\n      </g>\n     </g>\n     <g id=\"text_12\">\n      <!-- −0.5 -->\n      <g transform=\"translate(28.52 225.357205)scale(0.144 -0.144)\">\n       <use xlink:href=\"#STIXGeneral-Regular-8722\"/>\n       <use x=\"68.499985\" xlink:href=\"#STIXGeneral-Regular-48\"/>\n       <use x=\"118.499969\" xlink:href=\"#STIXGeneral-Regular-46\"/>\n       <use x=\"143.499954\" xlink:href=\"#STIXGeneral-Regular-53\"/>\n      </g>\n     </g>\n    </g>\n    <g id=\"ytick_3\">\n     <g id=\"line2d_36\">\n      <path clip-path=\"url(#p1dd0ebee00)\" d=\"M 60.384 162.357 \nL 386.872479 162.357 \n\" style=\"fill:none;stroke:#000000;stroke-dasharray:1,3;stroke-dashoffset:0;stroke-width:0.5;\"/>\n     </g>\n     <g id=\"line2d_37\">\n      <g>\n       <use style=\"stroke:#000000;stroke-width:0.5;\" x=\"60.384\" xlink:href=\"#m1eb39f301b\" y=\"162.357\"/>\n      </g>\n     </g>\n     <g id=\"line2d_38\">\n      <g>\n       <use style=\"stroke:#000000;stroke-width:0.5;\" x=\"386.872479\" xlink:href=\"#mbaeb13e278\" y=\"162.357\"/>\n      </g>\n     </g>\n     <g id=\"text_13\">\n      <!-- 0.0 -->\n      <g transform=\"translate(38.384 165.71175)scale(0.144 -0.144)\">\n       <use xlink:href=\"#STIXGeneral-Regular-48\"/>\n       <use x=\"49.999985\" xlink:href=\"#STIXGeneral-Regular-46\"/>\n       <use x=\"74.999969\" xlink:href=\"#STIXGeneral-Regular-48\"/>\n      </g>\n     </g>\n    </g>\n    <g id=\"ytick_4\">\n     <g id=\"line2d_39\">\n      <path clip-path=\"url(#p1dd0ebee00)\" d=\"M 60.384 102.711545 \nL 386.872479 102.711545 \n\" style=\"fill:none;stroke:#000000;stroke-dasharray:1,3;stroke-dashoffset:0;stroke-width:0.5;\"/>\n     </g>\n     <g id=\"line2d_40\">\n      <g>\n       <use style=\"stroke:#000000;stroke-width:0.5;\" x=\"60.384\" xlink:href=\"#m1eb39f301b\" y=\"102.711545\"/>\n      </g>\n     </g>\n     <g id=\"line2d_41\">\n      <g>\n       <use style=\"stroke:#000000;stroke-width:0.5;\" x=\"386.872479\" xlink:href=\"#mbaeb13e278\" y=\"102.711545\"/>\n      </g>\n     </g>\n     <g id=\"text_14\">\n      <!-- 0.5 -->\n      <g transform=\"translate(38.384 106.066295)scale(0.144 -0.144)\">\n       <use xlink:href=\"#STIXGeneral-Regular-48\"/>\n       <use x=\"49.999985\" xlink:href=\"#STIXGeneral-Regular-46\"/>\n       <use x=\"74.999969\" xlink:href=\"#STIXGeneral-Regular-53\"/>\n      </g>\n     </g>\n    </g>\n    <g id=\"ytick_5\">\n     <g id=\"line2d_42\">\n      <path clip-path=\"url(#p1dd0ebee00)\" d=\"M 60.384 43.066091 \nL 386.872479 43.066091 \n\" style=\"fill:none;stroke:#000000;stroke-dasharray:1,3;stroke-dashoffset:0;stroke-width:0.5;\"/>\n     </g>\n     <g id=\"line2d_43\">\n      <g>\n       <use style=\"stroke:#000000;stroke-width:0.5;\" x=\"60.384\" xlink:href=\"#m1eb39f301b\" y=\"43.066091\"/>\n      </g>\n     </g>\n     <g id=\"line2d_44\">\n      <g>\n       <use style=\"stroke:#000000;stroke-width:0.5;\" x=\"386.872479\" xlink:href=\"#mbaeb13e278\" y=\"43.066091\"/>\n      </g>\n     </g>\n     <g id=\"text_15\">\n      <!-- 1.0 -->\n      <g transform=\"translate(38.384 46.420841)scale(0.144 -0.144)\">\n       <use xlink:href=\"#STIXGeneral-Regular-49\"/>\n       <use x=\"49.999985\" xlink:href=\"#STIXGeneral-Regular-46\"/>\n       <use x=\"74.999969\" xlink:href=\"#STIXGeneral-Regular-48\"/>\n      </g>\n     </g>\n    </g>\n    <g id=\"text_16\">\n     <!-- $Q^*$ [-] -->\n     <defs>\n      <path d=\"M 6.90625 -16.90625 \nL 5.90625 -15.296875 \nQ 11.703125 -11.203125 14.25 -9.203125 \nQ 16.796875 -7.203125 23.59375 -1.203125 \nQ 15.09375 0.5 10.546875 6.640625 \nQ 6 12.796875 6 22.5 \nQ 6 31.796875 10.59375 41 \nQ 15.203125 50.203125 23.296875 57.203125 \nQ 34.40625 66.59375 47.40625 66.59375 \nQ 57.5 66.59375 63.703125 59.890625 \nQ 69.90625 53.203125 69.90625 42.90625 \nQ 69.90625 31.203125 62.796875 19.953125 \nQ 55.703125 8.703125 44.296875 2.703125 \nQ 37.5 -1 27.90625 -1.59375 \nL 22.5 -7.296875 \nL 25 -7.296875 \nQ 28.5 -7.296875 37.296875 -9.296875 \nQ 45.90625 -11.40625 48.40625 -11.40625 \nQ 53.796875 -11.40625 57.390625 -9.75 \nQ 61 -8.09375 65.203125 -3.703125 \nL 66.796875 -4.796875 \nQ 64.40625 -8.203125 61.59375 -10.703125 \nQ 53.296875 -18.203125 42.5 -18.203125 \nQ 35.90625 -18.203125 27.703125 -15.59375 \nQ 22.203125 -13.796875 18.40625 -13.796875 \nQ 12.5 -13.796875 6.90625 -16.90625 \nz\nM 59.40625 48 \nQ 59.40625 55.09375 55.953125 59.1875 \nQ 52.5 63.296875 46.5 63.296875 \nQ 35.5 63.296875 27.09375 50.796875 \nQ 22.59375 44.09375 19.546875 34.84375 \nQ 16.5 25.59375 16.5 18.296875 \nQ 16.5 10.796875 19.890625 6.25 \nQ 23.296875 1.703125 28.90625 1.703125 \nQ 40.296875 1.703125 48.703125 14.09375 \nQ 53.296875 21.09375 56.34375 30.6875 \nQ 59.40625 40.296875 59.40625 48 \nz\n\" id=\"STIXGeneral-Italic-81\"/>\n     </defs>\n     <g transform=\"translate(20.0475 183.797)rotate(-90)scale(0.16 -0.16)\">\n      <use transform=\"translate(0 0.409375)\" xlink:href=\"#STIXGeneral-Italic-81\"/>\n      <use transform=\"translate(93.206104 35.684375)scale(0.7)\" xlink:href=\"#STIXGeneral-Regular-42\"/>\n      <use transform=\"translate(142.723466 0.409375)\" xlink:href=\"#STIXGeneral-Regular-32\"/>\n      <use transform=\"translate(167.723451 0.409375)\" xlink:href=\"#STIXGeneral-Regular-91\"/>\n      <use transform=\"translate(201.023438 0.409375)\" xlink:href=\"#STIXGeneral-Regular-45\"/>\n      <use transform=\"translate(234.323426 0.409375)\" xlink:href=\"#STIXGeneral-Regular-93\"/>\n     </g>\n    </g>\n   </g>\n   <g id=\"text_17\">\n    <!-- a) -->\n    <defs>\n     <path d=\"M 47.296875 6.40625 \nL 48.796875 4.296875 \nQ 43.5 -1.40625 37.59375 -1.40625 \nQ 33.90625 -1.40625 32.046875 0.140625 \nQ 30.203125 1.703125 29.40625 5.5 \nQ 21.796875 -1.40625 13.5 -1.40625 \nQ 8.5 -1.40625 5.5 1.25 \nQ 2.5 3.90625 2.5 9.203125 \nQ 2.5 15.90625 9.203125 20.40625 \nQ 14.203125 23.703125 29.296875 28 \nL 29.296875 34.796875 \nQ 29.296875 39.703125 27.4375 41.890625 \nQ 25.59375 44.09375 21.203125 44.09375 \nQ 18.40625 44.09375 16.546875 43.09375 \nQ 14.703125 42.09375 14.703125 40.40625 \nQ 14.703125 39.296875 15.796875 38.09375 \nQ 17.703125 35.796875 17.703125 33.90625 \nQ 17.703125 31.296875 15.796875 29.59375 \nQ 13.90625 27.90625 10.90625 27.90625 \nQ 7.796875 27.90625 6.09375 29.703125 \nQ 4.40625 31.5 4.40625 34.703125 \nQ 4.40625 40.59375 9.65625 43.9375 \nQ 14.90625 47.296875 23.5 47.296875 \nQ 32.703125 47.296875 37.890625 43.796875 \nQ 43.09375 40.296875 43.09375 33.90625 \nL 43.09375 7.796875 \nQ 43.09375 5 45.203125 5 \nQ 45.90625 5 46.296875 5.40625 \nz\nM 29.296875 9.703125 \nL 29.296875 24.5 \nQ 17.09375 21.09375 17.09375 12.40625 \nQ 17.09375 9.203125 18.546875 7.453125 \nQ 20 5.703125 22.296875 5.703125 \nQ 26.5 5.703125 29.296875 9.703125 \nz\n\" id=\"STIXGeneral-Bold-97\"/>\n     <path d=\"M 2.703125 66.59375 \nL 2.703125 69.40625 \nQ 10.203125 64.90625 14.25 61.09375 \nQ 18.296875 57.296875 21.796875 51.59375 \nQ 28.703125 40.09375 28.703125 26.703125 \nQ 28.703125 6.90625 15.59375 -7.296875 \nQ 12.703125 -10.40625 10 -12.34375 \nQ 7.296875 -14.296875 2.703125 -16.796875 \nL 2.703125 -14.09375 \nQ 6.203125 -11.40625 8.59375 -9.046875 \nQ 11 -6.703125 12.703125 -3.796875 \nQ 14.40625 -0.90625 15.296875 1.59375 \nQ 16.203125 4.09375 16.703125 8.34375 \nQ 17.203125 12.59375 17.296875 16.390625 \nQ 17.40625 20.203125 17.40625 26.796875 \nQ 17.40625 44.09375 14.84375 51.5 \nQ 12.296875 58.90625 2.703125 66.59375 \nz\n\" id=\"STIXGeneral-Bold-41\"/>\n    </defs>\n    <g transform=\"translate(11.410728 18.015)scale(0.16 -0.16)\">\n     <use xlink:href=\"#STIXGeneral-Bold-97\"/>\n     <use x=\"49.999985\" xlink:href=\"#STIXGeneral-Bold-41\"/>\n    </g>\n   </g>\n   <g id=\"text_18\">\n    <!-- $B_i = $(0.1, 0.1, 0.1) -->\n    <defs>\n     <path d=\"M 13 65.296875 \nL 38 65.296875 \nQ 58.796875 65.296875 58.796875 50.296875 \nQ 58.796875 43.296875 52.40625 39 \nQ 49 36.703125 41.296875 35.09375 \nL 41.296875 35 \nQ 53.90625 31.203125 53.90625 20 \nQ 53.90625 10.203125 46.453125 5.09375 \nQ 39 0 26.40625 0 \nL -0.796875 0 \nL -0.796875 1.59375 \nQ 3.296875 2.203125 4.75 3.59375 \nQ 6.203125 5 7.5 9.59375 \nL 19.59375 53.203125 \nQ 20.703125 57.09375 20.703125 59.59375 \nQ 20.703125 61.796875 19.203125 62.546875 \nQ 17.703125 63.296875 13 63.703125 \nz\nM 24.796875 36.296875 \nL 28.59375 36.296875 \nQ 38.40625 36.296875 43.546875 40.1875 \nQ 48.703125 44.09375 48.703125 51.5 \nQ 48.703125 57.09375 45.890625 59.6875 \nQ 43.09375 62.296875 37 62.296875 \nQ 34.703125 62.296875 33.84375 62.140625 \nQ 33 62 32.296875 61.25 \nQ 31.59375 60.5 31.09375 58.703125 \nz\nM 23.796875 33.09375 \nL 20.59375 21.203125 \nQ 17.09375 7.90625 17.09375 7.203125 \nQ 17.09375 3 23.796875 3 \nQ 32.59375 3 37.84375 7.390625 \nQ 43.09375 11.796875 43.09375 20 \nQ 43.09375 24.5 41.1875 27.703125 \nQ 39.296875 30.90625 36.40625 31.90625 \nQ 33 33.09375 23.796875 33.09375 \nz\n\" id=\"STIXGeneral-Italic-66\"/>\n     <path d=\"M 26.40625 59.90625 \nQ 26.40625 57.796875 24.953125 56.296875 \nQ 23.5 54.796875 21.5 54.796875 \nQ 19.296875 54.796875 18 56.25 \nQ 16.703125 57.703125 16.703125 60.09375 \nQ 16.703125 62.40625 18.046875 63.90625 \nQ 19.40625 65.40625 21.40625 65.40625 \nQ 23.40625 65.40625 24.90625 63.75 \nQ 26.40625 62.09375 26.40625 59.90625 \nz\nM 22.203125 11.40625 \nL 23.5 10.296875 \nQ 19.296875 3.796875 16.390625 1.34375 \nQ 13.5 -1.09375 9.796875 -1.09375 \nQ 4.90625 -1.09375 4.90625 4.40625 \nQ 4.90625 7.296875 7.09375 15.5 \nL 11.90625 33.203125 \nQ 12.796875 36.40625 12.796875 37.59375 \nQ 12.796875 39.09375 11.640625 39.5 \nQ 10.5 39.90625 6.40625 40 \nL 6.40625 41.59375 \nQ 11 42 22.40625 44.09375 \nL 22.796875 43.796875 \nL 13.40625 9.5 \nQ 12.40625 6.09375 12.40625 5.09375 \nQ 12.40625 3.59375 13.796875 3.59375 \nQ 16.296875 3.59375 22.203125 11.40625 \nz\n\" id=\"STIXGeneral-Italic-105\"/>\n     <path d=\"M 63.703125 32 \nL 4.796875 32 \nL 4.796875 38.59375 \nL 63.703125 38.59375 \nz\nM 63.703125 12 \nL 4.796875 12 \nL 4.796875 18.59375 \nL 63.703125 18.59375 \nz\n\" id=\"STIXGeneral-Regular-61\"/>\n     <path d=\"M 8.296875 -14.09375 \nL 7.296875 -12.203125 \nQ 15.59375 -6.59375 15.59375 -1.5 \nQ 15.59375 -0.203125 14.203125 -0.203125 \nQ 13.796875 -0.203125 12.84375 -0.390625 \nQ 11.90625 -0.59375 11.296875 -0.59375 \nQ 5.5 -0.59375 5.5 4.5 \nQ 5.5 7.09375 7.140625 8.640625 \nQ 8.796875 10.203125 11.5 10.203125 \nQ 14.90625 10.203125 17.203125 7.75 \nQ 19.5 5.296875 19.5 1.5 \nQ 19.5 -3.09375 16.453125 -7.390625 \nQ 13.40625 -11.703125 8.296875 -14.09375 \nz\n\" id=\"STIXGeneral-Regular-44\"/>\n    </defs>\n    <g transform=\"translate(165.70824 26.137)scale(0.16 -0.16)\">\n     <use transform=\"translate(0 0.40625)\" xlink:href=\"#STIXGeneral-Italic-66\"/>\n     <use transform=\"translate(61.099991 -12.821875)scale(0.7)\" xlink:href=\"#STIXGeneral-Italic-105\"/>\n     <use transform=\"translate(99.409354 0.40625)\" xlink:href=\"#STIXGeneral-Regular-61\"/>\n     <use transform=\"translate(182.349335 0.40625)\" xlink:href=\"#STIXGeneral-Regular-40\"/>\n     <use transform=\"translate(215.649323 0.40625)\" xlink:href=\"#STIXGeneral-Regular-48\"/>\n     <use transform=\"translate(265.649307 0.40625)\" xlink:href=\"#STIXGeneral-Regular-46\"/>\n     <use transform=\"translate(290.649292 0.40625)\" xlink:href=\"#STIXGeneral-Regular-49\"/>\n     <use transform=\"translate(340.649277 0.40625)\" xlink:href=\"#STIXGeneral-Regular-44\"/>\n     <use transform=\"translate(365.649261 0.40625)\" xlink:href=\"#STIXGeneral-Regular-32\"/>\n     <use transform=\"translate(390.649246 0.40625)\" xlink:href=\"#STIXGeneral-Regular-48\"/>\n     <use transform=\"translate(440.649231 0.40625)\" xlink:href=\"#STIXGeneral-Regular-46\"/>\n     <use transform=\"translate(465.649216 0.40625)\" xlink:href=\"#STIXGeneral-Regular-49\"/>\n     <use transform=\"translate(515.6492 0.40625)\" xlink:href=\"#STIXGeneral-Regular-44\"/>\n     <use transform=\"translate(540.649185 0.40625)\" xlink:href=\"#STIXGeneral-Regular-32\"/>\n     <use transform=\"translate(565.64917 0.40625)\" xlink:href=\"#STIXGeneral-Regular-48\"/>\n     <use transform=\"translate(615.649155 0.40625)\" xlink:href=\"#STIXGeneral-Regular-46\"/>\n     <use transform=\"translate(640.649139 0.40625)\" xlink:href=\"#STIXGeneral-Regular-49\"/>\n     <use transform=\"translate(690.649124 0.40625)\" xlink:href=\"#STIXGeneral-Regular-41\"/>\n    </g>\n   </g>\n  </g>\n  <g id=\"axes_2\">\n   <g id=\"patch_7\">\n    <path d=\"M 442.375521 293.577 \nL 768.864 293.577 \nL 768.864 31.137 \nL 442.375521 31.137 \nz\n\" style=\"fill:#ffffff;\"/>\n   </g>\n   <g id=\"line2d_45\">\n    <path clip-path=\"url(#pa9fa95f1ed)\" d=\"M 442.375521 293.577 \nL 445.648588 293.50926 \nL 447.285122 293.204458 \nL 448.921656 292.494867 \nL 450.558189 291.340281 \nL 452.194723 289.833268 \nL 457.922591 284.061504 \nL 459.559125 282.767229 \nL 461.195659 281.734858 \nL 462.832192 280.966947 \nL 464.468726 280.442743 \nL 466.10526 280.124265 \nL 468.56006 279.922399 \nL 476.742729 279.682688 \nL 478.379263 279.20498 \nL 479.19753 278.798591 \nL 480.015797 278.259623 \nL 481.65233 276.757612 \nL 483.288864 274.708583 \nL 484.925398 272.202135 \nL 487.380198 267.878265 \nL 492.2898 258.865262 \nL 494.7446 254.885939 \nL 496.381134 252.586772 \nL 498.017668 250.613424 \nL 499.654201 248.981699 \nL 501.290735 247.689971 \nL 502.927269 246.72051 \nL 504.563803 246.041221 \nL 506.200336 245.607902 \nL 507.83687 245.367215 \nL 510.291671 245.239375 \nL 516.837805 245.129954 \nL 518.474339 244.819029 \nL 519.292606 244.52431 \nL 520.110873 244.110122 \nL 520.92914 243.562361 \nL 522.565674 242.041517 \nL 524.202207 239.974974 \nL 525.838741 237.455162 \nL 528.293542 233.122178 \nL 533.203143 224.130269 \nL 535.657943 220.176251 \nL 537.294477 217.897148 \nL 538.931011 215.945185 \nL 540.567545 214.33512 \nL 542.204078 213.064325 \nL 543.840612 212.114147 \nL 545.477146 211.451678 \nL 547.113679 211.032061 \nL 548.750213 210.801512 \nL 551.205014 210.681978 \nL 557.751149 210.563156 \nL 559.387682 210.232392 \nL 560.205949 209.923704 \nL 561.024216 209.493471 \nL 561.842483 208.928331 \nL 563.479017 207.372008 \nL 565.115551 205.273806 \nL 566.752084 202.729886 \nL 569.206885 198.377531 \nL 574.116486 189.398913 \nL 576.571287 185.469067 \nL 578.20782 183.209633 \nL 579.844354 181.278792 \nL 581.480888 179.690183 \nL 583.117422 178.440131 \nL 584.753955 177.509036 \nL 586.390489 176.863169 \nL 588.027023 176.457017 \nL 590.481823 176.177262 \nL 593.754891 176.116305 \nL 597.846225 176.068467 \nL 599.482759 175.8617 \nL 601.119293 175.321255 \nL 601.937559 174.874778 \nL 602.755826 174.292161 \nL 604.39236 172.700463 \nL 606.028894 170.571007 \nL 607.665428 168.003532 \nL 610.120228 163.632655 \nL 615.029829 154.66855 \nL 617.48463 150.763207 \nL 619.121164 148.523568 \nL 620.757697 146.613903 \nL 622.394231 145.046734 \nL 624.030765 143.817348 \nL 625.667299 142.905203 \nL 627.303832 142.275759 \nL 628.940366 141.882861 \nL 631.395167 141.616203 \nL 635.486501 141.56072 \nL 638.759568 141.506387 \nL 640.396102 141.284046 \nL 642.032636 140.717026 \nL 642.850903 140.254105 \nL 643.66917 139.653914 \nL 645.305703 138.026945 \nL 646.942237 135.866635 \nL 648.578771 133.276148 \nL 651.033571 128.887579 \nL 655.943173 119.939184 \nL 658.397973 116.058666 \nL 660.034507 113.838942 \nL 661.671041 111.950502 \nL 663.307574 110.404755 \nL 664.944108 109.195954 \nL 666.580642 108.302623 \nL 668.217176 107.689422 \nL 669.853709 107.309561 \nL 672.30851 107.055653 \nL 676.399844 107.005334 \nL 679.672912 106.943797 \nL 681.309445 106.70517 \nL 682.945979 106.110954 \nL 683.764246 105.631397 \nL 684.582513 105.013543 \nL 686.219047 103.351419 \nL 687.85558 101.160662 \nL 689.492114 98.547703 \nL 691.946915 94.142263 \nL 696.856516 85.210753 \nL 699.311316 81.355376 \nL 700.94785 79.155682 \nL 702.584384 77.288511 \nL 704.220918 75.764162 \nL 705.857451 74.575862 \nL 707.493985 73.701207 \nL 709.130519 73.104064 \nL 710.767053 72.737025 \nL 713.221853 72.495519 \nL 717.313187 72.450013 \nL 720.586255 72.380574 \nL 722.222789 72.124944 \nL 723.859322 71.502914 \nL 724.677589 71.006538 \nL 725.495856 70.370939 \nL 727.13239 68.673793 \nL 728.768924 66.453 \nL 730.405457 63.818109 \nL 732.860258 59.39661 \nL 736.951592 51.884775 \nL 739.406393 47.860309 \nL 741.042927 45.522997 \nL 742.67946 43.508028 \nL 744.315994 41.833551 \nL 745.952528 40.500102 \nL 747.589062 39.491914 \nL 749.225595 38.778592 \nL 750.862129 38.317316 \nL 752.498663 38.055703 \nL 754.953463 37.910273 \nL 762.317865 37.715982 \nL 763.954399 37.275491 \nL 764.772666 36.892725 \nL 765.590933 36.379353 \nL 766.409199 35.725937 \nL 768.045733 33.993909 \nL 768.864 32.927545 \nL 768.864 32.927545 \n\" style=\"fill:none;stroke:#1f77b4;stroke-dasharray:6,0;stroke-dashoffset:0;stroke-width:1.5;\"/>\n   </g>\n   <g id=\"line2d_46\">\n    <path clip-path=\"url(#pa9fa95f1ed)\" d=\"M 0 0 \n\" style=\"fill:none;stroke:#ff7f0e;stroke-dasharray:6,2;stroke-dashoffset:0;stroke-width:1.5;\"/>\n   </g>\n   <g id=\"patch_8\">\n    <path d=\"M 442.375521 293.577 \nL 442.375521 31.137 \n\" style=\"fill:none;stroke:#000000;stroke-linecap:square;stroke-linejoin:miter;\"/>\n   </g>\n   <g id=\"patch_9\">\n    <path d=\"M 768.864 293.577 \nL 768.864 31.137 \n\" style=\"fill:none;stroke:#000000;stroke-linecap:square;stroke-linejoin:miter;\"/>\n   </g>\n   <g id=\"patch_10\">\n    <path d=\"M 442.375521 293.577 \nL 768.864 293.577 \n\" style=\"fill:none;stroke:#000000;stroke-linecap:square;stroke-linejoin:miter;\"/>\n   </g>\n   <g id=\"patch_11\">\n    <path d=\"M 442.375521 31.137 \nL 768.864 31.137 \n\" style=\"fill:none;stroke:#000000;stroke-linecap:square;stroke-linejoin:miter;\"/>\n   </g>\n   <g id=\"matplotlib.axis_3\">\n    <g id=\"xtick_10\">\n     <g id=\"line2d_47\">\n      <path clip-path=\"url(#pa9fa95f1ed)\" d=\"M 442.375521 293.577 \nL 442.375521 31.137 \n\" style=\"fill:none;stroke:#000000;stroke-dasharray:1,3;stroke-dashoffset:0;stroke-width:0.5;\"/>\n     </g>\n     <g id=\"line2d_48\">\n      <g>\n       <use style=\"stroke:#000000;stroke-width:0.5;\" x=\"442.375521\" xlink:href=\"#m589bee15f2\" y=\"293.577\"/>\n      </g>\n     </g>\n     <g id=\"line2d_49\">\n      <g>\n       <use style=\"stroke:#000000;stroke-width:0.5;\" x=\"442.375521\" xlink:href=\"#m0a13e56651\" y=\"31.137\"/>\n      </g>\n     </g>\n     <g id=\"text_19\">\n      <!-- 0.0 -->\n      <g transform=\"translate(433.375521 307.41175)scale(0.144 -0.144)\">\n       <use xlink:href=\"#STIXGeneral-Regular-48\"/>\n       <use x=\"49.999985\" xlink:href=\"#STIXGeneral-Regular-46\"/>\n       <use x=\"74.999969\" xlink:href=\"#STIXGeneral-Regular-48\"/>\n      </g>\n     </g>\n    </g>\n    <g id=\"xtick_11\">\n     <g id=\"line2d_50\">\n      <path clip-path=\"url(#pa9fa95f1ed)\" d=\"M 483.186581 293.577 \nL 483.186581 31.137 \n\" style=\"fill:none;stroke:#000000;stroke-dasharray:1,3;stroke-dashoffset:0;stroke-width:0.5;\"/>\n     </g>\n     <g id=\"line2d_51\">\n      <g>\n       <use style=\"stroke:#000000;stroke-width:0.5;\" x=\"483.186581\" xlink:href=\"#m589bee15f2\" y=\"293.577\"/>\n      </g>\n     </g>\n     <g id=\"line2d_52\">\n      <g>\n       <use style=\"stroke:#000000;stroke-width:0.5;\" x=\"483.186581\" xlink:href=\"#m0a13e56651\" y=\"31.137\"/>\n      </g>\n     </g>\n     <g id=\"text_20\">\n      <!-- 0.5 -->\n      <g transform=\"translate(474.186581 307.41175)scale(0.144 -0.144)\">\n       <use xlink:href=\"#STIXGeneral-Regular-48\"/>\n       <use x=\"49.999985\" xlink:href=\"#STIXGeneral-Regular-46\"/>\n       <use x=\"74.999969\" xlink:href=\"#STIXGeneral-Regular-53\"/>\n      </g>\n     </g>\n    </g>\n    <g id=\"xtick_12\">\n     <g id=\"line2d_53\">\n      <path clip-path=\"url(#pa9fa95f1ed)\" d=\"M 523.997641 293.577 \nL 523.997641 31.137 \n\" style=\"fill:none;stroke:#000000;stroke-dasharray:1,3;stroke-dashoffset:0;stroke-width:0.5;\"/>\n     </g>\n     <g id=\"line2d_54\">\n      <g>\n       <use style=\"stroke:#000000;stroke-width:0.5;\" x=\"523.997641\" xlink:href=\"#m589bee15f2\" y=\"293.577\"/>\n      </g>\n     </g>\n     <g id=\"line2d_55\">\n      <g>\n       <use style=\"stroke:#000000;stroke-width:0.5;\" x=\"523.997641\" xlink:href=\"#m0a13e56651\" y=\"31.137\"/>\n      </g>\n     </g>\n     <g id=\"text_21\">\n      <!-- 1.0 -->\n      <g transform=\"translate(514.997641 307.41175)scale(0.144 -0.144)\">\n       <use xlink:href=\"#STIXGeneral-Regular-49\"/>\n       <use x=\"49.999985\" xlink:href=\"#STIXGeneral-Regular-46\"/>\n       <use x=\"74.999969\" xlink:href=\"#STIXGeneral-Regular-48\"/>\n      </g>\n     </g>\n    </g>\n    <g id=\"xtick_13\">\n     <g id=\"line2d_56\">\n      <path clip-path=\"url(#pa9fa95f1ed)\" d=\"M 564.8087 293.577 \nL 564.8087 31.137 \n\" style=\"fill:none;stroke:#000000;stroke-dasharray:1,3;stroke-dashoffset:0;stroke-width:0.5;\"/>\n     </g>\n     <g id=\"line2d_57\">\n      <g>\n       <use style=\"stroke:#000000;stroke-width:0.5;\" x=\"564.8087\" xlink:href=\"#m589bee15f2\" y=\"293.577\"/>\n      </g>\n     </g>\n     <g id=\"line2d_58\">\n      <g>\n       <use style=\"stroke:#000000;stroke-width:0.5;\" x=\"564.8087\" xlink:href=\"#m0a13e56651\" y=\"31.137\"/>\n      </g>\n     </g>\n     <g id=\"text_22\">\n      <!-- 1.5 -->\n      <g transform=\"translate(555.8087 307.41175)scale(0.144 -0.144)\">\n       <use xlink:href=\"#STIXGeneral-Regular-49\"/>\n       <use x=\"49.999985\" xlink:href=\"#STIXGeneral-Regular-46\"/>\n       <use x=\"74.999969\" xlink:href=\"#STIXGeneral-Regular-53\"/>\n      </g>\n     </g>\n    </g>\n    <g id=\"xtick_14\">\n     <g id=\"line2d_59\">\n      <path clip-path=\"url(#pa9fa95f1ed)\" d=\"M 605.61976 293.577 \nL 605.61976 31.137 \n\" style=\"fill:none;stroke:#000000;stroke-dasharray:1,3;stroke-dashoffset:0;stroke-width:0.5;\"/>\n     </g>\n     <g id=\"line2d_60\">\n      <g>\n       <use style=\"stroke:#000000;stroke-width:0.5;\" x=\"605.61976\" xlink:href=\"#m589bee15f2\" y=\"293.577\"/>\n      </g>\n     </g>\n     <g id=\"line2d_61\">\n      <g>\n       <use style=\"stroke:#000000;stroke-width:0.5;\" x=\"605.61976\" xlink:href=\"#m0a13e56651\" y=\"31.137\"/>\n      </g>\n     </g>\n     <g id=\"text_23\">\n      <!-- 2.0 -->\n      <g transform=\"translate(596.61976 307.41175)scale(0.144 -0.144)\">\n       <use xlink:href=\"#STIXGeneral-Regular-50\"/>\n       <use x=\"49.999985\" xlink:href=\"#STIXGeneral-Regular-46\"/>\n       <use x=\"74.999969\" xlink:href=\"#STIXGeneral-Regular-48\"/>\n      </g>\n     </g>\n    </g>\n    <g id=\"xtick_15\">\n     <g id=\"line2d_62\">\n      <path clip-path=\"url(#pa9fa95f1ed)\" d=\"M 646.43082 293.577 \nL 646.43082 31.137 \n\" style=\"fill:none;stroke:#000000;stroke-dasharray:1,3;stroke-dashoffset:0;stroke-width:0.5;\"/>\n     </g>\n     <g id=\"line2d_63\">\n      <g>\n       <use style=\"stroke:#000000;stroke-width:0.5;\" x=\"646.43082\" xlink:href=\"#m589bee15f2\" y=\"293.577\"/>\n      </g>\n     </g>\n     <g id=\"line2d_64\">\n      <g>\n       <use style=\"stroke:#000000;stroke-width:0.5;\" x=\"646.43082\" xlink:href=\"#m0a13e56651\" y=\"31.137\"/>\n      </g>\n     </g>\n     <g id=\"text_24\">\n      <!-- 2.5 -->\n      <g transform=\"translate(637.43082 307.41175)scale(0.144 -0.144)\">\n       <use xlink:href=\"#STIXGeneral-Regular-50\"/>\n       <use x=\"49.999985\" xlink:href=\"#STIXGeneral-Regular-46\"/>\n       <use x=\"74.999969\" xlink:href=\"#STIXGeneral-Regular-53\"/>\n      </g>\n     </g>\n    </g>\n    <g id=\"xtick_16\">\n     <g id=\"line2d_65\">\n      <path clip-path=\"url(#pa9fa95f1ed)\" d=\"M 687.24188 293.577 \nL 687.24188 31.137 \n\" style=\"fill:none;stroke:#000000;stroke-dasharray:1,3;stroke-dashoffset:0;stroke-width:0.5;\"/>\n     </g>\n     <g id=\"line2d_66\">\n      <g>\n       <use style=\"stroke:#000000;stroke-width:0.5;\" x=\"687.24188\" xlink:href=\"#m589bee15f2\" y=\"293.577\"/>\n      </g>\n     </g>\n     <g id=\"line2d_67\">\n      <g>\n       <use style=\"stroke:#000000;stroke-width:0.5;\" x=\"687.24188\" xlink:href=\"#m0a13e56651\" y=\"31.137\"/>\n      </g>\n     </g>\n     <g id=\"text_25\">\n      <!-- 3.0 -->\n      <g transform=\"translate(678.24188 307.41175)scale(0.144 -0.144)\">\n       <use xlink:href=\"#STIXGeneral-Regular-51\"/>\n       <use x=\"49.999985\" xlink:href=\"#STIXGeneral-Regular-46\"/>\n       <use x=\"74.999969\" xlink:href=\"#STIXGeneral-Regular-48\"/>\n      </g>\n     </g>\n    </g>\n    <g id=\"xtick_17\">\n     <g id=\"line2d_68\">\n      <path clip-path=\"url(#pa9fa95f1ed)\" d=\"M 728.05294 293.577 \nL 728.05294 31.137 \n\" style=\"fill:none;stroke:#000000;stroke-dasharray:1,3;stroke-dashoffset:0;stroke-width:0.5;\"/>\n     </g>\n     <g id=\"line2d_69\">\n      <g>\n       <use style=\"stroke:#000000;stroke-width:0.5;\" x=\"728.05294\" xlink:href=\"#m589bee15f2\" y=\"293.577\"/>\n      </g>\n     </g>\n     <g id=\"line2d_70\">\n      <g>\n       <use style=\"stroke:#000000;stroke-width:0.5;\" x=\"728.05294\" xlink:href=\"#m0a13e56651\" y=\"31.137\"/>\n      </g>\n     </g>\n     <g id=\"text_26\">\n      <!-- 3.5 -->\n      <g transform=\"translate(719.05294 307.41175)scale(0.144 -0.144)\">\n       <use xlink:href=\"#STIXGeneral-Regular-51\"/>\n       <use x=\"49.999985\" xlink:href=\"#STIXGeneral-Regular-46\"/>\n       <use x=\"74.999969\" xlink:href=\"#STIXGeneral-Regular-53\"/>\n      </g>\n     </g>\n    </g>\n    <g id=\"xtick_18\">\n     <g id=\"line2d_71\">\n      <path clip-path=\"url(#pa9fa95f1ed)\" d=\"M 768.864 293.577 \nL 768.864 31.137 \n\" style=\"fill:none;stroke:#000000;stroke-dasharray:1,3;stroke-dashoffset:0;stroke-width:0.5;\"/>\n     </g>\n     <g id=\"line2d_72\">\n      <g>\n       <use style=\"stroke:#000000;stroke-width:0.5;\" x=\"768.864\" xlink:href=\"#m589bee15f2\" y=\"293.577\"/>\n      </g>\n     </g>\n     <g id=\"line2d_73\">\n      <g>\n       <use style=\"stroke:#000000;stroke-width:0.5;\" x=\"768.864\" xlink:href=\"#m0a13e56651\" y=\"31.137\"/>\n      </g>\n     </g>\n     <g id=\"text_27\">\n      <!-- 4.0 -->\n      <g transform=\"translate(759.864 307.41175)scale(0.144 -0.144)\">\n       <use xlink:href=\"#STIXGeneral-Regular-52\"/>\n       <use x=\"49.999985\" xlink:href=\"#STIXGeneral-Regular-46\"/>\n       <use x=\"74.999969\" xlink:href=\"#STIXGeneral-Regular-48\"/>\n      </g>\n     </g>\n    </g>\n    <g id=\"text_28\">\n     <!-- $t^*\\!/\\,(2\\pi)$ [-] -->\n     <g transform=\"translate(572.33976 328.2245)scale(0.16 -0.16)\">\n      <use transform=\"translate(0 0.409375)\" xlink:href=\"#STIXGeneral-Italic-116\"/>\n      <use transform=\"translate(46.28611 35.684375)scale(0.7)\" xlink:href=\"#STIXGeneral-Regular-42\"/>\n      <use transform=\"translate(83.769901 0.409375)\" xlink:href=\"#STIXGeneral-Regular-47\"/>\n      <use transform=\"translate(123.60346 0.409375)\" xlink:href=\"#STIXGeneral-Regular-40\"/>\n      <use transform=\"translate(156.903448 0.409375)\" xlink:href=\"#STIXGeneral-Regular-50\"/>\n      <use transform=\"translate(206.903432 0.409375)\" xlink:href=\"#STIXGeneral-Italic-960\"/>\n      <use transform=\"translate(257.303426 0.409375)\" xlink:href=\"#STIXGeneral-Regular-41\"/>\n      <use transform=\"translate(290.603414 0.409375)\" xlink:href=\"#STIXGeneral-Regular-32\"/>\n      <use transform=\"translate(315.603399 0.409375)\" xlink:href=\"#STIXGeneral-Regular-91\"/>\n      <use transform=\"translate(348.903387 0.409375)\" xlink:href=\"#STIXGeneral-Regular-45\"/>\n      <use transform=\"translate(382.203374 0.409375)\" xlink:href=\"#STIXGeneral-Regular-93\"/>\n     </g>\n    </g>\n   </g>\n   <g id=\"matplotlib.axis_4\">\n    <g id=\"ytick_6\">\n     <g id=\"line2d_74\">\n      <path clip-path=\"url(#pa9fa95f1ed)\" d=\"M 442.375521 293.577 \nL 768.864 293.577 \n\" style=\"fill:none;stroke:#000000;stroke-dasharray:1,3;stroke-dashoffset:0;stroke-width:0.5;\"/>\n     </g>\n     <g id=\"line2d_75\">\n      <g>\n       <use style=\"stroke:#000000;stroke-width:0.5;\" x=\"442.375521\" xlink:href=\"#m1eb39f301b\" y=\"293.577\"/>\n      </g>\n     </g>\n     <g id=\"line2d_76\">\n      <g>\n       <use style=\"stroke:#000000;stroke-width:0.5;\" x=\"768.864\" xlink:href=\"#mbaeb13e278\" y=\"293.577\"/>\n      </g>\n     </g>\n     <g id=\"text_29\">\n      <!-- 0.00 -->\n      <g transform=\"translate(413.175521 296.93175)scale(0.144 -0.144)\">\n       <use xlink:href=\"#STIXGeneral-Regular-48\"/>\n       <use x=\"49.999985\" xlink:href=\"#STIXGeneral-Regular-46\"/>\n       <use x=\"74.999969\" xlink:href=\"#STIXGeneral-Regular-48\"/>\n       <use x=\"124.999954\" xlink:href=\"#STIXGeneral-Regular-48\"/>\n      </g>\n     </g>\n    </g>\n    <g id=\"ytick_7\">\n     <g id=\"line2d_77\">\n      <path clip-path=\"url(#pa9fa95f1ed)\" d=\"M 442.375521 264.417 \nL 768.864 264.417 \n\" style=\"fill:none;stroke:#000000;stroke-dasharray:1,3;stroke-dashoffset:0;stroke-width:0.5;\"/>\n     </g>\n     <g id=\"line2d_78\">\n      <g>\n       <use style=\"stroke:#000000;stroke-width:0.5;\" x=\"442.375521\" xlink:href=\"#m1eb39f301b\" y=\"264.417\"/>\n      </g>\n     </g>\n     <g id=\"line2d_79\">\n      <g>\n       <use style=\"stroke:#000000;stroke-width:0.5;\" x=\"768.864\" xlink:href=\"#mbaeb13e278\" y=\"264.417\"/>\n      </g>\n     </g>\n     <g id=\"text_30\">\n      <!-- 0.05 -->\n      <g transform=\"translate(413.175521 267.77175)scale(0.144 -0.144)\">\n       <use xlink:href=\"#STIXGeneral-Regular-48\"/>\n       <use x=\"49.999985\" xlink:href=\"#STIXGeneral-Regular-46\"/>\n       <use x=\"74.999969\" xlink:href=\"#STIXGeneral-Regular-48\"/>\n       <use x=\"124.999954\" xlink:href=\"#STIXGeneral-Regular-53\"/>\n      </g>\n     </g>\n    </g>\n    <g id=\"ytick_8\">\n     <g id=\"line2d_80\">\n      <path clip-path=\"url(#pa9fa95f1ed)\" d=\"M 442.375521 235.257 \nL 768.864 235.257 \n\" style=\"fill:none;stroke:#000000;stroke-dasharray:1,3;stroke-dashoffset:0;stroke-width:0.5;\"/>\n     </g>\n     <g id=\"line2d_81\">\n      <g>\n       <use style=\"stroke:#000000;stroke-width:0.5;\" x=\"442.375521\" xlink:href=\"#m1eb39f301b\" y=\"235.257\"/>\n      </g>\n     </g>\n     <g id=\"line2d_82\">\n      <g>\n       <use style=\"stroke:#000000;stroke-width:0.5;\" x=\"768.864\" xlink:href=\"#mbaeb13e278\" y=\"235.257\"/>\n      </g>\n     </g>\n     <g id=\"text_31\">\n      <!-- 0.10 -->\n      <g transform=\"translate(413.175521 238.61175)scale(0.144 -0.144)\">\n       <use xlink:href=\"#STIXGeneral-Regular-48\"/>\n       <use x=\"49.999985\" xlink:href=\"#STIXGeneral-Regular-46\"/>\n       <use x=\"74.999969\" xlink:href=\"#STIXGeneral-Regular-49\"/>\n       <use x=\"124.999954\" xlink:href=\"#STIXGeneral-Regular-48\"/>\n      </g>\n     </g>\n    </g>\n    <g id=\"ytick_9\">\n     <g id=\"line2d_83\">\n      <path clip-path=\"url(#pa9fa95f1ed)\" d=\"M 442.375521 206.097 \nL 768.864 206.097 \n\" style=\"fill:none;stroke:#000000;stroke-dasharray:1,3;stroke-dashoffset:0;stroke-width:0.5;\"/>\n     </g>\n     <g id=\"line2d_84\">\n      <g>\n       <use style=\"stroke:#000000;stroke-width:0.5;\" x=\"442.375521\" xlink:href=\"#m1eb39f301b\" y=\"206.097\"/>\n      </g>\n     </g>\n     <g id=\"line2d_85\">\n      <g>\n       <use style=\"stroke:#000000;stroke-width:0.5;\" x=\"768.864\" xlink:href=\"#mbaeb13e278\" y=\"206.097\"/>\n      </g>\n     </g>\n     <g id=\"text_32\">\n      <!-- 0.15 -->\n      <g transform=\"translate(413.175521 209.45175)scale(0.144 -0.144)\">\n       <use xlink:href=\"#STIXGeneral-Regular-48\"/>\n       <use x=\"49.999985\" xlink:href=\"#STIXGeneral-Regular-46\"/>\n       <use x=\"74.999969\" xlink:href=\"#STIXGeneral-Regular-49\"/>\n       <use x=\"124.999954\" xlink:href=\"#STIXGeneral-Regular-53\"/>\n      </g>\n     </g>\n    </g>\n    <g id=\"ytick_10\">\n     <g id=\"line2d_86\">\n      <path clip-path=\"url(#pa9fa95f1ed)\" d=\"M 442.375521 176.937 \nL 768.864 176.937 \n\" style=\"fill:none;stroke:#000000;stroke-dasharray:1,3;stroke-dashoffset:0;stroke-width:0.5;\"/>\n     </g>\n     <g id=\"line2d_87\">\n      <g>\n       <use style=\"stroke:#000000;stroke-width:0.5;\" x=\"442.375521\" xlink:href=\"#m1eb39f301b\" y=\"176.937\"/>\n      </g>\n     </g>\n     <g id=\"line2d_88\">\n      <g>\n       <use style=\"stroke:#000000;stroke-width:0.5;\" x=\"768.864\" xlink:href=\"#mbaeb13e278\" y=\"176.937\"/>\n      </g>\n     </g>\n     <g id=\"text_33\">\n      <!-- 0.20 -->\n      <g transform=\"translate(413.175521 180.29175)scale(0.144 -0.144)\">\n       <use xlink:href=\"#STIXGeneral-Regular-48\"/>\n       <use x=\"49.999985\" xlink:href=\"#STIXGeneral-Regular-46\"/>\n       <use x=\"74.999969\" xlink:href=\"#STIXGeneral-Regular-50\"/>\n       <use x=\"124.999954\" xlink:href=\"#STIXGeneral-Regular-48\"/>\n      </g>\n     </g>\n    </g>\n    <g id=\"ytick_11\">\n     <g id=\"line2d_89\">\n      <path clip-path=\"url(#pa9fa95f1ed)\" d=\"M 442.375521 147.777 \nL 768.864 147.777 \n\" style=\"fill:none;stroke:#000000;stroke-dasharray:1,3;stroke-dashoffset:0;stroke-width:0.5;\"/>\n     </g>\n     <g id=\"line2d_90\">\n      <g>\n       <use style=\"stroke:#000000;stroke-width:0.5;\" x=\"442.375521\" xlink:href=\"#m1eb39f301b\" y=\"147.777\"/>\n      </g>\n     </g>\n     <g id=\"line2d_91\">\n      <g>\n       <use style=\"stroke:#000000;stroke-width:0.5;\" x=\"768.864\" xlink:href=\"#mbaeb13e278\" y=\"147.777\"/>\n      </g>\n     </g>\n     <g id=\"text_34\">\n      <!-- 0.25 -->\n      <g transform=\"translate(413.175521 151.13175)scale(0.144 -0.144)\">\n       <use xlink:href=\"#STIXGeneral-Regular-48\"/>\n       <use x=\"49.999985\" xlink:href=\"#STIXGeneral-Regular-46\"/>\n       <use x=\"74.999969\" xlink:href=\"#STIXGeneral-Regular-50\"/>\n       <use x=\"124.999954\" xlink:href=\"#STIXGeneral-Regular-53\"/>\n      </g>\n     </g>\n    </g>\n    <g id=\"ytick_12\">\n     <g id=\"line2d_92\">\n      <path clip-path=\"url(#pa9fa95f1ed)\" d=\"M 442.375521 118.617 \nL 768.864 118.617 \n\" style=\"fill:none;stroke:#000000;stroke-dasharray:1,3;stroke-dashoffset:0;stroke-width:0.5;\"/>\n     </g>\n     <g id=\"line2d_93\">\n      <g>\n       <use style=\"stroke:#000000;stroke-width:0.5;\" x=\"442.375521\" xlink:href=\"#m1eb39f301b\" y=\"118.617\"/>\n      </g>\n     </g>\n     <g id=\"line2d_94\">\n      <g>\n       <use style=\"stroke:#000000;stroke-width:0.5;\" x=\"768.864\" xlink:href=\"#mbaeb13e278\" y=\"118.617\"/>\n      </g>\n     </g>\n     <g id=\"text_35\">\n      <!-- 0.30 -->\n      <g transform=\"translate(413.175521 121.97175)scale(0.144 -0.144)\">\n       <use xlink:href=\"#STIXGeneral-Regular-48\"/>\n       <use x=\"49.999985\" xlink:href=\"#STIXGeneral-Regular-46\"/>\n       <use x=\"74.999969\" xlink:href=\"#STIXGeneral-Regular-51\"/>\n       <use x=\"124.999954\" xlink:href=\"#STIXGeneral-Regular-48\"/>\n      </g>\n     </g>\n    </g>\n    <g id=\"ytick_13\">\n     <g id=\"line2d_95\">\n      <path clip-path=\"url(#pa9fa95f1ed)\" d=\"M 442.375521 89.457 \nL 768.864 89.457 \n\" style=\"fill:none;stroke:#000000;stroke-dasharray:1,3;stroke-dashoffset:0;stroke-width:0.5;\"/>\n     </g>\n     <g id=\"line2d_96\">\n      <g>\n       <use style=\"stroke:#000000;stroke-width:0.5;\" x=\"442.375521\" xlink:href=\"#m1eb39f301b\" y=\"89.457\"/>\n      </g>\n     </g>\n     <g id=\"line2d_97\">\n      <g>\n       <use style=\"stroke:#000000;stroke-width:0.5;\" x=\"768.864\" xlink:href=\"#mbaeb13e278\" y=\"89.457\"/>\n      </g>\n     </g>\n     <g id=\"text_36\">\n      <!-- 0.35 -->\n      <g transform=\"translate(413.175521 92.81175)scale(0.144 -0.144)\">\n       <use xlink:href=\"#STIXGeneral-Regular-48\"/>\n       <use x=\"49.999985\" xlink:href=\"#STIXGeneral-Regular-46\"/>\n       <use x=\"74.999969\" xlink:href=\"#STIXGeneral-Regular-51\"/>\n       <use x=\"124.999954\" xlink:href=\"#STIXGeneral-Regular-53\"/>\n      </g>\n     </g>\n    </g>\n    <g id=\"ytick_14\">\n     <g id=\"line2d_98\">\n      <path clip-path=\"url(#pa9fa95f1ed)\" d=\"M 442.375521 60.297 \nL 768.864 60.297 \n\" style=\"fill:none;stroke:#000000;stroke-dasharray:1,3;stroke-dashoffset:0;stroke-width:0.5;\"/>\n     </g>\n     <g id=\"line2d_99\">\n      <g>\n       <use style=\"stroke:#000000;stroke-width:0.5;\" x=\"442.375521\" xlink:href=\"#m1eb39f301b\" y=\"60.297\"/>\n      </g>\n     </g>\n     <g id=\"line2d_100\">\n      <g>\n       <use style=\"stroke:#000000;stroke-width:0.5;\" x=\"768.864\" xlink:href=\"#mbaeb13e278\" y=\"60.297\"/>\n      </g>\n     </g>\n     <g id=\"text_37\">\n      <!-- 0.40 -->\n      <g transform=\"translate(413.175521 63.65175)scale(0.144 -0.144)\">\n       <use xlink:href=\"#STIXGeneral-Regular-48\"/>\n       <use x=\"49.999985\" xlink:href=\"#STIXGeneral-Regular-46\"/>\n       <use x=\"74.999969\" xlink:href=\"#STIXGeneral-Regular-52\"/>\n       <use x=\"124.999954\" xlink:href=\"#STIXGeneral-Regular-48\"/>\n      </g>\n     </g>\n    </g>\n    <g id=\"ytick_15\">\n     <g id=\"line2d_101\">\n      <path clip-path=\"url(#pa9fa95f1ed)\" d=\"M 442.375521 31.137 \nL 768.864 31.137 \n\" style=\"fill:none;stroke:#000000;stroke-dasharray:1,3;stroke-dashoffset:0;stroke-width:0.5;\"/>\n     </g>\n     <g id=\"line2d_102\">\n      <g>\n       <use style=\"stroke:#000000;stroke-width:0.5;\" x=\"442.375521\" xlink:href=\"#m1eb39f301b\" y=\"31.137\"/>\n      </g>\n     </g>\n     <g id=\"line2d_103\">\n      <g>\n       <use style=\"stroke:#000000;stroke-width:0.5;\" x=\"768.864\" xlink:href=\"#mbaeb13e278\" y=\"31.137\"/>\n      </g>\n     </g>\n     <g id=\"text_38\">\n      <!-- 0.45 -->\n      <g transform=\"translate(413.175521 34.49175)scale(0.144 -0.144)\">\n       <use xlink:href=\"#STIXGeneral-Regular-48\"/>\n       <use x=\"49.999985\" xlink:href=\"#STIXGeneral-Regular-46\"/>\n       <use x=\"74.999969\" xlink:href=\"#STIXGeneral-Regular-52\"/>\n       <use x=\"124.999954\" xlink:href=\"#STIXGeneral-Regular-53\"/>\n      </g>\n     </g>\n    </g>\n    <g id=\"text_39\">\n     <!-- $E_\\mathrm{T}^*$ [-] -->\n     <defs>\n      <path d=\"M 63.40625 65.296875 \nL 60.296875 49.90625 \nL 58.09375 50.09375 \nQ 58.40625 52.59375 58.40625 54.703125 \nQ 58.40625 59.203125 54.703125 60.59375 \nQ 51 62 39.203125 62 \nQ 35 62 33.703125 61.546875 \nQ 32.40625 61.09375 31.90625 59.40625 \nL 25.296875 36.09375 \nL 33.09375 36.09375 \nQ 39.703125 36.09375 41.890625 37.6875 \nQ 44.09375 39.296875 47 45.796875 \nL 48.796875 45.40625 \nL 42 22.203125 \nL 40 22.703125 \nQ 40.703125 25.796875 40.703125 27.90625 \nQ 40.703125 30.296875 40 31 \nQ 38.296875 32.5 32.203125 32.5 \nL 24.40625 32.5 \nL 21.203125 21.296875 \nQ 17.59375 8.59375 17.59375 6.703125 \nQ 17.59375 3.296875 25.5 3.296875 \nQ 38.40625 3.296875 45.796875 7.203125 \nQ 49.59375 9.203125 55.203125 17 \nL 56.796875 16.203125 \nL 50.59375 0 \nL -0.09375 0 \nL -0.09375 1.59375 \nQ 4.203125 2.40625 5.5 3.546875 \nQ 6.796875 4.703125 8 9 \nL 20.296875 53.203125 \nQ 21.40625 56.90625 21.40625 59.59375 \nQ 21.40625 61.59375 19.84375 62.4375 \nQ 18.296875 63.296875 13.703125 63.703125 \nL 13.703125 65.296875 \nz\n\" id=\"STIXGeneral-Italic-69\"/>\n      <path d=\"M 59.296875 49.203125 \nL 56.90625 49.203125 \nQ 55.296875 57.40625 52.390625 59.703125 \nQ 49.5 62 41.5 62 \nL 35.59375 62 \nL 35.59375 11.09375 \nQ 35.59375 5.40625 37.296875 3.796875 \nQ 39 2.203125 45.203125 1.90625 \nL 45.203125 0 \nL 16 0 \nL 16 1.90625 \nQ 22.296875 2.296875 23.84375 4 \nQ 25.40625 5.703125 25.40625 12.296875 \nL 25.40625 62 \nL 19.40625 62 \nQ 11.296875 62 8.4375 59.640625 \nQ 5.59375 57.296875 4.09375 49.203125 \nL 1.703125 49.203125 \nL 2.40625 66.203125 \nL 58.59375 66.203125 \nz\n\" id=\"STIXGeneral-Regular-84\"/>\n     </defs>\n     <g transform=\"translate(403.855521 182.917)rotate(-90)scale(0.16 -0.16)\">\n      <use transform=\"translate(0 0.409375)\" xlink:href=\"#STIXGeneral-Italic-69\"/>\n      <use transform=\"translate(81.83377 35.684375)scale(0.7)\" xlink:href=\"#STIXGeneral-Regular-42\"/>\n      <use transform=\"translate(61.099991 -26.046875)scale(0.7)\" xlink:href=\"#STIXGeneral-Regular-84\"/>\n      <use transform=\"translate(131.351131 0.409375)\" xlink:href=\"#STIXGeneral-Regular-32\"/>\n      <use transform=\"translate(156.351116 0.409375)\" xlink:href=\"#STIXGeneral-Regular-91\"/>\n      <use transform=\"translate(189.651104 0.409375)\" xlink:href=\"#STIXGeneral-Regular-45\"/>\n      <use transform=\"translate(222.951092 0.409375)\" xlink:href=\"#STIXGeneral-Regular-93\"/>\n     </g>\n    </g>\n   </g>\n   <g id=\"text_40\">\n    <!-- b) -->\n    <defs>\n     <path d=\"M 21.09375 67.59375 \nL 21.09375 41.703125 \nQ 26.40625 47.296875 33.296875 47.296875 \nQ 41.59375 47.296875 46.84375 40.796875 \nQ 52.09375 34.296875 52.09375 23.90625 \nQ 52.09375 12.59375 45.796875 5.59375 \nQ 39.5 -1.40625 29.5 -1.40625 \nQ 22.5 -1.40625 16.296875 4.296875 \nL 8.40625 -1.296875 \nL 7.203125 -1.296875 \nL 7.203125 59.40625 \nQ 7.203125 62.40625 6.203125 63.453125 \nQ 5.203125 64.5 1.703125 65.203125 \nL 1.703125 67.59375 \nz\nM 21.09375 36 \nL 21.09375 9.703125 \nQ 21.09375 6.09375 23 3.9375 \nQ 24.90625 1.796875 28 1.796875 \nQ 37.40625 1.796875 37.40625 22.09375 \nQ 37.40625 41.90625 28.09375 41.90625 \nQ 25.59375 41.90625 24 40.546875 \nQ 22.40625 39.203125 21.09375 36 \nz\n\" id=\"STIXGeneral-Bold-98\"/>\n    </defs>\n    <g transform=\"translate(393.402249 18.015)scale(0.16 -0.16)\">\n     <use xlink:href=\"#STIXGeneral-Bold-98\"/>\n     <use x=\"55.599991\" xlink:href=\"#STIXGeneral-Bold-41\"/>\n    </g>\n   </g>\n   <g id=\"text_41\">\n    <!-- $B_i = %4.2f$(0.1, 0.1, 0.1) -->\n    <g transform=\"translate(547.69976 26.137)scale(0.16 -0.16)\">\n     <use transform=\"translate(0 0.40625)\" xlink:href=\"#STIXGeneral-Italic-66\"/>\n     <use transform=\"translate(61.099991 -12.821875)scale(0.7)\" xlink:href=\"#STIXGeneral-Italic-105\"/>\n     <use transform=\"translate(99.409354 0.40625)\" xlink:href=\"#STIXGeneral-Regular-61\"/>\n     <use transform=\"translate(182.349335 0.40625)\" xlink:href=\"#STIXGeneral-Regular-40\"/>\n     <use transform=\"translate(215.649323 0.40625)\" xlink:href=\"#STIXGeneral-Regular-48\"/>\n     <use transform=\"translate(265.649307 0.40625)\" xlink:href=\"#STIXGeneral-Regular-46\"/>\n     <use transform=\"translate(290.649292 0.40625)\" xlink:href=\"#STIXGeneral-Regular-49\"/>\n     <use transform=\"translate(340.649277 0.40625)\" xlink:href=\"#STIXGeneral-Regular-44\"/>\n     <use transform=\"translate(365.649261 0.40625)\" xlink:href=\"#STIXGeneral-Regular-32\"/>\n     <use transform=\"translate(390.649246 0.40625)\" xlink:href=\"#STIXGeneral-Regular-48\"/>\n     <use transform=\"translate(440.649231 0.40625)\" xlink:href=\"#STIXGeneral-Regular-46\"/>\n     <use transform=\"translate(465.649216 0.40625)\" xlink:href=\"#STIXGeneral-Regular-49\"/>\n     <use transform=\"translate(515.6492 0.40625)\" xlink:href=\"#STIXGeneral-Regular-44\"/>\n     <use transform=\"translate(540.649185 0.40625)\" xlink:href=\"#STIXGeneral-Regular-32\"/>\n     <use transform=\"translate(565.64917 0.40625)\" xlink:href=\"#STIXGeneral-Regular-48\"/>\n     <use transform=\"translate(615.649155 0.40625)\" xlink:href=\"#STIXGeneral-Regular-46\"/>\n     <use transform=\"translate(640.649139 0.40625)\" xlink:href=\"#STIXGeneral-Regular-49\"/>\n     <use transform=\"translate(690.649124 0.40625)\" xlink:href=\"#STIXGeneral-Regular-41\"/>\n    </g>\n   </g>\n   <g id=\"legend_1\">\n    <g id=\"patch_12\">\n     <path d=\"M 449.375521 78.513875 \nL 574.592396 78.513875 \nL 574.592396 38.137 \nL 449.375521 38.137 \nz\n\" style=\"fill:#ffffff;stroke:#000000;stroke-linejoin:miter;\"/>\n    </g>\n    <g id=\"line2d_104\">\n     <path d=\"M 459.175521 48.637 \nL 491.375521 48.637 \n\" style=\"fill:none;stroke:#1f77b4;stroke-dasharray:6,0;stroke-dashoffset:0;stroke-width:1.5;\"/>\n    </g>\n    <g id=\"line2d_105\"/>\n    <g id=\"text_42\">\n     <!-- $n_\\mathrm{rows}=3$ -->\n     <defs>\n      <path d=\"M 46 11.703125 \nL 47.40625 10.40625 \nQ 42.296875 3.40625 39.59375 1.25 \nQ 36.90625 -0.90625 33.40625 -0.90625 \nQ 31.40625 -0.90625 30.046875 0.4375 \nQ 28.703125 1.796875 28.703125 4.5 \nQ 28.703125 6.09375 30.296875 12 \nL 34.703125 28.203125 \nQ 36.09375 33.59375 36.09375 36.09375 \nQ 36.09375 39 33.703125 39 \nQ 30.796875 39 27.34375 35.546875 \nQ 23.90625 32.09375 18.90625 24.796875 \nQ 15.59375 19.90625 14.046875 16 \nQ 12.5 12.09375 8.90625 0 \nL 1.40625 0 \nL 11 35 \nQ 11.203125 36 11.203125 36.703125 \nQ 11.203125 38.203125 9.84375 38.75 \nQ 8.5 39.296875 4.703125 39.40625 \nL 4.703125 41 \nQ 8.59375 41.796875 13.390625 42.640625 \nQ 18.203125 43.5 20.90625 44.09375 \nL 21.296875 43.90625 \nL 14.59375 22.09375 \nQ 22 33.90625 27.390625 39 \nQ 32.796875 44.09375 37.703125 44.09375 \nQ 40.796875 44.09375 42.5 42.4375 \nQ 44.203125 40.796875 44.203125 38 \nQ 44.203125 35.5 43.203125 32 \nL 37.59375 11.703125 \nQ 36.203125 6.703125 36.203125 5.59375 \nQ 36.203125 3.796875 37.796875 3.796875 \nQ 39.703125 3.796875 43.90625 9.09375 \nQ 44.59375 9.90625 46 11.703125 \nz\n\" id=\"STIXGeneral-Italic-110\"/>\n      <path d=\"M 16 45.796875 \nL 16 36.59375 \nQ 19.796875 42 22.34375 44 \nQ 24.90625 46 28 46 \nQ 30.59375 46 32.046875 44.59375 \nQ 33.5 43.203125 33.5 40.703125 \nQ 33.5 38.59375 32.453125 37.390625 \nQ 31.40625 36.203125 29.59375 36.203125 \nQ 27.703125 36.203125 25.59375 38.203125 \nQ 24 39.703125 23 39.703125 \nQ 20.90625 39.703125 18.453125 36.796875 \nQ 16 33.90625 16 31.5 \nL 16 9 \nQ 16 4.703125 17.703125 3.203125 \nQ 19.40625 1.703125 24.5 1.5 \nL 24.5 0 \nL 0.5 0 \nL 0.5 1.5 \nQ 5.296875 2.40625 6.4375 3.5 \nQ 7.59375 4.59375 7.59375 8.40625 \nL 7.59375 33.40625 \nQ 7.59375 36.703125 6.84375 38.046875 \nQ 6.09375 39.40625 4.203125 39.40625 \nQ 2.59375 39.40625 0.703125 39 \nL 0.703125 40.59375 \nQ 7 42.59375 15.5 46 \nz\n\" id=\"STIXGeneral-Regular-114\"/>\n      <path d=\"M 47 23.09375 \nQ 47 12.59375 40.75 5.796875 \nQ 34.5 -1 24.5 -1 \nQ 15.296875 -1 9.09375 5.75 \nQ 2.90625 12.5 2.90625 22.796875 \nQ 2.90625 33.203125 9.09375 39.59375 \nQ 15.296875 46 25.40625 46 \nQ 34.703125 46 40.84375 39.640625 \nQ 47 33.296875 47 23.09375 \nz\nM 38 20.40625 \nQ 38 31.796875 33 38.203125 \nQ 29 43.203125 23.5 43.203125 \nQ 18.296875 43.203125 15.09375 38.953125 \nQ 11.90625 34.703125 11.90625 27.296875 \nQ 11.90625 14.5 17.203125 6.796875 \nQ 20.59375 1.796875 26.203125 1.796875 \nQ 31.703125 1.796875 34.84375 6.75 \nQ 38 11.703125 38 20.40625 \nz\n\" id=\"STIXGeneral-Regular-111\"/>\n      <path d=\"M 69.40625 45 \nL 69.40625 43.5 \nQ 67.90625 43 67.203125 42.046875 \nQ 66.5 41.09375 65.296875 38.09375 \nL 51.5 3.5 \nQ 49.5 -1.40625 48.703125 -1.40625 \nQ 48.203125 -1.40625 47.84375 -0.75 \nQ 47.5 -0.09375 46.296875 2.90625 \nL 37.203125 26.5 \nL 26 2.5 \nQ 24.203125 -1.40625 23.5 -1.40625 \nQ 22.59375 -1.40625 20.90625 3 \nL 7.40625 37.203125 \nQ 5.90625 41.09375 4.90625 42.1875 \nQ 3.90625 43.296875 2.09375 43.5 \nL 2.09375 45 \nL 20.09375 45 \nL 20.09375 43.5 \nQ 17.5 43.203125 16.5 42.5 \nQ 15.5 41.796875 15.5 40.203125 \nQ 15.5 38.703125 16.09375 37.203125 \nL 26 11.09375 \nL 35.09375 31 \nL 33.09375 36.59375 \nQ 31.703125 40.59375 30.34375 41.890625 \nQ 29 43.203125 26.203125 43.5 \nL 26.203125 45 \nL 46.5 45 \nL 46.5 43.5 \nQ 43 43 41.84375 42.296875 \nQ 40.703125 41.59375 40.703125 40 \nQ 40.703125 38.40625 42.40625 34 \nL 50.796875 11.59375 \nL 59.796875 33.796875 \nQ 61.5 38 61.5 40.5 \nQ 61.5 41.703125 60.546875 42.34375 \nQ 59.59375 43 57.09375 43.5 \nL 57.09375 45 \nz\n\" id=\"STIXGeneral-Regular-119\"/>\n      <path d=\"M 15.59375 30.09375 \nL 26 23.796875 \nQ 31 20.796875 32.890625 18.1875 \nQ 34.796875 15.59375 34.796875 11.5 \nQ 34.796875 6.5 30.640625 2.75 \nQ 26.5 -1 20.796875 -1 \nQ 16.09375 -1 13.5 -0.09375 \nQ 10.796875 0.796875 8.90625 0.796875 \nQ 7.203125 0.796875 6.5 -0.40625 \nL 5.203125 -0.40625 \nL 5.203125 15.296875 \nL 6.796875 15.296875 \nQ 8.40625 8 11.40625 4.59375 \nQ 14.40625 1.203125 19.5 1.203125 \nQ 23.203125 1.203125 25.5 3.296875 \nQ 27.796875 5.40625 27.796875 8.59375 \nQ 27.796875 13.203125 22.5 16.09375 \nL 17.09375 19.09375 \nQ 5.09375 25.796875 5.09375 33.59375 \nQ 5.09375 39.40625 8.84375 42.65625 \nQ 12.59375 45.90625 18.90625 45.90625 \nQ 23.296875 45.90625 25.59375 44.796875 \nQ 27.40625 44 28.40625 44 \nQ 29.09375 44 30 45 \nL 31.09375 45 \nL 31.59375 31.40625 \nL 30.09375 31.40625 \nQ 28.40625 38.203125 25.84375 40.953125 \nQ 23.296875 43.703125 18.796875 43.703125 \nQ 15.40625 43.703125 13.34375 42 \nQ 11.296875 40.296875 11.296875 36.90625 \nQ 11.296875 35.203125 12.4375 33.25 \nQ 13.59375 31.296875 15.59375 30.09375 \nz\n\" id=\"STIXGeneral-Regular-115\"/>\n     </defs>\n     <g transform=\"translate(506.775521 53.537)scale(0.14 -0.14)\">\n      <use transform=\"translate(0 0.40625)\" xlink:href=\"#STIXGeneral-Italic-110\"/>\n      <use transform=\"translate(49.999985 -12.821875)scale(0.7)\" xlink:href=\"#STIXGeneral-Regular-114\"/>\n      <use transform=\"translate(73.309976 -12.821875)scale(0.7)\" xlink:href=\"#STIXGeneral-Regular-111\"/>\n      <use transform=\"translate(108.309966 -12.821875)scale(0.7)\" xlink:href=\"#STIXGeneral-Regular-119\"/>\n      <use transform=\"translate(158.849953 -12.821875)scale(0.7)\" xlink:href=\"#STIXGeneral-Regular-115\"/>\n      <use transform=\"translate(204.92932 0.40625)\" xlink:href=\"#STIXGeneral-Regular-61\"/>\n      <use transform=\"translate(287.869301 0.40625)\" xlink:href=\"#STIXGeneral-Regular-51\"/>\n     </g>\n    </g>\n    <g id=\"line2d_106\">\n     <path d=\"M 459.175521 64.975437 \nL 491.375521 64.975437 \n\" style=\"fill:none;stroke:#ff7f0e;stroke-dasharray:6,2;stroke-dashoffset:0;stroke-width:1.5;\"/>\n    </g>\n    <g id=\"line2d_107\"/>\n    <g id=\"text_43\">\n     <!-- frictionless -->\n     <defs>\n      <path d=\"M 2.09375 45 \nL 10.296875 45 \nQ 10.40625 51 11.09375 54.34375 \nQ 11.796875 57.703125 13.796875 61.09375 \nQ 18 68.296875 27.90625 68.296875 \nQ 32.40625 68.296875 35.34375 66.546875 \nQ 38.296875 64.796875 38.296875 62.09375 \nQ 38.296875 60.40625 37.09375 59.203125 \nQ 35.90625 58 34.09375 58 \nQ 31.703125 58 29.59375 61.59375 \nQ 27.203125 65.5 24.296875 65.5 \nQ 18.703125 65.5 18.703125 56.59375 \nL 18.703125 45 \nL 30.90625 45 \nL 30.90625 41.796875 \nL 18.703125 41.796875 \nL 18.703125 10.40625 \nQ 18.703125 4.796875 20.296875 3.25 \nQ 21.90625 1.703125 28 1.5 \nL 28 0 \nL 2 0 \nL 2 1.5 \nQ 7.40625 1.796875 8.84375 3.34375 \nQ 10.296875 4.90625 10.296875 10.40625 \nL 10.296875 41.796875 \nL 2.09375 41.796875 \nz\n\" id=\"STIXGeneral-Regular-102\"/>\n      <path d=\"M 18 63.203125 \nQ 18 61 16.5 59.546875 \nQ 15 58.09375 12.796875 58.09375 \nQ 10.703125 58.09375 9.25 59.546875 \nQ 7.796875 61 7.796875 63.203125 \nQ 7.796875 65.296875 9.296875 66.796875 \nQ 10.796875 68.296875 12.90625 68.296875 \nQ 15.09375 68.296875 16.546875 66.796875 \nQ 18 65.296875 18 63.203125 \nz\nM 25.296875 0 \nL 1.59375 0 \nL 1.59375 1.5 \nQ 6.796875 1.796875 8.140625 3.296875 \nQ 9.5 4.796875 9.5 10.40625 \nL 9.5 33.09375 \nQ 9.5 36.59375 8.796875 38 \nQ 8.09375 39.40625 6.203125 39.40625 \nQ 3.796875 39.40625 2 38.90625 \nL 2 40.5 \nL 17.5 46 \nL 17.90625 45.59375 \nL 17.90625 10.5 \nQ 17.90625 4.90625 19.15625 3.40625 \nQ 20.40625 1.90625 25.296875 1.5 \nz\n\" id=\"STIXGeneral-Regular-105\"/>\n      <path d=\"M 39.796875 15.59375 \nL 41.203125 14.703125 \nQ 36.90625 6.296875 33 3.203125 \nQ 27.90625 -1 21.5 -1 \nQ 13.203125 -1 7.84375 5.25 \nQ 2.5 11.5 2.5 21.203125 \nQ 2.5 33.90625 10.90625 40.90625 \nQ 17.09375 46 24.40625 46 \nQ 30.703125 46 35.25 42.953125 \nQ 39.796875 39.90625 39.796875 35.703125 \nQ 39.796875 34 38.390625 32.75 \nQ 37 31.5 35.09375 31.5 \nQ 31.59375 31.5 30.296875 36.09375 \nL 29.703125 38.296875 \nQ 28.90625 41.09375 27.703125 42.09375 \nQ 26.5 43.09375 23.796875 43.09375 \nQ 17.703125 43.09375 13.953125 38.296875 \nQ 10.203125 33.5 10.203125 25.703125 \nQ 10.203125 17.09375 14.5 11.640625 \nQ 18.796875 6.203125 25.703125 6.203125 \nQ 30 6.203125 33.09375 8.25 \nQ 36.203125 10.296875 39.796875 15.59375 \nz\n\" id=\"STIXGeneral-Regular-99\"/>\n      <path d=\"M 26.59375 7.703125 \nL 27.90625 6.59375 \nQ 23.09375 -1 15.796875 -1 \nQ 7 -1 7 11.703125 \nL 7 41.796875 \nL 1.703125 41.796875 \nQ 1.296875 42.09375 1.296875 42.5 \nQ 1.296875 43.296875 3 44.40625 \nQ 6.796875 46.59375 12.703125 55.09375 \nQ 12.90625 55.40625 13.65625 56.34375 \nQ 14.40625 57.296875 14.703125 57.90625 \nQ 15.40625 57.90625 15.40625 56.59375 \nL 15.40625 45 \nL 25.5 45 \nL 25.5 41.796875 \nL 15.40625 41.796875 \nL 15.40625 13.203125 \nQ 15.40625 8.40625 16.59375 6.296875 \nQ 17.796875 4.203125 20.59375 4.203125 \nQ 23.59375 4.203125 26.59375 7.703125 \nz\n\" id=\"STIXGeneral-Regular-116\"/>\n      <path d=\"M 48.5 0 \nL 27.703125 0 \nL 27.796875 1.5 \nQ 31.5 1.796875 32.75 3.640625 \nQ 34 5.5 34 10.5 \nL 34 30.40625 \nQ 34 40.5 26.703125 40.5 \nQ 24.203125 40.5 22 39.296875 \nQ 19.796875 38.09375 16.40625 34.796875 \nL 16.40625 7.203125 \nQ 16.40625 4.203125 17.75 3 \nQ 19.09375 1.796875 22.90625 1.5 \nL 22.90625 0 \nL 1.796875 0 \nL 1.796875 1.5 \nQ 5.59375 1.796875 6.796875 3.34375 \nQ 8 4.90625 8 9.40625 \nL 8 33.703125 \nQ 8 37.40625 7.296875 38.796875 \nQ 6.59375 40.203125 4.5 40.203125 \nQ 2.5 40.203125 1.59375 39.796875 \nL 1.59375 41.5 \nQ 8.59375 43.5 15.296875 46 \nL 16.09375 45.703125 \nL 16.09375 37.90625 \nL 16.203125 37.90625 \nQ 23.296875 46 30.59375 46 \nQ 36.296875 46 39.34375 42 \nQ 42.40625 38 42.40625 30.59375 \nL 42.40625 8.5 \nQ 42.40625 4.5 43.59375 3.203125 \nQ 44.796875 1.90625 48.5 1.5 \nz\n\" id=\"STIXGeneral-Regular-110\"/>\n      <path d=\"M 25.703125 0 \nL 2.09375 0 \nL 2.09375 1.5 \nQ 6.796875 1.90625 8.296875 3.453125 \nQ 9.796875 5 9.796875 9.203125 \nL 9.796875 56.09375 \nQ 9.796875 59.703125 8.890625 61.09375 \nQ 8 62.5 5.59375 62.5 \nQ 3.5 62.5 1.90625 62.296875 \nL 1.90625 63.90625 \nQ 11.40625 66.203125 17.703125 68.296875 \nL 18.203125 67.90625 \nL 18.203125 8.703125 \nQ 18.203125 4.5 19.59375 3.140625 \nQ 21 1.796875 25.703125 1.5 \nz\n\" id=\"STIXGeneral-Regular-108\"/>\n      <path d=\"M 40.796875 16.40625 \nL 42.40625 15.703125 \nQ 36.40625 -1 21.5 -1 \nQ 12.703125 -1 7.59375 5.140625 \nQ 2.5 11.296875 2.5 21.703125 \nQ 2.5 32.40625 8.203125 39.203125 \nQ 13.90625 46 23.203125 46 \nQ 32.203125 46 37.09375 39.09375 \nQ 40 35.09375 40.5 27.703125 \nL 9.703125 27.703125 \nQ 10.09375 21.40625 10.9375 18.09375 \nQ 11.796875 14.796875 14.296875 11.40625 \nQ 18.5 5.90625 25.40625 5.90625 \nQ 30.296875 5.90625 33.640625 8.296875 \nQ 37 10.703125 40.796875 16.40625 \nz\nM 9.90625 30.90625 \nL 30.296875 30.90625 \nQ 29.40625 37.203125 27.34375 39.796875 \nQ 25.296875 42.40625 20.5 42.40625 \nQ 16.296875 42.40625 13.5 39.453125 \nQ 10.703125 36.5 9.90625 30.90625 \nz\n\" id=\"STIXGeneral-Regular-101\"/>\n     </defs>\n     <g transform=\"translate(506.775521 69.875437)scale(0.14 -0.14)\">\n      <use xlink:href=\"#STIXGeneral-Regular-102\"/>\n      <use x=\"33.299988\" xlink:href=\"#STIXGeneral-Regular-114\"/>\n      <use x=\"66.599976\" xlink:href=\"#STIXGeneral-Regular-105\"/>\n      <use x=\"94.399963\" xlink:href=\"#STIXGeneral-Regular-99\"/>\n      <use x=\"138.799957\" xlink:href=\"#STIXGeneral-Regular-116\"/>\n      <use x=\"166.599945\" xlink:href=\"#STIXGeneral-Regular-105\"/>\n      <use x=\"194.399933\" xlink:href=\"#STIXGeneral-Regular-111\"/>\n      <use x=\"244.399918\" xlink:href=\"#STIXGeneral-Regular-110\"/>\n      <use x=\"294.399902\" xlink:href=\"#STIXGeneral-Regular-108\"/>\n      <use x=\"322.19989\" xlink:href=\"#STIXGeneral-Regular-101\"/>\n      <use x=\"366.599884\" xlink:href=\"#STIXGeneral-Regular-115\"/>\n      <use x=\"405.499878\" xlink:href=\"#STIXGeneral-Regular-115\"/>\n     </g>\n    </g>\n   </g>\n  </g>\n </g>\n <defs>\n  <clipPath id=\"p1dd0ebee00\">\n   <rect height=\"262.44\" width=\"326.488479\" x=\"60.384\" y=\"31.137\"/>\n  </clipPath>\n  <clipPath id=\"pa9fa95f1ed\">\n   <rect height=\"262.44\" width=\"326.488479\" x=\"442.375521\" y=\"31.137\"/>\n  </clipPath>\n </defs>\n</svg>\n"
          },
          "metadata": {}
        }
      ]
    },
    {
      "cell_type": "code",
      "source": [
        "E_star = ys_vec[:,1]\n",
        "E_star_period = E_star[-1] - E_star[-ppp] # dimensionless energy in a tidal period\n",
        "E_turb = E_star_period * cfg.Θ_E          # convert to Joule\n",
        "P_turb = E_turb / cfg.T * 1E-6            # Mean power converted to MW\n",
        "\n",
        "printmd( r\"$P_\\text{turbs}^\\text{farm} = %.2f\\,\\text{MW}$\" % P_turb )"
      ],
      "metadata": {
        "id": "WWBZpir1GWHI",
        "outputId": "6c5145c2-0d97-4ae7-8338-e5fcf5ded628",
        "colab": {
          "base_uri": "https://localhost:8080/",
          "height": 51
        }
      },
      "execution_count": 48,
      "outputs": [
        {
          "output_type": "display_data",
          "data": {
            "text/plain": [
              "<IPython.core.display.Markdown object>"
            ],
            "text/markdown": "$P_\\text{turbs}^\\text{farm} = 167.79\\,\\text{MW}$"
          },
          "metadata": {}
        }
      ]
    },
    {
      "cell_type": "code",
      "source": [
        ""
      ],
      "metadata": {
        "id": "2pr8zEZT59iC"
      },
      "execution_count": null,
      "outputs": []
    }
  ]
}