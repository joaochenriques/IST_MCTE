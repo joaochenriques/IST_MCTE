{
  "nbformat": 4,
  "nbformat_minor": 0,
  "metadata": {
    "colab": {
      "name": "DiskActuatorDerivation.ipynb",
      "provenance": [],
      "include_colab_link": true
    },
    "kernelspec": {
      "name": "python3",
      "display_name": "Python 3"
    },
    "language_info": {
      "name": "python"
    }
  },
  "cells": [
    {
      "cell_type": "markdown",
      "metadata": {
        "id": "view-in-github",
        "colab_type": "text"
      },
      "source": [
        "<a href=\"https://colab.research.google.com/github/joaochenriques/IST_MCTE/blob/main/DiskActuator/DiskActuatorDerivation_2023.ipynb\" target=\"_parent\"><img src=\"https://colab.research.google.com/assets/colab-badge.svg\" alt=\"Open In Colab\"/></a>"
      ]
    },
    {
      "cell_type": "code",
      "metadata": {
        "id": "BmAkVzVmeipL"
      },
      "source": [
        "from sympy import *\n",
        "from sympy.printing.lambdarepr import lambdarepr"
      ],
      "execution_count": 1,
      "outputs": []
    },
    {
      "cell_type": "code",
      "metadata": {
        "id": "XKLQk-_egk-f"
      },
      "source": [
        "h1, h2t, h3t, h4, h4t, h4b, h5 = symbols( r\"h_1, h_\\mathrm{2t}, h_\\mathrm{3t}, h_4, h_\\mathrm{4t}, h_\\mathrm{4b}, h_5\" )"
      ],
      "execution_count": 2,
      "outputs": []
    },
    {
      "cell_type": "code",
      "metadata": {
        "id": "DwHmqFqWhihr"
      },
      "source": [
        "u1, u2t, u3t, u4b, u4t, u5 = symbols( r\"u_1, u_\\mathrm{2t}, u_\\mathrm{3t}, u_\\mathrm{4b}, u_\\mathrm{4t}, u_5\" )"
      ],
      "execution_count": 3,
      "outputs": []
    },
    {
      "cell_type": "code",
      "metadata": {
        "id": "9Xfv1EsAvVLg"
      },
      "source": [
        "ρ, g, T, ht, C_T, C_P = symbols( r\"\\rho, g, T, h_\\mathrm{t}, C_\\mathrm{T}, C_\\mathrm{P}\" )"
      ],
      "execution_count": 4,
      "outputs": []
    },
    {
      "cell_type": "markdown",
      "metadata": {
        "id": "VnMCLPv_o-OP"
      },
      "source": [
        "Generic definitions used in substitutions"
      ]
    },
    {
      "cell_type": "markdown",
      "metadata": {
        "id": "PbcO62IIoPFs"
      },
      "source": [
        "# Bernoulli equations \n",
        "\n",
        "<img src=\"https://raw.githubusercontent.com/joaochenriques/MCTE_2020_2021/main/DiskActuator/figs/domain_V2.svg\" width=\"500px\" style=\"display:inline\">"
      ]
    },
    {
      "cell_type": "code",
      "metadata": {
        "id": "eVIEUqJbkjrn",
        "colab": {
          "base_uri": "https://localhost:8080/",
          "height": 57
        },
        "outputId": "c060e99b-d6f0-41a8-b62b-d60d46c7dbc0"
      },
      "source": [
        "eqA1 = Eq( h1 + u1**2/(2*g), h4 + u4b**2/(2*g) )\n",
        "eqA1"
      ],
      "execution_count": 5,
      "outputs": [
        {
          "output_type": "execute_result",
          "data": {
            "text/plain": [
              "Eq(h_1 + u_1**2/(2*g), h_4 + u_\\mathrm{4b}**2/(2*g))"
            ],
            "text/latex": "$\\displaystyle h_{1} + \\frac{u_{1}^{2}}{2 g} = h_{4} + \\frac{u_\\mathrm{4b}^{2}}{2 g}$"
          },
          "metadata": {},
          "execution_count": 5
        }
      ]
    },
    {
      "cell_type": "code",
      "metadata": {
        "id": "CtOFm53Kkw62",
        "colab": {
          "base_uri": "https://localhost:8080/",
          "height": 57
        },
        "outputId": "42dc96ad-4a44-4e8f-d4da-4f235c879ff3"
      },
      "source": [
        "eqB1 = Eq( h1 + u1**2/(2*g), h2t + u2t**2/(2*g) )\n",
        "eqB1"
      ],
      "execution_count": 6,
      "outputs": [
        {
          "output_type": "execute_result",
          "data": {
            "text/plain": [
              "Eq(h_1 + u_1**2/(2*g), h_\\mathrm{2t} + u_\\mathrm{2t}**2/(2*g))"
            ],
            "text/latex": "$\\displaystyle h_{1} + \\frac{u_{1}^{2}}{2 g} = h_\\mathrm{2t} + \\frac{u_\\mathrm{2t}^{2}}{2 g}$"
          },
          "metadata": {},
          "execution_count": 6
        }
      ]
    },
    {
      "cell_type": "code",
      "metadata": {
        "id": "nCgu5IFZk26N",
        "colab": {
          "base_uri": "https://localhost:8080/",
          "height": 57
        },
        "outputId": "c80cd4b7-a9c6-4c81-a85f-7fb9fbca3c1c"
      },
      "source": [
        "eqC1 = Eq( h3t + u3t**2/(2*g), h4 + u4t**2/(2*g) )\n",
        "eqC1"
      ],
      "execution_count": 7,
      "outputs": [
        {
          "output_type": "execute_result",
          "data": {
            "text/plain": [
              "Eq(h_\\mathrm{3t} + u_\\mathrm{3t}**2/(2*g), h_4 + u_\\mathrm{4t}**2/(2*g))"
            ],
            "text/latex": "$\\displaystyle h_\\mathrm{3t} + \\frac{u_\\mathrm{3t}^{2}}{2 g} = h_{4} + \\frac{u_\\mathrm{4t}^{2}}{2 g}$"
          },
          "metadata": {},
          "execution_count": 7
        }
      ]
    },
    {
      "cell_type": "code",
      "metadata": {
        "id": "oYkbo3Udk8dd",
        "colab": {
          "base_uri": "https://localhost:8080/",
          "height": 55
        },
        "outputId": "713b4ff8-a257-4f52-ef00-99fbf095a2e1"
      },
      "source": [
        "eqD1 = Eq( T/(ρ*g*ht*b), (h2t-h3t) )\n",
        "eqD1"
      ],
      "execution_count": 21,
      "outputs": [
        {
          "output_type": "execute_result",
          "data": {
            "text/plain": [
              "Eq(T/(\\rho*b*g*h_\\mathrm{t}), h_\\mathrm{2t} - h_\\mathrm{3t})"
            ],
            "text/latex": "$\\displaystyle \\frac{T}{\\rho b g h_\\mathrm{t}} = h_\\mathrm{2t} - h_\\mathrm{3t}$"
          },
          "metadata": {},
          "execution_count": 21
        }
      ]
    },
    {
      "cell_type": "code",
      "metadata": {
        "colab": {
          "base_uri": "https://localhost:8080/",
          "height": 57
        },
        "id": "fXR-jNqDNtfI",
        "outputId": "d54669df-cea1-480f-d727-4bc1e29e3c98"
      },
      "source": [
        "eqF1 = Eq( eqA1.rhs - eqC1.rhs, eqB1.rhs - eqC1.lhs ).subs( u2t, u3t )\n",
        "eqF1 "
      ],
      "execution_count": 12,
      "outputs": [
        {
          "output_type": "execute_result",
          "data": {
            "text/plain": [
              "Eq(u_\\mathrm{4b}**2/(2*g) - u_\\mathrm{4t}**2/(2*g), h_\\mathrm{2t} - h_\\mathrm{3t})"
            ],
            "text/latex": "$\\displaystyle \\frac{u_\\mathrm{4b}^{2}}{2 g} - \\frac{u_\\mathrm{4t}^{2}}{2 g} = h_\\mathrm{2t} - h_\\mathrm{3t}$"
          },
          "metadata": {},
          "execution_count": 12
        }
      ]
    },
    {
      "cell_type": "code",
      "source": [
        "eqG1 = Eq( eqD1.lhs*(ρ*g*ht*b), eqF1.lhs*(ρ*g*ht*b) )\n",
        "eqG1"
      ],
      "metadata": {
        "id": "Kshcju861m1L",
        "outputId": "f6868560-5bd9-4de2-f5b2-bf0da37c5bbc",
        "colab": {
          "base_uri": "https://localhost:8080/",
          "height": 58
        }
      },
      "execution_count": 24,
      "outputs": [
        {
          "output_type": "execute_result",
          "data": {
            "text/plain": [
              "Eq(T, \\rho*b*g*h_\\mathrm{t}*(u_\\mathrm{4b}**2/(2*g) - u_\\mathrm{4t}**2/(2*g)))"
            ],
            "text/latex": "$\\displaystyle T = \\rho b g h_\\mathrm{t} \\left(\\frac{u_\\mathrm{4b}^{2}}{2 g} - \\frac{u_\\mathrm{4t}^{2}}{2 g}\\right)$"
          },
          "metadata": {},
          "execution_count": 24
        }
      ]
    },
    {
      "cell_type": "markdown",
      "metadata": {
        "id": "ED6VuDFkwibl"
      },
      "source": [
        "# Mass balance"
      ]
    },
    {
      "cell_type": "code",
      "metadata": {
        "colab": {
          "base_uri": "https://localhost:8080/",
          "height": 39
        },
        "id": "YeLktTPENkkH",
        "outputId": "eb2b0eba-5e81-4b8a-83e9-7a6db1e19e5e"
      },
      "source": [
        "eqH1 = Eq( u4b * h4b + u4t * h4t, u1*h1 )\n",
        "eqH1"
      ],
      "execution_count": 13,
      "outputs": [
        {
          "output_type": "execute_result",
          "data": {
            "text/plain": [
              "Eq(h_\\mathrm{4b}*u_\\mathrm{4b} + h_\\mathrm{4t}*u_\\mathrm{4t}, h_1*u_1)"
            ],
            "text/latex": "$\\displaystyle h_\\mathrm{4b} u_\\mathrm{4b} + h_\\mathrm{4t} u_\\mathrm{4t} = h_{1} u_{1}$"
          },
          "metadata": {},
          "execution_count": 13
        }
      ]
    },
    {
      "cell_type": "markdown",
      "metadata": {
        "id": "dh2m4JXLoqxx"
      },
      "source": [
        "# Momentum balance"
      ]
    },
    {
      "cell_type": "code",
      "metadata": {
        "id": "Lb1Giyebo6Af"
      },
      "source": [
        "b, B = symbols( \"b, B\" )\n",
        "M4t, M4b, M1, Fp4, Fp1 = symbols( \"M_\\mathrm{4t}, M_\\mathrm{4b}, M_{1}, F_\\mathrm{p4}, F_\\mathrm{p1}\")"
      ],
      "execution_count": 14,
      "outputs": []
    },
    {
      "cell_type": "code",
      "metadata": {
        "colab": {
          "base_uri": "https://localhost:8080/",
          "height": 58
        },
        "id": "RKX8dqxHNvp3",
        "outputId": "65e5630c-7943-4a0a-c5f7-c0817d9cdaec"
      },
      "source": [
        "eqI1 = Eq( M4b + M4t - M1, -(Fp4-Fp1) - T )\n",
        "eqI1"
      ],
      "execution_count": 25,
      "outputs": [
        {
          "output_type": "execute_result",
          "data": {
            "text/plain": [
              "Eq(M_\\mathrm{4b} + M_\\mathrm{4t} - M_{1}, F_\\mathrm{p1} - F_\\mathrm{p4} - \\rho*b*g*h_\\mathrm{t}*(u_\\mathrm{4b}**2/(2*g) - u_\\mathrm{4t}**2/(2*g)))"
            ],
            "text/latex": "$\\displaystyle M_\\mathrm{4b} + M_\\mathrm{4t} - M_{1} = F_\\mathrm{p1} - F_\\mathrm{p4} - \\rho b g h_\\mathrm{t} \\left(\\frac{u_\\mathrm{4b}^{2}}{2 g} - \\frac{u_\\mathrm{4t}^{2}}{2 g}\\right)$"
          },
          "metadata": {},
          "execution_count": 25
        }
      ]
    },
    {
      "cell_type": "code",
      "metadata": {
        "colab": {
          "base_uri": "https://localhost:8080/",
          "height": 58
        },
        "id": "mf90DKLa69wd",
        "outputId": "54383d1c-6eb5-48e0-fb09-dd3b4c43a729"
      },
      "source": [
        "eqI2 = eqI1.subs( M4b, ρ*u4b**2*h4b*b).subs( M4t, ρ*u4t**2*h4t*b)\\\n",
        "          .subs( M1, ρ*u1**2*h1*b ).subs( Fp1, ρ*g*b*h1**2/2 )\\\n",
        "          .subs( Fp4, ρ*g*b*h4**2/2 ).subs( T, eqG1.rhs )\n",
        "eqI2"
      ],
      "execution_count": 27,
      "outputs": [
        {
          "output_type": "execute_result",
          "data": {
            "text/plain": [
              "Eq(-\\rho*b*h_1*u_1**2 + \\rho*b*h_\\mathrm{4b}*u_\\mathrm{4b}**2 + \\rho*b*h_\\mathrm{4t}*u_\\mathrm{4t}**2, \\rho*b*g*h_1**2/2 - \\rho*b*g*h_4**2/2 - \\rho*b*g*h_\\mathrm{t}*(u_\\mathrm{4b}**2/(2*g) - u_\\mathrm{4t}**2/(2*g)))"
            ],
            "text/latex": "$\\displaystyle - \\rho b h_{1} u_{1}^{2} + \\rho b h_\\mathrm{4b} u_\\mathrm{4b}^{2} + \\rho b h_\\mathrm{4t} u_\\mathrm{4t}^{2} = \\frac{\\rho b g h_{1}^{2}}{2} - \\frac{\\rho b g h_{4}^{2}}{2} - \\rho b g h_\\mathrm{t} \\left(\\frac{u_\\mathrm{4b}^{2}}{2 g} - \\frac{u_\\mathrm{4t}^{2}}{2 g}\\right)$"
          },
          "metadata": {},
          "execution_count": 27
        }
      ]
    },
    {
      "cell_type": "markdown",
      "metadata": {
        "id": "MNMSI3AqoQSQ"
      },
      "source": [
        "Knowing that Blockage factor  $A_\\mathrm{t}=B\\,bh_1$"
      ]
    },
    {
      "cell_type": "code",
      "metadata": {
        "colab": {
          "base_uri": "https://localhost:8080/",
          "height": 54
        },
        "id": "bYrt4jHH9Tpg",
        "outputId": "49a1bfd4-775f-474b-c524-7fee8a306e50"
      },
      "source": [
        "eqI3 = expand( Eq( eqI2.lhs / ( ρ*b ), eqI2.rhs / ( ρ*b ) ) ).subs( b*h1, ht/B)\n",
        "eqI3"
      ],
      "execution_count": 28,
      "outputs": [
        {
          "output_type": "execute_result",
          "data": {
            "text/plain": [
              "Eq(-h_1*u_1**2 + h_\\mathrm{4b}*u_\\mathrm{4b}**2 + h_\\mathrm{4t}*u_\\mathrm{4t}**2, g*h_1**2/2 - g*h_4**2/2 - h_\\mathrm{t}*u_\\mathrm{4b}**2/2 + h_\\mathrm{t}*u_\\mathrm{4t}**2/2)"
            ],
            "text/latex": "$\\displaystyle - h_{1} u_{1}^{2} + h_\\mathrm{4b} u_\\mathrm{4b}^{2} + h_\\mathrm{4t} u_\\mathrm{4t}^{2} = \\frac{g h_{1}^{2}}{2} - \\frac{g h_{4}^{2}}{2} - \\frac{h_\\mathrm{t} u_\\mathrm{4b}^{2}}{2} + \\frac{h_\\mathrm{t} u_\\mathrm{4t}^{2}}{2}$"
          },
          "metadata": {},
          "execution_count": 28
        }
      ]
    },
    {
      "cell_type": "markdown",
      "metadata": {
        "id": "Qf5ZZ9xcDZvC"
      },
      "source": [
        "Specifying:\n",
        "\n",
        "* Blockage factor $0 \\le B \\lt 1$\n",
        "* Upstream Froude number $\\mathrm{Fr}_1$\n",
        "* Bypass Froude number $\\mathrm{Fr}_\\mathrm{4b}$\n",
        "* $\\eta_4$ is computed from\n",
        "\n",
        "$$ \\eta_4 = \\frac{\\mathrm{Fr}_{1}^2}{2}-\\frac{\\mathrm{Fr}_\\mathrm{4b}^2}{2} + 1$$"
      ]
    },
    {
      "cell_type": "code",
      "metadata": {
        "colab": {
          "base_uri": "https://localhost:8080/",
          "height": 57
        },
        "id": "BG-to7QfCGo1",
        "outputId": "5bba07e9-9f08-497b-f3f6-15da3e86ab56"
      },
      "source": [
        "solh4 = solve( eqA1, h4 )\n",
        "solh4[0]"
      ],
      "execution_count": 30,
      "outputs": [
        {
          "output_type": "execute_result",
          "data": {
            "text/plain": [
              "(2*g*h_1 + u_1**2 - u_\\mathrm{4b}**2)/(2*g)"
            ],
            "text/latex": "$\\displaystyle \\frac{2 g h_{1} + u_{1}^{2} - u_\\mathrm{4b}^{2}}{2 g}$"
          },
          "metadata": {},
          "execution_count": 30
        }
      ]
    },
    {
      "cell_type": "code",
      "metadata": {
        "colab": {
          "base_uri": "https://localhost:8080/",
          "height": 39
        },
        "id": "pB_qL7WLGydk",
        "outputId": "12c0195d-2c25-408b-a4b7-b36e10cbe523"
      },
      "source": [
        "eqJ1 = Eq( h4, h4b+h4t )\n",
        "eqJ1"
      ],
      "execution_count": 31,
      "outputs": [
        {
          "output_type": "execute_result",
          "data": {
            "text/plain": [
              "Eq(h_4, h_\\mathrm{4b} + h_\\mathrm{4t})"
            ],
            "text/latex": "$\\displaystyle h_{4} = h_\\mathrm{4b} + h_\\mathrm{4t}$"
          },
          "metadata": {},
          "execution_count": 31
        }
      ]
    },
    {
      "cell_type": "markdown",
      "metadata": {
        "id": "G6oOt6aKOG5W"
      },
      "source": [
        "# Summary of the system of equations to solve"
      ]
    },
    {
      "cell_type": "code",
      "metadata": {
        "colab": {
          "base_uri": "https://localhost:8080/",
          "height": 54
        },
        "id": "qjRGEZGEEBzp",
        "outputId": "5b8dce33-d927-4c64-da8e-132ce3f2fb80"
      },
      "source": [
        "eqI3"
      ],
      "execution_count": 32,
      "outputs": [
        {
          "output_type": "execute_result",
          "data": {
            "text/plain": [
              "Eq(-h_1*u_1**2 + h_\\mathrm{4b}*u_\\mathrm{4b}**2 + h_\\mathrm{4t}*u_\\mathrm{4t}**2, g*h_1**2/2 - g*h_4**2/2 - h_\\mathrm{t}*u_\\mathrm{4b}**2/2 + h_\\mathrm{t}*u_\\mathrm{4t}**2/2)"
            ],
            "text/latex": "$\\displaystyle - h_{1} u_{1}^{2} + h_\\mathrm{4b} u_\\mathrm{4b}^{2} + h_\\mathrm{4t} u_\\mathrm{4t}^{2} = \\frac{g h_{1}^{2}}{2} - \\frac{g h_{4}^{2}}{2} - \\frac{h_\\mathrm{t} u_\\mathrm{4b}^{2}}{2} + \\frac{h_\\mathrm{t} u_\\mathrm{4t}^{2}}{2}$"
          },
          "metadata": {},
          "execution_count": 32
        }
      ]
    },
    {
      "cell_type": "code",
      "metadata": {
        "colab": {
          "base_uri": "https://localhost:8080/",
          "height": 39
        },
        "id": "3MqlS8ZKHRsJ",
        "outputId": "89c836ed-4359-4586-ee22-6ec9825fd8b8"
      },
      "source": [
        "eqH1"
      ],
      "execution_count": 33,
      "outputs": [
        {
          "output_type": "execute_result",
          "data": {
            "text/plain": [
              "Eq(h_\\mathrm{4b}*u_\\mathrm{4b} + h_\\mathrm{4t}*u_\\mathrm{4t}, h_1*u_1)"
            ],
            "text/latex": "$\\displaystyle h_\\mathrm{4b} u_\\mathrm{4b} + h_\\mathrm{4t} u_\\mathrm{4t} = h_{1} u_{1}$"
          },
          "metadata": {},
          "execution_count": 33
        }
      ]
    },
    {
      "cell_type": "code",
      "metadata": {
        "colab": {
          "base_uri": "https://localhost:8080/",
          "height": 39
        },
        "id": "OlmByzuiHfgq",
        "outputId": "4bd04757-7ec7-462b-e609-d009ec51862c"
      },
      "source": [
        "eqJ1"
      ],
      "execution_count": 34,
      "outputs": [
        {
          "output_type": "execute_result",
          "data": {
            "text/plain": [
              "Eq(h_4, h_\\mathrm{4b} + h_\\mathrm{4t})"
            ],
            "text/latex": "$\\displaystyle h_{4} = h_\\mathrm{4b} + h_\\mathrm{4t}$"
          },
          "metadata": {},
          "execution_count": 34
        }
      ]
    },
    {
      "cell_type": "markdown",
      "metadata": {
        "id": "GOro_98AOMHR"
      },
      "source": [
        "# Solution of the system of equations for $\\mathrm{Fr}_{4t1}$"
      ]
    },
    {
      "cell_type": "code",
      "metadata": {
        "id": "Um8bFmc_HiV8"
      },
      "source": [
        "solU4t = solve( [ eqI3, eqH1, eqJ1 ], [u4t,h4b,h4t] )"
      ],
      "execution_count": 35,
      "outputs": []
    },
    {
      "cell_type": "code",
      "metadata": {
        "id": "oRqHqMq7DlNd",
        "outputId": "41f4985c-3c19-475b-a90b-30c78469e7e3",
        "colab": {
          "base_uri": "https://localhost:8080/",
          "height": 59
        }
      },
      "source": [
        "solU4t[0][0]"
      ],
      "execution_count": 36,
      "outputs": [
        {
          "output_type": "execute_result",
          "data": {
            "text/plain": [
              "(h_1*u_1 - h_4*u_\\mathrm{4b} - sqrt(-g*h_1**2*h_\\mathrm{t} + g*h_4**2*h_\\mathrm{t} + h_1**2*u_1**2 - 2*h_1*h_4*u_1*u_\\mathrm{4b} - 2*h_1*h_\\mathrm{t}*u_1**2 + 2*h_1*h_\\mathrm{t}*u_1*u_\\mathrm{4b} + h_4**2*u_\\mathrm{4b}**2 + h_\\mathrm{t}**2*u_\\mathrm{4b}**2))/h_\\mathrm{t}"
            ],
            "text/latex": "$\\displaystyle \\frac{h_{1} u_{1} - h_{4} u_\\mathrm{4b} - \\sqrt{- g h_{1}^{2} h_\\mathrm{t} + g h_{4}^{2} h_\\mathrm{t} + h_{1}^{2} u_{1}^{2} - 2 h_{1} h_{4} u_{1} u_\\mathrm{4b} - 2 h_{1} h_\\mathrm{t} u_{1}^{2} + 2 h_{1} h_\\mathrm{t} u_{1} u_\\mathrm{4b} + h_{4}^{2} u_\\mathrm{4b}^{2} + h_\\mathrm{t}^{2} u_\\mathrm{4b}^{2}}}{h_\\mathrm{t}}$"
          },
          "metadata": {},
          "execution_count": 36
        }
      ]
    },
    {
      "cell_type": "code",
      "metadata": {
        "colab": {
          "base_uri": "https://localhost:8080/",
          "height": 39
        },
        "id": "PYP2inGAf-pu",
        "outputId": "27a8e328-1410-41d3-f539-dd05a2f2e1a8"
      },
      "source": [
        "C1 = symbols(\"C_1\")\n",
        "SC1 = u1*h1 - h4 * u4b\n",
        "SC1"
      ],
      "execution_count": 40,
      "outputs": [
        {
          "output_type": "execute_result",
          "data": {
            "text/plain": [
              "h_1*u_1 - h_4*u_\\mathrm{4b}"
            ],
            "text/latex": "$\\displaystyle h_{1} u_{1} - h_{4} u_\\mathrm{4b}$"
          },
          "metadata": {},
          "execution_count": 40
        }
      ]
    },
    {
      "cell_type": "code",
      "source": [
        "SC2=expand(simplify( (solU4t[0][0]*ht-SC1)**2-SC1**2 ))\n",
        "SC2"
      ],
      "metadata": {
        "id": "-8c8kbQa4edo",
        "outputId": "8406b241-ef75-4f28-f62e-8445a8d5cfa8",
        "colab": {
          "base_uri": "https://localhost:8080/",
          "height": 39
        }
      },
      "execution_count": 59,
      "outputs": [
        {
          "output_type": "execute_result",
          "data": {
            "text/plain": [
              "-g*h_1**2*h_\\mathrm{t} + g*h_4**2*h_\\mathrm{t} - 2*h_1*h_\\mathrm{t}*u_1**2 + 2*h_1*h_\\mathrm{t}*u_1*u_\\mathrm{4b} + h_\\mathrm{t}**2*u_\\mathrm{4b}**2"
            ],
            "text/latex": "$\\displaystyle - g h_{1}^{2} h_\\mathrm{t} + g h_{4}^{2} h_\\mathrm{t} - 2 h_{1} h_\\mathrm{t} u_{1}^{2} + 2 h_{1} h_\\mathrm{t} u_{1} u_\\mathrm{4b} + h_\\mathrm{t}^{2} u_\\mathrm{4b}^{2}$"
          },
          "metadata": {},
          "execution_count": 59
        }
      ]
    },
    {
      "cell_type": "code",
      "metadata": {
        "colab": {
          "base_uri": "https://localhost:8080/",
          "height": 39
        },
        "id": "3xwoFwvWlmsy",
        "outputId": "852ea0af-9cbf-408c-a6ac-5c7a455482b7"
      },
      "source": [
        "C2 = symbols(\"C_2\")\n",
        "SC2 = expand(g*(ht**2 * u4b**2 + ht*(h4**2+2*u1*(-u1+u4b)-1)))+C1**2\n",
        "SC2"
      ],
      "execution_count": 50,
      "outputs": [
        {
          "output_type": "execute_result",
          "data": {
            "text/plain": [
              "C_1**2 + g*h_4**2*h_\\mathrm{t} + g*h_\\mathrm{t}**2*u_\\mathrm{4b}**2 - 2*g*h_\\mathrm{t}*u_1**2 + 2*g*h_\\mathrm{t}*u_1*u_\\mathrm{4b} - g*h_\\mathrm{t}"
            ],
            "text/latex": "$\\displaystyle C_{1}^{2} + g h_{4}^{2} h_\\mathrm{t} + g h_\\mathrm{t}^{2} u_\\mathrm{4b}^{2} - 2 g h_\\mathrm{t} u_{1}^{2} + 2 g h_\\mathrm{t} u_{1} u_\\mathrm{4b} - g h_\\mathrm{t}$"
          },
          "metadata": {},
          "execution_count": 50
        }
      ]
    },
    {
      "cell_type": "code",
      "metadata": {
        "colab": {
          "base_uri": "https://localhost:8080/",
          "height": 59
        },
        "id": "u2jMMO0aKYwZ",
        "outputId": "d0b0652f-11f2-425d-e178-71e5fd79b150"
      },
      "source": [
        "collect(collect(solU4t[0][0],2*B*u1).subs(SC1,C1)\\\n",
        "          .subs(expand(SC1**2),C1**2),B).subs(SC2,C2)"
      ],
      "execution_count": 60,
      "outputs": [
        {
          "output_type": "execute_result",
          "data": {
            "text/plain": [
              "(C_1 - sqrt(C_1**2 + C_2))/h_\\mathrm{t}"
            ],
            "text/latex": "$\\displaystyle \\frac{C_{1} - \\sqrt{C_{1}^{2} + C_{2}}}{h_\\mathrm{t}}$"
          },
          "metadata": {},
          "execution_count": 60
        }
      ]
    },
    {
      "cell_type": "code",
      "metadata": {
        "colab": {
          "base_uri": "https://localhost:8080/",
          "height": 59
        },
        "id": "hweJbZDbb8Mg",
        "outputId": "fca33617-fa44-4f79-8889-3e8a942a20bc"
      },
      "source": [
        "collect(collect(solU4t[1][0],2*B*u1).subs(SC1,C1)\\\n",
        "          .subs(expand(SC1**2),C1**2),B).subs(SC2,C2)"
      ],
      "execution_count": 61,
      "outputs": [
        {
          "output_type": "execute_result",
          "data": {
            "text/plain": [
              "(C_1 + sqrt(C_1**2 + C_2))/h_\\mathrm{t}"
            ],
            "text/latex": "$\\displaystyle \\frac{C_{1} + \\sqrt{C_{1}^{2} + C_{2}}}{h_\\mathrm{t}}$"
          },
          "metadata": {},
          "execution_count": 61
        }
      ]
    },
    {
      "cell_type": "markdown",
      "metadata": {
        "id": "DH19jaqyORp3"
      },
      "source": [
        "# Computing $\\eta_{4b}$ and $\\eta_{4t}$\n",
        "\n",
        "After computing $\\mathrm{Fr}_{4t1}$ it is easier to compute $\\eta_{4b}$ and $\\eta_{4t}$ from ```eqH2``` and ```eqJ1``` than using the solutions above.\n"
      ]
    },
    {
      "cell_type": "code",
      "metadata": {
        "colab": {
          "base_uri": "https://localhost:8080/",
          "height": 58
        },
        "id": "u3j5c_Doe87Z",
        "outputId": "a65043fa-0912-456e-ac4c-7ed268bd2f05"
      },
      "source": [
        "simplify(solve( [ eqH1, eqJ1 ], [h4b,h4t]))"
      ],
      "execution_count": 62,
      "outputs": [
        {
          "output_type": "execute_result",
          "data": {
            "text/plain": [
              "{h_\\mathrm{4b}: (h_1*u_1 - h_4*u_\\mathrm{4t})/(u_\\mathrm{4b} - u_\\mathrm{4t}), h_\\mathrm{4t}: (-h_1*u_1 + h_4*u_\\mathrm{4b})/(u_\\mathrm{4b} - u_\\mathrm{4t})}"
            ],
            "text/latex": "$\\displaystyle \\left\\{ h_\\mathrm{4b} : \\frac{h_{1} u_{1} - h_{4} u_\\mathrm{4t}}{u_\\mathrm{4b} - u_\\mathrm{4t}}, \\  h_\\mathrm{4t} : \\frac{- h_{1} u_{1} + h_{4} u_\\mathrm{4b}}{u_\\mathrm{4b} - u_\\mathrm{4t}}\\right\\}$"
          },
          "metadata": {},
          "execution_count": 62
        }
      ]
    },
    {
      "cell_type": "markdown",
      "metadata": {
        "id": "zSPiASXUJ4fZ"
      },
      "source": [
        "# Selecting the solution with physical meaning\n",
        "\n",
        "Let us show that $C_1$ is always negative which implies that the solution \n",
        "\n",
        "$$\\mathrm{Fr}_\\mathrm{4t}=\\dfrac{C_1-\\sqrt{C_2}}{B}, \\tag{1}$$ \n",
        "\n",
        "is **always negative** (invalid).\n",
        "\n",
        "From the mass balance we get\n",
        "\n",
        "$$ u_1 h_1 = u_{4b} h_\\mathrm{4b} + u_\\mathrm{4t} h_\\mathrm{4t}.$$\n",
        "\n",
        "Since $u_\\mathrm{4t} < u_\\mathrm{4b}$ we found that\n",
        "\n",
        "$$ u_1 h_1 = u_\\mathrm{4b} h_\\mathrm{4b} + u_\\mathrm{4t} h_\\mathrm{4t} \\lt u_\\mathrm{4b} h_4.$$\n",
        "\n",
        "Divinding by $\\sqrt{gh_1} h_1$ results\n",
        "\n",
        "$$ \\dfrac{u_1}{\\sqrt{g h_1}} - \\dfrac{u_\\mathrm{4b}}{\\sqrt{g h_1}} \\dfrac{h_4}{h_1} \\lt 0,$$\n",
        "\n",
        "giving \n",
        "\n",
        "$$\\mathrm{Fr}_{1} - \\mathrm{Fr}_\\mathrm{4b} \\zeta_{4} \\lt 0,$$ \n",
        "\n",
        "or equivalently\n",
        "\n",
        "$$C_1 \\lt 0.$$ \n",
        "\n",
        "This implies that the solution given by Eq. (1) is always negative\n",
        "\n",
        "$$\\mathrm{Fr}_\\mathrm{4t} \\lt 0.$$ "
      ]
    },
    {
      "cell_type": "code",
      "metadata": {
        "id": "3QZEMvxnNKWv",
        "outputId": "4a131140-8ba8-421a-c1ac-bac89b6d3eb7",
        "colab": {
          "base_uri": "https://localhost:8080/",
          "height": 38
        }
      },
      "source": [
        "eqK1 = Eq( u4b * h4b + u4t * h4t, u5*h5 )\n",
        "eqK1"
      ],
      "execution_count": null,
      "outputs": [
        {
          "output_type": "execute_result",
          "data": {
            "text/plain": [
              "Eq(h_\\mathrm{4b}*u_\\mathrm{4b} + h_\\mathrm{4t}*u_\\mathrm{4t}, h_5*u_5)"
            ],
            "text/latex": "$\\displaystyle h_\\mathrm{4b} u_\\mathrm{4b} + h_\\mathrm{4t} u_\\mathrm{4t} = h_{5} u_{5}$"
          },
          "metadata": {},
          "execution_count": 39
        }
      ]
    },
    {
      "cell_type": "code",
      "source": [
        "eqK2 = expand( Eq( eqK1.lhs / ( h1*sqrt(g*h1) ), eqK1.rhs / ( h1*sqrt(g*h1) ) ) )\\\n",
        "          .subs( zetas )\\\n",
        "          .subs( Froudes )\n",
        "eqK2"
      ],
      "metadata": {
        "id": "lrGJ_qfTsrjC",
        "outputId": "fdb5519f-d2a4-446e-acb9-ec8ac3d7c6eb",
        "colab": {
          "base_uri": "https://localhost:8080/",
          "height": 38
        }
      },
      "execution_count": null,
      "outputs": [
        {
          "output_type": "execute_result",
          "data": {
            "text/plain": [
              "Eq(\\mathrm{Fr}_\\mathrm{4b}*\\zeta_\\mathrm{4b} + \\mathrm{Fr}_\\mathrm{4t}*\\zeta_\\mathrm{4t}, \\mathrm{Fr}_{5}*\\zeta_5)"
            ],
            "text/latex": "$\\displaystyle \\mathrm{Fr}_\\mathrm{4b} \\zeta_\\mathrm{4b} + \\mathrm{Fr}_\\mathrm{4t} \\zeta_\\mathrm{4t} = \\mathrm{Fr}_{5} \\zeta_{5}$"
          },
          "metadata": {},
          "execution_count": 40
        }
      ]
    },
    {
      "cell_type": "code",
      "source": [
        "M5, Fp5 = symbols( \"M_{5}, F_\\mathrm{p5}\" )"
      ],
      "metadata": {
        "id": "o2B5Pj4zs-2X"
      },
      "execution_count": null,
      "outputs": []
    },
    {
      "cell_type": "code",
      "source": [
        "eqL1 = Eq( M5 - M4b - M4t, -(Fp5-Fp4) )\n",
        "eqL1"
      ],
      "metadata": {
        "id": "lonrdTRftMrP",
        "outputId": "88afe2e0-9dfe-4c4f-87f8-3cdfa7b0cf68",
        "colab": {
          "base_uri": "https://localhost:8080/",
          "height": 38
        }
      },
      "execution_count": null,
      "outputs": [
        {
          "output_type": "execute_result",
          "data": {
            "text/plain": [
              "Eq(-M_\\mathrm{4b} - M_\\mathrm{4t} + M_{5}, F_\\mathrm{p4} - F_\\mathrm{p5})"
            ],
            "text/latex": "$\\displaystyle - M_\\mathrm{4b} - M_\\mathrm{4t} + M_{5} = F_\\mathrm{p4} - F_\\mathrm{p5}$"
          },
          "metadata": {},
          "execution_count": 42
        }
      ]
    },
    {
      "cell_type": "code",
      "source": [
        "eqL2 = eqL1.subs( M4b, ρ*u4b**2*h4b*b).subs( M4t, ρ*u4t**2*h4t*b)\\\n",
        "          .subs( M5, ρ*u5**2*h5*b ).subs( Fp5, ρ*g*b*h5**2/2 )\\\n",
        "          .subs( Fp4, ρ*g*b*h4**2/2 )\n",
        "eqL2"
      ],
      "metadata": {
        "id": "OHtoXH0vsyWq",
        "outputId": "f577e5cd-d2a4-498c-85b9-d8217c6b8604",
        "colab": {
          "base_uri": "https://localhost:8080/",
          "height": 54
        }
      },
      "execution_count": null,
      "outputs": [
        {
          "output_type": "execute_result",
          "data": {
            "text/plain": [
              "Eq(\\rho*b*h_5*u_5**2 - \\rho*b*h_\\mathrm{4b}*u_\\mathrm{4b}**2 - \\rho*b*h_\\mathrm{4t}*u_\\mathrm{4t}**2, \\rho*b*g*h_4**2/2 - \\rho*b*g*h_5**2/2)"
            ],
            "text/latex": "$\\displaystyle \\rho b h_{5} u_{5}^{2} - \\rho b h_\\mathrm{4b} u_\\mathrm{4b}^{2} - \\rho b h_\\mathrm{4t} u_\\mathrm{4t}^{2} = \\frac{\\rho b g h_{4}^{2}}{2} - \\frac{\\rho b g h_{5}^{2}}{2}$"
          },
          "metadata": {},
          "execution_count": 43
        }
      ]
    },
    {
      "cell_type": "code",
      "source": [
        "eqL3 = expand( Eq( eqL2.lhs / ( ρ*g*h1**2*b ), eqL2.rhs / ( ρ*g*h1**2*b ) ) )\n",
        "eqL4 = eqL3.subs( zetas ).subs( Sqr_Froudes )\n",
        "eqL5 = expand( Eq( eqL4.lhs*ζ5 - eqL4.rhs*ζ5, 0 ) )\n",
        "eqL6 = eqL5.subs( eqK2.rhs**2, eqK2.lhs**2 )\n",
        "eqL6"
      ],
      "metadata": {
        "id": "CJdhPRTttbtp",
        "outputId": "80f24756-bdd3-43a7-d170-1864afb8493e",
        "colab": {
          "base_uri": "https://localhost:8080/",
          "height": 54
        }
      },
      "execution_count": null,
      "outputs": [
        {
          "output_type": "execute_result",
          "data": {
            "text/plain": [
              "Eq(-\\mathrm{Fr}_\\mathrm{4b}**2*\\zeta_5*\\zeta_\\mathrm{4b} - \\mathrm{Fr}_\\mathrm{4t}**2*\\zeta_5*\\zeta_\\mathrm{4t} - \\zeta_4**2*\\zeta_5/2 + \\zeta_5**3/2 + (\\mathrm{Fr}_\\mathrm{4b}*\\zeta_\\mathrm{4b} + \\mathrm{Fr}_\\mathrm{4t}*\\zeta_\\mathrm{4t})**2, 0)"
            ],
            "text/latex": "$\\displaystyle - \\mathrm{Fr}_\\mathrm{4b}^{2} \\zeta_{5} \\zeta_\\mathrm{4b} - \\mathrm{Fr}_\\mathrm{4t}^{2} \\zeta_{5} \\zeta_\\mathrm{4t} - \\frac{\\zeta_{4}^{2} \\zeta_{5}}{2} + \\frac{\\zeta_{5}^{3}}{2} + \\left(\\mathrm{Fr}_\\mathrm{4b} \\zeta_\\mathrm{4b} + \\mathrm{Fr}_\\mathrm{4t} \\zeta_\\mathrm{4t}\\right)^{2} = 0$"
          },
          "metadata": {},
          "execution_count": 44
        }
      ]
    },
    {
      "cell_type": "code",
      "source": [
        "sc5 = collect( eqL6.lhs, ζ5 )\n",
        "lambdarepr( sc5 )"
      ],
      "metadata": {
        "id": "uxemasTVwmFJ",
        "outputId": "c3edb3d7-6519-45f9-8b55-49a56a4b9b9e",
        "colab": {
          "base_uri": "https://localhost:8080/",
          "height": 53
        }
      },
      "execution_count": null,
      "outputs": [
        {
          "output_type": "execute_result",
          "data": {
            "text/plain": [
              "'(1/2)*\\\\zeta_5**3 + \\\\zeta_5*(-\\\\mathrm{Fr}_\\\\mathrm{4b}**2*\\\\zeta_\\\\mathrm{4b} - \\\\mathrm{Fr}_\\\\mathrm{4t}**2*\\\\zeta_\\\\mathrm{4t} - 1/2*\\\\zeta_4**2) + (\\\\mathrm{Fr}_\\\\mathrm{4b}*\\\\zeta_\\\\mathrm{4b} + \\\\mathrm{Fr}_\\\\mathrm{4t}*\\\\zeta_\\\\mathrm{4t})**2'"
            ],
            "application/vnd.google.colaboratory.intrinsic+json": {
              "type": "string"
            }
          },
          "metadata": {},
          "execution_count": 45
        }
      ]
    },
    {
      "cell_type": "code",
      "source": [
        "a = Symbol('a', positive=True)\n",
        "b = Symbol('b', positive=True)\n",
        "x = Symbol('x', positive=True)\n",
        "C3 = Symbol( 'C_3' )"
      ],
      "metadata": {
        "id": "v6etpKr0yKFS"
      },
      "execution_count": null,
      "outputs": []
    },
    {
      "cell_type": "code",
      "source": [
        "sx = solve( Eq((x**3)/2 - a*x + b,0), x )\n",
        "sx[0]"
      ],
      "metadata": {
        "id": "46RzwWeCuj_u",
        "outputId": "83ab4e4a-581b-439e-97a6-d704b2edefb9",
        "colab": {
          "base_uri": "https://localhost:8080/",
          "height": 84
        }
      },
      "execution_count": null,
      "outputs": [
        {
          "output_type": "execute_result",
          "data": {
            "text/plain": [
              "-2*a/(27*b + sqrt(-864*a**3 + 2916*b**2)/2)**(1/3) - (27*b + sqrt(-864*a**3 + 2916*b**2)/2)**(1/3)/3"
            ],
            "text/latex": "$\\displaystyle - \\frac{2 a}{\\sqrt[3]{27 b + \\frac{\\sqrt{- 864 a^{3} + 2916 b^{2}}}{2}}} - \\frac{\\sqrt[3]{27 b + \\frac{\\sqrt{- 864 a^{3} + 2916 b^{2}}}{2}}}{3}$"
          },
          "metadata": {},
          "execution_count": 51
        }
      ]
    },
    {
      "cell_type": "code",
      "source": [
        "sx[0].subs( (27*b + sqrt(-864*a**3 + 2916*b**2)/2)**(1/3), C3 )"
      ],
      "metadata": {
        "id": "Qk3XlH6JyYAJ",
        "outputId": "e420fe91-206b-4a10-820f-d351ef56fa1b",
        "colab": {
          "base_uri": "https://localhost:8080/",
          "height": 58
        }
      },
      "execution_count": null,
      "outputs": [
        {
          "output_type": "execute_result",
          "data": {
            "text/plain": [
              "-2*C_3**(-1.0)*a - C_3**1.0/3"
            ],
            "text/latex": "$\\displaystyle - \\frac{2 a}{C_{3}^{1.0}} - \\frac{C_{3}^{1.0}}{3}$"
          },
          "metadata": {},
          "execution_count": 48
        }
      ]
    },
    {
      "cell_type": "code",
      "source": [
        "sx[1]"
      ],
      "metadata": {
        "id": "ObLcdX7iygBC",
        "outputId": "02ffe070-f99a-42a8-ee8a-d621f50c2698",
        "colab": {
          "base_uri": "https://localhost:8080/",
          "height": 89
        }
      },
      "execution_count": null,
      "outputs": [
        {
          "output_type": "execute_result",
          "data": {
            "text/plain": [
              "-2*a/((-1/2 - sqrt(3)*I/2)*(27*b + sqrt(-864*a**3 + 2916*b**2)/2)**(1/3)) - (-1/2 - sqrt(3)*I/2)*(27*b + sqrt(-864*a**3 + 2916*b**2)/2)**(1/3)/3"
            ],
            "text/latex": "$\\displaystyle - \\frac{2 a}{\\left(- \\frac{1}{2} - \\frac{\\sqrt{3} i}{2}\\right) \\sqrt[3]{27 b + \\frac{\\sqrt{- 864 a^{3} + 2916 b^{2}}}{2}}} - \\frac{\\left(- \\frac{1}{2} - \\frac{\\sqrt{3} i}{2}\\right) \\sqrt[3]{27 b + \\frac{\\sqrt{- 864 a^{3} + 2916 b^{2}}}{2}}}{3}$"
          },
          "metadata": {},
          "execution_count": 49
        }
      ]
    },
    {
      "cell_type": "code",
      "source": [
        "sx[2]"
      ],
      "metadata": {
        "id": "Gu4G-eldyiyW",
        "outputId": "3bd17849-e002-41de-8fa2-1f499944a2a2",
        "colab": {
          "base_uri": "https://localhost:8080/",
          "height": 89
        }
      },
      "execution_count": null,
      "outputs": [
        {
          "output_type": "execute_result",
          "data": {
            "text/plain": [
              "-2*a/((-1/2 + sqrt(3)*I/2)*(27*b + sqrt(-864*a**3 + 2916*b**2)/2)**(1/3)) - (-1/2 + sqrt(3)*I/2)*(27*b + sqrt(-864*a**3 + 2916*b**2)/2)**(1/3)/3"
            ],
            "text/latex": "$\\displaystyle - \\frac{2 a}{\\left(- \\frac{1}{2} + \\frac{\\sqrt{3} i}{2}\\right) \\sqrt[3]{27 b + \\frac{\\sqrt{- 864 a^{3} + 2916 b^{2}}}{2}}} - \\frac{\\left(- \\frac{1}{2} + \\frac{\\sqrt{3} i}{2}\\right) \\sqrt[3]{27 b + \\frac{\\sqrt{- 864 a^{3} + 2916 b^{2}}}{2}}}{3}$"
          },
          "metadata": {},
          "execution_count": 50
        }
      ]
    },
    {
      "cell_type": "code",
      "source": [],
      "metadata": {
        "id": "bFuxSQYOyj6c"
      },
      "execution_count": null,
      "outputs": []
    }
  ]
}