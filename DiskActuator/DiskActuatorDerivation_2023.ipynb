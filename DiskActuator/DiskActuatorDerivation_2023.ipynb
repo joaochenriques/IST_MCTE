{
  "nbformat": 4,
  "nbformat_minor": 0,
  "metadata": {
    "colab": {
      "name": "DiskActuatorDerivation.ipynb",
      "provenance": [],
      "include_colab_link": true
    },
    "kernelspec": {
      "name": "python3",
      "display_name": "Python 3"
    },
    "language_info": {
      "name": "python"
    }
  },
  "cells": [
    {
      "cell_type": "markdown",
      "metadata": {
        "id": "view-in-github",
        "colab_type": "text"
      },
      "source": [
        "<a href=\"https://colab.research.google.com/github/joaochenriques/IST_MCTE/blob/main/DiskActuator/DiskActuatorDerivation_2023.ipynb\" target=\"_parent\"><img src=\"https://colab.research.google.com/assets/colab-badge.svg\" alt=\"Open In Colab\"/></a>"
      ]
    },
    {
      "cell_type": "code",
      "metadata": {
        "id": "BmAkVzVmeipL"
      },
      "source": [
        "from sympy import *\n",
        "from sympy.printing.lambdarepr import lambdarepr"
      ],
      "execution_count": 1,
      "outputs": []
    },
    {
      "cell_type": "code",
      "metadata": {
        "id": "XKLQk-_egk-f"
      },
      "source": [
        "h1, h2t, h3t, h4, h4t, h4b, h5 = symbols( r\"h_1, h_\\mathrm{2t}, h_\\mathrm{3t}, h_4, h_\\mathrm{4t}, h_\\mathrm{4b}, h_5\" )"
      ],
      "execution_count": 2,
      "outputs": []
    },
    {
      "cell_type": "code",
      "metadata": {
        "id": "DwHmqFqWhihr"
      },
      "source": [
        "u1, u2t, u3t, u4b, u4t, u5 = symbols( r\"u_1, u_\\mathrm{2t}, u_\\mathrm{3t}, u_\\mathrm{4b}, u_\\mathrm{4t}, u_5\" )"
      ],
      "execution_count": 3,
      "outputs": []
    },
    {
      "cell_type": "code",
      "metadata": {
        "id": "9Xfv1EsAvVLg"
      },
      "source": [
        "ρ, g, T, ht, b = symbols( r\"\\rho, g, T, h_\\mathrm{t}, b\" )"
      ],
      "execution_count": 9,
      "outputs": []
    },
    {
      "cell_type": "markdown",
      "metadata": {
        "id": "VnMCLPv_o-OP"
      },
      "source": [
        "Generic definitions used in substitutions"
      ]
    },
    {
      "cell_type": "markdown",
      "metadata": {
        "id": "PbcO62IIoPFs"
      },
      "source": [
        "# Bernoulli equations \n",
        "\n",
        "<img src=\"https://raw.githubusercontent.com/joaochenriques/IST_MCTE/main/DiskActuator/figs/sub_domains.svg\" width=\"500px\" style=\"display:inline\">"
      ]
    },
    {
      "cell_type": "code",
      "metadata": {
        "id": "eVIEUqJbkjrn",
        "colab": {
          "base_uri": "https://localhost:8080/",
          "height": 57
        },
        "outputId": "a75b08ed-664d-418b-dee1-1694a30f0c57"
      },
      "source": [
        "eqA1 = Eq( h1 + u1**2/(2*g), h4 + u4b**2/(2*g) )\n",
        "eqA1"
      ],
      "execution_count": 10,
      "outputs": [
        {
          "output_type": "execute_result",
          "data": {
            "text/plain": [
              "Eq(h_1 + u_1**2/(2*g), h_4 + u_\\mathrm{4b}**2/(2*g))"
            ],
            "text/latex": "$\\displaystyle h_{1} + \\frac{u_{1}^{2}}{2 g} = h_{4} + \\frac{u_\\mathrm{4b}^{2}}{2 g}$"
          },
          "metadata": {},
          "execution_count": 10
        }
      ]
    },
    {
      "cell_type": "code",
      "metadata": {
        "id": "CtOFm53Kkw62",
        "colab": {
          "base_uri": "https://localhost:8080/",
          "height": 57
        },
        "outputId": "2f4382b2-c8b4-4996-fb3b-08699a7d0240"
      },
      "source": [
        "eqB1 = Eq( h1 + u1**2/(2*g), h2t + u2t**2/(2*g) )\n",
        "eqB1"
      ],
      "execution_count": 11,
      "outputs": [
        {
          "output_type": "execute_result",
          "data": {
            "text/plain": [
              "Eq(h_1 + u_1**2/(2*g), h_\\mathrm{2t} + u_\\mathrm{2t}**2/(2*g))"
            ],
            "text/latex": "$\\displaystyle h_{1} + \\frac{u_{1}^{2}}{2 g} = h_\\mathrm{2t} + \\frac{u_\\mathrm{2t}^{2}}{2 g}$"
          },
          "metadata": {},
          "execution_count": 11
        }
      ]
    },
    {
      "cell_type": "code",
      "metadata": {
        "id": "nCgu5IFZk26N",
        "colab": {
          "base_uri": "https://localhost:8080/",
          "height": 57
        },
        "outputId": "0e4d7f49-8b8f-4feb-a2d5-61a3b7d7fd0d"
      },
      "source": [
        "eqC1 = Eq( h3t + u3t**2/(2*g), h4 + u4t**2/(2*g) )\n",
        "eqC1"
      ],
      "execution_count": 12,
      "outputs": [
        {
          "output_type": "execute_result",
          "data": {
            "text/plain": [
              "Eq(h_\\mathrm{3t} + u_\\mathrm{3t}**2/(2*g), h_4 + u_\\mathrm{4t}**2/(2*g))"
            ],
            "text/latex": "$\\displaystyle h_\\mathrm{3t} + \\frac{u_\\mathrm{3t}^{2}}{2 g} = h_{4} + \\frac{u_\\mathrm{4t}^{2}}{2 g}$"
          },
          "metadata": {},
          "execution_count": 12
        }
      ]
    },
    {
      "cell_type": "code",
      "metadata": {
        "id": "oYkbo3Udk8dd",
        "colab": {
          "base_uri": "https://localhost:8080/",
          "height": 55
        },
        "outputId": "30a3908e-f163-4cfc-af47-8d95af6c8e32"
      },
      "source": [
        "eqD1 = Eq( T/(ρ*g*ht*b), (h2t-h3t) )\n",
        "eqD1"
      ],
      "execution_count": 13,
      "outputs": [
        {
          "output_type": "execute_result",
          "data": {
            "text/plain": [
              "Eq(T/(\\rho*b*g*h_\\mathrm{t}), h_\\mathrm{2t} - h_\\mathrm{3t})"
            ],
            "text/latex": "$\\displaystyle \\frac{T}{\\rho b g h_\\mathrm{t}} = h_\\mathrm{2t} - h_\\mathrm{3t}$"
          },
          "metadata": {},
          "execution_count": 13
        }
      ]
    },
    {
      "cell_type": "code",
      "metadata": {
        "colab": {
          "base_uri": "https://localhost:8080/",
          "height": 57
        },
        "id": "fXR-jNqDNtfI",
        "outputId": "f35f9b93-387f-4425-d685-8592f98f4cb1"
      },
      "source": [
        "eqF1 = Eq( eqA1.rhs - eqC1.rhs, eqB1.rhs - eqC1.lhs ).subs( u2t, u3t )\n",
        "eqF1 "
      ],
      "execution_count": 14,
      "outputs": [
        {
          "output_type": "execute_result",
          "data": {
            "text/plain": [
              "Eq(u_\\mathrm{4b}**2/(2*g) - u_\\mathrm{4t}**2/(2*g), h_\\mathrm{2t} - h_\\mathrm{3t})"
            ],
            "text/latex": "$\\displaystyle \\frac{u_\\mathrm{4b}^{2}}{2 g} - \\frac{u_\\mathrm{4t}^{2}}{2 g} = h_\\mathrm{2t} - h_\\mathrm{3t}$"
          },
          "metadata": {},
          "execution_count": 14
        }
      ]
    },
    {
      "cell_type": "code",
      "source": [
        "eqG1 = Eq( eqD1.lhs*(ρ*g*ht*b), eqF1.lhs*(ρ*g*ht*b) )\n",
        "eqG1"
      ],
      "metadata": {
        "colab": {
          "base_uri": "https://localhost:8080/",
          "height": 58
        },
        "id": "Kshcju861m1L",
        "outputId": "4145855c-d73a-4942-b477-b37dd01c1d95"
      },
      "execution_count": 15,
      "outputs": [
        {
          "output_type": "execute_result",
          "data": {
            "text/plain": [
              "Eq(T, \\rho*b*g*h_\\mathrm{t}*(u_\\mathrm{4b}**2/(2*g) - u_\\mathrm{4t}**2/(2*g)))"
            ],
            "text/latex": "$\\displaystyle T = \\rho b g h_\\mathrm{t} \\left(\\frac{u_\\mathrm{4b}^{2}}{2 g} - \\frac{u_\\mathrm{4t}^{2}}{2 g}\\right)$"
          },
          "metadata": {},
          "execution_count": 15
        }
      ]
    },
    {
      "cell_type": "markdown",
      "metadata": {
        "id": "ED6VuDFkwibl"
      },
      "source": [
        "# Mass balance"
      ]
    },
    {
      "cell_type": "code",
      "metadata": {
        "colab": {
          "base_uri": "https://localhost:8080/",
          "height": 38
        },
        "id": "YeLktTPENkkH",
        "outputId": "36d2ceae-cf15-49c9-81b5-569475c4285d"
      },
      "source": [
        "eqH1 = Eq( u4b * h4b + u4t * h4t, u1*h1 )\n",
        "eqH1"
      ],
      "execution_count": 16,
      "outputs": [
        {
          "output_type": "execute_result",
          "data": {
            "text/plain": [
              "Eq(h_\\mathrm{4b}*u_\\mathrm{4b} + h_\\mathrm{4t}*u_\\mathrm{4t}, h_1*u_1)"
            ],
            "text/latex": "$\\displaystyle h_\\mathrm{4b} u_\\mathrm{4b} + h_\\mathrm{4t} u_\\mathrm{4t} = h_{1} u_{1}$"
          },
          "metadata": {},
          "execution_count": 16
        }
      ]
    },
    {
      "cell_type": "markdown",
      "metadata": {
        "id": "dh2m4JXLoqxx"
      },
      "source": [
        "# Momentum balance"
      ]
    },
    {
      "cell_type": "code",
      "metadata": {
        "id": "Lb1Giyebo6Af"
      },
      "source": [
        "b, B = symbols( \"b, B\" )\n",
        "M4t, M4b, M1, Fp4, Fp1 = symbols( \"M_\\mathrm{4t}, M_\\mathrm{4b}, M_{1}, F_\\mathrm{p4}, F_\\mathrm{p1}\")"
      ],
      "execution_count": 17,
      "outputs": []
    },
    {
      "cell_type": "code",
      "metadata": {
        "colab": {
          "base_uri": "https://localhost:8080/",
          "height": 38
        },
        "id": "RKX8dqxHNvp3",
        "outputId": "79a279c0-dc4a-44d3-faaf-6971201b5336"
      },
      "source": [
        "eqI1 = Eq( M4b + M4t - M1, -(Fp4-Fp1) - T )\n",
        "eqI1"
      ],
      "execution_count": 18,
      "outputs": [
        {
          "output_type": "execute_result",
          "data": {
            "text/plain": [
              "Eq(M_\\mathrm{4b} + M_\\mathrm{4t} - M_{1}, F_\\mathrm{p1} - F_\\mathrm{p4} - T)"
            ],
            "text/latex": "$\\displaystyle M_\\mathrm{4b} + M_\\mathrm{4t} - M_{1} = F_\\mathrm{p1} - F_\\mathrm{p4} - T$"
          },
          "metadata": {},
          "execution_count": 18
        }
      ]
    },
    {
      "cell_type": "code",
      "metadata": {
        "colab": {
          "base_uri": "https://localhost:8080/",
          "height": 58
        },
        "id": "mf90DKLa69wd",
        "outputId": "c07997ca-5a0e-4429-93c1-7ac4225ffa4f"
      },
      "source": [
        "eqI2 = eqI1.subs( M4b, ρ*u4b**2*h4b*b).subs( M4t, ρ*u4t**2*h4t*b)\\\n",
        "          .subs( M1, ρ*u1**2*h1*b ).subs( Fp1, ρ*g*b*h1**2/2 )\\\n",
        "          .subs( Fp4, ρ*g*b*h4**2/2 ).subs( T, eqG1.rhs )\n",
        "eqI2"
      ],
      "execution_count": 19,
      "outputs": [
        {
          "output_type": "execute_result",
          "data": {
            "text/plain": [
              "Eq(-\\rho*b*h_1*u_1**2 + \\rho*b*h_\\mathrm{4b}*u_\\mathrm{4b}**2 + \\rho*b*h_\\mathrm{4t}*u_\\mathrm{4t}**2, \\rho*b*g*h_1**2/2 - \\rho*b*g*h_4**2/2 - \\rho*b*g*h_\\mathrm{t}*(u_\\mathrm{4b}**2/(2*g) - u_\\mathrm{4t}**2/(2*g)))"
            ],
            "text/latex": "$\\displaystyle - \\rho b h_{1} u_{1}^{2} + \\rho b h_\\mathrm{4b} u_\\mathrm{4b}^{2} + \\rho b h_\\mathrm{4t} u_\\mathrm{4t}^{2} = \\frac{\\rho b g h_{1}^{2}}{2} - \\frac{\\rho b g h_{4}^{2}}{2} - \\rho b g h_\\mathrm{t} \\left(\\frac{u_\\mathrm{4b}^{2}}{2 g} - \\frac{u_\\mathrm{4t}^{2}}{2 g}\\right)$"
          },
          "metadata": {},
          "execution_count": 19
        }
      ]
    },
    {
      "cell_type": "markdown",
      "metadata": {
        "id": "MNMSI3AqoQSQ"
      },
      "source": [
        "Knowing that Blockage factor  $A_\\mathrm{t}=B\\,bh_1$"
      ]
    },
    {
      "cell_type": "code",
      "metadata": {
        "colab": {
          "base_uri": "https://localhost:8080/",
          "height": 54
        },
        "id": "bYrt4jHH9Tpg",
        "outputId": "1f0df4cb-b82c-4e4f-aca5-644ee68ea11a"
      },
      "source": [
        "eqI3 = expand( Eq( eqI2.lhs / ( ρ*b ), eqI2.rhs / ( ρ*b ) ) ).subs( b*h1, ht/B)\n",
        "eqI3"
      ],
      "execution_count": 20,
      "outputs": [
        {
          "output_type": "execute_result",
          "data": {
            "text/plain": [
              "Eq(-h_1*u_1**2 + h_\\mathrm{4b}*u_\\mathrm{4b}**2 + h_\\mathrm{4t}*u_\\mathrm{4t}**2, g*h_1**2/2 - g*h_4**2/2 - h_\\mathrm{t}*u_\\mathrm{4b}**2/2 + h_\\mathrm{t}*u_\\mathrm{4t}**2/2)"
            ],
            "text/latex": "$\\displaystyle - h_{1} u_{1}^{2} + h_\\mathrm{4b} u_\\mathrm{4b}^{2} + h_\\mathrm{4t} u_\\mathrm{4t}^{2} = \\frac{g h_{1}^{2}}{2} - \\frac{g h_{4}^{2}}{2} - \\frac{h_\\mathrm{t} u_\\mathrm{4b}^{2}}{2} + \\frac{h_\\mathrm{t} u_\\mathrm{4t}^{2}}{2}$"
          },
          "metadata": {},
          "execution_count": 20
        }
      ]
    },
    {
      "cell_type": "markdown",
      "metadata": {
        "id": "Qf5ZZ9xcDZvC"
      },
      "source": [
        "Specifying:\n",
        "\n",
        "* Blockage factor $0 \\le B \\lt 1$\n",
        "* Upstream Froude number $\\mathrm{Fr}_1$\n",
        "* Bypass Froude number $\\mathrm{Fr}_\\mathrm{4b}$\n",
        "* $\\eta_4$ is computed from\n",
        "\n",
        "$$ \\eta_4 = \\frac{\\mathrm{Fr}_{1}^2}{2}-\\frac{\\mathrm{Fr}_\\mathrm{4b}^2}{2} + 1$$"
      ]
    },
    {
      "cell_type": "code",
      "metadata": {
        "colab": {
          "base_uri": "https://localhost:8080/",
          "height": 57
        },
        "id": "BG-to7QfCGo1",
        "outputId": "2debfde9-7326-4318-98ad-2bda90672f89"
      },
      "source": [
        "solh4 = solve( eqA1, h4 )\n",
        "solh4[0]"
      ],
      "execution_count": 21,
      "outputs": [
        {
          "output_type": "execute_result",
          "data": {
            "text/plain": [
              "(2*g*h_1 + u_1**2 - u_\\mathrm{4b}**2)/(2*g)"
            ],
            "text/latex": "$\\displaystyle \\frac{2 g h_{1} + u_{1}^{2} - u_\\mathrm{4b}^{2}}{2 g}$"
          },
          "metadata": {},
          "execution_count": 21
        }
      ]
    },
    {
      "cell_type": "code",
      "metadata": {
        "colab": {
          "base_uri": "https://localhost:8080/",
          "height": 38
        },
        "id": "pB_qL7WLGydk",
        "outputId": "0c575461-162f-442a-dccd-7a90797aeb87"
      },
      "source": [
        "eqJ1 = Eq( h4, h4b+h4t )\n",
        "eqJ1"
      ],
      "execution_count": 22,
      "outputs": [
        {
          "output_type": "execute_result",
          "data": {
            "text/plain": [
              "Eq(h_4, h_\\mathrm{4b} + h_\\mathrm{4t})"
            ],
            "text/latex": "$\\displaystyle h_{4} = h_\\mathrm{4b} + h_\\mathrm{4t}$"
          },
          "metadata": {},
          "execution_count": 22
        }
      ]
    },
    {
      "cell_type": "markdown",
      "metadata": {
        "id": "G6oOt6aKOG5W"
      },
      "source": [
        "# Summary of the system of equations to solve"
      ]
    },
    {
      "cell_type": "code",
      "metadata": {
        "colab": {
          "base_uri": "https://localhost:8080/",
          "height": 54
        },
        "id": "qjRGEZGEEBzp",
        "outputId": "d89ea280-d3a9-4c14-c47c-4ee172542ce3"
      },
      "source": [
        "eqI3"
      ],
      "execution_count": 23,
      "outputs": [
        {
          "output_type": "execute_result",
          "data": {
            "text/plain": [
              "Eq(-h_1*u_1**2 + h_\\mathrm{4b}*u_\\mathrm{4b}**2 + h_\\mathrm{4t}*u_\\mathrm{4t}**2, g*h_1**2/2 - g*h_4**2/2 - h_\\mathrm{t}*u_\\mathrm{4b}**2/2 + h_\\mathrm{t}*u_\\mathrm{4t}**2/2)"
            ],
            "text/latex": "$\\displaystyle - h_{1} u_{1}^{2} + h_\\mathrm{4b} u_\\mathrm{4b}^{2} + h_\\mathrm{4t} u_\\mathrm{4t}^{2} = \\frac{g h_{1}^{2}}{2} - \\frac{g h_{4}^{2}}{2} - \\frac{h_\\mathrm{t} u_\\mathrm{4b}^{2}}{2} + \\frac{h_\\mathrm{t} u_\\mathrm{4t}^{2}}{2}$"
          },
          "metadata": {},
          "execution_count": 23
        }
      ]
    },
    {
      "cell_type": "code",
      "metadata": {
        "colab": {
          "base_uri": "https://localhost:8080/",
          "height": 38
        },
        "id": "3MqlS8ZKHRsJ",
        "outputId": "340ed40d-ee8a-4890-90fc-84dd77765ddb"
      },
      "source": [
        "eqH1"
      ],
      "execution_count": 24,
      "outputs": [
        {
          "output_type": "execute_result",
          "data": {
            "text/plain": [
              "Eq(h_\\mathrm{4b}*u_\\mathrm{4b} + h_\\mathrm{4t}*u_\\mathrm{4t}, h_1*u_1)"
            ],
            "text/latex": "$\\displaystyle h_\\mathrm{4b} u_\\mathrm{4b} + h_\\mathrm{4t} u_\\mathrm{4t} = h_{1} u_{1}$"
          },
          "metadata": {},
          "execution_count": 24
        }
      ]
    },
    {
      "cell_type": "code",
      "metadata": {
        "colab": {
          "base_uri": "https://localhost:8080/",
          "height": 38
        },
        "id": "OlmByzuiHfgq",
        "outputId": "897dbb99-0467-4e65-d151-6cbd799e26c9"
      },
      "source": [
        "eqJ1"
      ],
      "execution_count": 25,
      "outputs": [
        {
          "output_type": "execute_result",
          "data": {
            "text/plain": [
              "Eq(h_4, h_\\mathrm{4b} + h_\\mathrm{4t})"
            ],
            "text/latex": "$\\displaystyle h_{4} = h_\\mathrm{4b} + h_\\mathrm{4t}$"
          },
          "metadata": {},
          "execution_count": 25
        }
      ]
    },
    {
      "cell_type": "markdown",
      "metadata": {
        "id": "GOro_98AOMHR"
      },
      "source": [
        "# Solution of the system of equations for $\\mathrm{Fr}_{4t1}$"
      ]
    },
    {
      "cell_type": "code",
      "metadata": {
        "id": "Um8bFmc_HiV8"
      },
      "source": [
        "solU4t = solve( [ eqI3, eqH1, eqJ1 ], [u4t,h4b,h4t] )"
      ],
      "execution_count": 26,
      "outputs": []
    },
    {
      "cell_type": "code",
      "metadata": {
        "id": "oRqHqMq7DlNd",
        "outputId": "133507b3-f5d6-4379-e220-d17a5bd3b34f",
        "colab": {
          "base_uri": "https://localhost:8080/",
          "height": 59
        }
      },
      "source": [
        "solU4t[0][0]"
      ],
      "execution_count": 27,
      "outputs": [
        {
          "output_type": "execute_result",
          "data": {
            "text/plain": [
              "(h_1*u_1 - h_4*u_\\mathrm{4b} - sqrt(-g*h_1**2*h_\\mathrm{t} + g*h_4**2*h_\\mathrm{t} + h_1**2*u_1**2 - 2*h_1*h_4*u_1*u_\\mathrm{4b} - 2*h_1*h_\\mathrm{t}*u_1**2 + 2*h_1*h_\\mathrm{t}*u_1*u_\\mathrm{4b} + h_4**2*u_\\mathrm{4b}**2 + h_\\mathrm{t}**2*u_\\mathrm{4b}**2))/h_\\mathrm{t}"
            ],
            "text/latex": "$\\displaystyle \\frac{h_{1} u_{1} - h_{4} u_\\mathrm{4b} - \\sqrt{- g h_{1}^{2} h_\\mathrm{t} + g h_{4}^{2} h_\\mathrm{t} + h_{1}^{2} u_{1}^{2} - 2 h_{1} h_{4} u_{1} u_\\mathrm{4b} - 2 h_{1} h_\\mathrm{t} u_{1}^{2} + 2 h_{1} h_\\mathrm{t} u_{1} u_\\mathrm{4b} + h_{4}^{2} u_\\mathrm{4b}^{2} + h_\\mathrm{t}^{2} u_\\mathrm{4b}^{2}}}{h_\\mathrm{t}}$"
          },
          "metadata": {},
          "execution_count": 27
        }
      ]
    },
    {
      "cell_type": "code",
      "metadata": {
        "colab": {
          "base_uri": "https://localhost:8080/",
          "height": 38
        },
        "id": "PYP2inGAf-pu",
        "outputId": "d6585d7e-9f32-4b77-b3b3-3b1efd14a79f"
      },
      "source": [
        "C1 = symbols(\"C_1\")\n",
        "SC1 = u1*h1 - h4 * u4b\n",
        "SC1"
      ],
      "execution_count": 28,
      "outputs": [
        {
          "output_type": "execute_result",
          "data": {
            "text/plain": [
              "h_1*u_1 - h_4*u_\\mathrm{4b}"
            ],
            "text/latex": "$\\displaystyle h_{1} u_{1} - h_{4} u_\\mathrm{4b}$"
          },
          "metadata": {},
          "execution_count": 28
        }
      ]
    },
    {
      "cell_type": "code",
      "source": [
        "SC2=expand(simplify( (solU4t[0][0]*ht-SC1)**2-SC1**2 ))\n",
        "SC2"
      ],
      "metadata": {
        "colab": {
          "base_uri": "https://localhost:8080/",
          "height": 38
        },
        "id": "-8c8kbQa4edo",
        "outputId": "b40d3a71-1d2a-45de-bd12-f701920f4c15"
      },
      "execution_count": 29,
      "outputs": [
        {
          "output_type": "execute_result",
          "data": {
            "text/plain": [
              "-g*h_1**2*h_\\mathrm{t} + g*h_4**2*h_\\mathrm{t} - 2*h_1*h_\\mathrm{t}*u_1**2 + 2*h_1*h_\\mathrm{t}*u_1*u_\\mathrm{4b} + h_\\mathrm{t}**2*u_\\mathrm{4b}**2"
            ],
            "text/latex": "$\\displaystyle - g h_{1}^{2} h_\\mathrm{t} + g h_{4}^{2} h_\\mathrm{t} - 2 h_{1} h_\\mathrm{t} u_{1}^{2} + 2 h_{1} h_\\mathrm{t} u_{1} u_\\mathrm{4b} + h_\\mathrm{t}^{2} u_\\mathrm{4b}^{2}$"
          },
          "metadata": {},
          "execution_count": 29
        }
      ]
    },
    {
      "cell_type": "code",
      "metadata": {
        "colab": {
          "base_uri": "https://localhost:8080/",
          "height": 38
        },
        "id": "3xwoFwvWlmsy",
        "outputId": "325309a7-b327-425a-a170-f8a6dd2d2685"
      },
      "source": [
        "C2 = symbols(\"C_2\")\n",
        "SC2 = expand(g*(ht**2 * u4b**2 + ht*(h4**2+2*u1*(-u1+u4b)-1)))+C1**2\n",
        "SC2"
      ],
      "execution_count": 30,
      "outputs": [
        {
          "output_type": "execute_result",
          "data": {
            "text/plain": [
              "C_1**2 + g*h_4**2*h_\\mathrm{t} + g*h_\\mathrm{t}**2*u_\\mathrm{4b}**2 - 2*g*h_\\mathrm{t}*u_1**2 + 2*g*h_\\mathrm{t}*u_1*u_\\mathrm{4b} - g*h_\\mathrm{t}"
            ],
            "text/latex": "$\\displaystyle C_{1}^{2} + g h_{4}^{2} h_\\mathrm{t} + g h_\\mathrm{t}^{2} u_\\mathrm{4b}^{2} - 2 g h_\\mathrm{t} u_{1}^{2} + 2 g h_\\mathrm{t} u_{1} u_\\mathrm{4b} - g h_\\mathrm{t}$"
          },
          "metadata": {},
          "execution_count": 30
        }
      ]
    },
    {
      "cell_type": "code",
      "metadata": {
        "colab": {
          "base_uri": "https://localhost:8080/",
          "height": 59
        },
        "id": "u2jMMO0aKYwZ",
        "outputId": "7c0423a9-2c32-40fe-bd4d-9a979f822a54"
      },
      "source": [
        "collect(collect(solU4t[0][0],2*B*u1).subs(SC1,C1)\\\n",
        "          .subs(expand(SC1**2),C1**2),B).subs(SC2,C2)"
      ],
      "execution_count": 31,
      "outputs": [
        {
          "output_type": "execute_result",
          "data": {
            "text/plain": [
              "(C_1 - sqrt(C_1**2 - g*h_1**2*h_\\mathrm{t} + g*h_4**2*h_\\mathrm{t} - 2*h_1*h_\\mathrm{t}*u_1**2 + 2*h_1*h_\\mathrm{t}*u_1*u_\\mathrm{4b} + h_\\mathrm{t}**2*u_\\mathrm{4b}**2))/h_\\mathrm{t}"
            ],
            "text/latex": "$\\displaystyle \\frac{C_{1} - \\sqrt{C_{1}^{2} - g h_{1}^{2} h_\\mathrm{t} + g h_{4}^{2} h_\\mathrm{t} - 2 h_{1} h_\\mathrm{t} u_{1}^{2} + 2 h_{1} h_\\mathrm{t} u_{1} u_\\mathrm{4b} + h_\\mathrm{t}^{2} u_\\mathrm{4b}^{2}}}{h_\\mathrm{t}}$"
          },
          "metadata": {},
          "execution_count": 31
        }
      ]
    },
    {
      "cell_type": "code",
      "metadata": {
        "colab": {
          "base_uri": "https://localhost:8080/",
          "height": 59
        },
        "id": "hweJbZDbb8Mg",
        "outputId": "6a51c364-c1ed-4897-b485-f00623df975f"
      },
      "source": [
        "collect(collect(solU4t[1][0],2*B*u1).subs(SC1,C1)\\\n",
        "          .subs(expand(SC1**2),C1**2),B).subs(SC2,C2)"
      ],
      "execution_count": 32,
      "outputs": [
        {
          "output_type": "execute_result",
          "data": {
            "text/plain": [
              "(C_1 + sqrt(C_1**2 - g*h_1**2*h_\\mathrm{t} + g*h_4**2*h_\\mathrm{t} - 2*h_1*h_\\mathrm{t}*u_1**2 + 2*h_1*h_\\mathrm{t}*u_1*u_\\mathrm{4b} + h_\\mathrm{t}**2*u_\\mathrm{4b}**2))/h_\\mathrm{t}"
            ],
            "text/latex": "$\\displaystyle \\frac{C_{1} + \\sqrt{C_{1}^{2} - g h_{1}^{2} h_\\mathrm{t} + g h_{4}^{2} h_\\mathrm{t} - 2 h_{1} h_\\mathrm{t} u_{1}^{2} + 2 h_{1} h_\\mathrm{t} u_{1} u_\\mathrm{4b} + h_\\mathrm{t}^{2} u_\\mathrm{4b}^{2}}}{h_\\mathrm{t}}$"
          },
          "metadata": {},
          "execution_count": 32
        }
      ]
    },
    {
      "cell_type": "markdown",
      "metadata": {
        "id": "DH19jaqyORp3"
      },
      "source": [
        "# Computing $h_{4b}$ and $h_{4t}$\n",
        "\n",
        "After computing $u_{4t}$ it is easier to compute $h_{4b}$ and $h_{4t}$ from ```eqH2``` and ```eqJ1``` than using the solutions above.\n"
      ]
    },
    {
      "cell_type": "code",
      "metadata": {
        "colab": {
          "base_uri": "https://localhost:8080/",
          "height": 58
        },
        "id": "u3j5c_Doe87Z",
        "outputId": "2aeb7f7e-cf71-4fb2-caa3-a9ba0f26489c"
      },
      "source": [
        "simplify(solve( [ eqH1, eqJ1 ], [h4b,h4t]))"
      ],
      "execution_count": 33,
      "outputs": [
        {
          "output_type": "execute_result",
          "data": {
            "text/plain": [
              "{h_\\mathrm{4b}: (h_1*u_1 - h_4*u_\\mathrm{4t})/(u_\\mathrm{4b} - u_\\mathrm{4t}), h_\\mathrm{4t}: (-h_1*u_1 + h_4*u_\\mathrm{4b})/(u_\\mathrm{4b} - u_\\mathrm{4t})}"
            ],
            "text/latex": "$\\displaystyle \\left\\{ h_\\mathrm{4b} : \\frac{h_{1} u_{1} - h_{4} u_\\mathrm{4t}}{u_\\mathrm{4b} - u_\\mathrm{4t}}, \\  h_\\mathrm{4t} : \\frac{- h_{1} u_{1} + h_{4} u_\\mathrm{4b}}{u_\\mathrm{4b} - u_\\mathrm{4t}}\\right\\}$"
          },
          "metadata": {},
          "execution_count": 33
        }
      ]
    },
    {
      "cell_type": "markdown",
      "metadata": {
        "id": "zSPiASXUJ4fZ"
      },
      "source": [
        "# Selecting the solution with physical meaning\n",
        "\n",
        "Let us show that $C_1$ is always negative which implies that the solution \n",
        "\n",
        "$$u_\\mathrm{4t}=\\dfrac{C_1-\\sqrt{C_1^2+C_2}}{h_\\mathrm{t}}, \\tag{1}$$ \n",
        "\n",
        "is **always negative** (invalid).\n",
        "\n",
        "From the mass balance we get\n",
        "\n",
        "$$ u_1 h_1 = u_{4b} h_\\mathrm{4b} + u_\\mathrm{4t} h_\\mathrm{4t}.$$\n",
        "\n",
        "Since $u_\\mathrm{4t} < u_\\mathrm{4b}$ we found that\n",
        "\n",
        "$$ u_1 h_1 = u_\\mathrm{4b} h_\\mathrm{4b} + u_\\mathrm{4t} h_\\mathrm{4t} \\lt u_\\mathrm{4b} h_4.$$\n",
        "\n",
        "thus giving\n",
        "\n",
        "$$ u_1 h_1 - u_\\mathrm{4b} h_4 \\lt 0,$$\n",
        "\n",
        "giving \n",
        "\n",
        "$$C_1 \\lt 0,$$ \n",
        "\n",
        "or equivalently\n",
        "\n",
        "This implies that the solution given by Eq. (1) is always negative\n",
        "\n",
        "$$u_\\mathrm{4t} \\lt 0.$$ "
      ]
    },
    {
      "cell_type": "code",
      "metadata": {
        "id": "3QZEMvxnNKWv",
        "outputId": "f5e3e625-a7f2-4498-8761-a4823105ad78",
        "colab": {
          "base_uri": "https://localhost:8080/",
          "height": 38
        }
      },
      "source": [
        "eqK1 = Eq( u4b * h4b + u4t * h4t, u5*h5 )\n",
        "eqK1"
      ],
      "execution_count": 34,
      "outputs": [
        {
          "output_type": "execute_result",
          "data": {
            "text/plain": [
              "Eq(h_\\mathrm{4b}*u_\\mathrm{4b} + h_\\mathrm{4t}*u_\\mathrm{4t}, h_5*u_5)"
            ],
            "text/latex": "$\\displaystyle h_\\mathrm{4b} u_\\mathrm{4b} + h_\\mathrm{4t} u_\\mathrm{4t} = h_{5} u_{5}$"
          },
          "metadata": {},
          "execution_count": 34
        }
      ]
    },
    {
      "cell_type": "code",
      "source": [
        "M5, Fp5 = symbols( \"M_{5}, F_\\mathrm{p5}\" )"
      ],
      "metadata": {
        "id": "o2B5Pj4zs-2X"
      },
      "execution_count": 35,
      "outputs": []
    },
    {
      "cell_type": "code",
      "source": [
        "eqL1 = Eq( M5 - M4b - M4t, -(Fp5-Fp4) )\n",
        "eqL1"
      ],
      "metadata": {
        "id": "lonrdTRftMrP",
        "outputId": "3d8948ac-3c1a-4f02-93c4-7f7c665db5e6",
        "colab": {
          "base_uri": "https://localhost:8080/",
          "height": 38
        }
      },
      "execution_count": 36,
      "outputs": [
        {
          "output_type": "execute_result",
          "data": {
            "text/plain": [
              "Eq(-M_\\mathrm{4b} - M_\\mathrm{4t} + M_{5}, F_\\mathrm{p4} - F_\\mathrm{p5})"
            ],
            "text/latex": "$\\displaystyle - M_\\mathrm{4b} - M_\\mathrm{4t} + M_{5} = F_\\mathrm{p4} - F_\\mathrm{p5}$"
          },
          "metadata": {},
          "execution_count": 36
        }
      ]
    },
    {
      "cell_type": "code",
      "source": [
        "eqL2 = eqL1.subs( M4b, ρ*u4b**2*h4b*b).subs( M4t, ρ*u4t**2*h4t*b)\\\n",
        "          .subs( M5, ρ*u5**2*h5*b ).subs( Fp5, ρ*g*b*h5**2/2 )\\\n",
        "          .subs( Fp4, ρ*g*b*h4**2/2 )\n",
        "eqL2"
      ],
      "metadata": {
        "id": "OHtoXH0vsyWq",
        "outputId": "2a9ec9dc-7a91-4632-db49-4afe51bb6899",
        "colab": {
          "base_uri": "https://localhost:8080/",
          "height": 54
        }
      },
      "execution_count": 37,
      "outputs": [
        {
          "output_type": "execute_result",
          "data": {
            "text/plain": [
              "Eq(\\rho*b*h_5*u_5**2 - \\rho*b*h_\\mathrm{4b}*u_\\mathrm{4b}**2 - \\rho*b*h_\\mathrm{4t}*u_\\mathrm{4t}**2, \\rho*b*g*h_4**2/2 - \\rho*b*g*h_5**2/2)"
            ],
            "text/latex": "$\\displaystyle \\rho b h_{5} u_{5}^{2} - \\rho b h_\\mathrm{4b} u_\\mathrm{4b}^{2} - \\rho b h_\\mathrm{4t} u_\\mathrm{4t}^{2} = \\frac{\\rho b g h_{4}^{2}}{2} - \\frac{\\rho b g h_{5}^{2}}{2}$"
          },
          "metadata": {},
          "execution_count": 37
        }
      ]
    },
    {
      "cell_type": "markdown",
      "source": [
        "Multipying by $2 h_5/(\\rho g b)$ and ```eqK1``` using yields"
      ],
      "metadata": {
        "id": "oJlfdKT7Os37"
      }
    },
    {
      "cell_type": "code",
      "source": [
        "eqL3 = expand(simplify( Eq( eqL2.lhs*2/(ρ*g*b)*h5 - eqL2.rhs*2/(ρ*g*b)*h5, 0 ) ) )\n",
        "eqL4 = eqL3.subs( eqK1.rhs**2, eqK1.lhs**2 )\n",
        "eqL4"
      ],
      "metadata": {
        "colab": {
          "base_uri": "https://localhost:8080/",
          "height": 60
        },
        "id": "_DCNbgtJ7wJ_",
        "outputId": "f18e3c1a-b3ca-4726-8322-db0ae6789051"
      },
      "execution_count": 38,
      "outputs": [
        {
          "output_type": "execute_result",
          "data": {
            "text/plain": [
              "Eq(-h_4**2*h_5 + h_5**3 - 2*h_5*h_\\mathrm{4b}*u_\\mathrm{4b}**2/g - 2*h_5*h_\\mathrm{4t}*u_\\mathrm{4t}**2/g + 2*(h_\\mathrm{4b}*u_\\mathrm{4b} + h_\\mathrm{4t}*u_\\mathrm{4t})**2/g, 0)"
            ],
            "text/latex": "$\\displaystyle - h_{4}^{2} h_{5} + h_{5}^{3} - \\frac{2 h_{5} h_\\mathrm{4b} u_\\mathrm{4b}^{2}}{g} - \\frac{2 h_{5} h_\\mathrm{4t} u_\\mathrm{4t}^{2}}{g} + \\frac{2 \\left(h_\\mathrm{4b} u_\\mathrm{4b} + h_\\mathrm{4t} u_\\mathrm{4t}\\right)^{2}}{g} = 0$"
          },
          "metadata": {},
          "execution_count": 38
        }
      ]
    },
    {
      "cell_type": "code",
      "source": [
        "sc5 = collect( eqL4.lhs, h5 )\n",
        "sc5"
      ],
      "metadata": {
        "id": "uxemasTVwmFJ",
        "outputId": "dc80e0c7-54e7-4f03-b5dc-ac0c02a52fd4",
        "colab": {
          "base_uri": "https://localhost:8080/",
          "height": 61
        }
      },
      "execution_count": 39,
      "outputs": [
        {
          "output_type": "execute_result",
          "data": {
            "text/plain": [
              "h_5**3 + h_5*(-h_4**2 - 2*h_\\mathrm{4b}*u_\\mathrm{4b}**2/g - 2*h_\\mathrm{4t}*u_\\mathrm{4t}**2/g) + 2*(h_\\mathrm{4b}*u_\\mathrm{4b} + h_\\mathrm{4t}*u_\\mathrm{4t})**2/g"
            ],
            "text/latex": "$\\displaystyle h_{5}^{3} + h_{5} \\left(- h_{4}^{2} - \\frac{2 h_\\mathrm{4b} u_\\mathrm{4b}^{2}}{g} - \\frac{2 h_\\mathrm{4t} u_\\mathrm{4t}^{2}}{g}\\right) + \\frac{2 \\left(h_\\mathrm{4b} u_\\mathrm{4b} + h_\\mathrm{4t} u_\\mathrm{4t}\\right)^{2}}{g}$"
          },
          "metadata": {},
          "execution_count": 39
        }
      ]
    },
    {
      "cell_type": "markdown",
      "source": [
        "The previous cubic equation can be solved with the Cardano's solution "
      ],
      "metadata": {
        "id": "y3vSMEtrTGqY"
      }
    },
    {
      "cell_type": "code",
      "source": [],
      "metadata": {
        "id": "ImOKfjNLTOc2"
      },
      "execution_count": 39,
      "outputs": []
    }
  ]
}