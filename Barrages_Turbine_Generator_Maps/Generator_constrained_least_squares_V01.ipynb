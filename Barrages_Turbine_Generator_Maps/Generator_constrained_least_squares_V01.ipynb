{
  "nbformat": 4,
  "nbformat_minor": 0,
  "metadata": {
    "kernelspec": {
      "name": "python376jvsc74a57bd045396ad5a0a8f7d4076663681221ca9941fed63b77bafec651b40f099150694b",
      "display_name": "Python 3.7.6 64-bit ('base': conda)"
    },
    "language_info": {
      "codemirror_mode": {
        "name": "ipython",
        "version": 3
      },
      "file_extension": ".py",
      "mimetype": "text/x-python",
      "name": "python",
      "nbconvert_exporter": "python",
      "pygments_lexer": "ipython3",
      "version": "3.7.6"
    },
    "colab": {
      "name": "Generator_constrained_least_squares_V01.ipynb",
      "provenance": [],
      "include_colab_link": true
    }
  },
  "cells": [
    {
      "cell_type": "markdown",
      "metadata": {
        "id": "view-in-github",
        "colab_type": "text"
      },
      "source": [
        "<a href=\"https://colab.research.google.com/github/joaochenriques/MCTE_2020_2021/blob/main/Barrages_Turbine_Generator_Maps/Generator_constrained_least_squares_V01.ipynb\" target=\"_parent\"><img src=\"https://colab.research.google.com/assets/colab-badge.svg\" alt=\"Open In Colab\"/></a>"
      ]
    },
    {
      "cell_type": "code",
      "metadata": {
        "id": "3keq3fmcUdQM"
      },
      "source": [
        "import numpy as np\n",
        "import pandas as pd\n",
        "from pylab import *\n",
        "from sympy import Symbol,expand\n",
        "%config InlineBackend.figure_formats = ['svg']\n",
        "\n",
        "x=Symbol('x')"
      ],
      "execution_count": 1,
      "outputs": []
    },
    {
      "cell_type": "code",
      "metadata": {
        "id": "5mMT2w7FxgMg",
        "outputId": "ad6b02e1-7591-4530-9131-5a7522335478",
        "colab": {
          "base_uri": "https://localhost:8080/"
        }
      },
      "source": [
        "import pathlib\n",
        "if not pathlib.Path(\"Generator_Data_ElisabetaTedeschi.xlsx\").exists():\n",
        "  !curl -O https://raw.githubusercontent.com/joaochenriques/MCTE_2020_2021/main/Barrages_Turbine_Generator_Maps/Generator_Data_ElisabetaTedeschi.xlsx"
      ],
      "execution_count": 2,
      "outputs": [
        {
          "output_type": "stream",
          "text": [
            "  % Total    % Received % Xferd  Average Speed   Time    Time     Time  Current\n",
            "                                 Dload  Upload   Total   Spent    Left  Speed\n",
            "\r  0     0    0     0    0     0      0      0 --:--:-- --:--:-- --:--:--     0\r100  8684  100  8684    0     0  39294      0 --:--:-- --:--:-- --:--:-- 39294\n"
          ],
          "name": "stdout"
        }
      ]
    },
    {
      "cell_type": "code",
      "metadata": {
        "id": "u8A0hwG9UdQZ"
      },
      "source": [
        "def LSQ_polyfit( NP, XL, XC_fun, XC_der ):\n",
        "  \n",
        "    ########################################################\n",
        "    # LINEAR LEAST SQUARES PROBLEM\n",
        "    #\n",
        "    ( xl, yl ) = XL\n",
        "\n",
        "    # Vandermonde matrix\n",
        "    X = xl[:, None] ** np.arange( NP, -1, -1 )\n",
        "\n",
        "    XTX = X.transpose().dot( X )\n",
        "    XTy = X.transpose().dot( yl )\n",
        "\n",
        "    # NO CONSTRAINTS IMPOSED => standard LSQ solution\n",
        "    if XC_fun == None and XC_der == None:\n",
        "      AA = XTX\n",
        "      bb = XTy\n",
        "      return np.linalg.solve( AA, bb )\n",
        "\n",
        "    ########################################################\n",
        "    # LAGRANGE MULTIPLIERS FOR CONSTRAINTS\n",
        "    #\n",
        "    if XC_fun != None:\n",
        "      ( xc_fun, yc_fun ) = XC_fun \n",
        "\n",
        "      # function constraints\n",
        "      xF = np.array( xc_fun ) \n",
        "      bF = np.array( yc_fun ) \n",
        "\n",
        "      # Vandermonde matrix\n",
        "      AF = xF[:, None] ** np.arange( NP, -1, -1 )\n",
        "\n",
        "    if XC_der != None:\n",
        "      ( xc_der, yc_der ) = XC_der\n",
        "\n",
        "      # derivative constraints\n",
        "      xD = np.array( xc_der )\n",
        "      bD = np.array( yc_der ) \n",
        "\n",
        "      # Derivative of the Vandermonde matrix\n",
        "      AD = np.array( [  (i*xD**(i-1) if i > 0 else 0*xD) \\\n",
        "                        for i in range(NP,-1,-1) ] ).T\n",
        "\n",
        "    if XC_fun != None and XC_der != None:\n",
        "      Ac = np.block( [ [AF], [AD] ] )\n",
        "      bc = np.block( [ bF, bD ] )\n",
        "    elif XC_fun != None:\n",
        "      Ac = AF\n",
        "      bc = bF\n",
        "    elif XC_der != None:\n",
        "      Ac = AD\n",
        "      bc = bD\n",
        "      \n",
        "    AcT = Ac.transpose()\n",
        "    Z0 = np.zeros( ( Ac.shape[0], Ac.shape[0] ) )\n",
        "\n",
        "    ########################################################\n",
        "    # ASSEMBLE AND SOLVE GLOBAL SYSTEM\n",
        "    #\n",
        "    AA = np.block( [ [ XTX, AcT ], [ Ac, Z0 ] ] )\n",
        "    bb = np.block( [ XTy, bc ] )\n",
        "      \n",
        "    alambda = np.linalg.solve( AA, bb )\n",
        "\n",
        "    # final polynomial coeffs without lambdas\n",
        "    return alambda[ 0:NP+1 ]"
      ],
      "execution_count": 3,
      "outputs": []
    },
    {
      "cell_type": "code",
      "metadata": {
        "id": "img9A6ROUdQa"
      },
      "source": [
        "dfc = pd.read_excel( 'Generator_Data_ElisabetaTedeschi.xlsx', 'Sheet1' )\n",
        "Load = np.array( dfc['Load'] )\n",
        "Eff = np.array( dfc['Eff'] )\n",
        "\n",
        "Load = np.array( Load[~np.isnan(Load)] )\n",
        "Eff = np.array( Eff[~np.isnan(Eff)] )"
      ],
      "execution_count": 4,
      "outputs": []
    },
    {
      "cell_type": "code",
      "metadata": {
        "id": "ieHLRBRfw73e"
      },
      "source": [
        "Load_1 = Load[:6]\n",
        "Load_2 = Load[5:]\n",
        "Eff_1  = Eff[:6]\n",
        "Eff_2  = Eff[5:]"
      ],
      "execution_count": 5,
      "outputs": []
    },
    {
      "cell_type": "code",
      "metadata": {
        "id": "-60Gw9_ow73e",
        "colab": {
          "base_uri": "https://localhost:8080/",
          "height": 465
        },
        "outputId": "31839894-d739-4a9c-b1ef-406bbd988c77"
      },
      "source": [
        "plt.plot( Load_1, Eff_1, 'o' )\n",
        "plt.plot( Load_2, Eff_2, 'o' )\n",
        "\n",
        "poly_C1 = LSQ_polyfit( 4, ( Load_1, Eff_1 ), ([Load_1[-1]],[Eff_1[-1]]), None )\n",
        "Load_1_plt = np.linspace( Load_1[0], Load_1[-1], 100 )\n",
        "Eff_1_plt = np.polyval( poly_C1, Load_1_plt )\n",
        "plot( Load_1_plt, Eff_1_plt, '-' )\n",
        "\n",
        "# impose derivative at curved common point\n",
        "poly_C1_der = np.poly1d( poly_C1 ).deriv()\n",
        "der1 = poly_C1_der(Load_2[0])\n",
        "\n",
        "poly_C2 = LSQ_polyfit( 4, ( Load_2, Eff_2 ), ([Load_2[0]],[Eff_2[0]]), ([Load_2[0]],[der1]) )\n",
        "Load_2_plt = np.linspace( Load_2[0], 1.0, 100 )\n",
        "Eff_2_plt = np.polyval( poly_C2, Load_2_plt )\n",
        "plot( Load_2_plt, Eff_2_plt, '-' )\n",
        "\n",
        "display( expand(np.poly1d( np.round( poly_C1, 5 ) )(x)) )\n",
        "display( expand(np.poly1d( np.round( poly_C2, 5 ) )(x)) )\n",
        "Load_2[0], poly_C1, poly_C2"
      ],
      "execution_count": 6,
      "outputs": [
        {
          "output_type": "display_data",
          "data": {
            "text/latex": "$\\displaystyle - 6714.48631 x^{4} + 2591.59775 x^{3} - 380.83406 x^{2} + 27.04232 x + 0.00329$",
            "text/plain": [
              "-6714.48631*x**4 + 2591.59775*x**3 - 380.83406*x**2 + 27.04232*x + 0.00329"
            ]
          },
          "metadata": {
            "tags": []
          }
        },
        {
          "output_type": "display_data",
          "data": {
            "text/latex": "$\\displaystyle - 1.16857 x^{4} + 3.31173 x^{3} - 3.44296 x^{2} + 1.5416 x + 0.71041$",
            "text/plain": [
              "-1.16857*x**4 + 3.31173*x**3 - 3.44296*x**2 + 1.5416*x + 0.71041"
            ]
          },
          "metadata": {
            "tags": []
          }
        },
        {
          "output_type": "execute_result",
          "data": {
            "text/plain": [
              "(0.125423729,\n",
              " array([-6.71448631e+03,  2.59159775e+03, -3.80834059e+02,  2.70423225e+01,\n",
              "         3.29394948e-03]),\n",
              " array([-1.16856952,  3.31172525, -3.44296217,  1.5416029 ,  0.71040716]))"
            ]
          },
          "metadata": {
            "tags": []
          },
          "execution_count": 6
        },
        {
          "output_type": "display_data",
          "data": {
            "text/plain": [
              "<Figure size 432x288 with 1 Axes>"
            ],
            "image/svg+xml": "<?xml version=\"1.0\" encoding=\"utf-8\" standalone=\"no\"?>\n<!DOCTYPE svg PUBLIC \"-//W3C//DTD SVG 1.1//EN\"\n  \"http://www.w3.org/Graphics/SVG/1.1/DTD/svg11.dtd\">\n<!-- Created with matplotlib (https://matplotlib.org/) -->\n<svg height=\"250.369844pt\" version=\"1.1\" viewBox=\"0 0 372.103125 250.369844\" width=\"372.103125pt\" xmlns=\"http://www.w3.org/2000/svg\" xmlns:xlink=\"http://www.w3.org/1999/xlink\">\n <defs>\n  <style type=\"text/css\">\n*{stroke-linecap:butt;stroke-linejoin:round;}\n  </style>\n </defs>\n <g id=\"figure_1\">\n  <g id=\"patch_1\">\n   <path d=\"M 0 250.369844 \nL 372.103125 250.369844 \nL 372.103125 0 \nL 0 0 \nz\n\" style=\"fill:none;\"/>\n  </g>\n  <g id=\"axes_1\">\n   <g id=\"patch_2\">\n    <path d=\"M 30.103125 226.491719 \nL 364.903125 226.491719 \nL 364.903125 9.051719 \nL 30.103125 9.051719 \nz\n\" style=\"fill:#ffffff;\"/>\n   </g>\n   <g id=\"matplotlib.axis_1\">\n    <g id=\"xtick_1\">\n     <g id=\"line2d_1\">\n      <defs>\n       <path d=\"M 0 0 \nL 0 3.5 \n\" id=\"m115f899502\" style=\"stroke:#000000;stroke-width:0.8;\"/>\n      </defs>\n      <g>\n       <use style=\"stroke:#000000;stroke-width:0.8;\" x=\"45.321307\" xlink:href=\"#m115f899502\" y=\"226.491719\"/>\n      </g>\n     </g>\n     <g id=\"text_1\">\n      <!-- 0.0 -->\n      <defs>\n       <path d=\"M 31.78125 66.40625 \nQ 24.171875 66.40625 20.328125 58.90625 \nQ 16.5 51.421875 16.5 36.375 \nQ 16.5 21.390625 20.328125 13.890625 \nQ 24.171875 6.390625 31.78125 6.390625 \nQ 39.453125 6.390625 43.28125 13.890625 \nQ 47.125 21.390625 47.125 36.375 \nQ 47.125 51.421875 43.28125 58.90625 \nQ 39.453125 66.40625 31.78125 66.40625 \nz\nM 31.78125 74.21875 \nQ 44.046875 74.21875 50.515625 64.515625 \nQ 56.984375 54.828125 56.984375 36.375 \nQ 56.984375 17.96875 50.515625 8.265625 \nQ 44.046875 -1.421875 31.78125 -1.421875 \nQ 19.53125 -1.421875 13.0625 8.265625 \nQ 6.59375 17.96875 6.59375 36.375 \nQ 6.59375 54.828125 13.0625 64.515625 \nQ 19.53125 74.21875 31.78125 74.21875 \nz\n\" id=\"DejaVuSans-48\"/>\n       <path d=\"M 10.6875 12.40625 \nL 21 12.40625 \nL 21 0 \nL 10.6875 0 \nz\n\" id=\"DejaVuSans-46\"/>\n      </defs>\n      <g transform=\"translate(37.369744 241.090156)scale(0.1 -0.1)\">\n       <use xlink:href=\"#DejaVuSans-48\"/>\n       <use x=\"63.623047\" xlink:href=\"#DejaVuSans-46\"/>\n       <use x=\"95.410156\" xlink:href=\"#DejaVuSans-48\"/>\n      </g>\n     </g>\n    </g>\n    <g id=\"xtick_2\">\n     <g id=\"line2d_2\">\n      <g>\n       <use style=\"stroke:#000000;stroke-width:0.8;\" x=\"106.194034\" xlink:href=\"#m115f899502\" y=\"226.491719\"/>\n      </g>\n     </g>\n     <g id=\"text_2\">\n      <!-- 0.2 -->\n      <defs>\n       <path d=\"M 19.1875 8.296875 \nL 53.609375 8.296875 \nL 53.609375 0 \nL 7.328125 0 \nL 7.328125 8.296875 \nQ 12.9375 14.109375 22.625 23.890625 \nQ 32.328125 33.6875 34.8125 36.53125 \nQ 39.546875 41.84375 41.421875 45.53125 \nQ 43.3125 49.21875 43.3125 52.78125 \nQ 43.3125 58.59375 39.234375 62.25 \nQ 35.15625 65.921875 28.609375 65.921875 \nQ 23.96875 65.921875 18.8125 64.3125 \nQ 13.671875 62.703125 7.8125 59.421875 \nL 7.8125 69.390625 \nQ 13.765625 71.78125 18.9375 73 \nQ 24.125 74.21875 28.421875 74.21875 \nQ 39.75 74.21875 46.484375 68.546875 \nQ 53.21875 62.890625 53.21875 53.421875 \nQ 53.21875 48.921875 51.53125 44.890625 \nQ 49.859375 40.875 45.40625 35.40625 \nQ 44.1875 33.984375 37.640625 27.21875 \nQ 31.109375 20.453125 19.1875 8.296875 \nz\n\" id=\"DejaVuSans-50\"/>\n      </defs>\n      <g transform=\"translate(98.242472 241.090156)scale(0.1 -0.1)\">\n       <use xlink:href=\"#DejaVuSans-48\"/>\n       <use x=\"63.623047\" xlink:href=\"#DejaVuSans-46\"/>\n       <use x=\"95.410156\" xlink:href=\"#DejaVuSans-50\"/>\n      </g>\n     </g>\n    </g>\n    <g id=\"xtick_3\">\n     <g id=\"line2d_3\">\n      <g>\n       <use style=\"stroke:#000000;stroke-width:0.8;\" x=\"167.066761\" xlink:href=\"#m115f899502\" y=\"226.491719\"/>\n      </g>\n     </g>\n     <g id=\"text_3\">\n      <!-- 0.4 -->\n      <defs>\n       <path d=\"M 37.796875 64.3125 \nL 12.890625 25.390625 \nL 37.796875 25.390625 \nz\nM 35.203125 72.90625 \nL 47.609375 72.90625 \nL 47.609375 25.390625 \nL 58.015625 25.390625 \nL 58.015625 17.1875 \nL 47.609375 17.1875 \nL 47.609375 0 \nL 37.796875 0 \nL 37.796875 17.1875 \nL 4.890625 17.1875 \nL 4.890625 26.703125 \nz\n\" id=\"DejaVuSans-52\"/>\n      </defs>\n      <g transform=\"translate(159.115199 241.090156)scale(0.1 -0.1)\">\n       <use xlink:href=\"#DejaVuSans-48\"/>\n       <use x=\"63.623047\" xlink:href=\"#DejaVuSans-46\"/>\n       <use x=\"95.410156\" xlink:href=\"#DejaVuSans-52\"/>\n      </g>\n     </g>\n    </g>\n    <g id=\"xtick_4\">\n     <g id=\"line2d_4\">\n      <g>\n       <use style=\"stroke:#000000;stroke-width:0.8;\" x=\"227.939489\" xlink:href=\"#m115f899502\" y=\"226.491719\"/>\n      </g>\n     </g>\n     <g id=\"text_4\">\n      <!-- 0.6 -->\n      <defs>\n       <path d=\"M 33.015625 40.375 \nQ 26.375 40.375 22.484375 35.828125 \nQ 18.609375 31.296875 18.609375 23.390625 \nQ 18.609375 15.53125 22.484375 10.953125 \nQ 26.375 6.390625 33.015625 6.390625 \nQ 39.65625 6.390625 43.53125 10.953125 \nQ 47.40625 15.53125 47.40625 23.390625 \nQ 47.40625 31.296875 43.53125 35.828125 \nQ 39.65625 40.375 33.015625 40.375 \nz\nM 52.59375 71.296875 \nL 52.59375 62.3125 \nQ 48.875 64.0625 45.09375 64.984375 \nQ 41.3125 65.921875 37.59375 65.921875 \nQ 27.828125 65.921875 22.671875 59.328125 \nQ 17.53125 52.734375 16.796875 39.40625 \nQ 19.671875 43.65625 24.015625 45.921875 \nQ 28.375 48.1875 33.59375 48.1875 \nQ 44.578125 48.1875 50.953125 41.515625 \nQ 57.328125 34.859375 57.328125 23.390625 \nQ 57.328125 12.15625 50.6875 5.359375 \nQ 44.046875 -1.421875 33.015625 -1.421875 \nQ 20.359375 -1.421875 13.671875 8.265625 \nQ 6.984375 17.96875 6.984375 36.375 \nQ 6.984375 53.65625 15.1875 63.9375 \nQ 23.390625 74.21875 37.203125 74.21875 \nQ 40.921875 74.21875 44.703125 73.484375 \nQ 48.484375 72.75 52.59375 71.296875 \nz\n\" id=\"DejaVuSans-54\"/>\n      </defs>\n      <g transform=\"translate(219.987926 241.090156)scale(0.1 -0.1)\">\n       <use xlink:href=\"#DejaVuSans-48\"/>\n       <use x=\"63.623047\" xlink:href=\"#DejaVuSans-46\"/>\n       <use x=\"95.410156\" xlink:href=\"#DejaVuSans-54\"/>\n      </g>\n     </g>\n    </g>\n    <g id=\"xtick_5\">\n     <g id=\"line2d_5\">\n      <g>\n       <use style=\"stroke:#000000;stroke-width:0.8;\" x=\"288.812216\" xlink:href=\"#m115f899502\" y=\"226.491719\"/>\n      </g>\n     </g>\n     <g id=\"text_5\">\n      <!-- 0.8 -->\n      <defs>\n       <path d=\"M 31.78125 34.625 \nQ 24.75 34.625 20.71875 30.859375 \nQ 16.703125 27.09375 16.703125 20.515625 \nQ 16.703125 13.921875 20.71875 10.15625 \nQ 24.75 6.390625 31.78125 6.390625 \nQ 38.8125 6.390625 42.859375 10.171875 \nQ 46.921875 13.96875 46.921875 20.515625 \nQ 46.921875 27.09375 42.890625 30.859375 \nQ 38.875 34.625 31.78125 34.625 \nz\nM 21.921875 38.8125 \nQ 15.578125 40.375 12.03125 44.71875 \nQ 8.5 49.078125 8.5 55.328125 \nQ 8.5 64.0625 14.71875 69.140625 \nQ 20.953125 74.21875 31.78125 74.21875 \nQ 42.671875 74.21875 48.875 69.140625 \nQ 55.078125 64.0625 55.078125 55.328125 \nQ 55.078125 49.078125 51.53125 44.71875 \nQ 48 40.375 41.703125 38.8125 \nQ 48.828125 37.15625 52.796875 32.3125 \nQ 56.78125 27.484375 56.78125 20.515625 \nQ 56.78125 9.90625 50.3125 4.234375 \nQ 43.84375 -1.421875 31.78125 -1.421875 \nQ 19.734375 -1.421875 13.25 4.234375 \nQ 6.78125 9.90625 6.78125 20.515625 \nQ 6.78125 27.484375 10.78125 32.3125 \nQ 14.796875 37.15625 21.921875 38.8125 \nz\nM 18.3125 54.390625 \nQ 18.3125 48.734375 21.84375 45.5625 \nQ 25.390625 42.390625 31.78125 42.390625 \nQ 38.140625 42.390625 41.71875 45.5625 \nQ 45.3125 48.734375 45.3125 54.390625 \nQ 45.3125 60.0625 41.71875 63.234375 \nQ 38.140625 66.40625 31.78125 66.40625 \nQ 25.390625 66.40625 21.84375 63.234375 \nQ 18.3125 60.0625 18.3125 54.390625 \nz\n\" id=\"DejaVuSans-56\"/>\n      </defs>\n      <g transform=\"translate(280.860653 241.090156)scale(0.1 -0.1)\">\n       <use xlink:href=\"#DejaVuSans-48\"/>\n       <use x=\"63.623047\" xlink:href=\"#DejaVuSans-46\"/>\n       <use x=\"95.410156\" xlink:href=\"#DejaVuSans-56\"/>\n      </g>\n     </g>\n    </g>\n    <g id=\"xtick_6\">\n     <g id=\"line2d_6\">\n      <g>\n       <use style=\"stroke:#000000;stroke-width:0.8;\" x=\"349.684943\" xlink:href=\"#m115f899502\" y=\"226.491719\"/>\n      </g>\n     </g>\n     <g id=\"text_6\">\n      <!-- 1.0 -->\n      <defs>\n       <path d=\"M 12.40625 8.296875 \nL 28.515625 8.296875 \nL 28.515625 63.921875 \nL 10.984375 60.40625 \nL 10.984375 69.390625 \nL 28.421875 72.90625 \nL 38.28125 72.90625 \nL 38.28125 8.296875 \nL 54.390625 8.296875 \nL 54.390625 0 \nL 12.40625 0 \nz\n\" id=\"DejaVuSans-49\"/>\n      </defs>\n      <g transform=\"translate(341.733381 241.090156)scale(0.1 -0.1)\">\n       <use xlink:href=\"#DejaVuSans-49\"/>\n       <use x=\"63.623047\" xlink:href=\"#DejaVuSans-46\"/>\n       <use x=\"95.410156\" xlink:href=\"#DejaVuSans-48\"/>\n      </g>\n     </g>\n    </g>\n   </g>\n   <g id=\"matplotlib.axis_2\">\n    <g id=\"ytick_1\">\n     <g id=\"line2d_7\">\n      <defs>\n       <path d=\"M 0 0 \nL -3.5 0 \n\" id=\"m60f5020661\" style=\"stroke:#000000;stroke-width:0.8;\"/>\n      </defs>\n      <g>\n       <use style=\"stroke:#000000;stroke-width:0.8;\" x=\"30.103125\" xlink:href=\"#m60f5020661\" y=\"216.608082\"/>\n      </g>\n     </g>\n     <g id=\"text_7\">\n      <!-- 0.0 -->\n      <g transform=\"translate(7.2 220.407301)scale(0.1 -0.1)\">\n       <use xlink:href=\"#DejaVuSans-48\"/>\n       <use x=\"63.623047\" xlink:href=\"#DejaVuSans-46\"/>\n       <use x=\"95.410156\" xlink:href=\"#DejaVuSans-48\"/>\n      </g>\n     </g>\n    </g>\n    <g id=\"ytick_2\">\n     <g id=\"line2d_8\">\n      <g>\n       <use style=\"stroke:#000000;stroke-width:0.8;\" x=\"30.103125\" xlink:href=\"#m60f5020661\" y=\"175.48631\"/>\n      </g>\n     </g>\n     <g id=\"text_8\">\n      <!-- 0.2 -->\n      <g transform=\"translate(7.2 179.285528)scale(0.1 -0.1)\">\n       <use xlink:href=\"#DejaVuSans-48\"/>\n       <use x=\"63.623047\" xlink:href=\"#DejaVuSans-46\"/>\n       <use x=\"95.410156\" xlink:href=\"#DejaVuSans-50\"/>\n      </g>\n     </g>\n    </g>\n    <g id=\"ytick_3\">\n     <g id=\"line2d_9\">\n      <g>\n       <use style=\"stroke:#000000;stroke-width:0.8;\" x=\"30.103125\" xlink:href=\"#m60f5020661\" y=\"134.364537\"/>\n      </g>\n     </g>\n     <g id=\"text_9\">\n      <!-- 0.4 -->\n      <g transform=\"translate(7.2 138.163756)scale(0.1 -0.1)\">\n       <use xlink:href=\"#DejaVuSans-48\"/>\n       <use x=\"63.623047\" xlink:href=\"#DejaVuSans-46\"/>\n       <use x=\"95.410156\" xlink:href=\"#DejaVuSans-52\"/>\n      </g>\n     </g>\n    </g>\n    <g id=\"ytick_4\">\n     <g id=\"line2d_10\">\n      <g>\n       <use style=\"stroke:#000000;stroke-width:0.8;\" x=\"30.103125\" xlink:href=\"#m60f5020661\" y=\"93.242764\"/>\n      </g>\n     </g>\n     <g id=\"text_10\">\n      <!-- 0.6 -->\n      <g transform=\"translate(7.2 97.041983)scale(0.1 -0.1)\">\n       <use xlink:href=\"#DejaVuSans-48\"/>\n       <use x=\"63.623047\" xlink:href=\"#DejaVuSans-46\"/>\n       <use x=\"95.410156\" xlink:href=\"#DejaVuSans-54\"/>\n      </g>\n     </g>\n    </g>\n    <g id=\"ytick_5\">\n     <g id=\"line2d_11\">\n      <g>\n       <use style=\"stroke:#000000;stroke-width:0.8;\" x=\"30.103125\" xlink:href=\"#m60f5020661\" y=\"52.120991\"/>\n      </g>\n     </g>\n     <g id=\"text_11\">\n      <!-- 0.8 -->\n      <g transform=\"translate(7.2 55.92021)scale(0.1 -0.1)\">\n       <use xlink:href=\"#DejaVuSans-48\"/>\n       <use x=\"63.623047\" xlink:href=\"#DejaVuSans-46\"/>\n       <use x=\"95.410156\" xlink:href=\"#DejaVuSans-56\"/>\n      </g>\n     </g>\n    </g>\n    <g id=\"ytick_6\">\n     <g id=\"line2d_12\">\n      <g>\n       <use style=\"stroke:#000000;stroke-width:0.8;\" x=\"30.103125\" xlink:href=\"#m60f5020661\" y=\"10.999219\"/>\n      </g>\n     </g>\n     <g id=\"text_12\">\n      <!-- 1.0 -->\n      <g transform=\"translate(7.2 14.798437)scale(0.1 -0.1)\">\n       <use xlink:href=\"#DejaVuSans-49\"/>\n       <use x=\"63.623047\" xlink:href=\"#DejaVuSans-46\"/>\n       <use x=\"95.410156\" xlink:href=\"#DejaVuSans-48\"/>\n      </g>\n     </g>\n    </g>\n   </g>\n   <g id=\"line2d_13\">\n    <defs>\n     <path d=\"M 0 3 \nC 0.795609 3 1.55874 2.683901 2.12132 2.12132 \nC 2.683901 1.55874 3 0.795609 3 0 \nC 3 -0.795609 2.683901 -1.55874 2.12132 -2.12132 \nC 1.55874 -2.683901 0.795609 -3 0 -3 \nC -0.795609 -3 -1.55874 -2.683901 -2.12132 -2.12132 \nC -2.683901 -1.55874 -3 -0.795609 -3 0 \nC -3 0.795609 -2.683901 1.55874 -2.12132 2.12132 \nC -1.55874 2.683901 -0.795609 3 0 3 \nz\n\" id=\"m5df6cb9e59\" style=\"stroke:#1f77b4;\"/>\n    </defs>\n    <g clip-path=\"url(#p3db5ac209a)\">\n     <use style=\"fill:#1f77b4;stroke:#1f77b4;\" x=\"45.321307\" xlink:href=\"#m5df6cb9e59\" y=\"216.608082\"/>\n     <use style=\"fill:#1f77b4;stroke:#1f77b4;\" x=\"49.448271\" xlink:href=\"#m5df6cb9e59\" y=\"150.920056\"/>\n     <use style=\"fill:#1f77b4;stroke:#1f77b4;\" x=\"53.575236\" xlink:href=\"#m5df6cb9e59\" y=\"116.74092\"/>\n     <use style=\"fill:#1f77b4;stroke:#1f77b4;\" x=\"57.7022\" xlink:href=\"#m5df6cb9e59\" y=\"85.232029\"/>\n     <use style=\"fill:#1f77b4;stroke:#1f77b4;\" x=\"70.083094\" xlink:href=\"#m5df6cb9e59\" y=\"55.59231\"/>\n     <use style=\"fill:#1f77b4;stroke:#1f77b4;\" x=\"83.495729\" xlink:href=\"#m5df6cb9e59\" y=\"40.638938\"/>\n    </g>\n   </g>\n   <g id=\"line2d_14\">\n    <defs>\n     <path d=\"M 0 3 \nC 0.795609 3 1.55874 2.683901 2.12132 2.12132 \nC 2.683901 1.55874 3 0.795609 3 0 \nC 3 -0.795609 2.683901 -1.55874 2.12132 -2.12132 \nC 1.55874 -2.683901 0.795609 -3 0 -3 \nC -0.795609 -3 -1.55874 -2.683901 -2.12132 -2.12132 \nC -2.683901 -1.55874 -3 -0.795609 -3 0 \nC -3 0.795609 -2.683901 1.55874 -2.12132 2.12132 \nC -1.55874 2.683901 -0.795609 3 0 3 \nz\n\" id=\"mb13666c793\" style=\"stroke:#ff7f0e;\"/>\n    </defs>\n    <g clip-path=\"url(#p3db5ac209a)\">\n     <use style=\"fill:#ff7f0e;stroke:#ff7f0e;\" x=\"83.495729\" xlink:href=\"#mb13666c793\" y=\"40.638938\"/>\n     <use style=\"fill:#ff7f0e;stroke:#ff7f0e;\" x=\"104.130552\" xlink:href=\"#mb13666c793\" y=\"30.492007\"/>\n     <use style=\"fill:#ff7f0e;stroke:#ff7f0e;\" x=\"148.495421\" xlink:href=\"#mb13666c793\" y=\"21.14615\"/>\n     <use style=\"fill:#ff7f0e;stroke:#ff7f0e;\" x=\"170.161985\" xlink:href=\"#mb13666c793\" y=\"19.544003\"/>\n     <use style=\"fill:#ff7f0e;stroke:#ff7f0e;\" x=\"214.526854\" xlink:href=\"#mb13666c793\" y=\"19.009954\"/>\n     <use style=\"fill:#ff7f0e;stroke:#ff7f0e;\" x=\"283.65351\" xlink:href=\"#mb13666c793\" y=\"19.811027\"/>\n     <use style=\"fill:#ff7f0e;stroke:#ff7f0e;\" x=\"345.557979\" xlink:href=\"#mb13666c793\" y=\"20.612101\"/>\n    </g>\n   </g>\n   <g id=\"line2d_15\">\n    <path clip-path=\"url(#p3db5ac209a)\" d=\"M 45.321307 215.930817 \nL 45.706907 209.011239 \nL 46.092507 202.33657 \nL 46.478107 195.900436 \nL 46.863708 189.696551 \nL 47.249308 183.718711 \nL 47.634908 177.960799 \nL 48.020508 172.416783 \nL 48.406109 167.080718 \nL 48.791709 161.946742 \nL 49.177309 157.00908 \nL 49.562909 152.26204 \nL 49.94851 147.700019 \nL 50.33411 143.317497 \nL 50.71971 139.109038 \nL 51.10531 135.069296 \nL 51.49091 131.193005 \nL 51.876511 127.474989 \nL 52.262111 123.910153 \nL 52.647711 120.493491 \nL 53.033311 117.22008 \nL 53.418912 114.085084 \nL 53.804512 111.083752 \nL 54.190112 108.211417 \nL 54.575712 105.463498 \nL 54.961312 102.835501 \nL 55.346913 100.323016 \nL 55.732513 97.921717 \nL 56.118113 95.627366 \nL 56.503713 93.435809 \nL 56.889314 91.342978 \nL 57.274914 89.344888 \nL 57.660514 87.437643 \nL 58.046114 85.617429 \nL 58.431714 83.880521 \nL 58.817315 82.223275 \nL 59.202915 80.642137 \nL 59.588515 79.133634 \nL 59.974115 77.694381 \nL 60.359716 76.321078 \nL 60.745316 75.01051 \nL 61.130916 73.759547 \nL 61.516516 72.565146 \nL 61.902116 71.424346 \nL 62.287717 70.334276 \nL 62.673317 69.292146 \nL 63.058917 68.295254 \nL 63.444517 67.340982 \nL 63.830118 66.426798 \nL 64.215718 65.550257 \nL 64.601318 64.708995 \nL 64.986918 63.900738 \nL 65.372519 63.123294 \nL 65.758119 62.374559 \nL 66.143719 61.652512 \nL 66.529319 60.95522 \nL 66.914919 60.280832 \nL 67.30052 59.627584 \nL 67.68612 58.993799 \nL 68.07172 58.377884 \nL 68.45732 57.77833 \nL 68.842921 57.193714 \nL 69.228521 56.622701 \nL 69.614121 56.064039 \nL 69.999721 55.51656 \nL 70.385321 54.979184 \nL 70.770922 54.450915 \nL 71.156522 53.930844 \nL 71.542122 53.418145 \nL 71.927722 52.912078 \nL 72.313323 52.41199 \nL 72.698923 51.917311 \nL 73.084523 51.427559 \nL 73.470123 50.942335 \nL 73.855723 50.461325 \nL 74.241324 49.984304 \nL 74.626924 49.511129 \nL 75.012524 49.041742 \nL 75.398124 48.576174 \nL 75.783725 48.114537 \nL 76.169325 47.657032 \nL 76.554925 47.203942 \nL 76.940525 46.755639 \nL 77.326125 46.312577 \nL 77.711726 45.875297 \nL 78.097326 45.444426 \nL 78.482926 45.020675 \nL 78.868526 44.604841 \nL 79.254127 44.197806 \nL 79.639727 43.800538 \nL 80.025327 43.41409 \nL 80.410927 43.0396 \nL 80.796527 42.678292 \nL 81.182128 42.331474 \nL 81.567728 42.000542 \nL 81.953328 41.686975 \nL 82.338928 41.392337 \nL 82.724529 41.118281 \nL 83.110129 40.866541 \nL 83.495729 40.638938 \n\" style=\"fill:none;stroke:#2ca02c;stroke-linecap:square;stroke-width:1.5;\"/>\n   </g>\n   <g id=\"line2d_16\">\n    <path clip-path=\"url(#p3db5ac209a)\" d=\"M 83.495729 40.638938 \nL 86.184509 39.177044 \nL 88.873289 37.786894 \nL 91.562069 36.466222 \nL 94.250849 35.212798 \nL 96.939629 34.024427 \nL 99.628409 32.898949 \nL 102.317189 31.834239 \nL 105.005969 30.828207 \nL 107.694749 29.878799 \nL 110.383528 28.983994 \nL 113.072308 28.14181 \nL 115.761088 27.350296 \nL 118.449868 26.607538 \nL 121.138648 25.911658 \nL 123.827428 25.260811 \nL 126.516208 24.653188 \nL 129.204988 24.087017 \nL 131.893768 23.560557 \nL 134.582548 23.072107 \nL 137.271328 22.619997 \nL 139.960108 22.202595 \nL 142.648888 21.818302 \nL 145.337668 21.465555 \nL 148.026448 21.142827 \nL 150.715228 20.848624 \nL 153.404008 20.58149 \nL 156.092787 20.340002 \nL 158.781567 20.122772 \nL 161.470347 19.928448 \nL 164.159127 19.755713 \nL 166.847907 19.603286 \nL 169.536687 19.469918 \nL 172.225467 19.354399 \nL 174.914247 19.255552 \nL 177.603027 19.172235 \nL 180.291807 19.103342 \nL 182.980587 19.047802 \nL 185.669367 19.004578 \nL 188.358147 18.97267 \nL 191.046927 18.951112 \nL 193.735707 18.938972 \nL 196.424487 18.935355 \nL 199.113267 18.939401 \nL 201.802046 18.950284 \nL 204.490826 18.967214 \nL 207.179606 18.989436 \nL 209.868386 19.016229 \nL 212.557166 19.046909 \nL 215.245946 19.080826 \nL 217.934726 19.117364 \nL 220.623506 19.155946 \nL 223.312286 19.196025 \nL 226.001066 19.237093 \nL 228.689846 19.278676 \nL 231.378626 19.320334 \nL 234.067406 19.361664 \nL 236.756186 19.402296 \nL 239.444966 19.441897 \nL 242.133746 19.480168 \nL 244.822525 19.516846 \nL 247.511305 19.551702 \nL 250.200085 19.584543 \nL 252.888865 19.615211 \nL 255.577645 19.643583 \nL 258.266425 19.669571 \nL 260.955205 19.693122 \nL 263.643985 19.714219 \nL 266.332765 19.732878 \nL 269.021545 19.749154 \nL 271.710325 19.763132 \nL 274.399105 19.774937 \nL 277.087885 19.784726 \nL 279.776665 19.792692 \nL 282.465445 19.799063 \nL 285.154225 19.804102 \nL 287.843005 19.808109 \nL 290.531784 19.811416 \nL 293.220564 19.814393 \nL 295.909344 19.817442 \nL 298.598124 19.821004 \nL 301.286904 19.825551 \nL 303.975684 19.831593 \nL 306.664464 19.839675 \nL 309.353244 19.850376 \nL 312.042024 19.864309 \nL 314.730804 19.882126 \nL 317.419584 19.90451 \nL 320.108364 19.932181 \nL 322.797144 19.965895 \nL 325.485924 20.006442 \nL 328.174704 20.054646 \nL 330.863484 20.111368 \nL 333.552264 20.177504 \nL 336.241043 20.253984 \nL 338.929823 20.341774 \nL 341.618603 20.441875 \nL 344.307383 20.555322 \nL 346.996163 20.683187 \nL 349.684943 20.826576 \n\" style=\"fill:none;stroke:#d62728;stroke-linecap:square;stroke-width:1.5;\"/>\n   </g>\n   <g id=\"patch_3\">\n    <path d=\"M 30.103125 226.491719 \nL 30.103125 9.051719 \n\" style=\"fill:none;stroke:#000000;stroke-linecap:square;stroke-linejoin:miter;stroke-width:0.8;\"/>\n   </g>\n   <g id=\"patch_4\">\n    <path d=\"M 364.903125 226.491719 \nL 364.903125 9.051719 \n\" style=\"fill:none;stroke:#000000;stroke-linecap:square;stroke-linejoin:miter;stroke-width:0.8;\"/>\n   </g>\n   <g id=\"patch_5\">\n    <path d=\"M 30.103125 226.491719 \nL 364.903125 226.491719 \n\" style=\"fill:none;stroke:#000000;stroke-linecap:square;stroke-linejoin:miter;stroke-width:0.8;\"/>\n   </g>\n   <g id=\"patch_6\">\n    <path d=\"M 30.103125 9.051719 \nL 364.903125 9.051719 \n\" style=\"fill:none;stroke:#000000;stroke-linecap:square;stroke-linejoin:miter;stroke-width:0.8;\"/>\n   </g>\n  </g>\n </g>\n <defs>\n  <clipPath id=\"p3db5ac209a\">\n   <rect height=\"217.44\" width=\"334.8\" x=\"30.103125\" y=\"9.051719\"/>\n  </clipPath>\n </defs>\n</svg>\n"
          },
          "metadata": {
            "tags": [],
            "needs_background": "light"
          }
        }
      ]
    },
    {
      "cell_type": "code",
      "metadata": {
        "id": "G1T1xbNBw73f",
        "colab": {
          "base_uri": "https://localhost:8080/",
          "height": 401
        },
        "outputId": "b3c79dff-9e51-4bb9-df40-b17600de9b72"
      },
      "source": [
        "subplots_adjust( top=0.95, bottom=0.16, left=0.10, right=0.95 )\n",
        "plot( Load_1_plt, Eff_1_plt, 'r-' )\n",
        "plot( Load_2_plt, Eff_2_plt, 'g-' )\n",
        "xlabel( '$\\\\Lambda = \\\\dfrac{P_\\\\mathrm{turb}}{P_\\\\mathrm{rated}}$');\n",
        "ylabel( '$\\\\eta_\\\\mathrm{gen}$')\n",
        "savefig( 'GeneratorEff_plot.pdf' )\n",
        "savefig( 'GeneratorEff_plot.svg' )  "
      ],
      "execution_count": 8,
      "outputs": [
        {
          "output_type": "display_data",
          "data": {
            "text/plain": [
              "<Figure size 432x288 with 1 Axes>"
            ],
            "image/svg+xml": "<?xml version=\"1.0\" encoding=\"utf-8\" standalone=\"no\"?>\n<!DOCTYPE svg PUBLIC \"-//W3C//DTD SVG 1.1//EN\"\n  \"http://www.w3.org/Graphics/SVG/1.1/DTD/svg11.dtd\">\n<!-- Created with matplotlib (https://matplotlib.org/) -->\n<svg height=\"285.688111pt\" version=\"1.1\" viewBox=\"0 0 418.18125 285.688111\" width=\"418.18125pt\" xmlns=\"http://www.w3.org/2000/svg\" xmlns:xlink=\"http://www.w3.org/1999/xlink\">\n <defs>\n  <style type=\"text/css\">\n*{stroke-linecap:butt;stroke-linejoin:round;}\n  </style>\n </defs>\n <g id=\"figure_1\">\n  <g id=\"patch_1\">\n   <path d=\"M 0 285.688111 \nL 418.18125 285.688111 \nL 418.18125 0 \nL 0 0 \nz\n\" style=\"fill:none;\"/>\n  </g>\n  <g id=\"axes_1\">\n   <g id=\"patch_2\">\n    <path d=\"M 43.78125 236.509986 \nL 410.98125 236.509986 \nL 410.98125 8.989986 \nL 43.78125 8.989986 \nz\n\" style=\"fill:#ffffff;\"/>\n   </g>\n   <g id=\"matplotlib.axis_1\">\n    <g id=\"xtick_1\">\n     <g id=\"line2d_1\">\n      <defs>\n       <path d=\"M 0 0 \nL 0 3.5 \n\" id=\"m81703e371d\" style=\"stroke:#000000;stroke-width:0.8;\"/>\n      </defs>\n      <g>\n       <use style=\"stroke:#000000;stroke-width:0.8;\" x=\"60.472159\" xlink:href=\"#m81703e371d\" y=\"236.509986\"/>\n      </g>\n     </g>\n     <g id=\"text_1\">\n      <!-- 0.0 -->\n      <defs>\n       <path d=\"M 31.78125 66.40625 \nQ 24.171875 66.40625 20.328125 58.90625 \nQ 16.5 51.421875 16.5 36.375 \nQ 16.5 21.390625 20.328125 13.890625 \nQ 24.171875 6.390625 31.78125 6.390625 \nQ 39.453125 6.390625 43.28125 13.890625 \nQ 47.125 21.390625 47.125 36.375 \nQ 47.125 51.421875 43.28125 58.90625 \nQ 39.453125 66.40625 31.78125 66.40625 \nz\nM 31.78125 74.21875 \nQ 44.046875 74.21875 50.515625 64.515625 \nQ 56.984375 54.828125 56.984375 36.375 \nQ 56.984375 17.96875 50.515625 8.265625 \nQ 44.046875 -1.421875 31.78125 -1.421875 \nQ 19.53125 -1.421875 13.0625 8.265625 \nQ 6.59375 17.96875 6.59375 36.375 \nQ 6.59375 54.828125 13.0625 64.515625 \nQ 19.53125 74.21875 31.78125 74.21875 \nz\n\" id=\"DejaVuSans-48\"/>\n       <path d=\"M 10.6875 12.40625 \nL 21 12.40625 \nL 21 0 \nL 10.6875 0 \nz\n\" id=\"DejaVuSans-46\"/>\n      </defs>\n      <g transform=\"translate(52.520597 251.108424)scale(0.1 -0.1)\">\n       <use xlink:href=\"#DejaVuSans-48\"/>\n       <use x=\"63.623047\" xlink:href=\"#DejaVuSans-46\"/>\n       <use x=\"95.410156\" xlink:href=\"#DejaVuSans-48\"/>\n      </g>\n     </g>\n    </g>\n    <g id=\"xtick_2\">\n     <g id=\"line2d_2\">\n      <g>\n       <use style=\"stroke:#000000;stroke-width:0.8;\" x=\"127.235795\" xlink:href=\"#m81703e371d\" y=\"236.509986\"/>\n      </g>\n     </g>\n     <g id=\"text_2\">\n      <!-- 0.2 -->\n      <defs>\n       <path d=\"M 19.1875 8.296875 \nL 53.609375 8.296875 \nL 53.609375 0 \nL 7.328125 0 \nL 7.328125 8.296875 \nQ 12.9375 14.109375 22.625 23.890625 \nQ 32.328125 33.6875 34.8125 36.53125 \nQ 39.546875 41.84375 41.421875 45.53125 \nQ 43.3125 49.21875 43.3125 52.78125 \nQ 43.3125 58.59375 39.234375 62.25 \nQ 35.15625 65.921875 28.609375 65.921875 \nQ 23.96875 65.921875 18.8125 64.3125 \nQ 13.671875 62.703125 7.8125 59.421875 \nL 7.8125 69.390625 \nQ 13.765625 71.78125 18.9375 73 \nQ 24.125 74.21875 28.421875 74.21875 \nQ 39.75 74.21875 46.484375 68.546875 \nQ 53.21875 62.890625 53.21875 53.421875 \nQ 53.21875 48.921875 51.53125 44.890625 \nQ 49.859375 40.875 45.40625 35.40625 \nQ 44.1875 33.984375 37.640625 27.21875 \nQ 31.109375 20.453125 19.1875 8.296875 \nz\n\" id=\"DejaVuSans-50\"/>\n      </defs>\n      <g transform=\"translate(119.284233 251.108424)scale(0.1 -0.1)\">\n       <use xlink:href=\"#DejaVuSans-48\"/>\n       <use x=\"63.623047\" xlink:href=\"#DejaVuSans-46\"/>\n       <use x=\"95.410156\" xlink:href=\"#DejaVuSans-50\"/>\n      </g>\n     </g>\n    </g>\n    <g id=\"xtick_3\">\n     <g id=\"line2d_3\">\n      <g>\n       <use style=\"stroke:#000000;stroke-width:0.8;\" x=\"193.999432\" xlink:href=\"#m81703e371d\" y=\"236.509986\"/>\n      </g>\n     </g>\n     <g id=\"text_3\">\n      <!-- 0.4 -->\n      <defs>\n       <path d=\"M 37.796875 64.3125 \nL 12.890625 25.390625 \nL 37.796875 25.390625 \nz\nM 35.203125 72.90625 \nL 47.609375 72.90625 \nL 47.609375 25.390625 \nL 58.015625 25.390625 \nL 58.015625 17.1875 \nL 47.609375 17.1875 \nL 47.609375 0 \nL 37.796875 0 \nL 37.796875 17.1875 \nL 4.890625 17.1875 \nL 4.890625 26.703125 \nz\n\" id=\"DejaVuSans-52\"/>\n      </defs>\n      <g transform=\"translate(186.047869 251.108424)scale(0.1 -0.1)\">\n       <use xlink:href=\"#DejaVuSans-48\"/>\n       <use x=\"63.623047\" xlink:href=\"#DejaVuSans-46\"/>\n       <use x=\"95.410156\" xlink:href=\"#DejaVuSans-52\"/>\n      </g>\n     </g>\n    </g>\n    <g id=\"xtick_4\">\n     <g id=\"line2d_4\">\n      <g>\n       <use style=\"stroke:#000000;stroke-width:0.8;\" x=\"260.763068\" xlink:href=\"#m81703e371d\" y=\"236.509986\"/>\n      </g>\n     </g>\n     <g id=\"text_4\">\n      <!-- 0.6 -->\n      <defs>\n       <path d=\"M 33.015625 40.375 \nQ 26.375 40.375 22.484375 35.828125 \nQ 18.609375 31.296875 18.609375 23.390625 \nQ 18.609375 15.53125 22.484375 10.953125 \nQ 26.375 6.390625 33.015625 6.390625 \nQ 39.65625 6.390625 43.53125 10.953125 \nQ 47.40625 15.53125 47.40625 23.390625 \nQ 47.40625 31.296875 43.53125 35.828125 \nQ 39.65625 40.375 33.015625 40.375 \nz\nM 52.59375 71.296875 \nL 52.59375 62.3125 \nQ 48.875 64.0625 45.09375 64.984375 \nQ 41.3125 65.921875 37.59375 65.921875 \nQ 27.828125 65.921875 22.671875 59.328125 \nQ 17.53125 52.734375 16.796875 39.40625 \nQ 19.671875 43.65625 24.015625 45.921875 \nQ 28.375 48.1875 33.59375 48.1875 \nQ 44.578125 48.1875 50.953125 41.515625 \nQ 57.328125 34.859375 57.328125 23.390625 \nQ 57.328125 12.15625 50.6875 5.359375 \nQ 44.046875 -1.421875 33.015625 -1.421875 \nQ 20.359375 -1.421875 13.671875 8.265625 \nQ 6.984375 17.96875 6.984375 36.375 \nQ 6.984375 53.65625 15.1875 63.9375 \nQ 23.390625 74.21875 37.203125 74.21875 \nQ 40.921875 74.21875 44.703125 73.484375 \nQ 48.484375 72.75 52.59375 71.296875 \nz\n\" id=\"DejaVuSans-54\"/>\n      </defs>\n      <g transform=\"translate(252.811506 251.108424)scale(0.1 -0.1)\">\n       <use xlink:href=\"#DejaVuSans-48\"/>\n       <use x=\"63.623047\" xlink:href=\"#DejaVuSans-46\"/>\n       <use x=\"95.410156\" xlink:href=\"#DejaVuSans-54\"/>\n      </g>\n     </g>\n    </g>\n    <g id=\"xtick_5\">\n     <g id=\"line2d_5\">\n      <g>\n       <use style=\"stroke:#000000;stroke-width:0.8;\" x=\"327.526705\" xlink:href=\"#m81703e371d\" y=\"236.509986\"/>\n      </g>\n     </g>\n     <g id=\"text_5\">\n      <!-- 0.8 -->\n      <defs>\n       <path d=\"M 31.78125 34.625 \nQ 24.75 34.625 20.71875 30.859375 \nQ 16.703125 27.09375 16.703125 20.515625 \nQ 16.703125 13.921875 20.71875 10.15625 \nQ 24.75 6.390625 31.78125 6.390625 \nQ 38.8125 6.390625 42.859375 10.171875 \nQ 46.921875 13.96875 46.921875 20.515625 \nQ 46.921875 27.09375 42.890625 30.859375 \nQ 38.875 34.625 31.78125 34.625 \nz\nM 21.921875 38.8125 \nQ 15.578125 40.375 12.03125 44.71875 \nQ 8.5 49.078125 8.5 55.328125 \nQ 8.5 64.0625 14.71875 69.140625 \nQ 20.953125 74.21875 31.78125 74.21875 \nQ 42.671875 74.21875 48.875 69.140625 \nQ 55.078125 64.0625 55.078125 55.328125 \nQ 55.078125 49.078125 51.53125 44.71875 \nQ 48 40.375 41.703125 38.8125 \nQ 48.828125 37.15625 52.796875 32.3125 \nQ 56.78125 27.484375 56.78125 20.515625 \nQ 56.78125 9.90625 50.3125 4.234375 \nQ 43.84375 -1.421875 31.78125 -1.421875 \nQ 19.734375 -1.421875 13.25 4.234375 \nQ 6.78125 9.90625 6.78125 20.515625 \nQ 6.78125 27.484375 10.78125 32.3125 \nQ 14.796875 37.15625 21.921875 38.8125 \nz\nM 18.3125 54.390625 \nQ 18.3125 48.734375 21.84375 45.5625 \nQ 25.390625 42.390625 31.78125 42.390625 \nQ 38.140625 42.390625 41.71875 45.5625 \nQ 45.3125 48.734375 45.3125 54.390625 \nQ 45.3125 60.0625 41.71875 63.234375 \nQ 38.140625 66.40625 31.78125 66.40625 \nQ 25.390625 66.40625 21.84375 63.234375 \nQ 18.3125 60.0625 18.3125 54.390625 \nz\n\" id=\"DejaVuSans-56\"/>\n      </defs>\n      <g transform=\"translate(319.575142 251.108424)scale(0.1 -0.1)\">\n       <use xlink:href=\"#DejaVuSans-48\"/>\n       <use x=\"63.623047\" xlink:href=\"#DejaVuSans-46\"/>\n       <use x=\"95.410156\" xlink:href=\"#DejaVuSans-56\"/>\n      </g>\n     </g>\n    </g>\n    <g id=\"xtick_6\">\n     <g id=\"line2d_6\">\n      <g>\n       <use style=\"stroke:#000000;stroke-width:0.8;\" x=\"394.290341\" xlink:href=\"#m81703e371d\" y=\"236.509986\"/>\n      </g>\n     </g>\n     <g id=\"text_6\">\n      <!-- 1.0 -->\n      <defs>\n       <path d=\"M 12.40625 8.296875 \nL 28.515625 8.296875 \nL 28.515625 63.921875 \nL 10.984375 60.40625 \nL 10.984375 69.390625 \nL 28.421875 72.90625 \nL 38.28125 72.90625 \nL 38.28125 8.296875 \nL 54.390625 8.296875 \nL 54.390625 0 \nL 12.40625 0 \nz\n\" id=\"DejaVuSans-49\"/>\n      </defs>\n      <g transform=\"translate(386.338778 251.108424)scale(0.1 -0.1)\">\n       <use xlink:href=\"#DejaVuSans-49\"/>\n       <use x=\"63.623047\" xlink:href=\"#DejaVuSans-46\"/>\n       <use x=\"95.410156\" xlink:href=\"#DejaVuSans-48\"/>\n      </g>\n     </g>\n    </g>\n    <g id=\"text_7\">\n     <!-- $\\Lambda = \\dfrac{P_\\mathrm{turb}}{P_\\mathrm{rated}}$ -->\n     <defs>\n      <path d=\"M 11.1875 0 \nL 0.78125 0 \nL 28.609375 72.90625 \nL 39.796875 72.90625 \nL 67.578125 0 \nL 57.328125 0 \nL 34.1875 63.1875 \nz\n\" id=\"DejaVuSans-923\"/>\n      <path d=\"M 10.59375 45.40625 \nL 73.1875 45.40625 \nL 73.1875 37.203125 \nL 10.59375 37.203125 \nz\nM 10.59375 25.484375 \nL 73.1875 25.484375 \nL 73.1875 17.1875 \nL 10.59375 17.1875 \nz\n\" id=\"DejaVuSans-61\"/>\n      <path d=\"M 16.890625 72.90625 \nL 39.703125 72.90625 \nQ 49.65625 72.90625 54.875 68.265625 \nQ 60.109375 63.625 60.109375 54.6875 \nQ 60.109375 42.671875 52.390625 35.984375 \nQ 44.671875 29.296875 30.71875 29.296875 \nL 18.3125 29.296875 \nL 12.59375 0 \nL 2.6875 0 \nz\nM 25.203125 64.796875 \nL 19.921875 37.40625 \nL 32.328125 37.40625 \nQ 40.71875 37.40625 45.203125 41.703125 \nQ 49.703125 46 49.703125 54 \nQ 49.703125 59.125 46.65625 61.953125 \nQ 43.609375 64.796875 38.09375 64.796875 \nz\n\" id=\"DejaVuSans-Oblique-80\"/>\n      <path d=\"M 18.3125 70.21875 \nL 18.3125 54.6875 \nL 36.8125 54.6875 \nL 36.8125 47.703125 \nL 18.3125 47.703125 \nL 18.3125 18.015625 \nQ 18.3125 11.328125 20.140625 9.421875 \nQ 21.96875 7.515625 27.59375 7.515625 \nL 36.8125 7.515625 \nL 36.8125 0 \nL 27.59375 0 \nQ 17.1875 0 13.234375 3.875 \nQ 9.28125 7.765625 9.28125 18.015625 \nL 9.28125 47.703125 \nL 2.6875 47.703125 \nL 2.6875 54.6875 \nL 9.28125 54.6875 \nL 9.28125 70.21875 \nz\n\" id=\"DejaVuSans-116\"/>\n      <path d=\"M 8.5 21.578125 \nL 8.5 54.6875 \nL 17.484375 54.6875 \nL 17.484375 21.921875 \nQ 17.484375 14.15625 20.5 10.265625 \nQ 23.53125 6.390625 29.59375 6.390625 \nQ 36.859375 6.390625 41.078125 11.03125 \nQ 45.3125 15.671875 45.3125 23.6875 \nL 45.3125 54.6875 \nL 54.296875 54.6875 \nL 54.296875 0 \nL 45.3125 0 \nL 45.3125 8.40625 \nQ 42.046875 3.421875 37.71875 1 \nQ 33.40625 -1.421875 27.6875 -1.421875 \nQ 18.265625 -1.421875 13.375 4.4375 \nQ 8.5 10.296875 8.5 21.578125 \nz\nM 31.109375 56 \nz\n\" id=\"DejaVuSans-117\"/>\n      <path d=\"M 41.109375 46.296875 \nQ 39.59375 47.171875 37.8125 47.578125 \nQ 36.03125 48 33.890625 48 \nQ 26.265625 48 22.1875 43.046875 \nQ 18.109375 38.09375 18.109375 28.8125 \nL 18.109375 0 \nL 9.078125 0 \nL 9.078125 54.6875 \nL 18.109375 54.6875 \nL 18.109375 46.1875 \nQ 20.953125 51.171875 25.484375 53.578125 \nQ 30.03125 56 36.53125 56 \nQ 37.453125 56 38.578125 55.875 \nQ 39.703125 55.765625 41.0625 55.515625 \nz\n\" id=\"DejaVuSans-114\"/>\n      <path d=\"M 48.6875 27.296875 \nQ 48.6875 37.203125 44.609375 42.84375 \nQ 40.53125 48.484375 33.40625 48.484375 \nQ 26.265625 48.484375 22.1875 42.84375 \nQ 18.109375 37.203125 18.109375 27.296875 \nQ 18.109375 17.390625 22.1875 11.75 \nQ 26.265625 6.109375 33.40625 6.109375 \nQ 40.53125 6.109375 44.609375 11.75 \nQ 48.6875 17.390625 48.6875 27.296875 \nz\nM 18.109375 46.390625 \nQ 20.953125 51.265625 25.265625 53.625 \nQ 29.59375 56 35.59375 56 \nQ 45.5625 56 51.78125 48.09375 \nQ 58.015625 40.1875 58.015625 27.296875 \nQ 58.015625 14.40625 51.78125 6.484375 \nQ 45.5625 -1.421875 35.59375 -1.421875 \nQ 29.59375 -1.421875 25.265625 0.953125 \nQ 20.953125 3.328125 18.109375 8.203125 \nL 18.109375 0 \nL 9.078125 0 \nL 9.078125 75.984375 \nL 18.109375 75.984375 \nz\n\" id=\"DejaVuSans-98\"/>\n      <path d=\"M 34.28125 27.484375 \nQ 23.390625 27.484375 19.1875 25 \nQ 14.984375 22.515625 14.984375 16.5 \nQ 14.984375 11.71875 18.140625 8.90625 \nQ 21.296875 6.109375 26.703125 6.109375 \nQ 34.1875 6.109375 38.703125 11.40625 \nQ 43.21875 16.703125 43.21875 25.484375 \nL 43.21875 27.484375 \nz\nM 52.203125 31.203125 \nL 52.203125 0 \nL 43.21875 0 \nL 43.21875 8.296875 \nQ 40.140625 3.328125 35.546875 0.953125 \nQ 30.953125 -1.421875 24.3125 -1.421875 \nQ 15.921875 -1.421875 10.953125 3.296875 \nQ 6 8.015625 6 15.921875 \nQ 6 25.140625 12.171875 29.828125 \nQ 18.359375 34.515625 30.609375 34.515625 \nL 43.21875 34.515625 \nL 43.21875 35.40625 \nQ 43.21875 41.609375 39.140625 45 \nQ 35.0625 48.390625 27.6875 48.390625 \nQ 23 48.390625 18.546875 47.265625 \nQ 14.109375 46.140625 10.015625 43.890625 \nL 10.015625 52.203125 \nQ 14.9375 54.109375 19.578125 55.046875 \nQ 24.21875 56 28.609375 56 \nQ 40.484375 56 46.34375 49.84375 \nQ 52.203125 43.703125 52.203125 31.203125 \nz\n\" id=\"DejaVuSans-97\"/>\n      <path d=\"M 56.203125 29.59375 \nL 56.203125 25.203125 \nL 14.890625 25.203125 \nQ 15.484375 15.921875 20.484375 11.0625 \nQ 25.484375 6.203125 34.421875 6.203125 \nQ 39.59375 6.203125 44.453125 7.46875 \nQ 49.3125 8.734375 54.109375 11.28125 \nL 54.109375 2.78125 \nQ 49.265625 0.734375 44.1875 -0.34375 \nQ 39.109375 -1.421875 33.890625 -1.421875 \nQ 20.796875 -1.421875 13.15625 6.1875 \nQ 5.515625 13.8125 5.515625 26.8125 \nQ 5.515625 40.234375 12.765625 48.109375 \nQ 20.015625 56 32.328125 56 \nQ 43.359375 56 49.78125 48.890625 \nQ 56.203125 41.796875 56.203125 29.59375 \nz\nM 47.21875 32.234375 \nQ 47.125 39.59375 43.09375 43.984375 \nQ 39.0625 48.390625 32.421875 48.390625 \nQ 24.90625 48.390625 20.390625 44.140625 \nQ 15.875 39.890625 15.1875 32.171875 \nz\n\" id=\"DejaVuSans-101\"/>\n      <path d=\"M 45.40625 46.390625 \nL 45.40625 75.984375 \nL 54.390625 75.984375 \nL 54.390625 0 \nL 45.40625 0 \nL 45.40625 8.203125 \nQ 42.578125 3.328125 38.25 0.953125 \nQ 33.9375 -1.421875 27.875 -1.421875 \nQ 17.96875 -1.421875 11.734375 6.484375 \nQ 5.515625 14.40625 5.515625 27.296875 \nQ 5.515625 40.1875 11.734375 48.09375 \nQ 17.96875 56 27.875 56 \nQ 33.9375 56 38.25 53.625 \nQ 42.578125 51.265625 45.40625 46.390625 \nz\nM 14.796875 27.296875 \nQ 14.796875 17.390625 18.875 11.75 \nQ 22.953125 6.109375 30.078125 6.109375 \nQ 37.203125 6.109375 41.296875 11.75 \nQ 45.40625 17.390625 45.40625 27.296875 \nQ 45.40625 37.203125 41.296875 42.84375 \nQ 37.203125 48.484375 30.078125 48.484375 \nQ 22.953125 48.484375 18.875 42.84375 \nQ 14.796875 37.203125 14.796875 27.296875 \nz\n\" id=\"DejaVuSans-100\"/>\n     </defs>\n     <g transform=\"translate(204.68125 270.688111)scale(0.1 -0.1)\">\n      <use transform=\"translate(0 0.895312)\" xlink:href=\"#DejaVuSans-923\"/>\n      <use transform=\"translate(87.890625 0.895312)\" xlink:href=\"#DejaVuSans-61\"/>\n      <use transform=\"translate(212.162109 62.09375)\" xlink:href=\"#DejaVuSans-Oblique-80\"/>\n      <use transform=\"translate(272.464844 45.6875)scale(0.7)\" xlink:href=\"#DejaVuSans-116\"/>\n      <use transform=\"translate(299.911133 45.6875)scale(0.7)\" xlink:href=\"#DejaVuSans-117\"/>\n      <use transform=\"translate(344.276367 45.6875)scale(0.7)\" xlink:href=\"#DejaVuSans-114\"/>\n      <use transform=\"translate(373.055664 45.6875)scale(0.7)\" xlink:href=\"#DejaVuSans-98\"/>\n      <use transform=\"translate(191.162109 -59.464063)\" xlink:href=\"#DejaVuSans-Oblique-80\"/>\n      <use transform=\"translate(251.464844 -75.870313)scale(0.7)\" xlink:href=\"#DejaVuSans-114\"/>\n      <use transform=\"translate(280.244141 -75.870313)scale(0.7)\" xlink:href=\"#DejaVuSans-97\"/>\n      <use transform=\"translate(323.139648 -75.870313)scale(0.7)\" xlink:href=\"#DejaVuSans-116\"/>\n      <use transform=\"translate(350.585938 -75.870313)scale(0.7)\" xlink:href=\"#DejaVuSans-101\"/>\n      <use transform=\"translate(393.652344 -75.870313)scale(0.7)\" xlink:href=\"#DejaVuSans-100\"/>\n      <path d=\"M 191.162109 19.692188 \nL 191.162109 25.942188 \nL 440.820312 25.942188 \nL 440.820312 19.692188 \nL 191.162109 19.692188 \nz\n\"/>\n     </g>\n    </g>\n   </g>\n   <g id=\"matplotlib.axis_2\">\n    <g id=\"ytick_1\">\n     <g id=\"line2d_7\">\n      <defs>\n       <path d=\"M 0 0 \nL -3.5 0 \n\" id=\"m224cddcef3\" style=\"stroke:#000000;stroke-width:0.8;\"/>\n      </defs>\n      <g>\n       <use style=\"stroke:#000000;stroke-width:0.8;\" x=\"43.78125\" xlink:href=\"#m224cddcef3\" y=\"226.879266\"/>\n      </g>\n     </g>\n     <g id=\"text_8\">\n      <!-- 0.0 -->\n      <g transform=\"translate(20.878125 230.678485)scale(0.1 -0.1)\">\n       <use xlink:href=\"#DejaVuSans-48\"/>\n       <use x=\"63.623047\" xlink:href=\"#DejaVuSans-46\"/>\n       <use x=\"95.410156\" xlink:href=\"#DejaVuSans-48\"/>\n      </g>\n     </g>\n    </g>\n    <g id=\"ytick_2\">\n     <g id=\"line2d_8\">\n      <g>\n       <use style=\"stroke:#000000;stroke-width:0.8;\" x=\"43.78125\" xlink:href=\"#m224cddcef3\" y=\"183.703257\"/>\n      </g>\n     </g>\n     <g id=\"text_9\">\n      <!-- 0.2 -->\n      <g transform=\"translate(20.878125 187.502475)scale(0.1 -0.1)\">\n       <use xlink:href=\"#DejaVuSans-48\"/>\n       <use x=\"63.623047\" xlink:href=\"#DejaVuSans-46\"/>\n       <use x=\"95.410156\" xlink:href=\"#DejaVuSans-50\"/>\n      </g>\n     </g>\n    </g>\n    <g id=\"ytick_3\">\n     <g id=\"line2d_9\">\n      <g>\n       <use style=\"stroke:#000000;stroke-width:0.8;\" x=\"43.78125\" xlink:href=\"#m224cddcef3\" y=\"140.527247\"/>\n      </g>\n     </g>\n     <g id=\"text_10\">\n      <!-- 0.4 -->\n      <g transform=\"translate(20.878125 144.326466)scale(0.1 -0.1)\">\n       <use xlink:href=\"#DejaVuSans-48\"/>\n       <use x=\"63.623047\" xlink:href=\"#DejaVuSans-46\"/>\n       <use x=\"95.410156\" xlink:href=\"#DejaVuSans-52\"/>\n      </g>\n     </g>\n    </g>\n    <g id=\"ytick_4\">\n     <g id=\"line2d_10\">\n      <g>\n       <use style=\"stroke:#000000;stroke-width:0.8;\" x=\"43.78125\" xlink:href=\"#m224cddcef3\" y=\"97.351238\"/>\n      </g>\n     </g>\n     <g id=\"text_11\">\n      <!-- 0.6 -->\n      <g transform=\"translate(20.878125 101.150456)scale(0.1 -0.1)\">\n       <use xlink:href=\"#DejaVuSans-48\"/>\n       <use x=\"63.623047\" xlink:href=\"#DejaVuSans-46\"/>\n       <use x=\"95.410156\" xlink:href=\"#DejaVuSans-54\"/>\n      </g>\n     </g>\n    </g>\n    <g id=\"ytick_5\">\n     <g id=\"line2d_11\">\n      <g>\n       <use style=\"stroke:#000000;stroke-width:0.8;\" x=\"43.78125\" xlink:href=\"#m224cddcef3\" y=\"54.175228\"/>\n      </g>\n     </g>\n     <g id=\"text_12\">\n      <!-- 0.8 -->\n      <g transform=\"translate(20.878125 57.974447)scale(0.1 -0.1)\">\n       <use xlink:href=\"#DejaVuSans-48\"/>\n       <use x=\"63.623047\" xlink:href=\"#DejaVuSans-46\"/>\n       <use x=\"95.410156\" xlink:href=\"#DejaVuSans-56\"/>\n      </g>\n     </g>\n    </g>\n    <g id=\"ytick_6\">\n     <g id=\"line2d_12\">\n      <g>\n       <use style=\"stroke:#000000;stroke-width:0.8;\" x=\"43.78125\" xlink:href=\"#m224cddcef3\" y=\"10.999219\"/>\n      </g>\n     </g>\n     <g id=\"text_13\">\n      <!-- 1.0 -->\n      <g transform=\"translate(20.878125 14.798438)scale(0.1 -0.1)\">\n       <use xlink:href=\"#DejaVuSans-49\"/>\n       <use x=\"63.623047\" xlink:href=\"#DejaVuSans-46\"/>\n       <use x=\"95.410156\" xlink:href=\"#DejaVuSans-48\"/>\n      </g>\n     </g>\n    </g>\n    <g id=\"text_14\">\n     <!-- $\\eta_\\mathrm{gen}$ -->\n     <defs>\n      <path d=\"M 57.859375 33.015625 \nL 47.40625 -20.796875 \nL 38.421875 -20.796875 \nL 48.828125 32.71875 \nQ 50.34375 40.484375 48.046875 44.34375 \nQ 45.796875 48.1875 39.75 48.1875 \nQ 32.46875 48.1875 27.34375 43.5625 \nQ 22.265625 38.921875 20.703125 30.90625 \nL 14.703125 0 \nL 5.671875 0 \nL 16.3125 54.6875 \nL 25.34375 54.6875 \nL 23.6875 46.1875 \nQ 27.828125 51.125 32.71875 53.5625 \nQ 37.546875 56 43.265625 56 \nQ 52.6875 56 56.390625 50.203125 \nQ 60.0625 44.34375 57.859375 33.015625 \nz\n\" id=\"DejaVuSans-Oblique-951\"/>\n      <path d=\"M 45.40625 27.984375 \nQ 45.40625 37.75 41.375 43.109375 \nQ 37.359375 48.484375 30.078125 48.484375 \nQ 22.859375 48.484375 18.828125 43.109375 \nQ 14.796875 37.75 14.796875 27.984375 \nQ 14.796875 18.265625 18.828125 12.890625 \nQ 22.859375 7.515625 30.078125 7.515625 \nQ 37.359375 7.515625 41.375 12.890625 \nQ 45.40625 18.265625 45.40625 27.984375 \nz\nM 54.390625 6.78125 \nQ 54.390625 -7.171875 48.1875 -13.984375 \nQ 42 -20.796875 29.203125 -20.796875 \nQ 24.46875 -20.796875 20.265625 -20.09375 \nQ 16.0625 -19.390625 12.109375 -17.921875 \nL 12.109375 -9.1875 \nQ 16.0625 -11.328125 19.921875 -12.34375 \nQ 23.78125 -13.375 27.78125 -13.375 \nQ 36.625 -13.375 41.015625 -8.765625 \nQ 45.40625 -4.15625 45.40625 5.171875 \nL 45.40625 9.625 \nQ 42.625 4.78125 38.28125 2.390625 \nQ 33.9375 0 27.875 0 \nQ 17.828125 0 11.671875 7.65625 \nQ 5.515625 15.328125 5.515625 27.984375 \nQ 5.515625 40.671875 11.671875 48.328125 \nQ 17.828125 56 27.875 56 \nQ 33.9375 56 38.28125 53.609375 \nQ 42.625 51.21875 45.40625 46.390625 \nL 45.40625 54.6875 \nL 54.390625 54.6875 \nz\n\" id=\"DejaVuSans-103\"/>\n      <path d=\"M 54.890625 33.015625 \nL 54.890625 0 \nL 45.90625 0 \nL 45.90625 32.71875 \nQ 45.90625 40.484375 42.875 44.328125 \nQ 39.84375 48.1875 33.796875 48.1875 \nQ 26.515625 48.1875 22.3125 43.546875 \nQ 18.109375 38.921875 18.109375 30.90625 \nL 18.109375 0 \nL 9.078125 0 \nL 9.078125 54.6875 \nL 18.109375 54.6875 \nL 18.109375 46.1875 \nQ 21.34375 51.125 25.703125 53.5625 \nQ 30.078125 56 35.796875 56 \nQ 45.21875 56 50.046875 50.171875 \nQ 54.890625 44.34375 54.890625 33.015625 \nz\n\" id=\"DejaVuSans-110\"/>\n     </defs>\n     <g transform=\"translate(13.778125 132.649986)rotate(-90)scale(0.1 -0.1)\">\n      <use xlink:href=\"#DejaVuSans-Oblique-951\"/>\n      <use transform=\"translate(63.378906 -16.40625)scale(0.7)\" xlink:href=\"#DejaVuSans-103\"/>\n      <use transform=\"translate(107.8125 -16.40625)scale(0.7)\" xlink:href=\"#DejaVuSans-101\"/>\n      <use transform=\"translate(150.878906 -16.40625)scale(0.7)\" xlink:href=\"#DejaVuSans-110\"/>\n     </g>\n    </g>\n   </g>\n   <g id=\"line2d_13\">\n    <path clip-path=\"url(#pcae9897e72)\" d=\"M 60.472159 226.168168 \nL 60.895075 218.902923 \nL 61.317992 211.894821 \nL 61.740908 205.137171 \nL 62.163825 198.62337 \nL 62.586741 192.346907 \nL 63.009657 186.301359 \nL 63.432574 180.480392 \nL 63.85549 174.877764 \nL 64.278406 169.48732 \nL 64.701323 164.302997 \nL 65.124239 159.31882 \nL 65.547156 154.528903 \nL 65.970072 149.927452 \nL 66.392988 145.50876 \nL 66.815905 141.267212 \nL 67.238821 137.197282 \nL 67.661737 133.293532 \nL 68.084654 129.550615 \nL 68.50757 125.963273 \nL 68.930487 122.52634 \nL 69.353403 119.234735 \nL 69.776319 116.083471 \nL 70.199236 113.067649 \nL 70.622152 110.182458 \nL 71.045068 107.42318 \nL 71.467985 104.785183 \nL 71.890901 102.263928 \nL 72.313818 99.854963 \nL 72.736734 97.553926 \nL 73.15965 95.356547 \nL 73.582567 93.258643 \nL 74.005483 91.256121 \nL 74.428399 89.344979 \nL 74.851316 87.521304 \nL 75.274232 85.781271 \nL 75.697149 84.121146 \nL 76.120065 82.537286 \nL 76.542981 81.026136 \nL 76.965898 79.584229 \nL 77.388814 78.208192 \nL 77.81173 76.894737 \nL 78.234647 75.640669 \nL 78.657563 74.442881 \nL 79.08048 73.298356 \nL 79.503396 72.204167 \nL 79.926312 71.157475 \nL 80.349229 70.155533 \nL 80.772145 69.195681 \nL 81.195061 68.275352 \nL 81.617978 67.392065 \nL 82.040894 66.543431 \nL 82.463811 65.727151 \nL 82.886727 64.941013 \nL 83.309643 64.182896 \nL 83.73256 63.45077 \nL 84.155476 62.742693 \nL 84.578392 62.056813 \nL 85.001309 61.391367 \nL 85.424225 60.744683 \nL 85.847142 60.115178 \nL 86.270058 59.501359 \nL 86.692974 58.901821 \nL 87.115891 58.31525 \nL 87.538807 57.740422 \nL 87.961723 57.176201 \nL 88.38464 56.621543 \nL 88.807556 56.075492 \nL 89.230473 55.537181 \nL 89.653389 55.005834 \nL 90.076305 54.480763 \nL 90.499222 53.961373 \nL 90.922138 53.447155 \nL 91.345055 52.937692 \nL 91.767971 52.432654 \nL 92.190887 51.931803 \nL 92.613804 51.43499 \nL 93.03672 50.942155 \nL 93.459636 50.453329 \nL 93.882553 49.968632 \nL 94.305469 49.488271 \nL 94.728386 49.012548 \nL 95.151302 48.541849 \nL 95.574218 48.076654 \nL 95.997135 47.617531 \nL 96.420051 47.165135 \nL 96.842967 46.720216 \nL 97.265884 46.283609 \nL 97.6888 45.856241 \nL 98.111717 45.439127 \nL 98.534633 45.033374 \nL 98.957549 44.640176 \nL 99.380466 44.260819 \nL 99.803382 43.896676 \nL 100.226298 43.549212 \nL 100.649215 43.21998 \nL 101.072131 42.910625 \nL 101.495048 42.622878 \nL 101.917964 42.358562 \nL 102.34088 42.119589 \n\" style=\"fill:none;stroke:#ff0000;stroke-linecap:square;stroke-width:1.5;\"/>\n   </g>\n   <g id=\"line2d_14\">\n    <path clip-path=\"url(#pcae9897e72)\" d=\"M 102.34088 42.119589 \nL 105.289865 40.584667 \nL 108.238849 39.125071 \nL 111.187834 37.738425 \nL 114.136818 36.422387 \nL 117.085803 35.17465 \nL 120.034787 33.992949 \nL 122.983771 32.875051 \nL 125.932756 31.818763 \nL 128.88174 30.821927 \nL 131.830725 29.882423 \nL 134.779709 28.998168 \nL 137.728694 28.167114 \nL 140.677678 27.387251 \nL 143.626663 26.656608 \nL 146.575647 25.973248 \nL 149.524631 25.335272 \nL 152.473616 24.740817 \nL 155.4226 24.188059 \nL 158.371585 23.675208 \nL 161.320569 23.200513 \nL 164.269554 22.762259 \nL 167.218538 22.358769 \nL 170.167523 21.9884 \nL 173.116507 21.64955 \nL 176.065492 21.340651 \nL 179.014476 21.060172 \nL 181.96346 20.80662 \nL 184.912445 20.578539 \nL 187.861429 20.374507 \nL 190.810414 20.193144 \nL 193.759398 20.033101 \nL 196.708383 19.893072 \nL 199.657367 19.771782 \nL 202.606352 19.667997 \nL 205.555336 19.580518 \nL 208.50432 19.508184 \nL 211.453305 19.449869 \nL 214.402289 19.404486 \nL 217.351274 19.370984 \nL 220.300258 19.348348 \nL 223.249243 19.335602 \nL 226.198227 19.331805 \nL 229.147212 19.336053 \nL 232.096196 19.347479 \nL 235.045181 19.365255 \nL 237.994165 19.388587 \nL 240.943149 19.416718 \nL 243.892134 19.448931 \nL 246.841118 19.484542 \nL 249.790103 19.522906 \nL 252.739087 19.563415 \nL 255.688072 19.605496 \nL 258.637056 19.648616 \nL 261.586041 19.692276 \nL 264.535025 19.736015 \nL 267.48401 19.779409 \nL 270.432994 19.822071 \nL 273.381978 19.86365 \nL 276.330963 19.903833 \nL 279.279947 19.942343 \nL 282.228932 19.978941 \nL 285.177916 20.013423 \nL 288.126901 20.045623 \nL 291.075885 20.075412 \nL 294.02487 20.102698 \nL 296.973854 20.127426 \nL 299.922838 20.149576 \nL 302.871823 20.169168 \nL 305.820807 20.186256 \nL 308.769792 20.200933 \nL 311.718776 20.213328 \nL 314.667761 20.223605 \nL 317.616745 20.231969 \nL 320.56573 20.238659 \nL 323.514714 20.24395 \nL 326.463699 20.248157 \nL 329.412683 20.251629 \nL 332.361667 20.254755 \nL 335.310652 20.257956 \nL 338.259636 20.261696 \nL 341.208621 20.26647 \nL 344.157605 20.272814 \nL 347.10659 20.2813 \nL 350.055574 20.292535 \nL 353.004559 20.307164 \nL 355.953543 20.325871 \nL 358.902527 20.349373 \nL 361.851512 20.378427 \nL 364.800496 20.413825 \nL 367.749481 20.456397 \nL 370.698465 20.507009 \nL 373.64745 20.566565 \nL 376.596434 20.636005 \nL 379.545419 20.716306 \nL 382.494403 20.808481 \nL 385.443388 20.913583 \nL 388.392372 21.032697 \nL 391.341356 21.16695 \nL 394.290341 21.317502 \n\" style=\"fill:none;stroke:#008000;stroke-linecap:square;stroke-width:1.5;\"/>\n   </g>\n   <g id=\"patch_3\">\n    <path d=\"M 43.78125 236.509986 \nL 43.78125 8.989986 \n\" style=\"fill:none;stroke:#000000;stroke-linecap:square;stroke-linejoin:miter;stroke-width:0.8;\"/>\n   </g>\n   <g id=\"patch_4\">\n    <path d=\"M 410.98125 236.509986 \nL 410.98125 8.989986 \n\" style=\"fill:none;stroke:#000000;stroke-linecap:square;stroke-linejoin:miter;stroke-width:0.8;\"/>\n   </g>\n   <g id=\"patch_5\">\n    <path d=\"M 43.78125 236.509986 \nL 410.98125 236.509986 \n\" style=\"fill:none;stroke:#000000;stroke-linecap:square;stroke-linejoin:miter;stroke-width:0.8;\"/>\n   </g>\n   <g id=\"patch_6\">\n    <path d=\"M 43.78125 8.989986 \nL 410.98125 8.989986 \n\" style=\"fill:none;stroke:#000000;stroke-linecap:square;stroke-linejoin:miter;stroke-width:0.8;\"/>\n   </g>\n  </g>\n </g>\n <defs>\n  <clipPath id=\"pcae9897e72\">\n   <rect height=\"227.52\" width=\"367.2\" x=\"43.78125\" y=\"8.989986\"/>\n  </clipPath>\n </defs>\n</svg>\n"
          },
          "metadata": {
            "tags": [],
            "needs_background": "light"
          }
        }
      ]
    },
    {
      "cell_type": "code",
      "metadata": {
        "id": "yBV3pbENw73g"
      },
      "source": [
        ""
      ],
      "execution_count": 7,
      "outputs": []
    }
  ]
}