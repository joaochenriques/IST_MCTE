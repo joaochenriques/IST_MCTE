{
  "nbformat": 4,
  "nbformat_minor": 0,
  "metadata": {
    "kernelspec": {
      "name": "python376jvsc74a57bd045396ad5a0a8f7d4076663681221ca9941fed63b77bafec651b40f099150694b",
      "display_name": "Python 3.7.6 64-bit ('base': conda)"
    },
    "language_info": {
      "codemirror_mode": {
        "name": "ipython",
        "version": 3
      },
      "file_extension": ".py",
      "mimetype": "text/x-python",
      "name": "python",
      "nbconvert_exporter": "python",
      "pygments_lexer": "ipython3",
      "version": "3.7.6"
    },
    "colab": {
      "name": "Turbine_constrained_least_squares_V01.ipynb",
      "provenance": [],
      "include_colab_link": true
    }
  },
  "cells": [
    {
      "cell_type": "markdown",
      "metadata": {
        "id": "view-in-github",
        "colab_type": "text"
      },
      "source": [
        "<a href=\"https://colab.research.google.com/github/joaochenriques/MCTE_2020_2021/blob/main/Barrages_Turbine_Generator_Maps/Turbine_constrained_least_squares_V01.ipynb\" target=\"_parent\"><img src=\"https://colab.research.google.com/assets/colab-badge.svg\" alt=\"Open In Colab\"/></a>"
      ]
    },
    {
      "cell_type": "code",
      "metadata": {
        "id": "3keq3fmcUdQM"
      },
      "source": [
        "import numpy as np\n",
        "import pandas as pd\n",
        "from pylab import *\n",
        "from sympy import Symbol,expand\n",
        "%config InlineBackend.figure_formats = ['svg']\n",
        "\n",
        "n11=Symbol('n_{11}')"
      ],
      "execution_count": 1,
      "outputs": []
    },
    {
      "cell_type": "code",
      "metadata": {
        "id": "_OoIAesSyRIB",
        "outputId": "b69e2036-a43d-4c70-955f-11c51a40f89e",
        "colab": {
          "base_uri": "https://localhost:8080/"
        }
      },
      "source": [
        "import pathlib\n",
        "if not pathlib.Path(\"Generator_Data_ElisabetaTedeschi.xlsx\").exists():\n",
        "  !curl -O https://raw.githubusercontent.com/joaochenriques/MCTE_2020_2021/main/Barrages_Turbine_Generator_Maps/TurbineHill_Data.xlsx"
      ],
      "execution_count": 2,
      "outputs": [
        {
          "output_type": "stream",
          "text": [
            "  % Total    % Received % Xferd  Average Speed   Time    Time     Time  Current\n",
            "                                 Dload  Upload   Total   Spent    Left  Speed\n",
            "100 47121  100 47121    0     0   120k      0 --:--:-- --:--:-- --:--:--  119k\n"
          ],
          "name": "stdout"
        }
      ]
    },
    {
      "cell_type": "code",
      "metadata": {
        "id": "u8A0hwG9UdQZ"
      },
      "source": [
        "def LSQ_polyfit( NP, XL, XC_fun, XC_der ):\n",
        "  \n",
        "    ########################################################\n",
        "    # LINEAR LEAST SQUARES PROBLEM\n",
        "    #\n",
        "    ( xl, yl ) = XL\n",
        "\n",
        "    # Vandermonde matrix\n",
        "    X = xl[:, None] ** np.arange( NP, -1, -1 )\n",
        "\n",
        "    XTX = X.transpose().dot( X )\n",
        "    XTy = X.transpose().dot( yl )\n",
        "\n",
        "    # NO CONSTRAINTS IMPOSED => standard LSQ solution\n",
        "    if XC_fun == None and XC_der == None:\n",
        "      AA = XTX\n",
        "      bb = XTy\n",
        "      return np.linalg.solve( AA, bb )\n",
        "\n",
        "    ########################################################\n",
        "    # LAGRANGE MULTIPLIERS FOR CONSTRAINTS\n",
        "    #\n",
        "    if XC_fun != None:\n",
        "      ( xc_fun, yc_fun ) = XC_fun \n",
        "\n",
        "      # function constraints\n",
        "      xF = np.array( xc_fun ) \n",
        "      bF = np.array( yc_fun ) \n",
        "\n",
        "      # Vandermonde matrix\n",
        "      AF = xF[:, None] ** np.arange( NP, -1, -1 )\n",
        "\n",
        "    if XC_der != None:\n",
        "      ( xc_der, yc_der ) = XC_der\n",
        "\n",
        "      # derivative constraints\n",
        "      xD = np.array( xc_der )\n",
        "      bD = np.array( yc_der ) \n",
        "\n",
        "      # Derivative of the Vandermonde matrix\n",
        "      AD = np.array( [  (i*xD**(i-1) if i > 0 else 0*xD) \\\n",
        "                        for i in range(NP,-1,-1) ] ).T\n",
        "\n",
        "    if XC_fun != None and XC_der != None:\n",
        "      Ac = np.block( [ [AF], [AD] ] )\n",
        "      bc = np.block( [ bF, bD ] )\n",
        "    elif XC_fun != None:\n",
        "      Ac = AF\n",
        "      bc = bF\n",
        "    elif XC_der != None:\n",
        "      Ac = AD\n",
        "      bc = bD\n",
        "      \n",
        "    AcT = Ac.transpose()\n",
        "    Z0 = np.zeros( ( Ac.shape[0], Ac.shape[0] ) )\n",
        "\n",
        "    ########################################################\n",
        "    # ASSEMBLE AND SOLVE GLOBAL SYSTEM\n",
        "    #\n",
        "    AA = np.block( [ [ XTX, AcT ], [ Ac, Z0 ] ] )\n",
        "    bb = np.block( [ XTy, bc ] )\n",
        "      \n",
        "    alambda = np.linalg.solve( AA, bb )\n",
        "\n",
        "    # final polynomial coeffs without lambdas\n",
        "    return alambda[ 0:NP+1 ]"
      ],
      "execution_count": 3,
      "outputs": []
    },
    {
      "cell_type": "code",
      "metadata": {
        "id": "img9A6ROUdQa"
      },
      "source": [
        "dfc = pd.read_excel( 'TurbineHill_Data.xlsx', 'flow_eta_max_power_dimless' )\n",
        "n11_1 = np.array( dfc['n11_1'] )\n",
        "Q11_1 = np.array( dfc['Q11_1'] )\n",
        "eta_1 = np.array( dfc['eta_1'] ) / 100\n",
        "\n",
        "n11_2 = np.array( dfc['n11_2'] )\n",
        "Q11_2 = np.array( dfc['Q11_2'] )\n",
        "eta_2 = np.array( dfc['eta_2'] ) / 100\n",
        "\n",
        "n11_1 = np.array( n11_1[~np.isnan(n11_1)] )\n",
        "Q11_1 = np.array( Q11_1[~np.isnan(Q11_1)] )\n",
        "eta_1 = np.array( eta_1[~np.isnan(eta_1)] )\n",
        "\n",
        "n11_2 = np.array( n11_2[~np.isnan(n11_2)] )\n",
        "Q11_2 = np.array( Q11_2[~np.isnan(Q11_2)] )\n",
        "eta_2 = np.array( eta_2[~np.isnan(eta_2)] )"
      ],
      "execution_count": 4,
      "outputs": []
    },
    {
      "cell_type": "code",
      "metadata": {
        "id": "Ssup6j35xQZg",
        "outputId": "d7cf377c-bdc1-4a23-c97d-d0b5ccecc74c",
        "colab": {
          "base_uri": "https://localhost:8080/",
          "height": 445
        }
      },
      "source": [
        "#plt.plot( n11_1, Q11_1, 'o' )\n",
        "#plt.plot( n11_2, Q11_2, 'o' )\n",
        "\n",
        "poly_Q11_1 = LSQ_polyfit( 1, ( n11_1, Q11_1 ), ([n11_1[-1]],[Q11_1[-1]]), None )\n",
        "n11_1_plt = np.linspace( n11_1[0], n11_1[-1], 100 )\n",
        "Q11_1_plt = np.polyval( poly_Q11_1, n11_1_plt )\n",
        "plot( n11_1_plt, Q11_1_plt, '-' )\n",
        "\n",
        "poly_Q11_2 = LSQ_polyfit( 3, ( n11_2, Q11_2 ), ([n11_2[0]],[Q11_2[0]]), None )\n",
        "n11_2_plt = np.linspace( n11_2[0], n11_2[-1], 100 )\n",
        "Q11_2_plt = np.polyval( poly_Q11_2, n11_2_plt )\n",
        "plot( n11_2_plt, Q11_2_plt, '-' )\n",
        "\n",
        "display( expand(np.poly1d( np.round( poly_Q11_1, 6 ) )(n11)) )\n",
        "display( expand(np.poly1d( np.round( poly_Q11_2, 7 ) )(n11)) )\n",
        "n11_2[0], poly_Q11_1, poly_Q11_2"
      ],
      "execution_count": 5,
      "outputs": [
        {
          "output_type": "display_data",
          "data": {
            "text/latex": "$\\displaystyle 0.169282 n_{11} + 0.089894$",
            "text/plain": [
              "0.169282*n_{11} + 0.089894"
            ]
          },
          "metadata": {
            "tags": []
          }
        },
        {
          "output_type": "display_data",
          "data": {
            "text/latex": "$\\displaystyle - 0.0003639 n_{11}^{3} + 0.0093768 n_{11}^{2} - 0.0925874 n_{11} + 1.756872$",
            "text/plain": [
              "-0.0003639*n_{11}**3 + 0.0093768*n_{11}**2 - 0.0925874*n_{11} + 1.756872"
            ]
          },
          "metadata": {
            "tags": []
          }
        },
        {
          "output_type": "execute_result",
          "data": {
            "text/plain": [
              "(7.92193025936073,\n",
              " array([0.16928201, 0.08989368]),\n",
              " array([-3.63920467e-04,  9.37677379e-03, -9.25873626e-02,  1.75687197e+00]))"
            ]
          },
          "metadata": {
            "tags": []
          },
          "execution_count": 5
        },
        {
          "output_type": "display_data",
          "data": {
            "text/plain": [
              "<Figure size 432x288 with 1 Axes>"
            ],
            "image/svg+xml": "<?xml version=\"1.0\" encoding=\"utf-8\" standalone=\"no\"?>\n<!DOCTYPE svg PUBLIC \"-//W3C//DTD SVG 1.1//EN\"\n  \"http://www.w3.org/Graphics/SVG/1.1/DTD/svg11.dtd\">\n<!-- Created with matplotlib (https://matplotlib.org/) -->\n<svg height=\"248.518125pt\" version=\"1.1\" viewBox=\"0 0 372.103125 248.518125\" width=\"372.103125pt\" xmlns=\"http://www.w3.org/2000/svg\" xmlns:xlink=\"http://www.w3.org/1999/xlink\">\n <defs>\n  <style type=\"text/css\">\n*{stroke-linecap:butt;stroke-linejoin:round;}\n  </style>\n </defs>\n <g id=\"figure_1\">\n  <g id=\"patch_1\">\n   <path d=\"M 0 248.518125 \nL 372.103125 248.518125 \nL 372.103125 0 \nL 0 0 \nz\n\" style=\"fill:none;\"/>\n  </g>\n  <g id=\"axes_1\">\n   <g id=\"patch_2\">\n    <path d=\"M 30.103125 224.64 \nL 364.903125 224.64 \nL 364.903125 7.2 \nL 30.103125 7.2 \nz\n\" style=\"fill:#ffffff;\"/>\n   </g>\n   <g id=\"matplotlib.axis_1\">\n    <g id=\"xtick_1\">\n     <g id=\"line2d_1\">\n      <defs>\n       <path d=\"M 0 0 \nL 0 3.5 \n\" id=\"mce0caf2d2a\" style=\"stroke:#000000;stroke-width:0.8;\"/>\n      </defs>\n      <g>\n       <use style=\"stroke:#000000;stroke-width:0.8;\" x=\"36.224824\" xlink:href=\"#mce0caf2d2a\" y=\"224.64\"/>\n      </g>\n     </g>\n     <g id=\"text_1\">\n      <!-- 4 -->\n      <defs>\n       <path d=\"M 37.796875 64.3125 \nL 12.890625 25.390625 \nL 37.796875 25.390625 \nz\nM 35.203125 72.90625 \nL 47.609375 72.90625 \nL 47.609375 25.390625 \nL 58.015625 25.390625 \nL 58.015625 17.1875 \nL 47.609375 17.1875 \nL 47.609375 0 \nL 37.796875 0 \nL 37.796875 17.1875 \nL 4.890625 17.1875 \nL 4.890625 26.703125 \nz\n\" id=\"DejaVuSans-52\"/>\n      </defs>\n      <g transform=\"translate(33.043574 239.238437)scale(0.1 -0.1)\">\n       <use xlink:href=\"#DejaVuSans-52\"/>\n      </g>\n     </g>\n    </g>\n    <g id=\"xtick_2\">\n     <g id=\"line2d_2\">\n      <g>\n       <use style=\"stroke:#000000;stroke-width:0.8;\" x=\"83.833545\" xlink:href=\"#mce0caf2d2a\" y=\"224.64\"/>\n      </g>\n     </g>\n     <g id=\"text_2\">\n      <!-- 6 -->\n      <defs>\n       <path d=\"M 33.015625 40.375 \nQ 26.375 40.375 22.484375 35.828125 \nQ 18.609375 31.296875 18.609375 23.390625 \nQ 18.609375 15.53125 22.484375 10.953125 \nQ 26.375 6.390625 33.015625 6.390625 \nQ 39.65625 6.390625 43.53125 10.953125 \nQ 47.40625 15.53125 47.40625 23.390625 \nQ 47.40625 31.296875 43.53125 35.828125 \nQ 39.65625 40.375 33.015625 40.375 \nz\nM 52.59375 71.296875 \nL 52.59375 62.3125 \nQ 48.875 64.0625 45.09375 64.984375 \nQ 41.3125 65.921875 37.59375 65.921875 \nQ 27.828125 65.921875 22.671875 59.328125 \nQ 17.53125 52.734375 16.796875 39.40625 \nQ 19.671875 43.65625 24.015625 45.921875 \nQ 28.375 48.1875 33.59375 48.1875 \nQ 44.578125 48.1875 50.953125 41.515625 \nQ 57.328125 34.859375 57.328125 23.390625 \nQ 57.328125 12.15625 50.6875 5.359375 \nQ 44.046875 -1.421875 33.015625 -1.421875 \nQ 20.359375 -1.421875 13.671875 8.265625 \nQ 6.984375 17.96875 6.984375 36.375 \nQ 6.984375 53.65625 15.1875 63.9375 \nQ 23.390625 74.21875 37.203125 74.21875 \nQ 40.921875 74.21875 44.703125 73.484375 \nQ 48.484375 72.75 52.59375 71.296875 \nz\n\" id=\"DejaVuSans-54\"/>\n      </defs>\n      <g transform=\"translate(80.652295 239.238437)scale(0.1 -0.1)\">\n       <use xlink:href=\"#DejaVuSans-54\"/>\n      </g>\n     </g>\n    </g>\n    <g id=\"xtick_3\">\n     <g id=\"line2d_3\">\n      <g>\n       <use style=\"stroke:#000000;stroke-width:0.8;\" x=\"131.442267\" xlink:href=\"#mce0caf2d2a\" y=\"224.64\"/>\n      </g>\n     </g>\n     <g id=\"text_3\">\n      <!-- 8 -->\n      <defs>\n       <path d=\"M 31.78125 34.625 \nQ 24.75 34.625 20.71875 30.859375 \nQ 16.703125 27.09375 16.703125 20.515625 \nQ 16.703125 13.921875 20.71875 10.15625 \nQ 24.75 6.390625 31.78125 6.390625 \nQ 38.8125 6.390625 42.859375 10.171875 \nQ 46.921875 13.96875 46.921875 20.515625 \nQ 46.921875 27.09375 42.890625 30.859375 \nQ 38.875 34.625 31.78125 34.625 \nz\nM 21.921875 38.8125 \nQ 15.578125 40.375 12.03125 44.71875 \nQ 8.5 49.078125 8.5 55.328125 \nQ 8.5 64.0625 14.71875 69.140625 \nQ 20.953125 74.21875 31.78125 74.21875 \nQ 42.671875 74.21875 48.875 69.140625 \nQ 55.078125 64.0625 55.078125 55.328125 \nQ 55.078125 49.078125 51.53125 44.71875 \nQ 48 40.375 41.703125 38.8125 \nQ 48.828125 37.15625 52.796875 32.3125 \nQ 56.78125 27.484375 56.78125 20.515625 \nQ 56.78125 9.90625 50.3125 4.234375 \nQ 43.84375 -1.421875 31.78125 -1.421875 \nQ 19.734375 -1.421875 13.25 4.234375 \nQ 6.78125 9.90625 6.78125 20.515625 \nQ 6.78125 27.484375 10.78125 32.3125 \nQ 14.796875 37.15625 21.921875 38.8125 \nz\nM 18.3125 54.390625 \nQ 18.3125 48.734375 21.84375 45.5625 \nQ 25.390625 42.390625 31.78125 42.390625 \nQ 38.140625 42.390625 41.71875 45.5625 \nQ 45.3125 48.734375 45.3125 54.390625 \nQ 45.3125 60.0625 41.71875 63.234375 \nQ 38.140625 66.40625 31.78125 66.40625 \nQ 25.390625 66.40625 21.84375 63.234375 \nQ 18.3125 60.0625 18.3125 54.390625 \nz\n\" id=\"DejaVuSans-56\"/>\n      </defs>\n      <g transform=\"translate(128.261017 239.238437)scale(0.1 -0.1)\">\n       <use xlink:href=\"#DejaVuSans-56\"/>\n      </g>\n     </g>\n    </g>\n    <g id=\"xtick_4\">\n     <g id=\"line2d_4\">\n      <g>\n       <use style=\"stroke:#000000;stroke-width:0.8;\" x=\"179.050988\" xlink:href=\"#mce0caf2d2a\" y=\"224.64\"/>\n      </g>\n     </g>\n     <g id=\"text_4\">\n      <!-- 10 -->\n      <defs>\n       <path d=\"M 12.40625 8.296875 \nL 28.515625 8.296875 \nL 28.515625 63.921875 \nL 10.984375 60.40625 \nL 10.984375 69.390625 \nL 28.421875 72.90625 \nL 38.28125 72.90625 \nL 38.28125 8.296875 \nL 54.390625 8.296875 \nL 54.390625 0 \nL 12.40625 0 \nz\n\" id=\"DejaVuSans-49\"/>\n       <path d=\"M 31.78125 66.40625 \nQ 24.171875 66.40625 20.328125 58.90625 \nQ 16.5 51.421875 16.5 36.375 \nQ 16.5 21.390625 20.328125 13.890625 \nQ 24.171875 6.390625 31.78125 6.390625 \nQ 39.453125 6.390625 43.28125 13.890625 \nQ 47.125 21.390625 47.125 36.375 \nQ 47.125 51.421875 43.28125 58.90625 \nQ 39.453125 66.40625 31.78125 66.40625 \nz\nM 31.78125 74.21875 \nQ 44.046875 74.21875 50.515625 64.515625 \nQ 56.984375 54.828125 56.984375 36.375 \nQ 56.984375 17.96875 50.515625 8.265625 \nQ 44.046875 -1.421875 31.78125 -1.421875 \nQ 19.53125 -1.421875 13.0625 8.265625 \nQ 6.59375 17.96875 6.59375 36.375 \nQ 6.59375 54.828125 13.0625 64.515625 \nQ 19.53125 74.21875 31.78125 74.21875 \nz\n\" id=\"DejaVuSans-48\"/>\n      </defs>\n      <g transform=\"translate(172.688488 239.238437)scale(0.1 -0.1)\">\n       <use xlink:href=\"#DejaVuSans-49\"/>\n       <use x=\"63.623047\" xlink:href=\"#DejaVuSans-48\"/>\n      </g>\n     </g>\n    </g>\n    <g id=\"xtick_5\">\n     <g id=\"line2d_5\">\n      <g>\n       <use style=\"stroke:#000000;stroke-width:0.8;\" x=\"226.659709\" xlink:href=\"#mce0caf2d2a\" y=\"224.64\"/>\n      </g>\n     </g>\n     <g id=\"text_5\">\n      <!-- 12 -->\n      <defs>\n       <path d=\"M 19.1875 8.296875 \nL 53.609375 8.296875 \nL 53.609375 0 \nL 7.328125 0 \nL 7.328125 8.296875 \nQ 12.9375 14.109375 22.625 23.890625 \nQ 32.328125 33.6875 34.8125 36.53125 \nQ 39.546875 41.84375 41.421875 45.53125 \nQ 43.3125 49.21875 43.3125 52.78125 \nQ 43.3125 58.59375 39.234375 62.25 \nQ 35.15625 65.921875 28.609375 65.921875 \nQ 23.96875 65.921875 18.8125 64.3125 \nQ 13.671875 62.703125 7.8125 59.421875 \nL 7.8125 69.390625 \nQ 13.765625 71.78125 18.9375 73 \nQ 24.125 74.21875 28.421875 74.21875 \nQ 39.75 74.21875 46.484375 68.546875 \nQ 53.21875 62.890625 53.21875 53.421875 \nQ 53.21875 48.921875 51.53125 44.890625 \nQ 49.859375 40.875 45.40625 35.40625 \nQ 44.1875 33.984375 37.640625 27.21875 \nQ 31.109375 20.453125 19.1875 8.296875 \nz\n\" id=\"DejaVuSans-50\"/>\n      </defs>\n      <g transform=\"translate(220.297209 239.238437)scale(0.1 -0.1)\">\n       <use xlink:href=\"#DejaVuSans-49\"/>\n       <use x=\"63.623047\" xlink:href=\"#DejaVuSans-50\"/>\n      </g>\n     </g>\n    </g>\n    <g id=\"xtick_6\">\n     <g id=\"line2d_6\">\n      <g>\n       <use style=\"stroke:#000000;stroke-width:0.8;\" x=\"274.268431\" xlink:href=\"#mce0caf2d2a\" y=\"224.64\"/>\n      </g>\n     </g>\n     <g id=\"text_6\">\n      <!-- 14 -->\n      <g transform=\"translate(267.905931 239.238437)scale(0.1 -0.1)\">\n       <use xlink:href=\"#DejaVuSans-49\"/>\n       <use x=\"63.623047\" xlink:href=\"#DejaVuSans-52\"/>\n      </g>\n     </g>\n    </g>\n    <g id=\"xtick_7\">\n     <g id=\"line2d_7\">\n      <g>\n       <use style=\"stroke:#000000;stroke-width:0.8;\" x=\"321.877152\" xlink:href=\"#mce0caf2d2a\" y=\"224.64\"/>\n      </g>\n     </g>\n     <g id=\"text_7\">\n      <!-- 16 -->\n      <g transform=\"translate(315.514652 239.238437)scale(0.1 -0.1)\">\n       <use xlink:href=\"#DejaVuSans-49\"/>\n       <use x=\"63.623047\" xlink:href=\"#DejaVuSans-54\"/>\n      </g>\n     </g>\n    </g>\n   </g>\n   <g id=\"matplotlib.axis_2\">\n    <g id=\"ytick_1\">\n     <g id=\"line2d_8\">\n      <defs>\n       <path d=\"M 0 0 \nL -3.5 0 \n\" id=\"m06c0ace0c4\" style=\"stroke:#000000;stroke-width:0.8;\"/>\n      </defs>\n      <g>\n       <use style=\"stroke:#000000;stroke-width:0.8;\" x=\"30.103125\" xlink:href=\"#m06c0ace0c4\" y=\"192.228868\"/>\n      </g>\n     </g>\n     <g id=\"text_8\">\n      <!-- 0.9 -->\n      <defs>\n       <path d=\"M 10.6875 12.40625 \nL 21 12.40625 \nL 21 0 \nL 10.6875 0 \nz\n\" id=\"DejaVuSans-46\"/>\n       <path d=\"M 10.984375 1.515625 \nL 10.984375 10.5 \nQ 14.703125 8.734375 18.5 7.8125 \nQ 22.3125 6.890625 25.984375 6.890625 \nQ 35.75 6.890625 40.890625 13.453125 \nQ 46.046875 20.015625 46.78125 33.40625 \nQ 43.953125 29.203125 39.59375 26.953125 \nQ 35.25 24.703125 29.984375 24.703125 \nQ 19.046875 24.703125 12.671875 31.3125 \nQ 6.296875 37.9375 6.296875 49.421875 \nQ 6.296875 60.640625 12.9375 67.421875 \nQ 19.578125 74.21875 30.609375 74.21875 \nQ 43.265625 74.21875 49.921875 64.515625 \nQ 56.59375 54.828125 56.59375 36.375 \nQ 56.59375 19.140625 48.40625 8.859375 \nQ 40.234375 -1.421875 26.421875 -1.421875 \nQ 22.703125 -1.421875 18.890625 -0.6875 \nQ 15.09375 0.046875 10.984375 1.515625 \nz\nM 30.609375 32.421875 \nQ 37.25 32.421875 41.125 36.953125 \nQ 45.015625 41.5 45.015625 49.421875 \nQ 45.015625 57.28125 41.125 61.84375 \nQ 37.25 66.40625 30.609375 66.40625 \nQ 23.96875 66.40625 20.09375 61.84375 \nQ 16.21875 57.28125 16.21875 49.421875 \nQ 16.21875 41.5 20.09375 36.953125 \nQ 23.96875 32.421875 30.609375 32.421875 \nz\n\" id=\"DejaVuSans-57\"/>\n      </defs>\n      <g transform=\"translate(7.2 196.028087)scale(0.1 -0.1)\">\n       <use xlink:href=\"#DejaVuSans-48\"/>\n       <use x=\"63.623047\" xlink:href=\"#DejaVuSans-46\"/>\n       <use x=\"95.410156\" xlink:href=\"#DejaVuSans-57\"/>\n      </g>\n     </g>\n    </g>\n    <g id=\"ytick_2\">\n     <g id=\"line2d_9\">\n      <g>\n       <use style=\"stroke:#000000;stroke-width:0.8;\" x=\"30.103125\" xlink:href=\"#m06c0ace0c4\" y=\"159.240728\"/>\n      </g>\n     </g>\n     <g id=\"text_9\">\n      <!-- 1.0 -->\n      <g transform=\"translate(7.2 163.039947)scale(0.1 -0.1)\">\n       <use xlink:href=\"#DejaVuSans-49\"/>\n       <use x=\"63.623047\" xlink:href=\"#DejaVuSans-46\"/>\n       <use x=\"95.410156\" xlink:href=\"#DejaVuSans-48\"/>\n      </g>\n     </g>\n    </g>\n    <g id=\"ytick_3\">\n     <g id=\"line2d_10\">\n      <g>\n       <use style=\"stroke:#000000;stroke-width:0.8;\" x=\"30.103125\" xlink:href=\"#m06c0ace0c4\" y=\"126.252588\"/>\n      </g>\n     </g>\n     <g id=\"text_10\">\n      <!-- 1.1 -->\n      <g transform=\"translate(7.2 130.051807)scale(0.1 -0.1)\">\n       <use xlink:href=\"#DejaVuSans-49\"/>\n       <use x=\"63.623047\" xlink:href=\"#DejaVuSans-46\"/>\n       <use x=\"95.410156\" xlink:href=\"#DejaVuSans-49\"/>\n      </g>\n     </g>\n    </g>\n    <g id=\"ytick_4\">\n     <g id=\"line2d_11\">\n      <g>\n       <use style=\"stroke:#000000;stroke-width:0.8;\" x=\"30.103125\" xlink:href=\"#m06c0ace0c4\" y=\"93.264448\"/>\n      </g>\n     </g>\n     <g id=\"text_11\">\n      <!-- 1.2 -->\n      <g transform=\"translate(7.2 97.063667)scale(0.1 -0.1)\">\n       <use xlink:href=\"#DejaVuSans-49\"/>\n       <use x=\"63.623047\" xlink:href=\"#DejaVuSans-46\"/>\n       <use x=\"95.410156\" xlink:href=\"#DejaVuSans-50\"/>\n      </g>\n     </g>\n    </g>\n    <g id=\"ytick_5\">\n     <g id=\"line2d_12\">\n      <g>\n       <use style=\"stroke:#000000;stroke-width:0.8;\" x=\"30.103125\" xlink:href=\"#m06c0ace0c4\" y=\"60.276308\"/>\n      </g>\n     </g>\n     <g id=\"text_12\">\n      <!-- 1.3 -->\n      <defs>\n       <path d=\"M 40.578125 39.3125 \nQ 47.65625 37.796875 51.625 33 \nQ 55.609375 28.21875 55.609375 21.1875 \nQ 55.609375 10.40625 48.1875 4.484375 \nQ 40.765625 -1.421875 27.09375 -1.421875 \nQ 22.515625 -1.421875 17.65625 -0.515625 \nQ 12.796875 0.390625 7.625 2.203125 \nL 7.625 11.71875 \nQ 11.71875 9.328125 16.59375 8.109375 \nQ 21.484375 6.890625 26.8125 6.890625 \nQ 36.078125 6.890625 40.9375 10.546875 \nQ 45.796875 14.203125 45.796875 21.1875 \nQ 45.796875 27.640625 41.28125 31.265625 \nQ 36.765625 34.90625 28.71875 34.90625 \nL 20.21875 34.90625 \nL 20.21875 43.015625 \nL 29.109375 43.015625 \nQ 36.375 43.015625 40.234375 45.921875 \nQ 44.09375 48.828125 44.09375 54.296875 \nQ 44.09375 59.90625 40.109375 62.90625 \nQ 36.140625 65.921875 28.71875 65.921875 \nQ 24.65625 65.921875 20.015625 65.03125 \nQ 15.375 64.15625 9.8125 62.3125 \nL 9.8125 71.09375 \nQ 15.4375 72.65625 20.34375 73.4375 \nQ 25.25 74.21875 29.59375 74.21875 \nQ 40.828125 74.21875 47.359375 69.109375 \nQ 53.90625 64.015625 53.90625 55.328125 \nQ 53.90625 49.265625 50.4375 45.09375 \nQ 46.96875 40.921875 40.578125 39.3125 \nz\n\" id=\"DejaVuSans-51\"/>\n      </defs>\n      <g transform=\"translate(7.2 64.075527)scale(0.1 -0.1)\">\n       <use xlink:href=\"#DejaVuSans-49\"/>\n       <use x=\"63.623047\" xlink:href=\"#DejaVuSans-46\"/>\n       <use x=\"95.410156\" xlink:href=\"#DejaVuSans-51\"/>\n      </g>\n     </g>\n    </g>\n    <g id=\"ytick_6\">\n     <g id=\"line2d_13\">\n      <g>\n       <use style=\"stroke:#000000;stroke-width:0.8;\" x=\"30.103125\" xlink:href=\"#m06c0ace0c4\" y=\"27.288168\"/>\n      </g>\n     </g>\n     <g id=\"text_13\">\n      <!-- 1.4 -->\n      <g transform=\"translate(7.2 31.087387)scale(0.1 -0.1)\">\n       <use xlink:href=\"#DejaVuSans-49\"/>\n       <use x=\"63.623047\" xlink:href=\"#DejaVuSans-46\"/>\n       <use x=\"95.410156\" xlink:href=\"#DejaVuSans-52\"/>\n      </g>\n     </g>\n    </g>\n   </g>\n   <g id=\"line2d_14\">\n    <path clip-path=\"url(#p99f207b09f)\" d=\"M 45.321307 214.756364 \nL 46.172444 212.759669 \nL 47.023581 210.762975 \nL 47.874718 208.766281 \nL 48.725855 206.769587 \nL 49.576992 204.772893 \nL 50.428129 202.776198 \nL 51.279266 200.779504 \nL 52.130403 198.78281 \nL 52.981539 196.786116 \nL 53.832676 194.789421 \nL 54.683813 192.792727 \nL 55.53495 190.796033 \nL 56.386087 188.799339 \nL 57.237224 186.802645 \nL 58.088361 184.80595 \nL 58.939498 182.809256 \nL 59.790635 180.812562 \nL 60.641772 178.815868 \nL 61.492909 176.819174 \nL 62.344046 174.822479 \nL 63.195183 172.825785 \nL 64.04632 170.829091 \nL 64.897457 168.832397 \nL 65.748594 166.835702 \nL 66.599731 164.839008 \nL 67.450868 162.842314 \nL 68.302005 160.84562 \nL 69.153142 158.848926 \nL 70.004279 156.852231 \nL 70.855416 154.855537 \nL 71.706553 152.858843 \nL 72.55769 150.862149 \nL 73.408827 148.865455 \nL 74.259964 146.86876 \nL 75.111101 144.872066 \nL 75.962238 142.875372 \nL 76.813374 140.878678 \nL 77.664511 138.881983 \nL 78.515648 136.885289 \nL 79.366785 134.888595 \nL 80.217922 132.891901 \nL 81.069059 130.895207 \nL 81.920196 128.898512 \nL 82.771333 126.901818 \nL 83.62247 124.905124 \nL 84.473607 122.90843 \nL 85.324744 120.911736 \nL 86.175881 118.915041 \nL 87.027018 116.918347 \nL 87.878155 114.921653 \nL 88.729292 112.924959 \nL 89.580429 110.928264 \nL 90.431566 108.93157 \nL 91.282703 106.934876 \nL 92.13384 104.938182 \nL 92.984977 102.941488 \nL 93.836114 100.944793 \nL 94.687251 98.948099 \nL 95.538388 96.951405 \nL 96.389525 94.954711 \nL 97.240662 92.958017 \nL 98.091799 90.961322 \nL 98.942936 88.964628 \nL 99.794073 86.967934 \nL 100.645209 84.97124 \nL 101.496346 82.974545 \nL 102.347483 80.977851 \nL 103.19862 78.981157 \nL 104.049757 76.984463 \nL 104.900894 74.987769 \nL 105.752031 72.991074 \nL 106.603168 70.99438 \nL 107.454305 68.997686 \nL 108.305442 67.000992 \nL 109.156579 65.004298 \nL 110.007716 63.007603 \nL 110.858853 61.010909 \nL 111.70999 59.014215 \nL 112.561127 57.017521 \nL 113.412264 55.020826 \nL 114.263401 53.024132 \nL 115.114538 51.027438 \nL 115.965675 49.030744 \nL 116.816812 47.03405 \nL 117.667949 45.037355 \nL 118.519086 43.040661 \nL 119.370223 41.043967 \nL 120.22136 39.047273 \nL 121.072497 37.050579 \nL 121.923634 35.053884 \nL 122.774771 33.05719 \nL 123.625908 31.060496 \nL 124.477044 29.063802 \nL 125.328181 27.067107 \nL 126.179318 25.070413 \nL 127.030455 23.073719 \nL 127.881592 21.077025 \nL 128.732729 19.080331 \nL 129.583866 17.083636 \n\" style=\"fill:none;stroke:#1f77b4;stroke-linecap:square;stroke-width:1.5;\"/>\n   </g>\n   <g id=\"line2d_15\">\n    <path clip-path=\"url(#p99f207b09f)\" d=\"M 129.583866 17.083636 \nL 131.807109 17.467954 \nL 134.030353 17.84867 \nL 136.253596 18.22637 \nL 138.476839 18.601641 \nL 140.700082 18.975071 \nL 142.923325 19.347245 \nL 145.146569 19.718751 \nL 147.369812 20.090176 \nL 149.593055 20.462106 \nL 151.816298 20.835128 \nL 154.039541 21.209829 \nL 156.262785 21.586796 \nL 158.486028 21.966616 \nL 160.709271 22.349876 \nL 162.932514 22.737161 \nL 165.155757 23.12906 \nL 167.379001 23.526159 \nL 169.602244 23.929045 \nL 171.825487 24.338304 \nL 174.04873 24.754523 \nL 176.271973 25.17829 \nL 178.495217 25.610191 \nL 180.71846 26.050813 \nL 182.941703 26.500743 \nL 185.164946 26.960567 \nL 187.388189 27.430873 \nL 189.611433 27.912246 \nL 191.834676 28.405275 \nL 194.057919 28.910546 \nL 196.281162 29.428645 \nL 198.504406 29.96016 \nL 200.727649 30.505677 \nL 202.950892 31.065783 \nL 205.174135 31.641066 \nL 207.397378 32.232111 \nL 209.620622 32.839505 \nL 211.843865 33.463836 \nL 214.067108 34.105691 \nL 216.290351 34.765655 \nL 218.513594 35.444316 \nL 220.736838 36.142261 \nL 222.960081 36.860077 \nL 225.183324 37.59835 \nL 227.406567 38.357667 \nL 229.62981 39.138615 \nL 231.853054 39.941781 \nL 234.076297 40.767751 \nL 236.29954 41.617113 \nL 238.522783 42.490454 \nL 240.746026 43.388359 \nL 242.96927 44.311416 \nL 245.192513 45.260213 \nL 247.415756 46.235334 \nL 249.638999 47.237369 \nL 251.862242 48.266902 \nL 254.085486 49.324521 \nL 256.308729 50.410814 \nL 258.531972 51.526366 \nL 260.755215 52.671764 \nL 262.978458 53.847596 \nL 265.201702 55.054448 \nL 267.424945 56.292908 \nL 269.648188 57.563561 \nL 271.871431 58.866994 \nL 274.094674 60.203795 \nL 276.317918 61.57455 \nL 278.541161 62.979847 \nL 280.764404 64.420271 \nL 282.987647 65.89641 \nL 285.21089 67.408851 \nL 287.434134 68.95818 \nL 289.657377 70.544984 \nL 291.88062 72.169851 \nL 294.103863 73.833366 \nL 296.327106 75.536117 \nL 298.55035 77.27869 \nL 300.773593 79.061673 \nL 302.996836 80.885652 \nL 305.220079 82.751214 \nL 307.443322 84.658946 \nL 309.666566 86.609434 \nL 311.889809 88.603266 \nL 314.113052 90.641028 \nL 316.336295 92.723307 \nL 318.559538 94.85069 \nL 320.782782 97.023764 \nL 323.006025 99.243115 \nL 325.229268 101.509331 \nL 327.452511 103.822998 \nL 329.675754 106.184703 \nL 331.898998 108.595033 \nL 334.122241 111.054574 \nL 336.345484 113.563914 \nL 338.568727 116.12364 \nL 340.79197 118.734337 \nL 343.015214 121.396594 \nL 345.238457 124.110996 \nL 347.4617 126.878131 \nL 349.684943 129.698585 \n\" style=\"fill:none;stroke:#ff7f0e;stroke-linecap:square;stroke-width:1.5;\"/>\n   </g>\n   <g id=\"patch_3\">\n    <path d=\"M 30.103125 224.64 \nL 30.103125 7.2 \n\" style=\"fill:none;stroke:#000000;stroke-linecap:square;stroke-linejoin:miter;stroke-width:0.8;\"/>\n   </g>\n   <g id=\"patch_4\">\n    <path d=\"M 364.903125 224.64 \nL 364.903125 7.2 \n\" style=\"fill:none;stroke:#000000;stroke-linecap:square;stroke-linejoin:miter;stroke-width:0.8;\"/>\n   </g>\n   <g id=\"patch_5\">\n    <path d=\"M 30.103125 224.64 \nL 364.903125 224.64 \n\" style=\"fill:none;stroke:#000000;stroke-linecap:square;stroke-linejoin:miter;stroke-width:0.8;\"/>\n   </g>\n   <g id=\"patch_6\">\n    <path d=\"M 30.103125 7.2 \nL 364.903125 7.2 \n\" style=\"fill:none;stroke:#000000;stroke-linecap:square;stroke-linejoin:miter;stroke-width:0.8;\"/>\n   </g>\n  </g>\n </g>\n <defs>\n  <clipPath id=\"p99f207b09f\">\n   <rect height=\"217.44\" width=\"334.8\" x=\"30.103125\" y=\"7.2\"/>\n  </clipPath>\n </defs>\n</svg>\n"
          },
          "metadata": {
            "tags": [],
            "needs_background": "light"
          }
        }
      ]
    },
    {
      "cell_type": "code",
      "metadata": {
        "id": "t7r6dg_axQZi",
        "outputId": "099bbffe-09b3-4463-ae43-698ee407aeaf",
        "colab": {
          "base_uri": "https://localhost:8080/",
          "height": 479
        }
      },
      "source": [
        "plt.plot( n11_1, eta_1, 'o' )\n",
        "plt.plot( n11_2, eta_2, 'o' )\n",
        "\n",
        "poly_eta_1 = LSQ_polyfit( 2, ( n11_1, eta_1 ), ([n11_1[-1]],[eta_1[-1]]), None )\n",
        "n11_1_plt = np.linspace( n11_1[0], n11_1[-1], 100 )\n",
        "eta_1_plt = np.polyval( poly_eta_1, n11_1_plt )\n",
        "plot( n11_1_plt, eta_1_plt, '-' )\n",
        "\n",
        "poly_eta_2 = LSQ_polyfit( 3, ( n11_2, eta_2 ), ([n11_2[0],n11_2[1]],[eta_2[0],eta_2[1]]), None )\n",
        "n11_2_plt = np.linspace( n11_2[0], n11_2[-1], 100 )\n",
        "eta_2_plt = np.polyval( poly_eta_2, n11_2_plt )\n",
        "plot( n11_2_plt, eta_2_plt, '-' );\n",
        "\n",
        "display( expand(np.poly1d( np.round( poly_eta_1, 5 ) )(n11)) )\n",
        "display( expand(np.poly1d( np.round( poly_eta_2, 5 ) )(n11)) )\n",
        "n11_2[0], poly_eta_1, poly_eta_2, n11_1[0], n11_2[-1]"
      ],
      "execution_count": 6,
      "outputs": [
        {
          "output_type": "display_data",
          "data": {
            "text/latex": "$\\displaystyle - 0.02076 n_{11}^{2} + 0.20238 n_{11} + 0.48985$",
            "text/plain": [
              "-0.02076*n_{11}**2 + 0.20238*n_{11} + 0.48985"
            ]
          },
          "metadata": {
            "tags": []
          }
        },
        {
          "output_type": "display_data",
          "data": {
            "text/latex": "$\\displaystyle - 0.00028 n_{11}^{3} + 0.00205 n_{11}^{2} + 0.00069 n_{11} + 0.79308$",
            "text/plain": [
              "-0.00028*n_{11}**3 + 0.00205*n_{11}**2 + 0.00069*n_{11} + 0.79308"
            ]
          },
          "metadata": {
            "tags": []
          }
        },
        {
          "output_type": "execute_result",
          "data": {
            "text/plain": [
              "(7.92193025936073,\n",
              " array([-0.02076456,  0.20238444,  0.48984553]),\n",
              " array([-2.75685709e-04,  2.04822984e-03,  6.86081825e-04,  7.93083108e-01]),\n",
              " 4.38213515707912,\n",
              " 17.1681805419136)"
            ]
          },
          "metadata": {
            "tags": []
          },
          "execution_count": 6
        },
        {
          "output_type": "display_data",
          "data": {
            "text/plain": [
              "<Figure size 432x288 with 1 Axes>"
            ],
            "image/svg+xml": "<?xml version=\"1.0\" encoding=\"utf-8\" standalone=\"no\"?>\n<!DOCTYPE svg PUBLIC \"-//W3C//DTD SVG 1.1//EN\"\n  \"http://www.w3.org/Graphics/SVG/1.1/DTD/svg11.dtd\">\n<!-- Created with matplotlib (https://matplotlib.org/) -->\n<svg height=\"248.518125pt\" version=\"1.1\" viewBox=\"0 0 372.103125 248.518125\" width=\"372.103125pt\" xmlns=\"http://www.w3.org/2000/svg\" xmlns:xlink=\"http://www.w3.org/1999/xlink\">\n <defs>\n  <style type=\"text/css\">\n*{stroke-linecap:butt;stroke-linejoin:round;}\n  </style>\n </defs>\n <g id=\"figure_1\">\n  <g id=\"patch_1\">\n   <path d=\"M 0 248.518125 \nL 372.103125 248.518125 \nL 372.103125 0 \nL 0 0 \nz\n\" style=\"fill:none;\"/>\n  </g>\n  <g id=\"axes_1\">\n   <g id=\"patch_2\">\n    <path d=\"M 30.103125 224.64 \nL 364.903125 224.64 \nL 364.903125 7.2 \nL 30.103125 7.2 \nz\n\" style=\"fill:#ffffff;\"/>\n   </g>\n   <g id=\"matplotlib.axis_1\">\n    <g id=\"xtick_1\">\n     <g id=\"line2d_1\">\n      <defs>\n       <path d=\"M 0 0 \nL 0 3.5 \n\" id=\"m53da5625e0\" style=\"stroke:#000000;stroke-width:0.8;\"/>\n      </defs>\n      <g>\n       <use style=\"stroke:#000000;stroke-width:0.8;\" x=\"36.224824\" xlink:href=\"#m53da5625e0\" y=\"224.64\"/>\n      </g>\n     </g>\n     <g id=\"text_1\">\n      <!-- 4 -->\n      <defs>\n       <path d=\"M 37.796875 64.3125 \nL 12.890625 25.390625 \nL 37.796875 25.390625 \nz\nM 35.203125 72.90625 \nL 47.609375 72.90625 \nL 47.609375 25.390625 \nL 58.015625 25.390625 \nL 58.015625 17.1875 \nL 47.609375 17.1875 \nL 47.609375 0 \nL 37.796875 0 \nL 37.796875 17.1875 \nL 4.890625 17.1875 \nL 4.890625 26.703125 \nz\n\" id=\"DejaVuSans-52\"/>\n      </defs>\n      <g transform=\"translate(33.043574 239.238437)scale(0.1 -0.1)\">\n       <use xlink:href=\"#DejaVuSans-52\"/>\n      </g>\n     </g>\n    </g>\n    <g id=\"xtick_2\">\n     <g id=\"line2d_2\">\n      <g>\n       <use style=\"stroke:#000000;stroke-width:0.8;\" x=\"83.833545\" xlink:href=\"#m53da5625e0\" y=\"224.64\"/>\n      </g>\n     </g>\n     <g id=\"text_2\">\n      <!-- 6 -->\n      <defs>\n       <path d=\"M 33.015625 40.375 \nQ 26.375 40.375 22.484375 35.828125 \nQ 18.609375 31.296875 18.609375 23.390625 \nQ 18.609375 15.53125 22.484375 10.953125 \nQ 26.375 6.390625 33.015625 6.390625 \nQ 39.65625 6.390625 43.53125 10.953125 \nQ 47.40625 15.53125 47.40625 23.390625 \nQ 47.40625 31.296875 43.53125 35.828125 \nQ 39.65625 40.375 33.015625 40.375 \nz\nM 52.59375 71.296875 \nL 52.59375 62.3125 \nQ 48.875 64.0625 45.09375 64.984375 \nQ 41.3125 65.921875 37.59375 65.921875 \nQ 27.828125 65.921875 22.671875 59.328125 \nQ 17.53125 52.734375 16.796875 39.40625 \nQ 19.671875 43.65625 24.015625 45.921875 \nQ 28.375 48.1875 33.59375 48.1875 \nQ 44.578125 48.1875 50.953125 41.515625 \nQ 57.328125 34.859375 57.328125 23.390625 \nQ 57.328125 12.15625 50.6875 5.359375 \nQ 44.046875 -1.421875 33.015625 -1.421875 \nQ 20.359375 -1.421875 13.671875 8.265625 \nQ 6.984375 17.96875 6.984375 36.375 \nQ 6.984375 53.65625 15.1875 63.9375 \nQ 23.390625 74.21875 37.203125 74.21875 \nQ 40.921875 74.21875 44.703125 73.484375 \nQ 48.484375 72.75 52.59375 71.296875 \nz\n\" id=\"DejaVuSans-54\"/>\n      </defs>\n      <g transform=\"translate(80.652295 239.238437)scale(0.1 -0.1)\">\n       <use xlink:href=\"#DejaVuSans-54\"/>\n      </g>\n     </g>\n    </g>\n    <g id=\"xtick_3\">\n     <g id=\"line2d_3\">\n      <g>\n       <use style=\"stroke:#000000;stroke-width:0.8;\" x=\"131.442267\" xlink:href=\"#m53da5625e0\" y=\"224.64\"/>\n      </g>\n     </g>\n     <g id=\"text_3\">\n      <!-- 8 -->\n      <defs>\n       <path d=\"M 31.78125 34.625 \nQ 24.75 34.625 20.71875 30.859375 \nQ 16.703125 27.09375 16.703125 20.515625 \nQ 16.703125 13.921875 20.71875 10.15625 \nQ 24.75 6.390625 31.78125 6.390625 \nQ 38.8125 6.390625 42.859375 10.171875 \nQ 46.921875 13.96875 46.921875 20.515625 \nQ 46.921875 27.09375 42.890625 30.859375 \nQ 38.875 34.625 31.78125 34.625 \nz\nM 21.921875 38.8125 \nQ 15.578125 40.375 12.03125 44.71875 \nQ 8.5 49.078125 8.5 55.328125 \nQ 8.5 64.0625 14.71875 69.140625 \nQ 20.953125 74.21875 31.78125 74.21875 \nQ 42.671875 74.21875 48.875 69.140625 \nQ 55.078125 64.0625 55.078125 55.328125 \nQ 55.078125 49.078125 51.53125 44.71875 \nQ 48 40.375 41.703125 38.8125 \nQ 48.828125 37.15625 52.796875 32.3125 \nQ 56.78125 27.484375 56.78125 20.515625 \nQ 56.78125 9.90625 50.3125 4.234375 \nQ 43.84375 -1.421875 31.78125 -1.421875 \nQ 19.734375 -1.421875 13.25 4.234375 \nQ 6.78125 9.90625 6.78125 20.515625 \nQ 6.78125 27.484375 10.78125 32.3125 \nQ 14.796875 37.15625 21.921875 38.8125 \nz\nM 18.3125 54.390625 \nQ 18.3125 48.734375 21.84375 45.5625 \nQ 25.390625 42.390625 31.78125 42.390625 \nQ 38.140625 42.390625 41.71875 45.5625 \nQ 45.3125 48.734375 45.3125 54.390625 \nQ 45.3125 60.0625 41.71875 63.234375 \nQ 38.140625 66.40625 31.78125 66.40625 \nQ 25.390625 66.40625 21.84375 63.234375 \nQ 18.3125 60.0625 18.3125 54.390625 \nz\n\" id=\"DejaVuSans-56\"/>\n      </defs>\n      <g transform=\"translate(128.261017 239.238437)scale(0.1 -0.1)\">\n       <use xlink:href=\"#DejaVuSans-56\"/>\n      </g>\n     </g>\n    </g>\n    <g id=\"xtick_4\">\n     <g id=\"line2d_4\">\n      <g>\n       <use style=\"stroke:#000000;stroke-width:0.8;\" x=\"179.050988\" xlink:href=\"#m53da5625e0\" y=\"224.64\"/>\n      </g>\n     </g>\n     <g id=\"text_4\">\n      <!-- 10 -->\n      <defs>\n       <path d=\"M 12.40625 8.296875 \nL 28.515625 8.296875 \nL 28.515625 63.921875 \nL 10.984375 60.40625 \nL 10.984375 69.390625 \nL 28.421875 72.90625 \nL 38.28125 72.90625 \nL 38.28125 8.296875 \nL 54.390625 8.296875 \nL 54.390625 0 \nL 12.40625 0 \nz\n\" id=\"DejaVuSans-49\"/>\n       <path d=\"M 31.78125 66.40625 \nQ 24.171875 66.40625 20.328125 58.90625 \nQ 16.5 51.421875 16.5 36.375 \nQ 16.5 21.390625 20.328125 13.890625 \nQ 24.171875 6.390625 31.78125 6.390625 \nQ 39.453125 6.390625 43.28125 13.890625 \nQ 47.125 21.390625 47.125 36.375 \nQ 47.125 51.421875 43.28125 58.90625 \nQ 39.453125 66.40625 31.78125 66.40625 \nz\nM 31.78125 74.21875 \nQ 44.046875 74.21875 50.515625 64.515625 \nQ 56.984375 54.828125 56.984375 36.375 \nQ 56.984375 17.96875 50.515625 8.265625 \nQ 44.046875 -1.421875 31.78125 -1.421875 \nQ 19.53125 -1.421875 13.0625 8.265625 \nQ 6.59375 17.96875 6.59375 36.375 \nQ 6.59375 54.828125 13.0625 64.515625 \nQ 19.53125 74.21875 31.78125 74.21875 \nz\n\" id=\"DejaVuSans-48\"/>\n      </defs>\n      <g transform=\"translate(172.688488 239.238437)scale(0.1 -0.1)\">\n       <use xlink:href=\"#DejaVuSans-49\"/>\n       <use x=\"63.623047\" xlink:href=\"#DejaVuSans-48\"/>\n      </g>\n     </g>\n    </g>\n    <g id=\"xtick_5\">\n     <g id=\"line2d_5\">\n      <g>\n       <use style=\"stroke:#000000;stroke-width:0.8;\" x=\"226.659709\" xlink:href=\"#m53da5625e0\" y=\"224.64\"/>\n      </g>\n     </g>\n     <g id=\"text_5\">\n      <!-- 12 -->\n      <defs>\n       <path d=\"M 19.1875 8.296875 \nL 53.609375 8.296875 \nL 53.609375 0 \nL 7.328125 0 \nL 7.328125 8.296875 \nQ 12.9375 14.109375 22.625 23.890625 \nQ 32.328125 33.6875 34.8125 36.53125 \nQ 39.546875 41.84375 41.421875 45.53125 \nQ 43.3125 49.21875 43.3125 52.78125 \nQ 43.3125 58.59375 39.234375 62.25 \nQ 35.15625 65.921875 28.609375 65.921875 \nQ 23.96875 65.921875 18.8125 64.3125 \nQ 13.671875 62.703125 7.8125 59.421875 \nL 7.8125 69.390625 \nQ 13.765625 71.78125 18.9375 73 \nQ 24.125 74.21875 28.421875 74.21875 \nQ 39.75 74.21875 46.484375 68.546875 \nQ 53.21875 62.890625 53.21875 53.421875 \nQ 53.21875 48.921875 51.53125 44.890625 \nQ 49.859375 40.875 45.40625 35.40625 \nQ 44.1875 33.984375 37.640625 27.21875 \nQ 31.109375 20.453125 19.1875 8.296875 \nz\n\" id=\"DejaVuSans-50\"/>\n      </defs>\n      <g transform=\"translate(220.297209 239.238437)scale(0.1 -0.1)\">\n       <use xlink:href=\"#DejaVuSans-49\"/>\n       <use x=\"63.623047\" xlink:href=\"#DejaVuSans-50\"/>\n      </g>\n     </g>\n    </g>\n    <g id=\"xtick_6\">\n     <g id=\"line2d_6\">\n      <g>\n       <use style=\"stroke:#000000;stroke-width:0.8;\" x=\"274.268431\" xlink:href=\"#m53da5625e0\" y=\"224.64\"/>\n      </g>\n     </g>\n     <g id=\"text_6\">\n      <!-- 14 -->\n      <g transform=\"translate(267.905931 239.238437)scale(0.1 -0.1)\">\n       <use xlink:href=\"#DejaVuSans-49\"/>\n       <use x=\"63.623047\" xlink:href=\"#DejaVuSans-52\"/>\n      </g>\n     </g>\n    </g>\n    <g id=\"xtick_7\">\n     <g id=\"line2d_7\">\n      <g>\n       <use style=\"stroke:#000000;stroke-width:0.8;\" x=\"321.877152\" xlink:href=\"#m53da5625e0\" y=\"224.64\"/>\n      </g>\n     </g>\n     <g id=\"text_7\">\n      <!-- 16 -->\n      <g transform=\"translate(315.514652 239.238437)scale(0.1 -0.1)\">\n       <use xlink:href=\"#DejaVuSans-49\"/>\n       <use x=\"63.623047\" xlink:href=\"#DejaVuSans-54\"/>\n      </g>\n     </g>\n    </g>\n   </g>\n   <g id=\"matplotlib.axis_2\">\n    <g id=\"ytick_1\">\n     <g id=\"line2d_8\">\n      <defs>\n       <path d=\"M 0 0 \nL -3.5 0 \n\" id=\"m6b084c54bf\" style=\"stroke:#000000;stroke-width:0.8;\"/>\n      </defs>\n      <g>\n       <use style=\"stroke:#000000;stroke-width:0.8;\" x=\"30.103125\" xlink:href=\"#m6b084c54bf\" y=\"214.756364\"/>\n      </g>\n     </g>\n     <g id=\"text_8\">\n      <!-- 0.0 -->\n      <defs>\n       <path d=\"M 10.6875 12.40625 \nL 21 12.40625 \nL 21 0 \nL 10.6875 0 \nz\n\" id=\"DejaVuSans-46\"/>\n      </defs>\n      <g transform=\"translate(7.2 218.555582)scale(0.1 -0.1)\">\n       <use xlink:href=\"#DejaVuSans-48\"/>\n       <use x=\"63.623047\" xlink:href=\"#DejaVuSans-46\"/>\n       <use x=\"95.410156\" xlink:href=\"#DejaVuSans-48\"/>\n      </g>\n     </g>\n    </g>\n    <g id=\"ytick_2\">\n     <g id=\"line2d_9\">\n      <g>\n       <use style=\"stroke:#000000;stroke-width:0.8;\" x=\"30.103125\" xlink:href=\"#m6b084c54bf\" y=\"174.537502\"/>\n      </g>\n     </g>\n     <g id=\"text_9\">\n      <!-- 0.2 -->\n      <g transform=\"translate(7.2 178.336721)scale(0.1 -0.1)\">\n       <use xlink:href=\"#DejaVuSans-48\"/>\n       <use x=\"63.623047\" xlink:href=\"#DejaVuSans-46\"/>\n       <use x=\"95.410156\" xlink:href=\"#DejaVuSans-50\"/>\n      </g>\n     </g>\n    </g>\n    <g id=\"ytick_3\">\n     <g id=\"line2d_10\">\n      <g>\n       <use style=\"stroke:#000000;stroke-width:0.8;\" x=\"30.103125\" xlink:href=\"#m6b084c54bf\" y=\"134.31864\"/>\n      </g>\n     </g>\n     <g id=\"text_10\">\n      <!-- 0.4 -->\n      <g transform=\"translate(7.2 138.117859)scale(0.1 -0.1)\">\n       <use xlink:href=\"#DejaVuSans-48\"/>\n       <use x=\"63.623047\" xlink:href=\"#DejaVuSans-46\"/>\n       <use x=\"95.410156\" xlink:href=\"#DejaVuSans-52\"/>\n      </g>\n     </g>\n    </g>\n    <g id=\"ytick_4\">\n     <g id=\"line2d_11\">\n      <g>\n       <use style=\"stroke:#000000;stroke-width:0.8;\" x=\"30.103125\" xlink:href=\"#m6b084c54bf\" y=\"94.099778\"/>\n      </g>\n     </g>\n     <g id=\"text_11\">\n      <!-- 0.6 -->\n      <g transform=\"translate(7.2 97.898997)scale(0.1 -0.1)\">\n       <use xlink:href=\"#DejaVuSans-48\"/>\n       <use x=\"63.623047\" xlink:href=\"#DejaVuSans-46\"/>\n       <use x=\"95.410156\" xlink:href=\"#DejaVuSans-54\"/>\n      </g>\n     </g>\n    </g>\n    <g id=\"ytick_5\">\n     <g id=\"line2d_12\">\n      <g>\n       <use style=\"stroke:#000000;stroke-width:0.8;\" x=\"30.103125\" xlink:href=\"#m6b084c54bf\" y=\"53.880917\"/>\n      </g>\n     </g>\n     <g id=\"text_12\">\n      <!-- 0.8 -->\n      <g transform=\"translate(7.2 57.680135)scale(0.1 -0.1)\">\n       <use xlink:href=\"#DejaVuSans-48\"/>\n       <use x=\"63.623047\" xlink:href=\"#DejaVuSans-46\"/>\n       <use x=\"95.410156\" xlink:href=\"#DejaVuSans-56\"/>\n      </g>\n     </g>\n    </g>\n    <g id=\"ytick_6\">\n     <g id=\"line2d_13\">\n      <g>\n       <use style=\"stroke:#000000;stroke-width:0.8;\" x=\"30.103125\" xlink:href=\"#m6b084c54bf\" y=\"13.662055\"/>\n      </g>\n     </g>\n     <g id=\"text_13\">\n      <!-- 1.0 -->\n      <g transform=\"translate(7.2 17.461274)scale(0.1 -0.1)\">\n       <use xlink:href=\"#DejaVuSans-49\"/>\n       <use x=\"63.623047\" xlink:href=\"#DejaVuSans-46\"/>\n       <use x=\"95.410156\" xlink:href=\"#DejaVuSans-48\"/>\n      </g>\n     </g>\n    </g>\n   </g>\n   <g id=\"line2d_14\">\n    <defs>\n     <path d=\"M 0 3 \nC 0.795609 3 1.55874 2.683901 2.12132 2.12132 \nC 2.683901 1.55874 3 0.795609 3 0 \nC 3 -0.795609 2.683901 -1.55874 2.12132 -2.12132 \nC 1.55874 -2.683901 0.795609 -3 0 -3 \nC -0.795609 -3 -1.55874 -2.683901 -2.12132 -2.12132 \nC -2.683901 -1.55874 -3 -0.795609 -3 0 \nC -3 0.795609 -2.683901 1.55874 -2.12132 2.12132 \nC -1.55874 2.683901 -0.795609 3 0 3 \nz\n\" id=\"m64459fbcee\" style=\"stroke:#1f77b4;\"/>\n    </defs>\n    <g clip-path=\"url(#p5044ff7292)\">\n     <use style=\"fill:#1f77b4;stroke:#1f77b4;\" x=\"45.321307\" xlink:href=\"#m64459fbcee\" y=\"17.683941\"/>\n     <use style=\"fill:#1f77b4;stroke:#1f77b4;\" x=\"63.041849\" xlink:href=\"#m64459fbcee\" y=\"17.683941\"/>\n     <use style=\"fill:#1f77b4;stroke:#1f77b4;\" x=\"74.252839\" xlink:href=\"#m64459fbcee\" y=\"19.694884\"/>\n     <use style=\"fill:#1f77b4;stroke:#1f77b4;\" x=\"81.666533\" xlink:href=\"#m64459fbcee\" y=\"21.705827\"/>\n     <use style=\"fill:#1f77b4;stroke:#1f77b4;\" x=\"87.091048\" xlink:href=\"#m64459fbcee\" y=\"23.71677\"/>\n     <use style=\"fill:#1f77b4;stroke:#1f77b4;\" x=\"92.5159\" xlink:href=\"#m64459fbcee\" y=\"26.733185\"/>\n     <use style=\"fill:#1f77b4;stroke:#1f77b4;\" x=\"97.759857\" xlink:href=\"#m64459fbcee\" y=\"29.7496\"/>\n     <use style=\"fill:#1f77b4;stroke:#1f77b4;\" x=\"101.918606\" xlink:href=\"#m64459fbcee\" y=\"31.760543\"/>\n     <use style=\"fill:#1f77b4;stroke:#1f77b4;\" x=\"105.173382\" xlink:href=\"#m64459fbcee\" y=\"33.771486\"/>\n     <use style=\"fill:#1f77b4;stroke:#1f77b4;\" x=\"108.42799\" xlink:href=\"#m64459fbcee\" y=\"35.782429\"/>\n     <use style=\"fill:#1f77b4;stroke:#1f77b4;\" x=\"111.682935\" xlink:href=\"#m64459fbcee\" y=\"37.793372\"/>\n     <use style=\"fill:#1f77b4;stroke:#1f77b4;\" x=\"115.299334\" xlink:href=\"#m64459fbcee\" y=\"41.815258\"/>\n     <use style=\"fill:#1f77b4;stroke:#1f77b4;\" x=\"119.458252\" xlink:href=\"#m64459fbcee\" y=\"46.842616\"/>\n     <use style=\"fill:#1f77b4;stroke:#1f77b4;\" x=\"124.70204\" xlink:href=\"#m64459fbcee\" y=\"51.869974\"/>\n     <use style=\"fill:#1f77b4;stroke:#1f77b4;\" x=\"129.583866\" xlink:href=\"#m64459fbcee\" y=\"55.89186\"/>\n    </g>\n   </g>\n   <g id=\"line2d_15\">\n    <defs>\n     <path d=\"M 0 3 \nC 0.795609 3 1.55874 2.683901 2.12132 2.12132 \nC 2.683901 1.55874 3 0.795609 3 0 \nC 3 -0.795609 2.683901 -1.55874 2.12132 -2.12132 \nC 1.55874 -2.683901 0.795609 -3 0 -3 \nC -0.795609 -3 -1.55874 -2.683901 -2.12132 -2.12132 \nC -2.683901 -1.55874 -3 -0.795609 -3 0 \nC -3 0.795609 -2.683901 1.55874 -2.12132 2.12132 \nC -1.55874 2.683901 -0.795609 3 0 3 \nz\n\" id=\"md13097c191\" style=\"stroke:#ff7f0e;\"/>\n    </defs>\n    <g clip-path=\"url(#p5044ff7292)\">\n     <use style=\"fill:#ff7f0e;stroke:#ff7f0e;\" x=\"129.583866\" xlink:href=\"#md13097c191\" y=\"55.89186\"/>\n     <use style=\"fill:#ff7f0e;stroke:#ff7f0e;\" x=\"150.366634\" xlink:href=\"#md13097c191\" y=\"59.913746\"/>\n     <use style=\"fill:#ff7f0e;stroke:#ff7f0e;\" x=\"199.883993\" xlink:href=\"#md13097c191\" y=\"82.03412\"/>\n     <use style=\"fill:#ff7f0e;stroke:#ff7f0e;\" x=\"242.893826\" xlink:href=\"#md13097c191\" y=\"104.154494\"/>\n     <use style=\"fill:#ff7f0e;stroke:#ff7f0e;\" x=\"276.14389\" xlink:href=\"#md13097c191\" y=\"124.263925\"/>\n     <use style=\"fill:#ff7f0e;stroke:#ff7f0e;\" x=\"299.454135\" xlink:href=\"#md13097c191\" y=\"148.395242\"/>\n     <use style=\"fill:#ff7f0e;stroke:#ff7f0e;\" x=\"321.498615\" xlink:href=\"#md13097c191\" y=\"170.515616\"/>\n     <use style=\"fill:#ff7f0e;stroke:#ff7f0e;\" x=\"349.684943\" xlink:href=\"#md13097c191\" y=\"214.756364\"/>\n    </g>\n   </g>\n   <g id=\"line2d_16\">\n    <path clip-path=\"url(#p5044ff7292)\" d=\"M 45.321307 18.090669 \nL 46.172444 17.949339 \nL 47.023581 17.818686 \nL 47.874718 17.69871 \nL 48.725855 17.589411 \nL 49.576992 17.490788 \nL 50.428129 17.402842 \nL 51.279266 17.325573 \nL 52.130403 17.25898 \nL 52.981539 17.203064 \nL 53.832676 17.157825 \nL 54.683813 17.123263 \nL 55.53495 17.099377 \nL 56.386087 17.086168 \nL 57.237224 17.083636 \nL 58.088361 17.091781 \nL 58.939498 17.110602 \nL 59.790635 17.1401 \nL 60.641772 17.180275 \nL 61.492909 17.231127 \nL 62.344046 17.292655 \nL 63.195183 17.36486 \nL 64.04632 17.447742 \nL 64.897457 17.5413 \nL 65.748594 17.645535 \nL 66.599731 17.760447 \nL 67.450868 17.886036 \nL 68.302005 18.022301 \nL 69.153142 18.169243 \nL 70.004279 18.326862 \nL 70.855416 18.495158 \nL 71.706553 18.67413 \nL 72.55769 18.863779 \nL 73.408827 19.064105 \nL 74.259964 19.275107 \nL 75.111101 19.496787 \nL 75.962238 19.729143 \nL 76.813374 19.972175 \nL 77.664511 20.225885 \nL 78.515648 20.490271 \nL 79.366785 20.765334 \nL 80.217922 21.051074 \nL 81.069059 21.34749 \nL 81.920196 21.654583 \nL 82.771333 21.972353 \nL 83.62247 22.300799 \nL 84.473607 22.639923 \nL 85.324744 22.989723 \nL 86.175881 23.350199 \nL 87.027018 23.721353 \nL 87.878155 24.103183 \nL 88.729292 24.49569 \nL 89.580429 24.898874 \nL 90.431566 25.312734 \nL 91.282703 25.737271 \nL 92.13384 26.172485 \nL 92.984977 26.618376 \nL 93.836114 27.074943 \nL 94.687251 27.542187 \nL 95.538388 28.020108 \nL 96.389525 28.508705 \nL 97.240662 29.00798 \nL 98.091799 29.517931 \nL 98.942936 30.038558 \nL 99.794073 30.569863 \nL 100.645209 31.111844 \nL 101.496346 31.664502 \nL 102.347483 32.227837 \nL 103.19862 32.801848 \nL 104.049757 33.386536 \nL 104.900894 33.981901 \nL 105.752031 34.587943 \nL 106.603168 35.204661 \nL 107.454305 35.832056 \nL 108.305442 36.470128 \nL 109.156579 37.118876 \nL 110.007716 37.778301 \nL 110.858853 38.448403 \nL 111.70999 39.129182 \nL 112.561127 39.820638 \nL 113.412264 40.52277 \nL 114.263401 41.235579 \nL 115.114538 41.959064 \nL 115.965675 42.693227 \nL 116.816812 43.438066 \nL 117.667949 44.193581 \nL 118.519086 44.959774 \nL 119.370223 45.736643 \nL 120.22136 46.524189 \nL 121.072497 47.322412 \nL 121.923634 48.131312 \nL 122.774771 48.950888 \nL 123.625908 49.781141 \nL 124.477044 50.62207 \nL 125.328181 51.473677 \nL 126.179318 52.33596 \nL 127.030455 53.20892 \nL 127.881592 54.092556 \nL 128.732729 54.98687 \nL 129.583866 55.89186 \n\" style=\"fill:none;stroke:#2ca02c;stroke-linecap:square;stroke-width:1.5;\"/>\n   </g>\n   <g id=\"line2d_17\">\n    <path clip-path=\"url(#p5044ff7292)\" d=\"M 129.583866 55.89186 \nL 131.807109 56.252252 \nL 134.030353 56.628715 \nL 136.253596 57.021521 \nL 138.476839 57.430939 \nL 140.700082 57.857241 \nL 142.923325 58.300698 \nL 145.146569 58.761581 \nL 147.369812 59.240161 \nL 149.593055 59.736708 \nL 151.816298 60.251495 \nL 154.039541 60.784791 \nL 156.262785 61.336869 \nL 158.486028 61.907998 \nL 160.709271 62.49845 \nL 162.932514 63.108496 \nL 165.155757 63.738407 \nL 167.379001 64.388454 \nL 169.602244 65.058907 \nL 171.825487 65.750039 \nL 174.04873 66.462119 \nL 176.271973 67.195419 \nL 178.495217 67.95021 \nL 180.71846 68.726762 \nL 182.941703 69.525348 \nL 185.164946 70.346237 \nL 187.388189 71.189701 \nL 189.611433 72.05601 \nL 191.834676 72.945437 \nL 194.057919 73.858251 \nL 196.281162 74.794724 \nL 198.504406 75.755126 \nL 200.727649 76.73973 \nL 202.950892 77.748805 \nL 205.174135 78.782623 \nL 207.397378 79.841454 \nL 209.620622 80.92557 \nL 211.843865 82.035242 \nL 214.067108 83.170741 \nL 216.290351 84.332337 \nL 218.513594 85.520302 \nL 220.736838 86.734906 \nL 222.960081 87.976421 \nL 225.183324 89.245118 \nL 227.406567 90.541268 \nL 229.62981 91.865141 \nL 231.853054 93.217008 \nL 234.076297 94.597141 \nL 236.29954 96.005811 \nL 238.522783 97.443289 \nL 240.746026 98.909845 \nL 242.96927 100.40575 \nL 245.192513 101.931276 \nL 247.415756 103.486694 \nL 249.638999 105.072274 \nL 251.862242 106.688288 \nL 254.085486 108.335007 \nL 256.308729 110.0127 \nL 258.531972 111.721641 \nL 260.755215 113.462099 \nL 262.978458 115.234345 \nL 265.201702 117.038651 \nL 267.424945 118.875287 \nL 269.648188 120.744525 \nL 271.871431 122.646635 \nL 274.094674 124.581889 \nL 276.317918 126.550557 \nL 278.541161 128.552911 \nL 280.764404 130.589221 \nL 282.987647 132.659759 \nL 285.21089 134.764795 \nL 287.434134 136.9046 \nL 289.657377 139.079446 \nL 291.88062 141.289603 \nL 294.103863 143.535342 \nL 296.327106 145.816935 \nL 298.55035 148.134653 \nL 300.773593 150.488765 \nL 302.996836 152.879544 \nL 305.220079 155.307261 \nL 307.443322 157.772185 \nL 309.666566 160.27459 \nL 311.889809 162.814744 \nL 314.113052 165.39292 \nL 316.336295 168.009388 \nL 318.559538 170.664419 \nL 320.782782 173.358285 \nL 323.006025 176.091256 \nL 325.229268 178.863603 \nL 327.452511 181.675597 \nL 329.675754 184.52751 \nL 331.898998 187.419612 \nL 334.122241 190.352174 \nL 336.345484 193.325468 \nL 338.568727 196.339763 \nL 340.79197 199.395332 \nL 343.015214 202.492445 \nL 345.238457 205.631374 \nL 347.4617 208.812388 \nL 349.684943 212.03576 \n\" style=\"fill:none;stroke:#d62728;stroke-linecap:square;stroke-width:1.5;\"/>\n   </g>\n   <g id=\"patch_3\">\n    <path d=\"M 30.103125 224.64 \nL 30.103125 7.2 \n\" style=\"fill:none;stroke:#000000;stroke-linecap:square;stroke-linejoin:miter;stroke-width:0.8;\"/>\n   </g>\n   <g id=\"patch_4\">\n    <path d=\"M 364.903125 224.64 \nL 364.903125 7.2 \n\" style=\"fill:none;stroke:#000000;stroke-linecap:square;stroke-linejoin:miter;stroke-width:0.8;\"/>\n   </g>\n   <g id=\"patch_5\">\n    <path d=\"M 30.103125 224.64 \nL 364.903125 224.64 \n\" style=\"fill:none;stroke:#000000;stroke-linecap:square;stroke-linejoin:miter;stroke-width:0.8;\"/>\n   </g>\n   <g id=\"patch_6\">\n    <path d=\"M 30.103125 7.2 \nL 364.903125 7.2 \n\" style=\"fill:none;stroke:#000000;stroke-linecap:square;stroke-linejoin:miter;stroke-width:0.8;\"/>\n   </g>\n  </g>\n </g>\n <defs>\n  <clipPath id=\"p5044ff7292\">\n   <rect height=\"217.44\" width=\"334.8\" x=\"30.103125\" y=\"7.2\"/>\n  </clipPath>\n </defs>\n</svg>\n"
          },
          "metadata": {
            "tags": [],
            "needs_background": "light"
          }
        }
      ]
    },
    {
      "cell_type": "code",
      "metadata": {
        "id": "xG8RLIQ4xQZj"
      },
      "source": [
        ""
      ],
      "execution_count": 6,
      "outputs": []
    }
  ]
}
