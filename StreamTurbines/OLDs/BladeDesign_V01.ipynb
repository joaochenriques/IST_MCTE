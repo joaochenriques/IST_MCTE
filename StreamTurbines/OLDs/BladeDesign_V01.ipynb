{
  "nbformat": 4,
  "nbformat_minor": 0,
  "metadata": {
    "colab": {
      "provenance": [],
      "authorship_tag": "ABX9TyOYtfGIfA9LYAeXLPOVs4Mc",
      "include_colab_link": true
    },
    "kernelspec": {
      "name": "python3",
      "display_name": "Python 3"
    },
    "language_info": {
      "name": "python"
    }
  },
  "cells": [
    {
      "cell_type": "markdown",
      "metadata": {
        "id": "view-in-github",
        "colab_type": "text"
      },
      "source": [
        "<a href=\"https://colab.research.google.com/github/joaochenriques/IST_MCTE/blob/main/StreamTurbines/BladeDesign_V01.ipynb\" target=\"_parent\"><img src=\"https://colab.research.google.com/assets/colab-badge.svg\" alt=\"Open In Colab\"/></a>"
      ]
    },
    {
      "cell_type": "code",
      "source": [
        "import pathlib, subprocess\n",
        "def cmdcall( cmd, verbose = False ):\n",
        "    output = subprocess.getoutput( cmd )\n",
        "    if verbose: print(output)\n",
        "\n",
        "if not pathlib.Path(\"mpl_utils.py\").exists():\n",
        "  cmdcall( \"curl -O https://raw.githubusercontent.com/joaochenriques/ipynb_libs/main/mpl_utils.py\" )\n",
        "\n",
        "import matplotlib.pyplot as mpl\n",
        "import mpl_utils as mut\n",
        "mut.config_plots()\n",
        "\n",
        "from matplotlib_inline.backend_inline import set_matplotlib_formats\n",
        "set_matplotlib_formats('svg')"
      ],
      "metadata": {
        "id": "wtGJYmn_U3Tv"
      },
      "execution_count": 1,
      "outputs": []
    },
    {
      "cell_type": "code",
      "source": [
        "import pandas as pd"
      ],
      "metadata": {
        "id": "nl-1NRCnaepl"
      },
      "execution_count": 2,
      "outputs": []
    },
    {
      "cell_type": "code",
      "source": [
        "import numpy as np\n",
        "from scipy.optimize import minimize\n",
        "\n",
        "def f_objective( X, x ):\n",
        "    a  = X[0]\n",
        "    ap = X[1]\n",
        "    fO = ( 1.0 - a ) * ap * x**3\n",
        "    return -fO\n",
        "\n",
        "def f_constraint( X, x ):\n",
        "    a  = X[0]\n",
        "    ap = X[1]\n",
        "    fC = ( 1.0 + ap ) * ap * x**2 - ( 1.0 - a ) * a\n",
        "    return fC\n",
        "\n",
        "x_vec = []\n",
        "a_vec = []\n",
        "ap_vec = []\n",
        "CP_vec = []\n",
        "ϕ_vec = []\n",
        "\n",
        "X0 = ( 0.2, 1 )\n",
        "\n",
        "Xset = np.concatenate( ( np.linspace( 0.25, 2.0, 8 ), np.linspace( 2.5, 6.0, 8 ), np.linspace( 7, 12,6 ) ) )\n",
        "\n",
        "for x in Xset:\n",
        "    f_objt = lambda X : f_objective( X, x )\n",
        "    f_cons = lambda X : f_constraint( X, x )\n",
        "\n",
        "    cons = [ { 'type': 'eq', 'fun': f_cons } ]\n",
        "    sol = minimize( f_objt, X0, method = 'SLSQP', constraints = cons )\n",
        "    X0 = sol.x\n",
        "    a  = sol.x[0]\n",
        "    ap = sol.x[1]\n",
        "    CP = (1-a)*ap*x**3\n",
        "\n",
        "    x_vec.append( x )\n",
        "    a_vec.append( a )\n",
        "    ap_vec.append( ap )\n",
        "    ϕ_vec.append( np.arctan( (1-a)/(1+ap)/x )*180/np.pi )\n",
        "    CP_vec.append( CP )\n",
        "\n",
        "mpl.plot( x_vec, a_vec, label = '$a$' )\n",
        "mpl.plot( x_vec, ap_vec, label = \"$a'$\" )\n",
        "mpl.xlabel( \"$\\lambda_r=\\\\Omega r/V_{1a}$\")\n",
        "mpl.ylabel( \"Induction factors\")\n",
        "mpl.legend()\n",
        "mpl.grid()\n",
        "mpl.savefig( \"InductionFactors.pdf\" )"
      ],
      "metadata": {
        "colab": {
          "base_uri": "https://localhost:8080/",
          "height": 447
        },
        "id": "K3DZZSNFT6us",
        "outputId": "18142f68-6262-4502-9afc-da88a0fda90a"
      },
      "execution_count": 3,
      "outputs": [
        {
          "output_type": "display_data",
          "data": {
            "text/plain": [
              "<Figure size 480x360 with 1 Axes>"
            ],
            "image/svg+xml": "<?xml version=\"1.0\" encoding=\"utf-8\" standalone=\"no\"?>\n<!DOCTYPE svg PUBLIC \"-//W3C//DTD SVG 1.1//EN\"\n  \"http://www.w3.org/Graphics/SVG/1.1/DTD/svg11.dtd\">\n<svg xmlns:xlink=\"http://www.w3.org/1999/xlink\" width=\"417.24pt\" height=\"319.68pt\" viewBox=\"0 0 417.24 319.68\" xmlns=\"http://www.w3.org/2000/svg\" version=\"1.1\">\n <metadata>\n  <rdf:RDF xmlns:dc=\"http://purl.org/dc/elements/1.1/\" xmlns:cc=\"http://creativecommons.org/ns#\" xmlns:rdf=\"http://www.w3.org/1999/02/22-rdf-syntax-ns#\">\n   <cc:Work>\n    <dc:type rdf:resource=\"http://purl.org/dc/dcmitype/StillImage\"/>\n    <dc:date>2024-04-30T13:27:18.587708</dc:date>\n    <dc:format>image/svg+xml</dc:format>\n    <dc:creator>\n     <cc:Agent>\n      <dc:title>Matplotlib v3.7.1, https://matplotlib.org/</dc:title>\n     </cc:Agent>\n    </dc:creator>\n   </cc:Work>\n  </rdf:RDF>\n </metadata>\n <defs>\n  <style type=\"text/css\">*{stroke-linejoin: round; stroke-linecap: butt}</style>\n </defs>\n <g id=\"figure_1\">\n  <g id=\"patch_1\">\n   <path d=\"M 0 319.68 \nL 417.24 319.68 \nL 417.24 0 \nL 0 0 \nz\n\" style=\"fill: #ffffff\"/>\n  </g>\n  <g id=\"axes_1\">\n   <g id=\"patch_2\">\n    <path d=\"M 48.6 276.12 \nL 402.84 276.12 \nL 402.84 13.68 \nL 48.6 13.68 \nz\n\" style=\"fill: #ffffff\"/>\n   </g>\n   <g id=\"line2d_1\">\n    <path d=\"M 55.98 223.734816 \nL 63.36 220.188593 \nL 70.74 218.031678 \nL 78.12 216.698456 \nL 85.5 215.853429 \nL 92.88 215.29835 \nL 100.26 214.92016 \nL 107.64 214.65358 \nL 122.4 214.31538 \nL 137.16 214.119024 \nL 151.92 213.995883 \nL 166.68 213.913933 \nL 181.44 213.859892 \nL 196.2 213.815423 \nL 210.96 213.909029 \nL 225.72 213.868997 \nL 255.24 213.671068 \nL 284.76 213.705987 \nL 314.28 213.788605 \nL 343.8 213.765582 \nL 373.32 213.743165 \nL 402.84 213.732898 \n\" clip-path=\"url(#pff156f4c3d)\" style=\"fill: none; stroke-dasharray: 6,0; stroke-dashoffset: 0; stroke: #1f77b4; stroke-width: 1.5\"/>\n   </g>\n   <g id=\"line2d_2\">\n    <path d=\"M 55.98 20.567345 \nL 63.36 174.372937 \nL 70.74 221.037547 \nL 78.12 241.812958 \nL 85.5 252.84061 \nL 92.88 259.357682 \nL 100.26 263.508909 \nL 107.64 266.30585 \nL 122.4 269.710716 \nL 137.16 271.617658 \nL 151.92 272.78852 \nL 166.68 273.557315 \nL 181.44 274.088597 \nL 196.2 274.470648 \nL 210.96 274.755872 \nL 225.72 274.972068 \nL 255.24 275.273923 \nL 284.76 275.471723 \nL 314.28 275.607751 \nL 343.8 275.704787 \nL 373.32 275.776655 \nL 402.84 275.831387 \n\" clip-path=\"url(#pff156f4c3d)\" style=\"fill: none; stroke-dasharray: 6,2; stroke-dashoffset: 0; stroke: #ff7f0e; stroke-width: 1.5\"/>\n   </g>\n   <g id=\"patch_3\">\n    <path d=\"M 48.6 276.12 \nL 48.6 13.68 \n\" style=\"fill: none; stroke: #000000; stroke-linejoin: miter; stroke-linecap: square\"/>\n   </g>\n   <g id=\"patch_4\">\n    <path d=\"M 402.84 276.12 \nL 402.84 13.68 \n\" style=\"fill: none; stroke: #000000; stroke-linejoin: miter; stroke-linecap: square\"/>\n   </g>\n   <g id=\"patch_5\">\n    <path d=\"M 48.6 276.12 \nL 402.84 276.12 \n\" style=\"fill: none; stroke: #000000; stroke-linejoin: miter; stroke-linecap: square\"/>\n   </g>\n   <g id=\"patch_6\">\n    <path d=\"M 48.6 13.68 \nL 402.84 13.68 \n\" style=\"fill: none; stroke: #000000; stroke-linejoin: miter; stroke-linecap: square\"/>\n   </g>\n   <g id=\"matplotlib.axis_1\">\n    <g id=\"xtick_1\">\n     <g id=\"line2d_3\">\n      <path d=\"M 48.6 276.12 \nL 48.6 13.68 \n\" clip-path=\"url(#pff156f4c3d)\" style=\"fill: none; stroke-dasharray: 1,3; stroke-dashoffset: 0; stroke: #000000; stroke-width: 0.5\"/>\n     </g>\n     <g id=\"line2d_4\">\n      <defs>\n       <path id=\"maf6b9c735e\" d=\"M 0 0 \nL 0 -4 \n\" style=\"stroke: #000000; stroke-width: 0.5\"/>\n      </defs>\n      <g>\n       <use xlink:href=\"#maf6b9c735e\" x=\"48.6\" y=\"276.12\" style=\"stroke: #000000; stroke-width: 0.5\"/>\n      </g>\n     </g>\n     <g id=\"line2d_5\">\n      <defs>\n       <path id=\"mba0db9e84c\" d=\"M 0 0 \nL 0 4 \n\" style=\"stroke: #000000; stroke-width: 0.5\"/>\n      </defs>\n      <g>\n       <use xlink:href=\"#mba0db9e84c\" x=\"48.6\" y=\"13.68\" style=\"stroke: #000000; stroke-width: 0.5\"/>\n      </g>\n     </g>\n     <g id=\"text_1\">\n      <!-- 0 -->\n      <g transform=\"translate(45 289.95475) scale(0.144 -0.144)\">\n       <defs>\n        <path id=\"STIXGeneral-Regular-30\" d=\"M 3046 2112 \nQ 3046 1683 2963 1302 \nQ 2880 922 2717 602 \nQ 2554 282 2266 96 \nQ 1978 -90 1600 -90 \nQ 1210 -90 915 108 \nQ 621 307 461 640 \nQ 301 973 227 1350 \nQ 154 1728 154 2150 \nQ 154 2746 301 3222 \nQ 448 3699 790 4012 \nQ 1133 4326 1626 4326 \nQ 2253 4326 2649 3712 \nQ 3046 3098 3046 2112 \nz\nM 2432 2080 \nQ 2432 3091 2217 3625 \nQ 2003 4160 1587 4160 \nQ 1190 4160 979 3622 \nQ 768 3085 768 2106 \nQ 768 1120 979 598 \nQ 1190 77 1600 77 \nQ 2003 77 2217 598 \nQ 2432 1120 2432 2080 \nz\n\" transform=\"scale(0.015625)\"/>\n       </defs>\n       <use xlink:href=\"#STIXGeneral-Regular-30\"/>\n      </g>\n     </g>\n    </g>\n    <g id=\"xtick_2\">\n     <g id=\"line2d_6\">\n      <path d=\"M 107.64 276.12 \nL 107.64 13.68 \n\" clip-path=\"url(#pff156f4c3d)\" style=\"fill: none; stroke-dasharray: 1,3; stroke-dashoffset: 0; stroke: #000000; stroke-width: 0.5\"/>\n     </g>\n     <g id=\"line2d_7\">\n      <g>\n       <use xlink:href=\"#maf6b9c735e\" x=\"107.64\" y=\"276.12\" style=\"stroke: #000000; stroke-width: 0.5\"/>\n      </g>\n     </g>\n     <g id=\"line2d_8\">\n      <g>\n       <use xlink:href=\"#mba0db9e84c\" x=\"107.64\" y=\"13.68\" style=\"stroke: #000000; stroke-width: 0.5\"/>\n      </g>\n     </g>\n     <g id=\"text_2\">\n      <!-- 2 -->\n      <g transform=\"translate(104.04 289.95475) scale(0.144 -0.144)\">\n       <defs>\n        <path id=\"STIXGeneral-Regular-32\" d=\"M 3034 877 \nL 2688 0 \nL 186 0 \nL 186 77 \nL 1325 1286 \nQ 1773 1754 1965 2144 \nQ 2157 2534 2157 2950 \nQ 2157 3379 1920 3616 \nQ 1683 3853 1267 3853 \nQ 922 3853 720 3673 \nQ 518 3494 326 3021 \nL 192 3053 \nQ 301 3648 630 3987 \nQ 960 4326 1523 4326 \nQ 2054 4326 2380 4006 \nQ 2707 3686 2707 3200 \nQ 2707 2477 1888 1613 \nL 832 486 \nL 2330 486 \nQ 2541 486 2665 569 \nQ 2790 653 2944 915 \nL 3034 877 \nz\n\" transform=\"scale(0.015625)\"/>\n       </defs>\n       <use xlink:href=\"#STIXGeneral-Regular-32\"/>\n      </g>\n     </g>\n    </g>\n    <g id=\"xtick_3\">\n     <g id=\"line2d_9\">\n      <path d=\"M 166.68 276.12 \nL 166.68 13.68 \n\" clip-path=\"url(#pff156f4c3d)\" style=\"fill: none; stroke-dasharray: 1,3; stroke-dashoffset: 0; stroke: #000000; stroke-width: 0.5\"/>\n     </g>\n     <g id=\"line2d_10\">\n      <g>\n       <use xlink:href=\"#maf6b9c735e\" x=\"166.68\" y=\"276.12\" style=\"stroke: #000000; stroke-width: 0.5\"/>\n      </g>\n     </g>\n     <g id=\"line2d_11\">\n      <g>\n       <use xlink:href=\"#mba0db9e84c\" x=\"166.68\" y=\"13.68\" style=\"stroke: #000000; stroke-width: 0.5\"/>\n      </g>\n     </g>\n     <g id=\"text_3\">\n      <!-- 4 -->\n      <g transform=\"translate(163.08 289.95475) scale(0.144 -0.144)\">\n       <defs>\n        <path id=\"STIXGeneral-Regular-34\" d=\"M 3027 1069 \nL 2368 1069 \nL 2368 0 \nL 1869 0 \nL 1869 1069 \nL 77 1069 \nL 77 1478 \nL 2086 4326 \nL 2368 4326 \nL 2368 1478 \nL 3027 1478 \nL 3027 1069 \nz\nM 1869 1478 \nL 1869 3674 \nL 333 1478 \nL 1869 1478 \nz\n\" transform=\"scale(0.015625)\"/>\n       </defs>\n       <use xlink:href=\"#STIXGeneral-Regular-34\"/>\n      </g>\n     </g>\n    </g>\n    <g id=\"xtick_4\">\n     <g id=\"line2d_12\">\n      <path d=\"M 225.72 276.12 \nL 225.72 13.68 \n\" clip-path=\"url(#pff156f4c3d)\" style=\"fill: none; stroke-dasharray: 1,3; stroke-dashoffset: 0; stroke: #000000; stroke-width: 0.5\"/>\n     </g>\n     <g id=\"line2d_13\">\n      <g>\n       <use xlink:href=\"#maf6b9c735e\" x=\"225.72\" y=\"276.12\" style=\"stroke: #000000; stroke-width: 0.5\"/>\n      </g>\n     </g>\n     <g id=\"line2d_14\">\n      <g>\n       <use xlink:href=\"#mba0db9e84c\" x=\"225.72\" y=\"13.68\" style=\"stroke: #000000; stroke-width: 0.5\"/>\n      </g>\n     </g>\n     <g id=\"text_4\">\n      <!-- 6 -->\n      <g transform=\"translate(222.12 289.95475) scale(0.144 -0.144)\">\n       <defs>\n        <path id=\"STIXGeneral-Regular-36\" d=\"M 2854 4378 \nL 2867 4275 \nQ 2112 4154 1606 3664 \nQ 1101 3174 973 2451 \nQ 1344 2739 1786 2739 \nQ 2349 2739 2672 2380 \nQ 2995 2022 2995 1402 \nQ 2995 774 2669 378 \nQ 2291 -90 1651 -90 \nQ 870 -90 518 557 \nQ 218 1107 218 1786 \nQ 218 2835 915 3552 \nQ 1312 3962 1731 4131 \nQ 2150 4301 2854 4378 \nz\nM 2419 1203 \nQ 2419 2445 1555 2445 \nQ 1235 2445 1024 2275 \nQ 813 2106 813 1702 \nQ 813 954 1046 522 \nQ 1280 90 1722 90 \nQ 2061 90 2240 394 \nQ 2419 698 2419 1203 \nz\n\" transform=\"scale(0.015625)\"/>\n       </defs>\n       <use xlink:href=\"#STIXGeneral-Regular-36\"/>\n      </g>\n     </g>\n    </g>\n    <g id=\"xtick_5\">\n     <g id=\"line2d_15\">\n      <path d=\"M 284.76 276.12 \nL 284.76 13.68 \n\" clip-path=\"url(#pff156f4c3d)\" style=\"fill: none; stroke-dasharray: 1,3; stroke-dashoffset: 0; stroke: #000000; stroke-width: 0.5\"/>\n     </g>\n     <g id=\"line2d_16\">\n      <g>\n       <use xlink:href=\"#maf6b9c735e\" x=\"284.76\" y=\"276.12\" style=\"stroke: #000000; stroke-width: 0.5\"/>\n      </g>\n     </g>\n     <g id=\"line2d_17\">\n      <g>\n       <use xlink:href=\"#mba0db9e84c\" x=\"284.76\" y=\"13.68\" style=\"stroke: #000000; stroke-width: 0.5\"/>\n      </g>\n     </g>\n     <g id=\"text_5\">\n      <!-- 8 -->\n      <g transform=\"translate(281.16 289.95475) scale(0.144 -0.144)\">\n       <defs>\n        <path id=\"STIXGeneral-Regular-38\" d=\"M 2848 992 \nQ 2848 499 2505 204 \nQ 2163 -90 1587 -90 \nQ 1050 -90 704 204 \nQ 358 499 358 954 \nQ 358 1293 524 1533 \nQ 691 1773 1190 2125 \nQ 710 2522 553 2765 \nQ 397 3008 397 3328 \nQ 397 3782 745 4054 \nQ 1094 4326 1638 4326 \nQ 2106 4326 2410 4060 \nQ 2714 3795 2714 3411 \nQ 2714 3059 2531 2848 \nQ 2349 2637 1856 2374 \nQ 2432 1990 2640 1689 \nQ 2848 1389 2848 992 \nz\nM 2272 3411 \nQ 2272 3744 2086 3945 \nQ 1901 4147 1574 4147 \nQ 1248 4147 1059 3977 \nQ 870 3808 870 3513 \nQ 870 3219 1059 2979 \nQ 1248 2739 1670 2490 \nQ 1997 2682 2134 2896 \nQ 2272 3110 2272 3411 \nz\nM 1734 1741 \nL 1357 1997 \nQ 1075 1766 960 1545 \nQ 845 1325 845 1011 \nQ 845 576 1065 333 \nQ 1286 90 1658 90 \nQ 1971 90 2166 285 \nQ 2362 480 2362 794 \nQ 2362 1082 2214 1299 \nQ 2067 1517 1734 1741 \nz\n\" transform=\"scale(0.015625)\"/>\n       </defs>\n       <use xlink:href=\"#STIXGeneral-Regular-38\"/>\n      </g>\n     </g>\n    </g>\n    <g id=\"xtick_6\">\n     <g id=\"line2d_18\">\n      <path d=\"M 343.8 276.12 \nL 343.8 13.68 \n\" clip-path=\"url(#pff156f4c3d)\" style=\"fill: none; stroke-dasharray: 1,3; stroke-dashoffset: 0; stroke: #000000; stroke-width: 0.5\"/>\n     </g>\n     <g id=\"line2d_19\">\n      <g>\n       <use xlink:href=\"#maf6b9c735e\" x=\"343.8\" y=\"276.12\" style=\"stroke: #000000; stroke-width: 0.5\"/>\n      </g>\n     </g>\n     <g id=\"line2d_20\">\n      <g>\n       <use xlink:href=\"#mba0db9e84c\" x=\"343.8\" y=\"13.68\" style=\"stroke: #000000; stroke-width: 0.5\"/>\n      </g>\n     </g>\n     <g id=\"text_6\">\n      <!-- 10 -->\n      <g transform=\"translate(336.6 289.95475) scale(0.144 -0.144)\">\n       <defs>\n        <path id=\"STIXGeneral-Regular-31\" d=\"M 2522 0 \nL 755 0 \nL 755 96 \nQ 1107 115 1235 227 \nQ 1363 339 1363 608 \nL 1363 3482 \nQ 1363 3795 1171 3795 \nQ 1082 3795 883 3718 \nL 710 3654 \nL 710 3744 \nL 1856 4326 \nL 1914 4307 \nL 1914 486 \nQ 1914 275 2042 185 \nQ 2170 96 2522 96 \nL 2522 0 \nz\n\" transform=\"scale(0.015625)\"/>\n       </defs>\n       <use xlink:href=\"#STIXGeneral-Regular-31\"/>\n       <use xlink:href=\"#STIXGeneral-Regular-30\" x=\"49.999985\"/>\n      </g>\n     </g>\n    </g>\n    <g id=\"xtick_7\">\n     <g id=\"line2d_21\">\n      <path d=\"M 402.84 276.12 \nL 402.84 13.68 \n\" clip-path=\"url(#pff156f4c3d)\" style=\"fill: none; stroke-dasharray: 1,3; stroke-dashoffset: 0; stroke: #000000; stroke-width: 0.5\"/>\n     </g>\n     <g id=\"line2d_22\">\n      <g>\n       <use xlink:href=\"#maf6b9c735e\" x=\"402.84\" y=\"276.12\" style=\"stroke: #000000; stroke-width: 0.5\"/>\n      </g>\n     </g>\n     <g id=\"line2d_23\">\n      <g>\n       <use xlink:href=\"#mba0db9e84c\" x=\"402.84\" y=\"13.68\" style=\"stroke: #000000; stroke-width: 0.5\"/>\n      </g>\n     </g>\n     <g id=\"text_7\">\n      <!-- 12 -->\n      <g transform=\"translate(395.64 289.95475) scale(0.144 -0.144)\">\n       <use xlink:href=\"#STIXGeneral-Regular-31\"/>\n       <use xlink:href=\"#STIXGeneral-Regular-32\" x=\"49.999985\"/>\n      </g>\n     </g>\n    </g>\n    <g id=\"text_8\">\n     <!-- $\\lambda_r=\\Omega r/V_{1a}$ -->\n     <g transform=\"translate(189.56 309.0075) scale(0.16 -0.16)\">\n      <defs>\n       <path id=\"STIXGeneral-Italic-3bb\" d=\"M 2656 787 \nL 2758 787 \nQ 2560 -102 2112 -102 \nQ 1965 -102 1869 48 \nQ 1773 198 1773 499 \nQ 1773 672 1789 889 \nQ 1805 1107 1833 1446 \nQ 1862 1786 1875 2016 \nL 538 0 \nL -77 0 \nL 1907 2739 \nQ 1933 2970 1933 3245 \nQ 1933 3936 1619 3936 \nQ 1530 3936 1408 3821 \nQ 1286 3706 1203 3462 \nL 1101 3462 \nQ 1312 4339 1747 4339 \nQ 1926 4339 2041 4115 \nQ 2157 3891 2157 3475 \nQ 2157 3040 2093 2192 \nQ 2029 1344 2029 941 \nQ 2029 602 2089 451 \nQ 2150 301 2291 301 \nQ 2483 301 2656 787 \nz\n\" transform=\"scale(0.015625)\"/>\n       <path id=\"STIXGeneral-Italic-72\" d=\"M 1126 1427 \nL 1229 1651 \nQ 1446 2131 1830 2534 \nQ 2106 2822 2336 2822 \nQ 2470 2822 2553 2732 \nQ 2637 2643 2637 2496 \nQ 2637 2349 2557 2249 \nQ 2477 2150 2336 2150 \nQ 2214 2150 2112 2317 \nQ 2061 2406 2010 2406 \nQ 1837 2406 1485 1805 \nQ 1267 1434 1136 1104 \nQ 1005 774 774 0 \nL 288 0 \nL 806 1869 \nQ 909 2246 909 2394 \nQ 909 2560 666 2560 \nQ 614 2560 467 2541 \nL 467 2650 \nL 1459 2822 \nL 1478 2810 \nL 1126 1427 \nz\n\" transform=\"scale(0.015625)\"/>\n       <path id=\"STIXGeneral-Regular-3d\" d=\"M 4077 2048 \nL 307 2048 \nL 307 2470 \nL 4077 2470 \nL 4077 2048 \nz\nM 4077 768 \nL 307 768 \nL 307 1190 \nL 4077 1190 \nL 4077 768 \nz\n\" transform=\"scale(0.015625)\"/>\n       <path id=\"STIXGeneral-Regular-3a9\" d=\"M 4576 0 \nL 2746 0 \nL 2790 1030 \nQ 3187 1126 3440 1574 \nQ 3693 2022 3693 2554 \nQ 3693 3251 3344 3673 \nQ 2995 4096 2380 4096 \nQ 1766 4096 1417 3635 \nQ 1069 3174 1069 2554 \nQ 1069 2054 1315 1600 \nQ 1562 1146 1965 1030 \nL 2022 0 \nL 186 0 \nL 186 1094 \nL 346 1094 \nQ 352 806 438 707 \nQ 525 608 742 608 \nL 1709 608 \nL 1696 845 \nQ 1018 1037 678 1446 \nQ 339 1856 339 2541 \nQ 339 3238 899 3782 \nQ 1459 4326 2380 4326 \nQ 3302 4326 3862 3804 \nQ 4422 3283 4422 2541 \nQ 4422 1235 3046 845 \nL 3034 608 \nL 4019 608 \nQ 4397 608 4416 1082 \nL 4576 1082 \nL 4576 0 \nz\n\" transform=\"scale(0.015625)\"/>\n       <path id=\"STIXGeneral-Regular-2f\" d=\"M 1837 4326 \nL 378 -90 \nL -58 -90 \nL 1408 4326 \nL 1837 4326 \nz\n\" transform=\"scale(0.015625)\"/>\n       <path id=\"STIXGeneral-Italic-56\" d=\"M 4403 4179 \nL 4403 4077 \nQ 4198 4070 4045 3821 \nL 1658 -115 \nL 1536 -115 \nL 1011 3104 \nQ 902 3776 828 3910 \nQ 755 4045 486 4077 \nL 486 4179 \nL 2022 4179 \nL 2022 4077 \nQ 1722 4045 1629 3981 \nQ 1536 3917 1536 3750 \nQ 1536 3686 1542 3654 \nL 1958 819 \nL 3302 3123 \nQ 3616 3661 3616 3859 \nQ 3616 4032 3219 4077 \nL 3219 4179 \nL 4403 4179 \nz\n\" transform=\"scale(0.015625)\"/>\n       <path id=\"STIXGeneral-Italic-61\" d=\"M 2963 710 \nL 3046 640 \nQ 2688 205 2518 70 \nQ 2349 -64 2157 -64 \nQ 1901 -64 1901 198 \nQ 1901 358 2048 934 \nQ 1690 397 1389 163 \nQ 1088 -70 749 -70 \nQ 467 -70 288 125 \nQ 109 320 109 672 \nQ 109 1158 387 1664 \nQ 666 2170 1094 2496 \nQ 1523 2822 1939 2822 \nQ 2368 2822 2451 2451 \nL 2522 2758 \nL 2541 2778 \nL 2931 2822 \nL 2976 2803 \nQ 2970 2778 2938 2669 \nQ 2368 595 2368 346 \nQ 2368 262 2458 262 \nQ 2554 262 2790 525 \nL 2963 710 \nz\nM 2336 2310 \nQ 2336 2477 2240 2579 \nQ 2144 2682 1978 2682 \nQ 1542 2682 1139 2093 \nQ 928 1779 787 1395 \nQ 646 1011 646 717 \nQ 646 243 1030 243 \nQ 1408 243 1843 870 \nQ 2336 1581 2336 2310 \nz\n\" transform=\"scale(0.015625)\"/>\n      </defs>\n      <use xlink:href=\"#STIXGeneral-Italic-3bb\" transform=\"translate(0 0.203125)\"/>\n      <use xlink:href=\"#STIXGeneral-Italic-72\" transform=\"translate(45.799988 -13.025) scale(0.7)\"/>\n      <use xlink:href=\"#STIXGeneral-Regular-3d\" transform=\"translate(91.879355 0.203125)\"/>\n      <use xlink:href=\"#STIXGeneral-Regular-3a9\" transform=\"translate(174.819336 0.203125)\"/>\n      <use xlink:href=\"#STIXGeneral-Italic-72\" transform=\"translate(249.21933 0.203125)\"/>\n      <use xlink:href=\"#STIXGeneral-Regular-2f\" transform=\"translate(288.119324 0.203125)\"/>\n      <use xlink:href=\"#STIXGeneral-Italic-56\" transform=\"translate(315.919312 0.203125)\"/>\n      <use xlink:href=\"#STIXGeneral-Regular-31\" transform=\"translate(377.019302 -13.025) scale(0.7)\"/>\n      <use xlink:href=\"#STIXGeneral-Italic-61\" transform=\"translate(412.019292 -13.025) scale(0.7)\"/>\n     </g>\n    </g>\n   </g>\n   <g id=\"matplotlib.axis_2\">\n    <g id=\"ytick_1\">\n     <g id=\"line2d_24\">\n      <path d=\"M 48.6 276.12 \nL 402.84 276.12 \n\" clip-path=\"url(#pff156f4c3d)\" style=\"fill: none; stroke-dasharray: 1,3; stroke-dashoffset: 0; stroke: #000000; stroke-width: 0.5\"/>\n     </g>\n     <g id=\"line2d_25\">\n      <defs>\n       <path id=\"mdb7f6a7a6f\" d=\"M 0 0 \nL 4 0 \n\" style=\"stroke: #000000; stroke-width: 0.5\"/>\n      </defs>\n      <g>\n       <use xlink:href=\"#mdb7f6a7a6f\" x=\"48.6\" y=\"276.12\" style=\"stroke: #000000; stroke-width: 0.5\"/>\n      </g>\n     </g>\n     <g id=\"line2d_26\">\n      <defs>\n       <path id=\"mee10fc06bd\" d=\"M 0 0 \nL -4 0 \n\" style=\"stroke: #000000; stroke-width: 0.5\"/>\n      </defs>\n      <g>\n       <use xlink:href=\"#mee10fc06bd\" x=\"402.84\" y=\"276.12\" style=\"stroke: #000000; stroke-width: 0.5\"/>\n      </g>\n     </g>\n     <g id=\"text_9\">\n      <!-- 0.0 -->\n      <g transform=\"translate(26.6 279.47475) scale(0.144 -0.144)\">\n       <defs>\n        <path id=\"STIXGeneral-Regular-2e\" d=\"M 1158 275 \nQ 1158 134 1052 32 \nQ 947 -70 800 -70 \nQ 653 -70 550 32 \nQ 448 134 448 281 \nQ 448 429 553 534 \nQ 659 640 806 640 \nQ 947 640 1052 531 \nQ 1158 422 1158 275 \nz\n\" transform=\"scale(0.015625)\"/>\n       </defs>\n       <use xlink:href=\"#STIXGeneral-Regular-30\"/>\n       <use xlink:href=\"#STIXGeneral-Regular-2e\" x=\"49.999985\"/>\n       <use xlink:href=\"#STIXGeneral-Regular-30\" x=\"74.999969\"/>\n      </g>\n     </g>\n    </g>\n    <g id=\"ytick_2\">\n     <g id=\"line2d_27\">\n      <path d=\"M 48.6 238.628571 \nL 402.84 238.628571 \n\" clip-path=\"url(#pff156f4c3d)\" style=\"fill: none; stroke-dasharray: 1,3; stroke-dashoffset: 0; stroke: #000000; stroke-width: 0.5\"/>\n     </g>\n     <g id=\"line2d_28\">\n      <g>\n       <use xlink:href=\"#mdb7f6a7a6f\" x=\"48.6\" y=\"238.628571\" style=\"stroke: #000000; stroke-width: 0.5\"/>\n      </g>\n     </g>\n     <g id=\"line2d_29\">\n      <g>\n       <use xlink:href=\"#mee10fc06bd\" x=\"402.84\" y=\"238.628571\" style=\"stroke: #000000; stroke-width: 0.5\"/>\n      </g>\n     </g>\n     <g id=\"text_10\">\n      <!-- 0.2 -->\n      <g transform=\"translate(26.6 241.983321) scale(0.144 -0.144)\">\n       <use xlink:href=\"#STIXGeneral-Regular-30\"/>\n       <use xlink:href=\"#STIXGeneral-Regular-2e\" x=\"49.999985\"/>\n       <use xlink:href=\"#STIXGeneral-Regular-32\" x=\"74.999969\"/>\n      </g>\n     </g>\n    </g>\n    <g id=\"ytick_3\">\n     <g id=\"line2d_30\">\n      <path d=\"M 48.6 201.137143 \nL 402.84 201.137143 \n\" clip-path=\"url(#pff156f4c3d)\" style=\"fill: none; stroke-dasharray: 1,3; stroke-dashoffset: 0; stroke: #000000; stroke-width: 0.5\"/>\n     </g>\n     <g id=\"line2d_31\">\n      <g>\n       <use xlink:href=\"#mdb7f6a7a6f\" x=\"48.6\" y=\"201.137143\" style=\"stroke: #000000; stroke-width: 0.5\"/>\n      </g>\n     </g>\n     <g id=\"line2d_32\">\n      <g>\n       <use xlink:href=\"#mee10fc06bd\" x=\"402.84\" y=\"201.137143\" style=\"stroke: #000000; stroke-width: 0.5\"/>\n      </g>\n     </g>\n     <g id=\"text_11\">\n      <!-- 0.4 -->\n      <g transform=\"translate(26.6 204.491893) scale(0.144 -0.144)\">\n       <use xlink:href=\"#STIXGeneral-Regular-30\"/>\n       <use xlink:href=\"#STIXGeneral-Regular-2e\" x=\"49.999985\"/>\n       <use xlink:href=\"#STIXGeneral-Regular-34\" x=\"74.999969\"/>\n      </g>\n     </g>\n    </g>\n    <g id=\"ytick_4\">\n     <g id=\"line2d_33\">\n      <path d=\"M 48.6 163.645714 \nL 402.84 163.645714 \n\" clip-path=\"url(#pff156f4c3d)\" style=\"fill: none; stroke-dasharray: 1,3; stroke-dashoffset: 0; stroke: #000000; stroke-width: 0.5\"/>\n     </g>\n     <g id=\"line2d_34\">\n      <g>\n       <use xlink:href=\"#mdb7f6a7a6f\" x=\"48.6\" y=\"163.645714\" style=\"stroke: #000000; stroke-width: 0.5\"/>\n      </g>\n     </g>\n     <g id=\"line2d_35\">\n      <g>\n       <use xlink:href=\"#mee10fc06bd\" x=\"402.84\" y=\"163.645714\" style=\"stroke: #000000; stroke-width: 0.5\"/>\n      </g>\n     </g>\n     <g id=\"text_12\">\n      <!-- 0.6 -->\n      <g transform=\"translate(26.6 167.000464) scale(0.144 -0.144)\">\n       <use xlink:href=\"#STIXGeneral-Regular-30\"/>\n       <use xlink:href=\"#STIXGeneral-Regular-2e\" x=\"49.999985\"/>\n       <use xlink:href=\"#STIXGeneral-Regular-36\" x=\"74.999969\"/>\n      </g>\n     </g>\n    </g>\n    <g id=\"ytick_5\">\n     <g id=\"line2d_36\">\n      <path d=\"M 48.6 126.154286 \nL 402.84 126.154286 \n\" clip-path=\"url(#pff156f4c3d)\" style=\"fill: none; stroke-dasharray: 1,3; stroke-dashoffset: 0; stroke: #000000; stroke-width: 0.5\"/>\n     </g>\n     <g id=\"line2d_37\">\n      <g>\n       <use xlink:href=\"#mdb7f6a7a6f\" x=\"48.6\" y=\"126.154286\" style=\"stroke: #000000; stroke-width: 0.5\"/>\n      </g>\n     </g>\n     <g id=\"line2d_38\">\n      <g>\n       <use xlink:href=\"#mee10fc06bd\" x=\"402.84\" y=\"126.154286\" style=\"stroke: #000000; stroke-width: 0.5\"/>\n      </g>\n     </g>\n     <g id=\"text_13\">\n      <!-- 0.8 -->\n      <g transform=\"translate(26.6 129.509036) scale(0.144 -0.144)\">\n       <use xlink:href=\"#STIXGeneral-Regular-30\"/>\n       <use xlink:href=\"#STIXGeneral-Regular-2e\" x=\"49.999985\"/>\n       <use xlink:href=\"#STIXGeneral-Regular-38\" x=\"74.999969\"/>\n      </g>\n     </g>\n    </g>\n    <g id=\"ytick_6\">\n     <g id=\"line2d_39\">\n      <path d=\"M 48.6 88.662857 \nL 402.84 88.662857 \n\" clip-path=\"url(#pff156f4c3d)\" style=\"fill: none; stroke-dasharray: 1,3; stroke-dashoffset: 0; stroke: #000000; stroke-width: 0.5\"/>\n     </g>\n     <g id=\"line2d_40\">\n      <g>\n       <use xlink:href=\"#mdb7f6a7a6f\" x=\"48.6\" y=\"88.662857\" style=\"stroke: #000000; stroke-width: 0.5\"/>\n      </g>\n     </g>\n     <g id=\"line2d_41\">\n      <g>\n       <use xlink:href=\"#mee10fc06bd\" x=\"402.84\" y=\"88.662857\" style=\"stroke: #000000; stroke-width: 0.5\"/>\n      </g>\n     </g>\n     <g id=\"text_14\">\n      <!-- 1.0 -->\n      <g transform=\"translate(26.6 92.017607) scale(0.144 -0.144)\">\n       <use xlink:href=\"#STIXGeneral-Regular-31\"/>\n       <use xlink:href=\"#STIXGeneral-Regular-2e\" x=\"49.999985\"/>\n       <use xlink:href=\"#STIXGeneral-Regular-30\" x=\"74.999969\"/>\n      </g>\n     </g>\n    </g>\n    <g id=\"ytick_7\">\n     <g id=\"line2d_42\">\n      <path d=\"M 48.6 51.171429 \nL 402.84 51.171429 \n\" clip-path=\"url(#pff156f4c3d)\" style=\"fill: none; stroke-dasharray: 1,3; stroke-dashoffset: 0; stroke: #000000; stroke-width: 0.5\"/>\n     </g>\n     <g id=\"line2d_43\">\n      <g>\n       <use xlink:href=\"#mdb7f6a7a6f\" x=\"48.6\" y=\"51.171429\" style=\"stroke: #000000; stroke-width: 0.5\"/>\n      </g>\n     </g>\n     <g id=\"line2d_44\">\n      <g>\n       <use xlink:href=\"#mee10fc06bd\" x=\"402.84\" y=\"51.171429\" style=\"stroke: #000000; stroke-width: 0.5\"/>\n      </g>\n     </g>\n     <g id=\"text_15\">\n      <!-- 1.2 -->\n      <g transform=\"translate(26.6 54.526179) scale(0.144 -0.144)\">\n       <use xlink:href=\"#STIXGeneral-Regular-31\"/>\n       <use xlink:href=\"#STIXGeneral-Regular-2e\" x=\"49.999985\"/>\n       <use xlink:href=\"#STIXGeneral-Regular-32\" x=\"74.999969\"/>\n      </g>\n     </g>\n    </g>\n    <g id=\"ytick_8\">\n     <g id=\"line2d_45\">\n      <path d=\"M 48.6 13.68 \nL 402.84 13.68 \n\" clip-path=\"url(#pff156f4c3d)\" style=\"fill: none; stroke-dasharray: 1,3; stroke-dashoffset: 0; stroke: #000000; stroke-width: 0.5\"/>\n     </g>\n     <g id=\"line2d_46\">\n      <g>\n       <use xlink:href=\"#mdb7f6a7a6f\" x=\"48.6\" y=\"13.68\" style=\"stroke: #000000; stroke-width: 0.5\"/>\n      </g>\n     </g>\n     <g id=\"line2d_47\">\n      <g>\n       <use xlink:href=\"#mee10fc06bd\" x=\"402.84\" y=\"13.68\" style=\"stroke: #000000; stroke-width: 0.5\"/>\n      </g>\n     </g>\n     <g id=\"text_16\">\n      <!-- 1.4 -->\n      <g transform=\"translate(26.6 17.03475) scale(0.144 -0.144)\">\n       <use xlink:href=\"#STIXGeneral-Regular-31\"/>\n       <use xlink:href=\"#STIXGeneral-Regular-2e\" x=\"49.999985\"/>\n       <use xlink:href=\"#STIXGeneral-Regular-34\" x=\"74.999969\"/>\n      </g>\n     </g>\n    </g>\n    <g id=\"text_17\">\n     <!-- Induction factors -->\n     <g transform=\"translate(18.1275 199.3325) rotate(-90) scale(0.16 -0.16)\">\n      <defs>\n       <path id=\"STIXGeneral-Regular-49\" d=\"M 2016 0 \nL 115 0 \nL 115 122 \nQ 518 134 627 240 \nQ 736 346 736 717 \nL 736 3526 \nQ 736 3898 633 3994 \nQ 531 4090 115 4115 \nL 115 4237 \nL 2016 4237 \nL 2016 4115 \nQ 1613 4096 1501 3993 \nQ 1389 3891 1389 3526 \nL 1389 717 \nQ 1389 358 1504 246 \nQ 1619 134 2016 122 \nL 2016 0 \nz\n\" transform=\"scale(0.015625)\"/>\n       <path id=\"STIXGeneral-Regular-6e\" d=\"M 3104 0 \nL 1773 0 \nL 1779 96 \nQ 2016 115 2096 233 \nQ 2176 352 2176 672 \nL 2176 1946 \nQ 2176 2592 1709 2592 \nQ 1549 2592 1408 2515 \nQ 1267 2438 1050 2227 \nL 1050 461 \nQ 1050 269 1136 192 \nQ 1222 115 1466 96 \nL 1466 0 \nL 115 0 \nL 115 96 \nQ 358 115 435 214 \nQ 512 314 512 602 \nL 512 2157 \nQ 512 2394 467 2483 \nQ 422 2573 288 2573 \nQ 160 2573 102 2547 \nL 102 2656 \nQ 550 2784 979 2944 \nL 1030 2925 \nL 1030 2426 \nL 1037 2426 \nQ 1491 2944 1958 2944 \nQ 2323 2944 2518 2688 \nQ 2714 2432 2714 1958 \nL 2714 544 \nQ 2714 288 2790 205 \nQ 2867 122 3104 96 \nL 3104 0 \nz\n\" transform=\"scale(0.015625)\"/>\n       <path id=\"STIXGeneral-Regular-64\" d=\"M 3142 269 \nL 2202 -64 \nL 2176 -45 \nL 2176 365 \nQ 1869 -64 1357 -64 \nQ 826 -64 499 317 \nQ 173 698 173 1312 \nQ 173 1990 563 2467 \nQ 954 2944 1504 2944 \nQ 1850 2944 2176 2669 \nL 2176 3667 \nQ 2176 3866 2118 3930 \nQ 2061 3994 1882 3994 \nQ 1792 3994 1741 3987 \nL 1741 4090 \nQ 2323 4243 2682 4371 \nL 2714 4358 \nL 2714 730 \nQ 2714 506 2768 435 \nQ 2822 365 2995 365 \nQ 3034 365 3142 371 \nL 3142 269 \nz\nM 2176 653 \nL 2176 2125 \nQ 2176 2381 1981 2573 \nQ 1786 2765 1523 2765 \nQ 1158 2765 940 2438 \nQ 723 2112 723 1568 \nQ 723 979 963 624 \nQ 1203 269 1606 269 \nQ 1907 269 2080 474 \nQ 2176 582 2176 653 \nz\n\" transform=\"scale(0.015625)\"/>\n       <path id=\"STIXGeneral-Regular-75\" d=\"M 3072 320 \nL 3072 230 \nQ 2573 96 2195 -58 \nL 2163 -38 \nL 2163 486 \nL 2150 486 \nQ 1747 -64 1235 -64 \nQ 870 -64 662 160 \nQ 454 384 454 755 \nL 454 2362 \nQ 454 2598 371 2688 \nQ 288 2778 58 2790 \nL 58 2880 \nL 992 2880 \nL 992 813 \nQ 992 595 1123 451 \nQ 1254 307 1446 307 \nQ 1760 307 1984 506 \nQ 2067 582 2099 649 \nQ 2131 717 2131 877 \nL 2131 2355 \nQ 2131 2605 2041 2678 \nQ 1952 2752 1658 2771 \nL 1658 2880 \nL 2669 2880 \nL 2669 685 \nQ 2669 461 2742 390 \nQ 2816 320 3034 320 \nL 3072 320 \nz\n\" transform=\"scale(0.015625)\"/>\n       <path id=\"STIXGeneral-Regular-63\" d=\"M 2547 998 \nL 2637 941 \nQ 2362 403 2112 205 \nQ 1786 -64 1376 -64 \nQ 845 -64 502 336 \nQ 160 736 160 1357 \nQ 160 2170 698 2618 \nQ 1094 2944 1562 2944 \nQ 1965 2944 2256 2749 \nQ 2547 2554 2547 2285 \nQ 2547 2176 2457 2096 \nQ 2368 2016 2246 2016 \nQ 2022 2016 1939 2310 \nL 1901 2451 \nQ 1850 2630 1773 2694 \nQ 1696 2758 1523 2758 \nQ 1133 2758 893 2451 \nQ 653 2144 653 1645 \nQ 653 1094 928 745 \nQ 1203 397 1645 397 \nQ 1920 397 2118 528 \nQ 2317 659 2547 998 \nz\n\" transform=\"scale(0.015625)\"/>\n       <path id=\"STIXGeneral-Regular-74\" d=\"M 1702 493 \nL 1786 422 \nQ 1478 -64 1011 -64 \nQ 448 -64 448 749 \nL 448 2675 \nL 109 2675 \nQ 83 2694 83 2720 \nQ 83 2771 192 2842 \nQ 435 2982 813 3526 \nQ 826 3546 874 3606 \nQ 922 3667 941 3706 \nQ 986 3706 986 3622 \nL 986 2880 \nL 1632 2880 \nL 1632 2675 \nL 986 2675 \nL 986 845 \nQ 986 538 1062 403 \nQ 1139 269 1318 269 \nQ 1510 269 1702 493 \nz\n\" transform=\"scale(0.015625)\"/>\n       <path id=\"STIXGeneral-Regular-69\" d=\"M 1152 4045 \nQ 1152 3904 1056 3811 \nQ 960 3718 819 3718 \nQ 685 3718 592 3811 \nQ 499 3904 499 4045 \nQ 499 4179 595 4275 \nQ 691 4371 826 4371 \nQ 966 4371 1059 4275 \nQ 1152 4179 1152 4045 \nz\nM 1619 0 \nL 102 0 \nL 102 96 \nQ 435 115 521 211 \nQ 608 307 608 666 \nL 608 2118 \nQ 608 2342 563 2432 \nQ 518 2522 397 2522 \nQ 243 2522 128 2490 \nL 128 2592 \nL 1120 2944 \nL 1146 2918 \nL 1146 672 \nQ 1146 314 1226 218 \nQ 1306 122 1619 96 \nL 1619 0 \nz\n\" transform=\"scale(0.015625)\"/>\n       <path id=\"STIXGeneral-Regular-6f\" d=\"M 3008 1478 \nQ 3008 806 2608 371 \nQ 2208 -64 1568 -64 \nQ 979 -64 582 368 \nQ 186 800 186 1459 \nQ 186 2125 582 2534 \nQ 979 2944 1626 2944 \nQ 2221 2944 2614 2537 \nQ 3008 2131 3008 1478 \nz\nM 2432 1306 \nQ 2432 2035 2112 2445 \nQ 1856 2765 1504 2765 \nQ 1171 2765 966 2493 \nQ 762 2221 762 1747 \nQ 762 928 1101 435 \nQ 1318 115 1677 115 \nQ 2029 115 2230 432 \nQ 2432 749 2432 1306 \nz\n\" transform=\"scale(0.015625)\"/>\n       <path id=\"STIXGeneral-Regular-20\" transform=\"scale(0.015625)\"/>\n       <path id=\"STIXGeneral-Regular-66\" d=\"M 134 2880 \nL 659 2880 \nQ 666 3264 710 3478 \nQ 755 3693 883 3910 \nQ 1152 4371 1786 4371 \nQ 2074 4371 2262 4259 \nQ 2451 4147 2451 3974 \nQ 2451 3866 2374 3789 \nQ 2298 3712 2182 3712 \nQ 2029 3712 1894 3942 \nQ 1741 4192 1555 4192 \nQ 1197 4192 1197 3622 \nL 1197 2880 \nL 1978 2880 \nL 1978 2675 \nL 1197 2675 \nL 1197 666 \nQ 1197 307 1299 208 \nQ 1402 109 1792 96 \nL 1792 0 \nL 128 0 \nL 128 96 \nQ 474 115 566 214 \nQ 659 314 659 666 \nL 659 2675 \nL 134 2675 \nL 134 2880 \nz\n\" transform=\"scale(0.015625)\"/>\n       <path id=\"STIXGeneral-Regular-61\" d=\"M 2829 422 \nL 2829 243 \nQ 2586 -64 2253 -64 \nQ 1888 -64 1843 403 \nL 1837 403 \nQ 1427 -64 909 -64 \nQ 608 -64 422 112 \nQ 237 288 237 602 \nQ 237 1050 685 1350 \nQ 992 1555 1837 1869 \nL 1837 2214 \nQ 1837 2502 1699 2646 \nQ 1562 2790 1338 2790 \nQ 1146 2790 1018 2697 \nQ 890 2605 890 2477 \nQ 890 2419 909 2348 \nQ 928 2278 928 2208 \nQ 928 2112 841 2029 \nQ 755 1946 634 1946 \nQ 525 1946 441 2029 \nQ 358 2112 358 2240 \nQ 358 2547 685 2752 \nQ 986 2944 1421 2944 \nQ 1939 2944 2176 2656 \nQ 2291 2522 2323 2384 \nQ 2355 2246 2355 1946 \nL 2355 723 \nQ 2355 301 2554 301 \nQ 2682 301 2829 422 \nz\nM 1837 813 \nL 1837 1715 \nQ 1248 1510 1018 1293 \nQ 800 1094 800 800 \nQ 800 557 921 432 \nQ 1043 307 1242 307 \nQ 1453 307 1613 410 \nQ 1747 506 1792 589 \nQ 1837 672 1837 813 \nz\n\" transform=\"scale(0.015625)\"/>\n       <path id=\"STIXGeneral-Regular-72\" d=\"M 1024 2931 \nL 1024 2342 \nQ 1267 2688 1430 2816 \nQ 1594 2944 1792 2944 \nQ 1958 2944 2051 2854 \nQ 2144 2765 2144 2605 \nQ 2144 2470 2077 2393 \nQ 2010 2317 1894 2317 \nQ 1773 2317 1638 2445 \nQ 1536 2541 1472 2541 \nQ 1338 2541 1181 2355 \nQ 1024 2170 1024 2016 \nL 1024 576 \nQ 1024 301 1133 205 \nQ 1242 109 1568 96 \nL 1568 0 \nL 32 0 \nL 32 96 \nQ 339 154 412 224 \nQ 486 294 486 538 \nL 486 2138 \nQ 486 2349 438 2435 \nQ 390 2522 269 2522 \nQ 166 2522 45 2496 \nL 45 2598 \nQ 448 2726 992 2944 \nL 1024 2931 \nz\n\" transform=\"scale(0.015625)\"/>\n       <path id=\"STIXGeneral-Regular-73\" d=\"M 998 1926 \nL 1664 1523 \nQ 1984 1331 2105 1164 \nQ 2227 998 2227 736 \nQ 2227 416 1961 176 \nQ 1696 -64 1331 -64 \nQ 1030 -64 864 -6 \nQ 691 51 570 51 \nQ 461 51 416 -26 \nL 333 -26 \nL 333 979 \nL 435 979 \nQ 538 512 730 294 \nQ 922 77 1248 77 \nQ 1485 77 1632 211 \nQ 1779 346 1779 550 \nQ 1779 845 1440 1030 \nL 1094 1222 \nQ 326 1651 326 2150 \nQ 326 2522 566 2730 \nQ 806 2938 1210 2938 \nQ 1491 2938 1638 2867 \nQ 1754 2816 1818 2816 \nQ 1862 2816 1920 2880 \nL 1990 2880 \nL 2022 2010 \nL 1926 2010 \nQ 1818 2445 1654 2621 \nQ 1491 2797 1203 2797 \nQ 986 2797 854 2688 \nQ 723 2579 723 2362 \nQ 723 2253 796 2128 \nQ 870 2003 998 1926 \nz\n\" transform=\"scale(0.015625)\"/>\n      </defs>\n      <use xlink:href=\"#STIXGeneral-Regular-49\"/>\n      <use xlink:href=\"#STIXGeneral-Regular-6e\" x=\"33.299988\"/>\n      <use xlink:href=\"#STIXGeneral-Regular-64\" x=\"83.299973\"/>\n      <use xlink:href=\"#STIXGeneral-Regular-75\" x=\"133.299957\"/>\n      <use xlink:href=\"#STIXGeneral-Regular-63\" x=\"183.299942\"/>\n      <use xlink:href=\"#STIXGeneral-Regular-74\" x=\"227.699936\"/>\n      <use xlink:href=\"#STIXGeneral-Regular-69\" x=\"255.499924\"/>\n      <use xlink:href=\"#STIXGeneral-Regular-6f\" x=\"283.299911\"/>\n      <use xlink:href=\"#STIXGeneral-Regular-6e\" x=\"333.299896\"/>\n      <use xlink:href=\"#STIXGeneral-Regular-20\" x=\"383.299881\"/>\n      <use xlink:href=\"#STIXGeneral-Regular-66\" x=\"408.299866\"/>\n      <use xlink:href=\"#STIXGeneral-Regular-61\" x=\"441.599854\"/>\n      <use xlink:href=\"#STIXGeneral-Regular-63\" x=\"485.999847\"/>\n      <use xlink:href=\"#STIXGeneral-Regular-74\" x=\"530.399841\"/>\n      <use xlink:href=\"#STIXGeneral-Regular-6f\" x=\"558.199829\"/>\n      <use xlink:href=\"#STIXGeneral-Regular-72\" x=\"608.199814\"/>\n      <use xlink:href=\"#STIXGeneral-Regular-73\" x=\"641.499802\"/>\n     </g>\n    </g>\n   </g>\n   <g id=\"legend_1\">\n    <g id=\"patch_7\">\n     <path d=\"M 332.136 66.0105 \nL 395.64 66.0105 \nL 395.64 20.88 \nL 332.136 20.88 \nz\n\" style=\"fill: #ffffff; stroke: #000000; stroke-linejoin: miter\"/>\n    </g>\n    <g id=\"line2d_48\">\n     <path d=\"M 342.216 31.68 \nL 362.376 31.68 \n\" style=\"fill: none; stroke-dasharray: 6,0; stroke-dashoffset: 0; stroke: #1f77b4; stroke-width: 1.5\"/>\n    </g>\n    <g id=\"text_18\">\n     <!-- $a$ -->\n     <g transform=\"translate(378.216 36.72) scale(0.144 -0.144)\">\n      <use xlink:href=\"#STIXGeneral-Italic-61\" transform=\"translate(0 0.90625)\"/>\n     </g>\n    </g>\n    <g id=\"line2d_49\">\n     <path d=\"M 342.216 52.08525 \nL 362.376 52.08525 \n\" style=\"fill: none; stroke-dasharray: 6,2; stroke-dashoffset: 0; stroke: #ff7f0e; stroke-width: 1.5\"/>\n    </g>\n    <g id=\"text_19\">\n     <!-- $a'$ -->\n     <g transform=\"translate(378.216 57.12525) scale(0.144 -0.144)\">\n      <defs>\n       <path id=\"STIXGeneral-Regular-2032\" d=\"M 480 2630 \nL 909 4045 \nQ 934 4141 960 4195 \nQ 986 4250 1043 4294 \nQ 1101 4339 1190 4339 \nQ 1274 4339 1322 4278 \nQ 1370 4218 1370 4128 \nQ 1370 4058 1280 3878 \nL 602 2573 \nL 480 2630 \nz\n\" transform=\"scale(0.015625)\"/>\n      </defs>\n      <use xlink:href=\"#STIXGeneral-Italic-61\" transform=\"translate(0 0.267188)\"/>\n      <use xlink:href=\"#STIXGeneral-Regular-2032\" transform=\"translate(56.273116 35.542188) scale(0.7)\"/>\n     </g>\n    </g>\n   </g>\n  </g>\n </g>\n <defs>\n  <clipPath id=\"pff156f4c3d\">\n   <rect x=\"48.6\" y=\"13.68\" width=\"354.24\" height=\"262.44\"/>\n  </clipPath>\n </defs>\n</svg>\n"
          },
          "metadata": {}
        }
      ]
    },
    {
      "cell_type": "code",
      "source": [
        "df = pd.DataFrame( { \"$\\\\lambda_r$\": x_vec, \"$a$\": np.round(a_vec,decimals=5), \"$a'$\": np.round(ap_vec,decimals=5), \"$\\\\phi$\": np.round(ϕ_vec, decimals=2) } )\n",
        "\n",
        "print( df.to_latex(index=False,\n",
        "                  formatters={\"name\": str.upper},\n",
        "                  float_format=\"{:.5f}\".format,\n",
        "))"
      ],
      "metadata": {
        "id": "gCeI7OgVm22x",
        "outputId": "4083491a-67e9-45e8-e846-613fa6576fa7",
        "colab": {
          "base_uri": "https://localhost:8080/"
        }
      },
      "execution_count": 4,
      "outputs": [
        {
          "output_type": "stream",
          "name": "stdout",
          "text": [
            "\\begin{tabular}{rrrr}\n",
            "\\toprule\n",
            "$\\lambda_r$ & $a$ & $a'$ & $\\phi$ \\\\\n",
            "\\midrule\n",
            "0.25000 & 0.27945 & 1.36326 & 50.65000 \\\\\n",
            "0.50000 & 0.29837 & 0.54278 & 42.29000 \\\\\n",
            "0.75000 & 0.30988 & 0.29384 & 35.42000 \\\\\n",
            "1.00000 & 0.31699 & 0.18301 & 30.00000 \\\\\n",
            "1.25000 & 0.32150 & 0.12419 & 25.77000 \\\\\n",
            "1.50000 & 0.32446 & 0.08942 & 22.46000 \\\\\n",
            "1.75000 & 0.32647 & 0.06727 & 19.83000 \\\\\n",
            "2.00000 & 0.32790 & 0.05235 & 17.71000 \\\\\n",
            "2.50000 & 0.32970 & 0.03419 & 14.53000 \\\\\n",
            "3.00000 & 0.33075 & 0.02402 & 12.29000 \\\\\n",
            "3.50000 & 0.33140 & 0.01777 & 10.63000 \\\\\n",
            "4.00000 & 0.33184 & 0.01367 & 9.36000 \\\\\n",
            "4.50000 & 0.33213 & 0.01084 & 8.35000 \\\\\n",
            "5.00000 & 0.33237 & 0.00880 & 7.54000 \\\\\n",
            "5.50000 & 0.33187 & 0.00728 & 6.88000 \\\\\n",
            "6.00000 & 0.33208 & 0.00612 & 6.31000 \\\\\n",
            "7.00000 & 0.33314 & 0.00451 & 5.42000 \\\\\n",
            "8.00000 & 0.33295 & 0.00346 & 4.75000 \\\\\n",
            "9.00000 & 0.33251 & 0.00273 & 4.23000 \\\\\n",
            "10.00000 & 0.33263 & 0.00221 & 3.81000 \\\\\n",
            "11.00000 & 0.33275 & 0.00183 & 3.46000 \\\\\n",
            "12.00000 & 0.33281 & 0.00154 & 3.18000 \\\\\n",
            "\\bottomrule\n",
            "\\end{tabular}\n",
            "\n"
          ]
        }
      ]
    },
    {
      "cell_type": "code",
      "source": [
        "def params( X, r ):\n",
        "\n",
        "    ϕ = X[0]\n",
        "    c = X[1]\n",
        "    Z = 3\n",
        "    σ = Z * c / ( 2 * np.pi * r )\n",
        "\n",
        "    CL = 1.4\n",
        "    CD = 0.0\n",
        "    k = 1.0\n",
        "\n",
        "    Ca = CL * np.cos(ϕ) + CD * np.sin(ϕ)\n",
        "    Ct = CL * np.sin(ϕ) - CD * np.cos(ϕ)\n",
        "\n",
        "    a  = ( σ * Ca ) / ( 4.0 * k * np.sin(ϕ)**2 + σ * Ca )\n",
        "    ap = ( σ * Ct ) / ( 4.0 * k * np.sin(ϕ)*np.cos(ϕ) - σ * Ct )\n",
        "\n",
        "    return k, a, ap\n",
        "\n",
        "def objective( X, r ):\n",
        "    ϕ = X[0]\n",
        "    c = X[1]\n",
        "    k, a, ap = params( X, r )\n",
        "    fO = k * ap * ( 1.0 - a ) * r**3\n",
        "    return -fO\n",
        "\n",
        "def constraint( X, r ):\n",
        "    ϕ = X[0]\n",
        "    c = X[1]\n",
        "    V1a = 2.25\n",
        "    Ω = 15 * np.pi / 30.0\n",
        "    k, a, ap = params( X, r )\n",
        "    fC = np.tan( ϕ ) - ( 1.0 - a ) / ( 1.0 + ap ) * ( V1a / Ω * r )\n",
        "    return fC"
      ],
      "metadata": {
        "id": "8RycjRseDVMa"
      },
      "execution_count": 5,
      "outputs": []
    },
    {
      "cell_type": "code",
      "source": [
        "X0 = ( 0.1, 0.5 )\n",
        "\n",
        "ϕ_bound = ( 0.0, np.pi/2.0 )\n",
        "c_bound = ( 0.1, 50.0 )\n",
        "\n",
        "r = 16.0\n",
        "bnds = ( ϕ_bound, c_bound )\n",
        "cons = [ { 'type': 'eq', 'fun': lambda X: constraint( X, r ) } ]\n",
        "\n",
        "sol = minimize( lambda X: objective( X, r ), X0, method = 'SLSQP', bounds = bnds, constraints = cons )\n",
        "\n",
        "print(sol)"
      ],
      "metadata": {
        "colab": {
          "base_uri": "https://localhost:8080/"
        },
        "id": "BqljqU9dGqPt",
        "outputId": "b37f4d0d-b09f-4e72-f608-d80bc7d4051f"
      },
      "execution_count": 6,
      "outputs": [
        {
          "output_type": "stream",
          "name": "stdout",
          "text": [
            " message: Optimization terminated successfully\n",
            " success: True\n",
            "  status: 0\n",
            "     fun: -28994.84138216747\n",
            "       x: [ 1.018e+00  4.548e+01]\n",
            "     nit: 18\n",
            "     jac: [-5.155e+05 -6.540e+03]\n",
            "    nfev: 58\n",
            "    njev: 18\n"
          ]
        }
      ]
    },
    {
      "cell_type": "code",
      "source": [
        "sol.x"
      ],
      "metadata": {
        "colab": {
          "base_uri": "https://localhost:8080/"
        },
        "id": "O99qbVXBSOP4",
        "outputId": "bf7f5f7c-ec02-42db-ba4e-614f93fdb579"
      },
      "execution_count": 7,
      "outputs": [
        {
          "output_type": "execute_result",
          "data": {
            "text/plain": [
              "array([ 1.01812776, 45.48199215])"
            ]
          },
          "metadata": {},
          "execution_count": 7
        }
      ]
    },
    {
      "cell_type": "code",
      "source": [],
      "metadata": {
        "id": "HiXt3dLjVPhL"
      },
      "execution_count": 7,
      "outputs": []
    }
  ]
}
