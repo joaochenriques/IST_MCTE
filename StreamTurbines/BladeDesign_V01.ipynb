{
  "nbformat": 4,
  "nbformat_minor": 0,
  "metadata": {
    "colab": {
      "provenance": [],
      "authorship_tag": "ABX9TyMHExQoaOzyJ1H8gMcr4jN1",
      "include_colab_link": true
    },
    "kernelspec": {
      "name": "python3",
      "display_name": "Python 3"
    },
    "language_info": {
      "name": "python"
    }
  },
  "cells": [
    {
      "cell_type": "markdown",
      "metadata": {
        "id": "view-in-github",
        "colab_type": "text"
      },
      "source": [
        "<a href=\"https://colab.research.google.com/github/joaochenriques/IST_MCTE/blob/main/StreamTurbines/BladeDesign_V01.ipynb\" target=\"_parent\"><img src=\"https://colab.research.google.com/assets/colab-badge.svg\" alt=\"Open In Colab\"/></a>"
      ]
    },
    {
      "cell_type": "code",
      "execution_count": 10,
      "metadata": {
        "id": "G_ezWxXmDM21"
      },
      "outputs": [],
      "source": [
        "import numpy as np\n",
        "from scipy.optimize import minimize"
      ]
    },
    {
      "cell_type": "code",
      "source": [
        "def params( x, r ):\n",
        "\n",
        "    ϕ = x[0]\n",
        "    c = x[1]\n",
        "    Z = 3\n",
        "    σ = Z * c / ( 2 * np.pi * r )\n",
        "\n",
        "    CL = 1.0\n",
        "    CD = 0.02\n",
        "    k = 1.0\n",
        "\n",
        "    Ca = CL * np.cos(ϕ) + CD * np.sin(ϕ)\n",
        "    Ct = CL * np.sin(ϕ) - CD * np.cos(ϕ)\n",
        "\n",
        "    a  = ( σ * Ca ) / ( 4.0 * k * np.sin(ϕ)**2 + σ * Ca )\n",
        "    ap = ( σ * Ct ) / ( 4.0 * k * np.sin(ϕ)**2 - σ * Ct )\n",
        "\n",
        "    return k, a, ap\n",
        "\n",
        "def objective( x, r ):\n",
        "    k, a, ap = params( x, r )\n",
        "    fO = k * ap * ( 1.0 - a ) * r**3\n",
        "\n",
        "    return -fO\n",
        "\n",
        "def constraint( x, r ):\n",
        "    V1a = 3.\n",
        "    Ω = 2.\n",
        "    k, a, ap = params( x, r )\n",
        "\n",
        "    fC = ( 1.0 + ap ) * ap * ( Ω * r / V1a )**2 - ( 1 - a ) * a\n",
        "\n",
        "    return fC"
      ],
      "metadata": {
        "id": "8RycjRseDVMa"
      },
      "execution_count": 13,
      "outputs": []
    },
    {
      "cell_type": "code",
      "source": [
        "x0 = ( 0.1, 0.3 )\n",
        "\n",
        "ϕ_bound = ( 0.0, np.pi/2.0 )\n",
        "c_bound = ( 0.1, 2.0 )\n",
        "\n",
        "r = 2.0\n",
        "bnds = ( ϕ_bound, c_bound )\n",
        "cons = [ { 'type': 'eq', 'fun': lambda x: constraint( x, r ) } ]\n",
        "\n",
        "sol = minimize( objective, x0, args=(r,), method = 'SLSQP', bounds = bnds, constraints = cons )\n",
        "\n",
        "print(sol)"
      ],
      "metadata": {
        "colab": {
          "base_uri": "https://localhost:8080/"
        },
        "id": "BqljqU9dGqPt",
        "outputId": "ceb4b8a5-3f53-4087-fb90-4ae232999d3b"
      },
      "execution_count": 17,
      "outputs": [
        {
          "output_type": "stream",
          "name": "stdout",
          "text": [
            " message: Optimization terminated successfully\n",
            " success: True\n",
            "  status: 0\n",
            "     fun: -0.5997645274260744\n",
            "       x: [ 2.262e-01  4.102e-01]\n",
            "     nit: 55\n",
            "     jac: [ 8.823e-01 -1.152e+00]\n",
            "    nfev: 211\n",
            "    njev: 54\n"
          ]
        }
      ]
    },
    {
      "cell_type": "code",
      "source": [],
      "metadata": {
        "id": "UYedFjdWHT2L"
      },
      "execution_count": 12,
      "outputs": []
    }
  ]
}