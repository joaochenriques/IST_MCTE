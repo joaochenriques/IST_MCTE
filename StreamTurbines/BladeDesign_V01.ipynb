{
  "nbformat": 4,
  "nbformat_minor": 0,
  "metadata": {
    "colab": {
      "provenance": [],
      "authorship_tag": "ABX9TyPba3Nj/6qvz+o9q78H1bCS",
      "include_colab_link": true
    },
    "kernelspec": {
      "name": "python3",
      "display_name": "Python 3"
    },
    "language_info": {
      "name": "python"
    }
  },
  "cells": [
    {
      "cell_type": "markdown",
      "metadata": {
        "id": "view-in-github",
        "colab_type": "text"
      },
      "source": [
        "<a href=\"https://colab.research.google.com/github/joaochenriques/IST_MCTE/blob/main/StreamTurbines/BladeDesign_V01.ipynb\" target=\"_parent\"><img src=\"https://colab.research.google.com/assets/colab-badge.svg\" alt=\"Open In Colab\"/></a>"
      ]
    },
    {
      "cell_type": "code",
      "execution_count": 52,
      "metadata": {
        "id": "G_ezWxXmDM21"
      },
      "outputs": [],
      "source": [
        "import pandas as pd\n",
        "import numpy as np\n",
        "import matplotlib.pyplot as mpl\n",
        "import pathlib, subprocess\n",
        "from scipy.optimize import minimize\n",
        "\n",
        "def cmdcall( cmd, verbose = False ):\n",
        "    output = subprocess.getoutput( cmd )\n",
        "    if verbose: print(output)"
      ]
    },
    {
      "cell_type": "code",
      "source": [
        "if not pathlib.Path(\"mpl_utils.py\").exists():\n",
        "  cmdcall( \"curl -O https://raw.githubusercontent.com/joaochenriques/ipynb_libs/main/mpl_utils.py\" )\n",
        "\n",
        "import mpl_utils as mut\n",
        "mut.config_plots()\n",
        "\n",
        "from matplotlib_inline.backend_inline import set_matplotlib_formats\n",
        "set_matplotlib_formats('svg')"
      ],
      "metadata": {
        "id": "wtGJYmn_U3Tv"
      },
      "execution_count": 53,
      "outputs": []
    },
    {
      "cell_type": "code",
      "source": [
        "def objective_a( X, x ):\n",
        "    a  = X[0]\n",
        "    ap = X[1]\n",
        "    fO = ( 1.0 - a ) * ap * x**3\n",
        "    return -fO\n",
        "\n",
        "def constraint_a( X, x ):\n",
        "    a  = X[0]\n",
        "    ap = X[1]\n",
        "    fC = ( 1.0 + ap ) * ap * x**2 - ( 1 - a ) * a\n",
        "    return fC\n",
        "\n",
        "x0 = ( 0.1, 1 )\n",
        "\n",
        "x_vec = []\n",
        "a_vec = []\n",
        "ap_vec = []\n",
        "\n",
        "for x in np.linspace( 0.25, 12.0, 100 ):\n",
        "    f_objt = lambda X : objective_a( X, x )\n",
        "    f_cons = lambda X : constraint_a( X, x )\n",
        "\n",
        "    cons = [ { 'type': 'eq', 'fun': f_cons } ]\n",
        "    sol = minimize( f_objt, x0, method = 'SLSQP', constraints = cons )\n",
        "    x0 = sol.x\n",
        "\n",
        "    x_vec.append( x )\n",
        "    a_vec.append( sol.x[0] )\n",
        "    ap_vec.append( sol.x[1] )\n",
        "\n",
        "mpl.plot( x_vec, a_vec, label = '$a$' )\n",
        "mpl.plot( x_vec, ap_vec, label = \"$a'$\" )\n",
        "mpl.xlabel( \"$x$\")\n",
        "mpl.legend()\n",
        "mpl.grid()"
      ],
      "metadata": {
        "colab": {
          "base_uri": "https://localhost:8080/",
          "height": 447
        },
        "id": "K3DZZSNFT6us",
        "outputId": "1e8315a3-ac7a-4c03-dcc1-e35fce9df37d"
      },
      "execution_count": 51,
      "outputs": [
        {
          "output_type": "display_data",
          "data": {
            "text/plain": [
              "<Figure size 480x360 with 1 Axes>"
            ],
            "image/svg+xml": "<?xml version=\"1.0\" encoding=\"utf-8\" standalone=\"no\"?>\n<!DOCTYPE svg PUBLIC \"-//W3C//DTD SVG 1.1//EN\"\n  \"http://www.w3.org/Graphics/SVG/1.1/DTD/svg11.dtd\">\n<svg xmlns:xlink=\"http://www.w3.org/1999/xlink\" width=\"397.84pt\" height=\"319.68pt\" viewBox=\"0 0 397.84 319.68\" xmlns=\"http://www.w3.org/2000/svg\" version=\"1.1\">\n <metadata>\n  <rdf:RDF xmlns:dc=\"http://purl.org/dc/elements/1.1/\" xmlns:cc=\"http://creativecommons.org/ns#\" xmlns:rdf=\"http://www.w3.org/1999/02/22-rdf-syntax-ns#\">\n   <cc:Work>\n    <dc:type rdf:resource=\"http://purl.org/dc/dcmitype/StillImage\"/>\n    <dc:date>2024-04-29T10:19:55.018543</dc:date>\n    <dc:format>image/svg+xml</dc:format>\n    <dc:creator>\n     <cc:Agent>\n      <dc:title>Matplotlib v3.7.1, https://matplotlib.org/</dc:title>\n     </cc:Agent>\n    </dc:creator>\n   </cc:Work>\n  </rdf:RDF>\n </metadata>\n <defs>\n  <style type=\"text/css\">*{stroke-linejoin: round; stroke-linecap: butt}</style>\n </defs>\n <g id=\"figure_1\">\n  <g id=\"patch_1\">\n   <path d=\"M 0 319.68 \nL 397.84 319.68 \nL 397.84 0 \nL 0 0 \nz\n\" style=\"fill: #ffffff\"/>\n  </g>\n  <g id=\"axes_1\">\n   <g id=\"patch_2\">\n    <path d=\"M 29.2 276.12 \nL 383.44 276.12 \nL 383.44 13.68 \nL 29.2 13.68 \nz\n\" style=\"fill: #ffffff\"/>\n   </g>\n   <g id=\"line2d_1\">\n    <path d=\"M 36.58 223.720336 \nL 40.083636 221.831 \nL 43.587273 220.336269 \nL 47.090909 219.145932 \nL 50.594545 218.205093 \nL 54.098182 217.45844 \nL 57.601818 216.862328 \nL 61.105455 216.383756 \nL 64.609091 215.995921 \nL 68.112727 215.67922 \nL 71.616364 215.418429 \nL 75.12 215.201893 \nL 78.623636 215.020655 \nL 82.127273 214.867792 \nL 85.630909 214.737918 \nL 89.134545 214.626815 \nL 92.638182 214.531152 \nL 96.141818 214.448283 \nL 99.645455 214.376086 \nL 103.149091 214.312852 \nL 106.652727 214.257191 \nL 110.156364 214.207965 \nL 113.66 214.16424 \nL 117.163636 214.12524 \nL 120.667273 214.09032 \nL 124.170909 214.058939 \nL 127.674545 214.030642 \nL 131.178182 214.005043 \nL 134.681818 213.981814 \nL 138.185455 213.960676 \nL 141.689091 213.941386 \nL 145.192727 213.92374 \nL 148.696364 213.908758 \nL 152.2 213.893736 \nL 155.703636 213.879764 \nL 159.207273 213.922985 \nL 162.710909 213.854619 \nL 166.214545 213.891032 \nL 169.718182 213.83463 \nL 173.221818 213.883718 \nL 176.725455 213.81701 \nL 180.229091 213.863069 \nL 183.732727 213.856729 \nL 187.236364 213.84756 \nL 190.74 213.838697 \nL 194.243636 213.830328 \nL 197.747273 213.822435 \nL 201.250909 213.814989 \nL 204.754545 213.807959 \nL 208.258182 213.801315 \nL 211.761818 213.795032 \nL 215.265455 213.789083 \nL 218.769091 213.783446 \nL 222.272727 213.778099 \nL 225.776364 213.773024 \nL 229.28 213.768202 \nL 232.783636 213.763616 \nL 236.287273 213.759252 \nL 239.790909 213.755095 \nL 243.294545 213.751132 \nL 246.798182 213.747352 \nL 250.301818 213.743743 \nL 253.805455 213.740295 \nL 257.309091 213.736999 \nL 260.812727 213.733845 \nL 264.316364 213.730826 \nL 267.82 213.730875 \nL 271.323636 213.728295 \nL 274.827273 213.725696 \nL 278.330909 213.723197 \nL 281.834545 213.720799 \nL 285.338182 213.718495 \nL 288.841818 213.716282 \nL 292.345455 213.714155 \nL 295.849091 213.712109 \nL 299.352727 213.71014 \nL 302.856364 213.708245 \nL 306.36 213.706419 \nL 309.863636 213.70466 \nL 313.367273 213.702964 \nL 316.870909 213.701329 \nL 320.374545 213.699751 \nL 323.878182 213.698227 \nL 327.381818 213.696756 \nL 330.885455 213.695336 \nL 334.389091 213.693963 \nL 337.892727 213.692635 \nL 341.396364 213.691351 \nL 344.9 213.690109 \nL 348.403636 213.688907 \nL 351.907273 213.687743 \nL 355.410909 213.686616 \nL 358.914545 213.685524 \nL 362.418182 213.684466 \nL 365.921818 213.68344 \nL 369.425455 213.682445 \nL 372.929091 213.68148 \nL 376.432727 213.680544 \nL 379.936364 213.679635 \nL 383.44 213.678752 \n\" clip-path=\"url(#p3fdfed7d3a)\" style=\"fill: none; stroke-dasharray: 6,0; stroke-dashoffset: 0; stroke: #1f77b4; stroke-width: 1.5\"/>\n   </g>\n   <g id=\"line2d_2\">\n    <path d=\"M 36.58 20.539953 \nL 40.083636 120.908848 \nL 43.587273 170.579821 \nL 47.090909 199.48257 \nL 50.594545 217.965805 \nL 54.098182 230.544144 \nL 57.601818 239.49598 \nL 61.105455 246.089162 \nL 64.609091 251.079724 \nL 68.112727 254.943474 \nL 71.616364 257.992337 \nL 75.12 260.437839 \nL 78.623636 262.427503 \nL 82.127273 264.066696 \nL 85.630909 265.432244 \nL 89.134545 266.581189 \nL 92.638182 267.556565 \nL 96.141818 268.391312 \nL 99.645455 269.110971 \nL 103.149091 269.735582 \nL 106.652727 270.281035 \nL 110.156364 270.760058 \nL 113.66 271.182936 \nL 117.163636 271.558051 \nL 120.667273 271.892286 \nL 124.170909 272.191335 \nL 127.674545 272.459941 \nL 131.178182 272.702076 \nL 134.681818 272.921088 \nL 138.185455 273.119817 \nL 141.689091 273.300679 \nL 145.192727 273.465744 \nL 148.696364 273.616814 \nL 152.2 273.755377 \nL 155.703636 273.88279 \nL 159.207273 274.001168 \nL 162.710909 274.108664 \nL 166.214545 274.209756 \nL 169.718182 274.302112 \nL 173.221818 274.389373 \nL 176.725455 274.469016 \nL 180.229091 274.544683 \nL 183.732727 274.614672 \nL 187.236364 274.680073 \nL 190.74 274.741311 \nL 194.243636 274.798734 \nL 197.747273 274.852651 \nL 201.250909 274.903342 \nL 204.754545 274.951059 \nL 208.258182 274.996029 \nL 211.761818 275.038458 \nL 215.265455 275.078534 \nL 218.769091 275.116428 \nL 222.272727 275.152295 \nL 225.776364 275.186277 \nL 229.28 275.218502 \nL 232.783636 275.249091 \nL 236.287273 275.278151 \nL 239.790909 275.305784 \nL 243.294545 275.33208 \nL 246.798182 275.357124 \nL 250.301818 275.380995 \nL 253.805455 275.403764 \nL 257.309091 275.425498 \nL 260.812727 275.44626 \nL 264.316364 275.466105 \nL 267.82 275.485102 \nL 271.323636 275.503271 \nL 274.827273 275.520672 \nL 278.330909 275.537347 \nL 281.834545 275.553337 \nL 285.338182 275.568678 \nL 288.841818 275.583406 \nL 292.345455 275.597551 \nL 295.849091 275.611145 \nL 299.352727 275.624216 \nL 302.856364 275.63679 \nL 306.36 275.648893 \nL 309.863636 275.660546 \nL 313.367273 275.671773 \nL 316.870909 275.682594 \nL 320.374545 275.693028 \nL 323.878182 275.703093 \nL 327.381818 275.712807 \nL 330.885455 275.722186 \nL 334.389091 275.731244 \nL 337.892727 275.739997 \nL 341.396364 275.748458 \nL 344.9 275.756639 \nL 348.403636 275.764554 \nL 351.907273 275.772213 \nL 355.410909 275.779627 \nL 358.914545 275.786807 \nL 362.418182 275.793762 \nL 365.921818 275.800501 \nL 369.425455 275.807034 \nL 372.929091 275.813369 \nL 376.432727 275.819514 \nL 379.936364 275.825476 \nL 383.44 275.831262 \n\" clip-path=\"url(#p3fdfed7d3a)\" style=\"fill: none; stroke-dasharray: 6,2; stroke-dashoffset: 0; stroke: #ff7f0e; stroke-width: 1.5\"/>\n   </g>\n   <g id=\"patch_3\">\n    <path d=\"M 29.2 276.12 \nL 29.2 13.68 \n\" style=\"fill: none; stroke: #000000; stroke-linejoin: miter; stroke-linecap: square\"/>\n   </g>\n   <g id=\"patch_4\">\n    <path d=\"M 383.44 276.12 \nL 383.44 13.68 \n\" style=\"fill: none; stroke: #000000; stroke-linejoin: miter; stroke-linecap: square\"/>\n   </g>\n   <g id=\"patch_5\">\n    <path d=\"M 29.2 276.12 \nL 383.44 276.12 \n\" style=\"fill: none; stroke: #000000; stroke-linejoin: miter; stroke-linecap: square\"/>\n   </g>\n   <g id=\"patch_6\">\n    <path d=\"M 29.2 13.68 \nL 383.44 13.68 \n\" style=\"fill: none; stroke: #000000; stroke-linejoin: miter; stroke-linecap: square\"/>\n   </g>\n   <g id=\"matplotlib.axis_1\">\n    <g id=\"xtick_1\">\n     <g id=\"line2d_3\">\n      <path d=\"M 29.2 276.12 \nL 29.2 13.68 \n\" clip-path=\"url(#p3fdfed7d3a)\" style=\"fill: none; stroke-dasharray: 1,3; stroke-dashoffset: 0; stroke: #000000; stroke-width: 0.5\"/>\n     </g>\n     <g id=\"line2d_4\">\n      <defs>\n       <path id=\"m78f99d3ae6\" d=\"M 0 0 \nL 0 -4 \n\" style=\"stroke: #000000; stroke-width: 0.5\"/>\n      </defs>\n      <g>\n       <use xlink:href=\"#m78f99d3ae6\" x=\"29.2\" y=\"276.12\" style=\"stroke: #000000; stroke-width: 0.5\"/>\n      </g>\n     </g>\n     <g id=\"line2d_5\">\n      <defs>\n       <path id=\"m9a1b52163f\" d=\"M 0 0 \nL 0 4 \n\" style=\"stroke: #000000; stroke-width: 0.5\"/>\n      </defs>\n      <g>\n       <use xlink:href=\"#m9a1b52163f\" x=\"29.2\" y=\"13.68\" style=\"stroke: #000000; stroke-width: 0.5\"/>\n      </g>\n     </g>\n     <g id=\"text_1\">\n      <!-- 0 -->\n      <g transform=\"translate(25.6 289.95475) scale(0.144 -0.144)\">\n       <defs>\n        <path id=\"STIXGeneral-Regular-30\" d=\"M 3046 2112 \nQ 3046 1683 2963 1302 \nQ 2880 922 2717 602 \nQ 2554 282 2266 96 \nQ 1978 -90 1600 -90 \nQ 1210 -90 915 108 \nQ 621 307 461 640 \nQ 301 973 227 1350 \nQ 154 1728 154 2150 \nQ 154 2746 301 3222 \nQ 448 3699 790 4012 \nQ 1133 4326 1626 4326 \nQ 2253 4326 2649 3712 \nQ 3046 3098 3046 2112 \nz\nM 2432 2080 \nQ 2432 3091 2217 3625 \nQ 2003 4160 1587 4160 \nQ 1190 4160 979 3622 \nQ 768 3085 768 2106 \nQ 768 1120 979 598 \nQ 1190 77 1600 77 \nQ 2003 77 2217 598 \nQ 2432 1120 2432 2080 \nz\n\" transform=\"scale(0.015625)\"/>\n       </defs>\n       <use xlink:href=\"#STIXGeneral-Regular-30\"/>\n      </g>\n     </g>\n    </g>\n    <g id=\"xtick_2\">\n     <g id=\"line2d_6\">\n      <path d=\"M 88.24 276.12 \nL 88.24 13.68 \n\" clip-path=\"url(#p3fdfed7d3a)\" style=\"fill: none; stroke-dasharray: 1,3; stroke-dashoffset: 0; stroke: #000000; stroke-width: 0.5\"/>\n     </g>\n     <g id=\"line2d_7\">\n      <g>\n       <use xlink:href=\"#m78f99d3ae6\" x=\"88.24\" y=\"276.12\" style=\"stroke: #000000; stroke-width: 0.5\"/>\n      </g>\n     </g>\n     <g id=\"line2d_8\">\n      <g>\n       <use xlink:href=\"#m9a1b52163f\" x=\"88.24\" y=\"13.68\" style=\"stroke: #000000; stroke-width: 0.5\"/>\n      </g>\n     </g>\n     <g id=\"text_2\">\n      <!-- 2 -->\n      <g transform=\"translate(84.64 289.95475) scale(0.144 -0.144)\">\n       <defs>\n        <path id=\"STIXGeneral-Regular-32\" d=\"M 3034 877 \nL 2688 0 \nL 186 0 \nL 186 77 \nL 1325 1286 \nQ 1773 1754 1965 2144 \nQ 2157 2534 2157 2950 \nQ 2157 3379 1920 3616 \nQ 1683 3853 1267 3853 \nQ 922 3853 720 3673 \nQ 518 3494 326 3021 \nL 192 3053 \nQ 301 3648 630 3987 \nQ 960 4326 1523 4326 \nQ 2054 4326 2380 4006 \nQ 2707 3686 2707 3200 \nQ 2707 2477 1888 1613 \nL 832 486 \nL 2330 486 \nQ 2541 486 2665 569 \nQ 2790 653 2944 915 \nL 3034 877 \nz\n\" transform=\"scale(0.015625)\"/>\n       </defs>\n       <use xlink:href=\"#STIXGeneral-Regular-32\"/>\n      </g>\n     </g>\n    </g>\n    <g id=\"xtick_3\">\n     <g id=\"line2d_9\">\n      <path d=\"M 147.28 276.12 \nL 147.28 13.68 \n\" clip-path=\"url(#p3fdfed7d3a)\" style=\"fill: none; stroke-dasharray: 1,3; stroke-dashoffset: 0; stroke: #000000; stroke-width: 0.5\"/>\n     </g>\n     <g id=\"line2d_10\">\n      <g>\n       <use xlink:href=\"#m78f99d3ae6\" x=\"147.28\" y=\"276.12\" style=\"stroke: #000000; stroke-width: 0.5\"/>\n      </g>\n     </g>\n     <g id=\"line2d_11\">\n      <g>\n       <use xlink:href=\"#m9a1b52163f\" x=\"147.28\" y=\"13.68\" style=\"stroke: #000000; stroke-width: 0.5\"/>\n      </g>\n     </g>\n     <g id=\"text_3\">\n      <!-- 4 -->\n      <g transform=\"translate(143.68 289.95475) scale(0.144 -0.144)\">\n       <defs>\n        <path id=\"STIXGeneral-Regular-34\" d=\"M 3027 1069 \nL 2368 1069 \nL 2368 0 \nL 1869 0 \nL 1869 1069 \nL 77 1069 \nL 77 1478 \nL 2086 4326 \nL 2368 4326 \nL 2368 1478 \nL 3027 1478 \nL 3027 1069 \nz\nM 1869 1478 \nL 1869 3674 \nL 333 1478 \nL 1869 1478 \nz\n\" transform=\"scale(0.015625)\"/>\n       </defs>\n       <use xlink:href=\"#STIXGeneral-Regular-34\"/>\n      </g>\n     </g>\n    </g>\n    <g id=\"xtick_4\">\n     <g id=\"line2d_12\">\n      <path d=\"M 206.32 276.12 \nL 206.32 13.68 \n\" clip-path=\"url(#p3fdfed7d3a)\" style=\"fill: none; stroke-dasharray: 1,3; stroke-dashoffset: 0; stroke: #000000; stroke-width: 0.5\"/>\n     </g>\n     <g id=\"line2d_13\">\n      <g>\n       <use xlink:href=\"#m78f99d3ae6\" x=\"206.32\" y=\"276.12\" style=\"stroke: #000000; stroke-width: 0.5\"/>\n      </g>\n     </g>\n     <g id=\"line2d_14\">\n      <g>\n       <use xlink:href=\"#m9a1b52163f\" x=\"206.32\" y=\"13.68\" style=\"stroke: #000000; stroke-width: 0.5\"/>\n      </g>\n     </g>\n     <g id=\"text_4\">\n      <!-- 6 -->\n      <g transform=\"translate(202.72 289.95475) scale(0.144 -0.144)\">\n       <defs>\n        <path id=\"STIXGeneral-Regular-36\" d=\"M 2854 4378 \nL 2867 4275 \nQ 2112 4154 1606 3664 \nQ 1101 3174 973 2451 \nQ 1344 2739 1786 2739 \nQ 2349 2739 2672 2380 \nQ 2995 2022 2995 1402 \nQ 2995 774 2669 378 \nQ 2291 -90 1651 -90 \nQ 870 -90 518 557 \nQ 218 1107 218 1786 \nQ 218 2835 915 3552 \nQ 1312 3962 1731 4131 \nQ 2150 4301 2854 4378 \nz\nM 2419 1203 \nQ 2419 2445 1555 2445 \nQ 1235 2445 1024 2275 \nQ 813 2106 813 1702 \nQ 813 954 1046 522 \nQ 1280 90 1722 90 \nQ 2061 90 2240 394 \nQ 2419 698 2419 1203 \nz\n\" transform=\"scale(0.015625)\"/>\n       </defs>\n       <use xlink:href=\"#STIXGeneral-Regular-36\"/>\n      </g>\n     </g>\n    </g>\n    <g id=\"xtick_5\">\n     <g id=\"line2d_15\">\n      <path d=\"M 265.36 276.12 \nL 265.36 13.68 \n\" clip-path=\"url(#p3fdfed7d3a)\" style=\"fill: none; stroke-dasharray: 1,3; stroke-dashoffset: 0; stroke: #000000; stroke-width: 0.5\"/>\n     </g>\n     <g id=\"line2d_16\">\n      <g>\n       <use xlink:href=\"#m78f99d3ae6\" x=\"265.36\" y=\"276.12\" style=\"stroke: #000000; stroke-width: 0.5\"/>\n      </g>\n     </g>\n     <g id=\"line2d_17\">\n      <g>\n       <use xlink:href=\"#m9a1b52163f\" x=\"265.36\" y=\"13.68\" style=\"stroke: #000000; stroke-width: 0.5\"/>\n      </g>\n     </g>\n     <g id=\"text_5\">\n      <!-- 8 -->\n      <g transform=\"translate(261.76 289.95475) scale(0.144 -0.144)\">\n       <defs>\n        <path id=\"STIXGeneral-Regular-38\" d=\"M 2848 992 \nQ 2848 499 2505 204 \nQ 2163 -90 1587 -90 \nQ 1050 -90 704 204 \nQ 358 499 358 954 \nQ 358 1293 524 1533 \nQ 691 1773 1190 2125 \nQ 710 2522 553 2765 \nQ 397 3008 397 3328 \nQ 397 3782 745 4054 \nQ 1094 4326 1638 4326 \nQ 2106 4326 2410 4060 \nQ 2714 3795 2714 3411 \nQ 2714 3059 2531 2848 \nQ 2349 2637 1856 2374 \nQ 2432 1990 2640 1689 \nQ 2848 1389 2848 992 \nz\nM 2272 3411 \nQ 2272 3744 2086 3945 \nQ 1901 4147 1574 4147 \nQ 1248 4147 1059 3977 \nQ 870 3808 870 3513 \nQ 870 3219 1059 2979 \nQ 1248 2739 1670 2490 \nQ 1997 2682 2134 2896 \nQ 2272 3110 2272 3411 \nz\nM 1734 1741 \nL 1357 1997 \nQ 1075 1766 960 1545 \nQ 845 1325 845 1011 \nQ 845 576 1065 333 \nQ 1286 90 1658 90 \nQ 1971 90 2166 285 \nQ 2362 480 2362 794 \nQ 2362 1082 2214 1299 \nQ 2067 1517 1734 1741 \nz\n\" transform=\"scale(0.015625)\"/>\n       </defs>\n       <use xlink:href=\"#STIXGeneral-Regular-38\"/>\n      </g>\n     </g>\n    </g>\n    <g id=\"xtick_6\">\n     <g id=\"line2d_18\">\n      <path d=\"M 324.4 276.12 \nL 324.4 13.68 \n\" clip-path=\"url(#p3fdfed7d3a)\" style=\"fill: none; stroke-dasharray: 1,3; stroke-dashoffset: 0; stroke: #000000; stroke-width: 0.5\"/>\n     </g>\n     <g id=\"line2d_19\">\n      <g>\n       <use xlink:href=\"#m78f99d3ae6\" x=\"324.4\" y=\"276.12\" style=\"stroke: #000000; stroke-width: 0.5\"/>\n      </g>\n     </g>\n     <g id=\"line2d_20\">\n      <g>\n       <use xlink:href=\"#m9a1b52163f\" x=\"324.4\" y=\"13.68\" style=\"stroke: #000000; stroke-width: 0.5\"/>\n      </g>\n     </g>\n     <g id=\"text_6\">\n      <!-- 10 -->\n      <g transform=\"translate(317.2 289.95475) scale(0.144 -0.144)\">\n       <defs>\n        <path id=\"STIXGeneral-Regular-31\" d=\"M 2522 0 \nL 755 0 \nL 755 96 \nQ 1107 115 1235 227 \nQ 1363 339 1363 608 \nL 1363 3482 \nQ 1363 3795 1171 3795 \nQ 1082 3795 883 3718 \nL 710 3654 \nL 710 3744 \nL 1856 4326 \nL 1914 4307 \nL 1914 486 \nQ 1914 275 2042 185 \nQ 2170 96 2522 96 \nL 2522 0 \nz\n\" transform=\"scale(0.015625)\"/>\n       </defs>\n       <use xlink:href=\"#STIXGeneral-Regular-31\"/>\n       <use xlink:href=\"#STIXGeneral-Regular-30\" x=\"49.999985\"/>\n      </g>\n     </g>\n    </g>\n    <g id=\"xtick_7\">\n     <g id=\"line2d_21\">\n      <path d=\"M 383.44 276.12 \nL 383.44 13.68 \n\" clip-path=\"url(#p3fdfed7d3a)\" style=\"fill: none; stroke-dasharray: 1,3; stroke-dashoffset: 0; stroke: #000000; stroke-width: 0.5\"/>\n     </g>\n     <g id=\"line2d_22\">\n      <g>\n       <use xlink:href=\"#m78f99d3ae6\" x=\"383.44\" y=\"276.12\" style=\"stroke: #000000; stroke-width: 0.5\"/>\n      </g>\n     </g>\n     <g id=\"line2d_23\">\n      <g>\n       <use xlink:href=\"#m9a1b52163f\" x=\"383.44\" y=\"13.68\" style=\"stroke: #000000; stroke-width: 0.5\"/>\n      </g>\n     </g>\n     <g id=\"text_7\">\n      <!-- 12 -->\n      <g transform=\"translate(376.24 289.95475) scale(0.144 -0.144)\">\n       <use xlink:href=\"#STIXGeneral-Regular-31\"/>\n       <use xlink:href=\"#STIXGeneral-Regular-32\" x=\"49.999985\"/>\n      </g>\n     </g>\n    </g>\n    <g id=\"text_8\">\n     <!-- $x$ -->\n     <g transform=\"translate(202.72 309.0075) scale(0.16 -0.16)\">\n      <defs>\n       <path id=\"STIXGeneral-Italic-78\" d=\"M 1555 2272 \nL 1632 1907 \nQ 1971 2426 2179 2624 \nQ 2387 2822 2598 2822 \nQ 2714 2822 2787 2755 \nQ 2861 2688 2861 2585 \nQ 2861 2483 2800 2419 \nQ 2739 2355 2643 2355 \nQ 2586 2355 2490 2409 \nQ 2394 2464 2310 2464 \nQ 2125 2464 1683 1690 \nQ 1683 1606 1734 1402 \nL 1939 544 \nQ 2003 282 2131 282 \nQ 2234 282 2432 538 \nQ 2451 563 2476 598 \nQ 2502 634 2521 662 \nQ 2541 691 2566 717 \nL 2662 659 \nQ 2387 230 2227 80 \nQ 2067 -70 1882 -70 \nQ 1728 -70 1645 26 \nQ 1562 122 1504 365 \nL 1318 1126 \nL 755 365 \nQ 557 96 432 13 \nQ 307 -70 147 -70 \nQ 0 -70 -86 0 \nQ -173 70 -173 198 \nQ -173 294 -112 361 \nQ -51 429 45 429 \nQ 122 429 250 358 \nQ 346 301 416 301 \nQ 525 301 742 614 \nL 1267 1357 \nL 1088 2150 \nQ 1024 2432 969 2509 \nQ 915 2586 794 2586 \nQ 717 2586 544 2541 \nL 429 2509 \nL 410 2611 \nL 480 2637 \nQ 992 2822 1229 2822 \nQ 1350 2822 1420 2707 \nQ 1491 2592 1555 2272 \nz\n\" transform=\"scale(0.015625)\"/>\n      </defs>\n      <use xlink:href=\"#STIXGeneral-Italic-78\" transform=\"translate(0 0.90625)\"/>\n     </g>\n    </g>\n   </g>\n   <g id=\"matplotlib.axis_2\">\n    <g id=\"ytick_1\">\n     <g id=\"line2d_24\">\n      <path d=\"M 29.2 276.12 \nL 383.44 276.12 \n\" clip-path=\"url(#p3fdfed7d3a)\" style=\"fill: none; stroke-dasharray: 1,3; stroke-dashoffset: 0; stroke: #000000; stroke-width: 0.5\"/>\n     </g>\n     <g id=\"line2d_25\">\n      <defs>\n       <path id=\"mbb86453757\" d=\"M 0 0 \nL 4 0 \n\" style=\"stroke: #000000; stroke-width: 0.5\"/>\n      </defs>\n      <g>\n       <use xlink:href=\"#mbb86453757\" x=\"29.2\" y=\"276.12\" style=\"stroke: #000000; stroke-width: 0.5\"/>\n      </g>\n     </g>\n     <g id=\"line2d_26\">\n      <defs>\n       <path id=\"me38a30004a\" d=\"M 0 0 \nL -4 0 \n\" style=\"stroke: #000000; stroke-width: 0.5\"/>\n      </defs>\n      <g>\n       <use xlink:href=\"#me38a30004a\" x=\"383.44\" y=\"276.12\" style=\"stroke: #000000; stroke-width: 0.5\"/>\n      </g>\n     </g>\n     <g id=\"text_9\">\n      <!-- 0.0 -->\n      <g transform=\"translate(7.2 279.47475) scale(0.144 -0.144)\">\n       <defs>\n        <path id=\"STIXGeneral-Regular-2e\" d=\"M 1158 275 \nQ 1158 134 1052 32 \nQ 947 -70 800 -70 \nQ 653 -70 550 32 \nQ 448 134 448 281 \nQ 448 429 553 534 \nQ 659 640 806 640 \nQ 947 640 1052 531 \nQ 1158 422 1158 275 \nz\n\" transform=\"scale(0.015625)\"/>\n       </defs>\n       <use xlink:href=\"#STIXGeneral-Regular-30\"/>\n       <use xlink:href=\"#STIXGeneral-Regular-2e\" x=\"49.999985\"/>\n       <use xlink:href=\"#STIXGeneral-Regular-30\" x=\"74.999969\"/>\n      </g>\n     </g>\n    </g>\n    <g id=\"ytick_2\">\n     <g id=\"line2d_27\">\n      <path d=\"M 29.2 238.628571 \nL 383.44 238.628571 \n\" clip-path=\"url(#p3fdfed7d3a)\" style=\"fill: none; stroke-dasharray: 1,3; stroke-dashoffset: 0; stroke: #000000; stroke-width: 0.5\"/>\n     </g>\n     <g id=\"line2d_28\">\n      <g>\n       <use xlink:href=\"#mbb86453757\" x=\"29.2\" y=\"238.628571\" style=\"stroke: #000000; stroke-width: 0.5\"/>\n      </g>\n     </g>\n     <g id=\"line2d_29\">\n      <g>\n       <use xlink:href=\"#me38a30004a\" x=\"383.44\" y=\"238.628571\" style=\"stroke: #000000; stroke-width: 0.5\"/>\n      </g>\n     </g>\n     <g id=\"text_10\">\n      <!-- 0.2 -->\n      <g transform=\"translate(7.2 241.983321) scale(0.144 -0.144)\">\n       <use xlink:href=\"#STIXGeneral-Regular-30\"/>\n       <use xlink:href=\"#STIXGeneral-Regular-2e\" x=\"49.999985\"/>\n       <use xlink:href=\"#STIXGeneral-Regular-32\" x=\"74.999969\"/>\n      </g>\n     </g>\n    </g>\n    <g id=\"ytick_3\">\n     <g id=\"line2d_30\">\n      <path d=\"M 29.2 201.137143 \nL 383.44 201.137143 \n\" clip-path=\"url(#p3fdfed7d3a)\" style=\"fill: none; stroke-dasharray: 1,3; stroke-dashoffset: 0; stroke: #000000; stroke-width: 0.5\"/>\n     </g>\n     <g id=\"line2d_31\">\n      <g>\n       <use xlink:href=\"#mbb86453757\" x=\"29.2\" y=\"201.137143\" style=\"stroke: #000000; stroke-width: 0.5\"/>\n      </g>\n     </g>\n     <g id=\"line2d_32\">\n      <g>\n       <use xlink:href=\"#me38a30004a\" x=\"383.44\" y=\"201.137143\" style=\"stroke: #000000; stroke-width: 0.5\"/>\n      </g>\n     </g>\n     <g id=\"text_11\">\n      <!-- 0.4 -->\n      <g transform=\"translate(7.2 204.491893) scale(0.144 -0.144)\">\n       <use xlink:href=\"#STIXGeneral-Regular-30\"/>\n       <use xlink:href=\"#STIXGeneral-Regular-2e\" x=\"49.999985\"/>\n       <use xlink:href=\"#STIXGeneral-Regular-34\" x=\"74.999969\"/>\n      </g>\n     </g>\n    </g>\n    <g id=\"ytick_4\">\n     <g id=\"line2d_33\">\n      <path d=\"M 29.2 163.645714 \nL 383.44 163.645714 \n\" clip-path=\"url(#p3fdfed7d3a)\" style=\"fill: none; stroke-dasharray: 1,3; stroke-dashoffset: 0; stroke: #000000; stroke-width: 0.5\"/>\n     </g>\n     <g id=\"line2d_34\">\n      <g>\n       <use xlink:href=\"#mbb86453757\" x=\"29.2\" y=\"163.645714\" style=\"stroke: #000000; stroke-width: 0.5\"/>\n      </g>\n     </g>\n     <g id=\"line2d_35\">\n      <g>\n       <use xlink:href=\"#me38a30004a\" x=\"383.44\" y=\"163.645714\" style=\"stroke: #000000; stroke-width: 0.5\"/>\n      </g>\n     </g>\n     <g id=\"text_12\">\n      <!-- 0.6 -->\n      <g transform=\"translate(7.2 167.000464) scale(0.144 -0.144)\">\n       <use xlink:href=\"#STIXGeneral-Regular-30\"/>\n       <use xlink:href=\"#STIXGeneral-Regular-2e\" x=\"49.999985\"/>\n       <use xlink:href=\"#STIXGeneral-Regular-36\" x=\"74.999969\"/>\n      </g>\n     </g>\n    </g>\n    <g id=\"ytick_5\">\n     <g id=\"line2d_36\">\n      <path d=\"M 29.2 126.154286 \nL 383.44 126.154286 \n\" clip-path=\"url(#p3fdfed7d3a)\" style=\"fill: none; stroke-dasharray: 1,3; stroke-dashoffset: 0; stroke: #000000; stroke-width: 0.5\"/>\n     </g>\n     <g id=\"line2d_37\">\n      <g>\n       <use xlink:href=\"#mbb86453757\" x=\"29.2\" y=\"126.154286\" style=\"stroke: #000000; stroke-width: 0.5\"/>\n      </g>\n     </g>\n     <g id=\"line2d_38\">\n      <g>\n       <use xlink:href=\"#me38a30004a\" x=\"383.44\" y=\"126.154286\" style=\"stroke: #000000; stroke-width: 0.5\"/>\n      </g>\n     </g>\n     <g id=\"text_13\">\n      <!-- 0.8 -->\n      <g transform=\"translate(7.2 129.509036) scale(0.144 -0.144)\">\n       <use xlink:href=\"#STIXGeneral-Regular-30\"/>\n       <use xlink:href=\"#STIXGeneral-Regular-2e\" x=\"49.999985\"/>\n       <use xlink:href=\"#STIXGeneral-Regular-38\" x=\"74.999969\"/>\n      </g>\n     </g>\n    </g>\n    <g id=\"ytick_6\">\n     <g id=\"line2d_39\">\n      <path d=\"M 29.2 88.662857 \nL 383.44 88.662857 \n\" clip-path=\"url(#p3fdfed7d3a)\" style=\"fill: none; stroke-dasharray: 1,3; stroke-dashoffset: 0; stroke: #000000; stroke-width: 0.5\"/>\n     </g>\n     <g id=\"line2d_40\">\n      <g>\n       <use xlink:href=\"#mbb86453757\" x=\"29.2\" y=\"88.662857\" style=\"stroke: #000000; stroke-width: 0.5\"/>\n      </g>\n     </g>\n     <g id=\"line2d_41\">\n      <g>\n       <use xlink:href=\"#me38a30004a\" x=\"383.44\" y=\"88.662857\" style=\"stroke: #000000; stroke-width: 0.5\"/>\n      </g>\n     </g>\n     <g id=\"text_14\">\n      <!-- 1.0 -->\n      <g transform=\"translate(7.2 92.017607) scale(0.144 -0.144)\">\n       <use xlink:href=\"#STIXGeneral-Regular-31\"/>\n       <use xlink:href=\"#STIXGeneral-Regular-2e\" x=\"49.999985\"/>\n       <use xlink:href=\"#STIXGeneral-Regular-30\" x=\"74.999969\"/>\n      </g>\n     </g>\n    </g>\n    <g id=\"ytick_7\">\n     <g id=\"line2d_42\">\n      <path d=\"M 29.2 51.171429 \nL 383.44 51.171429 \n\" clip-path=\"url(#p3fdfed7d3a)\" style=\"fill: none; stroke-dasharray: 1,3; stroke-dashoffset: 0; stroke: #000000; stroke-width: 0.5\"/>\n     </g>\n     <g id=\"line2d_43\">\n      <g>\n       <use xlink:href=\"#mbb86453757\" x=\"29.2\" y=\"51.171429\" style=\"stroke: #000000; stroke-width: 0.5\"/>\n      </g>\n     </g>\n     <g id=\"line2d_44\">\n      <g>\n       <use xlink:href=\"#me38a30004a\" x=\"383.44\" y=\"51.171429\" style=\"stroke: #000000; stroke-width: 0.5\"/>\n      </g>\n     </g>\n     <g id=\"text_15\">\n      <!-- 1.2 -->\n      <g transform=\"translate(7.2 54.526179) scale(0.144 -0.144)\">\n       <use xlink:href=\"#STIXGeneral-Regular-31\"/>\n       <use xlink:href=\"#STIXGeneral-Regular-2e\" x=\"49.999985\"/>\n       <use xlink:href=\"#STIXGeneral-Regular-32\" x=\"74.999969\"/>\n      </g>\n     </g>\n    </g>\n    <g id=\"ytick_8\">\n     <g id=\"line2d_45\">\n      <path d=\"M 29.2 13.68 \nL 383.44 13.68 \n\" clip-path=\"url(#p3fdfed7d3a)\" style=\"fill: none; stroke-dasharray: 1,3; stroke-dashoffset: 0; stroke: #000000; stroke-width: 0.5\"/>\n     </g>\n     <g id=\"line2d_46\">\n      <g>\n       <use xlink:href=\"#mbb86453757\" x=\"29.2\" y=\"13.68\" style=\"stroke: #000000; stroke-width: 0.5\"/>\n      </g>\n     </g>\n     <g id=\"line2d_47\">\n      <g>\n       <use xlink:href=\"#me38a30004a\" x=\"383.44\" y=\"13.68\" style=\"stroke: #000000; stroke-width: 0.5\"/>\n      </g>\n     </g>\n     <g id=\"text_16\">\n      <!-- 1.4 -->\n      <g transform=\"translate(7.2 17.03475) scale(0.144 -0.144)\">\n       <use xlink:href=\"#STIXGeneral-Regular-31\"/>\n       <use xlink:href=\"#STIXGeneral-Regular-2e\" x=\"49.999985\"/>\n       <use xlink:href=\"#STIXGeneral-Regular-34\" x=\"74.999969\"/>\n      </g>\n     </g>\n    </g>\n   </g>\n   <g id=\"legend_1\">\n    <g id=\"patch_7\">\n     <path d=\"M 312.736 66.0105 \nL 376.24 66.0105 \nL 376.24 20.88 \nL 312.736 20.88 \nz\n\" style=\"fill: #ffffff; stroke: #000000; stroke-linejoin: miter\"/>\n    </g>\n    <g id=\"line2d_48\">\n     <path d=\"M 322.816 31.68 \nL 342.976 31.68 \n\" style=\"fill: none; stroke-dasharray: 6,0; stroke-dashoffset: 0; stroke: #1f77b4; stroke-width: 1.5\"/>\n    </g>\n    <g id=\"text_17\">\n     <!-- $a$ -->\n     <g transform=\"translate(358.816 36.72) scale(0.144 -0.144)\">\n      <defs>\n       <path id=\"STIXGeneral-Italic-61\" d=\"M 2963 710 \nL 3046 640 \nQ 2688 205 2518 70 \nQ 2349 -64 2157 -64 \nQ 1901 -64 1901 198 \nQ 1901 358 2048 934 \nQ 1690 397 1389 163 \nQ 1088 -70 749 -70 \nQ 467 -70 288 125 \nQ 109 320 109 672 \nQ 109 1158 387 1664 \nQ 666 2170 1094 2496 \nQ 1523 2822 1939 2822 \nQ 2368 2822 2451 2451 \nL 2522 2758 \nL 2541 2778 \nL 2931 2822 \nL 2976 2803 \nQ 2970 2778 2938 2669 \nQ 2368 595 2368 346 \nQ 2368 262 2458 262 \nQ 2554 262 2790 525 \nL 2963 710 \nz\nM 2336 2310 \nQ 2336 2477 2240 2579 \nQ 2144 2682 1978 2682 \nQ 1542 2682 1139 2093 \nQ 928 1779 787 1395 \nQ 646 1011 646 717 \nQ 646 243 1030 243 \nQ 1408 243 1843 870 \nQ 2336 1581 2336 2310 \nz\n\" transform=\"scale(0.015625)\"/>\n      </defs>\n      <use xlink:href=\"#STIXGeneral-Italic-61\" transform=\"translate(0 0.90625)\"/>\n     </g>\n    </g>\n    <g id=\"line2d_49\">\n     <path d=\"M 322.816 52.08525 \nL 342.976 52.08525 \n\" style=\"fill: none; stroke-dasharray: 6,2; stroke-dashoffset: 0; stroke: #ff7f0e; stroke-width: 1.5\"/>\n    </g>\n    <g id=\"text_18\">\n     <!-- $a'$ -->\n     <g transform=\"translate(358.816 57.12525) scale(0.144 -0.144)\">\n      <defs>\n       <path id=\"STIXGeneral-Regular-2032\" d=\"M 480 2630 \nL 909 4045 \nQ 934 4141 960 4195 \nQ 986 4250 1043 4294 \nQ 1101 4339 1190 4339 \nQ 1274 4339 1322 4278 \nQ 1370 4218 1370 4128 \nQ 1370 4058 1280 3878 \nL 602 2573 \nL 480 2630 \nz\n\" transform=\"scale(0.015625)\"/>\n      </defs>\n      <use xlink:href=\"#STIXGeneral-Italic-61\" transform=\"translate(0 0.267188)\"/>\n      <use xlink:href=\"#STIXGeneral-Regular-2032\" transform=\"translate(56.273116 35.542188) scale(0.7)\"/>\n     </g>\n    </g>\n   </g>\n  </g>\n </g>\n <defs>\n  <clipPath id=\"p3fdfed7d3a\">\n   <rect x=\"29.2\" y=\"13.68\" width=\"354.24\" height=\"262.44\"/>\n  </clipPath>\n </defs>\n</svg>\n"
          },
          "metadata": {}
        }
      ]
    },
    {
      "cell_type": "code",
      "source": [
        "def params( x, c, r ):\n",
        "\n",
        "    ϕ = x\n",
        "    # c = x[1]\n",
        "    Z = 3\n",
        "    σ = Z * c / ( 2 * np.pi * r )\n",
        "\n",
        "    CL = 1.0\n",
        "    CD = 0.0\n",
        "    k = 1.0\n",
        "\n",
        "    Ca = CL * np.cos(ϕ) + CD * np.sin(ϕ)\n",
        "    Ct = CL * np.sin(ϕ) - CD * np.cos(ϕ)\n",
        "\n",
        "    a  = ( σ * Ca ) / ( 4.0 * k * np.sin(ϕ)**2 + σ * Ca )\n",
        "    ap = ( σ * Ct ) / ( 4.0 * k * np.sin(ϕ)*np.cos(ϕ) - σ * Ct )\n",
        "\n",
        "    return k, a, ap\n",
        "\n",
        "def objective( x, c, r ):\n",
        "    k, a, ap = params( x, c, r )\n",
        "    fO = k * ap * ( 1.0 - a ) * r**3\n",
        "\n",
        "    return -fO\n",
        "\n",
        "def constraint( x, c, r ):\n",
        "    V1a = 2.25\n",
        "    Ω = 15 * np.pi / 30.0\n",
        "    k, a, ap = params( x, c, r )\n",
        "\n",
        "    fC = ( 1.0 + ap ) * ap * ( Ω * r / V1a )**2 - ( 1 - a ) * a\n",
        "\n",
        "    return fC"
      ],
      "metadata": {
        "id": "8RycjRseDVMa"
      },
      "execution_count": 27,
      "outputs": []
    },
    {
      "cell_type": "code",
      "source": [
        "x0 = 0.1\n",
        "\n",
        "ϕ_bound = ( 0.0, np.pi/2.0 )\n",
        "c_bound = ( 0.1, 2.0 )\n",
        "\n",
        "r = 8.0\n",
        "c = 1.\n",
        "bnds = ( ϕ_bound, )\n",
        "# cons = [ { 'type': 'eq', 'fun': lambda x: constraint( x, c, r ) } ]\n",
        "\n",
        "sol = minimize( objective, x0, args=(c,r,), method = 'SLSQP', bounds = bnds )#, constraints = cons )\n",
        "\n",
        "print(sol)"
      ],
      "metadata": {
        "colab": {
          "base_uri": "https://localhost:8080/"
        },
        "id": "BqljqU9dGqPt",
        "outputId": "84b052df-7f56-4cfa-cb4a-2fec44dcf5bc"
      },
      "execution_count": 28,
      "outputs": [
        {
          "output_type": "stream",
          "name": "stdout",
          "text": [
            " message: Optimization terminated successfully\n",
            " success: True\n",
            "  status: 0\n",
            "     fun: -992.1125662979499\n",
            "       x: [ 1.548e+00]\n",
            "     nit: 35\n",
            "     jac: [-1.289e+05]\n",
            "    nfev: 88\n",
            "    njev: 31\n"
          ]
        }
      ]
    },
    {
      "cell_type": "code",
      "source": [
        "sol.x"
      ],
      "metadata": {
        "colab": {
          "base_uri": "https://localhost:8080/"
        },
        "id": "O99qbVXBSOP4",
        "outputId": "a22d5fba-da11-473e-fa82-2646199855eb"
      },
      "execution_count": 30,
      "outputs": [
        {
          "output_type": "execute_result",
          "data": {
            "text/plain": [
              "array([1.54817605])"
            ]
          },
          "metadata": {},
          "execution_count": 30
        }
      ]
    },
    {
      "cell_type": "code",
      "source": [],
      "metadata": {
        "id": "HiXt3dLjVPhL"
      },
      "execution_count": null,
      "outputs": []
    }
  ]
}