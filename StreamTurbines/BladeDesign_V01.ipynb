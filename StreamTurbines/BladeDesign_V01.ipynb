{
  "nbformat": 4,
  "nbformat_minor": 0,
  "metadata": {
    "colab": {
      "provenance": [],
      "authorship_tag": "ABX9TyPUUlSRMdMRmi10xqLGebow",
      "include_colab_link": true
    },
    "kernelspec": {
      "name": "python3",
      "display_name": "Python 3"
    },
    "language_info": {
      "name": "python"
    }
  },
  "cells": [
    {
      "cell_type": "markdown",
      "metadata": {
        "id": "view-in-github",
        "colab_type": "text"
      },
      "source": [
        "<a href=\"https://colab.research.google.com/github/joaochenriques/IST_MCTE/blob/main/StreamTurbines/BladeDesign_V01.ipynb\" target=\"_parent\"><img src=\"https://colab.research.google.com/assets/colab-badge.svg\" alt=\"Open In Colab\"/></a>"
      ]
    },
    {
      "cell_type": "code",
      "execution_count": 1,
      "metadata": {
        "id": "G_ezWxXmDM21"
      },
      "outputs": [],
      "source": [
        "import numpy as np\n",
        "from scipy.optimize import minimize"
      ]
    },
    {
      "cell_type": "code",
      "source": [
        "def params( x, r ):\n",
        "\n",
        "    ϕ = x[0]\n",
        "    c = x[1]\n",
        "    Z = 3\n",
        "    σ = Z * c / ( 2 * np.pi * r )\n",
        "\n",
        "    CL = 1.0\n",
        "    CD = 0.02\n",
        "    k = 1.0\n",
        "\n",
        "    Ca = CL * np.cos(ϕ) + CD * np.sin(ϕ)\n",
        "    Ct = CL * np.sin(ϕ) - CD * np.cos(ϕ)\n",
        "\n",
        "    a  = ( σ * Ca ) / ( 4.0 * k * np.sin(ϕ)**2 + σ * Ca )\n",
        "    ap = ( σ * Ct ) / ( 4.0 * k * np.sin(ϕ)*np.cos(ϕ) - σ * Ct )\n",
        "\n",
        "    return k, a, ap\n",
        "\n",
        "def objective( x, r ):\n",
        "    k, a, ap = params( x, r )\n",
        "    fO = k * ap * ( 1.0 - a ) * r**3\n",
        "\n",
        "    return -fO\n",
        "\n",
        "def constraint( x, r ):\n",
        "    V1a = 2.25\n",
        "    Ω = 15 * np.pi / 30.0\n",
        "    k, a, ap = params( x, r )\n",
        "\n",
        "    fC = ( 1.0 + ap ) * ap * ( Ω * r / V1a )**2 - ( 1 - a ) * a\n",
        "\n",
        "    return fC"
      ],
      "metadata": {
        "id": "8RycjRseDVMa"
      },
      "execution_count": 4,
      "outputs": []
    },
    {
      "cell_type": "code",
      "source": [
        "x0 = ( 0.1, 0.3 )\n",
        "\n",
        "ϕ_bound = ( 0.0, np.pi/2.0 )\n",
        "c_bound = ( 0.1, 2.0 )\n",
        "\n",
        "r = 2.0\n",
        "bnds = ( ϕ_bound, c_bound )\n",
        "cons = [ { 'type': 'eq', 'fun': lambda x: constraint( x, r ) } ]\n",
        "\n",
        "sol = minimize( objective, x0, args=(r,), method = 'SLSQP', bounds = bnds, constraints = cons )\n",
        "\n",
        "print(sol)"
      ],
      "metadata": {
        "colab": {
          "base_uri": "https://localhost:8080/"
        },
        "id": "BqljqU9dGqPt",
        "outputId": "b9f1a0aa-b0d5-4199-f34b-87a24148007d"
      },
      "execution_count": 5,
      "outputs": [
        {
          "output_type": "stream",
          "name": "stdout",
          "text": [
            " message: Optimization terminated successfully\n",
            " success: True\n",
            "  status: 0\n",
            "     fun: 0.0\n",
            "       x: [ 0.000e+00  5.476e-01]\n",
            "     nit: 2\n",
            "     jac: [ 3.636e-06  0.000e+00]\n",
            "    nfev: 6\n",
            "    njev: 2\n"
          ]
        }
      ]
    },
    {
      "cell_type": "code",
      "source": [],
      "metadata": {
        "id": "UYedFjdWHT2L"
      },
      "execution_count": null,
      "outputs": []
    }
  ]
}