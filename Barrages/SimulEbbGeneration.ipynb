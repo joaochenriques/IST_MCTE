{
  "nbformat": 4,
  "nbformat_minor": 0,
  "metadata": {
    "kernelspec": {
      "display_name": "Python 3",
      "language": "python",
      "name": "python3"
    },
    "language_info": {
      "codemirror_mode": {
        "name": "ipython",
        "version": 3
      },
      "file_extension": ".py",
      "mimetype": "text/x-python",
      "name": "python",
      "nbconvert_exporter": "python",
      "pygments_lexer": "ipython3",
      "version": "3.7.6"
    },
    "colab": {
      "name": "SimulEbbGeneration.ipynb",
      "provenance": [],
      "include_colab_link": true
    }
  },
  "cells": [
    {
      "cell_type": "markdown",
      "metadata": {
        "id": "view-in-github",
        "colab_type": "text"
      },
      "source": [
        "<a href=\"https://colab.research.google.com/github/joaochenriques/MCTE_2022/blob/main/Barrages/SimulEbbGeneration.ipynb\" target=\"_parent\"><img src=\"https://colab.research.google.com/assets/colab-badge.svg\" alt=\"Open In Colab\"/></a>"
      ]
    },
    {
      "cell_type": "code",
      "metadata": {
        "id": "y0PSNQCFH9QU"
      },
      "source": [
        "from typing import Callable, List, Tuple\n",
        "from dataclasses import dataclass, field\n",
        "import matplotlib.pyplot as mpl\n",
        "import numpy as np"
      ],
      "execution_count": 1,
      "outputs": []
    },
    {
      "cell_type": "markdown",
      "source": [
        "If running python on Windows operating system, copy the file \n",
        "\n",
        "https://raw.githubusercontent.com/joaochenriques/MCTE_2022/main/libs/mpl_utils.py\n",
        "\n",
        "to the working folder before running the notebook."
      ],
      "metadata": {
        "id": "8houW68cBD2V"
      }
    },
    {
      "cell_type": "code",
      "source": [
        "import pathlib\n",
        "if not pathlib.Path(\"mpl_utils.py\").exists():\n",
        "  !curl -O https://raw.githubusercontent.com/joaochenriques/MCTE_2022/main/libs/mpl_utils.py &> /dev/null\n",
        "\n",
        "import mpl_utils as mut\n",
        "mut.config_plots()\n",
        "mpl.rcParams[\"figure.figsize\"] = (12, 3)\n",
        "%config InlineBackend.figure_formats = ['svg']"
      ],
      "metadata": {
        "id": "rxC8U2wlLbBD"
      },
      "execution_count": 2,
      "outputs": []
    },
    {
      "cell_type": "markdown",
      "source": [
        "# Algebraic models"
      ],
      "metadata": {
        "id": "LEELGW_8wMOx"
      }
    },
    {
      "cell_type": "markdown",
      "metadata": {
        "id": "8tz83DVNJeyp"
      },
      "source": [
        "## Barrage simulator in ebb mode\n",
        "\n",
        "The following models were implemented to simulate the tidal power plant:\n",
        "\n",
        "* The basin\n",
        "* The tide\n",
        "* Hydraulic turbines\n",
        "* Electrical generators\n",
        "* Sluice gates\n",
        "* Power plant controller"
      ]
    },
    {
      "cell_type": "markdown",
      "metadata": {
        "id": "6nPHWWjmqNWx"
      },
      "source": [
        "## Turbine hill map and turbine operating curve\n",
        "\n",
        "<img src=\"https://raw.githubusercontent.com/joaochenriques/MCTE_2022/main/Barrages/TurbineGeneratorMaps/TurbineHill_Plot.svg\" width=\"500px\" style=\"display:inline\">\n",
        "\n",
        "\n",
        "### Turbine mode\n",
        "\n",
        "Turbine dimensionless numbers\n",
        "\n",
        "* Rotational speed $$n_{11}=\\dfrac{\\Omega D}{\\sqrt{gh}}.$$\n",
        "\n",
        "* Flow rate $$Q_{11} = \\dfrac{Q}{D^2\\sqrt{gh}}.$$\n",
        "\n",
        "* Efficiency $$\\eta_\\mathrm{turb} = \\dfrac{P_\\mathrm{turb}}{P_\\mathrm{avail}}.$$\n",
        "\n",
        "\n",
        "The power available to the turbine is given by \n",
        "\n",
        "$$P_\\mathrm{avail} = \\rho g h Q,$$\n",
        "\n",
        "where\n",
        "\n",
        "$$Q = D^2 \\sqrt{gh} \\, Q_{11}\\!\\big( n_{11} \\big).$$\n",
        "\n",
        "The turbine is to be operated at constant rotational speed due to the use of a synchronous generator (see generator class).\n",
        "\n",
        "The available energy is\n",
        "\n",
        "$$\\dfrac{\\text{d} E_\\text{avail}}{\\text{d}t} = P_\\text{avail}.$$\n",
        "\n",
        "The energy harvest by the turbine is\n",
        "\n",
        "$$\\dfrac{\\text{d} E_\\text{turb}}{\\text{d}t}=\\eta_\\text{turb}\\big( n_{11}\\big) \\, P_\\text{avail},$$\n",
        "\n",
        "The mean turbine efficiency is \n",
        "\n",
        "$$\\overline{\\eta_\\text{turb}} = \\dfrac{E_\\text{turb}}{E_\\text{avail}}.$$\n",
        "\n",
        "### Sluicing mode\n",
        "\n",
        "The in sluicing mode the \"turbine\" is modelled as \n",
        "\n",
        "$$Q_\\mathrm{turb}^\\mathrm{sluice} = C_\\mathrm{d} A_\\mathrm{turb} \\sqrt{ 2 g h }$$\n",
        "\n",
        "where $A_\\mathrm{turb}$ is the area corresponding to the turbine rotor diameter.\n",
        "\n"
      ]
    },
    {
      "cell_type": "code",
      "metadata": {
        "id": "AShbPG_eqPVq"
      },
      "source": [
        "@dataclass\n",
        "class TurbineModel:\n",
        "\n",
        "  # flow rate: efficiency: red line of the map \n",
        "  poly_CQ1: np.poly1d = np.poly1d( np.array([0.16928201, 0.08989368]) )\n",
        "\n",
        "  # flow rate: green line of the map\n",
        "  poly_CQ2: np.poly1d = np.poly1d( np.array([-3.63920467e-04,  9.37677378e-03, \n",
        "                                         -9.25873626e-02,  1.75687197e+00]) )\n",
        "\n",
        "  # efficiency: red line of the map\n",
        "  poly_CE1: np.poly1d = np.poly1d( np.array([-0.02076456, 0.20238444, \n",
        "                                              0.48984553]) )\n",
        "  # efficiency: green line of the map\n",
        "  poly_CE2: np.poly1d = np.poly1d( np.array([-2.75685709e-04,  2.04822984e-03,  \n",
        "                                             6.86081825e-04,  7.93083108e-01]) )\n",
        "\n",
        "  # n11 interpolation domain\n",
        "  n11_min: float =  4.38\n",
        "  n11_max: float = 17.17\n",
        "\n",
        "  # other data\n",
        "  ga: float = 9.8         # gravity aceleration\n",
        "  ρw: float = 1025.0      # water density\n",
        "  CD_sluice: float = 1.0  # discharge coefficient in sluice mode\n",
        "\n",
        "  #=============================================================================\n",
        "  def __init__( self, D_turb, Omega ) -> None:\n",
        "\n",
        "    self.Omega = Omega    # we are assuming constant rotational speed model\n",
        "    self.D_turb = D_turb  # turbine rotor diameter\n",
        "    self.A_turb = np.pi*(D_turb/2.0)**2 \n",
        "\n",
        "    # constants used in for computing n11 and QT\n",
        "    self.CT0 = Omega * D_turb / np.sqrt( self.ga )\n",
        "    self.CT1 = D_turb**2 * np.sqrt( self.ga )\n",
        "\n",
        "  def n11_range( self ) -> tuple:\n",
        "    return ( self.n11_min, self.n11_max )\n",
        "\n",
        "  # dimensionless velocity\n",
        "  def n11( self, h: float ) -> float:\n",
        "    # avoid division by zero on h = 0.0\n",
        "    return self.CT0 / np.sqrt( max( h, 1E-3 ) ) \n",
        "\n",
        "  # dimensionless flow rate\n",
        "  def Q11( self, n11: float ) -> float:\n",
        "    assert( n11 >= self.n11_min ), \"n11 small than admissable minimum\"\n",
        "    assert( n11 <= self.n11_max ), \"n11 greater than admissable maximum\"\n",
        "    if n11 < 7.92193:\n",
        "      return self.poly_CQ1( n11 ) \n",
        "    else:\n",
        "      return self.poly_CQ2( n11 )\n",
        "\n",
        "  # efficiency\n",
        "  def eta( self, n11: float ) -> float:\n",
        "    assert( n11 >= self.n11_min ), \"n11 small than admissable minimum\"\n",
        "    assert( n11 <= self.n11_max ), \"n11 greater than admissable maximum\"\n",
        "    if n11 < 7.92193:\n",
        "      return self.poly_CE1( n11 ) * 0.912\n",
        "    else:\n",
        "      return self.poly_CE2( n11 ) * 0.912\n",
        "\n",
        "  # computing operational data\n",
        "  def operating_point( self, h: float ) -> float:\n",
        "    n11 = self.n11( h )\n",
        "    QT = self.CT1 * self.Q11( n11 ) * np.sqrt( h )\n",
        "    PH = self.ρw * self.ga * h * QT\n",
        "    ηT = self.eta( n11 )\n",
        "    return QT, PH, ηT  \n",
        "  \n",
        "  # turbine flow rate in sluice mode\n",
        "  def sluicing( self, h: float ) -> float:\n",
        "    QS = -self.CD_sluice * self.A_turb * np.sqrt( 2.0 * self.ga * max( -h, 0.0 ) )\n",
        "    return QS"
      ],
      "execution_count": 3,
      "outputs": []
    },
    {
      "cell_type": "markdown",
      "metadata": {
        "id": "Ua-NyvCooaRt"
      },
      "source": [
        "## Generator efficiency curve\n",
        "\n",
        "The electrical generator is assumed to be a synchronous machine. The rotational speed is given by\n",
        "\n",
        "$$\\Omega = \\dfrac{2\\pi f}{p}$$\n",
        "\n",
        "where $f$ is the electrical grid frequency and $p$ is the number of pairs of poles.\n",
        "\n",
        "<br />\n",
        "\n",
        "The generator efficiency is computed as a function of the load\n",
        "\n",
        "$$\\Lambda = \\dfrac{P_\\mathrm{turb}}{P_\\mathrm{gen}^\\mathrm{rated}}$$\n",
        "\n",
        "\n",
        "<img src=\"https://raw.githubusercontent.com/joaochenriques/MCTE_2022/main/Barrages/TurbineGeneratorMaps/GeneratorEff_plot.svg\" width=\"400px\" style=\"display:inline\">\n",
        "\n",
        "Electrical power output is\n",
        "\n",
        "$$P_\\mathrm{gen} =\\eta_\\mathrm{gen}(\\Lambda) \\, P_\\mathrm{turb},$$\n",
        "\n",
        "and the converted energy is\n",
        "\n",
        "$$\\dfrac{\\mathrm{d} E_\\mathrm{gen}}{\\mathrm{d} t} = P_\\mathrm{gen}.$$\n",
        "\n",
        "The mean generator efficiency is\n",
        "\n",
        "$$\\overline{\\eta_\\mathrm{gen}}=\\dfrac{E_\\mathrm{gen}}{E_\\mathrm{turb}}.$$\n",
        "\n"
      ]
    },
    {
      "cell_type": "code",
      "metadata": {
        "id": "4eesXVcLBZfw"
      },
      "source": [
        "@dataclass\n",
        "class GeneratorModel:\n",
        "\n",
        "  # red part of the curve\n",
        "  poly_C1: np.poly1d = np.poly1d( np.array([-6.71448631e+03,  2.59159775e+03, \n",
        "                                            -3.80834059e+02,  2.70423225e+01, \n",
        "                                             3.29394948e-03]) )\n",
        "  # green part of the curve\n",
        "  poly_C2: np.poly1d = np.poly1d( np.array([-1.16856952,  3.31172525, \n",
        "                                            -3.44296217,  1.5416029 ,  \n",
        "                                             0.71040716]) )\n",
        "    \n",
        "  #=============================================================================\n",
        "  def __init__( self, Pgen_rated: float ) -> None:\n",
        "    self.Pgen_rated = Pgen_rated\n",
        "\n",
        "  # efficiency as a function of the load\n",
        "  def eta( self, Pturb: float ) -> float:\n",
        "    load = Pturb / self.Pgen_rated\n",
        "\n",
        "    assert( load >= 0.0 ), \"turbine power lower than zero\"\n",
        "    assert( load <= 1.0 ), \"generator rated power to low (%f)\" % Pturb\n",
        "    if load < 0.12542:\n",
        "      return self.poly_C1( load ) \n",
        "    else:\n",
        "      return self.poly_C2( load )"
      ],
      "execution_count": 4,
      "outputs": []
    },
    {
      "cell_type": "markdown",
      "metadata": {
        "id": "7Qkcw2dT9WCa"
      },
      "source": [
        "## Sluice gates\n",
        "\n",
        "The sluice gates are modelled as a turbulent pressure drop\n",
        "\n",
        "$$Q_\\mathrm{sluice} = C_\\mathrm{d} A \\sqrt{ 2 g h }$$\n",
        "\n",
        "typical discharge coefficients for barrage sluice gates are within the range $0.8 \\le C_\\mathrm{d} \\le 1.2$. Here we use $C_\\mathrm{d}=1.0$. "
      ]
    },
    {
      "cell_type": "code",
      "metadata": {
        "id": "U5xkPKiOXGU_"
      },
      "source": [
        "@dataclass\n",
        "class GateModel:\n",
        "  ga: float = 9.8\n",
        "  CD_sluice: float = 1.0\n",
        "\n",
        "  #=============================================================================\n",
        "  def __init__( self, Area: float ) -> None:\n",
        "    self.Area = Area\n",
        "\n",
        "  # flow rate as a function of h\n",
        "  def sluicing( self, h: float ) -> float:\n",
        "    QS = -self.CD_sluice * self.Area * np.sqrt( 2.0 * self.ga * max( -h, 0.0 ) )\n",
        "    return QS"
      ],
      "execution_count": 5,
      "outputs": []
    },
    {
      "cell_type": "markdown",
      "source": [
        "## Tide modelling\n",
        "\n",
        "The tide level is assumed to be a trignometric series\n",
        "\n",
        "$$\\zeta(t) = \\sum_i^n A_i \\cos\\left( \\omega_i t + \\phi_i \\right).$$"
      ],
      "metadata": {
        "id": "Mamlij_fv04q"
      }
    },
    {
      "cell_type": "code",
      "source": [
        "@dataclass\n",
        "class TideModel:\n",
        " \n",
        "  # A_tide, period and φ_tide are vectors to allow simulate multi-component tides\n",
        "  def __init__( self, A_tide: np.array, ω_tide: np.array, φ_tide:np.array ) -> None:\n",
        "      self.A_tide = A_tide\n",
        "      self.ω_tide = ω_tide \n",
        "      self.φ_tide = φ_tide\n",
        "    \n",
        "  # tide level as a function t\n",
        "  def level( self, t: float ) -> float:    \n",
        "      return np.sum( self.A_tide * np.cos( self.ω_tide * t + self.φ_tide ) )"
      ],
      "metadata": {
        "id": "hp3RXBgcvzmm"
      },
      "execution_count": 6,
      "outputs": []
    },
    {
      "cell_type": "markdown",
      "metadata": {
        "id": "tj7lqtYL_NC1"
      },
      "source": [
        "## Basin modelling\n",
        "\n",
        "\n",
        "<img src=\"https://raw.githubusercontent.com/joaochenriques/MCTE_2022/main/Barrages/Figures/BasinShoeBox_MWL.svg\" width=\"300px\" style=\"display:inline\">\n",
        "\n",
        "\n",
        "<br/>\n",
        "\n",
        "\n",
        "The instantaneous basin volume is computed from\n",
        "\n",
        "$$\\dfrac{\\mathrm{d}V}{\\mathrm{d}t}=-Q(t).$$\n",
        "\n",
        "The out flow is denoted as positive.\n",
        "\n",
        "<br />\n",
        "\n",
        "Let $z(t)$ be the water level with respect to the mean water level (MWL) and $A_\\mathrm{basin}(z)$ the basin area as a function of $z(t)$.\n",
        "\n",
        "<br />\n",
        "\n",
        "Knowing that $V=z \\, A_\\mathrm{basin}(z)$, the basin volume change as function of time is computed as\n",
        "\n",
        "$$\n",
        "\\dfrac{\\mathrm{d}V}{\\mathrm{d}t}\n",
        "=\\dfrac{\\mathrm{d}(z \\, A_\\mathrm{basin}(z))}{\\mathrm{d}t}\n",
        "=\\dfrac{\\mathrm{d}z}{\\mathrm{d}t}A_\\mathrm{basin}(z) + z\\,\\dfrac{A_\\mathrm{basin}(z)}{\\mathrm{d}z}\\dfrac{\\mathrm{d}z}{\\mathrm{d}t}\n",
        "= f_\\mathrm{basin}(z)\\dfrac{\\mathrm{d}z}{\\mathrm{d}t}\n",
        "$$\n",
        "\n",
        "where \n",
        "\n",
        "$$f_\\mathrm{basin}(z)=A_\\mathrm{basin}(z) + z\\,\\dfrac{A_\\mathrm{basin}(z)}{\\mathrm{d}z},$$\n",
        "\n",
        "giving\n",
        "\n",
        "$$\\dfrac{\\mathrm{d}z}{\\mathrm{d}t}=-\\frac{Q(t)}{f_\\mathrm{basin}(z)}.$$\n",
        "\n",
        "<br/>\n",
        "\n",
        "Integrating with the Euler method in $\\Delta t$, we get\n",
        "\n",
        "$$z(t+\\Delta t)=z(t) + \\Delta t\\,\\left(-\\frac{Q(t)}{f_\\mathrm{basin}(z(t))}\\right).$$\n"
      ]
    },
    {
      "cell_type": "markdown",
      "metadata": {
        "id": "NivnLxwb0lNb"
      },
      "source": [
        "## Power plant operation model \n",
        "\n",
        "The power plant modelling and control is based in the following finite state machine\n",
        "\n",
        "<img src=\"https://raw.githubusercontent.com/joaochenriques/MCTE_2022/main/Barrages/Figures/BarrageEbbMode.svg\" width=\"700px\" style=\"display:inline\">\n",
        "\n",
        "<img src=\"https://raw.githubusercontent.com/joaochenriques/MCTE_2022/main/Barrages/Figures/EbbOperation_FSM.svg\" width=\"700px\" style=\"display:inline\">"
      ]
    },
    {
      "cell_type": "markdown",
      "source": [
        "# Finite State Machine simulator"
      ],
      "metadata": {
        "id": "whsaeFBnyvsD"
      }
    },
    {
      "cell_type": "code",
      "source": [
        "func_state = Callable[ [ float, float, np.array ], List[ np.array ] ]\n",
        "func_transition = Callable[ [ float, np.array, np.array ], int ]\n",
        "\n",
        "\n",
        "class FSM_simulator:\n",
        "\n",
        "\n",
        "  def __init__( self, simul_time: float, Delta_t: float, n_SS_vars: int, n_SS_outs: int ) -> None:\n",
        "    self.dic_states = {}\n",
        "    self.dic_transitions = {}\n",
        "\n",
        "    self.n_time = int( simul_time / Delta_t) + 1 \n",
        "    self.n_time = self.n_time\n",
        "    self.n_SS_vars = n_SS_vars\n",
        "    self.n_SS_outs = n_SS_outs\n",
        "    \n",
        "    self.time = np.linspace( 0, simul_time, self.n_time )\n",
        "    self.delta_t = self.time[1]\n",
        "\n",
        "    self.SS_vars = np.zeros( (n_SS_vars, self.n_time) )\n",
        "    self.SS_outs = np.zeros( (n_SS_outs, self.n_time) )\n",
        "    self.FSM_states = np.zeros( self.n_time )\n",
        "\n",
        "  def run_simulator( self, FSM_state: int, SS_vars: np.array ) -> Tuple[np.array]:\n",
        "    self.SS_vars[:,0] = SS_vars\n",
        "    self.FSM_states[0] = FSM_state\n",
        "    # outs not available at t=0\n",
        "\n",
        "    for i in range( 1, self.n_time ):\n",
        "      SS_vars, SS_outs = self.__run_state( FSM_state, self.delta_t, self.time[i-1], SS_vars )\n",
        "      FSM_state = self.__test_transitions( FSM_state, self.time[i-1], SS_vars, SS_outs )\n",
        " \n",
        "      self.SS_vars[:,i] = SS_vars\n",
        "      self.SS_outs[:,i] = SS_outs\n",
        "      self.FSM_states[i] = FSM_state\n",
        "\n",
        "    return ( self.time, self.FSM_states, self.SS_vars, self.SS_outs )\n",
        "\n",
        "\n",
        "  def set_state( self, state: int, func: func_state ) -> None:\n",
        "    assert state not in self.dic_states.keys(), \"state already define\"      \n",
        "    self.dic_states[state] = func\n",
        "\n",
        "\n",
        "  def add_transition( self, state: int, func: func_transition ) -> None:\n",
        "    if state not in self.dic_transitions.keys():\n",
        "      self.dic_transitions[state] = [ func ]\n",
        "    else:\n",
        "      self.dic_transitions[state].append( func )\n",
        "\n",
        "\n",
        "  # private member\n",
        "  def __run_state( self, state: int, delta_t: float, t: float, vars: np.array ) -> List[np.array]:\n",
        "    return self.dic_states[ state ]( delta_t, t, vars )\n",
        " \n",
        "\n",
        "  # private member\n",
        "  def __test_transitions( self, state: int, t: float, vars: np.array, outs: np.array ) -> int:\n",
        "    for transition in self.dic_transitions[ state ]:\n",
        "      new_state = transition( t, vars, outs )  \n",
        "      if new_state != state:\n",
        "        return new_state # first transition that changes the state\n",
        "    return state"
      ],
      "metadata": {
        "id": "2eNJGz0Qxqab"
      },
      "execution_count": 7,
      "outputs": []
    },
    {
      "cell_type": "markdown",
      "source": [
        "## Variables used in the simulation\n",
        "\n",
        "$$ \\mathbf{x} = \n",
        "\\begin{pmatrix} z & E_\\mathrm{avail} & E_\\mathrm{turb} & E_\\mathrm{gen} \\end{pmatrix}^\\mathrm{T} $$ \n",
        "\n",
        "## Outputs\n",
        "\n",
        "$$ \\mathbf{y} = \n",
        "\\begin{pmatrix} h & \\zeta & Q_\\mathrm{turb} & Q_\\mathrm{sluice} & \n",
        "P_\\mathrm{avail} & P_\\mathrm{turb} & P_\\mathrm{gen} &\n",
        "\\eta_\\mathrm{turb} & \\eta_\\mathrm{gen} \\end{pmatrix}^\\mathrm{T} $$ "
      ],
      "metadata": {
        "id": "dXv3vxQRy8IS"
      }
    },
    {
      "cell_type": "code",
      "source": [
        "@dataclass\n",
        "class Models:\n",
        "\n",
        "    n_turbs: int = 24\n",
        "    Dturb: float = 6.0 \n",
        "    \n",
        "    grid_freq: float = 50.0\n",
        "    ppoles: int = 32\n",
        "    Pgen_rated: float = 25E6 \n",
        "                  \n",
        "    n_gates: int = 6\n",
        "    Agates: float = 10.0*15.0\n",
        "\n",
        "    #===========================================================================    \n",
        "    # post init variables\n",
        "\n",
        "    # tide components\n",
        "    A: np.array = field(init=False) # amplitudes\n",
        "    ω: np.array = field(init=False) # frequencies (rad/hour => rad/s)\n",
        "    φ: np.array = field(init=False) # phases\n",
        "\n",
        "    Omega: float = field(init=False)\n",
        "    n11_max: float = field(init=False)\n",
        "\n",
        "    turbine: TurbineModel = field(init=False)\n",
        "    generator: GeneratorModel = field(init=False)\n",
        "\n",
        "    gate: GateModel = field(init=False)\n",
        "    tide: TideModel = field(init=False)\n",
        "\n",
        "\n",
        "    def __init__( self, A: np.array, ω: np.array, φ: np.array ) -> None:\n",
        "\n",
        "      self.A = A\n",
        "      self.ω = ω\n",
        "      self.φ = φ\n",
        "\n",
        "      # synchronous rotational speed\n",
        "      self.Omega = 2 * np.pi * self.grid_freq / self.ppoles\n",
        "\n",
        "      self.turbine = TurbineModel( D_turb = self.Dturb, Omega = self.Omega )\n",
        "      self.generator = GeneratorModel( Pgen_rated = self.Pgen_rated )\n",
        "      \n",
        "      _, self.n11_max = self.turbine.n11_range()\n",
        "\n",
        "      self.gate = GateModel( Area = self.Agates )\n",
        "      self.tide = TideModel( self.A, self.ω, self.φ )\n",
        "\n",
        "\n",
        "    ## HELPER FUNCTIONS ########################################################\n",
        "    # minimum turbine head that starts turbine generation \n",
        "    def turbine_starting_head( self, t: float ) -> float:\n",
        "      return 5.0\n",
        "\n",
        "    def basin_func( self, z: float ) -> float:\n",
        "      a = -0.102996E6\n",
        "      b =  1.272972E6\n",
        "      c = 23.31E6\n",
        "      A_basin = a*z**2 + b*z + c\n",
        "      dA_basin_dz = 2*a*z + b\n",
        "      return A_basin + dA_basin_dz * z\n",
        "\n",
        "    \n",
        "    ## STATES ##################################################################\n",
        "    def S1_Generate( self, delta_t: float, t: float, SS_vars: np.array ) -> List[np.array]:\n",
        "\n",
        "      z = SS_vars[0]\n",
        "      ζ = self.tide.level( t )\n",
        "      h = z - ζ\n",
        "\n",
        "      Q_sluice = 0.0\n",
        "      Q_turb, P_avail, η_turb = self.turbine.operating_point( h )\n",
        "      P_turb = η_turb * P_avail\n",
        "\n",
        "      η_gen = self.generator.eta( P_turb )\n",
        "      P_gen  = η_gen * P_turb\n",
        "\n",
        "      q_basin = Q_turb * self.n_turbs / self.basin_func( z )\n",
        "      RHS = np.array( ( -q_basin, P_avail, P_turb, P_gen ) ) \n",
        "\n",
        "      # variables at ( t + delta_t )\n",
        "      SS_vars = SS_vars + delta_t * RHS\n",
        "\n",
        "      #=========================================================================\n",
        "      # outputs at ( t + delta_t )\n",
        "      z = SS_vars[0]\n",
        "      ζ = self.tide.level( t + delta_t )\n",
        "      h = z - ζ\n",
        "\n",
        "      Q_turb, P_avail, η_turb = self.turbine.operating_point( h )\n",
        "      P_turb = η_turb * P_avail\n",
        "\n",
        "      η_gen = self.generator.eta( P_turb )\n",
        "      P_gen  = η_gen * P_turb\n",
        "\n",
        "      SS_outs = np.array( ( h, ζ, Q_turb, Q_sluice, P_avail, P_turb, P_gen, η_turb, η_gen ) )\n",
        "      \n",
        "      return ( SS_vars, SS_outs ) \n",
        "\n",
        "\n",
        "    def SX_Hold( self, delta_t: float, t: float, SS_vars: np.array ) -> List[np.array]:\n",
        "\n",
        "      #=========================================================================\n",
        "      # outputs at ( t + delta_t )\n",
        "      z = SS_vars[0]\n",
        "      ζ = self.tide.level( t + delta_t )\n",
        "      h = z - ζ\n",
        "\n",
        "      Q_turb = Q_sluice = P_avail = P_turb = P_gen = η_turb = η_gen = 0.0\n",
        "\n",
        "      SS_outs = np.array( ( h, ζ, Q_turb, Q_sluice, P_avail, P_turb, P_gen, η_turb, η_gen ) )\n",
        "      \n",
        "      # stats do not change\n",
        "      return ( SS_vars, SS_outs ) \n",
        "\n",
        "\n",
        "    def S3_Fill( self, delta_t: float, t: float , SS_vars: np.array ) -> List[np.array]:\n",
        "\n",
        "      z = SS_vars[0]\n",
        "      ζ = self.tide.level( t )\n",
        "      h = z - ζ\n",
        "\n",
        "      Q_sluice = self.gate.sluicing( h )\n",
        "      Q_turb = self.turbine.sluicing( h )\n",
        "\n",
        "      P_avail = P_turb = P_gen = η_turb = η_gen = 0.0\n",
        "\n",
        "      q_sluice = Q_sluice * self.n_gates\n",
        "      q_turb = Q_turb * self.n_turbs\n",
        "      q_basin = ( q_sluice + q_turb ) / self.basin_func( z )\n",
        "      RHS = np.array( ( -q_basin, 0.0, 0.0, 0.0 ) ) \n",
        "\n",
        "      # variables at ( t + delta_t )\n",
        "      SS_vars = SS_vars + delta_t * RHS\n",
        "\n",
        "      #=========================================================================\n",
        "      # outputs at ( t + delta_t )\n",
        "      z = SS_vars[0]\n",
        "      ζ = self.tide.level( t + delta_t )\n",
        "      h = z - ζ\n",
        "\n",
        "      Q_sluice = self.gate.sluicing( h )\n",
        "      Q_turb = self.turbine.sluicing( h )\n",
        "      SS_outs = np.array( ( h, ζ, Q_turb, Q_sluice, P_avail, P_turb, P_gen, η_turb, η_gen ) )\n",
        "\n",
        "      return ( SS_vars, SS_outs ) \n",
        "\n",
        "\n",
        "    ## TRANSITIONS #############################################################\n",
        "    def T_S0_S1( self, t: float, SS_vars: np.array, SS_outs: np.array ) -> int:\n",
        "      h = SS_outs[0]\n",
        "      h_start = models.turbine_starting_head( t )\n",
        "      return 1 if h > h_start else 0\n",
        "\n",
        "    def T_S1_S2( self, t: float, SS_vars: np.array, SS_outs: np.array ) -> int:\n",
        "      h = SS_outs[0]\n",
        "      n11 = self.turbine.n11( h )\n",
        "      return 2 if n11*1.1 > self.n11_max else 1\n",
        "\n",
        "    def T_S2_S3( self, t: float, SS_vars: np.array, SS_outs: np.array ) -> int:\n",
        "      h = SS_outs[0]\n",
        "      return 3 if h < 0.0 else 2\n",
        "\n",
        "    def T_S3_S4( self, t: float, SS_vars: np.array, SS_outs: np.array ) -> int:\n",
        "      h = SS_outs[0]\n",
        "      return 4 if h > 0.0 else 3\n",
        "\n",
        "    def T_S4_S1( self, t: float, SS_vars: np.array, SS_outs: np.array ) -> int:\n",
        "      h = SS_outs[0]\n",
        "      h_start = models.turbine_starting_head( t )\n",
        "      return 1 if h > h_start else 4"
      ],
      "metadata": {
        "id": "CZKHOqn0y7DC"
      },
      "execution_count": 8,
      "outputs": []
    },
    {
      "cell_type": "code",
      "source": [
        "A = np.array( [ 4.18, 1.13 ] )                # amplitudes\n",
        "ω = np.array( [ 0.5058/3600, 0.5236/3600 ] )  # frequencies (rad/hour => rad/s)\n",
        "φ = np.array( [ -3.019, -3.84 ] )             # phases\n",
        "\n",
        "if len( ω ) == 2:\n",
        "  tide_period = 1.0 / np.abs( np.max( ω[1] ) - np.min( ω[0] ) ) * 2.0*np.pi\n",
        "else:\n",
        "  tide_period = 1.0 / ω[0] * 2.0*np.pi\n",
        "\n",
        "simul_time = 4.0*tide_period\n",
        "delta_t = 100.0\n",
        "\n",
        "z0_basin = 1.0 # initial basin level"
      ],
      "metadata": {
        "id": "7_bHKB0vJBRR"
      },
      "execution_count": 9,
      "outputs": []
    },
    {
      "cell_type": "code",
      "source": [
        "models = Models( A, ω, φ )\n",
        "\n",
        "n_SS_vars = 4\n",
        "n_SS_outs = 9\n",
        "\n",
        "simul = FSM_simulator( simul_time, delta_t, n_SS_vars, n_SS_outs )\n",
        "\n",
        "simul.set_state( 0, models.SX_Hold )\n",
        "simul.set_state( 1, models.S1_Generate )\n",
        "simul.set_state( 2, models.SX_Hold )\n",
        "simul.set_state( 3, models.S3_Fill )\n",
        "simul.set_state( 4, models.SX_Hold )\n",
        "\n",
        "simul.add_transition( 0, models.T_S0_S1 )\n",
        "simul.add_transition( 1, models.T_S1_S2 )\n",
        "simul.add_transition( 2, models.T_S2_S3 )\n",
        "simul.add_transition( 3, models.T_S3_S4 )\n",
        "simul.add_transition( 4, models.T_S4_S1 )"
      ],
      "metadata": {
        "id": "m_op5NGjA3CA",
        "outputId": "7871bcf2-9e30-4fd6-a209-e9d173823a26",
        "colab": {
          "base_uri": "https://localhost:8080/",
          "height": 357
        }
      },
      "execution_count": 11,
      "outputs": [
        {
          "output_type": "error",
          "ename": "NameError",
          "evalue": "ignored",
          "traceback": [
            "\u001b[0;31m---------------------------------------------------------------------------\u001b[0m",
            "\u001b[0;31mNameError\u001b[0m                                 Traceback (most recent call last)",
            "\u001b[0;32m<ipython-input-11-8df0fcdb0a31>\u001b[0m in \u001b[0;36m<module>\u001b[0;34m()\u001b[0m\n\u001b[1;32m      4\u001b[0m \u001b[0mn_SS_outs\u001b[0m \u001b[0;34m=\u001b[0m \u001b[0;36m9\u001b[0m\u001b[0;34m\u001b[0m\u001b[0;34m\u001b[0m\u001b[0m\n\u001b[1;32m      5\u001b[0m \u001b[0;34m\u001b[0m\u001b[0m\n\u001b[0;32m----> 6\u001b[0;31m \u001b[0msimul\u001b[0m \u001b[0;34m=\u001b[0m \u001b[0mFSM_simulator\u001b[0m\u001b[0;34m(\u001b[0m \u001b[0msimul_time\u001b[0m\u001b[0;34m,\u001b[0m \u001b[0mdelta_t\u001b[0m\u001b[0;34m,\u001b[0m \u001b[0mn_SS_vars\u001b[0m\u001b[0;34m,\u001b[0m \u001b[0mn_SS_outs\u001b[0m \u001b[0;34m)\u001b[0m\u001b[0;34m\u001b[0m\u001b[0;34m\u001b[0m\u001b[0m\n\u001b[0m\u001b[1;32m      7\u001b[0m \u001b[0;34m\u001b[0m\u001b[0m\n\u001b[1;32m      8\u001b[0m \u001b[0msimul\u001b[0m\u001b[0;34m.\u001b[0m\u001b[0mset_state\u001b[0m\u001b[0;34m(\u001b[0m \u001b[0;36m0\u001b[0m\u001b[0;34m,\u001b[0m \u001b[0mmodels\u001b[0m\u001b[0;34m.\u001b[0m\u001b[0mSX_Hold\u001b[0m \u001b[0;34m)\u001b[0m\u001b[0;34m\u001b[0m\u001b[0;34m\u001b[0m\u001b[0m\n",
            "\u001b[0;32m<ipython-input-7-57e989c5f1be>\u001b[0m in \u001b[0;36m__init__\u001b[0;34m(self, simul_time, Delta_t, n_SS_vars, n_SS_outs)\u001b[0m\n\u001b[1;32m     18\u001b[0m     \u001b[0mself\u001b[0m\u001b[0;34m.\u001b[0m\u001b[0mdelta_t\u001b[0m \u001b[0;34m=\u001b[0m \u001b[0mself\u001b[0m\u001b[0;34m.\u001b[0m\u001b[0mtime\u001b[0m\u001b[0;34m[\u001b[0m\u001b[0;36m1\u001b[0m\u001b[0;34m]\u001b[0m\u001b[0;34m\u001b[0m\u001b[0;34m\u001b[0m\u001b[0m\n\u001b[1;32m     19\u001b[0m \u001b[0;34m\u001b[0m\u001b[0m\n\u001b[0;32m---> 20\u001b[0;31m     \u001b[0mself\u001b[0m\u001b[0;34m.\u001b[0m\u001b[0mSS_vars\u001b[0m \u001b[0;34m=\u001b[0m \u001b[0mnp\u001b[0m\u001b[0;34m.\u001b[0m\u001b[0mzeros\u001b[0m\u001b[0;34m(\u001b[0m \u001b[0;34m(\u001b[0m\u001b[0mn_stats\u001b[0m\u001b[0;34m,\u001b[0m \u001b[0mself\u001b[0m\u001b[0;34m.\u001b[0m\u001b[0mn_time\u001b[0m\u001b[0;34m)\u001b[0m \u001b[0;34m)\u001b[0m\u001b[0;34m\u001b[0m\u001b[0;34m\u001b[0m\u001b[0m\n\u001b[0m\u001b[1;32m     21\u001b[0m     \u001b[0mself\u001b[0m\u001b[0;34m.\u001b[0m\u001b[0mSS_outs\u001b[0m \u001b[0;34m=\u001b[0m \u001b[0mnp\u001b[0m\u001b[0;34m.\u001b[0m\u001b[0mzeros\u001b[0m\u001b[0;34m(\u001b[0m \u001b[0;34m(\u001b[0m\u001b[0mn_outs\u001b[0m\u001b[0;34m,\u001b[0m \u001b[0mself\u001b[0m\u001b[0;34m.\u001b[0m\u001b[0mn_time\u001b[0m\u001b[0;34m)\u001b[0m \u001b[0;34m)\u001b[0m\u001b[0;34m\u001b[0m\u001b[0;34m\u001b[0m\u001b[0m\n\u001b[1;32m     22\u001b[0m     \u001b[0mself\u001b[0m\u001b[0;34m.\u001b[0m\u001b[0mFSM_states\u001b[0m \u001b[0;34m=\u001b[0m \u001b[0mnp\u001b[0m\u001b[0;34m.\u001b[0m\u001b[0mzeros\u001b[0m\u001b[0;34m(\u001b[0m \u001b[0mself\u001b[0m\u001b[0;34m.\u001b[0m\u001b[0mn_time\u001b[0m \u001b[0;34m)\u001b[0m\u001b[0;34m\u001b[0m\u001b[0;34m\u001b[0m\u001b[0m\n",
            "\u001b[0;31mNameError\u001b[0m: name 'n_stats' is not defined"
          ]
        }
      ]
    },
    {
      "cell_type": "markdown",
      "metadata": {
        "id": "NfYWoxrLS84l"
      },
      "source": [
        "# Simulate the power plant"
      ]
    },
    {
      "cell_type": "code",
      "metadata": {
        "id": "18snnDcZH9Qb"
      },
      "source": [
        "stats = np.array( (z0_basin, 0.0, 0.0, 0.0) )\n",
        "\n",
        "time_vec, FSM_states_vec, SS_vars, SS_outs = simul.run_simulator( 0, stats )\n",
        "\n",
        "#=================================\n",
        "z_vec       = SS_vars[0]\n",
        "E_avail_vec = SS_vars[1]\n",
        "E_turb_vec  = SS_vars[2]\n",
        "E_gen_vec   = SS_vars[3]\n",
        "\n",
        "#=================================\n",
        "h_vec = SS_outs[0]\n",
        "ζ_vec = SS_outs[1]\n",
        "\n",
        "Q_turb_vec   = SS_outs[2]\n",
        "Q_sluice_vec = SS_outs[3]\n",
        "\n",
        "P_avail_vec = SS_outs[4]\n",
        "P_turb_vec  = SS_outs[5]\n",
        "P_gen_vec   = SS_outs[6]\n",
        "η_turb_vec  = SS_outs[7]\n",
        "η_gen_vec   = SS_outs[8]"
      ],
      "execution_count": null,
      "outputs": []
    },
    {
      "cell_type": "code",
      "source": [
        "hours_vec = time_vec / 3600.0\n",
        "period_hours = tide_period / 3600.0\n",
        "\n",
        "# Number of points of each period. Required to make the mean of last period\n",
        "pp = int( tide_period / delta_t )\n",
        "\n",
        "P_turb_max = np.max( P_turb_vec )\n",
        "P_turb_mean = np.mean( P_turb_vec[-pp:] )\n",
        "P_gen_mean = np.mean( P_gen_vec[-pp:] )\n",
        "C_fac = P_gen_mean / models.generator.Pgen_rated\n",
        "\n",
        "print( \"Max instantaneous power per turbine = %.2f MW\" % (P_turb_max/1E6) ) \n",
        "print()\n",
        "print( \"Mean turbine power    = %.2f MW\" % (P_turb_mean*models.n_turbs/1E6) ) \n",
        "print( \"Mean electrical power = %.2f MW\" % (P_gen_mean*models.n_turbs/1E6) ) \n",
        "print()\n",
        "print( \"Capacity factor = %.2f\" % C_fac )"
      ],
      "metadata": {
        "id": "mvzpKZSKuZTy"
      },
      "execution_count": null,
      "outputs": []
    },
    {
      "cell_type": "code",
      "metadata": {
        "id": "VmlbEm_JF7Q5"
      },
      "source": [
        "mpl.plot( hours_vec, h_vec, label='Tide level [m]', dashes=(9,1) )\n",
        "mpl.plot( hours_vec, z_vec, label='Basin level [m]', dashes=(7,1,1,1) )\n",
        "mpl.plot( hours_vec, FSM_states_vec, label='State $S_i$ [-]' )\n",
        "mpl.xlim( 3*period_hours, 4*period_hours )\n",
        "mpl.xlabel( 'time [hours]' )\n",
        "mpl.legend(loc='lower left')\n",
        "mpl.grid();"
      ],
      "execution_count": null,
      "outputs": []
    },
    {
      "cell_type": "code",
      "metadata": {
        "id": "I4Fzw0p-02U-"
      },
      "source": [
        "mpl.plot( hours_vec, P_turb_vec/1E6, label='Power per turbine [MW]'  )\n",
        "mpl.plot( hours_vec, P_gen_vec/1E6, label='Power per generator [MW]', dashes=(9,1) )\n",
        "mpl.xlim( 3*period_hours, 4*period_hours )\n",
        "mpl.xlabel( 'time [hours]' )\n",
        "mpl.legend(loc='lower left')\n",
        "mpl.grid();"
      ],
      "execution_count": null,
      "outputs": []
    },
    {
      "cell_type": "code",
      "metadata": {
        "id": "PplgqSUMN_Sm"
      },
      "source": [
        "mpl.plot( hours_vec, Q_turb_vec, label='Flow rate per turbine [m$^3$/s]' )\n",
        "mpl.plot( hours_vec, Q_sluice_vec, label='Flow rate per sluice gate [m$^3$/s]', dashes=(9,1) )\n",
        "mpl.xlim( 3*period_hours, 4*period_hours )\n",
        "mpl.xlabel( 'time [hours]' )\n",
        "mpl.legend(loc='lower left')\n",
        "mpl.grid();"
      ],
      "execution_count": null,
      "outputs": []
    },
    {
      "cell_type": "code",
      "metadata": {
        "id": "iUcjVSLJODQE"
      },
      "source": [
        "mpl.plot( hours_vec, η_turb_vec, label='$\\eta_\\mathrm{turb}$' )\n",
        "mpl.plot( hours_vec, η_gen_vec, label='$\\eta_\\mathrm{gen}$', dashes=(9,1) )\n",
        "mpl.plot( hours_vec, η_turb_vec*η_gen_vec, label='$\\eta_\\mathrm{turb}\\,\\eta_\\mathrm{gen}$', dashes=(7,1,1,1) )\n",
        "mpl.xlim( 3*period_hours, 4*period_hours )\n",
        "mpl.xlabel( 'time [hours]' )\n",
        "mpl.legend(loc='lower left')\n",
        "mpl.gca().set_yticks(np.arange( 0, 1.01, 0.1) )\n",
        "mpl.grid();"
      ],
      "execution_count": null,
      "outputs": []
    },
    {
      "cell_type": "code",
      "metadata": {
        "id": "-WRkXkCWLNEz"
      },
      "source": [
        "if len( ω ) == 2:\n",
        "  X1 = A[0]\n",
        "  X2 = A[1]\n",
        "  ωm = ω[0] - ω[1]\n",
        "  φm = φ[0] - φ[1]\n",
        "  ev = np.sqrt(X1**2 + X2**2 + 2*X1*X2*np.cos( ωm*time_vec + φm ) )\n",
        "\n",
        "  mpl.plot( hours_vec, ζ_vec, label=\"tide level\" )\n",
        "  mpl.plot( hours_vec, ev, 'r-', lw=2, label=\"envelop\" )\n",
        "  #mpl.xlim( 3*period_hours, 4*period_hours )\n",
        "  mpl.xlabel( 'time [hours]' )\n",
        "  mpl.legend(loc='lower left');\n",
        "else:\n",
        "  print( \"No envelop to plot\" );"
      ],
      "execution_count": null,
      "outputs": []
    },
    {
      "cell_type": "code",
      "source": [
        ""
      ],
      "metadata": {
        "id": "KJ_8lKtiSDvI"
      },
      "execution_count": null,
      "outputs": []
    }
  ]
}