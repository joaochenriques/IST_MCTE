{
  "nbformat": 4,
  "nbformat_minor": 0,
  "metadata": {
    "kernelspec": {
      "display_name": "Python 3",
      "language": "python",
      "name": "python3"
    },
    "language_info": {
      "codemirror_mode": {
        "name": "ipython",
        "version": 3
      },
      "file_extension": ".py",
      "mimetype": "text/x-python",
      "name": "python",
      "nbconvert_exporter": "python",
      "pygments_lexer": "ipython3",
      "version": "3.7.6"
    },
    "colab": {
      "name": "Barrage_ebb_FSM2_SensitivityAnalysis.ipynb",
      "provenance": [],
      "include_colab_link": true
    }
  },
  "cells": [
    {
      "cell_type": "markdown",
      "metadata": {
        "id": "view-in-github",
        "colab_type": "text"
      },
      "source": [
        "<a href=\"https://colab.research.google.com/github/joaochenriques/MCTE_2021/blob/main/BarrageExamples/Barrage_ebb_FSM2_SensitivityAnalysis.ipynb\" target=\"_parent\"><img src=\"https://colab.research.google.com/assets/colab-badge.svg\" alt=\"Open In Colab\"/></a>"
      ]
    },
    {
      "cell_type": "code",
      "metadata": {
        "id": "y0PSNQCFH9QU"
      },
      "source": [
        "import matplotlib.pyplot as mpl\n",
        "import numpy as np"
      ],
      "execution_count": 1,
      "outputs": []
    },
    {
      "cell_type": "code",
      "metadata": {
        "id": "Vwc2EpKvzDwk"
      },
      "source": [
        "%config InlineBackend.figure_formats = ['svg']\n",
        "mpl.rcParams[\"figure.figsize\"] = (12, 3)\n",
        "#np.warnings.filterwarnings('error', category=np.VisibleDeprecationWarning) "
      ],
      "execution_count": 2,
      "outputs": []
    },
    {
      "cell_type": "markdown",
      "metadata": {
        "id": "8tz83DVNJeyp"
      },
      "source": [
        "# Barrage simulator in ebb mode\n",
        "\n",
        "The following models were implemented to simulate the tidal power plant:\n",
        "\n",
        "* The basin\n",
        "* The tide\n",
        "* Hydraulic turbines\n",
        "* Electrical generators\n",
        "* Sluice gates\n",
        "* Power plant controller"
      ]
    },
    {
      "cell_type": "markdown",
      "metadata": {
        "id": "6nPHWWjmqNWx"
      },
      "source": [
        "# Turbine hill map and turbine operating curve\n",
        "\n",
        "## Turbine mode\n",
        "\n",
        "Turbine dimensionless numbers\n",
        "\n",
        "* Rotational speed $$n_{11}=\\dfrac{\\Omega D}{\\sqrt{gh}}$$\n",
        "\n",
        "* Flow rate $$Q_{11} = \\dfrac{Q}{D^2\\sqrt{gh}}$$\n",
        "\n",
        "* Efficiency $$\\eta_\\mathrm{turb} = \\dfrac{P_\\mathrm{turb}}{P_\\mathrm{hydro}}$$\n",
        "\n",
        "  where $P_\\mathrm{hydro} = \\rho g h Q$\n",
        "\n",
        "<img src=\"https://raw.githubusercontent.com/joaochenriques/MCTE_2020_2021/main/Barrages_Turbine_Generator_Maps/TurbineHill_Plot.svg\" width=\"500px\" style=\"display:inline\">\n",
        "\n",
        "The turbine is to be operated at constant rotational speed due to the use of a synchronous generator (see generator class).\n",
        "\n",
        "## Sluicing mode\n",
        "\n",
        "The in sluicing mode the \"turbine\" is modelled as \n",
        "\n",
        "$$Q_\\mathrm{turb}^\\mathrm{sluice} = C_\\mathrm{d} A_\\mathrm{turb} \\sqrt{ 2 g h }$$\n",
        "\n",
        "where $A_\\mathrm{turb}$ is the area corresponding to the turbine rotor diameter"
      ]
    },
    {
      "cell_type": "code",
      "metadata": {
        "id": "AShbPG_eqPVq"
      },
      "source": [
        "class TurbineModel:\n",
        "\n",
        "  def __init__( self, D_turb, Omega ):\n",
        "    # red line of the map\n",
        "    self.poly_CQ1 = np.poly1d( np.array([0.16928201, 0.08989368]) )\n",
        "    # green line of the map\n",
        "    self.poly_CQ2 = np.poly1d( np.array([-3.63920467e-04,  9.37677378e-03, \n",
        "                                         -9.25873626e-02,  1.75687197e+00]) )\n",
        "\n",
        "    # red line of the map\n",
        "    self.poly_CE1 = np.poly1d( np.array([-0.02076456, 0.20238444, 0.48984553]) )\n",
        "    # green line of the map\n",
        "    self.poly_CE2 = np.poly1d( np.array([-2.75685709e-04,  2.04822984e-03,  \n",
        "                                         6.86081825e-04,  7.93083108e-01]) )\n",
        "\n",
        "    # n11 interpolation domain\n",
        "    self.n11_min = 4.38\n",
        "    self.n11_max = 17.17\n",
        "\n",
        "    # other data\n",
        "    self.ga = 9.8         # gravity aceleration\n",
        "    self.ρw = 1025.0      # water density\n",
        "    self.CD_sluice = 1.0  # discharge coefficient in sluice mode\n",
        "\n",
        "    self.Omega = Omega    # we are assuming constant rotational speed model\n",
        "    self.D_turb = D_turb  # turbine rotor diameter\n",
        "    self.A_turb = np.pi*(D_turb/2.0)**2 \n",
        "\n",
        "    # constants used in for computing n11 and QT\n",
        "    self.CT0 = Omega * D_turb / np.sqrt( self.ga )\n",
        "    self.CT1 = D_turb**2 * np.sqrt( self.ga )\n",
        "\n",
        "  def n11_range( self ):\n",
        "    return self.n11_min, self.n11_max\n",
        "\n",
        "  # dimensionless velocity\n",
        "  def n11( self, h ):\n",
        "    # avoid division by zero on h=0.0\n",
        "    return self.CT0 / np.sqrt( max( h, 1E-3 ) ) \n",
        "\n",
        "  # dimensionless flow rate\n",
        "  def Q11( self, n11 ):\n",
        "    assert( n11 >= self.n11_min ), \"n11 small than admissable minimum\"\n",
        "    assert( n11 <= self.n11_max ), \"n11 greater than admissable maximum\"\n",
        "    if n11 < 7.92193:\n",
        "      return self.poly_CQ1( n11 ) \n",
        "    else:\n",
        "      return self.poly_CQ2( n11 )\n",
        "\n",
        "  # efficiency\n",
        "  def eta( self, n11 ):\n",
        "    assert( n11 >= self.n11_min ), \"n11 small than admissable minimum\"\n",
        "    assert( n11 <= self.n11_max ), \"n11 greater than admissable maximum\"\n",
        "    if n11 < 7.92193:\n",
        "      return self.poly_CE1( n11 ) * 0.912\n",
        "    else:\n",
        "      return self.poly_CE2( n11 ) * 0.912\n",
        "\n",
        "  # computing operational data\n",
        "  def operating_point( self, h ):\n",
        "    n11 = self.n11( h )\n",
        "    QT = self.CT1 * self.Q11( n11 ) * np.sqrt( h )\n",
        "    PH = self.ρw * self.ga * h * QT\n",
        "    ηT = self.eta( n11 )\n",
        "    return QT, PH, ηT  \n",
        "  \n",
        "  # turbine flow rate in sluice mode\n",
        "  def sluicing( self, h ):\n",
        "    QS = -self.CD_sluice * self.A_turb * np.sqrt( 2.0 * self.ga * max( -h, 0.0 ) )\n",
        "    return QS"
      ],
      "execution_count": 3,
      "outputs": []
    },
    {
      "cell_type": "markdown",
      "metadata": {
        "id": "Ua-NyvCooaRt"
      },
      "source": [
        "## Generator efficiency curve\n",
        "\n",
        "The electrical generator is assumed to be a synchronous machine. The rotational speed is given by\n",
        "\n",
        "$$\\Omega = \\dfrac{2\\pi f}{p}$$\n",
        "\n",
        "where $f$ is the electrical grid frequency and $p$ is the number of pairs of poles.\n",
        "\n",
        "The generator efficiency is computed as a function of the load\n",
        "\n",
        "$$\\Lambda = \\dfrac{P_\\mathrm{turb}}{P_\\mathrm{gen}^\\mathrm{rated}}$$\n",
        "\n",
        "\n",
        "<img src=\"https://raw.githubusercontent.com/joaochenriques/MCTE_2020_2021/main/Barrages_Turbine_Generator_Maps/GeneratorEff_plot.svg\" width=\"400px\" style=\"display:inline\">\n"
      ]
    },
    {
      "cell_type": "code",
      "metadata": {
        "id": "4eesXVcLBZfw"
      },
      "source": [
        "class GeneratorModel:\n",
        "\n",
        "  def __init__( self, Pgen_rated ):\n",
        "    self.Pgen_rated = Pgen_rated\n",
        "\n",
        "    # red part of the curve\n",
        "    self.poly_C1 = np.poly1d( np.array([-6.71448631e+03,  2.59159775e+03, \n",
        "                                        -3.80834059e+02,  2.70423225e+01, \n",
        "                                        3.29394948e-03]) )\n",
        "    # green part of the curve\n",
        "    self.poly_C2 = np.poly1d( np.array([-1.16856952,  3.31172525, -3.44296217,  \n",
        "                                        1.5416029 ,  0.71040716]) )\n",
        "      \n",
        "  # efficiency as a function of the load\n",
        "  def eta( self, Pturb ):\n",
        "    load = Pturb / self.Pgen_rated\n",
        "    assert( load >= 0.0 ), \"turbine power lower than zero\"\n",
        "    assert( load <= 1.0 ), \"generator rated power to low (%f)\" % Pturb\n",
        "    if load < 0.12542:\n",
        "      return self.poly_C1( load ) \n",
        "    else:\n",
        "      return self.poly_C2( load )"
      ],
      "execution_count": 4,
      "outputs": []
    },
    {
      "cell_type": "markdown",
      "metadata": {
        "id": "7Qkcw2dT9WCa"
      },
      "source": [
        "## Sluice gates\n",
        "\n",
        "The sluice gates are modelled as a turbulent pressure drop\n",
        "\n",
        "$$Q_\\mathrm{sluice} = C_\\mathrm{d} A \\sqrt{ 2 g h }$$\n",
        "\n",
        "typical discharge coefficients for barrage sluice gates are within the range $0.8 \\le C_\\mathrm{d} \\le 1.2$. Here we use $C_\\mathrm{d}=1.0$. "
      ]
    },
    {
      "cell_type": "code",
      "metadata": {
        "id": "U5xkPKiOXGU_"
      },
      "source": [
        "class GateModel:\n",
        "\n",
        "  def __init__( self, Area ):\n",
        "    self.ga = 9.8\n",
        "    self.Area = Area\n",
        "    self.CD_sluice = 1.0\n",
        "\n",
        "  # flow rate as a function of h\n",
        "  def sluicing( self, h ):\n",
        "    QS = -self.CD_sluice * self.Area * np.sqrt( 2.0 * self.ga * max( -h, 0.0 ) )\n",
        "    return QS"
      ],
      "execution_count": 5,
      "outputs": []
    },
    {
      "cell_type": "markdown",
      "metadata": {
        "id": "tj7lqtYL_NC1"
      },
      "source": [
        "## Basin modelling\n",
        "\n",
        "The basin is modelled as a \"shoe box\". The out flow is denoted as positive.\n",
        "\n",
        "The instantaneous basin volume is computed from\n",
        "\n",
        "$$\\dfrac{\\mathrm{d}V}{\\mathrm{d}t}=-Q.$$\n",
        "\n",
        "The integrating with the Euler method we get\n",
        "\n",
        "$$V(t+\\Delta t)=V(t)-\\Delta t\\,Q.$$\n",
        "\n",
        "The instantaneous basin level is given by\n",
        "\n",
        "$$h = \\dfrac{V}{A_\\mathrm{basin}},$$\n",
        "\n",
        "where $A_\\mathrm{basin}$ is the basin area.\n",
        "\n",
        "<img src=\"https://raw.githubusercontent.com/joaochenriques/MCTE_2020_2021/main/BarrageExamples/Figures/BasinShoeBox.svg\" width=\"300px\" style=\"display:inline\">\n",
        "\n"
      ]
    },
    {
      "cell_type": "code",
      "metadata": {
        "id": "i9r0kiD4D2KP"
      },
      "source": [
        "class BasinModel:\n",
        "\n",
        "  def __init__( self, A_basin, h0_basin ):\n",
        "    self.A_basin = A_basin        # Basin area\n",
        "    self.V0 = A_basin * h0_basin  # initial basin level\n",
        "    self.V = None\n",
        "\n",
        "  # set initial condition\n",
        "  def start( self ):\n",
        "    self.V = self.V0\n",
        "    return self.level()\n",
        "\n",
        "  # compute volume \n",
        "  def integrate( self, delta_t, Q ):\n",
        "    self.V = self.V - delta_t * Q\n",
        "    return self.level()\n",
        "\n",
        "  # water level in the base \n",
        "  def level( self ):\n",
        "      return self.V / self.A_basin"
      ],
      "execution_count": 6,
      "outputs": []
    },
    {
      "cell_type": "markdown",
      "metadata": {
        "id": "hp-B8fMfG80s"
      },
      "source": [
        "## Tide modelling\n",
        "\n",
        "The tide level is assumed to be a trignometric series\n",
        "\n",
        "$$z(t) = \\sum_i^n \\zeta_i \\cos\\left( \\omega_i t + \\phi_i \\right).$$"
      ]
    },
    {
      "cell_type": "code",
      "metadata": {
        "id": "N3tqN9T5x5O_"
      },
      "source": [
        "class TideModel:\n",
        " \n",
        "  #  ζ_tide, period and φ_tide are vector to allow simulate \n",
        "  # multi-component tides\n",
        "  def __init__( self, ζ_tide, ω_tide, φ_tide ):\n",
        "      self.ζ_tide = ζ_tide\n",
        "      self.ω_tide = ω_tide \n",
        "      self.φ_tide = φ_tide\n",
        "    \n",
        "  # tide level as a function t\n",
        "  def level( self, t ):    \n",
        "      return np.sum( self.ζ_tide * np.cos( self.ω_tide * t + self.φ_tide ) )"
      ],
      "execution_count": 7,
      "outputs": []
    },
    {
      "cell_type": "markdown",
      "metadata": {
        "id": "NivnLxwb0lNb"
      },
      "source": [
        "## Power plant operation model \n",
        "\n",
        "The power plant modelling and control is based in the following finite state machine\n",
        "\n",
        "<img src=\"https://raw.githubusercontent.com/joaochenriques/MCTE_2020_2021/main/BarrageExamples/Figures/BarrageEbbMode.svg\" width=\"700px\" style=\"display:inline\">\n",
        "\n",
        "<img src=\"https://raw.githubusercontent.com/joaochenriques/MCTE_2020_2021/main/BarrageExamples/Figures/EbbOperation_FSM.svg\" width=\"700px\" style=\"display:inline\">"
      ]
    },
    {
      "cell_type": "code",
      "metadata": {
        "id": "ijXuuVpj6eOR"
      },
      "source": [
        "class EbbOperations_FSM:\n",
        "\n",
        "  #===================================================\n",
        "  def __init__( self ):\n",
        "    self.transitions = [ self.__transition_0_1, \n",
        "                         self.__transition_1_2,\n",
        "                         self.__transition_2_3,\n",
        "                         self.__transition_3_4,\n",
        "                         self.__transition_4_1 ]\n",
        "\n",
        "    self.states = [ self.__run_state_hold,\n",
        "                    self.__run_state_generate,\n",
        "                    self.__run_state_hold,\n",
        "                    self.__run_state_fill,\n",
        "                    self.__run_state_hold ]         \n",
        "\n",
        "    self.cur_state = 0\n",
        "\n",
        "  #== TRANSITIONS ====================================\n",
        "  def __transition_0_1( self, h, h_start, n11, n11_max ):\n",
        "    if h > h_start:\n",
        "      self.cur_state = 1\n",
        "\n",
        "  def __transition_1_2( self, h, h_start, n11, n11_max ):\n",
        "    if n11 > n11_max:\n",
        "      self.cur_state = 2\n",
        "\n",
        "  def __transition_2_3( self, h, h_start, n11, n11_max ):\n",
        "    if h < 0.0:\n",
        "      self.cur_state = 3\n",
        "\n",
        "  def __transition_3_4( self, h, h_start, n11, n11_max ):\n",
        "    if h > 0.0:\n",
        "      self.cur_state = 4\n",
        "\n",
        "  def __transition_4_1( self, h, h_start, n11, n11_max ):\n",
        "    if h > h_start:\n",
        "      self.cur_state = 1\n",
        "\n",
        "  #== STATES =========================================\n",
        "  def __run_state_hold( self, h, _ ):\n",
        "    QS = QT = PH = ηT = ηG = 0\n",
        "    return QS, QT, PH, ηT, ηG\n",
        "\n",
        "  def __run_state_generate( self, h, models ):\n",
        "    QS = 0.0\n",
        "    QT, PH, ηT = models.turbine.operating_point( h )\n",
        "    ηG = models.generator.eta( ηT * PH )\n",
        "    return QS, QT, PH, ηT, ηG\n",
        "\n",
        "  def __run_state_fill( self, h, models ):\n",
        "    QS = models.gate.sluicing( h )\n",
        "    QT = models.turbine.sluicing( h )\n",
        "    PH = ηT = ηG = 0.0\n",
        "    return QS, QT, PH, ηT, ηG\n",
        "\n",
        "  #== RUN FSM ========================================\n",
        "  def transition( self, h, h_min, n11, n11_max ):\n",
        "    self.transitions[ self.cur_state ]( h, h_min, n11, n11_max )\n",
        "    return self.cur_state\n",
        "\n",
        "  def run_state( self, h, models ):\n",
        "    return self.states[ self.cur_state ]( h, models )\n",
        "\n",
        "  #== RUN POWER PLANT MODEL ==========================\n",
        "  def run_model( self, delta_t, t_final, models ):\n",
        "\n",
        "\n",
        "    #==============================================\n",
        "    t = delta_t                    # time step\n",
        "    n = int( t_final / delta_t )   # number of time steps\n",
        "\n",
        "    #==============================================\n",
        "    # store computed time series\n",
        "    time_vec = np.zeros( n )  # time \n",
        "    tide_vec = np.zeros( n )  # tide level\n",
        "\n",
        "    s_vec  = np.zeros( n )    # control stages\n",
        "    h_vec  = np.zeros( n )    # water height level\n",
        "    z_vec  = np.zeros( n )    # basin level\n",
        "    QS_vec = np.zeros( n )    # sluice gates + turbine flow rate on sluicing\n",
        "    QT_vec = np.zeros( n )    # turbine flow rate\n",
        "    PH_vec = np.zeros( n )    # hydraulic power\n",
        "    ηT_vec = np.zeros( n )    # turbine efficiency\n",
        "    ηG_vec = np.zeros( n )    # generator efficiency\n",
        "\n",
        "    #==============================================\n",
        "    n11_min, n11_max = models.turbine.n11_range()\n",
        "    z = models.basin.start()\n",
        "    ζ = models.tide.level( 0.0 )\n",
        "    h = z - ζ\n",
        "    \n",
        "    #==============================================\n",
        "    tide_vec[0] = ζ\n",
        "    h_vec[0] = h\n",
        "    z_vec[0] = z\n",
        "\n",
        "    #==============================================\n",
        "    for i in range( 1, n ):\n",
        "\n",
        "      t = i * delta_t\n",
        "\n",
        "      # select state\n",
        "      h_start = models.turbine_starting_head.head( t )\n",
        "      n11 = models.turbine.n11( h )\n",
        "      state = self.transition( h, h_start, n11, n11_max )\n",
        "\n",
        "      # compute state\n",
        "      QS, QT, PH, ηT, ηG = self.run_state( h, models )\n",
        "\n",
        "      # new basin condition as a function of flow rate (turbines+sluice gates) \n",
        "      z = models.basin.integrate( delta_t, models.n_turbs*QT + models.n_gates*QS )\n",
        "      ζ = models.tide.level( t )\n",
        "      h = z - ζ\n",
        "\n",
        "      #==========================================\n",
        "      # store data for post-processing\n",
        "      time_vec[i] = t\n",
        "      tide_vec[i] = ζ\n",
        "\n",
        "      s_vec[i]  = state\n",
        "      h_vec[i]  = h\n",
        "      z_vec[i]  = z\n",
        "      QS_vec[i] = QS\n",
        "      QT_vec[i] = QT\n",
        "      PH_vec[i] = PH\n",
        "      ηT_vec[i] = ηT\n",
        "      ηG_vec[i] = ηG\n",
        "  \n",
        "    return time_vec, tide_vec, s_vec, h_vec, z_vec, QS_vec, \\\n",
        "            QT_vec, PH_vec, ηT_vec, ηG_vec"
      ],
      "execution_count": 8,
      "outputs": []
    },
    {
      "cell_type": "markdown",
      "metadata": {
        "id": "HxRUzRnLSjHI"
      },
      "source": [
        "# Instantiate all the components in one class "
      ]
    },
    {
      "cell_type": "code",
      "metadata": {
        "id": "L36Q5BAgSe9G"
      },
      "source": [
        "class Models:\n",
        "\n",
        "    def __init__( self, A_basin, h0_basin,\n",
        "                  n_turbs, Dturb, \n",
        "                  grid_freq, ppoles, Pgen_rated, \n",
        "                  n_gates, Agates,\n",
        "                  ζ_tide, ω_tide, φ_tide,\n",
        "                  turbine_starting_head ):\n",
        "\n",
        "      # synchronous rotational speed\n",
        "      Omega = 2 * np.pi * grid_freq / ppoles\n",
        "\n",
        "      self.n_turbs = n_turbs # number of turbines\n",
        "      self.n_gates = n_gates  # number of sluice gates\n",
        "\n",
        "      self.turbine = TurbineModel( D_turb = Dturb, Omega = Omega )\n",
        "      self.generator = GeneratorModel( Pgen_rated = Pgen_rated )\n",
        "      \n",
        "      self.gate = GateModel( Area = Agates )\n",
        "      self.tide = TideModel( ζ_tide, ω_tide, φ_tide )\n",
        "      self.basin = BasinModel( A_basin, h0_basin )\n",
        "\n",
        "      self.turbine_starting_head = turbine_starting_head"
      ],
      "execution_count": 9,
      "outputs": []
    },
    {
      "cell_type": "markdown",
      "metadata": {
        "id": "9wXcfzUiTr4v"
      },
      "source": [
        "# Configuration parameters"
      ]
    },
    {
      "cell_type": "code",
      "metadata": {
        "id": "T5Lqmwl-Tox9"
      },
      "source": [
        "# minimum head to start the turbine as a function of time\n",
        "class TurbineStartingHead:\n",
        "  def head( self, t ):\n",
        "    return 5.0\n",
        "  \n",
        "# tide components\n",
        "ζ = np.array( [ 4.18, 1.13 ] )                # amplitudes\n",
        "ω = np.array( [ 0.5058/3600, 0.5236/3600 ] )  # frequencies (rad/hour => rad/s)\n",
        "φ = np.array( [ -3.019, -3.84 ] )             # phases"
      ],
      "execution_count": 10,
      "outputs": []
    },
    {
      "cell_type": "markdown",
      "metadata": {
        "id": "NfYWoxrLS84l"
      },
      "source": [
        "# Simulate the power plant"
      ]
    },
    {
      "cell_type": "code",
      "metadata": {
        "id": "18snnDcZH9Qb"
      },
      "source": [
        "def SensitivityAnalysis_Dturb( Dturb_lst ):\n",
        "\n",
        "    simulator = EbbOperations_FSM()\n",
        "\n",
        "    n = len( Dturb_lst )\n",
        "    PG_max_array = np.zeros( n )\n",
        "    PG_avg_array = np.zeros( n )\n",
        "    C_fac_array = np.zeros( n )\n",
        "\n",
        "    for i in range( n ):\n",
        "\n",
        "        models = Models( A_basin = 22E6, h0_basin = 1.0,\n",
        "                        n_turbs = 24, Dturb = Dturb_lst[i], \n",
        "                        grid_freq = 50.0, ppoles = 32, Pgen_rated = 35E6, \n",
        "                        n_gates = 6, Agates = 10.0*15.0,\n",
        "                        ζ_tide = ζ, ω_tide = ω, φ_tide = φ,\n",
        "                        turbine_starting_head = TurbineStartingHead() )\n",
        "\n",
        "        if len( ω ) == 2:\n",
        "          tide_period = 1.0 / ( np.max( ω[1] ) - np.min( ω[0] ) ) * 2.0*np.pi\n",
        "        else:\n",
        "          tide_period = 1.0 / ω[0] * 2.0*np.pi\n",
        "\n",
        "        simul_time = 4.0*tide_period\n",
        "        delta_t = 400.0\n",
        "\n",
        "        time_vec, tide_vec, s_vec, h_vec, z_vec, QS_vec, QT_vec, PH_vec, \\\n",
        "          ηT_vec, ηG_vec = simulator.run_model( delta_t, simul_time, models )\n",
        "\n",
        "        # number of points of each period\n",
        "        # required to make the mean of only last period\n",
        "        pp = int( tide_period / delta_t )        \n",
        "        \n",
        "        PH_vec /= 1E6 # convert to MW\n",
        "        PG_vec = PH_vec * ηT_vec * ηG_vec\n",
        "\n",
        "        PG_max_array[i] = np.max( PG_vec )\n",
        "        PG_avg_array[i] = np.mean( PG_vec[-pp:] )\n",
        "        C_fac_array[i] = PG_avg_array[i] / models.generator.Pgen_rated\n",
        "\n",
        "        del models\n",
        "\n",
        "    return PG_max_array, PG_avg_array, C_fac_array"
      ],
      "execution_count": 11,
      "outputs": []
    },
    {
      "cell_type": "code",
      "metadata": {
        "id": "VmlbEm_JF7Q5"
      },
      "source": [
        "Dturb_lst = np.arange( 4.5, 10, 0.2 )\n",
        "PG_max_array, PG_avg_array, C_fac_array = SensitivityAnalysis_Dturb( Dturb_lst )"
      ],
      "execution_count": 12,
      "outputs": []
    },
    {
      "cell_type": "code",
      "metadata": {
        "id": "I4Fzw0p-02U-",
        "colab": {
          "base_uri": "https://localhost:8080/",
          "height": 279
        },
        "outputId": "ed9ab577-f6b1-4270-b0fb-ed3aa5502ddc"
      },
      "source": [
        "mpl.plot( Dturb_lst, PG_avg_array, 'o-' );\n",
        "mpl.grid()"
      ],
      "execution_count": 14,
      "outputs": [
        {
          "output_type": "display_data",
          "data": {
            "text/plain": [
              "<Figure size 864x216 with 1 Axes>"
            ],
            "image/svg+xml": "<?xml version=\"1.0\" encoding=\"utf-8\" standalone=\"no\"?>\n<!DOCTYPE svg PUBLIC \"-//W3C//DTD SVG 1.1//EN\"\n  \"http://www.w3.org/Graphics/SVG/1.1/DTD/svg11.dtd\">\n<!-- Created with matplotlib (https://matplotlib.org/) -->\n<svg height=\"194.158125pt\" version=\"1.1\" viewBox=\"0 0 706.903125 194.158125\" width=\"706.903125pt\" xmlns=\"http://www.w3.org/2000/svg\" xmlns:xlink=\"http://www.w3.org/1999/xlink\">\n <defs>\n  <style type=\"text/css\">\n*{stroke-linecap:butt;stroke-linejoin:round;}\n  </style>\n </defs>\n <g id=\"figure_1\">\n  <g id=\"patch_1\">\n   <path d=\"M 0 194.158125 \nL 706.903125 194.158125 \nL 706.903125 0 \nL 0 0 \nz\n\" style=\"fill:none;\"/>\n  </g>\n  <g id=\"axes_1\">\n   <g id=\"patch_2\">\n    <path d=\"M 30.103125 170.28 \nL 699.703125 170.28 \nL 699.703125 7.2 \nL 30.103125 7.2 \nz\n\" style=\"fill:#ffffff;\"/>\n   </g>\n   <g id=\"matplotlib.axis_1\">\n    <g id=\"xtick_1\">\n     <g id=\"line2d_1\">\n      <path clip-path=\"url(#pd068885ddb)\" d=\"M 116.903125 170.28 \nL 116.903125 7.2 \n\" style=\"fill:none;stroke:#b0b0b0;stroke-linecap:square;stroke-width:0.8;\"/>\n     </g>\n     <g id=\"line2d_2\">\n      <defs>\n       <path d=\"M 0 0 \nL 0 3.5 \n\" id=\"ma7fc071dc4\" style=\"stroke:#000000;stroke-width:0.8;\"/>\n      </defs>\n      <g>\n       <use style=\"stroke:#000000;stroke-width:0.8;\" x=\"116.903125\" xlink:href=\"#ma7fc071dc4\" y=\"170.28\"/>\n      </g>\n     </g>\n     <g id=\"text_1\">\n      <!-- 5 -->\n      <defs>\n       <path d=\"M 10.796875 72.90625 \nL 49.515625 72.90625 \nL 49.515625 64.59375 \nL 19.828125 64.59375 \nL 19.828125 46.734375 \nQ 21.96875 47.46875 24.109375 47.828125 \nQ 26.265625 48.1875 28.421875 48.1875 \nQ 40.625 48.1875 47.75 41.5 \nQ 54.890625 34.8125 54.890625 23.390625 \nQ 54.890625 11.625 47.5625 5.09375 \nQ 40.234375 -1.421875 26.90625 -1.421875 \nQ 22.3125 -1.421875 17.546875 -0.640625 \nQ 12.796875 0.140625 7.71875 1.703125 \nL 7.71875 11.625 \nQ 12.109375 9.234375 16.796875 8.0625 \nQ 21.484375 6.890625 26.703125 6.890625 \nQ 35.15625 6.890625 40.078125 11.328125 \nQ 45.015625 15.765625 45.015625 23.390625 \nQ 45.015625 31 40.078125 35.4375 \nQ 35.15625 39.890625 26.703125 39.890625 \nQ 22.75 39.890625 18.8125 39.015625 \nQ 14.890625 38.140625 10.796875 36.28125 \nz\n\" id=\"DejaVuSans-53\"/>\n      </defs>\n      <g transform=\"translate(113.721875 184.878438)scale(0.1 -0.1)\">\n       <use xlink:href=\"#DejaVuSans-53\"/>\n      </g>\n     </g>\n    </g>\n    <g id=\"xtick_2\">\n     <g id=\"line2d_3\">\n      <path clip-path=\"url(#pd068885ddb)\" d=\"M 229.630398 170.28 \nL 229.630398 7.2 \n\" style=\"fill:none;stroke:#b0b0b0;stroke-linecap:square;stroke-width:0.8;\"/>\n     </g>\n     <g id=\"line2d_4\">\n      <g>\n       <use style=\"stroke:#000000;stroke-width:0.8;\" x=\"229.630398\" xlink:href=\"#ma7fc071dc4\" y=\"170.28\"/>\n      </g>\n     </g>\n     <g id=\"text_2\">\n      <!-- 6 -->\n      <defs>\n       <path d=\"M 33.015625 40.375 \nQ 26.375 40.375 22.484375 35.828125 \nQ 18.609375 31.296875 18.609375 23.390625 \nQ 18.609375 15.53125 22.484375 10.953125 \nQ 26.375 6.390625 33.015625 6.390625 \nQ 39.65625 6.390625 43.53125 10.953125 \nQ 47.40625 15.53125 47.40625 23.390625 \nQ 47.40625 31.296875 43.53125 35.828125 \nQ 39.65625 40.375 33.015625 40.375 \nz\nM 52.59375 71.296875 \nL 52.59375 62.3125 \nQ 48.875 64.0625 45.09375 64.984375 \nQ 41.3125 65.921875 37.59375 65.921875 \nQ 27.828125 65.921875 22.671875 59.328125 \nQ 17.53125 52.734375 16.796875 39.40625 \nQ 19.671875 43.65625 24.015625 45.921875 \nQ 28.375 48.1875 33.59375 48.1875 \nQ 44.578125 48.1875 50.953125 41.515625 \nQ 57.328125 34.859375 57.328125 23.390625 \nQ 57.328125 12.15625 50.6875 5.359375 \nQ 44.046875 -1.421875 33.015625 -1.421875 \nQ 20.359375 -1.421875 13.671875 8.265625 \nQ 6.984375 17.96875 6.984375 36.375 \nQ 6.984375 53.65625 15.1875 63.9375 \nQ 23.390625 74.21875 37.203125 74.21875 \nQ 40.921875 74.21875 44.703125 73.484375 \nQ 48.484375 72.75 52.59375 71.296875 \nz\n\" id=\"DejaVuSans-54\"/>\n      </defs>\n      <g transform=\"translate(226.449148 184.878438)scale(0.1 -0.1)\">\n       <use xlink:href=\"#DejaVuSans-54\"/>\n      </g>\n     </g>\n    </g>\n    <g id=\"xtick_3\">\n     <g id=\"line2d_5\">\n      <path clip-path=\"url(#pd068885ddb)\" d=\"M 342.35767 170.28 \nL 342.35767 7.2 \n\" style=\"fill:none;stroke:#b0b0b0;stroke-linecap:square;stroke-width:0.8;\"/>\n     </g>\n     <g id=\"line2d_6\">\n      <g>\n       <use style=\"stroke:#000000;stroke-width:0.8;\" x=\"342.35767\" xlink:href=\"#ma7fc071dc4\" y=\"170.28\"/>\n      </g>\n     </g>\n     <g id=\"text_3\">\n      <!-- 7 -->\n      <defs>\n       <path d=\"M 8.203125 72.90625 \nL 55.078125 72.90625 \nL 55.078125 68.703125 \nL 28.609375 0 \nL 18.3125 0 \nL 43.21875 64.59375 \nL 8.203125 64.59375 \nz\n\" id=\"DejaVuSans-55\"/>\n      </defs>\n      <g transform=\"translate(339.17642 184.878438)scale(0.1 -0.1)\">\n       <use xlink:href=\"#DejaVuSans-55\"/>\n      </g>\n     </g>\n    </g>\n    <g id=\"xtick_4\">\n     <g id=\"line2d_7\">\n      <path clip-path=\"url(#pd068885ddb)\" d=\"M 455.084943 170.28 \nL 455.084943 7.2 \n\" style=\"fill:none;stroke:#b0b0b0;stroke-linecap:square;stroke-width:0.8;\"/>\n     </g>\n     <g id=\"line2d_8\">\n      <g>\n       <use style=\"stroke:#000000;stroke-width:0.8;\" x=\"455.084943\" xlink:href=\"#ma7fc071dc4\" y=\"170.28\"/>\n      </g>\n     </g>\n     <g id=\"text_4\">\n      <!-- 8 -->\n      <defs>\n       <path d=\"M 31.78125 34.625 \nQ 24.75 34.625 20.71875 30.859375 \nQ 16.703125 27.09375 16.703125 20.515625 \nQ 16.703125 13.921875 20.71875 10.15625 \nQ 24.75 6.390625 31.78125 6.390625 \nQ 38.8125 6.390625 42.859375 10.171875 \nQ 46.921875 13.96875 46.921875 20.515625 \nQ 46.921875 27.09375 42.890625 30.859375 \nQ 38.875 34.625 31.78125 34.625 \nz\nM 21.921875 38.8125 \nQ 15.578125 40.375 12.03125 44.71875 \nQ 8.5 49.078125 8.5 55.328125 \nQ 8.5 64.0625 14.71875 69.140625 \nQ 20.953125 74.21875 31.78125 74.21875 \nQ 42.671875 74.21875 48.875 69.140625 \nQ 55.078125 64.0625 55.078125 55.328125 \nQ 55.078125 49.078125 51.53125 44.71875 \nQ 48 40.375 41.703125 38.8125 \nQ 48.828125 37.15625 52.796875 32.3125 \nQ 56.78125 27.484375 56.78125 20.515625 \nQ 56.78125 9.90625 50.3125 4.234375 \nQ 43.84375 -1.421875 31.78125 -1.421875 \nQ 19.734375 -1.421875 13.25 4.234375 \nQ 6.78125 9.90625 6.78125 20.515625 \nQ 6.78125 27.484375 10.78125 32.3125 \nQ 14.796875 37.15625 21.921875 38.8125 \nz\nM 18.3125 54.390625 \nQ 18.3125 48.734375 21.84375 45.5625 \nQ 25.390625 42.390625 31.78125 42.390625 \nQ 38.140625 42.390625 41.71875 45.5625 \nQ 45.3125 48.734375 45.3125 54.390625 \nQ 45.3125 60.0625 41.71875 63.234375 \nQ 38.140625 66.40625 31.78125 66.40625 \nQ 25.390625 66.40625 21.84375 63.234375 \nQ 18.3125 60.0625 18.3125 54.390625 \nz\n\" id=\"DejaVuSans-56\"/>\n      </defs>\n      <g transform=\"translate(451.903693 184.878438)scale(0.1 -0.1)\">\n       <use xlink:href=\"#DejaVuSans-56\"/>\n      </g>\n     </g>\n    </g>\n    <g id=\"xtick_5\">\n     <g id=\"line2d_9\">\n      <path clip-path=\"url(#pd068885ddb)\" d=\"M 567.812216 170.28 \nL 567.812216 7.2 \n\" style=\"fill:none;stroke:#b0b0b0;stroke-linecap:square;stroke-width:0.8;\"/>\n     </g>\n     <g id=\"line2d_10\">\n      <g>\n       <use style=\"stroke:#000000;stroke-width:0.8;\" x=\"567.812216\" xlink:href=\"#ma7fc071dc4\" y=\"170.28\"/>\n      </g>\n     </g>\n     <g id=\"text_5\">\n      <!-- 9 -->\n      <defs>\n       <path d=\"M 10.984375 1.515625 \nL 10.984375 10.5 \nQ 14.703125 8.734375 18.5 7.8125 \nQ 22.3125 6.890625 25.984375 6.890625 \nQ 35.75 6.890625 40.890625 13.453125 \nQ 46.046875 20.015625 46.78125 33.40625 \nQ 43.953125 29.203125 39.59375 26.953125 \nQ 35.25 24.703125 29.984375 24.703125 \nQ 19.046875 24.703125 12.671875 31.3125 \nQ 6.296875 37.9375 6.296875 49.421875 \nQ 6.296875 60.640625 12.9375 67.421875 \nQ 19.578125 74.21875 30.609375 74.21875 \nQ 43.265625 74.21875 49.921875 64.515625 \nQ 56.59375 54.828125 56.59375 36.375 \nQ 56.59375 19.140625 48.40625 8.859375 \nQ 40.234375 -1.421875 26.421875 -1.421875 \nQ 22.703125 -1.421875 18.890625 -0.6875 \nQ 15.09375 0.046875 10.984375 1.515625 \nz\nM 30.609375 32.421875 \nQ 37.25 32.421875 41.125 36.953125 \nQ 45.015625 41.5 45.015625 49.421875 \nQ 45.015625 57.28125 41.125 61.84375 \nQ 37.25 66.40625 30.609375 66.40625 \nQ 23.96875 66.40625 20.09375 61.84375 \nQ 16.21875 57.28125 16.21875 49.421875 \nQ 16.21875 41.5 20.09375 36.953125 \nQ 23.96875 32.421875 30.609375 32.421875 \nz\n\" id=\"DejaVuSans-57\"/>\n      </defs>\n      <g transform=\"translate(564.630966 184.878438)scale(0.1 -0.1)\">\n       <use xlink:href=\"#DejaVuSans-57\"/>\n      </g>\n     </g>\n    </g>\n    <g id=\"xtick_6\">\n     <g id=\"line2d_11\">\n      <path clip-path=\"url(#pd068885ddb)\" d=\"M 680.539489 170.28 \nL 680.539489 7.2 \n\" style=\"fill:none;stroke:#b0b0b0;stroke-linecap:square;stroke-width:0.8;\"/>\n     </g>\n     <g id=\"line2d_12\">\n      <g>\n       <use style=\"stroke:#000000;stroke-width:0.8;\" x=\"680.539489\" xlink:href=\"#ma7fc071dc4\" y=\"170.28\"/>\n      </g>\n     </g>\n     <g id=\"text_6\">\n      <!-- 10 -->\n      <defs>\n       <path d=\"M 12.40625 8.296875 \nL 28.515625 8.296875 \nL 28.515625 63.921875 \nL 10.984375 60.40625 \nL 10.984375 69.390625 \nL 28.421875 72.90625 \nL 38.28125 72.90625 \nL 38.28125 8.296875 \nL 54.390625 8.296875 \nL 54.390625 0 \nL 12.40625 0 \nz\n\" id=\"DejaVuSans-49\"/>\n       <path d=\"M 31.78125 66.40625 \nQ 24.171875 66.40625 20.328125 58.90625 \nQ 16.5 51.421875 16.5 36.375 \nQ 16.5 21.390625 20.328125 13.890625 \nQ 24.171875 6.390625 31.78125 6.390625 \nQ 39.453125 6.390625 43.28125 13.890625 \nQ 47.125 21.390625 47.125 36.375 \nQ 47.125 51.421875 43.28125 58.90625 \nQ 39.453125 66.40625 31.78125 66.40625 \nz\nM 31.78125 74.21875 \nQ 44.046875 74.21875 50.515625 64.515625 \nQ 56.984375 54.828125 56.984375 36.375 \nQ 56.984375 17.96875 50.515625 8.265625 \nQ 44.046875 -1.421875 31.78125 -1.421875 \nQ 19.53125 -1.421875 13.0625 8.265625 \nQ 6.59375 17.96875 6.59375 36.375 \nQ 6.59375 54.828125 13.0625 64.515625 \nQ 19.53125 74.21875 31.78125 74.21875 \nz\n\" id=\"DejaVuSans-48\"/>\n      </defs>\n      <g transform=\"translate(674.176989 184.878438)scale(0.1 -0.1)\">\n       <use xlink:href=\"#DejaVuSans-49\"/>\n       <use x=\"63.623047\" xlink:href=\"#DejaVuSans-48\"/>\n      </g>\n     </g>\n    </g>\n   </g>\n   <g id=\"matplotlib.axis_2\">\n    <g id=\"ytick_1\">\n     <g id=\"line2d_13\">\n      <path clip-path=\"url(#pd068885ddb)\" d=\"M 30.103125 141.192296 \nL 699.703125 141.192296 \n\" style=\"fill:none;stroke:#b0b0b0;stroke-linecap:square;stroke-width:0.8;\"/>\n     </g>\n     <g id=\"line2d_14\">\n      <defs>\n       <path d=\"M 0 0 \nL -3.5 0 \n\" id=\"m561e1f03fe\" style=\"stroke:#000000;stroke-width:0.8;\"/>\n      </defs>\n      <g>\n       <use style=\"stroke:#000000;stroke-width:0.8;\" x=\"30.103125\" xlink:href=\"#m561e1f03fe\" y=\"141.192296\"/>\n      </g>\n     </g>\n     <g id=\"text_7\">\n      <!-- 1.5 -->\n      <defs>\n       <path d=\"M 10.6875 12.40625 \nL 21 12.40625 \nL 21 0 \nL 10.6875 0 \nz\n\" id=\"DejaVuSans-46\"/>\n      </defs>\n      <g transform=\"translate(7.2 144.991514)scale(0.1 -0.1)\">\n       <use xlink:href=\"#DejaVuSans-49\"/>\n       <use x=\"63.623047\" xlink:href=\"#DejaVuSans-46\"/>\n       <use x=\"95.410156\" xlink:href=\"#DejaVuSans-53\"/>\n      </g>\n     </g>\n    </g>\n    <g id=\"ytick_2\">\n     <g id=\"line2d_15\">\n      <path clip-path=\"url(#pd068885ddb)\" d=\"M 30.103125 109.806566 \nL 699.703125 109.806566 \n\" style=\"fill:none;stroke:#b0b0b0;stroke-linecap:square;stroke-width:0.8;\"/>\n     </g>\n     <g id=\"line2d_16\">\n      <g>\n       <use style=\"stroke:#000000;stroke-width:0.8;\" x=\"30.103125\" xlink:href=\"#m561e1f03fe\" y=\"109.806566\"/>\n      </g>\n     </g>\n     <g id=\"text_8\">\n      <!-- 2.0 -->\n      <defs>\n       <path d=\"M 19.1875 8.296875 \nL 53.609375 8.296875 \nL 53.609375 0 \nL 7.328125 0 \nL 7.328125 8.296875 \nQ 12.9375 14.109375 22.625 23.890625 \nQ 32.328125 33.6875 34.8125 36.53125 \nQ 39.546875 41.84375 41.421875 45.53125 \nQ 43.3125 49.21875 43.3125 52.78125 \nQ 43.3125 58.59375 39.234375 62.25 \nQ 35.15625 65.921875 28.609375 65.921875 \nQ 23.96875 65.921875 18.8125 64.3125 \nQ 13.671875 62.703125 7.8125 59.421875 \nL 7.8125 69.390625 \nQ 13.765625 71.78125 18.9375 73 \nQ 24.125 74.21875 28.421875 74.21875 \nQ 39.75 74.21875 46.484375 68.546875 \nQ 53.21875 62.890625 53.21875 53.421875 \nQ 53.21875 48.921875 51.53125 44.890625 \nQ 49.859375 40.875 45.40625 35.40625 \nQ 44.1875 33.984375 37.640625 27.21875 \nQ 31.109375 20.453125 19.1875 8.296875 \nz\n\" id=\"DejaVuSans-50\"/>\n      </defs>\n      <g transform=\"translate(7.2 113.605785)scale(0.1 -0.1)\">\n       <use xlink:href=\"#DejaVuSans-50\"/>\n       <use x=\"63.623047\" xlink:href=\"#DejaVuSans-46\"/>\n       <use x=\"95.410156\" xlink:href=\"#DejaVuSans-48\"/>\n      </g>\n     </g>\n    </g>\n    <g id=\"ytick_3\">\n     <g id=\"line2d_17\">\n      <path clip-path=\"url(#pd068885ddb)\" d=\"M 30.103125 78.420837 \nL 699.703125 78.420837 \n\" style=\"fill:none;stroke:#b0b0b0;stroke-linecap:square;stroke-width:0.8;\"/>\n     </g>\n     <g id=\"line2d_18\">\n      <g>\n       <use style=\"stroke:#000000;stroke-width:0.8;\" x=\"30.103125\" xlink:href=\"#m561e1f03fe\" y=\"78.420837\"/>\n      </g>\n     </g>\n     <g id=\"text_9\">\n      <!-- 2.5 -->\n      <g transform=\"translate(7.2 82.220056)scale(0.1 -0.1)\">\n       <use xlink:href=\"#DejaVuSans-50\"/>\n       <use x=\"63.623047\" xlink:href=\"#DejaVuSans-46\"/>\n       <use x=\"95.410156\" xlink:href=\"#DejaVuSans-53\"/>\n      </g>\n     </g>\n    </g>\n    <g id=\"ytick_4\">\n     <g id=\"line2d_19\">\n      <path clip-path=\"url(#pd068885ddb)\" d=\"M 30.103125 47.035107 \nL 699.703125 47.035107 \n\" style=\"fill:none;stroke:#b0b0b0;stroke-linecap:square;stroke-width:0.8;\"/>\n     </g>\n     <g id=\"line2d_20\">\n      <g>\n       <use style=\"stroke:#000000;stroke-width:0.8;\" x=\"30.103125\" xlink:href=\"#m561e1f03fe\" y=\"47.035107\"/>\n      </g>\n     </g>\n     <g id=\"text_10\">\n      <!-- 3.0 -->\n      <defs>\n       <path d=\"M 40.578125 39.3125 \nQ 47.65625 37.796875 51.625 33 \nQ 55.609375 28.21875 55.609375 21.1875 \nQ 55.609375 10.40625 48.1875 4.484375 \nQ 40.765625 -1.421875 27.09375 -1.421875 \nQ 22.515625 -1.421875 17.65625 -0.515625 \nQ 12.796875 0.390625 7.625 2.203125 \nL 7.625 11.71875 \nQ 11.71875 9.328125 16.59375 8.109375 \nQ 21.484375 6.890625 26.8125 6.890625 \nQ 36.078125 6.890625 40.9375 10.546875 \nQ 45.796875 14.203125 45.796875 21.1875 \nQ 45.796875 27.640625 41.28125 31.265625 \nQ 36.765625 34.90625 28.71875 34.90625 \nL 20.21875 34.90625 \nL 20.21875 43.015625 \nL 29.109375 43.015625 \nQ 36.375 43.015625 40.234375 45.921875 \nQ 44.09375 48.828125 44.09375 54.296875 \nQ 44.09375 59.90625 40.109375 62.90625 \nQ 36.140625 65.921875 28.71875 65.921875 \nQ 24.65625 65.921875 20.015625 65.03125 \nQ 15.375 64.15625 9.8125 62.3125 \nL 9.8125 71.09375 \nQ 15.4375 72.65625 20.34375 73.4375 \nQ 25.25 74.21875 29.59375 74.21875 \nQ 40.828125 74.21875 47.359375 69.109375 \nQ 53.90625 64.015625 53.90625 55.328125 \nQ 53.90625 49.265625 50.4375 45.09375 \nQ 46.96875 40.921875 40.578125 39.3125 \nz\n\" id=\"DejaVuSans-51\"/>\n      </defs>\n      <g transform=\"translate(7.2 50.834326)scale(0.1 -0.1)\">\n       <use xlink:href=\"#DejaVuSans-51\"/>\n       <use x=\"63.623047\" xlink:href=\"#DejaVuSans-46\"/>\n       <use x=\"95.410156\" xlink:href=\"#DejaVuSans-48\"/>\n      </g>\n     </g>\n    </g>\n    <g id=\"ytick_5\">\n     <g id=\"line2d_21\">\n      <path clip-path=\"url(#pd068885ddb)\" d=\"M 30.103125 15.649378 \nL 699.703125 15.649378 \n\" style=\"fill:none;stroke:#b0b0b0;stroke-linecap:square;stroke-width:0.8;\"/>\n     </g>\n     <g id=\"line2d_22\">\n      <g>\n       <use style=\"stroke:#000000;stroke-width:0.8;\" x=\"30.103125\" xlink:href=\"#m561e1f03fe\" y=\"15.649378\"/>\n      </g>\n     </g>\n     <g id=\"text_11\">\n      <!-- 3.5 -->\n      <g transform=\"translate(7.2 19.448597)scale(0.1 -0.1)\">\n       <use xlink:href=\"#DejaVuSans-51\"/>\n       <use x=\"63.623047\" xlink:href=\"#DejaVuSans-46\"/>\n       <use x=\"95.410156\" xlink:href=\"#DejaVuSans-53\"/>\n      </g>\n     </g>\n    </g>\n   </g>\n   <g id=\"line2d_23\">\n    <path clip-path=\"url(#pd068885ddb)\" d=\"M 60.539489 54.681532 \nL 83.084943 41.897263 \nL 105.630398 31.245553 \nL 128.175852 22.990705 \nL 150.721307 17.534393 \nL 173.266761 14.691826 \nL 195.812216 14.612727 \nL 218.35767 15.277095 \nL 240.903125 16.345664 \nL 263.44858 17.511344 \nL 285.994034 18.194226 \nL 308.539489 20.200517 \nL 331.084943 23.273218 \nL 353.630398 27.500008 \nL 376.175852 32.332365 \nL 398.721307 38.575149 \nL 421.266761 45.582561 \nL 443.812216 54.840054 \nL 466.35767 64.346762 \nL 488.903125 73.650019 \nL 511.44858 83.351543 \nL 533.994034 94.778523 \nL 556.539489 106.491521 \nL 579.084943 117.702942 \nL 601.630398 130.111617 \nL 624.175852 140.885675 \nL 646.721307 152.036275 \nL 669.266761 162.867273 \n\" style=\"fill:none;stroke:#1f77b4;stroke-linecap:square;stroke-width:1.5;\"/>\n    <defs>\n     <path d=\"M 0 3 \nC 0.795609 3 1.55874 2.683901 2.12132 2.12132 \nC 2.683901 1.55874 3 0.795609 3 0 \nC 3 -0.795609 2.683901 -1.55874 2.12132 -2.12132 \nC 1.55874 -2.683901 0.795609 -3 0 -3 \nC -0.795609 -3 -1.55874 -2.683901 -2.12132 -2.12132 \nC -2.683901 -1.55874 -3 -0.795609 -3 0 \nC -3 0.795609 -2.683901 1.55874 -2.12132 2.12132 \nC -1.55874 2.683901 -0.795609 3 0 3 \nz\n\" id=\"mb73fc0674d\" style=\"stroke:#1f77b4;\"/>\n    </defs>\n    <g clip-path=\"url(#pd068885ddb)\">\n     <use style=\"fill:#1f77b4;stroke:#1f77b4;\" x=\"60.539489\" xlink:href=\"#mb73fc0674d\" y=\"54.681532\"/>\n     <use style=\"fill:#1f77b4;stroke:#1f77b4;\" x=\"83.084943\" xlink:href=\"#mb73fc0674d\" y=\"41.897263\"/>\n     <use style=\"fill:#1f77b4;stroke:#1f77b4;\" x=\"105.630398\" xlink:href=\"#mb73fc0674d\" y=\"31.245553\"/>\n     <use style=\"fill:#1f77b4;stroke:#1f77b4;\" x=\"128.175852\" xlink:href=\"#mb73fc0674d\" y=\"22.990705\"/>\n     <use style=\"fill:#1f77b4;stroke:#1f77b4;\" x=\"150.721307\" xlink:href=\"#mb73fc0674d\" y=\"17.534393\"/>\n     <use style=\"fill:#1f77b4;stroke:#1f77b4;\" x=\"173.266761\" xlink:href=\"#mb73fc0674d\" y=\"14.691826\"/>\n     <use style=\"fill:#1f77b4;stroke:#1f77b4;\" x=\"195.812216\" xlink:href=\"#mb73fc0674d\" y=\"14.612727\"/>\n     <use style=\"fill:#1f77b4;stroke:#1f77b4;\" x=\"218.35767\" xlink:href=\"#mb73fc0674d\" y=\"15.277095\"/>\n     <use style=\"fill:#1f77b4;stroke:#1f77b4;\" x=\"240.903125\" xlink:href=\"#mb73fc0674d\" y=\"16.345664\"/>\n     <use style=\"fill:#1f77b4;stroke:#1f77b4;\" x=\"263.44858\" xlink:href=\"#mb73fc0674d\" y=\"17.511344\"/>\n     <use style=\"fill:#1f77b4;stroke:#1f77b4;\" x=\"285.994034\" xlink:href=\"#mb73fc0674d\" y=\"18.194226\"/>\n     <use style=\"fill:#1f77b4;stroke:#1f77b4;\" x=\"308.539489\" xlink:href=\"#mb73fc0674d\" y=\"20.200517\"/>\n     <use style=\"fill:#1f77b4;stroke:#1f77b4;\" x=\"331.084943\" xlink:href=\"#mb73fc0674d\" y=\"23.273218\"/>\n     <use style=\"fill:#1f77b4;stroke:#1f77b4;\" x=\"353.630398\" xlink:href=\"#mb73fc0674d\" y=\"27.500008\"/>\n     <use style=\"fill:#1f77b4;stroke:#1f77b4;\" x=\"376.175852\" xlink:href=\"#mb73fc0674d\" y=\"32.332365\"/>\n     <use style=\"fill:#1f77b4;stroke:#1f77b4;\" x=\"398.721307\" xlink:href=\"#mb73fc0674d\" y=\"38.575149\"/>\n     <use style=\"fill:#1f77b4;stroke:#1f77b4;\" x=\"421.266761\" xlink:href=\"#mb73fc0674d\" y=\"45.582561\"/>\n     <use style=\"fill:#1f77b4;stroke:#1f77b4;\" x=\"443.812216\" xlink:href=\"#mb73fc0674d\" y=\"54.840054\"/>\n     <use style=\"fill:#1f77b4;stroke:#1f77b4;\" x=\"466.35767\" xlink:href=\"#mb73fc0674d\" y=\"64.346762\"/>\n     <use style=\"fill:#1f77b4;stroke:#1f77b4;\" x=\"488.903125\" xlink:href=\"#mb73fc0674d\" y=\"73.650019\"/>\n     <use style=\"fill:#1f77b4;stroke:#1f77b4;\" x=\"511.44858\" xlink:href=\"#mb73fc0674d\" y=\"83.351543\"/>\n     <use style=\"fill:#1f77b4;stroke:#1f77b4;\" x=\"533.994034\" xlink:href=\"#mb73fc0674d\" y=\"94.778523\"/>\n     <use style=\"fill:#1f77b4;stroke:#1f77b4;\" x=\"556.539489\" xlink:href=\"#mb73fc0674d\" y=\"106.491521\"/>\n     <use style=\"fill:#1f77b4;stroke:#1f77b4;\" x=\"579.084943\" xlink:href=\"#mb73fc0674d\" y=\"117.702942\"/>\n     <use style=\"fill:#1f77b4;stroke:#1f77b4;\" x=\"601.630398\" xlink:href=\"#mb73fc0674d\" y=\"130.111617\"/>\n     <use style=\"fill:#1f77b4;stroke:#1f77b4;\" x=\"624.175852\" xlink:href=\"#mb73fc0674d\" y=\"140.885675\"/>\n     <use style=\"fill:#1f77b4;stroke:#1f77b4;\" x=\"646.721307\" xlink:href=\"#mb73fc0674d\" y=\"152.036275\"/>\n     <use style=\"fill:#1f77b4;stroke:#1f77b4;\" x=\"669.266761\" xlink:href=\"#mb73fc0674d\" y=\"162.867273\"/>\n    </g>\n   </g>\n   <g id=\"patch_3\">\n    <path d=\"M 30.103125 170.28 \nL 30.103125 7.2 \n\" style=\"fill:none;stroke:#000000;stroke-linecap:square;stroke-linejoin:miter;stroke-width:0.8;\"/>\n   </g>\n   <g id=\"patch_4\">\n    <path d=\"M 699.703125 170.28 \nL 699.703125 7.2 \n\" style=\"fill:none;stroke:#000000;stroke-linecap:square;stroke-linejoin:miter;stroke-width:0.8;\"/>\n   </g>\n   <g id=\"patch_5\">\n    <path d=\"M 30.103125 170.28 \nL 699.703125 170.28 \n\" style=\"fill:none;stroke:#000000;stroke-linecap:square;stroke-linejoin:miter;stroke-width:0.8;\"/>\n   </g>\n   <g id=\"patch_6\">\n    <path d=\"M 30.103125 7.2 \nL 699.703125 7.2 \n\" style=\"fill:none;stroke:#000000;stroke-linecap:square;stroke-linejoin:miter;stroke-width:0.8;\"/>\n   </g>\n  </g>\n </g>\n <defs>\n  <clipPath id=\"pd068885ddb\">\n   <rect height=\"163.08\" width=\"669.6\" x=\"30.103125\" y=\"7.2\"/>\n  </clipPath>\n </defs>\n</svg>\n"
          },
          "metadata": {
            "tags": [],
            "needs_background": "light"
          }
        }
      ]
    },
    {
      "cell_type": "code",
      "metadata": {
        "id": "Id9Tphw7MoSF"
      },
      "source": [
        ""
      ],
      "execution_count": 13,
      "outputs": []
    }
  ]
}
