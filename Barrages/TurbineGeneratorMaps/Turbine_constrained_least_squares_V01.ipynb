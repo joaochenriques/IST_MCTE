{
  "nbformat": 4,
  "nbformat_minor": 0,
  "metadata": {
    "kernelspec": {
      "name": "python376jvsc74a57bd045396ad5a0a8f7d4076663681221ca9941fed63b77bafec651b40f099150694b",
      "display_name": "Python 3.7.6 64-bit ('base': conda)"
    },
    "language_info": {
      "codemirror_mode": {
        "name": "ipython",
        "version": 3
      },
      "file_extension": ".py",
      "mimetype": "text/x-python",
      "name": "python",
      "nbconvert_exporter": "python",
      "pygments_lexer": "ipython3",
      "version": "3.7.6"
    },
    "colab": {
      "name": "Turbine_constrained_least_squares_V01.ipynb",
      "provenance": [],
      "include_colab_link": true
    }
  },
  "cells": [
    {
      "cell_type": "markdown",
      "metadata": {
        "id": "view-in-github",
        "colab_type": "text"
      },
      "source": [
        "<a href=\"https://colab.research.google.com/github/joaochenriques/IST_MCTE/blob/main/Barrages/TurbineGeneratorMaps/Turbine_constrained_least_squares_V01.ipynb\" target=\"_parent\"><img src=\"https://colab.research.google.com/assets/colab-badge.svg\" alt=\"Open In Colab\"/></a>"
      ]
    },
    {
      "cell_type": "code",
      "metadata": {
        "id": "3keq3fmcUdQM"
      },
      "source": [
        "import numpy as np\n",
        "import pandas as pd\n",
        "from pylab import *\n",
        "from sympy import Symbol,expand\n",
        "import os, pathlib\n",
        "\n",
        "if not pathlib.Path(\"mpl_utils.py\").exists():\n",
        "  os.system( \"curl -O https://raw.githubusercontent.com/joaochenriques/ipynb_libs/main/mpl_utils.py\" )\n",
        "import mpl_utils as mut\n",
        "\n",
        "%config InlineBackend.figure_formats = ['svg']\n",
        "\n",
        "n11=Symbol('n_{11}')"
      ],
      "execution_count": 2,
      "outputs": []
    },
    {
      "cell_type": "code",
      "metadata": {
        "id": "_OoIAesSyRIB",
        "outputId": "c7342c7e-1f28-4163-fe1b-877d6db91bab",
        "colab": {
          "base_uri": "https://localhost:8080/"
        }
      },
      "source": [
        "import pathlib\n",
        "if not pathlib.Path(\"TurbineHill_Data.xlsx\").exists():\n",
        "  !curl -O https://raw.githubusercontent.com/joaochenriques/IST_MCTE/main/Barrages/TurbineGeneratorMaps/TurbineHill_Data.xlsx"
      ],
      "execution_count": 3,
      "outputs": [
        {
          "output_type": "stream",
          "name": "stdout",
          "text": [
            "  % Total    % Received % Xferd  Average Speed   Time    Time     Time  Current\n",
            "                                 Dload  Upload   Total   Spent    Left  Speed\n",
            "100 47121  100 47121    0     0   109k      0 --:--:-- --:--:-- --:--:--  109k\n"
          ]
        }
      ]
    },
    {
      "cell_type": "code",
      "metadata": {
        "id": "u8A0hwG9UdQZ"
      },
      "source": [
        "def LSQ_polyfit( NP, XL, XC_fun, XC_der ):\n",
        "  \n",
        "    ########################################################\n",
        "    # LINEAR LEAST SQUARES PROBLEM\n",
        "    #\n",
        "    ( xl, yl ) = XL\n",
        "\n",
        "    # Vandermonde matrix\n",
        "    X = xl[:, None] ** np.arange( NP, -1, -1 )\n",
        "\n",
        "    XTX = X.transpose().dot( X )\n",
        "    XTy = X.transpose().dot( yl )\n",
        "\n",
        "    # NO CONSTRAINTS IMPOSED => standard LSQ solution\n",
        "    if XC_fun == None and XC_der == None:\n",
        "      AA = XTX\n",
        "      bb = XTy\n",
        "      return np.linalg.solve( AA, bb )\n",
        "\n",
        "    ########################################################\n",
        "    # LAGRANGE MULTIPLIERS FOR CONSTRAINTS\n",
        "    #\n",
        "    if XC_fun != None:\n",
        "      ( xc_fun, yc_fun ) = XC_fun \n",
        "\n",
        "      # function constraints\n",
        "      xF = np.array( xc_fun ) \n",
        "      bF = np.array( yc_fun ) \n",
        "\n",
        "      # Vandermonde matrix\n",
        "      AF = xF[:, None] ** np.arange( NP, -1, -1 )\n",
        "\n",
        "    if XC_der != None:\n",
        "      ( xc_der, yc_der ) = XC_der\n",
        "\n",
        "      # derivative constraints\n",
        "      xD = np.array( xc_der )\n",
        "      bD = np.array( yc_der ) \n",
        "\n",
        "      # Derivative of the Vandermonde matrix\n",
        "      AD = np.array( [  (i*xD**(i-1) if i > 0 else 0*xD) \\\n",
        "                        for i in range(NP,-1,-1) ] ).T\n",
        "\n",
        "    if XC_fun != None and XC_der != None:\n",
        "      Ac = np.block( [ [AF], [AD] ] )\n",
        "      bc = np.block( [ bF, bD ] )\n",
        "    elif XC_fun != None:\n",
        "      Ac = AF\n",
        "      bc = bF\n",
        "    elif XC_der != None:\n",
        "      Ac = AD\n",
        "      bc = bD\n",
        "      \n",
        "    AcT = Ac.transpose()\n",
        "    Z0 = np.zeros( ( Ac.shape[0], Ac.shape[0] ) )\n",
        "\n",
        "    ########################################################\n",
        "    # ASSEMBLE AND SOLVE GLOBAL SYSTEM\n",
        "    #\n",
        "    AA = np.block( [ [ XTX, AcT ], [ Ac, Z0 ] ] )\n",
        "    bb = np.block( [ XTy, bc ] )\n",
        "      \n",
        "    alambda = np.linalg.solve( AA, bb )\n",
        "\n",
        "    # final polynomial coeffs without lambdas\n",
        "    return alambda[ 0:NP+1 ]"
      ],
      "execution_count": 4,
      "outputs": []
    },
    {
      "cell_type": "code",
      "metadata": {
        "id": "img9A6ROUdQa"
      },
      "source": [
        "dfc = pd.read_excel( 'TurbineHill_Data.xlsx', 'flow_eta_max_power_dimless' )\n",
        "n11_1 = np.array( dfc['n11_1'] )\n",
        "Q11_1 = np.array( dfc['Q11_1'] )\n",
        "eta_1 = np.array( dfc['eta_1'] ) / 100\n",
        "\n",
        "n11_2 = np.array( dfc['n11_2'] )\n",
        "Q11_2 = np.array( dfc['Q11_2'] )\n",
        "eta_2 = np.array( dfc['eta_2'] ) / 100\n",
        "\n",
        "n11_1 = np.array( n11_1[~np.isnan(n11_1)] )\n",
        "Q11_1 = np.array( Q11_1[~np.isnan(Q11_1)] )\n",
        "eta_1 = np.array( eta_1[~np.isnan(eta_1)] )\n",
        "\n",
        "n11_2 = np.array( n11_2[~np.isnan(n11_2)] )\n",
        "Q11_2 = np.array( Q11_2[~np.isnan(Q11_2)] )\n",
        "eta_2 = np.array( eta_2[~np.isnan(eta_2)] )"
      ],
      "execution_count": 5,
      "outputs": []
    },
    {
      "cell_type": "code",
      "metadata": {
        "id": "Ssup6j35xQZg",
        "outputId": "eff26937-dd96-4ac3-d50e-e36ec5951f33",
        "colab": {
          "base_uri": "https://localhost:8080/",
          "height": 448
        }
      },
      "source": [
        "#plt.plot( n11_1, Q11_1, 'o' )\n",
        "#plt.plot( n11_2, Q11_2, 'o' )\n",
        "\n",
        "poly_Q11_1 = LSQ_polyfit( 1, ( n11_1, Q11_1 ), ([n11_1[-1]],[Q11_1[-1]]), None )\n",
        "n11_1_plt = np.linspace( n11_1[0], n11_1[-1], 100 )\n",
        "Q11_1_plt = np.polyval( poly_Q11_1, n11_1_plt )\n",
        "plot( n11_1_plt, Q11_1_plt, '-' )\n",
        "\n",
        "poly_Q11_2 = LSQ_polyfit( 3, ( n11_2, Q11_2 ), ([n11_2[0]],[Q11_2[0]]), None )\n",
        "n11_2_plt = np.linspace( n11_2[0], n11_2[-1], 100 )\n",
        "Q11_2_plt = np.polyval( poly_Q11_2, n11_2_plt )\n",
        "plot( n11_2_plt, Q11_2_plt, '-' )\n",
        "\n",
        "display( expand(np.poly1d( np.round( poly_Q11_1, 6 ) )(n11)) )\n",
        "display( expand(np.poly1d( np.round( poly_Q11_2, 7 ) )(n11)) )\n",
        "n11_2[0], poly_Q11_1, poly_Q11_2"
      ],
      "execution_count": 6,
      "outputs": [
        {
          "output_type": "display_data",
          "data": {
            "text/plain": [
              "0.169282*n_{11} + 0.089894"
            ],
            "text/latex": "$\\displaystyle 0.169282 n_{11} + 0.089894$"
          },
          "metadata": {}
        },
        {
          "output_type": "display_data",
          "data": {
            "text/plain": [
              "-0.0003639*n_{11}**3 + 0.0093768*n_{11}**2 - 0.0925874*n_{11} + 1.756872"
            ],
            "text/latex": "$\\displaystyle - 0.0003639 n_{11}^{3} + 0.0093768 n_{11}^{2} - 0.0925874 n_{11} + 1.756872$"
          },
          "metadata": {}
        },
        {
          "output_type": "execute_result",
          "data": {
            "text/plain": [
              "(7.92193025936073,\n",
              " array([0.16928201, 0.08989368]),\n",
              " array([-3.63920467e-04,  9.37677379e-03, -9.25873626e-02,  1.75687197e+00]))"
            ]
          },
          "metadata": {},
          "execution_count": 6
        },
        {
          "output_type": "display_data",
          "data": {
            "text/plain": [
              "<Figure size 432x288 with 1 Axes>"
            ],
            "image/svg+xml": "<?xml version=\"1.0\" encoding=\"utf-8\" standalone=\"no\"?>\n<!DOCTYPE svg PUBLIC \"-//W3C//DTD SVG 1.1//EN\"\n  \"http://www.w3.org/Graphics/SVG/1.1/DTD/svg11.dtd\">\n<svg xmlns:xlink=\"http://www.w3.org/1999/xlink\" width=\"372.103125pt\" height=\"248.518125pt\" viewBox=\"0 0 372.103125 248.518125\" xmlns=\"http://www.w3.org/2000/svg\" version=\"1.1\">\n <metadata>\n  <rdf:RDF xmlns:dc=\"http://purl.org/dc/elements/1.1/\" xmlns:cc=\"http://creativecommons.org/ns#\" xmlns:rdf=\"http://www.w3.org/1999/02/22-rdf-syntax-ns#\">\n   <cc:Work>\n    <dc:type rdf:resource=\"http://purl.org/dc/dcmitype/StillImage\"/>\n    <dc:date>2023-03-06T15:48:44.903406</dc:date>\n    <dc:format>image/svg+xml</dc:format>\n    <dc:creator>\n     <cc:Agent>\n      <dc:title>Matplotlib v3.5.3, https://matplotlib.org/</dc:title>\n     </cc:Agent>\n    </dc:creator>\n   </cc:Work>\n  </rdf:RDF>\n </metadata>\n <defs>\n  <style type=\"text/css\">*{stroke-linejoin: round; stroke-linecap: butt}</style>\n </defs>\n <g id=\"figure_1\">\n  <g id=\"patch_1\">\n   <path d=\"M 0 248.518125 \nL 372.103125 248.518125 \nL 372.103125 0 \nL 0 0 \nL 0 248.518125 \nz\n\" style=\"fill: none\"/>\n  </g>\n  <g id=\"axes_1\">\n   <g id=\"patch_2\">\n    <path d=\"M 30.103125 224.64 \nL 364.903125 224.64 \nL 364.903125 7.2 \nL 30.103125 7.2 \nz\n\" style=\"fill: #ffffff\"/>\n   </g>\n   <g id=\"matplotlib.axis_1\">\n    <g id=\"xtick_1\">\n     <g id=\"line2d_1\">\n      <defs>\n       <path id=\"mcaa3d0a098\" d=\"M 0 0 \nL 0 3.5 \n\" style=\"stroke: #000000; stroke-width: 0.8\"/>\n      </defs>\n      <g>\n       <use xlink:href=\"#mcaa3d0a098\" x=\"36.224824\" y=\"224.64\" style=\"stroke: #000000; stroke-width: 0.8\"/>\n      </g>\n     </g>\n     <g id=\"text_1\">\n      <!-- 4 -->\n      <g transform=\"translate(33.043574 239.238437)scale(0.1 -0.1)\">\n       <defs>\n        <path id=\"DejaVuSans-34\" d=\"M 2419 4116 \nL 825 1625 \nL 2419 1625 \nL 2419 4116 \nz\nM 2253 4666 \nL 3047 4666 \nL 3047 1625 \nL 3713 1625 \nL 3713 1100 \nL 3047 1100 \nL 3047 0 \nL 2419 0 \nL 2419 1100 \nL 313 1100 \nL 313 1709 \nL 2253 4666 \nz\n\" transform=\"scale(0.015625)\"/>\n       </defs>\n       <use xlink:href=\"#DejaVuSans-34\"/>\n      </g>\n     </g>\n    </g>\n    <g id=\"xtick_2\">\n     <g id=\"line2d_2\">\n      <g>\n       <use xlink:href=\"#mcaa3d0a098\" x=\"83.833545\" y=\"224.64\" style=\"stroke: #000000; stroke-width: 0.8\"/>\n      </g>\n     </g>\n     <g id=\"text_2\">\n      <!-- 6 -->\n      <g transform=\"translate(80.652295 239.238437)scale(0.1 -0.1)\">\n       <defs>\n        <path id=\"DejaVuSans-36\" d=\"M 2113 2584 \nQ 1688 2584 1439 2293 \nQ 1191 2003 1191 1497 \nQ 1191 994 1439 701 \nQ 1688 409 2113 409 \nQ 2538 409 2786 701 \nQ 3034 994 3034 1497 \nQ 3034 2003 2786 2293 \nQ 2538 2584 2113 2584 \nz\nM 3366 4563 \nL 3366 3988 \nQ 3128 4100 2886 4159 \nQ 2644 4219 2406 4219 \nQ 1781 4219 1451 3797 \nQ 1122 3375 1075 2522 \nQ 1259 2794 1537 2939 \nQ 1816 3084 2150 3084 \nQ 2853 3084 3261 2657 \nQ 3669 2231 3669 1497 \nQ 3669 778 3244 343 \nQ 2819 -91 2113 -91 \nQ 1303 -91 875 529 \nQ 447 1150 447 2328 \nQ 447 3434 972 4092 \nQ 1497 4750 2381 4750 \nQ 2619 4750 2861 4703 \nQ 3103 4656 3366 4563 \nz\n\" transform=\"scale(0.015625)\"/>\n       </defs>\n       <use xlink:href=\"#DejaVuSans-36\"/>\n      </g>\n     </g>\n    </g>\n    <g id=\"xtick_3\">\n     <g id=\"line2d_3\">\n      <g>\n       <use xlink:href=\"#mcaa3d0a098\" x=\"131.442267\" y=\"224.64\" style=\"stroke: #000000; stroke-width: 0.8\"/>\n      </g>\n     </g>\n     <g id=\"text_3\">\n      <!-- 8 -->\n      <g transform=\"translate(128.261017 239.238437)scale(0.1 -0.1)\">\n       <defs>\n        <path id=\"DejaVuSans-38\" d=\"M 2034 2216 \nQ 1584 2216 1326 1975 \nQ 1069 1734 1069 1313 \nQ 1069 891 1326 650 \nQ 1584 409 2034 409 \nQ 2484 409 2743 651 \nQ 3003 894 3003 1313 \nQ 3003 1734 2745 1975 \nQ 2488 2216 2034 2216 \nz\nM 1403 2484 \nQ 997 2584 770 2862 \nQ 544 3141 544 3541 \nQ 544 4100 942 4425 \nQ 1341 4750 2034 4750 \nQ 2731 4750 3128 4425 \nQ 3525 4100 3525 3541 \nQ 3525 3141 3298 2862 \nQ 3072 2584 2669 2484 \nQ 3125 2378 3379 2068 \nQ 3634 1759 3634 1313 \nQ 3634 634 3220 271 \nQ 2806 -91 2034 -91 \nQ 1263 -91 848 271 \nQ 434 634 434 1313 \nQ 434 1759 690 2068 \nQ 947 2378 1403 2484 \nz\nM 1172 3481 \nQ 1172 3119 1398 2916 \nQ 1625 2713 2034 2713 \nQ 2441 2713 2670 2916 \nQ 2900 3119 2900 3481 \nQ 2900 3844 2670 4047 \nQ 2441 4250 2034 4250 \nQ 1625 4250 1398 4047 \nQ 1172 3844 1172 3481 \nz\n\" transform=\"scale(0.015625)\"/>\n       </defs>\n       <use xlink:href=\"#DejaVuSans-38\"/>\n      </g>\n     </g>\n    </g>\n    <g id=\"xtick_4\">\n     <g id=\"line2d_4\">\n      <g>\n       <use xlink:href=\"#mcaa3d0a098\" x=\"179.050988\" y=\"224.64\" style=\"stroke: #000000; stroke-width: 0.8\"/>\n      </g>\n     </g>\n     <g id=\"text_4\">\n      <!-- 10 -->\n      <g transform=\"translate(172.688488 239.238437)scale(0.1 -0.1)\">\n       <defs>\n        <path id=\"DejaVuSans-31\" d=\"M 794 531 \nL 1825 531 \nL 1825 4091 \nL 703 3866 \nL 703 4441 \nL 1819 4666 \nL 2450 4666 \nL 2450 531 \nL 3481 531 \nL 3481 0 \nL 794 0 \nL 794 531 \nz\n\" transform=\"scale(0.015625)\"/>\n        <path id=\"DejaVuSans-30\" d=\"M 2034 4250 \nQ 1547 4250 1301 3770 \nQ 1056 3291 1056 2328 \nQ 1056 1369 1301 889 \nQ 1547 409 2034 409 \nQ 2525 409 2770 889 \nQ 3016 1369 3016 2328 \nQ 3016 3291 2770 3770 \nQ 2525 4250 2034 4250 \nz\nM 2034 4750 \nQ 2819 4750 3233 4129 \nQ 3647 3509 3647 2328 \nQ 3647 1150 3233 529 \nQ 2819 -91 2034 -91 \nQ 1250 -91 836 529 \nQ 422 1150 422 2328 \nQ 422 3509 836 4129 \nQ 1250 4750 2034 4750 \nz\n\" transform=\"scale(0.015625)\"/>\n       </defs>\n       <use xlink:href=\"#DejaVuSans-31\"/>\n       <use xlink:href=\"#DejaVuSans-30\" x=\"63.623047\"/>\n      </g>\n     </g>\n    </g>\n    <g id=\"xtick_5\">\n     <g id=\"line2d_5\">\n      <g>\n       <use xlink:href=\"#mcaa3d0a098\" x=\"226.659709\" y=\"224.64\" style=\"stroke: #000000; stroke-width: 0.8\"/>\n      </g>\n     </g>\n     <g id=\"text_5\">\n      <!-- 12 -->\n      <g transform=\"translate(220.297209 239.238437)scale(0.1 -0.1)\">\n       <defs>\n        <path id=\"DejaVuSans-32\" d=\"M 1228 531 \nL 3431 531 \nL 3431 0 \nL 469 0 \nL 469 531 \nQ 828 903 1448 1529 \nQ 2069 2156 2228 2338 \nQ 2531 2678 2651 2914 \nQ 2772 3150 2772 3378 \nQ 2772 3750 2511 3984 \nQ 2250 4219 1831 4219 \nQ 1534 4219 1204 4116 \nQ 875 4013 500 3803 \nL 500 4441 \nQ 881 4594 1212 4672 \nQ 1544 4750 1819 4750 \nQ 2544 4750 2975 4387 \nQ 3406 4025 3406 3419 \nQ 3406 3131 3298 2873 \nQ 3191 2616 2906 2266 \nQ 2828 2175 2409 1742 \nQ 1991 1309 1228 531 \nz\n\" transform=\"scale(0.015625)\"/>\n       </defs>\n       <use xlink:href=\"#DejaVuSans-31\"/>\n       <use xlink:href=\"#DejaVuSans-32\" x=\"63.623047\"/>\n      </g>\n     </g>\n    </g>\n    <g id=\"xtick_6\">\n     <g id=\"line2d_6\">\n      <g>\n       <use xlink:href=\"#mcaa3d0a098\" x=\"274.268431\" y=\"224.64\" style=\"stroke: #000000; stroke-width: 0.8\"/>\n      </g>\n     </g>\n     <g id=\"text_6\">\n      <!-- 14 -->\n      <g transform=\"translate(267.905931 239.238437)scale(0.1 -0.1)\">\n       <use xlink:href=\"#DejaVuSans-31\"/>\n       <use xlink:href=\"#DejaVuSans-34\" x=\"63.623047\"/>\n      </g>\n     </g>\n    </g>\n    <g id=\"xtick_7\">\n     <g id=\"line2d_7\">\n      <g>\n       <use xlink:href=\"#mcaa3d0a098\" x=\"321.877152\" y=\"224.64\" style=\"stroke: #000000; stroke-width: 0.8\"/>\n      </g>\n     </g>\n     <g id=\"text_7\">\n      <!-- 16 -->\n      <g transform=\"translate(315.514652 239.238437)scale(0.1 -0.1)\">\n       <use xlink:href=\"#DejaVuSans-31\"/>\n       <use xlink:href=\"#DejaVuSans-36\" x=\"63.623047\"/>\n      </g>\n     </g>\n    </g>\n   </g>\n   <g id=\"matplotlib.axis_2\">\n    <g id=\"ytick_1\">\n     <g id=\"line2d_8\">\n      <defs>\n       <path id=\"ma1a72cac4e\" d=\"M 0 0 \nL -3.5 0 \n\" style=\"stroke: #000000; stroke-width: 0.8\"/>\n      </defs>\n      <g>\n       <use xlink:href=\"#ma1a72cac4e\" x=\"30.103125\" y=\"192.228868\" style=\"stroke: #000000; stroke-width: 0.8\"/>\n      </g>\n     </g>\n     <g id=\"text_8\">\n      <!-- 0.9 -->\n      <g transform=\"translate(7.2 196.028087)scale(0.1 -0.1)\">\n       <defs>\n        <path id=\"DejaVuSans-2e\" d=\"M 684 794 \nL 1344 794 \nL 1344 0 \nL 684 0 \nL 684 794 \nz\n\" transform=\"scale(0.015625)\"/>\n        <path id=\"DejaVuSans-39\" d=\"M 703 97 \nL 703 672 \nQ 941 559 1184 500 \nQ 1428 441 1663 441 \nQ 2288 441 2617 861 \nQ 2947 1281 2994 2138 \nQ 2813 1869 2534 1725 \nQ 2256 1581 1919 1581 \nQ 1219 1581 811 2004 \nQ 403 2428 403 3163 \nQ 403 3881 828 4315 \nQ 1253 4750 1959 4750 \nQ 2769 4750 3195 4129 \nQ 3622 3509 3622 2328 \nQ 3622 1225 3098 567 \nQ 2575 -91 1691 -91 \nQ 1453 -91 1209 -44 \nQ 966 3 703 97 \nz\nM 1959 2075 \nQ 2384 2075 2632 2365 \nQ 2881 2656 2881 3163 \nQ 2881 3666 2632 3958 \nQ 2384 4250 1959 4250 \nQ 1534 4250 1286 3958 \nQ 1038 3666 1038 3163 \nQ 1038 2656 1286 2365 \nQ 1534 2075 1959 2075 \nz\n\" transform=\"scale(0.015625)\"/>\n       </defs>\n       <use xlink:href=\"#DejaVuSans-30\"/>\n       <use xlink:href=\"#DejaVuSans-2e\" x=\"63.623047\"/>\n       <use xlink:href=\"#DejaVuSans-39\" x=\"95.410156\"/>\n      </g>\n     </g>\n    </g>\n    <g id=\"ytick_2\">\n     <g id=\"line2d_9\">\n      <g>\n       <use xlink:href=\"#ma1a72cac4e\" x=\"30.103125\" y=\"159.240728\" style=\"stroke: #000000; stroke-width: 0.8\"/>\n      </g>\n     </g>\n     <g id=\"text_9\">\n      <!-- 1.0 -->\n      <g transform=\"translate(7.2 163.039947)scale(0.1 -0.1)\">\n       <use xlink:href=\"#DejaVuSans-31\"/>\n       <use xlink:href=\"#DejaVuSans-2e\" x=\"63.623047\"/>\n       <use xlink:href=\"#DejaVuSans-30\" x=\"95.410156\"/>\n      </g>\n     </g>\n    </g>\n    <g id=\"ytick_3\">\n     <g id=\"line2d_10\">\n      <g>\n       <use xlink:href=\"#ma1a72cac4e\" x=\"30.103125\" y=\"126.252588\" style=\"stroke: #000000; stroke-width: 0.8\"/>\n      </g>\n     </g>\n     <g id=\"text_10\">\n      <!-- 1.1 -->\n      <g transform=\"translate(7.2 130.051807)scale(0.1 -0.1)\">\n       <use xlink:href=\"#DejaVuSans-31\"/>\n       <use xlink:href=\"#DejaVuSans-2e\" x=\"63.623047\"/>\n       <use xlink:href=\"#DejaVuSans-31\" x=\"95.410156\"/>\n      </g>\n     </g>\n    </g>\n    <g id=\"ytick_4\">\n     <g id=\"line2d_11\">\n      <g>\n       <use xlink:href=\"#ma1a72cac4e\" x=\"30.103125\" y=\"93.264448\" style=\"stroke: #000000; stroke-width: 0.8\"/>\n      </g>\n     </g>\n     <g id=\"text_11\">\n      <!-- 1.2 -->\n      <g transform=\"translate(7.2 97.063667)scale(0.1 -0.1)\">\n       <use xlink:href=\"#DejaVuSans-31\"/>\n       <use xlink:href=\"#DejaVuSans-2e\" x=\"63.623047\"/>\n       <use xlink:href=\"#DejaVuSans-32\" x=\"95.410156\"/>\n      </g>\n     </g>\n    </g>\n    <g id=\"ytick_5\">\n     <g id=\"line2d_12\">\n      <g>\n       <use xlink:href=\"#ma1a72cac4e\" x=\"30.103125\" y=\"60.276308\" style=\"stroke: #000000; stroke-width: 0.8\"/>\n      </g>\n     </g>\n     <g id=\"text_12\">\n      <!-- 1.3 -->\n      <g transform=\"translate(7.2 64.075527)scale(0.1 -0.1)\">\n       <defs>\n        <path id=\"DejaVuSans-33\" d=\"M 2597 2516 \nQ 3050 2419 3304 2112 \nQ 3559 1806 3559 1356 \nQ 3559 666 3084 287 \nQ 2609 -91 1734 -91 \nQ 1441 -91 1130 -33 \nQ 819 25 488 141 \nL 488 750 \nQ 750 597 1062 519 \nQ 1375 441 1716 441 \nQ 2309 441 2620 675 \nQ 2931 909 2931 1356 \nQ 2931 1769 2642 2001 \nQ 2353 2234 1838 2234 \nL 1294 2234 \nL 1294 2753 \nL 1863 2753 \nQ 2328 2753 2575 2939 \nQ 2822 3125 2822 3475 \nQ 2822 3834 2567 4026 \nQ 2313 4219 1838 4219 \nQ 1578 4219 1281 4162 \nQ 984 4106 628 3988 \nL 628 4550 \nQ 988 4650 1302 4700 \nQ 1616 4750 1894 4750 \nQ 2613 4750 3031 4423 \nQ 3450 4097 3450 3541 \nQ 3450 3153 3228 2886 \nQ 3006 2619 2597 2516 \nz\n\" transform=\"scale(0.015625)\"/>\n       </defs>\n       <use xlink:href=\"#DejaVuSans-31\"/>\n       <use xlink:href=\"#DejaVuSans-2e\" x=\"63.623047\"/>\n       <use xlink:href=\"#DejaVuSans-33\" x=\"95.410156\"/>\n      </g>\n     </g>\n    </g>\n    <g id=\"ytick_6\">\n     <g id=\"line2d_13\">\n      <g>\n       <use xlink:href=\"#ma1a72cac4e\" x=\"30.103125\" y=\"27.288168\" style=\"stroke: #000000; stroke-width: 0.8\"/>\n      </g>\n     </g>\n     <g id=\"text_13\">\n      <!-- 1.4 -->\n      <g transform=\"translate(7.2 31.087387)scale(0.1 -0.1)\">\n       <use xlink:href=\"#DejaVuSans-31\"/>\n       <use xlink:href=\"#DejaVuSans-2e\" x=\"63.623047\"/>\n       <use xlink:href=\"#DejaVuSans-34\" x=\"95.410156\"/>\n      </g>\n     </g>\n    </g>\n   </g>\n   <g id=\"line2d_14\">\n    <path d=\"M 45.321307 214.756364 \nL 46.172444 212.759669 \nL 47.023581 210.762975 \nL 47.874718 208.766281 \nL 48.725855 206.769587 \nL 49.576992 204.772893 \nL 50.428129 202.776198 \nL 51.279266 200.779504 \nL 52.130403 198.78281 \nL 52.981539 196.786116 \nL 53.832676 194.789421 \nL 54.683813 192.792727 \nL 55.53495 190.796033 \nL 56.386087 188.799339 \nL 57.237224 186.802645 \nL 58.088361 184.80595 \nL 58.939498 182.809256 \nL 59.790635 180.812562 \nL 60.641772 178.815868 \nL 61.492909 176.819174 \nL 62.344046 174.822479 \nL 63.195183 172.825785 \nL 64.04632 170.829091 \nL 64.897457 168.832397 \nL 65.748594 166.835702 \nL 66.599731 164.839008 \nL 67.450868 162.842314 \nL 68.302005 160.84562 \nL 69.153142 158.848926 \nL 70.004279 156.852231 \nL 70.855416 154.855537 \nL 71.706553 152.858843 \nL 72.55769 150.862149 \nL 73.408827 148.865455 \nL 74.259964 146.86876 \nL 75.111101 144.872066 \nL 75.962238 142.875372 \nL 76.813374 140.878678 \nL 77.664511 138.881983 \nL 78.515648 136.885289 \nL 79.366785 134.888595 \nL 80.217922 132.891901 \nL 81.069059 130.895207 \nL 81.920196 128.898512 \nL 82.771333 126.901818 \nL 83.62247 124.905124 \nL 84.473607 122.90843 \nL 85.324744 120.911736 \nL 86.175881 118.915041 \nL 87.027018 116.918347 \nL 87.878155 114.921653 \nL 88.729292 112.924959 \nL 89.580429 110.928264 \nL 90.431566 108.93157 \nL 91.282703 106.934876 \nL 92.13384 104.938182 \nL 92.984977 102.941488 \nL 93.836114 100.944793 \nL 94.687251 98.948099 \nL 95.538388 96.951405 \nL 96.389525 94.954711 \nL 97.240662 92.958017 \nL 98.091799 90.961322 \nL 98.942936 88.964628 \nL 99.794073 86.967934 \nL 100.645209 84.97124 \nL 101.496346 82.974545 \nL 102.347483 80.977851 \nL 103.19862 78.981157 \nL 104.049757 76.984463 \nL 104.900894 74.987769 \nL 105.752031 72.991074 \nL 106.603168 70.99438 \nL 107.454305 68.997686 \nL 108.305442 67.000992 \nL 109.156579 65.004298 \nL 110.007716 63.007603 \nL 110.858853 61.010909 \nL 111.70999 59.014215 \nL 112.561127 57.017521 \nL 113.412264 55.020826 \nL 114.263401 53.024132 \nL 115.114538 51.027438 \nL 115.965675 49.030744 \nL 116.816812 47.03405 \nL 117.667949 45.037355 \nL 118.519086 43.040661 \nL 119.370223 41.043967 \nL 120.22136 39.047273 \nL 121.072497 37.050579 \nL 121.923634 35.053884 \nL 122.774771 33.05719 \nL 123.625908 31.060496 \nL 124.477044 29.063802 \nL 125.328181 27.067107 \nL 126.179318 25.070413 \nL 127.030455 23.073719 \nL 127.881592 21.077025 \nL 128.732729 19.080331 \nL 129.583866 17.083636 \n\" clip-path=\"url(#pf1bc05801d)\" style=\"fill: none; stroke: #1f77b4; stroke-width: 1.5; stroke-linecap: square\"/>\n   </g>\n   <g id=\"line2d_15\">\n    <path d=\"M 129.583866 17.083636 \nL 131.807109 17.467954 \nL 134.030353 17.84867 \nL 136.253596 18.22637 \nL 138.476839 18.601641 \nL 140.700082 18.975071 \nL 142.923325 19.347245 \nL 145.146569 19.718751 \nL 147.369812 20.090176 \nL 149.593055 20.462106 \nL 151.816298 20.835128 \nL 154.039541 21.209829 \nL 156.262785 21.586796 \nL 158.486028 21.966616 \nL 160.709271 22.349876 \nL 162.932514 22.737161 \nL 165.155757 23.12906 \nL 167.379001 23.526159 \nL 169.602244 23.929045 \nL 171.825487 24.338304 \nL 174.04873 24.754523 \nL 176.271973 25.17829 \nL 178.495217 25.610191 \nL 180.71846 26.050813 \nL 182.941703 26.500743 \nL 185.164946 26.960567 \nL 187.388189 27.430873 \nL 189.611433 27.912246 \nL 191.834676 28.405275 \nL 194.057919 28.910546 \nL 196.281162 29.428645 \nL 198.504406 29.96016 \nL 200.727649 30.505677 \nL 202.950892 31.065783 \nL 205.174135 31.641066 \nL 207.397378 32.232111 \nL 209.620622 32.839505 \nL 211.843865 33.463836 \nL 214.067108 34.105691 \nL 216.290351 34.765655 \nL 218.513594 35.444316 \nL 220.736838 36.142261 \nL 222.960081 36.860077 \nL 225.183324 37.59835 \nL 227.406567 38.357667 \nL 229.62981 39.138615 \nL 231.853054 39.941781 \nL 234.076297 40.767751 \nL 236.29954 41.617113 \nL 238.522783 42.490454 \nL 240.746026 43.388359 \nL 242.96927 44.311416 \nL 245.192513 45.260213 \nL 247.415756 46.235334 \nL 249.638999 47.237369 \nL 251.862242 48.266902 \nL 254.085486 49.324521 \nL 256.308729 50.410814 \nL 258.531972 51.526366 \nL 260.755215 52.671764 \nL 262.978458 53.847596 \nL 265.201702 55.054448 \nL 267.424945 56.292908 \nL 269.648188 57.563561 \nL 271.871431 58.866994 \nL 274.094674 60.203795 \nL 276.317918 61.57455 \nL 278.541161 62.979847 \nL 280.764404 64.420271 \nL 282.987647 65.89641 \nL 285.21089 67.408851 \nL 287.434134 68.95818 \nL 289.657377 70.544984 \nL 291.88062 72.169851 \nL 294.103863 73.833366 \nL 296.327106 75.536117 \nL 298.55035 77.27869 \nL 300.773593 79.061673 \nL 302.996836 80.885652 \nL 305.220079 82.751214 \nL 307.443322 84.658946 \nL 309.666566 86.609434 \nL 311.889809 88.603266 \nL 314.113052 90.641028 \nL 316.336295 92.723307 \nL 318.559538 94.85069 \nL 320.782782 97.023764 \nL 323.006025 99.243115 \nL 325.229268 101.509331 \nL 327.452511 103.822998 \nL 329.675754 106.184703 \nL 331.898998 108.595033 \nL 334.122241 111.054574 \nL 336.345484 113.563914 \nL 338.568727 116.12364 \nL 340.79197 118.734337 \nL 343.015214 121.396594 \nL 345.238457 124.110996 \nL 347.4617 126.878131 \nL 349.684943 129.698585 \n\" clip-path=\"url(#pf1bc05801d)\" style=\"fill: none; stroke: #ff7f0e; stroke-width: 1.5; stroke-linecap: square\"/>\n   </g>\n   <g id=\"patch_3\">\n    <path d=\"M 30.103125 224.64 \nL 30.103125 7.2 \n\" style=\"fill: none; stroke: #000000; stroke-width: 0.8; stroke-linejoin: miter; stroke-linecap: square\"/>\n   </g>\n   <g id=\"patch_4\">\n    <path d=\"M 364.903125 224.64 \nL 364.903125 7.2 \n\" style=\"fill: none; stroke: #000000; stroke-width: 0.8; stroke-linejoin: miter; stroke-linecap: square\"/>\n   </g>\n   <g id=\"patch_5\">\n    <path d=\"M 30.103125 224.64 \nL 364.903125 224.64 \n\" style=\"fill: none; stroke: #000000; stroke-width: 0.8; stroke-linejoin: miter; stroke-linecap: square\"/>\n   </g>\n   <g id=\"patch_6\">\n    <path d=\"M 30.103125 7.2 \nL 364.903125 7.2 \n\" style=\"fill: none; stroke: #000000; stroke-width: 0.8; stroke-linejoin: miter; stroke-linecap: square\"/>\n   </g>\n  </g>\n </g>\n <defs>\n  <clipPath id=\"pf1bc05801d\">\n   <rect x=\"30.103125\" y=\"7.2\" width=\"334.8\" height=\"217.44\"/>\n  </clipPath>\n </defs>\n</svg>\n"
          },
          "metadata": {
            "needs_background": "light"
          }
        }
      ]
    },
    {
      "cell_type": "code",
      "metadata": {
        "id": "t7r6dg_axQZi",
        "outputId": "c4b5b225-1321-4d0c-88c9-e9f8fa559676",
        "colab": {
          "base_uri": "https://localhost:8080/",
          "height": 482
        }
      },
      "source": [
        "plt.plot( n11_1, eta_1, 'o' )\n",
        "plt.plot( n11_2, eta_2, 'o' )\n",
        "\n",
        "poly_eta_1 = LSQ_polyfit( 2, ( n11_1, eta_1 ), ([n11_1[-1]],[eta_1[-1]]), None )\n",
        "n11_1_plt = np.linspace( n11_1[0], n11_1[-1], 100 )\n",
        "eta_1_plt = np.polyval( poly_eta_1, n11_1_plt )\n",
        "plot( n11_1_plt, eta_1_plt, '-' )\n",
        "\n",
        "poly_eta_2 = LSQ_polyfit( 3, ( n11_2, eta_2 ), ([n11_2[0],n11_2[1]],[eta_2[0],eta_2[1]]), None )\n",
        "n11_2_plt = np.linspace( n11_2[0], n11_2[-1], 100 )\n",
        "eta_2_plt = np.polyval( poly_eta_2, n11_2_plt )\n",
        "plot( n11_2_plt, eta_2_plt, '-' );\n",
        "\n",
        "display( expand(np.poly1d( np.round( poly_eta_1, 5 ) )(n11)) )\n",
        "display( expand(np.poly1d( np.round( poly_eta_2, 5 ) )(n11)) )\n",
        "n11_2[0], poly_eta_1, poly_eta_2, n11_1[0], n11_2[-1]"
      ],
      "execution_count": 7,
      "outputs": [
        {
          "output_type": "display_data",
          "data": {
            "text/plain": [
              "-0.02076*n_{11}**2 + 0.20238*n_{11} + 0.48985"
            ],
            "text/latex": "$\\displaystyle - 0.02076 n_{11}^{2} + 0.20238 n_{11} + 0.48985$"
          },
          "metadata": {}
        },
        {
          "output_type": "display_data",
          "data": {
            "text/plain": [
              "-0.00028*n_{11}**3 + 0.00205*n_{11}**2 + 0.00069*n_{11} + 0.79308"
            ],
            "text/latex": "$\\displaystyle - 0.00028 n_{11}^{3} + 0.00205 n_{11}^{2} + 0.00069 n_{11} + 0.79308$"
          },
          "metadata": {}
        },
        {
          "output_type": "execute_result",
          "data": {
            "text/plain": [
              "(7.92193025936073,\n",
              " array([-0.02076456,  0.20238444,  0.48984553]),\n",
              " array([-2.75685709e-04,  2.04822984e-03,  6.86081825e-04,  7.93083108e-01]),\n",
              " 4.38213515707912,\n",
              " 17.1681805419136)"
            ]
          },
          "metadata": {},
          "execution_count": 7
        },
        {
          "output_type": "display_data",
          "data": {
            "text/plain": [
              "<Figure size 432x288 with 1 Axes>"
            ],
            "image/svg+xml": "<?xml version=\"1.0\" encoding=\"utf-8\" standalone=\"no\"?>\n<!DOCTYPE svg PUBLIC \"-//W3C//DTD SVG 1.1//EN\"\n  \"http://www.w3.org/Graphics/SVG/1.1/DTD/svg11.dtd\">\n<svg xmlns:xlink=\"http://www.w3.org/1999/xlink\" width=\"372.103125pt\" height=\"248.518125pt\" viewBox=\"0 0 372.103125 248.518125\" xmlns=\"http://www.w3.org/2000/svg\" version=\"1.1\">\n <metadata>\n  <rdf:RDF xmlns:dc=\"http://purl.org/dc/elements/1.1/\" xmlns:cc=\"http://creativecommons.org/ns#\" xmlns:rdf=\"http://www.w3.org/1999/02/22-rdf-syntax-ns#\">\n   <cc:Work>\n    <dc:type rdf:resource=\"http://purl.org/dc/dcmitype/StillImage\"/>\n    <dc:date>2023-03-06T15:48:46.886899</dc:date>\n    <dc:format>image/svg+xml</dc:format>\n    <dc:creator>\n     <cc:Agent>\n      <dc:title>Matplotlib v3.5.3, https://matplotlib.org/</dc:title>\n     </cc:Agent>\n    </dc:creator>\n   </cc:Work>\n  </rdf:RDF>\n </metadata>\n <defs>\n  <style type=\"text/css\">*{stroke-linejoin: round; stroke-linecap: butt}</style>\n </defs>\n <g id=\"figure_1\">\n  <g id=\"patch_1\">\n   <path d=\"M 0 248.518125 \nL 372.103125 248.518125 \nL 372.103125 0 \nL 0 0 \nL 0 248.518125 \nz\n\" style=\"fill: none\"/>\n  </g>\n  <g id=\"axes_1\">\n   <g id=\"patch_2\">\n    <path d=\"M 30.103125 224.64 \nL 364.903125 224.64 \nL 364.903125 7.2 \nL 30.103125 7.2 \nz\n\" style=\"fill: #ffffff\"/>\n   </g>\n   <g id=\"matplotlib.axis_1\">\n    <g id=\"xtick_1\">\n     <g id=\"line2d_1\">\n      <defs>\n       <path id=\"ma930a2621b\" d=\"M 0 0 \nL 0 3.5 \n\" style=\"stroke: #000000; stroke-width: 0.8\"/>\n      </defs>\n      <g>\n       <use xlink:href=\"#ma930a2621b\" x=\"36.224824\" y=\"224.64\" style=\"stroke: #000000; stroke-width: 0.8\"/>\n      </g>\n     </g>\n     <g id=\"text_1\">\n      <!-- 4 -->\n      <g transform=\"translate(33.043574 239.238437)scale(0.1 -0.1)\">\n       <defs>\n        <path id=\"DejaVuSans-34\" d=\"M 2419 4116 \nL 825 1625 \nL 2419 1625 \nL 2419 4116 \nz\nM 2253 4666 \nL 3047 4666 \nL 3047 1625 \nL 3713 1625 \nL 3713 1100 \nL 3047 1100 \nL 3047 0 \nL 2419 0 \nL 2419 1100 \nL 313 1100 \nL 313 1709 \nL 2253 4666 \nz\n\" transform=\"scale(0.015625)\"/>\n       </defs>\n       <use xlink:href=\"#DejaVuSans-34\"/>\n      </g>\n     </g>\n    </g>\n    <g id=\"xtick_2\">\n     <g id=\"line2d_2\">\n      <g>\n       <use xlink:href=\"#ma930a2621b\" x=\"83.833545\" y=\"224.64\" style=\"stroke: #000000; stroke-width: 0.8\"/>\n      </g>\n     </g>\n     <g id=\"text_2\">\n      <!-- 6 -->\n      <g transform=\"translate(80.652295 239.238437)scale(0.1 -0.1)\">\n       <defs>\n        <path id=\"DejaVuSans-36\" d=\"M 2113 2584 \nQ 1688 2584 1439 2293 \nQ 1191 2003 1191 1497 \nQ 1191 994 1439 701 \nQ 1688 409 2113 409 \nQ 2538 409 2786 701 \nQ 3034 994 3034 1497 \nQ 3034 2003 2786 2293 \nQ 2538 2584 2113 2584 \nz\nM 3366 4563 \nL 3366 3988 \nQ 3128 4100 2886 4159 \nQ 2644 4219 2406 4219 \nQ 1781 4219 1451 3797 \nQ 1122 3375 1075 2522 \nQ 1259 2794 1537 2939 \nQ 1816 3084 2150 3084 \nQ 2853 3084 3261 2657 \nQ 3669 2231 3669 1497 \nQ 3669 778 3244 343 \nQ 2819 -91 2113 -91 \nQ 1303 -91 875 529 \nQ 447 1150 447 2328 \nQ 447 3434 972 4092 \nQ 1497 4750 2381 4750 \nQ 2619 4750 2861 4703 \nQ 3103 4656 3366 4563 \nz\n\" transform=\"scale(0.015625)\"/>\n       </defs>\n       <use xlink:href=\"#DejaVuSans-36\"/>\n      </g>\n     </g>\n    </g>\n    <g id=\"xtick_3\">\n     <g id=\"line2d_3\">\n      <g>\n       <use xlink:href=\"#ma930a2621b\" x=\"131.442267\" y=\"224.64\" style=\"stroke: #000000; stroke-width: 0.8\"/>\n      </g>\n     </g>\n     <g id=\"text_3\">\n      <!-- 8 -->\n      <g transform=\"translate(128.261017 239.238437)scale(0.1 -0.1)\">\n       <defs>\n        <path id=\"DejaVuSans-38\" d=\"M 2034 2216 \nQ 1584 2216 1326 1975 \nQ 1069 1734 1069 1313 \nQ 1069 891 1326 650 \nQ 1584 409 2034 409 \nQ 2484 409 2743 651 \nQ 3003 894 3003 1313 \nQ 3003 1734 2745 1975 \nQ 2488 2216 2034 2216 \nz\nM 1403 2484 \nQ 997 2584 770 2862 \nQ 544 3141 544 3541 \nQ 544 4100 942 4425 \nQ 1341 4750 2034 4750 \nQ 2731 4750 3128 4425 \nQ 3525 4100 3525 3541 \nQ 3525 3141 3298 2862 \nQ 3072 2584 2669 2484 \nQ 3125 2378 3379 2068 \nQ 3634 1759 3634 1313 \nQ 3634 634 3220 271 \nQ 2806 -91 2034 -91 \nQ 1263 -91 848 271 \nQ 434 634 434 1313 \nQ 434 1759 690 2068 \nQ 947 2378 1403 2484 \nz\nM 1172 3481 \nQ 1172 3119 1398 2916 \nQ 1625 2713 2034 2713 \nQ 2441 2713 2670 2916 \nQ 2900 3119 2900 3481 \nQ 2900 3844 2670 4047 \nQ 2441 4250 2034 4250 \nQ 1625 4250 1398 4047 \nQ 1172 3844 1172 3481 \nz\n\" transform=\"scale(0.015625)\"/>\n       </defs>\n       <use xlink:href=\"#DejaVuSans-38\"/>\n      </g>\n     </g>\n    </g>\n    <g id=\"xtick_4\">\n     <g id=\"line2d_4\">\n      <g>\n       <use xlink:href=\"#ma930a2621b\" x=\"179.050988\" y=\"224.64\" style=\"stroke: #000000; stroke-width: 0.8\"/>\n      </g>\n     </g>\n     <g id=\"text_4\">\n      <!-- 10 -->\n      <g transform=\"translate(172.688488 239.238437)scale(0.1 -0.1)\">\n       <defs>\n        <path id=\"DejaVuSans-31\" d=\"M 794 531 \nL 1825 531 \nL 1825 4091 \nL 703 3866 \nL 703 4441 \nL 1819 4666 \nL 2450 4666 \nL 2450 531 \nL 3481 531 \nL 3481 0 \nL 794 0 \nL 794 531 \nz\n\" transform=\"scale(0.015625)\"/>\n        <path id=\"DejaVuSans-30\" d=\"M 2034 4250 \nQ 1547 4250 1301 3770 \nQ 1056 3291 1056 2328 \nQ 1056 1369 1301 889 \nQ 1547 409 2034 409 \nQ 2525 409 2770 889 \nQ 3016 1369 3016 2328 \nQ 3016 3291 2770 3770 \nQ 2525 4250 2034 4250 \nz\nM 2034 4750 \nQ 2819 4750 3233 4129 \nQ 3647 3509 3647 2328 \nQ 3647 1150 3233 529 \nQ 2819 -91 2034 -91 \nQ 1250 -91 836 529 \nQ 422 1150 422 2328 \nQ 422 3509 836 4129 \nQ 1250 4750 2034 4750 \nz\n\" transform=\"scale(0.015625)\"/>\n       </defs>\n       <use xlink:href=\"#DejaVuSans-31\"/>\n       <use xlink:href=\"#DejaVuSans-30\" x=\"63.623047\"/>\n      </g>\n     </g>\n    </g>\n    <g id=\"xtick_5\">\n     <g id=\"line2d_5\">\n      <g>\n       <use xlink:href=\"#ma930a2621b\" x=\"226.659709\" y=\"224.64\" style=\"stroke: #000000; stroke-width: 0.8\"/>\n      </g>\n     </g>\n     <g id=\"text_5\">\n      <!-- 12 -->\n      <g transform=\"translate(220.297209 239.238437)scale(0.1 -0.1)\">\n       <defs>\n        <path id=\"DejaVuSans-32\" d=\"M 1228 531 \nL 3431 531 \nL 3431 0 \nL 469 0 \nL 469 531 \nQ 828 903 1448 1529 \nQ 2069 2156 2228 2338 \nQ 2531 2678 2651 2914 \nQ 2772 3150 2772 3378 \nQ 2772 3750 2511 3984 \nQ 2250 4219 1831 4219 \nQ 1534 4219 1204 4116 \nQ 875 4013 500 3803 \nL 500 4441 \nQ 881 4594 1212 4672 \nQ 1544 4750 1819 4750 \nQ 2544 4750 2975 4387 \nQ 3406 4025 3406 3419 \nQ 3406 3131 3298 2873 \nQ 3191 2616 2906 2266 \nQ 2828 2175 2409 1742 \nQ 1991 1309 1228 531 \nz\n\" transform=\"scale(0.015625)\"/>\n       </defs>\n       <use xlink:href=\"#DejaVuSans-31\"/>\n       <use xlink:href=\"#DejaVuSans-32\" x=\"63.623047\"/>\n      </g>\n     </g>\n    </g>\n    <g id=\"xtick_6\">\n     <g id=\"line2d_6\">\n      <g>\n       <use xlink:href=\"#ma930a2621b\" x=\"274.268431\" y=\"224.64\" style=\"stroke: #000000; stroke-width: 0.8\"/>\n      </g>\n     </g>\n     <g id=\"text_6\">\n      <!-- 14 -->\n      <g transform=\"translate(267.905931 239.238437)scale(0.1 -0.1)\">\n       <use xlink:href=\"#DejaVuSans-31\"/>\n       <use xlink:href=\"#DejaVuSans-34\" x=\"63.623047\"/>\n      </g>\n     </g>\n    </g>\n    <g id=\"xtick_7\">\n     <g id=\"line2d_7\">\n      <g>\n       <use xlink:href=\"#ma930a2621b\" x=\"321.877152\" y=\"224.64\" style=\"stroke: #000000; stroke-width: 0.8\"/>\n      </g>\n     </g>\n     <g id=\"text_7\">\n      <!-- 16 -->\n      <g transform=\"translate(315.514652 239.238437)scale(0.1 -0.1)\">\n       <use xlink:href=\"#DejaVuSans-31\"/>\n       <use xlink:href=\"#DejaVuSans-36\" x=\"63.623047\"/>\n      </g>\n     </g>\n    </g>\n   </g>\n   <g id=\"matplotlib.axis_2\">\n    <g id=\"ytick_1\">\n     <g id=\"line2d_8\">\n      <defs>\n       <path id=\"me36676055f\" d=\"M 0 0 \nL -3.5 0 \n\" style=\"stroke: #000000; stroke-width: 0.8\"/>\n      </defs>\n      <g>\n       <use xlink:href=\"#me36676055f\" x=\"30.103125\" y=\"214.756364\" style=\"stroke: #000000; stroke-width: 0.8\"/>\n      </g>\n     </g>\n     <g id=\"text_8\">\n      <!-- 0.0 -->\n      <g transform=\"translate(7.2 218.555582)scale(0.1 -0.1)\">\n       <defs>\n        <path id=\"DejaVuSans-2e\" d=\"M 684 794 \nL 1344 794 \nL 1344 0 \nL 684 0 \nL 684 794 \nz\n\" transform=\"scale(0.015625)\"/>\n       </defs>\n       <use xlink:href=\"#DejaVuSans-30\"/>\n       <use xlink:href=\"#DejaVuSans-2e\" x=\"63.623047\"/>\n       <use xlink:href=\"#DejaVuSans-30\" x=\"95.410156\"/>\n      </g>\n     </g>\n    </g>\n    <g id=\"ytick_2\">\n     <g id=\"line2d_9\">\n      <g>\n       <use xlink:href=\"#me36676055f\" x=\"30.103125\" y=\"174.537502\" style=\"stroke: #000000; stroke-width: 0.8\"/>\n      </g>\n     </g>\n     <g id=\"text_9\">\n      <!-- 0.2 -->\n      <g transform=\"translate(7.2 178.336721)scale(0.1 -0.1)\">\n       <use xlink:href=\"#DejaVuSans-30\"/>\n       <use xlink:href=\"#DejaVuSans-2e\" x=\"63.623047\"/>\n       <use xlink:href=\"#DejaVuSans-32\" x=\"95.410156\"/>\n      </g>\n     </g>\n    </g>\n    <g id=\"ytick_3\">\n     <g id=\"line2d_10\">\n      <g>\n       <use xlink:href=\"#me36676055f\" x=\"30.103125\" y=\"134.31864\" style=\"stroke: #000000; stroke-width: 0.8\"/>\n      </g>\n     </g>\n     <g id=\"text_10\">\n      <!-- 0.4 -->\n      <g transform=\"translate(7.2 138.117859)scale(0.1 -0.1)\">\n       <use xlink:href=\"#DejaVuSans-30\"/>\n       <use xlink:href=\"#DejaVuSans-2e\" x=\"63.623047\"/>\n       <use xlink:href=\"#DejaVuSans-34\" x=\"95.410156\"/>\n      </g>\n     </g>\n    </g>\n    <g id=\"ytick_4\">\n     <g id=\"line2d_11\">\n      <g>\n       <use xlink:href=\"#me36676055f\" x=\"30.103125\" y=\"94.099778\" style=\"stroke: #000000; stroke-width: 0.8\"/>\n      </g>\n     </g>\n     <g id=\"text_11\">\n      <!-- 0.6 -->\n      <g transform=\"translate(7.2 97.898997)scale(0.1 -0.1)\">\n       <use xlink:href=\"#DejaVuSans-30\"/>\n       <use xlink:href=\"#DejaVuSans-2e\" x=\"63.623047\"/>\n       <use xlink:href=\"#DejaVuSans-36\" x=\"95.410156\"/>\n      </g>\n     </g>\n    </g>\n    <g id=\"ytick_5\">\n     <g id=\"line2d_12\">\n      <g>\n       <use xlink:href=\"#me36676055f\" x=\"30.103125\" y=\"53.880917\" style=\"stroke: #000000; stroke-width: 0.8\"/>\n      </g>\n     </g>\n     <g id=\"text_12\">\n      <!-- 0.8 -->\n      <g transform=\"translate(7.2 57.680135)scale(0.1 -0.1)\">\n       <use xlink:href=\"#DejaVuSans-30\"/>\n       <use xlink:href=\"#DejaVuSans-2e\" x=\"63.623047\"/>\n       <use xlink:href=\"#DejaVuSans-38\" x=\"95.410156\"/>\n      </g>\n     </g>\n    </g>\n    <g id=\"ytick_6\">\n     <g id=\"line2d_13\">\n      <g>\n       <use xlink:href=\"#me36676055f\" x=\"30.103125\" y=\"13.662055\" style=\"stroke: #000000; stroke-width: 0.8\"/>\n      </g>\n     </g>\n     <g id=\"text_13\">\n      <!-- 1.0 -->\n      <g transform=\"translate(7.2 17.461274)scale(0.1 -0.1)\">\n       <use xlink:href=\"#DejaVuSans-31\"/>\n       <use xlink:href=\"#DejaVuSans-2e\" x=\"63.623047\"/>\n       <use xlink:href=\"#DejaVuSans-30\" x=\"95.410156\"/>\n      </g>\n     </g>\n    </g>\n   </g>\n   <g id=\"line2d_14\">\n    <defs>\n     <path id=\"m01a19e7da2\" d=\"M 0 3 \nC 0.795609 3 1.55874 2.683901 2.12132 2.12132 \nC 2.683901 1.55874 3 0.795609 3 0 \nC 3 -0.795609 2.683901 -1.55874 2.12132 -2.12132 \nC 1.55874 -2.683901 0.795609 -3 0 -3 \nC -0.795609 -3 -1.55874 -2.683901 -2.12132 -2.12132 \nC -2.683901 -1.55874 -3 -0.795609 -3 0 \nC -3 0.795609 -2.683901 1.55874 -2.12132 2.12132 \nC -1.55874 2.683901 -0.795609 3 0 3 \nz\n\" style=\"stroke: #1f77b4\"/>\n    </defs>\n    <g clip-path=\"url(#p3636097902)\">\n     <use xlink:href=\"#m01a19e7da2\" x=\"45.321307\" y=\"17.683941\" style=\"fill: #1f77b4; stroke: #1f77b4\"/>\n     <use xlink:href=\"#m01a19e7da2\" x=\"63.041849\" y=\"17.683941\" style=\"fill: #1f77b4; stroke: #1f77b4\"/>\n     <use xlink:href=\"#m01a19e7da2\" x=\"74.252839\" y=\"19.694884\" style=\"fill: #1f77b4; stroke: #1f77b4\"/>\n     <use xlink:href=\"#m01a19e7da2\" x=\"81.666533\" y=\"21.705827\" style=\"fill: #1f77b4; stroke: #1f77b4\"/>\n     <use xlink:href=\"#m01a19e7da2\" x=\"87.091048\" y=\"23.71677\" style=\"fill: #1f77b4; stroke: #1f77b4\"/>\n     <use xlink:href=\"#m01a19e7da2\" x=\"92.5159\" y=\"26.733185\" style=\"fill: #1f77b4; stroke: #1f77b4\"/>\n     <use xlink:href=\"#m01a19e7da2\" x=\"97.759857\" y=\"29.7496\" style=\"fill: #1f77b4; stroke: #1f77b4\"/>\n     <use xlink:href=\"#m01a19e7da2\" x=\"101.918606\" y=\"31.760543\" style=\"fill: #1f77b4; stroke: #1f77b4\"/>\n     <use xlink:href=\"#m01a19e7da2\" x=\"105.173382\" y=\"33.771486\" style=\"fill: #1f77b4; stroke: #1f77b4\"/>\n     <use xlink:href=\"#m01a19e7da2\" x=\"108.42799\" y=\"35.782429\" style=\"fill: #1f77b4; stroke: #1f77b4\"/>\n     <use xlink:href=\"#m01a19e7da2\" x=\"111.682935\" y=\"37.793372\" style=\"fill: #1f77b4; stroke: #1f77b4\"/>\n     <use xlink:href=\"#m01a19e7da2\" x=\"115.299334\" y=\"41.815258\" style=\"fill: #1f77b4; stroke: #1f77b4\"/>\n     <use xlink:href=\"#m01a19e7da2\" x=\"119.458252\" y=\"46.842616\" style=\"fill: #1f77b4; stroke: #1f77b4\"/>\n     <use xlink:href=\"#m01a19e7da2\" x=\"124.70204\" y=\"51.869974\" style=\"fill: #1f77b4; stroke: #1f77b4\"/>\n     <use xlink:href=\"#m01a19e7da2\" x=\"129.583866\" y=\"55.89186\" style=\"fill: #1f77b4; stroke: #1f77b4\"/>\n    </g>\n   </g>\n   <g id=\"line2d_15\">\n    <defs>\n     <path id=\"m57c2ae57cb\" d=\"M 0 3 \nC 0.795609 3 1.55874 2.683901 2.12132 2.12132 \nC 2.683901 1.55874 3 0.795609 3 0 \nC 3 -0.795609 2.683901 -1.55874 2.12132 -2.12132 \nC 1.55874 -2.683901 0.795609 -3 0 -3 \nC -0.795609 -3 -1.55874 -2.683901 -2.12132 -2.12132 \nC -2.683901 -1.55874 -3 -0.795609 -3 0 \nC -3 0.795609 -2.683901 1.55874 -2.12132 2.12132 \nC -1.55874 2.683901 -0.795609 3 0 3 \nz\n\" style=\"stroke: #ff7f0e\"/>\n    </defs>\n    <g clip-path=\"url(#p3636097902)\">\n     <use xlink:href=\"#m57c2ae57cb\" x=\"129.583866\" y=\"55.89186\" style=\"fill: #ff7f0e; stroke: #ff7f0e\"/>\n     <use xlink:href=\"#m57c2ae57cb\" x=\"150.366634\" y=\"59.913746\" style=\"fill: #ff7f0e; stroke: #ff7f0e\"/>\n     <use xlink:href=\"#m57c2ae57cb\" x=\"199.883993\" y=\"82.03412\" style=\"fill: #ff7f0e; stroke: #ff7f0e\"/>\n     <use xlink:href=\"#m57c2ae57cb\" x=\"242.893826\" y=\"104.154494\" style=\"fill: #ff7f0e; stroke: #ff7f0e\"/>\n     <use xlink:href=\"#m57c2ae57cb\" x=\"276.14389\" y=\"124.263925\" style=\"fill: #ff7f0e; stroke: #ff7f0e\"/>\n     <use xlink:href=\"#m57c2ae57cb\" x=\"299.454135\" y=\"148.395242\" style=\"fill: #ff7f0e; stroke: #ff7f0e\"/>\n     <use xlink:href=\"#m57c2ae57cb\" x=\"321.498615\" y=\"170.515616\" style=\"fill: #ff7f0e; stroke: #ff7f0e\"/>\n     <use xlink:href=\"#m57c2ae57cb\" x=\"349.684943\" y=\"214.756364\" style=\"fill: #ff7f0e; stroke: #ff7f0e\"/>\n    </g>\n   </g>\n   <g id=\"line2d_16\">\n    <path d=\"M 45.321307 18.090669 \nL 46.172444 17.949339 \nL 47.023581 17.818686 \nL 47.874718 17.69871 \nL 48.725855 17.589411 \nL 49.576992 17.490788 \nL 50.428129 17.402842 \nL 51.279266 17.325573 \nL 52.130403 17.25898 \nL 52.981539 17.203064 \nL 53.832676 17.157825 \nL 54.683813 17.123263 \nL 55.53495 17.099377 \nL 56.386087 17.086168 \nL 57.237224 17.083636 \nL 58.088361 17.091781 \nL 58.939498 17.110602 \nL 59.790635 17.1401 \nL 60.641772 17.180275 \nL 61.492909 17.231127 \nL 62.344046 17.292655 \nL 63.195183 17.36486 \nL 64.04632 17.447742 \nL 64.897457 17.5413 \nL 65.748594 17.645535 \nL 66.599731 17.760447 \nL 67.450868 17.886036 \nL 68.302005 18.022301 \nL 69.153142 18.169243 \nL 70.004279 18.326862 \nL 70.855416 18.495158 \nL 71.706553 18.67413 \nL 72.55769 18.863779 \nL 73.408827 19.064105 \nL 74.259964 19.275107 \nL 75.111101 19.496787 \nL 75.962238 19.729143 \nL 76.813374 19.972175 \nL 77.664511 20.225885 \nL 78.515648 20.490271 \nL 79.366785 20.765334 \nL 80.217922 21.051074 \nL 81.069059 21.34749 \nL 81.920196 21.654583 \nL 82.771333 21.972353 \nL 83.62247 22.300799 \nL 84.473607 22.639923 \nL 85.324744 22.989723 \nL 86.175881 23.350199 \nL 87.027018 23.721353 \nL 87.878155 24.103183 \nL 88.729292 24.49569 \nL 89.580429 24.898874 \nL 90.431566 25.312734 \nL 91.282703 25.737271 \nL 92.13384 26.172485 \nL 92.984977 26.618376 \nL 93.836114 27.074943 \nL 94.687251 27.542187 \nL 95.538388 28.020108 \nL 96.389525 28.508705 \nL 97.240662 29.00798 \nL 98.091799 29.517931 \nL 98.942936 30.038558 \nL 99.794073 30.569863 \nL 100.645209 31.111844 \nL 101.496346 31.664502 \nL 102.347483 32.227837 \nL 103.19862 32.801848 \nL 104.049757 33.386536 \nL 104.900894 33.981901 \nL 105.752031 34.587943 \nL 106.603168 35.204661 \nL 107.454305 35.832056 \nL 108.305442 36.470128 \nL 109.156579 37.118876 \nL 110.007716 37.778301 \nL 110.858853 38.448403 \nL 111.70999 39.129182 \nL 112.561127 39.820638 \nL 113.412264 40.52277 \nL 114.263401 41.235579 \nL 115.114538 41.959064 \nL 115.965675 42.693227 \nL 116.816812 43.438066 \nL 117.667949 44.193581 \nL 118.519086 44.959774 \nL 119.370223 45.736643 \nL 120.22136 46.524189 \nL 121.072497 47.322412 \nL 121.923634 48.131312 \nL 122.774771 48.950888 \nL 123.625908 49.781141 \nL 124.477044 50.62207 \nL 125.328181 51.473677 \nL 126.179318 52.33596 \nL 127.030455 53.20892 \nL 127.881592 54.092556 \nL 128.732729 54.98687 \nL 129.583866 55.89186 \n\" clip-path=\"url(#p3636097902)\" style=\"fill: none; stroke: #2ca02c; stroke-width: 1.5; stroke-linecap: square\"/>\n   </g>\n   <g id=\"line2d_17\">\n    <path d=\"M 129.583866 55.89186 \nL 131.807109 56.252252 \nL 134.030353 56.628715 \nL 136.253596 57.021521 \nL 138.476839 57.430939 \nL 140.700082 57.857241 \nL 142.923325 58.300698 \nL 145.146569 58.761581 \nL 147.369812 59.240161 \nL 149.593055 59.736708 \nL 151.816298 60.251495 \nL 154.039541 60.784791 \nL 156.262785 61.336869 \nL 158.486028 61.907998 \nL 160.709271 62.49845 \nL 162.932514 63.108496 \nL 165.155757 63.738407 \nL 167.379001 64.388454 \nL 169.602244 65.058907 \nL 171.825487 65.750039 \nL 174.04873 66.462119 \nL 176.271973 67.195419 \nL 178.495217 67.95021 \nL 180.71846 68.726762 \nL 182.941703 69.525348 \nL 185.164946 70.346237 \nL 187.388189 71.189701 \nL 189.611433 72.05601 \nL 191.834676 72.945437 \nL 194.057919 73.858251 \nL 196.281162 74.794724 \nL 198.504406 75.755126 \nL 200.727649 76.73973 \nL 202.950892 77.748805 \nL 205.174135 78.782623 \nL 207.397378 79.841454 \nL 209.620622 80.92557 \nL 211.843865 82.035242 \nL 214.067108 83.170741 \nL 216.290351 84.332337 \nL 218.513594 85.520302 \nL 220.736838 86.734906 \nL 222.960081 87.976421 \nL 225.183324 89.245118 \nL 227.406567 90.541268 \nL 229.62981 91.865141 \nL 231.853054 93.217008 \nL 234.076297 94.597141 \nL 236.29954 96.005811 \nL 238.522783 97.443289 \nL 240.746026 98.909845 \nL 242.96927 100.40575 \nL 245.192513 101.931276 \nL 247.415756 103.486694 \nL 249.638999 105.072274 \nL 251.862242 106.688288 \nL 254.085486 108.335007 \nL 256.308729 110.0127 \nL 258.531972 111.721641 \nL 260.755215 113.462099 \nL 262.978458 115.234345 \nL 265.201702 117.038651 \nL 267.424945 118.875287 \nL 269.648188 120.744525 \nL 271.871431 122.646635 \nL 274.094674 124.581889 \nL 276.317918 126.550557 \nL 278.541161 128.552911 \nL 280.764404 130.589221 \nL 282.987647 132.659759 \nL 285.21089 134.764795 \nL 287.434134 136.9046 \nL 289.657377 139.079446 \nL 291.88062 141.289603 \nL 294.103863 143.535342 \nL 296.327106 145.816935 \nL 298.55035 148.134653 \nL 300.773593 150.488765 \nL 302.996836 152.879544 \nL 305.220079 155.307261 \nL 307.443322 157.772185 \nL 309.666566 160.27459 \nL 311.889809 162.814744 \nL 314.113052 165.39292 \nL 316.336295 168.009388 \nL 318.559538 170.664419 \nL 320.782782 173.358285 \nL 323.006025 176.091256 \nL 325.229268 178.863603 \nL 327.452511 181.675597 \nL 329.675754 184.52751 \nL 331.898998 187.419612 \nL 334.122241 190.352174 \nL 336.345484 193.325468 \nL 338.568727 196.339763 \nL 340.79197 199.395332 \nL 343.015214 202.492445 \nL 345.238457 205.631374 \nL 347.4617 208.812388 \nL 349.684943 212.03576 \n\" clip-path=\"url(#p3636097902)\" style=\"fill: none; stroke: #d62728; stroke-width: 1.5; stroke-linecap: square\"/>\n   </g>\n   <g id=\"patch_3\">\n    <path d=\"M 30.103125 224.64 \nL 30.103125 7.2 \n\" style=\"fill: none; stroke: #000000; stroke-width: 0.8; stroke-linejoin: miter; stroke-linecap: square\"/>\n   </g>\n   <g id=\"patch_4\">\n    <path d=\"M 364.903125 224.64 \nL 364.903125 7.2 \n\" style=\"fill: none; stroke: #000000; stroke-width: 0.8; stroke-linejoin: miter; stroke-linecap: square\"/>\n   </g>\n   <g id=\"patch_5\">\n    <path d=\"M 30.103125 224.64 \nL 364.903125 224.64 \n\" style=\"fill: none; stroke: #000000; stroke-width: 0.8; stroke-linejoin: miter; stroke-linecap: square\"/>\n   </g>\n   <g id=\"patch_6\">\n    <path d=\"M 30.103125 7.2 \nL 364.903125 7.2 \n\" style=\"fill: none; stroke: #000000; stroke-width: 0.8; stroke-linejoin: miter; stroke-linecap: square\"/>\n   </g>\n  </g>\n </g>\n <defs>\n  <clipPath id=\"p3636097902\">\n   <rect x=\"30.103125\" y=\"7.2\" width=\"334.8\" height=\"217.44\"/>\n  </clipPath>\n </defs>\n</svg>\n"
          },
          "metadata": {
            "needs_background": "light"
          }
        }
      ]
    },
    {
      "cell_type": "code",
      "metadata": {
        "id": "xG8RLIQ4xQZj"
      },
      "source": [],
      "execution_count": 7,
      "outputs": []
    }
  ]
}