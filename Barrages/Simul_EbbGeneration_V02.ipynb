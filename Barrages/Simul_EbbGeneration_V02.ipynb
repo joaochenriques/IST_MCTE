{
  "nbformat": 4,
  "nbformat_minor": 0,
  "metadata": {
    "kernelspec": {
      "display_name": "Python 3",
      "language": "python",
      "name": "python3"
    },
    "language_info": {
      "codemirror_mode": {
        "name": "ipython",
        "version": 3
      },
      "file_extension": ".py",
      "mimetype": "text/x-python",
      "name": "python",
      "nbconvert_exporter": "python",
      "pygments_lexer": "ipython3",
      "version": "3.7.6"
    },
    "colab": {
      "name": "Simul_EbbGeneration_V02.ipynb",
      "provenance": [],
      "include_colab_link": true
    }
  },
  "cells": [
    {
      "cell_type": "markdown",
      "metadata": {
        "id": "view-in-github",
        "colab_type": "text"
      },
      "source": [
        "<a href=\"https://colab.research.google.com/github/joaochenriques/MCTE_2022/blob/main/Barrages/Simul_EbbGeneration_V02.ipynb\" target=\"_parent\"><img src=\"https://colab.research.google.com/assets/colab-badge.svg\" alt=\"Open In Colab\"/></a>"
      ]
    },
    {
      "cell_type": "code",
      "source": [
        "import pathlib\n",
        "if not pathlib.Path(\"mpl_utils.py\").exists():\n",
        "  !curl -O https://raw.githubusercontent.com/joaochenriques/MCTE_2022/main/libs/mpl_utils.py"
      ],
      "metadata": {
        "id": "o2xOvJBKGEar",
        "outputId": "cbf62d86-e1a3-4696-9969-ea19eb54cccb",
        "colab": {
          "base_uri": "https://localhost:8080/"
        }
      },
      "execution_count": 2,
      "outputs": [
        {
          "output_type": "stream",
          "name": "stdout",
          "text": [
            "  % Total    % Received % Xferd  Average Speed   Time    Time     Time  Current\n",
            "                                 Dload  Upload   Total   Spent    Left  Speed\n",
            "\r  0     0    0     0    0     0      0      0 --:--:-- --:--:-- --:--:--     0\r100  2038  100  2038    0     0   9523      0 --:--:-- --:--:-- --:--:--  9523\n"
          ]
        }
      ]
    },
    {
      "cell_type": "code",
      "source": [
        "from typing import Callable, List, Tuple"
      ],
      "metadata": {
        "id": "ro5uIUh56kTg"
      },
      "execution_count": 4,
      "outputs": []
    },
    {
      "cell_type": "code",
      "metadata": {
        "id": "y0PSNQCFH9QU"
      },
      "source": [
        "from dataclasses import dataclass, field\n",
        "import matplotlib.pyplot as mpl\n",
        "import numpy as np\n",
        "import mpl_utils as mut\n",
        "mut.config_plots()\n",
        "\n",
        "%config InlineBackend.figure_formats = ['svg']"
      ],
      "execution_count": 5,
      "outputs": []
    },
    {
      "cell_type": "code",
      "metadata": {
        "id": "Vwc2EpKvzDwk"
      },
      "source": [
        "mpl.rcParams[\"figure.figsize\"] = (12, 3)\n",
        "#np.warnings.filterwarnings('error', category=np.VisibleDeprecationWarning) "
      ],
      "execution_count": 6,
      "outputs": []
    },
    {
      "cell_type": "markdown",
      "source": [
        "# Algebraic models"
      ],
      "metadata": {
        "id": "LEELGW_8wMOx"
      }
    },
    {
      "cell_type": "markdown",
      "metadata": {
        "id": "8tz83DVNJeyp"
      },
      "source": [
        "## Barrage simulator in ebb mode\n",
        "\n",
        "The following models were implemented to simulate the tidal power plant:\n",
        "\n",
        "* The basin\n",
        "* The tide\n",
        "* Hydraulic turbines\n",
        "* Electrical generators\n",
        "* Sluice gates\n",
        "* Power plant controller"
      ]
    },
    {
      "cell_type": "markdown",
      "metadata": {
        "id": "6nPHWWjmqNWx"
      },
      "source": [
        "## Turbine hill map and turbine operating curve\n",
        "\n",
        "<img src=\"https://raw.githubusercontent.com/joaochenriques/MCTE_2022/main/Barrages/TurbineGeneratorMaps/TurbineHill_Plot.svg\" width=\"500px\" style=\"display:inline\">\n",
        "\n",
        "\n",
        "### Turbine mode\n",
        "\n",
        "Turbine dimensionless numbers\n",
        "\n",
        "* Rotational speed $$n_{11}=\\dfrac{\\Omega D}{\\sqrt{gh}}.$$\n",
        "\n",
        "* Flow rate $$Q_{11} = \\dfrac{Q}{D^2\\sqrt{gh}}.$$\n",
        "\n",
        "* Efficiency $$\\eta_\\mathrm{turb} = \\dfrac{P_\\mathrm{turb}}{P_\\mathrm{avail}}.$$\n",
        "\n",
        "\n",
        "The power available to the turbine is given by \n",
        "\n",
        "$$P_\\mathrm{avail} = \\rho g h(t) \\, Q(t),$$\n",
        "\n",
        "where\n",
        "\n",
        "$$Q = D^2 \\sqrt{gh} \\, Q_{11}\\!\\big( n_{11} \\big).$$\n",
        "\n",
        "The turbine is to be operated at constant rotational speed due to the use of a synchronous generator (see generator class).\n",
        "\n",
        "The available energy is\n",
        "\n",
        "$$\\dfrac{\\text{d} E_\\text{avail}}{\\text{d}t} = P_\\text{avail}.$$\n",
        "\n",
        "The energy harvest by the turbine is\n",
        "\n",
        "$$\\dfrac{\\text{d} E_\\text{turb}}{\\text{d}t}=\\eta_\\text{turb}\\big( n_{11}\\big) \\, P_\\text{avail},$$\n",
        "\n",
        "The mean turbine efficiency is \n",
        "\n",
        "$$\\overline{\\eta_\\text{turb}} = \\dfrac{E_\\text{turb}}{E_\\text{avail}}.$$\n",
        "\n",
        "### Sluicing mode\n",
        "\n",
        "The in sluicing mode the \"turbine\" is modelled as \n",
        "\n",
        "$$Q_\\mathrm{turb}^\\mathrm{sluice} = C_\\mathrm{d} A_\\mathrm{turb} \\sqrt{ 2 g h }$$\n",
        "\n",
        "where $A_\\mathrm{turb}$ is the area corresponding to the turbine rotor diameter.\n",
        "\n"
      ]
    },
    {
      "cell_type": "code",
      "metadata": {
        "id": "AShbPG_eqPVq",
        "colab": {
          "base_uri": "https://localhost:8080/"
        },
        "outputId": "3572da1c-4e89-4d82-a9e0-808d4dbd3281"
      },
      "source": [
        "@dataclass\n",
        "class TurbineModel:\n",
        "\n",
        "  # flow rate: efficiency: red line of the map \n",
        "  poly_CQ1: np.poly1d = np.poly1d( np.array([0.16928201, 0.08989368]) )\n",
        "\n",
        "  # flow rate: green line of the map\n",
        "  poly_CQ2: np.poly1d = np.poly1d( np.array([-3.63920467e-04,  9.37677378e-03, \n",
        "                                         -9.25873626e-02,  1.75687197e+00]) )\n",
        "\n",
        "  # efficiency: red line of the map\n",
        "  poly_CE1: np.poly1d = np.poly1d( np.array([-0.02076456, 0.20238444, \n",
        "                                              0.48984553]) )\n",
        "  # efficiency: green line of the map\n",
        "  poly_CE2: np.poly1d = np.poly1d( np.array([-2.75685709e-04,  2.04822984e-03,  \n",
        "                                             6.86081825e-04,  7.93083108e-01]) )\n",
        "\n",
        "  # n11 interpolation domain\n",
        "  n11_min: float =  4.38\n",
        "  n11_max: float = 17.17\n",
        "\n",
        "  # other data\n",
        "  ga: float = 9.8         # gravity aceleration\n",
        "  ρw: float = 1025.0      # water density\n",
        "  CD_sluice: float = 1.0  # discharge coefficient in sluice mode\n",
        "\n",
        "  #=============================================================================\n",
        "  def __init__( self, D_turb, Omega ) -> None:\n",
        "\n",
        "    self.Omega = Omega    # we are assuming constant rotational speed model\n",
        "    self.D_turb = D_turb  # turbine rotor diameter\n",
        "    self.A_turb = np.pi*(D_turb/2.0)**2 \n",
        "\n",
        "    # constants used in for computing n11 and QT\n",
        "    self.CT0 = Omega * D_turb / np.sqrt( self.ga )\n",
        "    self.CT1 = D_turb**2 * np.sqrt( self.ga )\n",
        "\n",
        "  def n11_range( self ) -> tuple:\n",
        "    return ( self.n11_min, self.n11_max )\n",
        "\n",
        "  # dimensionless velocity\n",
        "  def n11( self, h: float ) -> float:\n",
        "    # avoid division by zero on h = 0.0\n",
        "    return self.CT0 / np.sqrt( max( h, 1E-3 ) ) \n",
        "\n",
        "  # dimensionless flow rate\n",
        "  def Q11( self, n11: float ) -> float:\n",
        "    assert( n11 >= self.n11_min ), \"n11 small than admissable minimum\"\n",
        "    assert( n11 <= self.n11_max ), \"n11 greater than admissable maximum\"\n",
        "    if n11 < 7.92193:\n",
        "      return self.poly_CQ1( n11 ) \n",
        "    else:\n",
        "      return self.poly_CQ2( n11 )\n",
        "\n",
        "  # efficiency\n",
        "  def eta( self, n11: float ) -> float:\n",
        "    assert( n11 >= self.n11_min ), \"n11 small than admissable minimum\"\n",
        "    assert( n11 <= self.n11_max ), \"n11 greater than admissable maximum\"\n",
        "    if n11 < 7.92193:\n",
        "      return self.poly_CE1( n11 ) * 0.912\n",
        "    else:\n",
        "      return self.poly_CE2( n11 ) * 0.912\n",
        "\n",
        "  # computing operational data\n",
        "  def operating_point( self, h: float ) -> float:\n",
        "    n11 = self.n11( h )\n",
        "    QT = self.CT1 * self.Q11( n11 ) * np.sqrt( h )\n",
        "    PH = self.ρw * self.ga * h * QT\n",
        "    ηT = self.eta( n11 )\n",
        "    return QT, PH, ηT  \n",
        "  \n",
        "  # turbine flow rate in sluice mode\n",
        "  def sluicing( self, h: float ) -> float:\n",
        "    QS = -self.CD_sluice * self.A_turb * np.sqrt( 2.0 * self.ga * max( -h, 0.0 ) )\n",
        "    return QS\n",
        "\n",
        "tmp = TurbineModel( 5.5, 92.9 )\n",
        "tmp.n11_range()"
      ],
      "execution_count": 7,
      "outputs": [
        {
          "output_type": "execute_result",
          "data": {
            "text/plain": [
              "(4.38, 17.17)"
            ]
          },
          "metadata": {},
          "execution_count": 7
        }
      ]
    },
    {
      "cell_type": "markdown",
      "metadata": {
        "id": "Ua-NyvCooaRt"
      },
      "source": [
        "## Generator efficiency curve\n",
        "\n",
        "The electrical generator is assumed to be a synchronous machine. The rotational speed is given by\n",
        "\n",
        "$$\\Omega = \\dfrac{2\\pi f}{p}$$\n",
        "\n",
        "where $f$ is the electrical grid frequency and $p$ is the number of pairs of poles.\n",
        "\n",
        "The generator efficiency is computed as a function of the load\n",
        "\n",
        "$$\\Lambda = \\dfrac{P_\\mathrm{turb}}{P_\\mathrm{gen}^\\mathrm{rated}}$$\n",
        "\n",
        "\n",
        "<img src=\"https://raw.githubusercontent.com/joaochenriques/MCTE_2020_2021/main/Barrages_Turbine_Generator_Maps/GeneratorEff_plot.svg\" width=\"400px\" style=\"display:inline\">\n",
        "\n",
        "Electrical power output is\n",
        "\n",
        "$$P_\\mathrm{gen} =\\eta_\\mathrm{gen}(\\Lambda) \\, P_\\mathrm{turb},$$\n",
        "\n",
        "and the converted energy is\n",
        "\n",
        "$$\\dfrac{\\mathrm{d} E_\\mathrm{gen}}{\\mathrm{d} t} = P_\\mathrm{gen}.$$\n",
        "\n",
        "The mean generator efficiency is\n",
        "\n",
        "$$\\overline{\\eta_\\mathrm{gen}}=\\dfrac{E_\\mathrm{gen}}{E_\\mathrm{turb}}.$$\n",
        "\n"
      ]
    },
    {
      "cell_type": "code",
      "metadata": {
        "id": "4eesXVcLBZfw"
      },
      "source": [
        "@dataclass\n",
        "class GeneratorModel:\n",
        "\n",
        "  # red part of the curve\n",
        "  poly_C1: np.poly1d = np.poly1d( np.array([-6.71448631e+03,  2.59159775e+03, \n",
        "                                            -3.80834059e+02,  2.70423225e+01, \n",
        "                                             3.29394948e-03]) )\n",
        "  # green part of the curve\n",
        "  poly_C2: np.poly1d = np.poly1d( np.array([-1.16856952,  3.31172525, \n",
        "                                            -3.44296217,  1.5416029 ,  \n",
        "                                             0.71040716]) )\n",
        "    \n",
        "  #=============================================================================\n",
        "  def __init__( self, Pgen_rated: float ) -> None:\n",
        "    self.Pgen_rated = Pgen_rated\n",
        "\n",
        "  # efficiency as a function of the load\n",
        "  def eta( self, Pturb: float ) -> float:\n",
        "    load = Pturb / self.Pgen_rated\n",
        "\n",
        "    assert( load >= 0.0 ), \"turbine power lower than zero\"\n",
        "    assert( load <= 1.0 ), \"generator rated power to low (%f)\" % Pturb\n",
        "    if load < 0.12542:\n",
        "      return self.poly_C1( load ) \n",
        "    else:\n",
        "      return self.poly_C2( load )"
      ],
      "execution_count": 8,
      "outputs": []
    },
    {
      "cell_type": "markdown",
      "metadata": {
        "id": "7Qkcw2dT9WCa"
      },
      "source": [
        "## Sluice gates\n",
        "\n",
        "The sluice gates are modelled as a turbulent pressure drop\n",
        "\n",
        "$$Q_\\mathrm{sluice} = C_\\mathrm{d} A \\sqrt{ 2 g h }$$\n",
        "\n",
        "typical discharge coefficients for barrage sluice gates are within the range $0.8 \\le C_\\mathrm{d} \\le 1.2$. Here we use $C_\\mathrm{d}=1.0$. "
      ]
    },
    {
      "cell_type": "code",
      "metadata": {
        "id": "U5xkPKiOXGU_"
      },
      "source": [
        "@dataclass\n",
        "class GateModel:\n",
        "  ga: float = 9.8\n",
        "  CD_sluice: float = 1.0\n",
        "\n",
        "  #=============================================================================\n",
        "  def __init__( self, Area: float ) -> None:\n",
        "    self.Area = Area\n",
        "\n",
        "  # flow rate as a function of h\n",
        "  def sluicing( self, h: float ) -> float:\n",
        "    QS = -self.CD_sluice * self.Area * np.sqrt( 2.0 * self.ga * max( -h, 0.0 ) )\n",
        "    return QS"
      ],
      "execution_count": 9,
      "outputs": []
    },
    {
      "cell_type": "markdown",
      "source": [
        "## Tide modelling\n",
        "\n",
        "The tide level is assumed to be a trignometric series\n",
        "\n",
        "$$\\zeta(t) = \\sum_i^n A_i \\cos\\left( \\omega_i t + \\phi_i \\right).$$"
      ],
      "metadata": {
        "id": "Mamlij_fv04q"
      }
    },
    {
      "cell_type": "code",
      "source": [
        "@dataclass\n",
        "class TideModel:\n",
        " \n",
        "  # A_tide, period and φ_tide are vectors to allow simulate multi-component tides\n",
        "  def __init__( self, A_tide: np.array, ω_tide: np.array, φ_tide:np.array ) -> None:\n",
        "      self.A_tide = A_tide\n",
        "      self.ω_tide = ω_tide \n",
        "      self.φ_tide = φ_tide\n",
        "    \n",
        "  # tide level as a function t\n",
        "  def level( self, t: float ) -> float:    \n",
        "      return np.sum( self.A_tide * np.cos( self.ω_tide * t + self.φ_tide ) )"
      ],
      "metadata": {
        "id": "hp3RXBgcvzmm"
      },
      "execution_count": 10,
      "outputs": []
    },
    {
      "cell_type": "markdown",
      "source": [
        "# Differential models"
      ],
      "metadata": {
        "id": "CEKS3Ig2wcBa"
      }
    },
    {
      "cell_type": "markdown",
      "metadata": {
        "id": "tj7lqtYL_NC1"
      },
      "source": [
        "## Basin modelling\n",
        "\n",
        "The basin is modelled as a \"shoe box\". The out flow is denoted as positive.\n",
        "\n",
        "The instantaneous basin volume is computed from\n",
        "\n",
        "$$\\dfrac{\\mathrm{d}V}{\\mathrm{d}t}=-Q.$$\n",
        "\n",
        "The integrating with the Euler method we get\n",
        "\n",
        "$$V(t+\\Delta t)=V(t)-\\Delta t\\,Q.$$\n",
        "\n",
        "The instantaneous basin level is given by\n",
        "\n",
        "$$h = \\dfrac{V}{A_\\mathrm{basin}},$$\n",
        "\n",
        "where $A_\\mathrm{basin}$ is the basin area.\n",
        "\n",
        "<img src=\"https://raw.githubusercontent.com/joaochenriques/MCTE_2022/main/Barrages/Figures/BasinShoeBox_MWL.svg\" width=\"500px\" style=\"display:inline\">\n",
        "\n"
      ]
    },
    {
      "cell_type": "markdown",
      "metadata": {
        "id": "NivnLxwb0lNb"
      },
      "source": [
        "## Power plant operation model \n",
        "\n",
        "The power plant modelling and control is based in the following finite state machine\n",
        "\n",
        "<img src=\"https://raw.githubusercontent.com/joaochenriques/MCTE_2020_2021/main/BarrageExamples/Figures/BarrageEbbMode.svg\" width=\"700px\" style=\"display:inline\">\n",
        "\n",
        "<img src=\"https://raw.githubusercontent.com/joaochenriques/MCTE_2020_2021/main/BarrageExamples/Figures/EbbOperation_FSM.svg\" width=\"700px\" style=\"display:inline\">"
      ]
    },
    {
      "cell_type": "markdown",
      "source": [
        "# Finite State Machine simulator"
      ],
      "metadata": {
        "id": "whsaeFBnyvsD"
      }
    },
    {
      "cell_type": "code",
      "source": [
        "func_state = Callable[ [ float, float, np.array ], List[ np.array ] ]\n",
        "func_transition = Callable[ [ float, np.array, np.array ], int ]\n",
        "\n",
        "\n",
        "class FSM_simulator:\n",
        "\n",
        "\n",
        "  def __init__( self, simul_time: float, Delta_t: float, n_vars: int, n_outs: int ) -> None:\n",
        "    self.dic_states = {}\n",
        "    self.dic_transitions = {}\n",
        "\n",
        "    self.n_time = int( simul_time / Delta_t) + 1 \n",
        "    self.n_time = self.n_time\n",
        "    self.n_vars = n_vars\n",
        "    self.n_outs = n_outs\n",
        "    \n",
        "    self.time = np.linspace( 0, simul_time, self.n_time )\n",
        "    self.delta_t = self.time[1]\n",
        "\n",
        "    self.vars = np.zeros( (n_vars, self.n_time) )\n",
        "    self.outs = np.zeros( (n_outs, self.n_time) )\n",
        "    self.states = np.zeros( self.n_time )\n",
        "    \n",
        "    self.t = 0\n",
        "\n",
        "  def run_simulator( self, state: int, vars: np.array ) -> Tuple[np.array]:\n",
        "    self.vars[:,0] = vars\n",
        "    self.states[0] = state\n",
        "    # outs not available at t=0\n",
        "\n",
        "    for i in range( 1, self.n_time ):\n",
        "      self.t = self.time[i-1]\n",
        "      vars, outs = self.__run_state( state, self.delta_t, self.time[i-1], vars )\n",
        "      state = self.__test_transitions( state, self.time[i-1], vars, outs )\n",
        " \n",
        "      self.vars[:,i] = vars\n",
        "      self.outs[:,i] = outs\n",
        "      self.states[i] = state\n",
        "\n",
        "    return ( self.time, self.states, self.vars, self.outs )\n",
        "\n",
        "\n",
        "  def add_state( self, state: int, func: func_state ) -> None:\n",
        "    assert state not in self.dic_states.keys(), \"state already define\"      \n",
        "    self.dic_states[state] = func\n",
        "\n",
        "\n",
        "  def add_transition( self, state: int, func: func_transition ) -> None:\n",
        "    if state not in self.dic_transitions.keys():\n",
        "      self.dic_transitions[state] = [ func ]\n",
        "    else:\n",
        "      self.dic_transitions[state].append( func )\n",
        "\n",
        "\n",
        "  # private member\n",
        "  def __run_state( self, state: int, delta_t: float, t: float, vars: np.array ) -> List[np.array]:\n",
        "    return self.dic_states[ state ]( delta_t, t, vars )\n",
        " \n",
        "\n",
        "  # private member\n",
        "  def __test_transitions( self, state: int, t: float, vars: np.array, outs: np.array ) -> int:\n",
        "    for transition in self.dic_transitions[ state ]:\n",
        "      new_state = transition( t, vars, outs )  \n",
        "      if new_state != state:\n",
        "        return new_state # first transition that changes the state\n",
        "    return state"
      ],
      "metadata": {
        "id": "2eNJGz0Qxqab"
      },
      "execution_count": 53,
      "outputs": []
    },
    {
      "cell_type": "markdown",
      "source": [
        "## Vars used in the simulation\n",
        "\n",
        "$$ \\mathbf{x} = \n",
        "\\begin{pmatrix} V & E_\\mathrm{avail} & E_\\mathrm{turb} & E_\\mathrm{gen} \\end{pmatrix}^\\mathrm{T} $$ \n",
        "\n",
        "## Outputs\n",
        "\n",
        "$$ \\mathbf{y} = \n",
        "\\begin{pmatrix} h & z & \\zeta & Q_\\mathrm{turb} & Q_\\mathrm{sluice} & \n",
        "P_\\mathrm{avail} & P_\\mathrm{turb} & P_\\mathrm{gen} &\n",
        "\\eta_\\mathrm{turb} & \\eta_\\mathrm{gen} \\end{pmatrix}^\\mathrm{T} $$ "
      ],
      "metadata": {
        "id": "dXv3vxQRy8IS"
      }
    },
    {
      "cell_type": "code",
      "source": [
        "@dataclass\n",
        "class Models:\n",
        "\n",
        "    # tide components\n",
        "    ζ: np.array = np.array( [ 4.18, 1.13 ] )                # amplitudes\n",
        "    ω: np.array = np.array( [ 0.5058/3600, 0.5236/3600 ] )  # frequencies (rad/hour => rad/s)\n",
        "    φ: np.array = np.array( [ -3.019, -3.84 ] )             # phases\n",
        "\n",
        "    A_basin: float = 22E6 \n",
        "    h0_basin: float = 1.0\n",
        "    \n",
        "    n_turbs: int = 24\n",
        "    Dturb: float = 6.0 \n",
        "    \n",
        "    grid_freq: float = 50.0\n",
        "    ppoles: int = 32\n",
        "    Pgen_rated: float = 5000E6 \n",
        "                  \n",
        "    n_gates: int = 6\n",
        "    Agates: float = 10.0*15.0\n",
        "    \n",
        "    # post init variables\n",
        "    Omega: float = field(init=False)\n",
        "    n11_max: float = field(init=False)\n",
        "\n",
        "    turbine: TurbineModel = field(init=False)\n",
        "    generator: GeneratorModel = field(init=False)\n",
        "\n",
        "    gate: GateModel = field(init=False)\n",
        "    tide: TideModel = field(init=False)\n",
        "\n",
        "\n",
        "    def __post_init__( self ):\n",
        "\n",
        "      # synchronous rotational speed\n",
        "      self.Omega = 2 * np.pi * self.grid_freq / self.ppoles\n",
        "\n",
        "      self.turbine = TurbineModel( D_turb = self.Dturb, Omega = self.Omega )\n",
        "      self.generator = GeneratorModel( Pgen_rated = self.Pgen_rated )\n",
        "      \n",
        "      _, self.n11_max = models.turbine.n11_range()\n",
        "\n",
        "      self.gate = GateModel( Area = self.Agates )\n",
        "      self.tide = TideModel( self.ζ, self.ω, self.φ )\n",
        "\n",
        "\n",
        "    # minimum turbine head that starts turbine generation \n",
        "    def turbine_starting_head( self, t: float ) -> float:\n",
        "      return 5.0\n",
        "\n",
        "    ## STATES ##################################################################\n",
        "    def S1_Generate( self, delta_t, t, vars ):\n",
        "\n",
        "      z = vars[0]\n",
        "      ζ = self.tide.level( t )\n",
        "      h = z - ζ\n",
        "\n",
        "      Q_sluice = 0.0\n",
        "      Q_turb, P_avail, η_turb = self.turbine.operating_point( h )\n",
        "\n",
        "      P1t = η_turb * P_avail\n",
        "\n",
        "      Q_turb  *= self.n_turbs\n",
        "      P_avail *= self.n_turbs \n",
        "      P_turb = η_turb * P_avail\n",
        "\n",
        "      η_gen = self.generator.eta( P1t )\n",
        "      P_gen  = η_gen * P_turb\n",
        "\n",
        "      RHS = np.array( ( -Q_turb / self.A_basin, P_avail, P_turb, P_gen ) ) \n",
        "\n",
        "      # variables at ( t + delta_t )\n",
        "      vars = vars - delta_t * RHS\n",
        "\n",
        "      # outputs at ( t + delta_t )\n",
        "      z = vars[0] / self.A_basin\n",
        "      ζ = self.tide.level( t + delta_t )\n",
        "      h = z - ζ\n",
        "\n",
        "      Q_turb, P_avail, η_turb = self.turbine.operating_point( h )\n",
        "\n",
        "      Pt = η_turb * P_avail\n",
        "\n",
        "      Q_turb  *= self.n_turbs\n",
        "      P_avail *= self.n_turbs \n",
        "      P_turb = η_turb * P_avail\n",
        "\n",
        "      η_gen = self.generator.eta( Pt )\n",
        "      P_gen  = η_gen * P_turb\n",
        "\n",
        "      outs = np.array( ( h, ζ, Q_turb, Q_sluice, P_avail, P_turb, P_gen, η_turb, η_gen ) )\n",
        "      \n",
        "      return ( vars, outs ) \n",
        "\n",
        "\n",
        "    def S024_Hold( self, delta_t, t, vars ):\n",
        "      Q_turb = Q_sluice = P_avail = P_turb = P_gen = η_turb = η_gen = 0.0\n",
        "\n",
        "      # outputs at ( t + delta_t )\n",
        "      z = vars[0]\n",
        "      ζ = self.tide.level( t + delta_t )\n",
        "      h = z - ζ\n",
        "\n",
        "      outs = np.array( ( h, ζ, Q_turb, Q_sluice, P_avail, P_turb, P_gen, η_turb, η_gen ) )\n",
        "      \n",
        "      # vars do not change\n",
        "      return ( vars, outs ) \n",
        "\n",
        "\n",
        "    def S3_Fill( self, delta_t, t, vars ):\n",
        "\n",
        "      z = vars[0]\n",
        "      ζ = self.tide.level( t )\n",
        "      h = z - ζ\n",
        "\n",
        "      Q_sluice = self.gate.sluicing( h ) * self.n_gates\n",
        "      Q_turb = self.turbine.sluicing( h ) * self.n_turbs\n",
        "      Q_total = Q_sluice + Q_turb\n",
        "\n",
        "      P_avail = P_turb = P_gen = η_turb = η_gen = 0.0\n",
        "\n",
        "      RHS = np.array( ( -Q_total / self.A_basin, 0.0, 0.0, 0.0 ) ) \n",
        "\n",
        "      # variables at ( t + delta_t )\n",
        "      vars = vars - delta_t * RHS\n",
        "\n",
        "      # outputs at ( t + delta_t )\n",
        "      z = vars[0]\n",
        "      ζ = self.tide.level( t + delta_t )\n",
        "      h = z - ζ\n",
        "\n",
        "      Q_sluice = self.gate.sluicing( h ) * self.n_turbs\n",
        "      Q_turb = self.turbine.sluicing( h ) * self.n_gates\n",
        "      outs = np.array( ( h, ζ, Q_turb, Q_sluice, P_avail, P_turb, P_gen, η_turb, η_gen ) )\n",
        "\n",
        "      return ( vars, outs ) \n",
        "\n",
        "\n",
        "    ## TRANSITIONS #############################################################\n",
        "    def T_S0_S1( self, t, vars, outs ):\n",
        "      h = outs[0]\n",
        "      h_start = models.turbine_starting_head( t )\n",
        "      return 1 if h > h_start else 0\n",
        "\n",
        "    def T_S1_S2( self, t, vars, outs ):\n",
        "      h = outs[0]\n",
        "      n11 = self.turbine.n11( h )\n",
        "      return 2 if n11*1.1 > self.n11_max else 1\n",
        "\n",
        "    def T_S2_S3( self, t, vars, outs ):\n",
        "      h = outs[0]\n",
        "      return 3 if h < 0.0 else 2\n",
        "\n",
        "    def T_S3_S4( self, t, vars, outs ):\n",
        "      h = outs[0]\n",
        "      return 4 if h > 0.0 else 3\n",
        "\n",
        "    def T_S4_S1( self, t, vars, outs ):\n",
        "      h = outs[0]\n",
        "      h_start = models.turbine_starting_head( t )\n",
        "      return 1 if h > h_start else 4"
      ],
      "metadata": {
        "id": "CZKHOqn0y7DC"
      },
      "execution_count": 54,
      "outputs": []
    },
    {
      "cell_type": "code",
      "source": [
        "models = Models()\n",
        "\n",
        "if len( models.ω ) == 2:\n",
        "  tide_period = 1.0 / ( np.max( models.ω[1] ) - np.min( models.ω[0] ) ) * 2.0*np.pi\n",
        "else:\n",
        "  tide_period = 1.0 / models.ω[0] * 2.0*np.pi\n",
        "\n",
        "simul_time = 4.0*tide_period\n",
        "delta_t = 100.0\n",
        "\n",
        "simul = FSM_simulator( simul_time, delta_t, 4, 9 )\n",
        "\n",
        "simul.add_state( 0, models.S024_Hold )\n",
        "simul.add_state( 1, models.S1_Generate )\n",
        "simul.add_state( 2, models.S024_Hold )\n",
        "simul.add_state( 3, models.S3_Fill )\n",
        "simul.add_state( 4, models.S024_Hold )\n",
        "\n",
        "simul.add_transition( 0, models.T_S0_S1 )\n",
        "simul.add_transition( 1, models.T_S1_S2 )\n",
        "simul.add_transition( 2, models.T_S2_S3 )\n",
        "simul.add_transition( 3, models.T_S3_S4 )\n",
        "simul.add_transition( 4, models.T_S4_S1 )"
      ],
      "metadata": {
        "id": "7_bHKB0vJBRR"
      },
      "execution_count": 55,
      "outputs": []
    },
    {
      "cell_type": "markdown",
      "metadata": {
        "id": "NfYWoxrLS84l"
      },
      "source": [
        "# Simulate the power plant"
      ]
    },
    {
      "cell_type": "code",
      "metadata": {
        "id": "18snnDcZH9Qb",
        "colab": {
          "base_uri": "https://localhost:8080/",
          "height": 363
        },
        "outputId": "b10b9684-b0c3-4c5d-fda6-7f01650efaf4"
      },
      "source": [
        "V0 = models.A_basin * models.h0_basin\n",
        "vars = np.array( (V0, 0.0, 0.0, 0.0) )\n",
        "\n",
        "time, states, vars, outs = simul.run_simulator( 0, vars )\n",
        "simul.t"
      ],
      "execution_count": 57,
      "outputs": [
        {
          "output_type": "error",
          "ename": "AssertionError",
          "evalue": "ignored",
          "traceback": [
            "\u001b[0;31m---------------------------------------------------------------------------\u001b[0m",
            "\u001b[0;31mAssertionError\u001b[0m                            Traceback (most recent call last)",
            "\u001b[0;32m<ipython-input-57-5a19ee1b58f7>\u001b[0m in \u001b[0;36m<module>\u001b[0;34m()\u001b[0m\n\u001b[1;32m      2\u001b[0m \u001b[0mvars\u001b[0m \u001b[0;34m=\u001b[0m \u001b[0mnp\u001b[0m\u001b[0;34m.\u001b[0m\u001b[0marray\u001b[0m\u001b[0;34m(\u001b[0m \u001b[0;34m(\u001b[0m\u001b[0mV0\u001b[0m\u001b[0;34m,\u001b[0m \u001b[0;36m0.0\u001b[0m\u001b[0;34m,\u001b[0m \u001b[0;36m0.0\u001b[0m\u001b[0;34m,\u001b[0m \u001b[0;36m0.0\u001b[0m\u001b[0;34m)\u001b[0m \u001b[0;34m)\u001b[0m\u001b[0;34m\u001b[0m\u001b[0;34m\u001b[0m\u001b[0m\n\u001b[1;32m      3\u001b[0m \u001b[0;34m\u001b[0m\u001b[0m\n\u001b[0;32m----> 4\u001b[0;31m \u001b[0mtime\u001b[0m\u001b[0;34m,\u001b[0m \u001b[0mstates\u001b[0m\u001b[0;34m,\u001b[0m \u001b[0mvars\u001b[0m\u001b[0;34m,\u001b[0m \u001b[0mouts\u001b[0m \u001b[0;34m=\u001b[0m \u001b[0msimul\u001b[0m\u001b[0;34m.\u001b[0m\u001b[0mrun_simulator\u001b[0m\u001b[0;34m(\u001b[0m \u001b[0;36m0\u001b[0m\u001b[0;34m,\u001b[0m \u001b[0mvars\u001b[0m \u001b[0;34m)\u001b[0m\u001b[0;34m\u001b[0m\u001b[0;34m\u001b[0m\u001b[0m\n\u001b[0m\u001b[1;32m      5\u001b[0m \u001b[0msimul\u001b[0m\u001b[0;34m.\u001b[0m\u001b[0mt\u001b[0m\u001b[0;34m\u001b[0m\u001b[0;34m\u001b[0m\u001b[0m\n",
            "\u001b[0;32m<ipython-input-53-619e8eb29c00>\u001b[0m in \u001b[0;36mrun_simulator\u001b[0;34m(self, state, vars)\u001b[0m\n\u001b[1;32m     31\u001b[0m     \u001b[0;32mfor\u001b[0m \u001b[0mi\u001b[0m \u001b[0;32min\u001b[0m \u001b[0mrange\u001b[0m\u001b[0;34m(\u001b[0m \u001b[0;36m1\u001b[0m\u001b[0;34m,\u001b[0m \u001b[0mself\u001b[0m\u001b[0;34m.\u001b[0m\u001b[0mn_time\u001b[0m \u001b[0;34m)\u001b[0m\u001b[0;34m:\u001b[0m\u001b[0;34m\u001b[0m\u001b[0;34m\u001b[0m\u001b[0m\n\u001b[1;32m     32\u001b[0m       \u001b[0mself\u001b[0m\u001b[0;34m.\u001b[0m\u001b[0mt\u001b[0m \u001b[0;34m=\u001b[0m \u001b[0mself\u001b[0m\u001b[0;34m.\u001b[0m\u001b[0mtime\u001b[0m\u001b[0;34m[\u001b[0m\u001b[0mi\u001b[0m\u001b[0;34m-\u001b[0m\u001b[0;36m1\u001b[0m\u001b[0;34m]\u001b[0m\u001b[0;34m\u001b[0m\u001b[0;34m\u001b[0m\u001b[0m\n\u001b[0;32m---> 33\u001b[0;31m       \u001b[0mvars\u001b[0m\u001b[0;34m,\u001b[0m \u001b[0mouts\u001b[0m \u001b[0;34m=\u001b[0m \u001b[0mself\u001b[0m\u001b[0;34m.\u001b[0m\u001b[0m__run_state\u001b[0m\u001b[0;34m(\u001b[0m \u001b[0mstate\u001b[0m\u001b[0;34m,\u001b[0m \u001b[0mself\u001b[0m\u001b[0;34m.\u001b[0m\u001b[0mdelta_t\u001b[0m\u001b[0;34m,\u001b[0m \u001b[0mself\u001b[0m\u001b[0;34m.\u001b[0m\u001b[0mtime\u001b[0m\u001b[0;34m[\u001b[0m\u001b[0mi\u001b[0m\u001b[0;34m-\u001b[0m\u001b[0;36m1\u001b[0m\u001b[0;34m]\u001b[0m\u001b[0;34m,\u001b[0m \u001b[0mvars\u001b[0m \u001b[0;34m)\u001b[0m\u001b[0;34m\u001b[0m\u001b[0;34m\u001b[0m\u001b[0m\n\u001b[0m\u001b[1;32m     34\u001b[0m       \u001b[0mstate\u001b[0m \u001b[0;34m=\u001b[0m \u001b[0mself\u001b[0m\u001b[0;34m.\u001b[0m\u001b[0m__test_transitions\u001b[0m\u001b[0;34m(\u001b[0m \u001b[0mstate\u001b[0m\u001b[0;34m,\u001b[0m \u001b[0mself\u001b[0m\u001b[0;34m.\u001b[0m\u001b[0mtime\u001b[0m\u001b[0;34m[\u001b[0m\u001b[0mi\u001b[0m\u001b[0;34m-\u001b[0m\u001b[0;36m1\u001b[0m\u001b[0;34m]\u001b[0m\u001b[0;34m,\u001b[0m \u001b[0mvars\u001b[0m\u001b[0;34m,\u001b[0m \u001b[0mouts\u001b[0m \u001b[0;34m)\u001b[0m\u001b[0;34m\u001b[0m\u001b[0;34m\u001b[0m\u001b[0m\n\u001b[1;32m     35\u001b[0m \u001b[0;34m\u001b[0m\u001b[0m\n",
            "\u001b[0;32m<ipython-input-53-619e8eb29c00>\u001b[0m in \u001b[0;36m__run_state\u001b[0;34m(self, state, delta_t, t, vars)\u001b[0m\n\u001b[1;32m     55\u001b[0m   \u001b[0;31m# private member\u001b[0m\u001b[0;34m\u001b[0m\u001b[0;34m\u001b[0m\u001b[0;34m\u001b[0m\u001b[0m\n\u001b[1;32m     56\u001b[0m   \u001b[0;32mdef\u001b[0m \u001b[0m__run_state\u001b[0m\u001b[0;34m(\u001b[0m \u001b[0mself\u001b[0m\u001b[0;34m,\u001b[0m \u001b[0mstate\u001b[0m\u001b[0;34m:\u001b[0m \u001b[0mint\u001b[0m\u001b[0;34m,\u001b[0m \u001b[0mdelta_t\u001b[0m\u001b[0;34m:\u001b[0m \u001b[0mfloat\u001b[0m\u001b[0;34m,\u001b[0m \u001b[0mt\u001b[0m\u001b[0;34m:\u001b[0m \u001b[0mfloat\u001b[0m\u001b[0;34m,\u001b[0m \u001b[0mvars\u001b[0m\u001b[0;34m:\u001b[0m \u001b[0mnp\u001b[0m\u001b[0;34m.\u001b[0m\u001b[0marray\u001b[0m \u001b[0;34m)\u001b[0m \u001b[0;34m->\u001b[0m \u001b[0mList\u001b[0m\u001b[0;34m[\u001b[0m\u001b[0mnp\u001b[0m\u001b[0;34m.\u001b[0m\u001b[0marray\u001b[0m\u001b[0;34m]\u001b[0m\u001b[0;34m:\u001b[0m\u001b[0;34m\u001b[0m\u001b[0;34m\u001b[0m\u001b[0m\n\u001b[0;32m---> 57\u001b[0;31m     \u001b[0;32mreturn\u001b[0m \u001b[0mself\u001b[0m\u001b[0;34m.\u001b[0m\u001b[0mdic_states\u001b[0m\u001b[0;34m[\u001b[0m \u001b[0mstate\u001b[0m \u001b[0;34m]\u001b[0m\u001b[0;34m(\u001b[0m \u001b[0mdelta_t\u001b[0m\u001b[0;34m,\u001b[0m \u001b[0mt\u001b[0m\u001b[0;34m,\u001b[0m \u001b[0mvars\u001b[0m \u001b[0;34m)\u001b[0m\u001b[0;34m\u001b[0m\u001b[0;34m\u001b[0m\u001b[0m\n\u001b[0m\u001b[1;32m     58\u001b[0m \u001b[0;34m\u001b[0m\u001b[0m\n\u001b[1;32m     59\u001b[0m \u001b[0;34m\u001b[0m\u001b[0m\n",
            "\u001b[0;32m<ipython-input-54-acacadc1cbc3>\u001b[0m in \u001b[0;36mS1_Generate\u001b[0;34m(self, delta_t, t, vars)\u001b[0m\n\u001b[1;32m     57\u001b[0m \u001b[0;34m\u001b[0m\u001b[0m\n\u001b[1;32m     58\u001b[0m       \u001b[0mQ_sluice\u001b[0m \u001b[0;34m=\u001b[0m \u001b[0;36m0.0\u001b[0m\u001b[0;34m\u001b[0m\u001b[0;34m\u001b[0m\u001b[0m\n\u001b[0;32m---> 59\u001b[0;31m       \u001b[0mQ_turb\u001b[0m\u001b[0;34m,\u001b[0m \u001b[0mP_avail\u001b[0m\u001b[0;34m,\u001b[0m \u001b[0mη_turb\u001b[0m \u001b[0;34m=\u001b[0m \u001b[0mself\u001b[0m\u001b[0;34m.\u001b[0m\u001b[0mturbine\u001b[0m\u001b[0;34m.\u001b[0m\u001b[0moperating_point\u001b[0m\u001b[0;34m(\u001b[0m \u001b[0mh\u001b[0m \u001b[0;34m)\u001b[0m\u001b[0;34m\u001b[0m\u001b[0;34m\u001b[0m\u001b[0m\n\u001b[0m\u001b[1;32m     60\u001b[0m \u001b[0;34m\u001b[0m\u001b[0m\n\u001b[1;32m     61\u001b[0m       \u001b[0mP1t\u001b[0m \u001b[0;34m=\u001b[0m \u001b[0mη_turb\u001b[0m \u001b[0;34m*\u001b[0m \u001b[0mP_avail\u001b[0m\u001b[0;34m\u001b[0m\u001b[0;34m\u001b[0m\u001b[0m\n",
            "\u001b[0;32m<ipython-input-7-ab71da78092f>\u001b[0m in \u001b[0;36moperating_point\u001b[0;34m(self, h)\u001b[0m\n\u001b[1;32m     65\u001b[0m   \u001b[0;32mdef\u001b[0m \u001b[0moperating_point\u001b[0m\u001b[0;34m(\u001b[0m \u001b[0mself\u001b[0m\u001b[0;34m,\u001b[0m \u001b[0mh\u001b[0m\u001b[0;34m:\u001b[0m \u001b[0mfloat\u001b[0m \u001b[0;34m)\u001b[0m \u001b[0;34m->\u001b[0m \u001b[0mfloat\u001b[0m\u001b[0;34m:\u001b[0m\u001b[0;34m\u001b[0m\u001b[0;34m\u001b[0m\u001b[0m\n\u001b[1;32m     66\u001b[0m     \u001b[0mn11\u001b[0m \u001b[0;34m=\u001b[0m \u001b[0mself\u001b[0m\u001b[0;34m.\u001b[0m\u001b[0mn11\u001b[0m\u001b[0;34m(\u001b[0m \u001b[0mh\u001b[0m \u001b[0;34m)\u001b[0m\u001b[0;34m\u001b[0m\u001b[0;34m\u001b[0m\u001b[0m\n\u001b[0;32m---> 67\u001b[0;31m     \u001b[0mQT\u001b[0m \u001b[0;34m=\u001b[0m \u001b[0mself\u001b[0m\u001b[0;34m.\u001b[0m\u001b[0mCT1\u001b[0m \u001b[0;34m*\u001b[0m \u001b[0mself\u001b[0m\u001b[0;34m.\u001b[0m\u001b[0mQ11\u001b[0m\u001b[0;34m(\u001b[0m \u001b[0mn11\u001b[0m \u001b[0;34m)\u001b[0m \u001b[0;34m*\u001b[0m \u001b[0mnp\u001b[0m\u001b[0;34m.\u001b[0m\u001b[0msqrt\u001b[0m\u001b[0;34m(\u001b[0m \u001b[0mh\u001b[0m \u001b[0;34m)\u001b[0m\u001b[0;34m\u001b[0m\u001b[0;34m\u001b[0m\u001b[0m\n\u001b[0m\u001b[1;32m     68\u001b[0m     \u001b[0mPH\u001b[0m \u001b[0;34m=\u001b[0m \u001b[0mself\u001b[0m\u001b[0;34m.\u001b[0m\u001b[0mρw\u001b[0m \u001b[0;34m*\u001b[0m \u001b[0mself\u001b[0m\u001b[0;34m.\u001b[0m\u001b[0mga\u001b[0m \u001b[0;34m*\u001b[0m \u001b[0mh\u001b[0m \u001b[0;34m*\u001b[0m \u001b[0mQT\u001b[0m\u001b[0;34m\u001b[0m\u001b[0;34m\u001b[0m\u001b[0m\n\u001b[1;32m     69\u001b[0m     \u001b[0mηT\u001b[0m \u001b[0;34m=\u001b[0m \u001b[0mself\u001b[0m\u001b[0;34m.\u001b[0m\u001b[0meta\u001b[0m\u001b[0;34m(\u001b[0m \u001b[0mn11\u001b[0m \u001b[0;34m)\u001b[0m\u001b[0;34m\u001b[0m\u001b[0;34m\u001b[0m\u001b[0m\n",
            "\u001b[0;32m<ipython-input-7-ab71da78092f>\u001b[0m in \u001b[0;36mQ11\u001b[0;34m(self, n11)\u001b[0m\n\u001b[1;32m     46\u001b[0m   \u001b[0;31m# dimensionless flow rate\u001b[0m\u001b[0;34m\u001b[0m\u001b[0;34m\u001b[0m\u001b[0;34m\u001b[0m\u001b[0m\n\u001b[1;32m     47\u001b[0m   \u001b[0;32mdef\u001b[0m \u001b[0mQ11\u001b[0m\u001b[0;34m(\u001b[0m \u001b[0mself\u001b[0m\u001b[0;34m,\u001b[0m \u001b[0mn11\u001b[0m\u001b[0;34m:\u001b[0m \u001b[0mfloat\u001b[0m \u001b[0;34m)\u001b[0m \u001b[0;34m->\u001b[0m \u001b[0mfloat\u001b[0m\u001b[0;34m:\u001b[0m\u001b[0;34m\u001b[0m\u001b[0;34m\u001b[0m\u001b[0m\n\u001b[0;32m---> 48\u001b[0;31m     \u001b[0;32massert\u001b[0m\u001b[0;34m(\u001b[0m \u001b[0mn11\u001b[0m \u001b[0;34m>=\u001b[0m \u001b[0mself\u001b[0m\u001b[0;34m.\u001b[0m\u001b[0mn11_min\u001b[0m \u001b[0;34m)\u001b[0m\u001b[0;34m,\u001b[0m \u001b[0;34m\"n11 small than admissable minimum\"\u001b[0m\u001b[0;34m\u001b[0m\u001b[0;34m\u001b[0m\u001b[0m\n\u001b[0m\u001b[1;32m     49\u001b[0m     \u001b[0;32massert\u001b[0m\u001b[0;34m(\u001b[0m \u001b[0mn11\u001b[0m \u001b[0;34m<=\u001b[0m \u001b[0mself\u001b[0m\u001b[0;34m.\u001b[0m\u001b[0mn11_max\u001b[0m \u001b[0;34m)\u001b[0m\u001b[0;34m,\u001b[0m \u001b[0;34m\"n11 greater than admissable maximum\"\u001b[0m\u001b[0;34m\u001b[0m\u001b[0;34m\u001b[0m\u001b[0m\n\u001b[1;32m     50\u001b[0m     \u001b[0;32mif\u001b[0m \u001b[0mn11\u001b[0m \u001b[0;34m<\u001b[0m \u001b[0;36m7.92193\u001b[0m\u001b[0;34m:\u001b[0m\u001b[0;34m\u001b[0m\u001b[0;34m\u001b[0m\u001b[0m\n",
            "\u001b[0;31mAssertionError\u001b[0m: n11 small than admissable minimum"
          ]
        }
      ]
    },
    {
      "cell_type": "code",
      "source": [
        "simul.t"
      ],
      "metadata": {
        "id": "uOCBZAKJyylO",
        "outputId": "dcae1ae8-092e-4e42-b292-ce587bfaf4a2",
        "colab": {
          "base_uri": "https://localhost:8080/"
        }
      },
      "execution_count": 58,
      "outputs": [
        {
          "output_type": "execute_result",
          "data": {
            "text/plain": [
              "100.00051772418992"
            ]
          },
          "metadata": {},
          "execution_count": 58
        }
      ]
    },
    {
      "cell_type": "code",
      "source": [
        "hours_vec = time_vec / 3600.0\n",
        "period_hours = tide_period / 3600.0\n",
        "\n",
        "# turbine power\n",
        "PT_vec = ηT_vec * PH_vec\n",
        "\n",
        "# generator power\n",
        "PG_vec = ηG_vec * PT_vec\n",
        "\n",
        "# number of points of each period\n",
        "# required to make the mean of only last period\n",
        "pp = int( tide_period / delta_t )\n",
        "\n",
        "PT_max = np.max( PT_vec )\n",
        "\n",
        "PT_mean = np.mean( PT_vec[-pp:] )\n",
        "PG_mean = np.mean( PG_vec[-pp:] )\n",
        "C_fac = PG_mean / models.generator.Pgen_rated\n",
        "C_fac\n",
        "\n",
        "print( \"Max instantaneous power per turbine = %.2f MW\" % (PT_max/1E6) ) \n",
        "print()\n",
        "print( \"Mean turbine power    = %.2f MW\" % (PT_mean*models.n_turbs/1E6) ) \n",
        "print( \"Mean electrical power = %.2f MW\" % (PG_mean*models.n_turbs/1E6) ) \n",
        "print()\n",
        "print( \"Capacity factor = %.2f\" % C_fac )"
      ],
      "metadata": {
        "id": "mvzpKZSKuZTy"
      },
      "execution_count": null,
      "outputs": []
    },
    {
      "cell_type": "code",
      "metadata": {
        "id": "VmlbEm_JF7Q5"
      },
      "source": [
        "mpl.plot( hours_vec, tide_vec, label='Tide level [m]', dashes=(9,1) )\n",
        "mpl.plot( hours_vec, z_vec, label='Basin level [m]' )\n",
        "mpl.plot( hours_vec, s_vec, label='State $S_i$ [-]' )\n",
        "mpl.xlim( 3*period_hours, 4*period_hours )\n",
        "mpl.xlabel( 'time [hours]' )\n",
        "mpl.legend(loc='lower left')\n",
        "mpl.grid();"
      ],
      "execution_count": null,
      "outputs": []
    },
    {
      "cell_type": "code",
      "metadata": {
        "id": "I4Fzw0p-02U-"
      },
      "source": [
        "mpl.plot( hours_vec, PG_vec/1E6, label='Power per turbine [MW]'  )\n",
        "mpl.xlim( 3*period_hours, 4*period_hours )\n",
        "mpl.xlabel( 'time [hours]' )\n",
        "mpl.legend(loc='lower left')\n",
        "mpl.grid();"
      ],
      "execution_count": null,
      "outputs": []
    },
    {
      "cell_type": "code",
      "metadata": {
        "id": "PplgqSUMN_Sm"
      },
      "source": [
        "mpl.plot( hours_vec, QT_vec, label='Turbine flow rate [m$^3$/s]' )\n",
        "mpl.plot( hours_vec, QS_vec, label='Sluicing flow rate [m$^3$/s]' )\n",
        "mpl.xlim( 3*period_hours, 4*period_hours )\n",
        "mpl.xlabel( 'time [hours]' )\n",
        "mpl.legend(loc='lower left')\n",
        "mpl.grid();"
      ],
      "execution_count": null,
      "outputs": []
    },
    {
      "cell_type": "code",
      "metadata": {
        "id": "iUcjVSLJODQE"
      },
      "source": [
        "mpl.plot( hours_vec, ηT_vec, label='$\\eta_\\mathrm{turb}$' )\n",
        "mpl.plot( hours_vec, ηG_vec, label='$\\eta_\\mathrm{gen}$' )\n",
        "mpl.plot( hours_vec, ηT_vec*ηG_vec, label='$\\eta_\\mathrm{turb}\\,\\eta_\\mathrm{gen}$' )\n",
        "mpl.xlim( 3*period_hours, 4*period_hours )\n",
        "mpl.xlabel( 'time [hours]' )\n",
        "mpl.legend(loc='lower left')\n",
        "mpl.gca().set_yticks(np.arange( 0, 1.01, 0.1) )\n",
        "mpl.grid();"
      ],
      "execution_count": null,
      "outputs": []
    },
    {
      "cell_type": "code",
      "metadata": {
        "id": "-WRkXkCWLNEz"
      },
      "source": [
        "if len( ω ) == 2:\n",
        "  X1 = ζ[0]\n",
        "  X2 = ζ[1]\n",
        "  ωm = ω[0] - ω[1]\n",
        "  φm = φ[0] - φ[1]\n",
        "  ev = np.sqrt(X1**2 + X2**2 + 2*X1*X2*np.cos( ωm*time_vec + φm ) )\n",
        "  mpl.plot( hours_vec, tide_vec, label=\"tide level\" )\n",
        "  mpl.plot( hours_vec, ev, 'r-', lw=2, label=\"envelop\" )\n",
        "  #mpl.xlim( 3*period_hours, 4*period_hours )\n",
        "  mpl.xlabel( 'time [hours]' )\n",
        "  mpl.legend(loc='lower left');\n",
        "else:\n",
        "  print( \"No envelop to plot\" )"
      ],
      "execution_count": null,
      "outputs": []
    },
    {
      "cell_type": "code",
      "metadata": {
        "id": "Id9Tphw7MoSF"
      },
      "source": [
        ""
      ],
      "execution_count": null,
      "outputs": []
    }
  ]
}