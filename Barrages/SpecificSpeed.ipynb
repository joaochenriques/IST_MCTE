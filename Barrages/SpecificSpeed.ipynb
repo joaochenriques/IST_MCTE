{
  "nbformat": 4,
  "nbformat_minor": 0,
  "metadata": {
    "colab": {
      "provenance": [],
      "authorship_tag": "ABX9TyOyd96jFfyvG6/L+JTVYRH6",
      "include_colab_link": true
    },
    "kernelspec": {
      "name": "python3",
      "display_name": "Python 3"
    },
    "language_info": {
      "name": "python"
    }
  },
  "cells": [
    {
      "cell_type": "markdown",
      "metadata": {
        "id": "view-in-github",
        "colab_type": "text"
      },
      "source": [
        "<a href=\"https://colab.research.google.com/github/joaochenriques/IST_MCTE/blob/main/Barrages/SpecificSpeed.ipynb\" target=\"_parent\"><img src=\"https://colab.research.google.com/assets/colab-badge.svg\" alt=\"Open In Colab\"/></a>"
      ]
    },
    {
      "cell_type": "code",
      "source": [
        "from typing import Callable, List, Tuple\n",
        "from dataclasses import dataclass, field\n",
        "import matplotlib.pyplot as mpl\n",
        "import numpy as np\n",
        "import pathlib, os"
      ],
      "metadata": {
        "id": "phwb8-3pbyQy"
      },
      "execution_count": 6,
      "outputs": []
    },
    {
      "cell_type": "code",
      "source": [
        "if not pathlib.Path(\"mpl_utils.py\").exists():\n",
        "  os.system( \"curl -O https://raw.githubusercontent.com/joaochenriques/ipynb_libs/main/mpl_utils.py\" )\n",
        "\n",
        "import mpl_utils as mut\n",
        "mut.config_plots()\n",
        "\n",
        "# mpl.rcParams[\"figure.figsize\"] = (12, 3)\n",
        "\n",
        "from IPython.display import set_matplotlib_formats\n",
        "set_matplotlib_formats('svg')"
      ],
      "metadata": {
        "id": "BSFCQG7Uci3_"
      },
      "execution_count": 24,
      "outputs": []
    },
    {
      "cell_type": "code",
      "execution_count": 25,
      "metadata": {
        "id": "EVrO7jB5bhnS"
      },
      "outputs": [],
      "source": [
        "# flow rate: efficiency: red line of the map \n",
        "poly_CQ1: np.poly1d = np.poly1d( np.array([0.16928201, 0.08989368]) )\n",
        "\n",
        "# flow rate: green line of the map\n",
        "poly_CQ2: np.poly1d = np.poly1d( np.array([-3.63920467e-04,  9.37677378e-03, \n",
        "                                        -9.25873626e-02,  1.75687197e+00]) )\n",
        "\n",
        "# n11 interpolation domain\n",
        "n11_min: float =  4.38  # [-]  \n",
        "n11_max: float = 17.17  # [-]\n",
        "\n",
        "# dimensionless flow rate\n",
        "def Q11( n11: float ) -> float:\n",
        "    assert( n11 >= n11_min ), \"n11 small than admissable minimum\"\n",
        "    assert( n11 <= n11_max ), \"n11 greater than admissable maximum\"\n",
        "    if n11 < 7.92193:\n",
        "        return poly_CQ1( n11 ) \n",
        "    else:\n",
        "        return poly_CQ2( n11 )"
      ]
    },
    {
      "cell_type": "code",
      "source": [
        "nn = 100\n",
        "\n",
        "n11_vec = np.linspace( n11_min, n11_max, nn )\n",
        "S_vec = np.zeros( nn )\n",
        "\n",
        "for i, n11 in enumerate( n11_vec ):\n",
        "    S_vec[i] = np.sqrt( Q11(n11) ) * n11"
      ],
      "metadata": {
        "id": "1gMu5Lcmb58p"
      },
      "execution_count": 26,
      "outputs": []
    },
    {
      "cell_type": "code",
      "source": [
        "mpl.plot( n11_vec, S_vec )\n",
        "mpl.xlabel( '$n_{11}$')\n",
        "mpl.ylabel( '$S$');"
      ],
      "metadata": {
        "colab": {
          "base_uri": "https://localhost:8080/",
          "height": 447
        },
        "id": "s7-bxd3hcZaq",
        "outputId": "f91acc3d-633c-4e0d-e05e-1af23ead224a"
      },
      "execution_count": 27,
      "outputs": [
        {
          "output_type": "display_data",
          "data": {
            "text/plain": [
              "<Figure size 480x360 with 1 Axes>"
            ],
            "image/svg+xml": "<?xml version=\"1.0\" encoding=\"utf-8\" standalone=\"no\"?>\n<!DOCTYPE svg PUBLIC \"-//W3C//DTD SVG 1.1//EN\"\n  \"http://www.w3.org/Graphics/SVG/1.1/DTD/svg11.dtd\">\n<svg xmlns:xlink=\"http://www.w3.org/1999/xlink\" width=\"413.64pt\" height=\"319.68pt\" viewBox=\"0 0 413.64 319.68\" xmlns=\"http://www.w3.org/2000/svg\" version=\"1.1\">\n <metadata>\n  <rdf:RDF xmlns:dc=\"http://purl.org/dc/elements/1.1/\" xmlns:cc=\"http://creativecommons.org/ns#\" xmlns:rdf=\"http://www.w3.org/1999/02/22-rdf-syntax-ns#\">\n   <cc:Work>\n    <dc:type rdf:resource=\"http://purl.org/dc/dcmitype/StillImage\"/>\n    <dc:date>2023-03-28T09:05:27.353756</dc:date>\n    <dc:format>image/svg+xml</dc:format>\n    <dc:creator>\n     <cc:Agent>\n      <dc:title>Matplotlib v3.7.1, https://matplotlib.org/</dc:title>\n     </cc:Agent>\n    </dc:creator>\n   </cc:Work>\n  </rdf:RDF>\n </metadata>\n <defs>\n  <style type=\"text/css\">*{stroke-linejoin: round; stroke-linecap: butt}</style>\n </defs>\n <g id=\"figure_1\">\n  <g id=\"patch_1\">\n   <path d=\"M 0 319.68 \nL 413.64 319.68 \nL 413.64 0 \nL 0 0 \nz\n\" style=\"fill: #ffffff\"/>\n  </g>\n  <g id=\"axes_1\">\n   <g id=\"patch_2\">\n    <path d=\"M 45 276.12 \nL 399.24 276.12 \nL 399.24 13.68 \nL 45 13.68 \nz\n\" style=\"fill: #ffffff\"/>\n   </g>\n   <g id=\"line2d_1\">\n    <path d=\"M 54.615086 243.419794 \nL 57.88401 240.606399 \nL 61.152935 237.754052 \nL 64.42186 234.863275 \nL 67.690784 231.934571 \nL 70.959709 228.968422 \nL 74.228634 225.965293 \nL 77.497558 222.925633 \nL 80.766483 219.849873 \nL 84.035408 216.738432 \nL 87.304332 213.591713 \nL 90.573257 210.410106 \nL 93.842182 207.193987 \nL 97.111106 203.943722 \nL 100.380031 200.659666 \nL 103.648956 197.342162 \nL 106.917881 193.991542 \nL 110.186805 190.60813 \nL 113.45573 187.192241 \nL 116.724655 183.744178 \nL 119.993579 180.26424 \nL 123.262504 176.752714 \nL 126.531429 173.209882 \nL 129.800353 169.636017 \nL 133.069278 166.031387 \nL 136.338203 162.39625 \nL 139.607127 158.730861 \nL 142.876052 155.035467 \nL 146.144977 152.060656 \nL 149.413901 149.615629 \nL 152.682826 147.172528 \nL 155.951751 144.73158 \nL 159.220675 142.293029 \nL 162.4896 139.857138 \nL 165.758525 137.424186 \nL 169.027449 134.994468 \nL 172.296374 132.568298 \nL 175.565299 130.146009 \nL 178.834223 127.727949 \nL 182.103148 125.314484 \nL 185.372073 122.905998 \nL 188.640997 120.502894 \nL 191.909922 118.105591 \nL 195.178847 115.714527 \nL 198.447771 113.330158 \nL 201.716696 110.952958 \nL 204.985621 108.58342 \nL 208.254545 106.222054 \nL 211.52347 103.86939 \nL 214.792395 101.525977 \nL 218.061319 99.192381 \nL 221.330244 96.869191 \nL 224.599169 94.557011 \nL 227.868094 92.256467 \nL 231.137018 89.968206 \nL 234.405943 87.692894 \nL 237.674868 85.431216 \nL 240.943792 83.183879 \nL 244.212717 80.951613 \nL 247.481642 78.735167 \nL 250.750566 76.535312 \nL 254.019491 74.352842 \nL 257.288416 72.188575 \nL 260.55734 70.043349 \nL 263.826265 67.918028 \nL 267.09519 65.813499 \nL 270.364114 63.730675 \nL 273.633039 61.670493 \nL 276.901964 59.633916 \nL 280.170888 57.621935 \nL 283.439813 55.635566 \nL 286.708738 53.675855 \nL 289.977662 51.743876 \nL 293.246587 49.840732 \nL 296.515512 47.967559 \nL 299.784436 46.125522 \nL 303.053361 44.315819 \nL 306.322286 42.539684 \nL 309.59121 40.798382 \nL 312.860135 39.093218 \nL 316.12906 37.425532 \nL 319.397984 35.796703 \nL 322.666909 34.208152 \nL 325.935834 32.66134 \nL 329.204758 31.157773 \nL 332.473683 29.699002 \nL 335.742608 28.286625 \nL 339.011532 26.92229 \nL 342.280457 25.607698 \nL 345.549382 24.344602 \nL 348.818306 23.134814 \nL 352.087231 21.980204 \nL 355.356156 20.882707 \nL 358.625081 19.844321 \nL 361.894005 18.867115 \nL 365.16293 17.953231 \nL 368.431855 17.104888 \nL 371.700779 16.324388 \nL 374.969704 15.614117 \nL 378.238629 14.976555 \n\" clip-path=\"url(#p5bc57f2aeb)\" style=\"fill: none; stroke-dasharray: 6,0; stroke-dashoffset: 0; stroke: #1f77b4; stroke-width: 1.5\"/>\n   </g>\n   <g id=\"patch_3\">\n    <path d=\"M 45 276.12 \nL 45 13.68 \n\" style=\"fill: none; stroke: #000000; stroke-linejoin: miter; stroke-linecap: square\"/>\n   </g>\n   <g id=\"patch_4\">\n    <path d=\"M 399.24 276.12 \nL 399.24 13.68 \n\" style=\"fill: none; stroke: #000000; stroke-linejoin: miter; stroke-linecap: square\"/>\n   </g>\n   <g id=\"patch_5\">\n    <path d=\"M 45 276.12 \nL 399.24 276.12 \n\" style=\"fill: none; stroke: #000000; stroke-linejoin: miter; stroke-linecap: square\"/>\n   </g>\n   <g id=\"patch_6\">\n    <path d=\"M 45 13.68 \nL 399.24 13.68 \n\" style=\"fill: none; stroke: #000000; stroke-linejoin: miter; stroke-linecap: square\"/>\n   </g>\n   <g id=\"matplotlib.axis_1\">\n    <g id=\"xtick_1\">\n     <g id=\"line2d_2\">\n      <defs>\n       <path id=\"m715b9c4e3b\" d=\"M 0 0 \nL 0 -4 \n\" style=\"stroke: #000000; stroke-width: 0.5\"/>\n      </defs>\n      <g>\n       <use xlink:href=\"#m715b9c4e3b\" x=\"45\" y=\"276.12\" style=\"stroke: #000000; stroke-width: 0.5\"/>\n      </g>\n     </g>\n     <g id=\"line2d_3\">\n      <defs>\n       <path id=\"m6b2a6d5047\" d=\"M 0 0 \nL 0 4 \n\" style=\"stroke: #000000; stroke-width: 0.5\"/>\n      </defs>\n      <g>\n       <use xlink:href=\"#m6b2a6d5047\" x=\"45\" y=\"13.68\" style=\"stroke: #000000; stroke-width: 0.5\"/>\n      </g>\n     </g>\n     <g id=\"text_1\">\n      <!-- 4 -->\n      <g transform=\"translate(41.4 289.95475) scale(0.144 -0.144)\">\n       <defs>\n        <path id=\"STIXGeneral-Regular-34\" d=\"M 3027 1069 \nL 2368 1069 \nL 2368 0 \nL 1869 0 \nL 1869 1069 \nL 77 1069 \nL 77 1478 \nL 2086 4326 \nL 2368 4326 \nL 2368 1478 \nL 3027 1478 \nL 3027 1069 \nz\nM 1869 1478 \nL 1869 3674 \nL 333 1478 \nL 1869 1478 \nz\n\" transform=\"scale(0.015625)\"/>\n       </defs>\n       <use xlink:href=\"#STIXGeneral-Regular-34\"/>\n      </g>\n     </g>\n    </g>\n    <g id=\"xtick_2\">\n     <g id=\"line2d_4\">\n      <g>\n       <use xlink:href=\"#m715b9c4e3b\" x=\"95.605714\" y=\"276.12\" style=\"stroke: #000000; stroke-width: 0.5\"/>\n      </g>\n     </g>\n     <g id=\"line2d_5\">\n      <g>\n       <use xlink:href=\"#m6b2a6d5047\" x=\"95.605714\" y=\"13.68\" style=\"stroke: #000000; stroke-width: 0.5\"/>\n      </g>\n     </g>\n     <g id=\"text_2\">\n      <!-- 6 -->\n      <g transform=\"translate(92.005714 289.95475) scale(0.144 -0.144)\">\n       <defs>\n        <path id=\"STIXGeneral-Regular-36\" d=\"M 2854 4378 \nL 2867 4275 \nQ 2112 4154 1606 3664 \nQ 1101 3174 973 2451 \nQ 1344 2739 1786 2739 \nQ 2349 2739 2672 2380 \nQ 2995 2022 2995 1402 \nQ 2995 774 2669 378 \nQ 2291 -90 1651 -90 \nQ 870 -90 518 557 \nQ 218 1107 218 1786 \nQ 218 2835 915 3552 \nQ 1312 3962 1731 4131 \nQ 2150 4301 2854 4378 \nz\nM 2419 1203 \nQ 2419 2445 1555 2445 \nQ 1235 2445 1024 2275 \nQ 813 2106 813 1702 \nQ 813 954 1046 522 \nQ 1280 90 1722 90 \nQ 2061 90 2240 394 \nQ 2419 698 2419 1203 \nz\n\" transform=\"scale(0.015625)\"/>\n       </defs>\n       <use xlink:href=\"#STIXGeneral-Regular-36\"/>\n      </g>\n     </g>\n    </g>\n    <g id=\"xtick_3\">\n     <g id=\"line2d_6\">\n      <g>\n       <use xlink:href=\"#m715b9c4e3b\" x=\"146.211429\" y=\"276.12\" style=\"stroke: #000000; stroke-width: 0.5\"/>\n      </g>\n     </g>\n     <g id=\"line2d_7\">\n      <g>\n       <use xlink:href=\"#m6b2a6d5047\" x=\"146.211429\" y=\"13.68\" style=\"stroke: #000000; stroke-width: 0.5\"/>\n      </g>\n     </g>\n     <g id=\"text_3\">\n      <!-- 8 -->\n      <g transform=\"translate(142.611429 289.95475) scale(0.144 -0.144)\">\n       <defs>\n        <path id=\"STIXGeneral-Regular-38\" d=\"M 2848 992 \nQ 2848 499 2505 204 \nQ 2163 -90 1587 -90 \nQ 1050 -90 704 204 \nQ 358 499 358 954 \nQ 358 1293 524 1533 \nQ 691 1773 1190 2125 \nQ 710 2522 553 2765 \nQ 397 3008 397 3328 \nQ 397 3782 745 4054 \nQ 1094 4326 1638 4326 \nQ 2106 4326 2410 4060 \nQ 2714 3795 2714 3411 \nQ 2714 3059 2531 2848 \nQ 2349 2637 1856 2374 \nQ 2432 1990 2640 1689 \nQ 2848 1389 2848 992 \nz\nM 2272 3411 \nQ 2272 3744 2086 3945 \nQ 1901 4147 1574 4147 \nQ 1248 4147 1059 3977 \nQ 870 3808 870 3513 \nQ 870 3219 1059 2979 \nQ 1248 2739 1670 2490 \nQ 1997 2682 2134 2896 \nQ 2272 3110 2272 3411 \nz\nM 1734 1741 \nL 1357 1997 \nQ 1075 1766 960 1545 \nQ 845 1325 845 1011 \nQ 845 576 1065 333 \nQ 1286 90 1658 90 \nQ 1971 90 2166 285 \nQ 2362 480 2362 794 \nQ 2362 1082 2214 1299 \nQ 2067 1517 1734 1741 \nz\n\" transform=\"scale(0.015625)\"/>\n       </defs>\n       <use xlink:href=\"#STIXGeneral-Regular-38\"/>\n      </g>\n     </g>\n    </g>\n    <g id=\"xtick_4\">\n     <g id=\"line2d_8\">\n      <g>\n       <use xlink:href=\"#m715b9c4e3b\" x=\"196.817143\" y=\"276.12\" style=\"stroke: #000000; stroke-width: 0.5\"/>\n      </g>\n     </g>\n     <g id=\"line2d_9\">\n      <g>\n       <use xlink:href=\"#m6b2a6d5047\" x=\"196.817143\" y=\"13.68\" style=\"stroke: #000000; stroke-width: 0.5\"/>\n      </g>\n     </g>\n     <g id=\"text_4\">\n      <!-- 10 -->\n      <g transform=\"translate(189.617143 289.95475) scale(0.144 -0.144)\">\n       <defs>\n        <path id=\"STIXGeneral-Regular-31\" d=\"M 2522 0 \nL 755 0 \nL 755 96 \nQ 1107 115 1235 227 \nQ 1363 339 1363 608 \nL 1363 3482 \nQ 1363 3795 1171 3795 \nQ 1082 3795 883 3718 \nL 710 3654 \nL 710 3744 \nL 1856 4326 \nL 1914 4307 \nL 1914 486 \nQ 1914 275 2042 185 \nQ 2170 96 2522 96 \nL 2522 0 \nz\n\" transform=\"scale(0.015625)\"/>\n        <path id=\"STIXGeneral-Regular-30\" d=\"M 3046 2112 \nQ 3046 1683 2963 1302 \nQ 2880 922 2717 602 \nQ 2554 282 2266 96 \nQ 1978 -90 1600 -90 \nQ 1210 -90 915 108 \nQ 621 307 461 640 \nQ 301 973 227 1350 \nQ 154 1728 154 2150 \nQ 154 2746 301 3222 \nQ 448 3699 790 4012 \nQ 1133 4326 1626 4326 \nQ 2253 4326 2649 3712 \nQ 3046 3098 3046 2112 \nz\nM 2432 2080 \nQ 2432 3091 2217 3625 \nQ 2003 4160 1587 4160 \nQ 1190 4160 979 3622 \nQ 768 3085 768 2106 \nQ 768 1120 979 598 \nQ 1190 77 1600 77 \nQ 2003 77 2217 598 \nQ 2432 1120 2432 2080 \nz\n\" transform=\"scale(0.015625)\"/>\n       </defs>\n       <use xlink:href=\"#STIXGeneral-Regular-31\"/>\n       <use xlink:href=\"#STIXGeneral-Regular-30\" x=\"49.999985\"/>\n      </g>\n     </g>\n    </g>\n    <g id=\"xtick_5\">\n     <g id=\"line2d_10\">\n      <g>\n       <use xlink:href=\"#m715b9c4e3b\" x=\"247.422857\" y=\"276.12\" style=\"stroke: #000000; stroke-width: 0.5\"/>\n      </g>\n     </g>\n     <g id=\"line2d_11\">\n      <g>\n       <use xlink:href=\"#m6b2a6d5047\" x=\"247.422857\" y=\"13.68\" style=\"stroke: #000000; stroke-width: 0.5\"/>\n      </g>\n     </g>\n     <g id=\"text_5\">\n      <!-- 12 -->\n      <g transform=\"translate(240.222857 289.95475) scale(0.144 -0.144)\">\n       <defs>\n        <path id=\"STIXGeneral-Regular-32\" d=\"M 3034 877 \nL 2688 0 \nL 186 0 \nL 186 77 \nL 1325 1286 \nQ 1773 1754 1965 2144 \nQ 2157 2534 2157 2950 \nQ 2157 3379 1920 3616 \nQ 1683 3853 1267 3853 \nQ 922 3853 720 3673 \nQ 518 3494 326 3021 \nL 192 3053 \nQ 301 3648 630 3987 \nQ 960 4326 1523 4326 \nQ 2054 4326 2380 4006 \nQ 2707 3686 2707 3200 \nQ 2707 2477 1888 1613 \nL 832 486 \nL 2330 486 \nQ 2541 486 2665 569 \nQ 2790 653 2944 915 \nL 3034 877 \nz\n\" transform=\"scale(0.015625)\"/>\n       </defs>\n       <use xlink:href=\"#STIXGeneral-Regular-31\"/>\n       <use xlink:href=\"#STIXGeneral-Regular-32\" x=\"49.999985\"/>\n      </g>\n     </g>\n    </g>\n    <g id=\"xtick_6\">\n     <g id=\"line2d_12\">\n      <g>\n       <use xlink:href=\"#m715b9c4e3b\" x=\"298.028571\" y=\"276.12\" style=\"stroke: #000000; stroke-width: 0.5\"/>\n      </g>\n     </g>\n     <g id=\"line2d_13\">\n      <g>\n       <use xlink:href=\"#m6b2a6d5047\" x=\"298.028571\" y=\"13.68\" style=\"stroke: #000000; stroke-width: 0.5\"/>\n      </g>\n     </g>\n     <g id=\"text_6\">\n      <!-- 14 -->\n      <g transform=\"translate(290.828571 289.95475) scale(0.144 -0.144)\">\n       <use xlink:href=\"#STIXGeneral-Regular-31\"/>\n       <use xlink:href=\"#STIXGeneral-Regular-34\" x=\"49.999985\"/>\n      </g>\n     </g>\n    </g>\n    <g id=\"xtick_7\">\n     <g id=\"line2d_14\">\n      <g>\n       <use xlink:href=\"#m715b9c4e3b\" x=\"348.634286\" y=\"276.12\" style=\"stroke: #000000; stroke-width: 0.5\"/>\n      </g>\n     </g>\n     <g id=\"line2d_15\">\n      <g>\n       <use xlink:href=\"#m6b2a6d5047\" x=\"348.634286\" y=\"13.68\" style=\"stroke: #000000; stroke-width: 0.5\"/>\n      </g>\n     </g>\n     <g id=\"text_7\">\n      <!-- 16 -->\n      <g transform=\"translate(341.434286 289.95475) scale(0.144 -0.144)\">\n       <use xlink:href=\"#STIXGeneral-Regular-31\"/>\n       <use xlink:href=\"#STIXGeneral-Regular-36\" x=\"49.999985\"/>\n      </g>\n     </g>\n    </g>\n    <g id=\"xtick_8\">\n     <g id=\"line2d_16\">\n      <g>\n       <use xlink:href=\"#m715b9c4e3b\" x=\"399.24\" y=\"276.12\" style=\"stroke: #000000; stroke-width: 0.5\"/>\n      </g>\n     </g>\n     <g id=\"line2d_17\">\n      <g>\n       <use xlink:href=\"#m6b2a6d5047\" x=\"399.24\" y=\"13.68\" style=\"stroke: #000000; stroke-width: 0.5\"/>\n      </g>\n     </g>\n     <g id=\"text_8\">\n      <!-- 18 -->\n      <g transform=\"translate(392.04 289.95475) scale(0.144 -0.144)\">\n       <use xlink:href=\"#STIXGeneral-Regular-31\"/>\n       <use xlink:href=\"#STIXGeneral-Regular-38\" x=\"49.999985\"/>\n      </g>\n     </g>\n    </g>\n    <g id=\"text_9\">\n     <!-- $n_{11}$ -->\n     <g transform=\"translate(212.12 309.0075) scale(0.16 -0.16)\">\n      <defs>\n       <path id=\"STIXGeneral-Italic-6e\" d=\"M 2944 749 \nL 3034 666 \nQ 2707 218 2534 80 \nQ 2362 -58 2138 -58 \nQ 2010 -58 1923 28 \nQ 1837 115 1837 288 \nQ 1837 390 1939 768 \nL 2221 1805 \nQ 2310 2150 2310 2310 \nQ 2310 2496 2157 2496 \nQ 1971 2496 1750 2275 \nQ 1530 2054 1210 1587 \nQ 998 1274 899 1024 \nQ 800 774 570 0 \nL 90 0 \nL 704 2240 \nQ 717 2304 717 2349 \nQ 717 2445 630 2480 \nQ 544 2515 301 2522 \nL 301 2624 \nQ 550 2675 857 2729 \nQ 1165 2784 1338 2822 \nL 1363 2810 \nL 934 1414 \nQ 1408 2170 1753 2496 \nQ 2099 2822 2413 2822 \nQ 2611 2822 2720 2716 \nQ 2829 2611 2829 2432 \nQ 2829 2272 2765 2048 \nL 2406 749 \nQ 2317 429 2317 358 \nQ 2317 243 2419 243 \nQ 2541 243 2810 582 \nQ 2854 634 2944 749 \nz\n\" transform=\"scale(0.015625)\"/>\n      </defs>\n      <use xlink:href=\"#STIXGeneral-Italic-6e\" transform=\"translate(0 0.90625)\"/>\n      <use xlink:href=\"#STIXGeneral-Regular-31\" transform=\"translate(49.999985 -12.321875) scale(0.7)\"/>\n      <use xlink:href=\"#STIXGeneral-Regular-31\" transform=\"translate(84.999974 -12.321875) scale(0.7)\"/>\n     </g>\n    </g>\n   </g>\n   <g id=\"matplotlib.axis_2\">\n    <g id=\"ytick_1\">\n     <g id=\"line2d_18\">\n      <defs>\n       <path id=\"m2bccd3e7e9\" d=\"M 0 0 \nL 4 0 \n\" style=\"stroke: #000000; stroke-width: 0.5\"/>\n      </defs>\n      <g>\n       <use xlink:href=\"#m2bccd3e7e9\" x=\"45\" y=\"276.12\" style=\"stroke: #000000; stroke-width: 0.5\"/>\n      </g>\n     </g>\n     <g id=\"line2d_19\">\n      <defs>\n       <path id=\"ma5b6672392\" d=\"M 0 0 \nL -4 0 \n\" style=\"stroke: #000000; stroke-width: 0.5\"/>\n      </defs>\n      <g>\n       <use xlink:href=\"#ma5b6672392\" x=\"399.24\" y=\"276.12\" style=\"stroke: #000000; stroke-width: 0.5\"/>\n      </g>\n     </g>\n     <g id=\"text_10\">\n      <!-- 2 -->\n      <g transform=\"translate(33.8 279.47475) scale(0.144 -0.144)\">\n       <use xlink:href=\"#STIXGeneral-Regular-32\"/>\n      </g>\n     </g>\n    </g>\n    <g id=\"ytick_2\">\n     <g id=\"line2d_20\">\n      <g>\n       <use xlink:href=\"#m2bccd3e7e9\" x=\"45\" y=\"243.315\" style=\"stroke: #000000; stroke-width: 0.5\"/>\n      </g>\n     </g>\n     <g id=\"line2d_21\">\n      <g>\n       <use xlink:href=\"#ma5b6672392\" x=\"399.24\" y=\"243.315\" style=\"stroke: #000000; stroke-width: 0.5\"/>\n      </g>\n     </g>\n     <g id=\"text_11\">\n      <!-- 4 -->\n      <g transform=\"translate(33.8 246.66975) scale(0.144 -0.144)\">\n       <use xlink:href=\"#STIXGeneral-Regular-34\"/>\n      </g>\n     </g>\n    </g>\n    <g id=\"ytick_3\">\n     <g id=\"line2d_22\">\n      <g>\n       <use xlink:href=\"#m2bccd3e7e9\" x=\"45\" y=\"210.51\" style=\"stroke: #000000; stroke-width: 0.5\"/>\n      </g>\n     </g>\n     <g id=\"line2d_23\">\n      <g>\n       <use xlink:href=\"#ma5b6672392\" x=\"399.24\" y=\"210.51\" style=\"stroke: #000000; stroke-width: 0.5\"/>\n      </g>\n     </g>\n     <g id=\"text_12\">\n      <!-- 6 -->\n      <g transform=\"translate(33.8 213.86475) scale(0.144 -0.144)\">\n       <use xlink:href=\"#STIXGeneral-Regular-36\"/>\n      </g>\n     </g>\n    </g>\n    <g id=\"ytick_4\">\n     <g id=\"line2d_24\">\n      <g>\n       <use xlink:href=\"#m2bccd3e7e9\" x=\"45\" y=\"177.705\" style=\"stroke: #000000; stroke-width: 0.5\"/>\n      </g>\n     </g>\n     <g id=\"line2d_25\">\n      <g>\n       <use xlink:href=\"#ma5b6672392\" x=\"399.24\" y=\"177.705\" style=\"stroke: #000000; stroke-width: 0.5\"/>\n      </g>\n     </g>\n     <g id=\"text_13\">\n      <!-- 8 -->\n      <g transform=\"translate(33.8 181.05975) scale(0.144 -0.144)\">\n       <use xlink:href=\"#STIXGeneral-Regular-38\"/>\n      </g>\n     </g>\n    </g>\n    <g id=\"ytick_5\">\n     <g id=\"line2d_26\">\n      <g>\n       <use xlink:href=\"#m2bccd3e7e9\" x=\"45\" y=\"144.9\" style=\"stroke: #000000; stroke-width: 0.5\"/>\n      </g>\n     </g>\n     <g id=\"line2d_27\">\n      <g>\n       <use xlink:href=\"#ma5b6672392\" x=\"399.24\" y=\"144.9\" style=\"stroke: #000000; stroke-width: 0.5\"/>\n      </g>\n     </g>\n     <g id=\"text_14\">\n      <!-- 10 -->\n      <g transform=\"translate(26.6 148.25475) scale(0.144 -0.144)\">\n       <use xlink:href=\"#STIXGeneral-Regular-31\"/>\n       <use xlink:href=\"#STIXGeneral-Regular-30\" x=\"49.999985\"/>\n      </g>\n     </g>\n    </g>\n    <g id=\"ytick_6\">\n     <g id=\"line2d_28\">\n      <g>\n       <use xlink:href=\"#m2bccd3e7e9\" x=\"45\" y=\"112.095\" style=\"stroke: #000000; stroke-width: 0.5\"/>\n      </g>\n     </g>\n     <g id=\"line2d_29\">\n      <g>\n       <use xlink:href=\"#ma5b6672392\" x=\"399.24\" y=\"112.095\" style=\"stroke: #000000; stroke-width: 0.5\"/>\n      </g>\n     </g>\n     <g id=\"text_15\">\n      <!-- 12 -->\n      <g transform=\"translate(26.6 115.44975) scale(0.144 -0.144)\">\n       <use xlink:href=\"#STIXGeneral-Regular-31\"/>\n       <use xlink:href=\"#STIXGeneral-Regular-32\" x=\"49.999985\"/>\n      </g>\n     </g>\n    </g>\n    <g id=\"ytick_7\">\n     <g id=\"line2d_30\">\n      <g>\n       <use xlink:href=\"#m2bccd3e7e9\" x=\"45\" y=\"79.29\" style=\"stroke: #000000; stroke-width: 0.5\"/>\n      </g>\n     </g>\n     <g id=\"line2d_31\">\n      <g>\n       <use xlink:href=\"#ma5b6672392\" x=\"399.24\" y=\"79.29\" style=\"stroke: #000000; stroke-width: 0.5\"/>\n      </g>\n     </g>\n     <g id=\"text_16\">\n      <!-- 14 -->\n      <g transform=\"translate(26.6 82.64475) scale(0.144 -0.144)\">\n       <use xlink:href=\"#STIXGeneral-Regular-31\"/>\n       <use xlink:href=\"#STIXGeneral-Regular-34\" x=\"49.999985\"/>\n      </g>\n     </g>\n    </g>\n    <g id=\"ytick_8\">\n     <g id=\"line2d_32\">\n      <g>\n       <use xlink:href=\"#m2bccd3e7e9\" x=\"45\" y=\"46.485\" style=\"stroke: #000000; stroke-width: 0.5\"/>\n      </g>\n     </g>\n     <g id=\"line2d_33\">\n      <g>\n       <use xlink:href=\"#ma5b6672392\" x=\"399.24\" y=\"46.485\" style=\"stroke: #000000; stroke-width: 0.5\"/>\n      </g>\n     </g>\n     <g id=\"text_17\">\n      <!-- 16 -->\n      <g transform=\"translate(26.6 49.83975) scale(0.144 -0.144)\">\n       <use xlink:href=\"#STIXGeneral-Regular-31\"/>\n       <use xlink:href=\"#STIXGeneral-Regular-36\" x=\"49.999985\"/>\n      </g>\n     </g>\n    </g>\n    <g id=\"ytick_9\">\n     <g id=\"line2d_34\">\n      <g>\n       <use xlink:href=\"#m2bccd3e7e9\" x=\"45\" y=\"13.68\" style=\"stroke: #000000; stroke-width: 0.5\"/>\n      </g>\n     </g>\n     <g id=\"line2d_35\">\n      <g>\n       <use xlink:href=\"#ma5b6672392\" x=\"399.24\" y=\"13.68\" style=\"stroke: #000000; stroke-width: 0.5\"/>\n      </g>\n     </g>\n     <g id=\"text_18\">\n      <!-- 18 -->\n      <g transform=\"translate(26.6 17.03475) scale(0.144 -0.144)\">\n       <use xlink:href=\"#STIXGeneral-Regular-31\"/>\n       <use xlink:href=\"#STIXGeneral-Regular-38\" x=\"49.999985\"/>\n      </g>\n     </g>\n    </g>\n    <g id=\"text_19\">\n     <!-- $S$ -->\n     <g transform=\"translate(18.1275 148.9) rotate(-90) scale(0.16 -0.16)\">\n      <defs>\n       <path id=\"STIXGeneral-Italic-53\" d=\"M 3251 4269 \nL 2995 2989 \nL 2880 3008 \nQ 2880 3539 2720 3795 \nQ 2560 4051 2118 4051 \nQ 1786 4051 1594 3881 \nQ 1402 3712 1402 3411 \nQ 1402 3168 1504 3005 \nQ 1606 2842 2035 2413 \nQ 2464 1978 2611 1715 \nQ 2758 1453 2758 1133 \nQ 2758 589 2390 237 \nQ 2022 -115 1466 -115 \nQ 1222 -115 800 32 \nQ 595 109 499 109 \nQ 288 109 224 -96 \nL 109 -96 \nL 326 1338 \nL 454 1325 \nQ 442 1267 442 1178 \nQ 442 710 701 409 \nQ 960 109 1363 109 \nQ 1734 109 1968 336 \nQ 2202 563 2202 928 \nQ 2202 1139 2118 1308 \nQ 2035 1478 1818 1715 \nL 1568 1984 \nQ 1549 2003 1459 2102 \nQ 1370 2202 1318 2253 \nQ 1030 2560 934 2755 \nQ 838 2950 838 3213 \nQ 838 3699 1168 3980 \nQ 1498 4262 1978 4262 \nQ 2310 4262 2522 4173 \nQ 2707 4102 2816 4102 \nQ 2925 4102 2982 4134 \nQ 3040 4166 3104 4269 \nL 3251 4269 \nz\n\" transform=\"scale(0.015625)\"/>\n      </defs>\n      <use xlink:href=\"#STIXGeneral-Italic-53\" transform=\"translate(0 0.296875)\"/>\n     </g>\n    </g>\n   </g>\n  </g>\n </g>\n <defs>\n  <clipPath id=\"p5bc57f2aeb\">\n   <rect x=\"45\" y=\"13.68\" width=\"354.24\" height=\"262.44\"/>\n  </clipPath>\n </defs>\n</svg>\n"
          },
          "metadata": {}
        }
      ]
    },
    {
      "cell_type": "code",
      "source": [],
      "metadata": {
        "id": "NdsnR8Aac0ms"
      },
      "execution_count": null,
      "outputs": []
    }
  ]
}